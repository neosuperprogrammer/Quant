{
 "cells": [
  {
   "cell_type": "code",
   "execution_count": 1,
   "metadata": {},
   "outputs": [],
   "source": [
    "# -*- coding: utf-8 -*-\n",
    "import pandas as pd\n",
    "import numpy as np\n",
    "import requests\n",
    "import bs4\n",
    "import time\n",
    "import matplotlib.pyplot as plt\n",
    "import neo_quant as neo"
   ]
  },
  {
   "cell_type": "code",
   "execution_count": 2,
   "metadata": {},
   "outputs": [],
   "source": [
    "pd.options.display.max_rows = 60\n",
    "%matplotlib inline"
   ]
  },
  {
   "cell_type": "code",
   "execution_count": 3,
   "metadata": {},
   "outputs": [],
   "source": [
    "companies = neo.get_company_info(0)\n",
    "companies = neo.company_apply_a_prefix(companies)"
   ]
  },
  {
   "cell_type": "code",
   "execution_count": 9,
   "metadata": {},
   "outputs": [],
   "source": [
    "firm_code = neo.get_company_code(companies, '삼성전자')"
   ]
  },
  {
   "cell_type": "code",
   "execution_count": null,
   "metadata": {},
   "outputs": [],
   "source": [
    "# firm_code = 'A005930'\n",
    "fs_url = 'https://comp.fnguide.com/SVO2/asp/SVD_Finance.asp?pGB=1&cID=&MenuYn=Y&ReportGB=D&NewMenuID=103&stkGb=701&gicode=' + firm_code\n",
    "fs_page = requests.get(fs_url)\n",
    "fs_tables = pd.read_html(fs_page.text)\n",
    "\n",
    "temp_df = fs_tables[0]\n",
    "temp_df = temp_df.set_index(temp_df.columns[0])\n",
    "# temp_df = temp_df[temp_df.columns[:4]]\n",
    "# temp_df = temp_df.loc[['매출액', '영업이익', '당기순이익']]\n",
    "\n",
    "temp_df2 = fs_tables[2]\n",
    "temp_df2 = temp_df2.set_index(temp_df2.columns[0])\n",
    "# temp_df2 = temp_df2.loc[['자산', '부채', '자본']]\n",
    "\n",
    "temp_df3 = fs_tables[4]\n",
    "temp_df3 = temp_df3.set_index(temp_df3.columns[0])\n",
    "# temp_df3 = temp_df3.loc[['영업활동으로인한현금흐름']]\n",
    "\n",
    "fs_df = pd.concat([temp_df, temp_df2, temp_df3])\n"
   ]
  },
  {
   "cell_type": "code",
   "execution_count": 15,
   "metadata": {},
   "outputs": [],
   "source": [
    "fr_url = 'https://comp.fnguide.com/SVO2/asp/SVD_FinanceRatio.asp?pGB=1&cID=&MenuYn=Y&ReportGB=D&NewMenuID=104&stkGb=701&gicode=' + firm_code\n",
    "fr_page = requests.get(fr_url)\n",
    "fr_tables = pd.read_html(fr_page.text)\n",
    "\n",
    "fr_df = fr_tables[0]\n",
    "fr_df = fr_df.set_index(fr_df.columns[0])\n",
    "# temp_df = temp_df.loc[['유동비율계산에 참여한 계정 펼치기',\n",
    "#                        '부채비율계산에 참여한 계정 펼치기',\n",
    "#                        '영업이익증가율계산에 참여한 계정 펼치기',\n",
    "#                        'ROA계산에 참여한 계정 펼치기',\n",
    "#                        'ROIC계산에 참여한 계정 펼치기']]\n",
    "# temp_df.index = ['유동비율', '부채비율', '영업이익률', 'ROA', 'ROIC']\n"
   ]
  },
  {
   "cell_type": "code",
   "execution_count": 17,
   "metadata": {},
   "outputs": [],
   "source": [
    "invest_url = 'https://comp.fnguide.com/SVO2/asp/SVD_Invest.asp?pGB=1&cID=&MenuYn=Y&ReportGB=D&NewMenuID=105&stkGb=701&gicode=' + firm_code\n",
    "invest_page = requests.get(invest_url)\n",
    "invest_tables = pd.read_html(invest_page.text)\n",
    "iv_df = invest_tables[1]\n",
    "\n",
    "iv_df = iv_df.set_index(iv_df.columns[0])\n",
    "# temp_df = temp_df.loc[['PER계산에 참여한 계정 펼치기',\n",
    "#                    'PCR계산에 참여한 계정 펼치기',\n",
    "#                    'PSR계산에 참여한 계정 펼치기',\n",
    "#                    'PBR계산에 참여한 계정 펼치기',\n",
    "#                   '총현금흐름']]\n",
    "# temp_df.index = ['PER', 'PCR', 'PSR', 'PBR', '총현금흐름']"
   ]
  },
  {
   "cell_type": "code",
   "execution_count": 26,
   "metadata": {},
   "outputs": [
    {
     "data": {
      "text/plain": [
       "2015/12    2198\n",
       "2016/12    2735\n",
       "2017/12    5421\n",
       "2018/12    6024\n",
       "2019/06    1498\n",
       "Name: EPS계산에 참여한 계정 펼치기(원), dtype: object"
      ]
     },
     "execution_count": 26,
     "metadata": {},
     "output_type": "execute_result"
    }
   ],
   "source": [
    "iv_df.loc['EPS계산에 참여한 계정 펼치기(원)']"
   ]
  },
  {
   "cell_type": "code",
   "execution_count": 30,
   "metadata": {},
   "outputs": [
    {
     "data": {
      "text/html": [
       "<div>\n",
       "<style scoped>\n",
       "    .dataframe tbody tr th:only-of-type {\n",
       "        vertical-align: middle;\n",
       "    }\n",
       "\n",
       "    .dataframe tbody tr th {\n",
       "        vertical-align: top;\n",
       "    }\n",
       "\n",
       "    .dataframe thead th {\n",
       "        text-align: right;\n",
       "    }\n",
       "</style>\n",
       "<table border=\"1\" class=\"dataframe\">\n",
       "  <thead>\n",
       "    <tr style=\"text-align: right;\">\n",
       "      <th></th>\n",
       "      <th>2016/12</th>\n",
       "      <th>2017/12</th>\n",
       "      <th>2018/12</th>\n",
       "      <th>2019/06</th>\n",
       "      <th>전년동기</th>\n",
       "      <th>전년동기(%)</th>\n",
       "    </tr>\n",
       "    <tr>\n",
       "      <th>IFRS(연결)</th>\n",
       "      <th></th>\n",
       "      <th></th>\n",
       "      <th></th>\n",
       "      <th></th>\n",
       "      <th></th>\n",
       "      <th></th>\n",
       "    </tr>\n",
       "  </thead>\n",
       "  <tbody>\n",
       "    <tr>\n",
       "      <th>영업이익</th>\n",
       "      <td>292407.0</td>\n",
       "      <td>536450.0</td>\n",
       "      <td>588867.0</td>\n",
       "      <td>128303.0</td>\n",
       "      <td>305112.0</td>\n",
       "      <td>-57.9</td>\n",
       "    </tr>\n",
       "    <tr>\n",
       "      <th>당기순이익</th>\n",
       "      <td>227261.0</td>\n",
       "      <td>421867.0</td>\n",
       "      <td>443449.0</td>\n",
       "      <td>102242.0</td>\n",
       "      <td>227320.0</td>\n",
       "      <td>-55.0</td>\n",
       "    </tr>\n",
       "  </tbody>\n",
       "</table>\n",
       "</div>"
      ],
      "text/plain": [
       "           2016/12   2017/12   2018/12   2019/06      전년동기  전년동기(%)\n",
       "IFRS(연결)                                                           \n",
       "영업이익      292407.0  536450.0  588867.0  128303.0  305112.0    -57.9\n",
       "당기순이익     227261.0  421867.0  443449.0  102242.0  227320.0    -55.0"
      ]
     },
     "execution_count": 30,
     "metadata": {},
     "output_type": "execute_result"
    }
   ],
   "source": [
    "fs_df.loc[['영업이익','당기순이익']]"
   ]
  },
  {
   "cell_type": "code",
   "execution_count": 22,
   "metadata": {},
   "outputs": [
    {
     "data": {
      "text/plain": [
       "기업명                 삼성전자\n",
       "구분                   코스피\n",
       "액면가(원)               100\n",
       "상장주식수(주)      5969782550\n",
       "자본금(원)      897513820000\n",
       "Name: A005930, dtype: object"
      ]
     },
     "execution_count": 22,
     "metadata": {},
     "output_type": "execute_result"
    }
   ],
   "source": [
    "companies.loc[firm_code]"
   ]
  },
  {
   "cell_type": "code",
   "execution_count": 31,
   "metadata": {},
   "outputs": [],
   "source": [
    "from IPython.display import HTML\n",
    "pd.set_option('display.max_colwidth', -1)"
   ]
  },
  {
   "cell_type": "code",
   "execution_count": 35,
   "metadata": {},
   "outputs": [],
   "source": [
    "price_path = r'data/price_data.xlsx'\n",
    "price_df = pd.read_excel(price_path)\n",
    "price_df = price_df.set_index(price_df.columns[0])"
   ]
  },
  {
   "cell_type": "code",
   "execution_count": 37,
   "metadata": {},
   "outputs": [],
   "source": [
    "def get_maximum_profit_df(price_df):\n",
    "    last_price = price_df.iloc[-1]\n",
    "    first_price = price_df['2016/10'].iloc[0]\n",
    "    price_diff_df = pd.DataFrame({last_price.name:last_price, first_price.name:first_price})\n",
    "    price_diff_df.index = 'A' + price_diff_df.index\n",
    "    price_diff_df['diff'] = price_diff_df[last_price.name] - price_diff_df[first_price.name]\n",
    "    price_diff_df = price_diff_df[price_diff_df[last_price.name] > 5000]\n",
    "    price_diff_df = price_diff_df[price_diff_df['diff'] > 0]\n",
    "    # price_diff_df['ratio'] = price_diff_df['diff'] / price_diff_df[first_price.name]\n",
    "    price_diff_df['ratio'] = price_diff_df[last_price.name] / price_diff_df[first_price.name]\n",
    "    price_diff_df = price_diff_df.sort_values(by='ratio', ascending=False)\n",
    "    # price_diff_df = add_company_info(price_diff_df, companies)\n",
    "    # price_diff_df = get_kospi_list(price_diff_df)\n",
    "    price_diff_df['fs_info'] = price_diff_df.index\n",
    "    price_diff_df['fs_info'] = price_diff_df['fs_info'].apply(lambda x: '<a href=\"https://comp.fnguide.com/SVO2/asp/SVD_Finance.asp?pGB=1&cID=&MenuYn=Y&ReportGB=D&NewMenuID=103&stkGb=701&gicode={0}\" target=\"_blank\">fs</a>'.format(x))\n",
    "    price_diff_df['fr_info'] = price_diff_df.index\n",
    "    price_diff_df['fr_info'] = price_diff_df['fr_info'].apply(lambda x: '<a href=\"https://comp.fnguide.com/SVO2/asp/SVD_FinanceRatio.asp?pGB=1&cID=&MenuYn=Y&ReportGB=D&NewMenuID=104&stkGb=701&gicode={0}\" target=\"_blank\">fr</a>'.format(x))\n",
    "    price_diff_df['iv_info'] = price_diff_df.index\n",
    "    price_diff_df['iv_info'] = price_diff_df['iv_info'].apply(lambda x: '<a href=\"https://comp.fnguide.com/SVO2/asp/SVD_Invest.asp?pGB=1&cID=&MenuYn=Y&ReportGB=D&NewMenuID=105&stkGb=701&gicode={0}\" target=\"_blank\">iv</a>'.format(x))\n",
    "    return HTML(price_diff_df.to_html(escape=False))\n"
   ]
  },
  {
   "cell_type": "code",
   "execution_count": 52,
   "metadata": {},
   "outputs": [
    {
     "data": {
      "text/html": [
       "<table border=\"1\" class=\"dataframe\">\n",
       "  <thead>\n",
       "    <tr style=\"text-align: right;\">\n",
       "      <th></th>\n",
       "      <th>price</th>\n",
       "      <th>fs_info</th>\n",
       "      <th>fr_info</th>\n",
       "      <th>iv_info</th>\n",
       "    </tr>\n",
       "  </thead>\n",
       "  <tbody>\n",
       "    <tr>\n",
       "      <th>GS</th>\n",
       "      <td>49850</td>\n",
       "      <td><a href=\"https://comp.fnguide.com/SVO2/asp/SVD_Finance.asp?pGB=1&cID=&MenuYn=Y&ReportGB=D&NewMenuID=103&stkGb=701&gicode=GS\" target=\"_blank\">fs</a></td>\n",
       "      <td><a href=\"https://comp.fnguide.com/SVO2/asp/SVD_FinanceRatio.asp?pGB=1&cID=&MenuYn=Y&ReportGB=D&NewMenuID=104&stkGb=701&gicode=GS\" target=\"_blank\">fr</a></td>\n",
       "      <td><a href=\"https://comp.fnguide.com/SVO2/asp/SVD_Invest.asp?pGB=1&cID=&MenuYn=Y&ReportGB=D&NewMenuID=105&stkGb=701&gicode=GS\" target=\"_blank\">iv</a></td>\n",
       "    </tr>\n",
       "  </tbody>\n",
       "</table>"
      ],
      "text/plain": [
       "<IPython.core.display.HTML object>"
      ]
     },
     "execution_count": 52,
     "metadata": {},
     "output_type": "execute_result"
    }
   ],
   "source": [
    "firm_name = 'GS'\n",
    "firm_code = neo.get_company_code(companies, firm_name)\n",
    "firm_code = firm_code.replace('A','')\n",
    "last_price = price_df[firm_code].iloc[-1]\n",
    "firm_df = pd.DataFrame({'price':[last_price]}, index=[firm_name])\n",
    "firm_df\n",
    "# price_diff_df.index = 'A' + price_diff_df.index\n",
    "# price_diff_df['diff'] = price_diff_df[last_price.name] - price_diff_df[first_price.name]\n",
    "# price_diff_df = price_diff_df[price_diff_df[last_price.name] > 5000]\n",
    "# price_diff_df = price_diff_df[price_diff_df['diff'] > 0]\n",
    "# # price_diff_df['ratio'] = price_diff_df['diff'] / price_diff_df[first_price.name]\n",
    "# price_diff_df['ratio'] = price_diff_df[last_price.name] / price_diff_df[first_price.name]\n",
    "# price_diff_df = price_diff_df.sort_values(by='ratio', ascending=False)\n",
    "# # price_diff_df = add_company_info(price_diff_df, companies)\n",
    "# # price_diff_df = get_kospi_list(price_diff_df)\n",
    "firm_df['fs_info'] = firm_df.index\n",
    "firm_df['fs_info'] = firm_df['fs_info'].apply(lambda x: '<a href=\"https://comp.fnguide.com/SVO2/asp/SVD_Finance.asp?pGB=1&cID=&MenuYn=Y&ReportGB=D&NewMenuID=103&stkGb=701&gicode={0}\" target=\"_blank\">fs</a>'.format(x))\n",
    "firm_df['fr_info'] = firm_df.index\n",
    "firm_df['fr_info'] = firm_df['fr_info'].apply(lambda x: '<a href=\"https://comp.fnguide.com/SVO2/asp/SVD_FinanceRatio.asp?pGB=1&cID=&MenuYn=Y&ReportGB=D&NewMenuID=104&stkGb=701&gicode={0}\" target=\"_blank\">fr</a>'.format(x))\n",
    "firm_df['iv_info'] = firm_df.index\n",
    "firm_df['iv_info'] = firm_df['iv_info'].apply(lambda x: '<a href=\"https://comp.fnguide.com/SVO2/asp/SVD_Invest.asp?pGB=1&cID=&MenuYn=Y&ReportGB=D&NewMenuID=105&stkGb=701&gicode={0}\" target=\"_blank\">iv</a>'.format(x))\n",
    "HTML(firm_df.to_html(escape=False))"
   ]
  },
  {
   "cell_type": "code",
   "execution_count": 54,
   "metadata": {},
   "outputs": [
    {
     "data": {
      "text/html": [
       "<table border=\"1\" class=\"dataframe\">\n",
       "  <thead>\n",
       "    <tr style=\"text-align: right;\">\n",
       "      <th></th>\n",
       "      <th>price</th>\n",
       "      <th>fs_info</th>\n",
       "      <th>fr_info</th>\n",
       "      <th>iv_info</th>\n",
       "    </tr>\n",
       "  </thead>\n",
       "  <tbody>\n",
       "    <tr>\n",
       "      <th>GS</th>\n",
       "      <td>49850</td>\n",
       "      <td><a href=\"https://comp.fnguide.com/SVO2/asp/SVD_Finance.asp?pGB=1&cID=&MenuYn=Y&ReportGB=D&NewMenuID=103&stkGb=701&gicode=GS\" target=\"_blank\">fs</a></td>\n",
       "      <td><a href=\"https://comp.fnguide.com/SVO2/asp/SVD_FinanceRatio.asp?pGB=1&cID=&MenuYn=Y&ReportGB=D&NewMenuID=104&stkGb=701&gicode=GS\" target=\"_blank\">fr</a></td>\n",
       "      <td><a href=\"https://comp.fnguide.com/SVO2/asp/SVD_Invest.asp?pGB=1&cID=&MenuYn=Y&ReportGB=D&NewMenuID=105&stkGb=701&gicode=GS\" target=\"_blank\">iv</a></td>\n",
       "    </tr>\n",
       "  </tbody>\n",
       "</table>"
      ],
      "text/plain": [
       "<IPython.core.display.HTML object>"
      ]
     },
     "execution_count": 54,
     "metadata": {},
     "output_type": "execute_result"
    }
   ],
   "source": [
    "def get_company_info(company_df, price_df, firm_name):\n",
    "    firm_code = neo.get_company_code(companies, firm_name)\n",
    "    firm_code = firm_code.replace('A','')\n",
    "    last_price = price_df[firm_code].iloc[-1]\n",
    "    firm_df = pd.DataFrame({'price':[last_price]}, index=[firm_name])\n",
    "    firm_df['fs_info'] = firm_df.index\n",
    "    firm_df['fs_info'] = firm_df['fs_info'].apply(lambda x: '<a href=\"https://comp.fnguide.com/SVO2/asp/SVD_Finance.asp?pGB=1&cID=&MenuYn=Y&ReportGB=D&NewMenuID=103&stkGb=701&gicode={0}\" target=\"_blank\">fs</a>'.format(x))\n",
    "    firm_df['fr_info'] = firm_df.index\n",
    "    firm_df['fr_info'] = firm_df['fr_info'].apply(lambda x: '<a href=\"https://comp.fnguide.com/SVO2/asp/SVD_FinanceRatio.asp?pGB=1&cID=&MenuYn=Y&ReportGB=D&NewMenuID=104&stkGb=701&gicode={0}\" target=\"_blank\">fr</a>'.format(x))\n",
    "    firm_df['iv_info'] = firm_df.index\n",
    "    firm_df['iv_info'] = firm_df['iv_info'].apply(lambda x: '<a href=\"https://comp.fnguide.com/SVO2/asp/SVD_Invest.asp?pGB=1&cID=&MenuYn=Y&ReportGB=D&NewMenuID=105&stkGb=701&gicode={0}\" target=\"_blank\">iv</a>'.format(x))\n",
    "    return HTML(firm_df.to_html(escape=False))\n",
    "\n",
    "get_company_info(companies, price_df, 'GS')"
   ]
  },
  {
   "cell_type": "code",
   "execution_count": 83,
   "metadata": {},
   "outputs": [
    {
     "data": {
      "text/html": [
       "<table border=\"1\" class=\"dataframe\">\n",
       "  <thead>\n",
       "    <tr style=\"text-align: right;\">\n",
       "      <th></th>\n",
       "      <th>기업명</th>\n",
       "      <th>구분</th>\n",
       "      <th>액면가(원)</th>\n",
       "      <th>상장주식수(주)</th>\n",
       "      <th>자본금(원)</th>\n",
       "      <th>code</th>\n",
       "      <th>fs_info</th>\n",
       "      <th>fr_info</th>\n",
       "      <th>iv_info</th>\n",
       "    </tr>\n",
       "  </thead>\n",
       "  <tbody>\n",
       "    <tr>\n",
       "      <th>GS</th>\n",
       "      <td>GS</td>\n",
       "      <td>코스피</td>\n",
       "      <td>5000</td>\n",
       "      <td>92915378</td>\n",
       "      <td>473501020000</td>\n",
       "      <td>A078930</td>\n",
       "      <td><a href=\"https://comp.fnguide.com/SVO2/asp/SVD_Finance.asp?pGB=1&cID=&MenuYn=Y&ReportGB=D&NewMenuID=103&stkGb=701&gicode=GS\" target=\"_blank\">fs</a></td>\n",
       "      <td><a href=\"https://comp.fnguide.com/SVO2/asp/SVD_FinanceRatio.asp?pGB=1&cID=&MenuYn=Y&ReportGB=D&NewMenuID=104&stkGb=701&gicode=GS\" target=\"_blank\">fr</a></td>\n",
       "      <td><a href=\"https://comp.fnguide.com/SVO2/asp/SVD_Invest.asp?pGB=1&cID=&MenuYn=Y&ReportGB=D&NewMenuID=105&stkGb=701&gicode=GS\" target=\"_blank\">iv</a></td>\n",
       "    </tr>\n",
       "  </tbody>\n",
       "</table>"
      ],
      "text/plain": [
       "<IPython.core.display.HTML object>"
      ]
     },
     "execution_count": 83,
     "metadata": {},
     "output_type": "execute_result"
    }
   ],
   "source": [
    "firm_name = 'GS'\n",
    "firm_code = neo.get_company_code(companies, firm_name)\n",
    "firm_info = companies.loc[firm_code]\n",
    "firm_info = firm_info.to_frame(name=firm_name)\n",
    "firm_info = firm_info.T\n",
    "# firm_info\n",
    "# pd.concat(firm_info)\n",
    "firm_df = firm_info.join(pd.DataFrame({'code':[firm_code]}, index=[firm_name]))\n",
    "firm_df['fs_info'] = firm_df.index\n",
    "firm_df['fs_info'] = firm_df['fs_info'].apply(lambda x: '<a href=\"https://comp.fnguide.com/SVO2/asp/SVD_Finance.asp?pGB=1&cID=&MenuYn=Y&ReportGB=D&NewMenuID=103&stkGb=701&gicode={0}\" target=\"_blank\">fs</a>'.format(x))\n",
    "firm_df['fr_info'] = firm_df.index\n",
    "firm_df['fr_info'] = firm_df['fr_info'].apply(lambda x: '<a href=\"https://comp.fnguide.com/SVO2/asp/SVD_FinanceRatio.asp?pGB=1&cID=&MenuYn=Y&ReportGB=D&NewMenuID=104&stkGb=701&gicode={0}\" target=\"_blank\">fr</a>'.format(x))\n",
    "firm_df['iv_info'] = firm_df.index\n",
    "firm_df['iv_info'] = firm_df['iv_info'].apply(lambda x: '<a href=\"https://comp.fnguide.com/SVO2/asp/SVD_Invest.asp?pGB=1&cID=&MenuYn=Y&ReportGB=D&NewMenuID=105&stkGb=701&gicode={0}\" target=\"_blank\">iv</a>'.format(x))\n",
    "HTML(firm_df.to_html(escape=False))\n",
    "# firm_info = firm_info['code'] = [firm_code]\n",
    "# firm_code = firm_code.replace('A','')\n",
    "# last_price = price_df[firm_code].iloc[-1]\n",
    "# firm_df = firm_info['price'] = [last_price]\n",
    "\n",
    "# firm_df = pd.DataFrame({firm_name, firm_info})"
   ]
  },
  {
   "cell_type": "code",
   "execution_count": 84,
   "metadata": {},
   "outputs": [
    {
     "data": {
      "text/html": [
       "<table border=\"1\" class=\"dataframe\">\n",
       "  <thead>\n",
       "    <tr style=\"text-align: right;\">\n",
       "      <th></th>\n",
       "      <th>기업명</th>\n",
       "      <th>구분</th>\n",
       "      <th>액면가(원)</th>\n",
       "      <th>상장주식수(주)</th>\n",
       "      <th>자본금(원)</th>\n",
       "      <th>code</th>\n",
       "      <th>fs_info</th>\n",
       "      <th>fr_info</th>\n",
       "      <th>iv_info</th>\n",
       "    </tr>\n",
       "  </thead>\n",
       "  <tbody>\n",
       "    <tr>\n",
       "      <th>GS</th>\n",
       "      <td>GS</td>\n",
       "      <td>코스피</td>\n",
       "      <td>5000</td>\n",
       "      <td>92915378</td>\n",
       "      <td>473501020000</td>\n",
       "      <td>A078930</td>\n",
       "      <td><a href=\"https://comp.fnguide.com/SVO2/asp/SVD_Finance.asp?pGB=1&cID=&MenuYn=Y&ReportGB=D&NewMenuID=103&stkGb=701&gicode=GS\" target=\"_blank\">fs</a></td>\n",
       "      <td><a href=\"https://comp.fnguide.com/SVO2/asp/SVD_FinanceRatio.asp?pGB=1&cID=&MenuYn=Y&ReportGB=D&NewMenuID=104&stkGb=701&gicode=GS\" target=\"_blank\">fr</a></td>\n",
       "      <td><a href=\"https://comp.fnguide.com/SVO2/asp/SVD_Invest.asp?pGB=1&cID=&MenuYn=Y&ReportGB=D&NewMenuID=105&stkGb=701&gicode=GS\" target=\"_blank\">iv</a></td>\n",
       "    </tr>\n",
       "  </tbody>\n",
       "</table>"
      ],
      "text/plain": [
       "<IPython.core.display.HTML object>"
      ]
     },
     "execution_count": 84,
     "metadata": {},
     "output_type": "execute_result"
    }
   ],
   "source": [
    "# firm_name = 'GS'\n",
    "def get_company_info(company_df, price_df, firm_name):\n",
    "    firm_code = get_company_code(companies, firm_name)\n",
    "    firm_info = companies.loc[firm_code]\n",
    "    firm_info = firm_info.to_frame(name=firm_name)\n",
    "    firm_info = firm_info.T\n",
    "    # firm_info\n",
    "    # pd.concat(firm_info)\n",
    "    firm_df = firm_info.join(pd.DataFrame({'code':[firm_code]}, index=[firm_name]))\n",
    "    firm_df['fs_info'] = firm_df.index\n",
    "    firm_df['fs_info'] = firm_df['fs_info'].apply(lambda x: '<a href=\"https://comp.fnguide.com/SVO2/asp/SVD_Finance.asp?pGB=1&cID=&MenuYn=Y&ReportGB=D&NewMenuID=103&stkGb=701&gicode={0}\" target=\"_blank\">fs</a>'.format(x))\n",
    "    firm_df['fr_info'] = firm_df.index\n",
    "    firm_df['fr_info'] = firm_df['fr_info'].apply(lambda x: '<a href=\"https://comp.fnguide.com/SVO2/asp/SVD_FinanceRatio.asp?pGB=1&cID=&MenuYn=Y&ReportGB=D&NewMenuID=104&stkGb=701&gicode={0}\" target=\"_blank\">fr</a>'.format(x))\n",
    "    firm_df['iv_info'] = firm_df.index\n",
    "    firm_df['iv_info'] = firm_df['iv_info'].apply(lambda x: '<a href=\"https://comp.fnguide.com/SVO2/asp/SVD_Invest.asp?pGB=1&cID=&MenuYn=Y&ReportGB=D&NewMenuID=105&stkGb=701&gicode={0}\" target=\"_blank\">iv</a>'.format(x))\n",
    "    return HTML(firm_df.to_html(escape=False))\n",
    "# firm_info = firm_info['code'] = [firm_code]\n",
    "# firm_code = firm_code.replace('A','')\n",
    "# last_price = price_df[firm_code].iloc[-1]\n",
    "# firm_df = firm_info['price'] = [last_price]\n",
    "\n",
    "# firm_df = pd.DataFrame({firm_name, firm_info})\n",
    "get_company_info(companies, price_df, 'GS')"
   ]
  }
 ],
 "metadata": {
  "kernelspec": {
   "display_name": "Python 3",
   "language": "python",
   "name": "python3"
  },
  "language_info": {
   "codemirror_mode": {
    "name": "ipython",
    "version": 3
   },
   "file_extension": ".py",
   "mimetype": "text/x-python",
   "name": "python",
   "nbconvert_exporter": "python",
   "pygments_lexer": "ipython3",
   "version": "3.7.3"
  }
 },
 "nbformat": 4,
 "nbformat_minor": 2
}
