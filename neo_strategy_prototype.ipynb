{
 "cells": [
  {
   "cell_type": "code",
   "execution_count": 1,
   "metadata": {},
   "outputs": [],
   "source": [
    "# !open ."
   ]
  },
  {
   "cell_type": "code",
   "execution_count": null,
   "metadata": {},
   "outputs": [],
   "source": [
    "%load py_neo_quant_backbone.py"
   ]
  },
  {
   "cell_type": "code",
   "execution_count": null,
   "metadata": {},
   "outputs": [],
   "source": [
    "%load py_neo_quant_basic.py"
   ]
  },
  {
   "cell_type": "code",
   "execution_count": null,
   "metadata": {},
   "outputs": [],
   "source": [
    "%load py_neo_quant_fnguide.py"
   ]
  },
  {
   "cell_type": "code",
   "execution_count": null,
   "metadata": {},
   "outputs": [],
   "source": [
    "%load py_neo_quant_backtest.py"
   ]
  },
  {
   "cell_type": "code",
   "execution_count": null,
   "metadata": {},
   "outputs": [],
   "source": [
    "companies, fs_df, fr_df, iv_df, prices = load_all_data_for_backtest()"
   ]
  },
  {
   "cell_type": "code",
   "execution_count": null,
   "metadata": {},
   "outputs": [],
   "source": [
    "price_df = prices\n",
    "start_date = '2008-6'\n",
    "strategy_date = get_strategy_date(start_date)\n",
    "initial_money = 100000000"
   ]
  },
  {
   "cell_type": "code",
   "execution_count": null,
   "metadata": {},
   "outputs": [],
   "source": [
    "companies = get_company_df_from_total_capital(companies, 0.6, start_date)\n",
    "fs_df = fs_df.loc[companies.index]\n",
    "fr_df = fr_df.loc[companies.index]\n",
    "iv_df = iv_df.loc[companies.index]"
   ]
  },
  {
   "cell_type": "code",
   "execution_count": null,
   "metadata": {},
   "outputs": [],
   "source": [
    "pd.options.display.max_rows = 60\n",
    "pd.options.display.max_columns = 20\n",
    "# pd.options.display.max_rows = 6000\n",
    "# pd.set_option('display.max_columns', 500)"
   ]
  },
  {
   "cell_type": "code",
   "execution_count": null,
   "metadata": {},
   "outputs": [],
   "source": [
    "def get_low_per_kospi_firm_list(start_date):\n",
    "    start_date = str(start_date)\n",
    "    strategy_date = get_strategy_date(start_date)\n",
    "    per = low_per(strategy_date)\n",
    "    new_firm_list = get_code_list_has_price(per.index, price_df, start_date)\n",
    "    per = per.loc[new_firm_list]\n",
    "    per = add_price_info(per)\n",
    "    per = add_company_info(per)\n",
    "    per = get_kospi_list(per)\n",
    "\n",
    "    temp_df = pd.DataFrame({'price':price_df.loc[start_date][per.index]})\n",
    "    temp_index = temp_df[temp_df['price'] > 5000].index\n",
    "    per = per.loc[temp_index]\n",
    "\n",
    "    return per.index\n",
    "\n",
    "def get_low_per_firm_list(start_date, price_df, num):\n",
    "    start_date = str(start_date)\n",
    "    strategy_date = get_strategy_date(start_date)\n",
    "    firm_list = low_per(strategy_date).index\n",
    "    return get_code_list_has_price(firm_list, price_df, start_date)[:num]\n",
    "\n",
    "def get_low_per_porfolio(start_date):\n",
    "    firm_list = get_low_per_firm_list(start_date, price_df, None)\n",
    "    return firm_list\n",
    "\n",
    "def get_high_roa_firm_list(start_date, price_df, num):\n",
    "    start_date = str(start_date)\n",
    "    strategy_date = get_strategy_date(start_date)\n",
    "    firm_list = high_roa(fr_df, strategy_date, None).index\n",
    "    return get_code_list_has_price(firm_list, price_df, start_date)[:num]\n",
    "\n",
    "def get_high_roa_porfolio(start_date):\n",
    "    firm_list = get_high_roa_firm_list(start_date, price_df, None)\n",
    "    return firm_list\n",
    "\n",
    "def get_qp_portfolio(start_date):\n",
    "    start_date = str(start_date)\n",
    "    strategy_date = get_strategy_date(start_date)\n",
    "    qp_list = qp_formula(strategy_date)\n",
    "    return qp_list.index"
   ]
  },
  {
   "cell_type": "code",
   "execution_count": null,
   "metadata": {},
   "outputs": [],
   "source": [
    "max_profit = 0.5\n",
    "max_holding_days=365\n",
    "total_pf_df = get_portfolio_backtest_df(get_qp_portfolio, start_date, price_df, 20, initial_money, max_profit, max_holding_days)\n",
    "bt1 = get_backtest_result_from_pf(total_pf_df, price_df)\n",
    "\n",
    "max_profit = 0.5\n",
    "max_holding_days=365\n",
    "total_pf_df = get_portfolio_backtest_df(get_low_per_porfolio, start_date, price_df, 20, initial_money, max_profit, max_holding_days)\n",
    "bt2 = get_backtest_result_from_pf(total_pf_df, price_df)\n",
    "\n",
    "\n",
    "# max_profit = 0.5\n",
    "# max_holding_days=365/2\n",
    "# total_pf_df = get_portfolio_backtest_df(get_low_per_porfolio, start_date, price_df, 20, initial_money, max_profit, max_holding_days)\n",
    "# bt2 = get_backtest_result_from_pf(total_pf_df, price_df)\n",
    "\n",
    "# max_profit = 0.5\n",
    "# max_holding_days=365*2\n",
    "# total_pf_df = get_portfolio_backtest_df(get_high_roa_porfolio, start_date, price_df, 20, initial_money, max_profit, max_holding_days)\n",
    "# bt3 = get_backtest_result_from_pf(total_pf_df, price_df)\n",
    "\n",
    "# max_profit = 0.5\n",
    "# max_holding_days=365/2\n",
    "# total_pf_df = get_portfolio_backtest_df(get_high_roa_porfolio, start_date, price_df, 20, initial_money, max_profit, max_holding_days)\n",
    "# bt4 = get_backtest_result_from_pf(total_pf_df, price_df)\n",
    "\n",
    "# total_pf_df = get_portfolio_backtest_df(get_low_per_kospi_firm_list, start_date, price_df, 20, initial_money, max_profit, max_holding_days)\n",
    "# bt5 = get_backtest_result_from_pf(total_pf_df, price_df)\n"
   ]
  },
  {
   "cell_type": "code",
   "execution_count": null,
   "metadata": {},
   "outputs": [],
   "source": [
    "my = backtest_with_code_list(my_portfolio_code_list, start_date, None)\n"
   ]
  },
  {
   "cell_type": "code",
   "execution_count": null,
   "metadata": {},
   "outputs": [],
   "source": [
    "kospi_df = prices[['KOSPI']][start_date:]\n",
    "kospi_df = kospi_df.fillna(method='bfill')\n",
    "kospi_df['total_change_rate'] = kospi_df/kospi_df.iloc[0]-1\n",
    "\n",
    "kosdaq_df = prices[['KOSDAQ']][start_date:]\n",
    "kosdaq_df = kosdaq_df.fillna(method='bfill')\n",
    "kosdaq_df['total_change_rate'] = kosdaq_df/kosdaq_df.iloc[0]-1"
   ]
  },
  {
   "cell_type": "code",
   "execution_count": null,
   "metadata": {},
   "outputs": [],
   "source": [
    "plt.rc('font', size=10)\n",
    "plt.figure(figsize=(20, 12))\n",
    "plt.plot(bt1.index, bt1['total_change_rate'], label='bt1')\n",
    "plt.plot(bt2.index, bt2['total_change_rate'], label='bt2')\n",
    "plt.plot(my.index, my['total_change_rate'], label='my portfolio')\n",
    "plt.plot(kospi_df.index, kospi_df['total_change_rate'], label='kospi', color='red',linewidth=0.5, linestyle='dashed')\n",
    "plt.plot(kosdaq_df.index, kosdaq_df['total_change_rate'], label='kosdaq', color='blue',linewidth=0.5, linestyle='dashed')\n",
    "plt.title('backtest')\n",
    "plt.xlabel(\"duration\")\n",
    "plt.ylabel(\"profit\")\n",
    "plt.legend(loc='upper right')\n",
    "plt.grid()\n",
    "plt.show()"
   ]
  }
 ],
 "metadata": {
  "kernelspec": {
   "display_name": "Python 3",
   "language": "python",
   "name": "python3"
  },
  "language_info": {
   "codemirror_mode": {
    "name": "ipython",
    "version": 3
   },
   "file_extension": ".py",
   "mimetype": "text/x-python",
   "name": "python",
   "nbconvert_exporter": "python",
   "pygments_lexer": "ipython3",
   "version": "3.7.3"
  }
 },
 "nbformat": 4,
 "nbformat_minor": 2
}
