{
 "cells": [
  {
   "cell_type": "code",
   "execution_count": 6,
   "metadata": {},
   "outputs": [],
   "source": [
    "# !open ."
   ]
  },
  {
   "cell_type": "code",
   "execution_count": 7,
   "metadata": {},
   "outputs": [],
   "source": [
    "# %load py_neo_quant_backbone.py\n",
    "# %load py_neo_quant_backbone.py\n",
    "# !open .\n",
    "import pandas as pd\n",
    "import numpy as np\n",
    "import requests\n",
    "import bs4\n",
    "import time\n",
    "import datetime\n",
    "import matplotlib.pyplot as plt\n",
    "from dateutil import parser\n",
    "from matplotlib import font_manager, rc\n",
    "from IPython.display import HTML\n",
    "pd.set_option('display.max_colwidth', -1)\n",
    "rc('font', family='AppleGothic')\n",
    "plt.rcParams['axes.unicode_minus'] = False\n",
    "# pd.options.display.max_rows = 60\n",
    "# %matplotlib inline\n",
    "\n",
    "\n",
    "\n",
    "def make_code(x):\n",
    "    x = str(x)\n",
    "    code = '0' * (6-len(x)) + x\n",
    "    if not code.startswith('A'):\n",
    "        code = 'A' + code\n",
    "    return code\n",
    "\n",
    "\n",
    "def make_code2(x):\n",
    "    x = str(x)\n",
    "    return '0' * (6-len(x)) + x\n",
    "\n",
    "# def get_all_company_info():\n",
    "#     kospi = pd.read_excel('data/kospi.xls')\n",
    "#     kosdaq = pd.read_excel('data/kosdaq.xls')\n",
    "#     kospi['구분'] = '코스피'\n",
    "#     kosdaq['구분'] = '코스닥'\n",
    "#     companies = pd.concat([kospi, kosdaq])\n",
    "#     companies = companies[['구분','종목코드','기업명']]\n",
    "# #     companies['종목코드'] = companies['종목코드'].apply(modifyCompanyCode)\n",
    "#     companies = companies.reset_index()\n",
    "#     return companies\n",
    "\n",
    "def company_apply_a_prefix(companies):\n",
    "    old_index = pd.Series(companies.index)\n",
    "    new_index = old_index.map(make_code)\n",
    "    return companies.set_index(new_index)\n",
    "\n",
    "def company_apply_no_prefix(companies):\n",
    "    old_index = pd.Series(companies.index)\n",
    "    new_index = old_index.map(make_code2)\n",
    "    return companies.set_index(new_index)\n",
    "\n",
    "def remove_a_from_company_code(company_df):\n",
    "    code_list = []\n",
    "    for code in company_df.index:\n",
    "        code = code.replace('A','')\n",
    "        code_list.append(code)\n",
    "    return company_df.set_index(pd.Series(code_list))\n",
    "\n",
    "def _get_firm_list_existing_in_price_df(firm_list, price_df):\n",
    "    new_firm_list = []\n",
    "    for code in firm_list:\n",
    "        if code in price_df.columns:\n",
    "            new_firm_list.append(code)\n",
    "    return new_firm_list\n",
    "\n",
    "def get_company_data(min_price=0):\n",
    "    kospi = pd.read_excel('data/kospi.xls')\n",
    "    kosdaq = pd.read_excel('data/kosdaq.xls')\n",
    "    kospi['구분'] = '코스피'\n",
    "    kosdaq['구분'] = '코스닥'\n",
    "    companies = pd.concat([kospi, kosdaq], sort=False)\n",
    "    companies = companies[['종목코드','기업명','구분','업종코드','업종','액면가(원)','상장주식수(주)', '자본금(원)']]\n",
    "    companies['상장주식수(주)'] = companies['상장주식수(주)'].str.replace(',','').astype(int)\n",
    "    companies['자본금(원)'] = companies['자본금(원)'].str.replace(',','').astype(int)\n",
    "    companies['액면가(원)'] = companies['액면가(원)'].str.replace(',','').astype(float)\n",
    "    companies = companies[companies['액면가(원)'] >= min_price]\n",
    "    companies['액면가(원)'] = companies['액면가(원)'].astype(int)\n",
    "    companies = companies.set_index('종목코드')\n",
    "    companies = company_apply_a_prefix(companies)\n",
    "    return companies\n",
    "\n",
    "def get_price_data():\n",
    "    price_path = r'data/price_data_2013.xlsx'\n",
    "    price_df = pd.read_excel(price_path)\n",
    "    price_df = price_df.set_index(price_df.columns[0])\n",
    "#     price_df.columns = 'A' + price_df.columns \n",
    "    return price_df\n",
    "\n",
    "def get_fs_data():\n",
    "    fs_path = r'data/fs_data.xlsx'\n",
    "    return get_finance_data(fs_path)\n",
    "\n",
    "def get_fr_data():\n",
    "    fr_path = r'data/fr_data.xlsx'\n",
    "    return get_finance_data(fr_path)\n",
    "\n",
    "def get_invest_data():\n",
    "    invest_path = r'data/invest_data.xlsx'\n",
    "    return get_finance_data(invest_path)\n",
    "\n",
    "def get_company_df_from_total_capital(company_df, pct, start_date = None):\n",
    "    company_df = add_price_info(company_df, start_date)\n",
    "    company_df['시가총액'] = company_df['상장주식수(주)'] * company_df['price']\n",
    "    return company_df.sort_values(by='시가총액', ascending=False)[:int(len(company_df) * pct)]\n",
    "\n",
    "def load_all_data():\n",
    "    companies = get_company_data()\n",
    "    fs_df = get_fs_data()\n",
    "    fr_df = get_fr_data()\n",
    "    iv_df = get_invest_data()\n",
    "    prices = get_price_data()\n",
    "    return companies, fs_df, fr_df, iv_df, prices \n",
    "\n",
    "# 액면가 1000원 이상 회사 리스트 가져와서 코드앞에 A 붙이기\n",
    "# companies = get_company_info(1000)\n",
    "# companies = apply_a_type_code(companies)\n",
    "\n",
    "def filter_company(st_df, companies):\n",
    "    new_company_list = []\n",
    "    for num, code in enumerate(st_df.index):\n",
    "        if code in companies.index:\n",
    "            new_company_list.append(code)\n",
    "\n",
    "    return st_df.loc[new_company_list]\n",
    "\n",
    "# def _get_price_over_list(company_code_list, price_df, check_date=None, min_price = 0):\n",
    "#     if check_date == None:\n",
    "#         temp_df = pd.DataFrame({'price':price_df[company_code_list].iloc[-1]})\n",
    "#     else:\n",
    "#         temp_df = pd.DataFrame({'price':price_df[company_code_list].loc[-1]})\n",
    "#     temp_df = temp_df[temp_df['price'] > min_price]\n",
    "#     return temp_df.index\n",
    "\n",
    "def _get_price_over_code_list(company_code_list, price_df, min_price = 0, check_month=None):\n",
    "    if check_month == None:\n",
    "        temp_df = pd.DataFrame({'price':price_df[company_code_list].iloc[-1]})\n",
    "    else:\n",
    "        if check_month in price_df.index:\n",
    "            temp_df = pd.DataFrame({'price':price_df[company_code_list].loc[check_month].iloc[-1]})\n",
    "        else:\n",
    "            temp_df = pd.DataFrame({'price':price_df[company_code_list].iloc[-1]})\n",
    "    temp_df = temp_df[temp_df['price'] > min_price]\n",
    "    return temp_df.index\n",
    "\n",
    "def _add_company_info(st_df, company_df):\n",
    "    return pd.merge(st_df, company_df, how='inner', left_index=True, right_index=True)\n",
    "\n",
    "def _add_price_info(st_df, price_df, start_date = None):\n",
    "    if start_date == None:\n",
    "        temp_df = pd.DataFrame({'price':price_df[st_df.index].iloc[-1]}) \n",
    "    else:\n",
    "        temp_df = pd.DataFrame({'price':price_df[st_df.index].loc[start_date:].iloc[0]}) \n",
    "    return pd.merge(st_df, temp_df, how='left', left_index=True, right_index=True)\n",
    "\n",
    "# str 이나 list 를 전달한다.\n",
    "def _get_company_code_list(company_name_list, company_df):\n",
    "    code_list = []\n",
    "    if isinstance(company_name_list, str):\n",
    "        company_name_list = [company_name_list]\n",
    "    for company_name in company_name_list:\n",
    "        for num, name in enumerate(company_df['기업명']):\n",
    "            if company_name in name:\n",
    "                code_list.append({'code':company_df.index[num], 'name':name})\n",
    "    return code_list\n",
    "\n",
    "def _get_company_code(name, company_df):\n",
    "    return company_df[company_df['기업명']==name].index[0]\n",
    "\n",
    "def _get_company_name(company_code, company_df):\n",
    "    return company_df.loc[company_code]['기업명']\n",
    "\n",
    "def _show_chart(company_code, price_df, company_df, start_date, end_date, show_market_price=False, name=None):\n",
    "    if isinstance(company_code, str):\n",
    "        strategy_price = price_df[company_code][start_date:end_date]\n",
    "        strategy_df = pd.DataFrame({'price':strategy_price})\n",
    "        \n",
    "        plt.figure(figsize=(10, 6))\n",
    "        if name == None:\n",
    "            name = _get_company_name(company_code, company_df)\n",
    "        strategy_df['price'].plot(label=name)\n",
    "        \n",
    "        if show_market_price == True:\n",
    "            if is_kospi(company_code):\n",
    "                market_name = 'KOSPI'\n",
    "            else:\n",
    "                market_name = 'KOSDAQ'\n",
    "            market_price = price_df[market_name][start_date:end_date]\n",
    "            market_df = pd.DataFrame({'price':market_price})\n",
    "            ratio = strategy_df.iloc[0]/market_df.iloc[0]\n",
    "            market_df = market_df * ratio\n",
    "            market_df['price'].plot(label=market_name)\n",
    "        \n",
    "        plt.legend()\n",
    "        plt.show() \n",
    "    else:\n",
    "        plt.rc('font', size=20)\n",
    "        company_code_list = company_code\n",
    "        strategy_price = price_df[company_code_list][start_date:end_date]\n",
    "        num_row = int((len(company_code_list)-1)/2)+1\n",
    "        plt.figure(figsize=(10*4, (num_row)*5))\n",
    "        plt.subplots_adjust(wspace=0.2, hspace=0.4)\n",
    "        for i, code in enumerate(company_code_list):\n",
    "            ax = plt.subplot(num_row, 4, i+1)\n",
    "            name = _get_company_name(code, company_df)\n",
    "            ax.title.set_text(name + ' (' + str(code) + ')')\n",
    "            ax.plot(strategy_price.index, strategy_price[code], color='black')\n",
    "\n",
    "            if show_market_price == True:\n",
    "                if is_kospi(code):\n",
    "                    market_name = 'KOSPI'\n",
    "                else:\n",
    "                    market_name = 'KOSDAQ'\n",
    "                market_price = price_df[market_name][start_date:end_date]\n",
    "                market_df = pd.DataFrame({'price':market_price})\n",
    "                ratio = strategy_price[code].iloc[0]/market_df.iloc[0]\n",
    "                market_df = market_df * ratio\n",
    "                ax.plot(market_df.index, market_df['price'], color='red')\n",
    "        plt.show()\n",
    "\n",
    "    \n",
    "# def _show_chart_by_name(company_name, company_df, price_df, year_duration=1):\n",
    "#     company_list = _get_company_code_list(company_name, company_df)\n",
    "#     if len(company_list) == 0:\n",
    "#         print('no company with name' + company_name)\n",
    "#         return\n",
    "#     code = company_list[0]['code']\n",
    "#     name = company_list[0]['name']\n",
    "#     _show_chart(code, company_df, price_df, year_duration, name) \n",
    "    \n",
    "def _show_monthly_chart(company_code, company_df, price_df, year_duration=1):\n",
    "    end_date = price_df.iloc[-1].name\n",
    "    start_date = end_date - datetime.timedelta(days=year_duration * 365)\n",
    "\n",
    "    start_year = start_date.strftime(\"%Y\")\n",
    "    end_year= end_date.strftime(\"%Y\")\n",
    "    \n",
    "    first = True\n",
    "    for year in range(int(start_year), int(end_year)+1):\n",
    "        for month in range(1,13):\n",
    "            year_month = \"%d-%02d\" % (year, month)\n",
    "#             print(year_month)\n",
    "            if year_month in price_df.index:\n",
    "                temp_df = pd.DataFrame(price_df.loc[year_month].iloc[0]).T\n",
    "                if first:\n",
    "                    month_df = temp_df\n",
    "                    first = False\n",
    "                else:\n",
    "                    month_df = pd.concat([month_df, temp_df], sort=False)\n",
    "\n",
    "    strategy_df = pd.DataFrame({'price':month_df[company_code]})\n",
    "    ma3 = strategy_df['price'].rolling(window=3).mean()\n",
    "    strategy_df['ma3'] = ma3\n",
    "\n",
    "#     plt.figure(figsize=(10, 6))\n",
    "    name = _get_company_name(company_code, company_df)\n",
    "#     strategy_df['price'].plot(label=name)\n",
    "\n",
    "    plt.figure(figsize=(20, 12))\n",
    "    \n",
    "    plt.plot(strategy_df.index, strategy_df['price'], color='darkblue',linewidth=3.0)\n",
    "    plt.plot(strategy_df.index, strategy_df['ma3'], color='red', label='ma3')\n",
    "\n",
    "    plt.title(name)\n",
    "    plt.xlabel(\"duration\")\n",
    "    plt.ylabel(\"price\")\n",
    "    plt.legend(loc='upper right')\n",
    "    plt.grid()\n",
    "    plt.show() \n",
    "\n",
    "    \n",
    "def _show_multi_chart(company_code_list, price_df, company_df, start_date, end_date):\n",
    "#     end_date = price_df.iloc[-1].name\n",
    "#     start_date = end_date - datetime.timedelta(days=year_duration * 365)\n",
    "    strategy_price = price_df[company_code_list][start_date:end_date]\n",
    "    num_row = int((len(company_code_list)-1)/2)+1\n",
    "    plt.figure(figsize=(10, num_row*5))\n",
    "    for i, code in enumerate(company_code_list):\n",
    "        ax = plt.subplot(num_row, 4, i+1)\n",
    "        name = _get_company_name(code, company_df)\n",
    "        ax.title.set_text(name)\n",
    "        ax.plot(strategy_price.index, strategy_price[code])\n",
    "    plt.show()\n",
    "\n",
    "\n",
    "def _show_detail_chart(company_code, company_df, price_df, year_duration=1, name=None):\n",
    "    end_date = price_df.iloc[-1].name\n",
    "    start_date = end_date - datetime.timedelta(days=year_duration * 365)\n",
    "    strategy_price = price_df[company_code][start_date:end_date]\n",
    "    strategy_df = pd.DataFrame({'price':strategy_price})\n",
    "#     strategy_df\n",
    "    ma5 = strategy_df['price'].rolling(window=5).mean()\n",
    "    strategy_df['ma5'] = ma5\n",
    "    ma10 = strategy_df['price'].rolling(window=10).mean()\n",
    "    strategy_df['ma10'] = ma10\n",
    "    ma20 = strategy_df['price'].rolling(window=20).mean()\n",
    "    strategy_df['ma20'] = ma20\n",
    "    ma60 = strategy_df['price'].rolling(window=60).mean()\n",
    "    strategy_df['ma60'] = ma60\n",
    "    ma120 = strategy_df['price'].rolling(window=120).mean()\n",
    "    strategy_df['ma120'] = ma120\n",
    "    plt.figure(figsize=(20, 12))\n",
    "    # strategy_df['price'].plot(label=name)\n",
    "    if name == None:\n",
    "        name = company_code\n",
    "    plt.plot(strategy_df.index, strategy_df['price'], color='darkblue',linewidth=3.0)\n",
    "    plt.plot(strategy_df.index, strategy_df['ma5'], color='red', label='ma5')\n",
    "    plt.plot(strategy_df.index, strategy_df['ma10'], color='blue', label='ma10')\n",
    "    plt.plot(strategy_df.index, strategy_df['ma20'], color='green', label='ma20')\n",
    "    plt.plot(strategy_df.index, strategy_df['ma60'], color='cyan', label='ma60')\n",
    "    plt.plot(strategy_df.index, strategy_df['ma120'], color='yellow', label='ma120')\n",
    "    plt.title(name)\n",
    "    plt.xlabel(\"duration\")\n",
    "    plt.ylabel(\"price\")\n",
    "    plt.legend(loc='upper right')\n",
    "    plt.grid()\n",
    "    plt.show() \n",
    "    \n",
    "\n",
    "\n",
    "def _show_detail_chart_by_name(company_name, company_df, price_df, year_duration=1):\n",
    "    company_list = _get_company_code_list(company_name, company_df)\n",
    "    if len(company_list) == 0:\n",
    "        print('no company with name' + company_name)\n",
    "        return\n",
    "    code = company_list[0]['code']\n",
    "    name = company_list[0]['name']\n",
    "    _show_detail_chart(code, company_df, price_df, year_duration, name)    \n",
    "    \n",
    "    \n",
    "def _get_maximum_earning_rate(price_df, company_df, year_duration=1, min_price=0, min_profit=0, type='all'):\n",
    "    end_date = price_df.iloc[-1].name\n",
    "    start_date = end_date - datetime.timedelta(days=year_duration * 365)\n",
    "    \n",
    "    strategy_price = price_df[start_date:end_date]\n",
    "    strategy_price = strategy_price.fillna(method='bfill')\n",
    "    \n",
    "    last_price = strategy_price.iloc[-1]\n",
    "    first_price = strategy_price.iloc[0]\n",
    "    \n",
    "    price_diff_df = pd.DataFrame({first_price.name:first_price, last_price.name:last_price})\n",
    "    price_diff_df = price_diff_df[price_diff_df[last_price.name] > min_price]\n",
    "    \n",
    "    price_diff_df['diff'] = price_diff_df[last_price.name] - price_diff_df[first_price.name]\n",
    "#     price_diff_df = price_diff_df[price_diff_df['diff'] > 0]\n",
    "    \n",
    "    # price_diff_df['ratio'] = price_diff_df['diff'] / price_diff_df[first_price.name]\n",
    "    price_diff_df['ratio'] = ((price_diff_df[last_price.name] / price_diff_df[first_price.name]) - 1) * 100\n",
    "    price_diff_df['ratio'] = price_diff_df['ratio'].astype(int)\n",
    "    \n",
    "    price_diff_df = price_diff_df[price_diff_df['ratio'] > min_profit]\n",
    "    \n",
    "    price_diff_df = price_diff_df.sort_values(by='ratio', ascending=False)\n",
    "    \n",
    "    price_diff_df = _add_company_info(price_diff_df, company_df)\n",
    "    \n",
    "    if type == 'kospi':\n",
    "        price_diff_df = get_kospi_list(price_diff_df)\n",
    "    elif type == 'kosdaq':\n",
    "        price_diff_df = get_kosdaq_list(price_diff_df)\n",
    "        \n",
    "    return price_diff_df\n",
    "\n",
    "\n",
    "def _show_earning_chart(code_list, price_df, year_duration=1, initial_money=100000000):\n",
    "    end_date = price_df.iloc[-1].name\n",
    "    start_date = end_date - datetime.timedelta(days=year_duration * 365)\n",
    "    st_backtest = _backtest_with_code_list(code_list, price_df, start_date, end_date, initial_money)\n",
    "    plt.figure(figsize=(10, 6))\n",
    "    st_backtest['total_change_rate'].plot()\n",
    "    plt.show()\n",
    "    \n",
    "def _show_company_info(company_code_list, company_df, price_df):\n",
    "    firm_df = company_df.loc[company_code_list]\n",
    "    firm_df = _add_price_info(firm_df, price_df)\n",
    "    firm_df['fs_info'] = firm_df.index\n",
    "    firm_df['fs_info'] = firm_df['fs_info'].apply(lambda x: '<a href=\"https://comp.fnguide.com/SVO2/asp/SVD_Finance.asp?pGB=1&cID=&MenuYn=Y&ReportGB=D&NewMenuID=103&stkGb=701&gicode={0}\" target=\"_blank\">fs</a>'.format(x))\n",
    "    firm_df['fr_info'] = firm_df.index\n",
    "    firm_df['fr_info'] = firm_df['fr_info'].apply(lambda x: '<a href=\"https://comp.fnguide.com/SVO2/asp/SVD_FinanceRatio.asp?pGB=1&cID=&MenuYn=Y&ReportGB=D&NewMenuID=104&stkGb=701&gicode={0}\" target=\"_blank\">fr</a>'.format(x))\n",
    "    firm_df['iv_info'] = firm_df.index\n",
    "    firm_df['iv_info'] = firm_df['iv_info'].apply(lambda x: '<a href=\"https://comp.fnguide.com/SVO2/asp/SVD_Invest.asp?pGB=1&cID=&MenuYn=Y&ReportGB=D&NewMenuID=105&stkGb=701&gicode={0}\" target=\"_blank\">iv</a>'.format(x))\n",
    "    firm_df['chart'] = firm_df.index\n",
    "    firm_df['chart'] = firm_df['chart'].apply(lambda x: x.replace('A',''))\n",
    "    firm_df['chart'] = firm_df['chart'].apply(lambda x: '<a href=\"https://finance.naver.com/item/fchart.nhn?code={0}\" target=\"_blank\">chart</a>'.format(x))\n",
    "    return HTML(firm_df.to_html(escape=False))\n",
    "\n",
    "def _show_company_info_by_name(firm_name, company_df):\n",
    "    company_list = _get_company_code_list(firm_name, company_df)\n",
    "    if len(company_list) == 0:\n",
    "        print('no company with name' + company_name)\n",
    "        return\n",
    "#     company_list\n",
    "    code_list = []\n",
    "    for company in company_list:\n",
    "        code_list.append(company['code'])\n",
    "    return _show_company_info(code_list, companies)\n",
    "\n",
    "def _show_earning_rate(company_code_list, company_df, price_df, year_duration=1):\n",
    "    company_selected = companies.loc[company_code_list]\n",
    "\n",
    "    end_date = price_df.iloc[-1].name\n",
    "    start_date = end_date - datetime.timedelta(days=year_duration * 365)\n",
    "    \n",
    "    strategy_price = price_df[company_code_list][start_date:end_date]\n",
    "    strategy_price = strategy_price.dropna()\n",
    "    strategy_price = strategy_price.fillna(method='bfill')\n",
    "    last_price = strategy_price.iloc[-1]\n",
    "    first_price = strategy_price.iloc[0]\n",
    "\n",
    "    company_selected['profit'] = ((last_price/first_price - 1) * 100).astype(int)\n",
    "    company_selected['profit'] = company_selected['profit'].astype(str) + ' %'\n",
    "    return company_selected\n",
    "\n",
    "def _show_earning_rate_by_name(firm_name, company_df, price_df, year_duration=1):\n",
    "    company_list = _get_company_code_list(firm_name, company_df)\n",
    "    if len(company_list) == 0:\n",
    "        return \"No Company with name : \" + firm_name\n",
    "    \n",
    "    code_list = []\n",
    "    for company in company_list:\n",
    "        code_list.append(company['code'])\n",
    "\n",
    "    return _show_earning_rate(code_list, company_df, price_df, year_duration)\n",
    "\n",
    "\n",
    "def get_vaild_code_from_price_df(code_list, price_df):\n",
    "    new_code_list = []\n",
    "    for code in code_list:\n",
    "        if code in price_df.columns:\n",
    "            new_code_list.append(code)\n",
    "    return new_code_list        \n",
    "\n",
    "def _show_business_trend(company_df, price_df, year_duration=1):\n",
    "    end_date = price_df.iloc[-1].name\n",
    "    start_date = end_date - datetime.timedelta(days=year_duration * 365)\n",
    "\n",
    "    company_df['업종코드'] = company_df['업종코드'].astype(str)\n",
    "    company_df['업종구분'] = company_df['업종코드'] + ' (' + company_df['업종'] + ')'\n",
    "    all_busi = company_df['업종구분'].unique()\n",
    "    busi_list = []\n",
    "    for busi_name in all_busi:\n",
    "        temp_list = company_df[company_df['업종구분'] == busi_name]\n",
    "        busi_list.append({'name':busi_name + ' - ' + str(len(temp_list)),'list':temp_list.index})\n",
    "\n",
    "    for i, busi in enumerate(busi_list):\n",
    "        busi_name = busi['name']\n",
    "        busi_code_list = busi['list']\n",
    "        strategy_price = price_df[get_vaild_code_from_price_df(busi_code_list, price_df)][start_date:end_date]\n",
    "        strategy_price.fillna(method='bfill')\n",
    "        busi_earning = strategy_price.sum(axis=1)\n",
    "        temp_df = pd.DataFrame({busi_name:busi_earning})\n",
    "        if i == 0:\n",
    "            total_busi_earning = temp_df\n",
    "        else:\n",
    "            total_busi_earning = pd.merge(total_busi_earning, temp_df, how='outer', left_index=True, right_index=True)\n",
    "    num_row = int((len(total_busi_earning.columns)-1)/4)+1\n",
    "    plt.figure(figsize=(6*4, num_row*6))\n",
    "    for i, busi in enumerate(total_busi_earning.columns):\n",
    "        ax = plt.subplot(num_row, 4, i+1)\n",
    "        ax.title.set_text(busi)\n",
    "        ax.plot(total_busi_earning.index, total_busi_earning[busi])\n",
    "    plt.show()    \n",
    "    \n",
    "def get_company_list_from_business_code(busi_code, company_df):\n",
    "    return company_df[company_df['업종코드'] == busi_code].index\n",
    "\n",
    "\n",
    "\n",
    "\n",
    "\n",
    "def fetch_prices(compay_code_list, timeframe, count):\n",
    "    for num, code in enumerate(compay_code_list):\n",
    "        try:\n",
    "            print(num, code)\n",
    "            time.sleep(1)\n",
    "            try:\n",
    "                price_df = make_price_dataframe(code, timeframe, count)\n",
    "            except requests.exceptions.Timeout:\n",
    "                time.sleep(60)\n",
    "                price_df = make_price_dataframe(code, timeframe, count)\n",
    "            if num == 0 :\n",
    "                total_price = price_df\n",
    "            else:\n",
    "                total_price = pd.merge(total_price, price_df, how='outer', right_index=True, left_index=True)\n",
    "        except ValueError:\n",
    "            continue\n",
    "        except KeyError:\n",
    "            continue\n",
    "    return total_price\n",
    "\n",
    "\n",
    "\n",
    "\n",
    "\n",
    "# 기존 price dataframe 을 최신 가격으로 업데이트.\n",
    "# ex) prices_update = update_prices(companies, prices, '10') \n",
    "# 기존 price 와 신규 price 의 차이 비교\n",
    "# prices_update.merge(prices,indicator = True, left_index=True, right_index=True, how='outer').loc[lambda x : x['_merge']!='both']\n",
    "def update_origin_price_df(origin_price_df, code, count):\n",
    "    origin_prices = origin_price_df\n",
    "    price_df = make_price_dataframe(code, 'day', count)\n",
    "    price_df.index = pd.to_datetime(price_df.index)\n",
    "    price_df[code] = price_df[code].astype(float)\n",
    "    price_df_origin = pd.DataFrame({code:origin_prices[code]}) \n",
    "    new_price_df = pd.concat([price_df_origin, price_df], sort=False)\n",
    "    new_price_df = new_price_df.loc[~new_price_df.index.duplicated(keep='last')]\n",
    "    origin_prices = origin_prices.drop(code, axis=1)\n",
    "    origin_prices = pd.merge(origin_prices, new_price_df, left_index=True, right_index=True, how='outer')\n",
    "    return origin_prices\n",
    "    \n",
    "def update_prices(company_df, origin_price_df, count):\n",
    "    origin_prices = origin_price_df\n",
    "    for num, code in enumerate(company_df.index):\n",
    "        try:\n",
    "            print(num, code)\n",
    "            time.sleep(1)\n",
    "            try:\n",
    "                origin_prices = update_origin_price_df(origin_prices, code, count)\n",
    "            except requests.exceptions.Timeout:\n",
    "                time.sleep(60)\n",
    "                origin_prices = update_origin_price_df(origin_prices, code, count)\n",
    "        except ValueError:\n",
    "            continue\n",
    "        except KeyError:\n",
    "            continue\n",
    "    return origin_prices\n",
    "\n",
    "# [코드 3.15] 재무제표 데이터를 가져와 데이터프레임으로 만드는 함수 (CH3. 데이터 수집하기.ipynb)\n",
    "\n",
    "def make_fs_dataframe(firm_code):\n",
    "    fs_url = 'https://comp.fnguide.com/SVO2/asp/SVD_Finance.asp?pGB=1&cID=&MenuYn=Y&ReportGB=D&NewMenuID=103&stkGb=701&gicode=' + firm_code\n",
    "    fs_page = requests.get(fs_url)\n",
    "    fs_tables = pd.read_html(fs_page.text)\n",
    "    \n",
    "    temp_df = fs_tables[0]\n",
    "    temp_df = temp_df.set_index(temp_df.columns[0])\n",
    "    temp_df = temp_df[temp_df.columns[:4]]\n",
    "    temp_df = temp_df.loc[['매출액', '매출원가', '영업이익', '당기순이익', '매출총이익']]\n",
    "\n",
    "    temp_df2 = fs_tables[2]\n",
    "    temp_df2 = temp_df2.set_index(temp_df2.columns[0])\n",
    "    temp_df2 = temp_df2.loc[['자산', '부채', '자본']]\n",
    "\n",
    "    temp_df3 = fs_tables[4]\n",
    "    temp_df3 = temp_df3.set_index(temp_df3.columns[0])\n",
    "    temp_df3 = temp_df3.loc[['영업활동으로인한현금흐름']]\n",
    "\n",
    "    fs_df = pd.concat([temp_df, temp_df2, temp_df3], sort=False)\n",
    "    \n",
    "    return fs_df\n",
    "\n",
    "# [코드 3.19] 데이터프레임 형태 바꾸기 코드 함수화 (CH3. 데이터 수집하기.ipynb)\n",
    "\n",
    "def change_df(firm_code, dataframe):\n",
    "    for num, col in enumerate(dataframe.columns):\n",
    "        temp_df = pd.DataFrame({firm_code : dataframe[col]})\n",
    "        temp_df = temp_df.T\n",
    "        temp_df.columns = [[col]*len(dataframe), temp_df.columns]\n",
    "        if num == 0:\n",
    "            total_df = temp_df\n",
    "        else:\n",
    "            total_df = pd.merge(total_df, temp_df, how='outer', left_index=True, right_index=True)    \n",
    "    \n",
    "    return total_df\n",
    "\n",
    "# [코드 3.21] 재무 비율 데이터프레임을 만드는 함수 (CH3. 데이터 수집하기.ipynb)\n",
    "\n",
    "def make_fr_dataframe(firm_code):\n",
    "    fr_url = 'https://comp.fnguide.com/SVO2/asp/SVD_FinanceRatio.asp?pGB=1&cID=&MenuYn=Y&ReportGB=D&NewMenuID=104&stkGb=701&gicode=' + firm_code\n",
    "    fr_page = requests.get(fr_url)\n",
    "    fr_tables = pd.read_html(fr_page.text)\n",
    "    \n",
    "    temp_df = fr_tables[0]\n",
    "    temp_df = temp_df.set_index(temp_df.columns[0])\n",
    "    temp_df = temp_df.loc[['유동비율계산에 참여한 계정 펼치기',\n",
    "                           '부채비율계산에 참여한 계정 펼치기',\n",
    "                           '영업이익증가율계산에 참여한 계정 펼치기',\n",
    "                           'ROA계산에 참여한 계정 펼치기',\n",
    "                           'ROIC계산에 참여한 계정 펼치기']]\n",
    "    temp_df.index = ['유동비율', '부채비율', '영업이익률', 'ROA', 'ROIC']\n",
    "    return temp_df\n",
    "\n",
    "# [코드 3.23] 투자지표 데이터프레임을 만드는 함수 (CH3. 데이터 수집하기.ipynb)\n",
    "\n",
    "def make_invest_dataframe(firm_code):\n",
    "    invest_url = 'https://comp.fnguide.com/SVO2/asp/SVD_Invest.asp?pGB=1&cID=&MenuYn=Y&ReportGB=D&NewMenuID=105&stkGb=701&gicode=' + firm_code\n",
    "    invest_page = requests.get(invest_url)\n",
    "    invest_tables = pd.read_html(invest_page.text)\n",
    "    temp_df = invest_tables[1]\n",
    "    \n",
    "    temp_df = temp_df.set_index(temp_df.columns[0])\n",
    "    temp_df = temp_df.loc[['PER계산에 참여한 계정 펼치기',\n",
    "                       'PCR계산에 참여한 계정 펼치기',\n",
    "                       'PSR계산에 참여한 계정 펼치기',\n",
    "                       'PBR계산에 참여한 계정 펼치기',\n",
    "                      '총현금흐름']]\n",
    "    temp_df.index = ['PER', 'PCR', 'PSR', 'PBR', '총현금흐름']\n",
    "    return temp_df\n",
    "\n",
    "#  [코드 3.40] 가격을 가져와 데이터프레임 만드는 함수 (CH3. 데이터 수집하기 2.ipynb)\n",
    "\n",
    "def make_price_dataframe(company_code, timeframe, count):\n",
    "    request_code = company_code\n",
    "    if request_code.startswith('A'):\n",
    "        request_code = request_code.replace('A','')\n",
    "    url = 'https://fchart.stock.naver.com/sise.nhn?requestType=0'\n",
    "    price_url = url + '&symbol=' + request_code + '&timeframe=' + timeframe + '&count=' + str(count)\n",
    "    price_data = requests.get(price_url)\n",
    "    price_data_bs = bs4.BeautifulSoup(price_data.text, 'lxml')\n",
    "    item_list = price_data_bs.find_all('item')\n",
    "    \n",
    "    date_list = []\n",
    "    price_list = []\n",
    "    for item in item_list:\n",
    "        temp_data = item['data']\n",
    "        datas = temp_data.split('|')\n",
    "        date_list.append(datas[0])\n",
    "        price_list.append(datas[4])\n",
    "\n",
    "    price_df = pd.DataFrame({company_code:price_list}, index=date_list)\n",
    "    \n",
    "    return price_df\n",
    "\n",
    "def _add_market_price_info(price_df):\n",
    "    kosdaq_df = make_price_dataframe('KOSDAQ', 'day', '6000')\n",
    "    kosdaq_df.index = pd.to_datetime(kosdaq_df.index)\n",
    "    kosdaq_df = kosdaq_df[price_df.iloc[0].name:price_df.iloc[-1].name]\n",
    "    total_df = pd.merge(kosdaq_df, price_df, left_index=True, right_index=True, how='inner')\n",
    "\n",
    "    kospi_df = make_price_dataframe('KOSPI', 'day', '6000')\n",
    "    kospi_df.index = pd.to_datetime(kospi_df.index)\n",
    "    kospi_df = kospi_df[price_df.iloc[0].name:price_df.iloc[-1].name]\n",
    "    total_df = pd.merge(kospi_df, total_df, left_index=True, right_index=True, how='inner')\n",
    "    \n",
    "    return total_df\n",
    "\n",
    "\n",
    "#  [코드 4.6] 재무 데이터 전처리하는 함수 (CH4. 전략 구현하기.ipynb)\n",
    "\n",
    "def get_finance_data(path):\n",
    "    data_path = path\n",
    "    raw_data = pd.read_excel(data_path)\n",
    "    raw_data = raw_data.set_index(raw_data.columns[0])\n",
    "    big_col = list(raw_data.columns)\n",
    "    small_col = list(raw_data.iloc[0])\n",
    "    \n",
    "    new_big_col = []\n",
    "    for num, col in enumerate(big_col):\n",
    "        if 'Unnamed' in col:\n",
    "            new_big_col.append(new_big_col[num-1])\n",
    "        else:\n",
    "            new_big_col.append(big_col[num])\n",
    "            \n",
    "    raw_data.columns = [new_big_col, small_col]\n",
    "    clean_df = raw_data.loc[ raw_data.index.dropna() ]\n",
    "    \n",
    "    return clean_df\n",
    "\n",
    "def check_IFRS(x):\n",
    "    if x == 'N/A(IFRS)':\n",
    "        return np.NaN\n",
    "    else:\n",
    "        return x\n",
    "\n",
    "#  [코드 4.14] PER기준으로 오름차순으로 정렬하여 주는 함수 (CH4. 전략 구현하기.ipynb)\n",
    "\n",
    "def _low_per(invest_df, index_date, num):\n",
    "    invest_df[(index_date, 'PER')] = pd.to_numeric(invest_df[(index_date, 'PER')])\n",
    "    per_sorted = invest_df.sort_values(by=(index_date, 'PER'))\n",
    "    return per_sorted[index_date][:num]\n",
    "\n",
    "#  [코드 4.15] ROA기준으로 내림차순으로 정렬하여 주는 함수 (CH4. 전략 구현하기.ipynb)\n",
    "\n",
    "def high_roa(fr_df, index_date, num):\n",
    "    fr_df[(index_date, 'ROA')] = fr_df[(index_date, 'ROA')].apply(check_IFRS)\n",
    "    fr_df[(index_date, 'ROA')] = pd.to_numeric(fr_df[(index_date, 'ROA')] )\n",
    "    sorted_roa = fr_df.sort_values(by=(index_date, 'ROA'), ascending=False)\n",
    "    return sorted_roa[index_date][:num]\n",
    "\n",
    "def _low_pbr(invest_df, index_date, num):\n",
    "    invest_df[(index_date, 'PBR')] = pd.to_numeric(invest_df[(index_date, 'PBR')])\n",
    "    pbr_sorted = invest_df.sort_values(by=(index_date, 'PBR'))\n",
    "    return pbr_sorted[index_date][:num]\n",
    "\n",
    "def _high_gpa(fs_df, index_date, num):\n",
    "    gpa = fs_df[index_date]\n",
    "    gpa['GPA'] = gpa['매출총이익']/gpa['자산']\n",
    "    gpa_sorted = gpa.sort_values(by='GPA', ascending=False)\n",
    "    return gpa_sorted[:num]\n",
    "\n",
    "def low_value(st_df, value_name, index_date, num = None):\n",
    "    st_df[(index_date, value_name)] = pd.to_numeric(st_df[(index_date, value_name)])\n",
    "    st_df_sorted = st_df.sort_values(by=(index_date, value_name))\n",
    "    return st_df_sorted[index_date][:num]\n",
    "\n",
    "def high_value(st_df, value_name, index_date, num = None):\n",
    "    st_df[(index_date, value_name)] = pd.to_numeric(st_df[(index_date, value_name)])\n",
    "    st_df_sorted = st_df.sort_values(by=(index_date, value_name), ascending=False)\n",
    "    return st_df_sorted[index_date][:num]\n",
    "\n",
    "#  [코드 4.22] 마법공식 함수로 만들기 (CH4. 전략 구현하기.ipynb)\n",
    "\n",
    "def magic_formula(fr_df, invest_df, index_date, num):\n",
    "    per = low_per(invest_df, index_date, None)\n",
    "    roa = high_roa(fr_df, index_date, None)\n",
    "    per['per순위'] = per['PER'].rank()\n",
    "    roa['roa순위'] = roa['ROA'].rank(ascending=False)\n",
    "    magic = pd.merge(per, roa, how='outer', left_index=True, right_index=True)\n",
    "    magic['마법공식 순위'] = (magic['per순위'] + magic['roa순위']).rank().sort_values()\n",
    "    magic = magic.sort_values(by='마법공식 순위')\n",
    "    return magic[:num]\n",
    "\n",
    "#  [코드 4.23] 저평가 지수를 기준으로 정렬하여 순위 만들어 주는 함수 (CH4. 전략 구현하기.ipynb)\n",
    "\n",
    "def get_value_rank(invest_df, value_type, index_date, num):\n",
    "    invest_df[(index_date,  value_type)] = pd.to_numeric(invest_df[(index_date,  value_type)])\n",
    "    value_sorted = invest_df.sort_values(by=(index_date,  value_type))[index_date]\n",
    "    value_sorted[  value_type + '순위'] = value_sorted[value_type].rank()\n",
    "    return value_sorted[[value_type, value_type + '순위']][:num]\n",
    "\n",
    "#  [코드 4.25] 저평가 지표 조합 함수 (CH4. 전략 구현하기.ipynb)\n",
    "\n",
    "def make_value_combo(value_list, invest_df, index_date, num):\n",
    "    \n",
    "    for i, value in enumerate(value_list):\n",
    "        temp_df = get_value_rank(invest_df, value, index_date, None)\n",
    "        if i == 0:\n",
    "            value_combo_df = temp_df\n",
    "            rank_combo = temp_df[value + '순위']\n",
    "        else:\n",
    "            value_combo_df = pd.merge(value_combo_df, temp_df, how='outer', left_index=True, right_index=True)\n",
    "            rank_combo = rank_combo + temp_df[value + '순위']\n",
    "    \n",
    "    value_combo_df['종합순위'] = rank_combo.rank()\n",
    "    value_combo_df = value_combo_df.sort_values(by='종합순위')\n",
    "    \n",
    "    return value_combo_df[:num]\n",
    "\n",
    "#  [코드 4.29] F-score 함수(CH4. 전략 구현하기.ipynb)\n",
    "\n",
    "def get_fscore(fs_df, index_date, num):\n",
    "    fscore_df = fs_df[index_date]\n",
    "    fscore_df['당기순이익점수'] = fscore_df['당기순이익'] > 0\n",
    "    fscore_df['영업활동점수'] = fscore_df['영업활동으로인한현금흐름'] > 0\n",
    "    fscore_df['더큰영업활동점수'] = fscore_df['영업활동으로인한현금흐름'] > fscore_df['당기순이익']\n",
    "    fscore_df['종합점수'] = fscore_df[['당기순이익점수', '영업활동점수', '더큰영업활동점수']].sum(axis=1)\n",
    "    fscore_df = fscore_df[fscore_df['종합점수'] == 3]\n",
    "    return fscore_df[:num]\n",
    "\n",
    "#  [코드 4.34] 모멘텀 데이터프레임 만들기 함수화 (CH4. 전략 구현하기.ipynb)\n",
    "\n",
    "def get_momentum_rank(price_df, index_date, date_range, num):\n",
    "    momentum_df = pd.DataFrame(price_df.pct_change(date_range).loc[index_date])\n",
    "    momentum_df.columns = ['모멘텀']\n",
    "    momentum_df['모멘텀순위'] = momentum_df['모멘텀'].rank(ascending=False)\n",
    "    momentum_df = momentum_df.sort_values(by='모멘텀순위')\n",
    "    return momentum_df[:num]\n",
    "\n",
    "#  [코드 4.39] 저평가 + Fscore 함수화 (CH4. 전략 구현하기.ipynb)\n",
    "\n",
    "def get_value_quality(invest_df, fs_df, index_date, num):\n",
    "    value = make_value_combo(['PER', 'PBR', 'PSR', 'PCR'], invest_df, index_date, None)\n",
    "    quality = get_fscore(fs_df, index_date, None)\n",
    "    value_quality = pd.merge(value, quality, how='outer', left_index=True, right_index=True)\n",
    "    value_quality_filtered = value_quality[value_quality['종합점수'] == 3]\n",
    "    vq_df = value_quality_filtered.sort_values(by='종합순위')\n",
    "    return vq_df[:num]\n",
    "\n",
    "#  [코드 5.12] 백테스트 함수 버젼1 (Ch5. 백테스트.ipynb)\n",
    "\n",
    "\n",
    "def backtest_beta(price_df, strategy_df, start_date, end_date, initial_money):\n",
    "\n",
    "    code_list = []\n",
    "    for code in strategy_df.index:\n",
    "#         code_list.append(code.replace('A',''))\n",
    "        code_list.append(code)\n",
    "\n",
    "    strategy_price = price_df[code_list][start_date:end_date]\n",
    "    strategy_price = strategy_price.fillna(method='bfill')\n",
    "    \n",
    "    pf_stock_num = {}\n",
    "    stock_amount = 0\n",
    "    stock_pf = 0\n",
    "    each_money = initial_money / len(strategy_df)\n",
    "    for code in strategy_price.columns:\n",
    "        temp = int( each_money / strategy_price[code][0] )\n",
    "        pf_stock_num[code] = temp\n",
    "        stock_amount = stock_amount + temp * strategy_price[code][0]\n",
    "        stock_pf = stock_pf + strategy_price[code] * pf_stock_num[code]\n",
    "\n",
    "    cash_amount = initial_money - stock_amount\n",
    "\n",
    "    backtest_df = pd.DataFrame({'주식포트폴리오':stock_pf})\n",
    "    backtest_df['현금포트폴리오'] = [cash_amount] * len(backtest_df)\n",
    "    backtest_df['종합포트폴리오'] = backtest_df['주식포트폴리오'] + backtest_df['현금포트폴리오']\n",
    "    backtest_df['일변화율'] = backtest_df['종합포트폴리오'].pct_change()\n",
    "    backtest_df['총변화율'] = backtest_df['종합포트폴리오']/initial_money - 1\n",
    "    \n",
    "    return backtest_df\n",
    "\n",
    "# def backtest_with_code_list(price_df, code_list_to_test, start_date, end_date, initial_money):\n",
    "\n",
    "#     code_list = []\n",
    "#     for code in code_list_to_test:\n",
    "# #         code_list.append(code.replace('A',''))\n",
    "#         code_list.append(code)\n",
    "\n",
    "#     strategy_price = price_df[code_list][start_date:end_date]\n",
    "#     strategy_price = strategy_price.fillna(method='bfill')\n",
    "    \n",
    "#     pf_stock_num = {}\n",
    "#     stock_amount = 0\n",
    "#     stock_pf = 0\n",
    "#     each_money = initial_money / len(code_list)\n",
    "#     for code in strategy_price.columns:\n",
    "#         temp = int( each_money / strategy_price[code][0] )\n",
    "#         pf_stock_num[code] = temp\n",
    "#         stock_amount = stock_amount + temp * strategy_price[code][0]\n",
    "#         stock_pf = stock_pf + strategy_price[code] * pf_stock_num[code]\n",
    "\n",
    "#     cash_amount = initial_money - stock_amount\n",
    "\n",
    "#     backtest_df = pd.DataFrame({'주식포트폴리오':stock_pf})\n",
    "#     backtest_df['현금포트폴리오'] = [cash_amount] * len(backtest_df)\n",
    "#     backtest_df['종합포트폴리오'] = backtest_df['주식포트폴리오'] + backtest_df['현금포트폴리오']\n",
    "#     backtest_df['일변화율'] = backtest_df['종합포트폴리오'].pct_change()\n",
    "#     backtest_df['총변화율'] = backtest_df['종합포트폴리오']/initial_money - 1\n",
    "    \n",
    "#     return backtest_df\n",
    "\n",
    "def _backtest_with_code_list(code_list, price_df, start_date, end_date, initial_money):\n",
    "    if end_date == None:\n",
    "        end_date = end_date = prices.iloc[-1].name\n",
    "    strategy_price = price_df[code_list][start_date:end_date]\n",
    "    strategy_price = strategy_price.fillna(method='bfill')\n",
    "    strategy_price = strategy_price.dropna(axis=1)\n",
    "\n",
    "    pf_stock_num = {}\n",
    "    stock_amount = 0\n",
    "    stock_pf = 0\n",
    "    each_money = initial_money / len(code_list)\n",
    "    for code in strategy_price.columns:\n",
    "        temp = int( each_money / strategy_price[code][0] )\n",
    "        pf_stock_num[code] = temp\n",
    "        stock_amount = stock_amount + temp * strategy_price[code][0]\n",
    "        stock_pf = stock_pf + strategy_price[code] * pf_stock_num[code]\n",
    "\n",
    "    cash_amount = initial_money - stock_amount\n",
    "\n",
    "    backtest_df = pd.DataFrame({'stock_portfolio':stock_pf})\n",
    "    backtest_df['cash_portfolio'] = [cash_amount] * len(backtest_df)\n",
    "    backtest_df['total_portfolio'] = backtest_df['stock_portfolio'] + backtest_df['cash_portfolio']\n",
    "    backtest_df['day_change_rate'] = backtest_df['total_portfolio'].pct_change()\n",
    "    backtest_df['total_change_rate'] = backtest_df['total_portfolio']/initial_money - 1\n",
    "\n",
    "    return backtest_df\n",
    "\n",
    "#  [코드 5.16] 해당 날짜에 가격이 없으면 투자 관련 데이터에서 해당 종목 없애는 함수 (Ch5. 백테스트.ipynb)\n",
    "\n",
    "def select_code_by_price(price_df, data_df, start_date):\n",
    "    new_code_list = []\n",
    "    for code in price_df[start_date].iloc[0].dropna().index:\n",
    "        new_code_list.append(code)\n",
    "        \n",
    "    selected_df =  data_df.loc[new_code_list]\n",
    "    return selected_df\n",
    "\n",
    "# [코드 5.24] 백테스트 시작날짜가 주어지면 전략 기준 날짜를 계산하는 함수 (Ch5. 백테스트.ipynb)\n",
    "\n",
    "def get_strategy_date(start_date):\n",
    "    temp_year = int(start_date.split('-')[0])\n",
    "    temp_month = start_date.split('-')[1]\n",
    "    if temp_month in '1 2 3 4 5'.split(' '):\n",
    "        strategy_date = str(temp_year - 2) + '/12'\n",
    "    else:\n",
    "        strategy_date = str(temp_year - 1) + '/12'\n",
    "    return strategy_date\n",
    "\n",
    "\n",
    "# [코드 5.32] 리밸런싱 백테스트 함수화 (Ch5. 백테스트.ipynb)\n",
    "\n",
    "def backtest_re(strategy, start_date, end_date, initial_money, price_df, fr_df, fs_df, invest_df, num, value_type=None, value_list=None, date_range=None):\n",
    "    \n",
    "    start_year = int(start_date.split('-')[0])\n",
    "    end_year = int(end_date.split('-')[0])\n",
    "\n",
    "    total_df = 0\n",
    "    for temp in range(start_year, end_year):\n",
    "        this_term_start = str(temp) + '-' + start_date.split('-')[1]\n",
    "        this_term_end = str(temp+1) + '-' + start_date.split('-')[1]\n",
    "        strategy_date = get_strategy_date(this_term_start)\n",
    "        \n",
    "        if strategy.__name__ == 'high_roa':\n",
    "            st_df = strategy(select_code_by_price(price_df, fr_df, this_term_start), strategy_date, num)\n",
    "        elif strategy.__name__ == 'magic_formula':\n",
    "            st_df = strategy(select_code_by_price(price_df, invest_df, this_term_start), strategy_date, num)\n",
    "        elif strategy.__name__ == 'get_value_rank':\n",
    "            st_df = strategy(select_code_by_price(price_df, invest_df, this_term_start), value_type, strategy_date, num)\n",
    "        elif strategy.__name__ == 'make_value_combo':\n",
    "            st_df = strategy(value_list, select_code_by_price(price_df, invest_df, this_term_start), strategy_date, num)\n",
    "        elif strategy.__name__ == 'get_fscore':\n",
    "            st_df = strategy(select_code_by_price(price_df, fs_df, this_term_start), strategy_date, num)\n",
    "        elif strategy.__name__ == 'get_momentum_rank':\n",
    "            st_df = strategy(price_df, price_df[this_term_start].index[0] , date_range, num)\n",
    "        elif strategy.__name__ == 'get_value_quality':\n",
    "            st_df = strategy(select_code_by_price(price_df, invest_df, this_term_start), \n",
    "                             select_code_by_price(price_df, fs_df, this_term_start), strategy_date, num)\n",
    "        \n",
    "        backtest = backtest_beta(price_df, st_df, this_term_start, this_term_end, initial_money)\n",
    "        temp_end = backtest[this_term_end].index[0]\n",
    "        backtest = backtest[:temp_end]\n",
    "        initial_money =  backtest['종합포트폴리오'][-1]\n",
    "        if temp == start_year:\n",
    "            total_df = backtest\n",
    "        else:\n",
    "            total_df = pd.concat([total_df[:-1], backtest], sort=False)\n",
    "\n",
    "    total_df ['일변화율'] = total_df ['종합포트폴리오'].pct_change()\n",
    "    total_df ['총변화율'] = total_df ['종합포트폴리오']/ total_df ['종합포트폴리오'][0] - 1\n",
    "    \n",
    "    return total_df\n",
    "\n",
    "\n",
    "# [코드 5.40] MDD 함수화 (Ch5. 백테스트.ipynb)\n",
    "\n",
    "def get_mdd(back_test_df):\n",
    "    max_list = [0]\n",
    "    mdd_list = [0]\n",
    "\n",
    "    for i in back_test_df.index[1:]:\n",
    "        max_list.append(back_test_df['총변화율'][:i].max())\n",
    "        if max_list[-1] > max_list[-2]:\n",
    "            mdd_list.append(0)\n",
    "        else:\n",
    "            mdd_list.append(min(back_test_df['총변화율'][i] - max_list[-1], mdd_list[-1])   )\n",
    "\n",
    "    back_test_df['max'] = max_list\n",
    "    back_test_df['MDD'] = mdd_list\n",
    "    \n",
    "    return back_test_df\n",
    "\n",
    "\n",
    "\n",
    "# company_code = get_company_code('GS')\n",
    "# st_df = get_price_df(company_code, prices, 1)\n",
    "# st_df = get_monthly_price_df(company_code, prices, 1)\n",
    "# st_df = get_weekly_price_df(company_code, prices, 1)\n",
    "# st_df = add_moving_avererge(st_df, 5)\n",
    "# st_df = add_exponential_moving_average(st_df, 5)\n",
    "# st_df = add_weighted_moving_average(st_df, 5)\n",
    "# show_price_chart(st_df, 'GS')\n",
    "\n",
    "def weighted_mean(weightArray):\n",
    "    def inner(x):\n",
    "        return (weightArray*x).mean()\n",
    "    return inner\n",
    "\n",
    "def add_weighted_moving_average(st_df, n):\n",
    "    if 'price' not in st_df:\n",
    "        print('price column not exist')\n",
    "        return st_df\n",
    "    t = [v for v in np.arange(1, n+1)]\n",
    "    sumv = sum(t)/n\n",
    "    wts = np.array(t)/sumv\n",
    "    wMov = st_df['price'].rolling(n).apply(weighted_mean(wts), raw=True)\n",
    "    st_df['wMov' + str(n)] = wMov\n",
    "    return st_df\n",
    "\n",
    "def add_moving_average(st_df, n):\n",
    "    if 'price' not in st_df:\n",
    "        print('price column not exist')\n",
    "        return st_df\n",
    "    Mov = st_df['price'].rolling(window=n).mean()\n",
    "    st_df['Mov'+str(n)] = Mov\n",
    "    return st_df\n",
    "\n",
    "def add_exponential_moving_average(st_df, n):\n",
    "    if 'price' not in st_df:\n",
    "        print('price column not exist')\n",
    "        return st_df\n",
    "    eMov = st_df['price'].ewm(span=n).mean()\n",
    "    st_df['eMov'+str(n)] = eMov\n",
    "    return st_df\n",
    "\n",
    "\n",
    "def get_price_df(company_code, price_df, year_duration=1):\n",
    "    end_date = price_df.iloc[-1].name\n",
    "    start_date = end_date - datetime.timedelta(days=year_duration * 365)\n",
    "\n",
    "    strategy_price = price_df[company_code][start_date:end_date]\n",
    "    strategy_df = pd.DataFrame({'price':strategy_price})\n",
    "    return strategy_df\n",
    "\n",
    "def get_weekly_price_df(company_code, price_df, year_duration=1):\n",
    "    end_date = price_df.iloc[-1].name\n",
    "    start_date = end_date - datetime.timedelta(days=year_duration * 365)\n",
    "\n",
    "    strategy_price = price_df[company_code][start_date:end_date]\n",
    "    strategy_df = pd.DataFrame({'price':strategy_price})\n",
    "\n",
    "    first_week_day_list = []\n",
    "\n",
    "    prev_weekday_num = 5\n",
    "    for date in strategy_df.index:\n",
    "        weekday_num = date.weekday()\n",
    "        if weekday_num < prev_weekday_num:\n",
    "            first_week_day_list.append(date)\n",
    "        prev_weekday_num = weekday_num\n",
    "\n",
    "    weekly_price_df = strategy_df.loc[first_week_day_list]\n",
    "    weekly_price_df = pd.DataFrame({'price':weekly_price_df})\n",
    "\n",
    "    return weekly_price_df\n",
    "\n",
    "def get_monthly_price_df(company_code, price_df, year_duration=1):\n",
    "    end_date = price_df.iloc[-1].name\n",
    "    start_date = end_date - datetime.timedelta(days=year_duration * 365)\n",
    "\n",
    "    strategy_price = price_df[company_code][start_date:end_date]\n",
    "    strategy_df = pd.DataFrame({'price':strategy_price})\n",
    "\n",
    "    start_year = start_date.strftime(\"%Y\")\n",
    "    end_year= end_date.strftime(\"%Y\")\n",
    "\n",
    "    first = True\n",
    "    for year in range(int(start_year), int(end_year)+1):\n",
    "        for month in range(1,13):\n",
    "            year_month = \"%d-%02d\" % (year, month)\n",
    "            if year_month in strategy_df.index:\n",
    "                temp_df = pd.DataFrame(strategy_df.loc[year_month].iloc[0]).T\n",
    "                if first:\n",
    "                    month_df = temp_df\n",
    "                    first = False\n",
    "                else:\n",
    "                    month_df = pd.concat([month_df, temp_df], sort=False)\n",
    "    return month_df\n",
    "\n",
    "def get_yearly_price_df(company_code, price_df, year_duration=1):\n",
    "    end_date = price_df.iloc[-1].name\n",
    "    start_date = end_date - datetime.timedelta(days=year_duration * 365)\n",
    "\n",
    "    strategy_price = price_df[company_code][start_date:end_date]\n",
    "\n",
    "    start_year = start_date.strftime(\"%Y\")\n",
    "    end_year= end_date.strftime(\"%Y\")\n",
    "\n",
    "    first_year_day_list = []\n",
    "\n",
    "    for year in range(int(start_year), int(end_year)+1):\n",
    "        if str(year) in strategy_price.index:\n",
    "            first_day_of_year = strategy_price.loc[str(year)].index[0]\n",
    "            first_year_day_list.append(first_day_of_year)\n",
    "    first_year_day_list.append(end_date)\n",
    "    yearly_price_df = strategy_price.loc[first_year_day_list]\n",
    "    yearly_price_df = pd.DataFrame({'price':yearly_price_df})\n",
    "    return yearly_price_df\n",
    "\n",
    "def show_price_chart(st_df, name=None):\n",
    "    plt.figure(figsize=(40, 20))\n",
    "    plt.rcParams.update({'font.size': 22})\n",
    "    plt.plot(st_df.index, st_df['price'], linewidth=3.0)\n",
    "    for column in st_df.columns[1:len(st_df.columns)+1]:\n",
    "        plt.plot(st_df.index, st_df[column], label=column)\n",
    "    if name != None:\n",
    "        plt.title(name)\n",
    "    plt.xlabel(\"duration\")\n",
    "    plt.ylabel(\"price\")\n",
    "    plt.legend(loc='upper right')\n",
    "    # plt.grid()\n",
    "    plt.show()\n",
    "\n",
    "def show_general_chart(st_df, name_to_draw, label=None):\n",
    "    plt.figure(figsize=(40, 20))\n",
    "    plt.rcParams.update({'font.size': 22})\n",
    "    if label == None:\n",
    "        label = name_to_draw\n",
    "    plt.plot(st_df.index, st_df[name_to_draw], linewidth=3.0, label=label)\n",
    "    plt.xlabel(\"duration\")\n",
    "    plt.ylabel(name_to_draw)\n",
    "    plt.legend(loc='upper right')\n",
    "    # plt.grid()\n",
    "    plt.show()\n",
    "    \n",
    "\n",
    "\n",
    "\n",
    "\n",
    "\n",
    "\n",
    "\n",
    "\n",
    "\n",
    "\n",
    "\n",
    "\n",
    "\n",
    "\n",
    "\n",
    "\n",
    "\n",
    "\n",
    "\n",
    "\n",
    "\n",
    "\n",
    "\n",
    "\n"
   ]
  },
  {
   "cell_type": "code",
   "execution_count": 8,
   "metadata": {},
   "outputs": [],
   "source": [
    "# %load py_neo_quant_basic.py\n",
    "# %load py_neo_quant_basic.py\n",
    "import pandas as pd\n",
    "import numpy as np\n",
    "# import requests\n",
    "# import bs4\n",
    "# import time\n",
    "# import datetime\n",
    "# import matplotlib.pyplot as plt\n",
    "# from dateutil import parser\n",
    "# from matplotlib import font_manager, rc\n",
    "# from IPython.display import HTML\n",
    "# pd.set_option('display.max_colwidth', -1)\n",
    "\n",
    "rc('font', family='AppleGothic')\n",
    "plt.rcParams['axes.unicode_minus'] = False\n",
    "# pd.options.display.max_rows = 60\n",
    "# pd.set_option('display.max_columns', 500)\n",
    "# pd.set_option('display.width', 1000)\n",
    "%matplotlib inline\n",
    "\n",
    "my_portfolio = ['동국제강', '포스코','현대건설','GS건설','한국조선해양','OCI','미래에셋대우','삼성증권','삼성중공업','키움증권','LG화학']\n",
    "my_portfolio_code_list = ['A001230','A005490','A000720','A006360','A009540','A010060','A006800','A016360','A010140','A039490','A051910']\n",
    "\n",
    "# default loading\n",
    "# companies, fs_df, fr_df, iv_df, prices = load_all_data()\n",
    "\n",
    "########################## Basic API ################################\n",
    "\n",
    "def iterable(obj):\n",
    "    try:\n",
    "        iterator = iter(obj)\n",
    "    except TypeError:\n",
    "        return False\n",
    "    else:\n",
    "        return True\n",
    "\n",
    "\n",
    "def intersection(lst1, lst2): \n",
    "    lst3 = [value for value in lst1 if value in lst2] \n",
    "    return lst3 \n",
    "\n",
    "def is_kospi(company_code):\n",
    "    if company_code in companies.index:\n",
    "        return companies.loc[company_code]['구분'] == '코스피'\n",
    "    elif company_code == 'KOSPI':\n",
    "        return True\n",
    "    else:\n",
    "        return False\n",
    "\n",
    "def get_company_name(company_code):    \n",
    "    return _get_company_name(company_code, companies)\n",
    "    \n",
    "def get_company_code(company_name):\n",
    "    return _get_company_code(company_name, companies)\n",
    "\n",
    "# str 이나 list 를 전달한다.\n",
    "def get_company_code_list(company_name_list):\n",
    "    return _get_company_code_list(company_name_list, companies)\n",
    "\n",
    "\n",
    "########################## API ################################\n",
    "\n",
    "def get_firm_list_existing_in_price_df(firm_list):\n",
    "    return _get_firm_list_existing_in_price_df(firm_list, prices)\n",
    "\n",
    "def show_earning_rate(company_code_list, year_duration=1):\n",
    "    return _show_earning_rate(company_code_list, companies, prices, year_duration)\n",
    "\n",
    "def show_chart_by_name(company_name, days=365):\n",
    "    company_list = _get_company_code_list(company_name, companies)\n",
    "    if len(company_list) == 0:\n",
    "        print('no company with name' + company_name)\n",
    "        return\n",
    "    code = company_list[0]['code']\n",
    "    name = company_list[0]['name']\n",
    "    show_chart(code, days) \n",
    "\n",
    "def show_chart(company_code, days=365, show_market_price=False):\n",
    "    end_date = prices.iloc[-1].name\n",
    "    start_date = end_date - datetime.timedelta(days=days)\n",
    "    name = get_company_name(company_code)\n",
    "    _show_chart(company_code, prices, companies, start_date, end_date, show_market_price, name)\n",
    "    \n",
    "def show_start_duration_chart(company_code, start_date, days=None, show_market_price=False):\n",
    "    if days == None:\n",
    "        end_date = prices.iloc[-1].name\n",
    "    else:\n",
    "        end_date = pd.to_datetime(start_date) + datetime.timedelta(days=days)\n",
    "    name = get_company_name(company_code)\n",
    "    _show_chart(company_code, prices, companies, start_date, end_date, show_market_price, name)\n",
    "\n",
    "def show_start_end_chart(company_code, start_date, end_date=None, show_market_price=False):\n",
    "    if end_date == None:\n",
    "        end_date = prices.iloc[-1].name\n",
    "    name = get_company_name(company_code)\n",
    "    _show_chart(company_code, prices, companies, start_date, end_date, show_market_price, name)    \n",
    "    \n",
    "def show_monthly_chart(company_code, year_duration=1):\n",
    "    _show_monthly_chart(company_code, companies, prices, year_duration)\n",
    "    \n",
    "def show_detail_chart_by_name(company_name, year_duration=1):\n",
    "    _show_detail_chart_by_name(company_name, companies, prices, year_duration)\n",
    "    \n",
    "# def show_multi_chart(company_code_list, days=365):\n",
    "#     end_date = prices.iloc[-1].name\n",
    "#     start_date = end_date - datetime.timedelta(days=days)\n",
    "#     _show_chart(company_code_list, prices, companies, start_date, end_date)\n",
    "\n",
    "# def show_multi_start_duration_chart(company_code_list, start_date, days=None):\n",
    "#     if days == None:\n",
    "#         end_date = prices.iloc[-1].name\n",
    "#     else:\n",
    "#         end_date = pd.to_datetime(start_date) + datetime.timedelta(days=days)\n",
    "#     _show_multi_chart(company_code_list, prices, companies, start_date, end_date)\n",
    "\n",
    "def show_earning_rate_by_name(firm_name, year_duration=1):\n",
    "    return _show_earning_rate_by_name(firm_name, companies, prices, year_duration)\n",
    "\n",
    "def show_earning_chart(code_list, year_duration=1, initial_money=100000000):\n",
    "    _show_earning_chart(code_list, prices, year_duration, initial_money)\n",
    "\n",
    "def show_company_info(company_code_list):\n",
    "    return _show_company_info(company_code_list, companies, prices)\n",
    "    \n",
    "def show_company_info_by_name(firm_name):\n",
    "    return _show_company_info_by_name(firm_name, companies)\n",
    "    \n",
    "def add_company_info(st_df):\n",
    "    return _add_company_info(st_df, companies)\n",
    "\n",
    "# def add_price_info(st_df, start_date = None):\n",
    "#     return _add_price_info(st_df, prices, start_date)\n",
    "def add_price_info(st_df, start_date = None):\n",
    "    if 'price' in st_df.columns:\n",
    "        return st_df\n",
    "    else:\n",
    "        return _add_price_info(st_df, prices, start_date)\n",
    "    \n",
    "def get_kospi_list(company_df):\n",
    "    return company_df[company_df['구분']=='코스피']\n",
    "\n",
    "def get_kosdaq_list(company_df):\n",
    "    return company_df[company_df['구분']=='코스닥']\n",
    "    \n",
    "def get_price_over_code_list(company_code_list, min_price = 0, check_month=None):\n",
    "    return _get_price_over_code_list(company_code_list, prices, min_price, check_month)    \n",
    "\n",
    "def get_price_over_list(company_df, min_price = 0, check_month=None):\n",
    "    return company_df[company_df['price'] > min_price]\n",
    "\n",
    "def low_per(index_date, num=None):\n",
    "    return _low_per(iv_df, index_date, num)\n",
    "\n",
    "def low_pbr(index_date, num = None):\n",
    "    return _low_pbr(iv_df, index_date, num)\n",
    "\n",
    "def high_gpa(index_date, num = None):\n",
    "    return _high_gpa(fs_df, index_date, num)\n",
    "\n",
    "def qp_formula(index_date, num = None):\n",
    "    pbr = low_pbr(index_date, None)\n",
    "    gpa = high_gpa(index_date, None)\n",
    "    pbr['PBR_RANK'] = pbr['PBR'].rank()\n",
    "    gpa['GPA_RANK'] = gpa['GPA'].rank(ascending=False)\n",
    "    qp = pd.merge(pbr, gpa, how='outer', left_index=True, right_index=True)\n",
    "    qp['MAGIC'] = (qp['PBR_RANK'] + qp['GPA_RANK'])\n",
    "    qp['MAGIC_RANK'] = qp['MAGIC'].rank()\n",
    "    qp = qp.sort_values(by='MAGIC_RANK')\n",
    "    return qp[:num]\n",
    "\n",
    "########################## Strategy API ################################\n",
    "    \n",
    "    \n",
    "def show_business_trend(year_duration=1):\n",
    "    _show_business_trend(companies, prices, year_duration)\n",
    "    \n",
    "# get_maximum_earning_rate(5, 5000, 100, 'kospi')    \n",
    "def get_maximum_earning_rate(year_duration=1, min_price=0, min_profit=0, type='all'):\n",
    "    return _get_maximum_earning_rate(prices, companies, year_duration, min_price, min_profit, type)\n",
    "    \n",
    "def backtest_with_code_list(code_list, start_date, end_date=None, initial_money=100000000):\n",
    "#     if days == None:\n",
    "#         end_date = prices.iloc[-1].name\n",
    "#     else:\n",
    "#         end_date = pd.to_datetime(start_date) + datetime.timedelta(days=days)\n",
    "    return _backtest_with_code_list(code_list, prices, start_date, end_date, initial_money)       \n",
    "    \n",
    "    \n",
    "def low_per_backtest(start_date='2016-6', end_date=None, stock_num=6, min_price=0, division='kospi', initial_money=100000000):\n",
    "\n",
    "    price_df = prices\n",
    "\n",
    "    if end_date == None:\n",
    "        end_date = price_df.iloc[-1].name\n",
    "        end_date = end_date.strftime('%Y-%m-%d')\n",
    "\n",
    "    start_year = int(start_date.split('-')[0])\n",
    "    end_year = int(end_date.split('-')[0])\n",
    "\n",
    "    start_month = start_date.split('-')[1]\n",
    "    date_month_ago = pd.to_datetime(start_date) - datetime.timedelta(days=30)\n",
    "    date_month_ago = date_month_ago.strftime('%Y-%m-%d')\n",
    "    end_month = date_month_ago.split('-')[1]\n",
    "\n",
    "    total_df = 0\n",
    "    total_money = initial_money\n",
    "    for temp in range(start_year, end_year):\n",
    "        this_term_start = str(temp) + '-' + start_month\n",
    "        if end_month == '12':\n",
    "            this_term_end = str(temp) + '-' + end_month\n",
    "        else:\n",
    "            this_term_end = str(temp+1) + '-' + end_month\n",
    "\n",
    "        strategy_date = get_strategy_date(this_term_start)\n",
    "        per = _low_per(iv_df, strategy_date, None)\n",
    "\n",
    "        temp_index = price_df[this_term_start].iloc[0].dropna().index\n",
    "        final_index = intersection(per.index, temp_index)\n",
    "        per = per.loc[final_index]\n",
    "\n",
    "        per = add_price_info(per)\n",
    "        per = add_company_info(per)\n",
    "        if division == 'kospi':\n",
    "            per = get_kospi_list(per)\n",
    "        elif division == 'kosdaq':\n",
    "            per = get_kosdaq_list(per)\n",
    "        if min_price > 0:\n",
    "            temp_index = get_price_over_code_list(per.index, min_price, this_term_start)\n",
    "            per = per.loc[temp_index]\n",
    "\n",
    "        backtest = backtest_with_code_list(per.index[:stock_num], this_term_start, this_term_end, total_money)\n",
    "        total_money = backtest['total_portfolio'][-1]\n",
    "        if temp == start_year:\n",
    "            total_df = backtest\n",
    "        else:\n",
    "            total_df = pd.concat([total_df, backtest], sort=False)\n",
    "\n",
    "    total_df ['day_change_rate'] = total_df ['total_portfolio'].pct_change()\n",
    "    total_df ['total_change_rate'] = total_df ['total_portfolio']/ total_df ['total_portfolio'][0] - 1\n",
    "\n",
    "    return total_df\n",
    "        \n",
    "\n",
    "def get_company_list_beated_market_profit(price_df, start_date, end_date=None, market_type='kospi', min_profit=None, min_price=0):\n",
    "    if end_date == None:\n",
    "        end_date = price_df.iloc[-1].name\n",
    "    strategy_price = price_df[start_date:end_date]\n",
    "    strategy_price = strategy_price.fillna(method='bfill')\n",
    "    total_change_rate = strategy_price/strategy_price.iloc[0]-1\n",
    "    st_df = pd.DataFrame({'change_rate':total_change_rate.iloc[-1]})\n",
    "    st_df['구분'] = st_df.index.map(lambda x: '코스피' if is_kospi(x) else '코스닥')\n",
    "    if market_type == 'kospi':\n",
    "        st_df = get_kospi_list(st_df)\n",
    "        st_df = st_df[st_df['change_rate'] > st_df.loc['KOSPI']['change_rate']]\n",
    "    else:\n",
    "        st_df = get_kosdaq_list(st_df)\n",
    "        st_df = st_df[st_df['change_rate'] > st_df.loc['KOSDAQ']['change_rate']]\n",
    "        \n",
    "    st_df = st_df.drop('구분', axis=1)\n",
    "    st_df = add_company_info(st_df)\n",
    "    st_df = add_price_info(st_df)\n",
    "    \n",
    "    st_df = get_price_over_list(st_df, min_price)\n",
    "\n",
    "    if min_profit != None:\n",
    "        st_df = st_df[st_df['change_rate'] > min_profit]\n",
    "\n",
    "    st_df['rank'] = st_df['change_rate'].rank(ascending=False)\n",
    "    st_df = st_df.sort_values(by='rank')\n",
    "    \n",
    "\n",
    "    return st_df\n",
    "\n",
    "\n",
    "def show_industry_list_beated_market_profit(price_df, start_date, end_date=None, market_type='kospi'):\n",
    "    if end_date == None:\n",
    "        end_date = price_df.iloc[-1].name\n",
    "\n",
    "    industry = dict(list(companies.groupby(['업종', '업종코드'])))\n",
    "\n",
    "    industry_list = []\n",
    "    for key,value in industry.items():\n",
    "        if market_type == 'kospi':\n",
    "            value = get_kospi_list(value)\n",
    "        else:\n",
    "            value = get_kosdaq_list(value)\n",
    "        industry_list.append({'name':key[0], 'code':key[1], 'list':list(value.index)})\n",
    "        \n",
    "    if market_type == 'kospi':  \n",
    "        strategy_price = price_df[['KOSPI']][start_date:end_date]\n",
    "    else:  \n",
    "        strategy_price = price_df[['KOSDAQ']][start_date:end_date]\n",
    "    strategy_price = strategy_price.fillna(method='bfill')\n",
    "    strategy_price['total_change_rate'] = strategy_price/strategy_price.iloc[0]-1\n",
    "    \n",
    "    num_row = int((len(industry_list)-1)/2)+1\n",
    "\n",
    "    plt.figure(figsize=(10*4, num_row*5))\n",
    "    plt.subplots_adjust(left=None, bottom=None, right=None, top=None, wspace=None, hspace=0.5)\n",
    "    index = 0\n",
    "    for i, industory in enumerate(industry_list):\n",
    "        name = industory['name']\n",
    "        code = industory['code']\n",
    "        firm_list = industory['list']\n",
    "        firm_list = get_firm_list_existing_in_price_df(firm_list)\n",
    "        if len(firm_list) == 0:\n",
    "            continue\n",
    "        backtest = backtest_with_code_list(get_firm_list_existing_in_price_df(firm_list), start_date, end_date)\n",
    "        if (backtest['total_change_rate'][-1] > strategy_price['total_change_rate'][-1]):\n",
    "            ax = plt.subplot(num_row, 4, index+1)\n",
    "            index = index+1\n",
    "            title = name + ' : ' + str(code) + ' (' + str(len(firm_list)) +')'\n",
    "            ax.title.set_text(title)\n",
    "            ax.plot(backtest.index, backtest['total_change_rate'], color='black')\n",
    "            ax.plot(strategy_price.index, strategy_price['total_change_rate'], color='red')\n",
    "    plt.show()\n",
    "\n",
    "\n",
    "\n",
    "\n",
    "\n",
    "\n",
    "\n",
    "\n",
    "\n",
    "\n",
    "\n",
    "\n",
    "\n",
    "\n",
    "\n",
    "\n",
    "\n",
    "\n"
   ]
  },
  {
   "cell_type": "code",
   "execution_count": 9,
   "metadata": {},
   "outputs": [],
   "source": [
    "# %load py_neo_quant_fnguide.py\n",
    "# %load py_neo_quant_backtest.py\n",
    "import pandas as pd\n",
    "import numpy as np\n",
    "# import requests\n",
    "# import bs4\n",
    "# import time\n",
    "# import datetime\n",
    "import matplotlib.pyplot as plt\n",
    "# from dateutil import parser\n",
    "from matplotlib import font_manager, rc\n",
    "# from IPython.display import HTML\n",
    "# pd.set_option('display.max_colwidth', -1)\n",
    "\n",
    "rc('font', family='AppleGothic')\n",
    "plt.rcParams['axes.unicode_minus'] = False\n",
    "# pd.options.display.max_rows = 60\n",
    "# pd.set_option('display.max_columns', 500)\n",
    "# pd.set_option('display.width', 1000)\n",
    "%matplotlib inline\n",
    "\n",
    "########################## API ################################\n",
    "\n",
    "category_list = ['제조업','은행업','보험업','증권업','신용금고','종합금융업','여신전문','기타금융업']  \n",
    "\n",
    "\n",
    "def change_fnguide_df(fnguide_df, account):\n",
    "    fnguide_df = fnguide_df.iloc[8:]\n",
    "    fnguide_df.columns =  fnguide_df.iloc[0].values\n",
    "    fnguide_df = fnguide_df.set_index(fnguide_df.columns[0])\n",
    "    fnguide_df = fnguide_df.iloc[1:]\n",
    "    fnguide_df.index = fnguide_df.index.map(make_code)\n",
    "#     fnguide_df.index = 'A' + fnguide_df.index\n",
    "    fnguide_df = fnguide_df[fnguide_df.columns[3:]]\n",
    "    fnguide_df.columns = fnguide_df.columns.map(lambda x: str(int(x)) + '/12')\n",
    "    fnguide_df.columns = [fnguide_df.columns, [account] * len(fnguide_df.columns)]\n",
    "    return fnguide_df\n",
    "        \n",
    "\n",
    "big_col = ['2018/12','2017/12','2016/12','2015/12','2014/12','2013/12','2012/12','2011/12','2010/12','2009/12','2008/12','2007/12']\n",
    "def make_account_df(account, account_type):\n",
    "    for num, category in enumerate(category_list):\n",
    "        path = r'fnguide/D_Finance_' + account + '(' + category + '_' + account_type + ')' + '.xlsx'\n",
    "        try:\n",
    "            temp = pd.read_excel(path)\n",
    "        except FileNotFoundError:\n",
    "#             print('file not found : ' + path)\n",
    "            continue\n",
    "        temp = change_fnguide_df(temp, account)\n",
    "        for col in big_col:\n",
    "            if col not in temp.columns:\n",
    "#                 print(col)\n",
    "#                 print(account)\n",
    "                temp[col, account] = np.NaN\n",
    "        if num == 0:\n",
    "            total_df = temp\n",
    "        else:\n",
    "            total_df = pd.concat([total_df, temp], sort=False)\n",
    "    total_df = total_df.loc[~total_df.index.duplicated(keep='first')]\n",
    "    return total_df\n",
    "\n",
    "\n",
    "def merge_df_list(df_list):\n",
    "    for num, df in enumerate(df_list):\n",
    "        if num == 0:\n",
    "            merge_df = df\n",
    "        else:\n",
    "            merge_df = pd.merge(merge_df, df, left_index=True, right_index=True, how='outer')\n",
    "    return merge_df\n",
    "\n",
    "def make_total_fs_df():\n",
    "    asset = make_account_df('자산', '재무상태')\n",
    "    capital = make_account_df('자본', '재무상태')\n",
    "    debt = make_account_df('부채','재무상태')\n",
    "    profit = make_account_df('당기순이익', '포괄손익')\n",
    "    sell = make_account_df('매출액', '포괄손익')\n",
    "    sell[('2007/12', '매출액')] = np.NaN\n",
    "    cost = make_account_df('매출원가', '포괄손익')\n",
    "    cost[('2008/12', '매출원가')] = np.NaN\n",
    "    cost[('2007/12', '매출원가')] = np.NaN\n",
    "    total_profit = make_account_df('매출총이익', '포괄손익')\n",
    "    total_profit[('2009/12', '매출총이익')] = np.NaN\n",
    "    total_profit[('2008/12', '매출총이익')] = np.NaN\n",
    "    total_profit[('2007/12', '매출총이익')] = np.NaN\n",
    "    busi_profit = make_account_df('영업이익', '포괄손익')\n",
    "    current = make_account_df('영업활동으로인한현금흐름', '재무비율')\n",
    "\n",
    "    for num, column in enumerate(asset.columns):\n",
    "        asset_col = asset[[asset.columns[num]]]\n",
    "        capital_col = capital[[capital.columns[num]]]\n",
    "        debt_col = debt[[debt.columns[num]]]\n",
    "        profit_col = profit[[profit.columns[num]]]\n",
    "        sell_col = sell[[sell.columns[num]]]\n",
    "        cost_col = cost[[cost.columns[num]]]\n",
    "        total_profit_col = total_profit[[total_profit.columns[num]]]\n",
    "        busi_profit_col = busi_profit[[busi_profit.columns[num]]]\n",
    "        current_col = current[[current.columns[num]]]\n",
    "    #     temp_df = pd.concat([roa_col,roic_col,debt_col,profit_col,current_col], axis=1, sort=False)\n",
    "        temp_df = merge_df_list([asset_col,capital_col,debt_col,profit_col,sell_col,cost_col,total_profit_col,busi_profit_col,current_col])\n",
    "        if num == 0:\n",
    "            total_df = temp_df\n",
    "        else:\n",
    "            total_df = pd.concat([total_df, temp_df], axis=1)\n",
    "    return total_df\n",
    "\n",
    "def make_total_fr_df():\n",
    "    roa = make_account_df('ROA', '재무비율')\n",
    "    roic = make_account_df('ROIC', '재무비율')\n",
    "    debt = make_account_df('부채비율', '재무비율')\n",
    "    profit = make_account_df('영업이익률', '재무비율')\n",
    "    current = make_account_df('유동비율', '재무비율')\n",
    "    for num, column in enumerate(roa.columns):\n",
    "        roa_col = roa[[roa.columns[num]]]\n",
    "        roic_col = roic[[roic.columns[num]]]\n",
    "        debt_col = debt[[debt.columns[num]]]\n",
    "        profit_col = profit[[profit.columns[num]]]\n",
    "        current_col = current[[current.columns[num]]]\n",
    "#         temp_df = pd.concat([roa_col,roic_col,debt_col,profit_col,current_col], axis=1, sort=False)\n",
    "        temp_df = merge_df_list([roa_col,roic_col,debt_col,profit_col,current_col])\n",
    "        if num == 0:\n",
    "            total_df = temp_df\n",
    "        else:\n",
    "            total_df = pd.concat([total_df, temp_df], axis=1)\n",
    "    return total_df\n",
    "\n",
    "def make_total_iv_df():\n",
    "    per = make_account_df('PER', '재무비율')\n",
    "    pcr = make_account_df('PCR', '재무비율')\n",
    "    pbr = make_account_df('PBR', '재무비율')\n",
    "    psr = make_account_df('PSR', '재무비율')\n",
    "    psr[('2007/12', 'PSR')] = np.NaN\n",
    "    total_money_df = make_account_df('총현금흐름', '재무비율')\n",
    "    for num, column in enumerate(per.columns):\n",
    "        per_col = per[[per.columns[num]]]\n",
    "        pcr_col = pcr[[pcr.columns[num]]]\n",
    "        pbr_col = pbr[[pbr.columns[num]]]\n",
    "        psr_col = psr[[psr.columns[num]]]\n",
    "        total_money_col = total_money_df[[total_money_df.columns[num]]]\n",
    "    #     print(psr_col)\n",
    "#         temp_df = pd.concat([per_col,pcr_col,pbr_col,psr_col,total_money_col], axis=1, sort=False)\n",
    "        temp_df = merge_df_list([per_col,pcr_col,pbr_col,psr_col,total_money_col])\n",
    "        if num == 0:\n",
    "            total_df = temp_df\n",
    "        else:\n",
    "            total_df = pd.concat([total_df, temp_df], axis=1)\n",
    "    return total_df\n",
    "\n",
    "\n",
    "\n",
    "\n",
    "\n",
    "\n",
    "\n",
    "\n",
    "\n",
    "\n",
    "\n",
    "\n"
   ]
  },
  {
   "cell_type": "code",
   "execution_count": 10,
   "metadata": {},
   "outputs": [],
   "source": [
    "# %load py_neo_quant_backtest.py\n",
    "# %load py_neo_quant_backtest.py\n",
    "import pandas as pd\n",
    "import numpy as np\n",
    "# import requests\n",
    "# import bs4\n",
    "# import time\n",
    "# import datetime\n",
    "import matplotlib.pyplot as plt\n",
    "# from dateutil import parser\n",
    "from matplotlib import font_manager, rc\n",
    "# from IPython.display import HTML\n",
    "# pd.set_option('display.max_colwidth', -1)\n",
    "\n",
    "rc('font', family='AppleGothic')\n",
    "plt.rcParams['axes.unicode_minus'] = False\n",
    "# pd.options.display.max_rows = 60\n",
    "# pd.set_option('display.max_columns', 500)\n",
    "# pd.set_option('display.width', 1000)\n",
    "%matplotlib inline\n",
    "\n",
    "########################## API ################################\n",
    "\n",
    "def get_code_list_has_price(code_list, price_df, start_date):\n",
    "    return price_df[start_date:][code_list].iloc[0].dropna().index\n",
    "\n",
    "def get_low_per_firm_list(start_date, price_df, num):\n",
    "    start_date = str(start_date)\n",
    "    strategy_date = get_strategy_date(start_date)\n",
    "    firm_list = low_per(strategy_date).index\n",
    "    return get_code_list_has_price(firm_list, price_df, start_date)[:num]\n",
    "\n",
    "def get_buy_firm_count(total_pf_df):\n",
    "    buy_firm_list = list(total_pf_df.columns[total_pf_df.iloc[-1] > 0])\n",
    "    buy_firm_list.remove('cash')\n",
    "    return len(buy_firm_list)\n",
    "\n",
    "def remove_duplicate(list, check_list):\n",
    "    new_list = []\n",
    "    for item in list:\n",
    "        if item not in check_list:\n",
    "            new_list.append(item)\n",
    "            \n",
    "    return new_list\n",
    "\n",
    "def get_last_buy_date(total_pf_df, firm_code):\n",
    "    firm_buy_list = total_pf_df[firm_code][::-1]\n",
    "    first_buy_date = 0\n",
    "    for date in firm_buy_list.index:\n",
    "        buy_count = firm_buy_list.loc[date]\n",
    "        if buy_count > 0:\n",
    "            first_buy_date = date\n",
    "        else:\n",
    "            if first_buy_date != 0:\n",
    "                break\n",
    "    return first_buy_date\n",
    "\n",
    "def get_hold_firm_list(total_pf_df):\n",
    "    return list(total_pf_df.columns[total_pf_df.iloc[-1] > 0])\n",
    "\n",
    "def get_pf_profit(date, total_pf_df, price_df):\n",
    "    total_profit = 0\n",
    "    for firm_code in total_pf_df.columns:\n",
    "        if firm_code == 'cash':\n",
    "            firm_profit = total_pf_df[firm_code].loc[date]\n",
    "        else:\n",
    "            price = price_df[firm_code].fillna(0).loc[date]\n",
    "            count = total_pf_df[firm_code].loc[date]\n",
    "            firm_profit = price * count\n",
    "        total_profit = total_profit + firm_profit\n",
    "    return total_profit\n",
    "\n",
    "def get_backtest_result_from_pf(total_pf_df, price_df):\n",
    "    for num, date in enumerate(total_pf_df.index):\n",
    "        pf_profit = get_pf_profit(date, total_pf_df, price_df)\n",
    "        temp_df = pd.DataFrame({'total_portfolio':pf_profit}, index=[date])\n",
    "        if num == 0:\n",
    "            backtest_df = temp_df\n",
    "            initial_money = pf_profit\n",
    "        else:\n",
    "            backtest_df = pd.concat([backtest_df, temp_df], sort=False)\n",
    "    backtest_df['day_change_rate'] = backtest_df['total_portfolio'].pct_change()\n",
    "    backtest_df['total_change_rate'] = backtest_df['total_portfolio']/initial_money - 1\n",
    "    return backtest_df\n",
    "\n",
    "def make_initial_portfolio(firm_list, start_date, price_df, initial_money):\n",
    "    strategy_price = price_df[firm_list][start_date:]\n",
    "    pf_stock_num = {}\n",
    "    stock_amount = 0\n",
    "\n",
    "    each_money = initial_money / len(firm_list)\n",
    "    for code in strategy_price.columns:\n",
    "        stock_count = int( each_money / strategy_price[code][0] )\n",
    "        pf_stock_num[code] = stock_count\n",
    "        stock_amount = stock_amount + stock_count * strategy_price[code][0]\n",
    "    cash_amount = initial_money - stock_amount\n",
    "    print('>>>>>> initial buy list (' + str(len(pf_stock_num)) + ') : ' + str(start_date))\n",
    "#     print(pf_stock_num)\n",
    "    for (code, num) in pf_stock_num.items():\n",
    "        name = get_company_name(code)\n",
    "        print(name + '(' + str(code) + ') : ' +  str(num))\n",
    "\n",
    "    print('\\n')\n",
    "\n",
    "    pf_df = pd.DataFrame(pf_stock_num, index=[strategy_price.iloc[0].name])\n",
    "    pf_df['cash'] = cash_amount\n",
    "    \n",
    "    \n",
    "    cache_df = pf_df.T\n",
    "    cache_df['buy_date'] = strategy_price.iloc[0].name\n",
    "    cache_df = cache_df.drop(strategy_price.iloc[0].name, axis=1)\n",
    "    cache_df = cache_df.drop('cash')\n",
    "    \n",
    "    return pf_df, cache_df\n",
    "\n",
    "def make_update_portfolio(firm_list, total_pf_df, cache_df, date, price_df):\n",
    "    strategy_price = price_df[firm_list][date:]\n",
    "    pf_stock_num = {}\n",
    "    stock_amount = 0\n",
    "    total_cash = total_pf_df['cash'].iloc[-1]\n",
    "    each_money = total_cash / len(firm_list)\n",
    "#     print(each_money)\n",
    "    for code in strategy_price.columns:\n",
    "        stock_count = int( each_money / strategy_price[code][0] )\n",
    "        pf_stock_num[code] = stock_count\n",
    "        \n",
    "        if code in total_pf_df.columns:\n",
    "            total_pf_df.at[date, code] = stock_count\n",
    "        else:\n",
    "            total_pf_df[code] = 0\n",
    "            total_pf_df.at[date, code] = stock_count\n",
    "        ############## cache update ######################\n",
    "        cache_df.loc[code] = date\n",
    "        \n",
    "        stock_amount = stock_amount + stock_count * strategy_price[code][0]\n",
    "    total_cash = total_cash - stock_amount\n",
    "    total_pf_df.at[date, 'cash'] = total_cash\n",
    "    print('>>>>>> buy list (' + str(len(pf_stock_num)) + ') : ' + str(date))\n",
    "    for (code, num) in pf_stock_num.items():\n",
    "        name = get_company_name(code)\n",
    "        print(name + '(' + str(code) + ') : ' +  str(num))\n",
    "#     print(pf_stock_num)\n",
    "    print('\\n')\n",
    "    return total_pf_df\n",
    "\n",
    "\n",
    "def update_portfolio(pf_func, total_pf_df, cache_df, today, price_df, firm_count=20, max_profit=0.5, max_holding_days=365*2):\n",
    "    temp_df = pd.DataFrame(total_pf_df.iloc[-1]).T\n",
    "    temp_df.index = [today]\n",
    "    total_pf_df = pd.concat([total_pf_df, temp_df], sort=False)\n",
    "    \n",
    "    total_cash = total_pf_df['cash'].iloc[-1]\n",
    "#     prev_date = total_pf_df.index[-1]\n",
    "    \n",
    "    sell_count = 0\n",
    "    sell_code_list = []\n",
    "    for code in total_pf_df.columns:\n",
    "        if code == 'cash': # not firm\n",
    "            continue\n",
    "            \n",
    "        buy_count = total_pf_df[code].iloc[-1] # already sell\n",
    "        if buy_count == 0:\n",
    "            continue\n",
    "            \n",
    "#         last_buy_date = get_last_buy_date(total_pf_df, code)\n",
    "        last_buy_date = cache_df.at[code, 'buy_date'] # use cache\n",
    "#         print(last_buy_date)\n",
    "        if last_buy_date != 0:\n",
    "            buy_price = price_df[code].loc[last_buy_date]\n",
    "            today_price = price_df[code].loc[today]\n",
    "            profit = today_price / buy_price - 1\n",
    "            pass_enough_years_after_buy = pd.to_datetime(today) - last_buy_date > datetime.timedelta(days=max_holding_days)\n",
    "            enough_profit = profit >= max_profit\n",
    "            if enough_profit:\n",
    "                name = get_company_name(code)\n",
    "                print('>>>>>> enough profit (' + name + ' : ' + code + ') - (' + str(today_price) + ' : ' + str(round(profit, 2)) + ') : ' + str(today))\n",
    "            if pass_enough_years_after_buy:\n",
    "                name = get_company_name(code)\n",
    "                print('>>>>>> enough periods (' + name + ' : ' + code + ') - (' + str(today_price) + ' : ' + str(round(profit, 2)) + ') : ' + str(pd.to_datetime(today) - last_buy_date) + str(today))\n",
    "            if pass_enough_years_after_buy or enough_profit:\n",
    "                sell_profit = buy_count * today_price\n",
    "                total_pf_df.at[today, code] = 0\n",
    "                total_cash = total_cash + sell_profit\n",
    "                sell_count = sell_count + 1\n",
    "                sell_code_list.append(code)\n",
    "                ############## cache update ################\n",
    "                cache_df.drop(code)\n",
    "                \n",
    "    total_pf_df.at[today, 'cash'] = total_cash  \n",
    "#     print(sell_count)\n",
    "    if sell_count > 0:\n",
    "        print('>>>>>> sell list (' + str(len(sell_code_list)) + ') : ' +  str(today))\n",
    "        print(sell_code_list)\n",
    "        print('\\n')\n",
    "#         firm_list = get_low_per_firm_list(today.strftime('%Y-%m-%d'), price_df, None)\n",
    "        firm_list = pf_func(today.strftime('%Y-%m-%d'))\n",
    "#         firm_list = get_low_per_firm_list(start_date, price_df, None)\n",
    "#         print('>>>>>> low per')\n",
    "#         print(firm_list[:20])\n",
    "        firm_list = remove_duplicate(firm_list, sell_code_list)\n",
    "        firm_list = remove_duplicate(firm_list, get_hold_firm_list(total_pf_df))\n",
    "        \n",
    "        buy_firm_count = get_buy_firm_count(total_pf_df)\n",
    "        buy_count = firm_count - buy_firm_count\n",
    "#         printㅠ('>>>> buy count : ' + str(buy_count))\n",
    "        total_pf_df = make_update_portfolio(firm_list[:buy_count], total_pf_df, cache_df, today, price_df)\n",
    "    return total_pf_df\n",
    "\n",
    "\n",
    "# def get_low_per_backtest_df(start_date, price_df, firm_count=20, initial_money=100000000, min_profit=0.5, min_days=365*2):\n",
    "#     firm_list = get_low_per_firm_list(start_date, price_df, firm_count)\n",
    "#     total_date_index = price_df[start_date:].index\n",
    "\n",
    "#     for num, date in enumerate(total_date_index):\n",
    "#         if num == 0:\n",
    "#             total_pf_df, cashe_df = make_initial_portfolio(firm_list, date, price_df, initial_money)\n",
    "#         else:\n",
    "#             total_pf_df = update_portfolio(total_pf_df, date, price_df, firm_count, min_profit, min_days)\n",
    "#             total_pf_df = total_pf_df.fillna(0)\n",
    "#             aList = list(total_pf_df.columns)\n",
    "#             aList.remove('cash')\n",
    "#             aList.append('cash')\n",
    "#             total_pf_df = total_pf_df[aList]\n",
    "#     #         if date == pd.to_datetime('2017-1-5'):\n",
    "#     #             break\n",
    "#     return total_pf_df\n",
    "\n",
    "def get_portfolio_backtest_df(pf_func, start_date, price_df, firm_count=20, initial_money=100000000, min_profit=0.5, min_days=365*2):\n",
    "    total_date_index = price_df[start_date:].index\n",
    "    first_date = total_date_index[0]\n",
    "    \n",
    "    firm_list = pf_func(first_date)\n",
    "\n",
    "        \n",
    "    total_pf_df, cache_df = make_initial_portfolio(firm_list[:firm_count], first_date, price_df, initial_money)\n",
    "\n",
    "    for num, date in enumerate(total_date_index[1:]):\n",
    "    #     if num == 0:\n",
    "    #         total_pf_df, cashe_df = make_initial_portfolio(firm_list, date, price_df, initial_money)\n",
    "    #     else:\n",
    "        total_pf_df = update_portfolio(pf_func, total_pf_df, cache_df, date, price_df, firm_count, max_profit, max_holding_days)\n",
    "        total_pf_df = total_pf_df.fillna(0)\n",
    "        aList = list(total_pf_df.columns)\n",
    "        aList.remove('cash')\n",
    "        aList.append('cash')\n",
    "        total_pf_df = total_pf_df[aList]\n",
    "        time.sleep(0.01)\n",
    "\n",
    "    return total_pf_df\n",
    "\n",
    "\n",
    "def get_price_data_for_backtest():\n",
    "    price_path = r'data/price_data_2005.xlsx'\n",
    "    price_df = pd.read_excel(price_path)\n",
    "    price_df = price_df.set_index(price_df.columns[0])\n",
    "    return price_df\n",
    "\n",
    "def get_normalize_data(companies, fs_df, fr_df, iv_df, prices):\n",
    "    common_index = intersection(fs_df.index, fr_df.index)\n",
    "    common_index = intersection(common_index, iv_df.index)\n",
    "    common_index = intersection(common_index, companies.index)\n",
    "    companies = companies.loc[common_index]\n",
    "    fs_df = fs_df.loc[common_index]\n",
    "    fr_df = fr_df.loc[common_index]\n",
    "    iv_df = iv_df.loc[common_index]\n",
    "    price_index = []\n",
    "    price_index.append('KOSPI')\n",
    "    price_index.append('KOSDAQ')\n",
    "    for code in common_index:\n",
    "        price_index.append(code)\n",
    "    prices = prices[price_index]\n",
    "    \n",
    "    return companies, fs_df, fr_df, iv_df, prices \n",
    "\n",
    "def load_all_data_for_backtest():\n",
    "    fs_df = make_total_fs_df()\n",
    "    fr_df = make_total_fr_df()\n",
    "    iv_df = make_total_iv_df()\n",
    "    prices = get_price_data_for_backtest()\n",
    "    companies = get_company_data()\n",
    "    \n",
    "    return get_normalize_data(companies, fs_df, fr_df, iv_df, prices)\n",
    "\n",
    "def load_recent_data_for_backtest():\n",
    "    fs_df = get_fs_data()\n",
    "    fr_df = get_fr_data()\n",
    "    iv_df = get_invest_data()\n",
    "    prices = get_price_data()\n",
    "    companies = get_company_data()\n",
    "    \n",
    "    return get_normalize_data(companies, fs_df, fr_df, iv_df, prices)\n",
    "\n",
    "def get_low_per_kospi_firm_list(start_date):\n",
    "    start_date = str(start_date)\n",
    "    strategy_date = get_strategy_date(start_date)\n",
    "    per = low_per(strategy_date)\n",
    "    new_firm_list = get_code_list_has_price(per.index, price_df, start_date)\n",
    "    per = per.loc[new_firm_list]\n",
    "    per = add_price_info(per)\n",
    "    per = add_company_info(per)\n",
    "    per = get_kospi_list(per)\n",
    "\n",
    "    temp_df = pd.DataFrame({'price':price_df.loc[start_date][per.index]})\n",
    "    temp_index = temp_df[temp_df['price'] > 5000].index\n",
    "    per = per.loc[temp_index]\n",
    "\n",
    "    return per.index\n",
    "\n",
    "def get_low_per_firm_list(start_date, price_df, num):\n",
    "    start_date = str(start_date)\n",
    "    strategy_date = get_strategy_date(start_date)\n",
    "    firm_list = low_per(strategy_date).index\n",
    "    return get_code_list_has_price(firm_list, price_df, start_date)[:num]\n",
    "\n",
    "def get_low_per_portfolio(start_date):\n",
    "    firm_list = get_low_per_firm_list(start_date, price_df, None)\n",
    "    return firm_list\n",
    "\n",
    "def get_low_pbr_portfolio(start_date):\n",
    "    start_date = str(start_date)\n",
    "    strategy_date = get_strategy_date(start_date)\n",
    "    firm_list = low_pbr(strategy_date).index\n",
    "    return get_code_list_has_price(firm_list, price_df, start_date)\n",
    "\n",
    "def get_high_roa_firm_list(start_date, price_df, num):\n",
    "    start_date = str(start_date)\n",
    "    strategy_date = get_strategy_date(start_date)\n",
    "    firm_list = high_roa(fr_df, strategy_date, None).index\n",
    "    return get_code_list_has_price(firm_list, price_df, start_date)[:num]\n",
    "\n",
    "def get_high_roa_portfolio(start_date):\n",
    "    firm_list = get_high_roa_firm_list(start_date, price_df, None)\n",
    "    return firm_list\n",
    "\n",
    "def get_qp_portfolio(start_date):\n",
    "    start_date = str(start_date)\n",
    "    strategy_date = get_strategy_date(start_date)\n",
    "    qp_list = qp_formula(strategy_date).index\n",
    "    qp_list = get_code_list_has_price(qp_list, price_df, start_date)\n",
    "    return qp_list\n",
    "\n",
    "def get_high_gpa_portfolio(start_date):\n",
    "    start_date = str(start_date)\n",
    "    strategy_date = get_strategy_date(start_date)\n",
    "    firm_list = high_gpa(strategy_date).index\n",
    "    return get_code_list_has_price(firm_list, price_df, start_date)\n",
    "\n",
    "def get_low_ev_ebit_portfolio(start_date):\n",
    "    start_date = str(start_date)\n",
    "    strategy_date = get_strategy_date(start_date)\n",
    "    firm_list = low_value(ebit_df, 'EV_EBIT', strategy_date).index\n",
    "    return get_code_list_has_price(firm_list, price_df, start_date)\n",
    "\n",
    "def get_my_portfolio(start_date):\n",
    "    return my_portfolio_code_list\n",
    "\n",
    "\n",
    "\n",
    "\n",
    "\n",
    "\n",
    "\n"
   ]
  },
  {
   "cell_type": "code",
   "execution_count": 11,
   "metadata": {},
   "outputs": [],
   "source": [
    "pd.options.display.max_rows = 60\n",
    "pd.options.display.max_columns = 20"
   ]
  },
  {
   "cell_type": "code",
   "execution_count": 12,
   "metadata": {},
   "outputs": [],
   "source": [
    "prices = get_price_data_for_backtest()"
   ]
  },
  {
   "cell_type": "code",
   "execution_count": 87,
   "metadata": {},
   "outputs": [],
   "source": [
    "asset = make_account_df('자산', '재무상태')\n",
    "capital = make_account_df('자본', '재무상태')\n",
    "debt = make_account_df('부채','재무상태')\n"
   ]
  },
  {
   "cell_type": "code",
   "execution_count": 88,
   "metadata": {},
   "outputs": [],
   "source": [
    "sell = make_account_df('매출액', '포괄손익')\n",
    "sell[('2007/12', '매출액')] = np.NaN\n",
    "cost = make_account_df('매출원가', '포괄손익')\n",
    "cost[('2008/12', '매출원가')] = np.NaN\n",
    "cost[('2007/12', '매출원가')] = np.NaN\n",
    "total_profit = make_account_df('매출총이익', '포괄손익')\n",
    "total_profit[('2009/12', '매출총이익')] = np.NaN\n",
    "total_profit[('2008/12', '매출총이익')] = np.NaN\n",
    "total_profit[('2007/12', '매출총이익')] = np.NaN\n"
   ]
  },
  {
   "cell_type": "code",
   "execution_count": 89,
   "metadata": {
    "scrolled": true
   },
   "outputs": [
    {
     "data": {
      "text/html": [
       "<div>\n",
       "<style scoped>\n",
       "    .dataframe tbody tr th:only-of-type {\n",
       "        vertical-align: middle;\n",
       "    }\n",
       "\n",
       "    .dataframe tbody tr th {\n",
       "        vertical-align: top;\n",
       "    }\n",
       "\n",
       "    .dataframe thead tr th {\n",
       "        text-align: left;\n",
       "    }\n",
       "\n",
       "    .dataframe thead tr:last-of-type th {\n",
       "        text-align: right;\n",
       "    }\n",
       "</style>\n",
       "<table border=\"1\" class=\"dataframe\">\n",
       "  <thead>\n",
       "    <tr>\n",
       "      <th></th>\n",
       "      <th>2018/12</th>\n",
       "      <th>2017/12</th>\n",
       "      <th>2016/12</th>\n",
       "      <th>2015/12</th>\n",
       "      <th>2014/12</th>\n",
       "      <th>2013/12</th>\n",
       "      <th>2012/12</th>\n",
       "      <th>2011/12</th>\n",
       "      <th>2010/12</th>\n",
       "      <th>2009/12</th>\n",
       "      <th>2008/12</th>\n",
       "      <th>2007/12</th>\n",
       "    </tr>\n",
       "    <tr>\n",
       "      <th></th>\n",
       "      <th>매출액</th>\n",
       "      <th>매출액</th>\n",
       "      <th>매출액</th>\n",
       "      <th>매출액</th>\n",
       "      <th>매출액</th>\n",
       "      <th>매출액</th>\n",
       "      <th>매출액</th>\n",
       "      <th>매출액</th>\n",
       "      <th>매출액</th>\n",
       "      <th>매출액</th>\n",
       "      <th>매출액</th>\n",
       "      <th>매출액</th>\n",
       "    </tr>\n",
       "    <tr>\n",
       "      <th>종목코드</th>\n",
       "      <th></th>\n",
       "      <th></th>\n",
       "      <th></th>\n",
       "      <th></th>\n",
       "      <th></th>\n",
       "      <th></th>\n",
       "      <th></th>\n",
       "      <th></th>\n",
       "      <th></th>\n",
       "      <th></th>\n",
       "      <th></th>\n",
       "      <th></th>\n",
       "    </tr>\n",
       "  </thead>\n",
       "  <tbody>\n",
       "    <tr>\n",
       "      <th>A000020</th>\n",
       "      <td>306602589.0</td>\n",
       "      <td>258881617.0</td>\n",
       "      <td>237470835.0</td>\n",
       "      <td>223201285.0</td>\n",
       "      <td>213472145.0</td>\n",
       "      <td>220240575.0</td>\n",
       "      <td>223371997.0</td>\n",
       "      <td>234561984.0</td>\n",
       "      <td>215279424.0</td>\n",
       "      <td>145115173.0</td>\n",
       "      <td>188607515.0</td>\n",
       "      <td>NaN</td>\n",
       "    </tr>\n",
       "  </tbody>\n",
       "</table>\n",
       "</div>"
      ],
      "text/plain": [
       "             2018/12      2017/12      2016/12      2015/12      2014/12  \\\n",
       "                 매출액          매출액          매출액          매출액          매출액   \n",
       "종목코드                                                                       \n",
       "A000020  306602589.0  258881617.0  237470835.0  223201285.0  213472145.0   \n",
       "\n",
       "             2013/12      2012/12      2011/12      2010/12      2009/12  \\\n",
       "                 매출액          매출액          매출액          매출액          매출액   \n",
       "종목코드                                                                       \n",
       "A000020  220240575.0  223371997.0  234561984.0  215279424.0  145115173.0   \n",
       "\n",
       "             2008/12 2007/12  \n",
       "                 매출액     매출액  \n",
       "종목코드                          \n",
       "A000020  188607515.0 NaN      "
      ]
     },
     "execution_count": 89,
     "metadata": {},
     "output_type": "execute_result"
    }
   ],
   "source": [
    "sell.loc[['A000020']]"
   ]
  },
  {
   "cell_type": "code",
   "execution_count": 90,
   "metadata": {},
   "outputs": [
    {
     "data": {
      "text/html": [
       "<div>\n",
       "<style scoped>\n",
       "    .dataframe tbody tr th:only-of-type {\n",
       "        vertical-align: middle;\n",
       "    }\n",
       "\n",
       "    .dataframe tbody tr th {\n",
       "        vertical-align: top;\n",
       "    }\n",
       "\n",
       "    .dataframe thead tr th {\n",
       "        text-align: left;\n",
       "    }\n",
       "\n",
       "    .dataframe thead tr:last-of-type th {\n",
       "        text-align: right;\n",
       "    }\n",
       "</style>\n",
       "<table border=\"1\" class=\"dataframe\">\n",
       "  <thead>\n",
       "    <tr>\n",
       "      <th></th>\n",
       "      <th>2018/12</th>\n",
       "      <th>2017/12</th>\n",
       "      <th>2016/12</th>\n",
       "      <th>2015/12</th>\n",
       "      <th>2014/12</th>\n",
       "      <th>2013/12</th>\n",
       "      <th>2012/12</th>\n",
       "      <th>2011/12</th>\n",
       "      <th>2010/12</th>\n",
       "      <th>2009/12</th>\n",
       "      <th>2008/12</th>\n",
       "      <th>2007/12</th>\n",
       "    </tr>\n",
       "    <tr>\n",
       "      <th></th>\n",
       "      <th>매출총이익</th>\n",
       "      <th>매출총이익</th>\n",
       "      <th>매출총이익</th>\n",
       "      <th>매출총이익</th>\n",
       "      <th>매출총이익</th>\n",
       "      <th>매출총이익</th>\n",
       "      <th>매출총이익</th>\n",
       "      <th>매출총이익</th>\n",
       "      <th>매출총이익</th>\n",
       "      <th>매출총이익</th>\n",
       "      <th>매출총이익</th>\n",
       "      <th>매출총이익</th>\n",
       "    </tr>\n",
       "    <tr>\n",
       "      <th>종목코드</th>\n",
       "      <th></th>\n",
       "      <th></th>\n",
       "      <th></th>\n",
       "      <th></th>\n",
       "      <th></th>\n",
       "      <th></th>\n",
       "      <th></th>\n",
       "      <th></th>\n",
       "      <th></th>\n",
       "      <th></th>\n",
       "      <th></th>\n",
       "      <th></th>\n",
       "    </tr>\n",
       "  </thead>\n",
       "  <tbody>\n",
       "    <tr>\n",
       "      <th>A000020</th>\n",
       "      <td>115903237.0</td>\n",
       "      <td>108083601.0</td>\n",
       "      <td>103177389.0</td>\n",
       "      <td>96579379.0</td>\n",
       "      <td>95203910.0</td>\n",
       "      <td>103706156.0</td>\n",
       "      <td>98772674.0</td>\n",
       "      <td>104411321.0</td>\n",
       "      <td>99825182.0</td>\n",
       "      <td>NaN</td>\n",
       "      <td>NaN</td>\n",
       "      <td>NaN</td>\n",
       "    </tr>\n",
       "  </tbody>\n",
       "</table>\n",
       "</div>"
      ],
      "text/plain": [
       "             2018/12      2017/12      2016/12     2015/12     2014/12  \\\n",
       "               매출총이익        매출총이익        매출총이익       매출총이익       매출총이익   \n",
       "종목코드                                                                     \n",
       "A000020  115903237.0  108083601.0  103177389.0  96579379.0  95203910.0   \n",
       "\n",
       "             2013/12     2012/12      2011/12     2010/12 2009/12 2008/12  \\\n",
       "               매출총이익       매출총이익        매출총이익       매출총이익   매출총이익   매출총이익   \n",
       "종목코드                                                                        \n",
       "A000020  103706156.0  98772674.0  104411321.0  99825182.0 NaN     NaN       \n",
       "\n",
       "        2007/12  \n",
       "          매출총이익  \n",
       "종목코드             \n",
       "A000020 NaN      "
      ]
     },
     "execution_count": 90,
     "metadata": {},
     "output_type": "execute_result"
    }
   ],
   "source": [
    "total_profit.loc[['A000020']]\n"
   ]
  },
  {
   "cell_type": "code",
   "execution_count": 82,
   "metadata": {},
   "outputs": [],
   "source": [
    "!open ."
   ]
  },
  {
   "cell_type": "code",
   "execution_count": null,
   "metadata": {},
   "outputs": [],
   "source": [
    "def make_total_fs_df():\n",
    "    asset = make_account_df('자산', '재무상태')\n",
    "    capital = make_account_df('자본', '재무상태')\n",
    "    debt = make_account_df('부채','재무상태')\n",
    "    profit = make_account_df('당기순이익', '포괄손익')\n",
    "    sell = make_account_df('매출액', '포괄손익')\n",
    "    sell[('2007/12', '매출액')] = np.NaN\n",
    "    cost = make_account_df('매출원가', '포괄손익')\n",
    "    cost[('2008/12', '매출원가')] = np.NaN\n",
    "    cost[('2007/12', '매출원가')] = np.NaN\n",
    "    total_profit = make_account_df('매출총이익', '포괄손익')\n",
    "    total_profit[('2009/12', '매출총이익')] = np.NaN\n",
    "    total_profit[('2008/12', '매출총이익')] = np.NaN\n",
    "    total_profit[('2007/12', '매출총이익')] = np.NaN\n",
    "    busi_profit = make_account_df('영업이익', '포괄손익')\n",
    "    current = make_account_df('영업활동으로인한현금흐름', '재무비율')\n",
    "\n",
    "    for num, column in enumerate(asset.columns):\n",
    "        asset_col = asset[[asset.columns[num]]]\n",
    "        capital_col = capital[[capital.columns[num]]]\n",
    "        debt_col = debt[[debt.columns[num]]]\n",
    "        profit_col = profit[[profit.columns[num]]]\n",
    "        sell_col = sell[[sell.columns[num]]]\n",
    "        cost_col = cost[[cost.columns[num]]]\n",
    "        total_profit_col = total_profit[[total_profit.columns[num]]]\n",
    "        busi_profit_col = busi_profit[[busi_profit.columns[num]]]\n",
    "        current_col = current[[current.columns[num]]]\n",
    "    #     temp_df = pd.concat([roa_col,roic_col,debt_col,profit_col,current_col], axis=1, sort=False)\n",
    "        temp_df = merge_df_list([asset_col,capital_col,debt_col,profit_col,sell_col,cost_col,total_profit_col,busi_profit_col,current_col])\n",
    "        if num == 0:\n",
    "            total_df = temp_df\n",
    "        else:\n",
    "            total_df = pd.concat([total_df, temp_df], axis=1)\n",
    "    return total_df"
   ]
  },
  {
   "cell_type": "code",
   "execution_count": null,
   "metadata": {},
   "outputs": [],
   "source": [
    "def qp_formula(index_date, num = None):\n",
    "    pbr = low_pbr(index_date, num)\n",
    "    gpa = high_gpa(index_date, num)\n",
    "    pbr['PBR_RANK'] = pbr['PBR'].rank()\n",
    "    gpa['GPA_RANK'] = gpa['GPA'].rank(ascending=False)\n",
    "    qp = pd.merge(pbr, gpa, how='outer', left_index=True, right_index=True)\n",
    "    qp['MAGIC_RANK'] = (qp['PBR_RANK'] + qp['GPA_RANK']).rank()\n",
    "    qp = qp.sort_values(by='MAGIC_RANK')\n",
    "    return qp[:num]"
   ]
  },
  {
   "cell_type": "code",
   "execution_count": null,
   "metadata": {},
   "outputs": [],
   "source": [
    "def _high_gpa(fs_df, index_date, num):\n",
    "    gpa = fs_df[index_date]\n",
    "    gpa['GPA'] = gpa['매출총이익']/gpa['자산']\n",
    "    gpa_sorted = gpa.sort_values(by='GPA', ascending=False)\n",
    "    return gpa_sorted[:num]\n"
   ]
  },
  {
   "cell_type": "code",
   "execution_count": 94,
   "metadata": {},
   "outputs": [],
   "source": [
    "fs_df = make_total_fs_df()"
   ]
  },
  {
   "cell_type": "code",
   "execution_count": 95,
   "metadata": {},
   "outputs": [
    {
     "name": "stderr",
     "output_type": "stream",
     "text": [
      "/Users/Shared/anaconda3/anaconda3/lib/python3.7/site-packages/ipykernel_launcher.py:2: SettingWithCopyWarning: \n",
      "A value is trying to be set on a copy of a slice from a DataFrame.\n",
      "Try using .loc[row_indexer,col_indexer] = value instead\n",
      "\n",
      "See the caveats in the documentation: http://pandas.pydata.org/pandas-docs/stable/indexing.html#indexing-view-versus-copy\n",
      "  \n"
     ]
    }
   ],
   "source": [
    "gpa = fs_df[strategy_date]\n",
    "gpa['GPA'] = gpa['매출총이익']/gpa['자산']\n",
    "gpa_sorted = gpa.sort_values(by='GPA', ascending=False)"
   ]
  },
  {
   "cell_type": "code",
   "execution_count": 147,
   "metadata": {
    "collapsed": true
   },
   "outputs": [
    {
     "data": {
      "text/html": [
       "<div>\n",
       "<style scoped>\n",
       "    .dataframe tbody tr th:only-of-type {\n",
       "        vertical-align: middle;\n",
       "    }\n",
       "\n",
       "    .dataframe tbody tr th {\n",
       "        vertical-align: top;\n",
       "    }\n",
       "\n",
       "    .dataframe thead th {\n",
       "        text-align: right;\n",
       "    }\n",
       "</style>\n",
       "<table border=\"1\" class=\"dataframe\">\n",
       "  <thead>\n",
       "    <tr style=\"text-align: right;\">\n",
       "      <th></th>\n",
       "      <th>자산</th>\n",
       "      <th>자본</th>\n",
       "      <th>부채</th>\n",
       "      <th>당기순이익</th>\n",
       "      <th>매출액</th>\n",
       "      <th>매출원가</th>\n",
       "      <th>매출총이익</th>\n",
       "      <th>영업이익</th>\n",
       "      <th>영업활동으로인한현금흐름</th>\n",
       "      <th>GPA</th>\n",
       "    </tr>\n",
       "    <tr>\n",
       "      <th>종목코드</th>\n",
       "      <th></th>\n",
       "      <th></th>\n",
       "      <th></th>\n",
       "      <th></th>\n",
       "      <th></th>\n",
       "      <th></th>\n",
       "      <th></th>\n",
       "      <th></th>\n",
       "      <th></th>\n",
       "      <th></th>\n",
       "    </tr>\n",
       "  </thead>\n",
       "  <tbody>\n",
       "    <tr>\n",
       "      <th>A284610</th>\n",
       "      <td>2.860572e+07</td>\n",
       "      <td>9.965688e+06</td>\n",
       "      <td>1.864003e+07</td>\n",
       "      <td>2589358.0</td>\n",
       "      <td>7.411956e+07</td>\n",
       "      <td>2.642501e+07</td>\n",
       "      <td>4.769454e+07</td>\n",
       "      <td>3.421248e+06</td>\n",
       "      <td>1846477.0</td>\n",
       "      <td>1.667308</td>\n",
       "    </tr>\n",
       "    <tr>\n",
       "      <th>A267810</th>\n",
       "      <td>9.098310e+06</td>\n",
       "      <td>2.706934e+06</td>\n",
       "      <td>6.391376e+06</td>\n",
       "      <td>1026470.0</td>\n",
       "      <td>4.652450e+07</td>\n",
       "      <td>3.137855e+07</td>\n",
       "      <td>1.514595e+07</td>\n",
       "      <td>1.322583e+06</td>\n",
       "      <td>1646894.0</td>\n",
       "      <td>1.664699</td>\n",
       "    </tr>\n",
       "    <tr>\n",
       "      <th>A233990</th>\n",
       "      <td>1.324265e+07</td>\n",
       "      <td>4.423838e+06</td>\n",
       "      <td>8.818812e+06</td>\n",
       "      <td>-3040862.0</td>\n",
       "      <td>2.153355e+07</td>\n",
       "      <td>3.364786e+06</td>\n",
       "      <td>1.816876e+07</td>\n",
       "      <td>-2.743935e+06</td>\n",
       "      <td>-329726.0</td>\n",
       "      <td>1.371989</td>\n",
       "    </tr>\n",
       "    <tr>\n",
       "      <th>A288490</th>\n",
       "      <td>2.154043e+06</td>\n",
       "      <td>1.227697e+06</td>\n",
       "      <td>9.263460e+05</td>\n",
       "      <td>420347.0</td>\n",
       "      <td>3.264397e+06</td>\n",
       "      <td>3.307910e+05</td>\n",
       "      <td>2.933605e+06</td>\n",
       "      <td>2.906470e+05</td>\n",
       "      <td>755785.0</td>\n",
       "      <td>1.361906</td>\n",
       "    </tr>\n",
       "    <tr>\n",
       "      <th>A284420</th>\n",
       "      <td>1.868961e+07</td>\n",
       "      <td>1.057611e+07</td>\n",
       "      <td>8.113501e+06</td>\n",
       "      <td>-2156190.0</td>\n",
       "      <td>4.562194e+07</td>\n",
       "      <td>2.215019e+07</td>\n",
       "      <td>2.347175e+07</td>\n",
       "      <td>-2.739502e+06</td>\n",
       "      <td>-3520772.0</td>\n",
       "      <td>1.255872</td>\n",
       "    </tr>\n",
       "    <tr>\n",
       "      <th>A329050</th>\n",
       "      <td>5.277042e+06</td>\n",
       "      <td>1.218543e+06</td>\n",
       "      <td>4.058499e+06</td>\n",
       "      <td>313102.0</td>\n",
       "      <td>1.034374e+07</td>\n",
       "      <td>4.057069e+06</td>\n",
       "      <td>6.286671e+06</td>\n",
       "      <td>5.199010e+05</td>\n",
       "      <td>-818087.0</td>\n",
       "      <td>1.191325</td>\n",
       "    </tr>\n",
       "    <tr>\n",
       "      <th>A270870</th>\n",
       "      <td>5.891651e+07</td>\n",
       "      <td>4.895375e+07</td>\n",
       "      <td>9.962758e+06</td>\n",
       "      <td>2137856.0</td>\n",
       "      <td>8.721881e+07</td>\n",
       "      <td>2.154943e+07</td>\n",
       "      <td>6.566939e+07</td>\n",
       "      <td>9.893473e+06</td>\n",
       "      <td>7898889.0</td>\n",
       "      <td>1.114618</td>\n",
       "    </tr>\n",
       "    <tr>\n",
       "      <th>A210610</th>\n",
       "      <td>1.179238e+07</td>\n",
       "      <td>6.745299e+06</td>\n",
       "      <td>5.047078e+06</td>\n",
       "      <td>1524905.0</td>\n",
       "      <td>1.707083e+07</td>\n",
       "      <td>4.395379e+06</td>\n",
       "      <td>1.267545e+07</td>\n",
       "      <td>2.709417e+06</td>\n",
       "      <td>1434108.0</td>\n",
       "      <td>1.074885</td>\n",
       "    </tr>\n",
       "    <tr>\n",
       "      <th>A051160</th>\n",
       "      <td>2.838861e+07</td>\n",
       "      <td>9.253594e+06</td>\n",
       "      <td>1.913502e+07</td>\n",
       "      <td>973501.0</td>\n",
       "      <td>1.315550e+08</td>\n",
       "      <td>1.025698e+08</td>\n",
       "      <td>2.898522e+07</td>\n",
       "      <td>1.172741e+06</td>\n",
       "      <td>3640313.0</td>\n",
       "      <td>1.021016</td>\n",
       "    </tr>\n",
       "    <tr>\n",
       "      <th>A950170</th>\n",
       "      <td>3.601038e+08</td>\n",
       "      <td>2.440315e+08</td>\n",
       "      <td>1.160723e+08</td>\n",
       "      <td>7966390.0</td>\n",
       "      <td>5.189175e+08</td>\n",
       "      <td>1.592764e+08</td>\n",
       "      <td>3.596411e+08</td>\n",
       "      <td>2.288439e+07</td>\n",
       "      <td>13138388.0</td>\n",
       "      <td>0.998715</td>\n",
       "    </tr>\n",
       "    <tr>\n",
       "      <th>A011080</th>\n",
       "      <td>6.809542e+07</td>\n",
       "      <td>2.090904e+07</td>\n",
       "      <td>4.718638e+07</td>\n",
       "      <td>-6227894.0</td>\n",
       "      <td>1.087565e+08</td>\n",
       "      <td>4.281405e+07</td>\n",
       "      <td>6.594245e+07</td>\n",
       "      <td>-8.827060e+05</td>\n",
       "      <td>4498919.0</td>\n",
       "      <td>0.968383</td>\n",
       "    </tr>\n",
       "    <tr>\n",
       "      <th>A225590</th>\n",
       "      <td>4.326281e+07</td>\n",
       "      <td>3.164001e+07</td>\n",
       "      <td>1.162280e+07</td>\n",
       "      <td>1210624.0</td>\n",
       "      <td>7.430720e+07</td>\n",
       "      <td>3.351373e+07</td>\n",
       "      <td>4.079347e+07</td>\n",
       "      <td>5.004881e+06</td>\n",
       "      <td>5455159.0</td>\n",
       "      <td>0.942922</td>\n",
       "    </tr>\n",
       "    <tr>\n",
       "      <th>A225860</th>\n",
       "      <td>2.323648e+07</td>\n",
       "      <td>2.542083e+06</td>\n",
       "      <td>2.069440e+07</td>\n",
       "      <td>-4783213.0</td>\n",
       "      <td>2.804592e+07</td>\n",
       "      <td>6.201606e+06</td>\n",
       "      <td>2.184431e+07</td>\n",
       "      <td>-3.742489e+06</td>\n",
       "      <td>-8494397.0</td>\n",
       "      <td>0.940087</td>\n",
       "    </tr>\n",
       "    <tr>\n",
       "      <th>A069640</th>\n",
       "      <td>2.056286e+08</td>\n",
       "      <td>1.485118e+08</td>\n",
       "      <td>5.711690e+07</td>\n",
       "      <td>4003517.0</td>\n",
       "      <td>3.229905e+08</td>\n",
       "      <td>1.312919e+08</td>\n",
       "      <td>1.916986e+08</td>\n",
       "      <td>2.404725e+06</td>\n",
       "      <td>17442514.0</td>\n",
       "      <td>0.932256</td>\n",
       "    </tr>\n",
       "    <tr>\n",
       "      <th>A220110</th>\n",
       "      <td>3.374677e+06</td>\n",
       "      <td>4.935430e+05</td>\n",
       "      <td>2.881135e+06</td>\n",
       "      <td>-6393963.0</td>\n",
       "      <td>1.600831e+07</td>\n",
       "      <td>1.296412e+07</td>\n",
       "      <td>3.044185e+06</td>\n",
       "      <td>7.484820e+05</td>\n",
       "      <td>-6384736.0</td>\n",
       "      <td>0.902067</td>\n",
       "    </tr>\n",
       "    <tr>\n",
       "      <th>A225850</th>\n",
       "      <td>2.233857e+07</td>\n",
       "      <td>4.569759e+06</td>\n",
       "      <td>1.776881e+07</td>\n",
       "      <td>-3116937.0</td>\n",
       "      <td>2.719607e+07</td>\n",
       "      <td>7.149750e+06</td>\n",
       "      <td>2.004632e+07</td>\n",
       "      <td>-2.563185e+06</td>\n",
       "      <td>-6370270.0</td>\n",
       "      <td>0.897386</td>\n",
       "    </tr>\n",
       "    <tr>\n",
       "      <th>A007700</th>\n",
       "      <td>4.958327e+08</td>\n",
       "      <td>3.947904e+08</td>\n",
       "      <td>1.010423e+08</td>\n",
       "      <td>109298574.0</td>\n",
       "      <td>6.687268e+08</td>\n",
       "      <td>2.280712e+08</td>\n",
       "      <td>4.406556e+08</td>\n",
       "      <td>9.151841e+07</td>\n",
       "      <td>27308909.0</td>\n",
       "      <td>0.888718</td>\n",
       "    </tr>\n",
       "    <tr>\n",
       "      <th>A123690</th>\n",
       "      <td>9.502103e+07</td>\n",
       "      <td>5.277810e+07</td>\n",
       "      <td>4.224293e+07</td>\n",
       "      <td>-7746017.0</td>\n",
       "      <td>1.538826e+08</td>\n",
       "      <td>7.018041e+07</td>\n",
       "      <td>8.370216e+07</td>\n",
       "      <td>-7.485328e+06</td>\n",
       "      <td>-1293286.0</td>\n",
       "      <td>0.880880</td>\n",
       "    </tr>\n",
       "    <tr>\n",
       "      <th>A018250</th>\n",
       "      <td>4.101723e+08</td>\n",
       "      <td>3.091086e+08</td>\n",
       "      <td>1.010637e+08</td>\n",
       "      <td>60789196.0</td>\n",
       "      <td>6.995845e+08</td>\n",
       "      <td>3.446145e+08</td>\n",
       "      <td>3.549700e+08</td>\n",
       "      <td>7.917068e+07</td>\n",
       "      <td>41227992.0</td>\n",
       "      <td>0.865417</td>\n",
       "    </tr>\n",
       "    <tr>\n",
       "      <th>A080160</th>\n",
       "      <td>3.345851e+08</td>\n",
       "      <td>1.611908e+08</td>\n",
       "      <td>1.733943e+08</td>\n",
       "      <td>12178269.0</td>\n",
       "      <td>3.649730e+08</td>\n",
       "      <td>8.697922e+07</td>\n",
       "      <td>2.779938e+08</td>\n",
       "      <td>1.661072e+07</td>\n",
       "      <td>34352231.0</td>\n",
       "      <td>0.830861</td>\n",
       "    </tr>\n",
       "    <tr>\n",
       "      <th>A279600</th>\n",
       "      <td>1.519579e+07</td>\n",
       "      <td>8.737783e+06</td>\n",
       "      <td>6.458011e+06</td>\n",
       "      <td>-532686.0</td>\n",
       "      <td>1.338320e+07</td>\n",
       "      <td>1.163914e+06</td>\n",
       "      <td>1.221928e+07</td>\n",
       "      <td>-2.172640e+05</td>\n",
       "      <td>767601.0</td>\n",
       "      <td>0.804123</td>\n",
       "    </tr>\n",
       "    <tr>\n",
       "      <th>A266870</th>\n",
       "      <td>1.324870e+07</td>\n",
       "      <td>1.162372e+07</td>\n",
       "      <td>1.624987e+06</td>\n",
       "      <td>202282.0</td>\n",
       "      <td>1.387440e+07</td>\n",
       "      <td>3.226331e+06</td>\n",
       "      <td>1.064807e+07</td>\n",
       "      <td>7.014940e+05</td>\n",
       "      <td>520888.0</td>\n",
       "      <td>0.803707</td>\n",
       "    </tr>\n",
       "    <tr>\n",
       "      <th>A234690</th>\n",
       "      <td>3.897349e+07</td>\n",
       "      <td>2.884490e+07</td>\n",
       "      <td>1.012859e+07</td>\n",
       "      <td>5677973.0</td>\n",
       "      <td>5.388282e+07</td>\n",
       "      <td>2.359353e+07</td>\n",
       "      <td>3.028929e+07</td>\n",
       "      <td>8.408546e+06</td>\n",
       "      <td>5445987.0</td>\n",
       "      <td>0.777177</td>\n",
       "    </tr>\n",
       "    <tr>\n",
       "      <th>A065150</th>\n",
       "      <td>6.560418e+07</td>\n",
       "      <td>3.467581e+07</td>\n",
       "      <td>3.092836e+07</td>\n",
       "      <td>-20985299.0</td>\n",
       "      <td>1.198098e+08</td>\n",
       "      <td>6.888510e+07</td>\n",
       "      <td>5.092470e+07</td>\n",
       "      <td>-3.770650e+05</td>\n",
       "      <td>-6641457.0</td>\n",
       "      <td>0.776242</td>\n",
       "    </tr>\n",
       "    <tr>\n",
       "      <th>A021240</th>\n",
       "      <td>2.378903e+09</td>\n",
       "      <td>1.087698e+09</td>\n",
       "      <td>1.291205e+09</td>\n",
       "      <td>349811489.0</td>\n",
       "      <td>2.707315e+09</td>\n",
       "      <td>8.782564e+08</td>\n",
       "      <td>1.829059e+09</td>\n",
       "      <td>5.198272e+08</td>\n",
       "      <td>539129778.0</td>\n",
       "      <td>0.768866</td>\n",
       "    </tr>\n",
       "    <tr>\n",
       "      <th>A083660</th>\n",
       "      <td>3.746706e+07</td>\n",
       "      <td>2.362360e+07</td>\n",
       "      <td>1.384346e+07</td>\n",
       "      <td>-464796.0</td>\n",
       "      <td>6.352652e+07</td>\n",
       "      <td>3.472733e+07</td>\n",
       "      <td>2.879919e+07</td>\n",
       "      <td>2.021600e+04</td>\n",
       "      <td>-4747968.0</td>\n",
       "      <td>0.768653</td>\n",
       "    </tr>\n",
       "    <tr>\n",
       "      <th>A051900</th>\n",
       "      <td>5.275874e+09</td>\n",
       "      <td>3.594020e+09</td>\n",
       "      <td>1.681854e+09</td>\n",
       "      <td>692278706.0</td>\n",
       "      <td>6.747537e+09</td>\n",
       "      <td>2.696414e+09</td>\n",
       "      <td>4.051123e+09</td>\n",
       "      <td>1.039250e+09</td>\n",
       "      <td>817116844.0</td>\n",
       "      <td>0.767858</td>\n",
       "    </tr>\n",
       "    <tr>\n",
       "      <th>A002070</th>\n",
       "      <td>1.551089e+08</td>\n",
       "      <td>1.204146e+08</td>\n",
       "      <td>3.469432e+07</td>\n",
       "      <td>-6688390.0</td>\n",
       "      <td>2.061386e+08</td>\n",
       "      <td>8.753872e+07</td>\n",
       "      <td>1.185999e+08</td>\n",
       "      <td>-3.919376e+06</td>\n",
       "      <td>923099.0</td>\n",
       "      <td>0.764623</td>\n",
       "    </tr>\n",
       "    <tr>\n",
       "      <th>A267790</th>\n",
       "      <td>4.137999e+07</td>\n",
       "      <td>3.845549e+07</td>\n",
       "      <td>2.924498e+06</td>\n",
       "      <td>4393257.0</td>\n",
       "      <td>5.006854e+07</td>\n",
       "      <td>1.866200e+07</td>\n",
       "      <td>3.140654e+07</td>\n",
       "      <td>6.674070e+06</td>\n",
       "      <td>1891738.0</td>\n",
       "      <td>0.758979</td>\n",
       "    </tr>\n",
       "    <tr>\n",
       "      <th>A244880</th>\n",
       "      <td>1.010377e+07</td>\n",
       "      <td>7.482816e+06</td>\n",
       "      <td>2.620952e+06</td>\n",
       "      <td>2406104.0</td>\n",
       "      <td>1.147163e+07</td>\n",
       "      <td>3.821321e+06</td>\n",
       "      <td>7.650313e+06</td>\n",
       "      <td>2.887715e+06</td>\n",
       "      <td>2296635.0</td>\n",
       "      <td>0.757174</td>\n",
       "    </tr>\n",
       "    <tr>\n",
       "      <th>...</th>\n",
       "      <td>...</td>\n",
       "      <td>...</td>\n",
       "      <td>...</td>\n",
       "      <td>...</td>\n",
       "      <td>...</td>\n",
       "      <td>...</td>\n",
       "      <td>...</td>\n",
       "      <td>...</td>\n",
       "      <td>...</td>\n",
       "      <td>...</td>\n",
       "    </tr>\n",
       "    <tr>\n",
       "      <th>A106080</th>\n",
       "      <td>3.406171e+07</td>\n",
       "      <td>2.786211e+06</td>\n",
       "      <td>3.127550e+07</td>\n",
       "      <td>-33001201.0</td>\n",
       "      <td>2.006496e+07</td>\n",
       "      <td>2.147672e+07</td>\n",
       "      <td>-1.411760e+06</td>\n",
       "      <td>-6.246702e+06</td>\n",
       "      <td>-5507031.0</td>\n",
       "      <td>-0.041447</td>\n",
       "    </tr>\n",
       "    <tr>\n",
       "      <th>A053660</th>\n",
       "      <td>2.143151e+08</td>\n",
       "      <td>5.639827e+07</td>\n",
       "      <td>1.579168e+08</td>\n",
       "      <td>-21073689.0</td>\n",
       "      <td>1.212270e+08</td>\n",
       "      <td>1.302027e+08</td>\n",
       "      <td>-8.975723e+06</td>\n",
       "      <td>-1.828359e+07</td>\n",
       "      <td>-28738710.0</td>\n",
       "      <td>-0.041881</td>\n",
       "    </tr>\n",
       "    <tr>\n",
       "      <th>A103230</th>\n",
       "      <td>5.786167e+07</td>\n",
       "      <td>4.222299e+07</td>\n",
       "      <td>1.563869e+07</td>\n",
       "      <td>-10219575.0</td>\n",
       "      <td>3.023976e+07</td>\n",
       "      <td>3.272642e+07</td>\n",
       "      <td>-2.486663e+06</td>\n",
       "      <td>-8.324956e+06</td>\n",
       "      <td>-3551810.0</td>\n",
       "      <td>-0.042976</td>\n",
       "    </tr>\n",
       "    <tr>\n",
       "      <th>A054220</th>\n",
       "      <td>8.207230e+07</td>\n",
       "      <td>1.189863e+07</td>\n",
       "      <td>7.017367e+07</td>\n",
       "      <td>-48704368.0</td>\n",
       "      <td>2.950676e+07</td>\n",
       "      <td>3.308773e+07</td>\n",
       "      <td>-3.580972e+06</td>\n",
       "      <td>-2.133244e+07</td>\n",
       "      <td>-12553495.0</td>\n",
       "      <td>-0.043632</td>\n",
       "    </tr>\n",
       "    <tr>\n",
       "      <th>A143540</th>\n",
       "      <td>1.096984e+08</td>\n",
       "      <td>7.829902e+06</td>\n",
       "      <td>1.018685e+08</td>\n",
       "      <td>-18244163.0</td>\n",
       "      <td>1.462975e+08</td>\n",
       "      <td>1.513495e+08</td>\n",
       "      <td>-5.051993e+06</td>\n",
       "      <td>-1.433005e+07</td>\n",
       "      <td>1914463.0</td>\n",
       "      <td>-0.046053</td>\n",
       "    </tr>\n",
       "    <tr>\n",
       "      <th>A114120</th>\n",
       "      <td>1.520303e+08</td>\n",
       "      <td>8.537911e+07</td>\n",
       "      <td>6.665122e+07</td>\n",
       "      <td>-53631814.0</td>\n",
       "      <td>8.367507e+07</td>\n",
       "      <td>9.106705e+07</td>\n",
       "      <td>-7.391984e+06</td>\n",
       "      <td>-2.995663e+07</td>\n",
       "      <td>-6446438.0</td>\n",
       "      <td>-0.048622</td>\n",
       "    </tr>\n",
       "    <tr>\n",
       "      <th>A168330</th>\n",
       "      <td>6.116596e+07</td>\n",
       "      <td>3.648730e+07</td>\n",
       "      <td>2.467866e+07</td>\n",
       "      <td>-23238141.0</td>\n",
       "      <td>8.928362e+06</td>\n",
       "      <td>1.203239e+07</td>\n",
       "      <td>-3.104027e+06</td>\n",
       "      <td>-1.358734e+07</td>\n",
       "      <td>-8151755.0</td>\n",
       "      <td>-0.050748</td>\n",
       "    </tr>\n",
       "    <tr>\n",
       "      <th>A060900</th>\n",
       "      <td>3.814548e+07</td>\n",
       "      <td>1.575908e+07</td>\n",
       "      <td>2.238639e+07</td>\n",
       "      <td>-13331758.0</td>\n",
       "      <td>2.963705e+07</td>\n",
       "      <td>3.163048e+07</td>\n",
       "      <td>-1.993436e+06</td>\n",
       "      <td>-6.654644e+06</td>\n",
       "      <td>-1864155.0</td>\n",
       "      <td>-0.052259</td>\n",
       "    </tr>\n",
       "    <tr>\n",
       "      <th>A101000</th>\n",
       "      <td>6.972613e+07</td>\n",
       "      <td>2.873563e+07</td>\n",
       "      <td>4.099050e+07</td>\n",
       "      <td>-122952364.0</td>\n",
       "      <td>6.581230e+07</td>\n",
       "      <td>6.990357e+07</td>\n",
       "      <td>-4.091267e+06</td>\n",
       "      <td>-1.801584e+07</td>\n",
       "      <td>-5107972.0</td>\n",
       "      <td>-0.058676</td>\n",
       "    </tr>\n",
       "    <tr>\n",
       "      <th>A082660</th>\n",
       "      <td>7.938152e+07</td>\n",
       "      <td>1.359981e+07</td>\n",
       "      <td>6.578171e+07</td>\n",
       "      <td>-49456748.0</td>\n",
       "      <td>8.700741e+07</td>\n",
       "      <td>9.222889e+07</td>\n",
       "      <td>-5.221481e+06</td>\n",
       "      <td>-1.101593e+07</td>\n",
       "      <td>-946144.0</td>\n",
       "      <td>-0.065777</td>\n",
       "    </tr>\n",
       "    <tr>\n",
       "      <th>A011200</th>\n",
       "      <td>4.121440e+09</td>\n",
       "      <td>1.039671e+09</td>\n",
       "      <td>3.081769e+09</td>\n",
       "      <td>-790563000.0</td>\n",
       "      <td>5.222124e+09</td>\n",
       "      <td>5.498944e+09</td>\n",
       "      <td>-2.768200e+08</td>\n",
       "      <td>-5.586560e+08</td>\n",
       "      <td>-416902000.0</td>\n",
       "      <td>-0.067166</td>\n",
       "    </tr>\n",
       "    <tr>\n",
       "      <th>A101680</th>\n",
       "      <td>9.062181e+07</td>\n",
       "      <td>5.747726e+07</td>\n",
       "      <td>3.314455e+07</td>\n",
       "      <td>-18523299.0</td>\n",
       "      <td>4.287877e+07</td>\n",
       "      <td>4.986662e+07</td>\n",
       "      <td>-6.987857e+06</td>\n",
       "      <td>-1.497074e+07</td>\n",
       "      <td>-2352846.0</td>\n",
       "      <td>-0.077110</td>\n",
       "    </tr>\n",
       "    <tr>\n",
       "      <th>A008800</th>\n",
       "      <td>1.061340e+08</td>\n",
       "      <td>6.055897e+07</td>\n",
       "      <td>4.557505e+07</td>\n",
       "      <td>-10946407.0</td>\n",
       "      <td>8.673759e+06</td>\n",
       "      <td>1.698202e+07</td>\n",
       "      <td>-8.308265e+06</td>\n",
       "      <td>-1.547890e+07</td>\n",
       "      <td>-5963295.0</td>\n",
       "      <td>-0.078281</td>\n",
       "    </tr>\n",
       "    <tr>\n",
       "      <th>A082800</th>\n",
       "      <td>1.006519e+08</td>\n",
       "      <td>6.844591e+07</td>\n",
       "      <td>3.220595e+07</td>\n",
       "      <td>-8534275.0</td>\n",
       "      <td>4.600313e+07</td>\n",
       "      <td>5.428678e+07</td>\n",
       "      <td>-8.283646e+06</td>\n",
       "      <td>-1.291070e+07</td>\n",
       "      <td>-4588748.0</td>\n",
       "      <td>-0.082300</td>\n",
       "    </tr>\n",
       "    <tr>\n",
       "      <th>A010820</th>\n",
       "      <td>1.606864e+08</td>\n",
       "      <td>3.948585e+07</td>\n",
       "      <td>1.212005e+08</td>\n",
       "      <td>-35554591.0</td>\n",
       "      <td>1.315780e+08</td>\n",
       "      <td>1.449095e+08</td>\n",
       "      <td>-1.333152e+07</td>\n",
       "      <td>-2.241973e+07</td>\n",
       "      <td>20933348.0</td>\n",
       "      <td>-0.082966</td>\n",
       "    </tr>\n",
       "    <tr>\n",
       "      <th>A001210</th>\n",
       "      <td>1.702953e+08</td>\n",
       "      <td>3.469243e+07</td>\n",
       "      <td>1.356029e+08</td>\n",
       "      <td>-20930538.0</td>\n",
       "      <td>7.729623e+07</td>\n",
       "      <td>9.180850e+07</td>\n",
       "      <td>-1.451227e+07</td>\n",
       "      <td>-4.779987e+07</td>\n",
       "      <td>-2178327.0</td>\n",
       "      <td>-0.085218</td>\n",
       "    </tr>\n",
       "    <tr>\n",
       "      <th>A083470</th>\n",
       "      <td>5.707226e+07</td>\n",
       "      <td>1.145038e+07</td>\n",
       "      <td>4.562188e+07</td>\n",
       "      <td>-34709813.0</td>\n",
       "      <td>5.344872e+07</td>\n",
       "      <td>5.850451e+07</td>\n",
       "      <td>-5.055786e+06</td>\n",
       "      <td>-1.894776e+07</td>\n",
       "      <td>4231935.0</td>\n",
       "      <td>-0.088586</td>\n",
       "    </tr>\n",
       "    <tr>\n",
       "      <th>A060300</th>\n",
       "      <td>1.138832e+08</td>\n",
       "      <td>1.013587e+08</td>\n",
       "      <td>1.252448e+07</td>\n",
       "      <td>-49940729.0</td>\n",
       "      <td>1.227598e+07</td>\n",
       "      <td>2.266213e+07</td>\n",
       "      <td>-1.038615e+07</td>\n",
       "      <td>-2.402618e+07</td>\n",
       "      <td>-3199824.0</td>\n",
       "      <td>-0.091200</td>\n",
       "    </tr>\n",
       "    <tr>\n",
       "      <th>A025890</th>\n",
       "      <td>6.034840e+07</td>\n",
       "      <td>4.516277e+07</td>\n",
       "      <td>1.518563e+07</td>\n",
       "      <td>-10120006.0</td>\n",
       "      <td>3.913673e+07</td>\n",
       "      <td>4.503489e+07</td>\n",
       "      <td>-5.898157e+06</td>\n",
       "      <td>-8.875443e+06</td>\n",
       "      <td>-3042961.0</td>\n",
       "      <td>-0.097735</td>\n",
       "    </tr>\n",
       "    <tr>\n",
       "      <th>A195440</th>\n",
       "      <td>2.269987e+07</td>\n",
       "      <td>6.026210e+05</td>\n",
       "      <td>2.209725e+07</td>\n",
       "      <td>-13154210.0</td>\n",
       "      <td>1.736993e+07</td>\n",
       "      <td>1.965140e+07</td>\n",
       "      <td>-2.281464e+06</td>\n",
       "      <td>-9.304004e+06</td>\n",
       "      <td>4424044.0</td>\n",
       "      <td>-0.100506</td>\n",
       "    </tr>\n",
       "    <tr>\n",
       "      <th>A123010</th>\n",
       "      <td>1.762804e+07</td>\n",
       "      <td>6.033160e+06</td>\n",
       "      <td>1.159488e+07</td>\n",
       "      <td>-4378100.0</td>\n",
       "      <td>9.236824e+06</td>\n",
       "      <td>1.126282e+07</td>\n",
       "      <td>-2.026001e+06</td>\n",
       "      <td>-4.004988e+06</td>\n",
       "      <td>-856015.0</td>\n",
       "      <td>-0.114931</td>\n",
       "    </tr>\n",
       "    <tr>\n",
       "      <th>A051370</th>\n",
       "      <td>3.682342e+08</td>\n",
       "      <td>2.443225e+08</td>\n",
       "      <td>1.239117e+08</td>\n",
       "      <td>-79426987.0</td>\n",
       "      <td>3.139446e+08</td>\n",
       "      <td>3.565581e+08</td>\n",
       "      <td>-4.261345e+07</td>\n",
       "      <td>-6.622531e+07</td>\n",
       "      <td>-36892526.0</td>\n",
       "      <td>-0.115724</td>\n",
       "    </tr>\n",
       "    <tr>\n",
       "      <th>A064520</th>\n",
       "      <td>7.801914e+07</td>\n",
       "      <td>1.520794e+07</td>\n",
       "      <td>6.281120e+07</td>\n",
       "      <td>-28831043.0</td>\n",
       "      <td>9.297966e+07</td>\n",
       "      <td>1.020932e+08</td>\n",
       "      <td>-9.113581e+06</td>\n",
       "      <td>-2.286736e+07</td>\n",
       "      <td>-505207.0</td>\n",
       "      <td>-0.116812</td>\n",
       "    </tr>\n",
       "    <tr>\n",
       "      <th>A258050</th>\n",
       "      <td>4.758538e+06</td>\n",
       "      <td>2.988388e+06</td>\n",
       "      <td>1.770150e+06</td>\n",
       "      <td>-2010798.0</td>\n",
       "      <td>2.241770e+05</td>\n",
       "      <td>7.935240e+05</td>\n",
       "      <td>-5.693470e+05</td>\n",
       "      <td>-1.975487e+06</td>\n",
       "      <td>-1274795.0</td>\n",
       "      <td>-0.119647</td>\n",
       "    </tr>\n",
       "    <tr>\n",
       "      <th>A011420</th>\n",
       "      <td>3.325333e+07</td>\n",
       "      <td>2.647216e+07</td>\n",
       "      <td>6.781168e+06</td>\n",
       "      <td>-16003255.0</td>\n",
       "      <td>2.206041e+07</td>\n",
       "      <td>2.742811e+07</td>\n",
       "      <td>-5.367698e+06</td>\n",
       "      <td>-1.033785e+07</td>\n",
       "      <td>-2809869.0</td>\n",
       "      <td>-0.161418</td>\n",
       "    </tr>\n",
       "    <tr>\n",
       "      <th>A043200</th>\n",
       "      <td>4.851827e+07</td>\n",
       "      <td>3.358059e+07</td>\n",
       "      <td>1.493769e+07</td>\n",
       "      <td>-25964280.0</td>\n",
       "      <td>3.635202e+07</td>\n",
       "      <td>4.452378e+07</td>\n",
       "      <td>-8.171758e+06</td>\n",
       "      <td>-2.556968e+07</td>\n",
       "      <td>-6847229.0</td>\n",
       "      <td>-0.168426</td>\n",
       "    </tr>\n",
       "    <tr>\n",
       "      <th>A182690</th>\n",
       "      <td>1.987306e+07</td>\n",
       "      <td>5.446572e+06</td>\n",
       "      <td>1.442648e+07</td>\n",
       "      <td>-6473285.0</td>\n",
       "      <td>8.763792e+06</td>\n",
       "      <td>1.225466e+07</td>\n",
       "      <td>-3.490871e+06</td>\n",
       "      <td>-6.523301e+06</td>\n",
       "      <td>-4233719.0</td>\n",
       "      <td>-0.175658</td>\n",
       "    </tr>\n",
       "    <tr>\n",
       "      <th>A103130</th>\n",
       "      <td>2.367443e+08</td>\n",
       "      <td>4.120087e+07</td>\n",
       "      <td>1.955435e+08</td>\n",
       "      <td>-111761172.0</td>\n",
       "      <td>1.658379e+08</td>\n",
       "      <td>2.163192e+08</td>\n",
       "      <td>-5.048131e+07</td>\n",
       "      <td>-5.606734e+07</td>\n",
       "      <td>1387944.0</td>\n",
       "      <td>-0.213231</td>\n",
       "    </tr>\n",
       "    <tr>\n",
       "      <th>A084850</th>\n",
       "      <td>NaN</td>\n",
       "      <td>NaN</td>\n",
       "      <td>NaN</td>\n",
       "      <td>NaN</td>\n",
       "      <td>2.282371e+08</td>\n",
       "      <td>1.752468e+08</td>\n",
       "      <td>5.299037e+07</td>\n",
       "      <td>NaN</td>\n",
       "      <td>NaN</td>\n",
       "      <td>NaN</td>\n",
       "    </tr>\n",
       "    <tr>\n",
       "      <th>A317400</th>\n",
       "      <td>NaN</td>\n",
       "      <td>NaN</td>\n",
       "      <td>NaN</td>\n",
       "      <td>NaN</td>\n",
       "      <td>2.126963e+08</td>\n",
       "      <td>1.885666e+08</td>\n",
       "      <td>2.412975e+07</td>\n",
       "      <td>NaN</td>\n",
       "      <td>NaN</td>\n",
       "      <td>NaN</td>\n",
       "    </tr>\n",
       "  </tbody>\n",
       "</table>\n",
       "<p>2073 rows × 10 columns</p>\n",
       "</div>"
      ],
      "text/plain": [
       "                   자산            자본            부채        당기순이익           매출액  \\\n",
       "종목코드                                                                           \n",
       "A284610  2.860572e+07  9.965688e+06  1.864003e+07  2589358.0    7.411956e+07   \n",
       "A267810  9.098310e+06  2.706934e+06  6.391376e+06  1026470.0    4.652450e+07   \n",
       "A233990  1.324265e+07  4.423838e+06  8.818812e+06 -3040862.0    2.153355e+07   \n",
       "A288490  2.154043e+06  1.227697e+06  9.263460e+05  420347.0     3.264397e+06   \n",
       "A284420  1.868961e+07  1.057611e+07  8.113501e+06 -2156190.0    4.562194e+07   \n",
       "A329050  5.277042e+06  1.218543e+06  4.058499e+06  313102.0     1.034374e+07   \n",
       "A270870  5.891651e+07  4.895375e+07  9.962758e+06  2137856.0    8.721881e+07   \n",
       "A210610  1.179238e+07  6.745299e+06  5.047078e+06  1524905.0    1.707083e+07   \n",
       "A051160  2.838861e+07  9.253594e+06  1.913502e+07  973501.0     1.315550e+08   \n",
       "A950170  3.601038e+08  2.440315e+08  1.160723e+08  7966390.0    5.189175e+08   \n",
       "A011080  6.809542e+07  2.090904e+07  4.718638e+07 -6227894.0    1.087565e+08   \n",
       "A225590  4.326281e+07  3.164001e+07  1.162280e+07  1210624.0    7.430720e+07   \n",
       "A225860  2.323648e+07  2.542083e+06  2.069440e+07 -4783213.0    2.804592e+07   \n",
       "A069640  2.056286e+08  1.485118e+08  5.711690e+07  4003517.0    3.229905e+08   \n",
       "A220110  3.374677e+06  4.935430e+05  2.881135e+06 -6393963.0    1.600831e+07   \n",
       "A225850  2.233857e+07  4.569759e+06  1.776881e+07 -3116937.0    2.719607e+07   \n",
       "A007700  4.958327e+08  3.947904e+08  1.010423e+08  109298574.0  6.687268e+08   \n",
       "A123690  9.502103e+07  5.277810e+07  4.224293e+07 -7746017.0    1.538826e+08   \n",
       "A018250  4.101723e+08  3.091086e+08  1.010637e+08  60789196.0   6.995845e+08   \n",
       "A080160  3.345851e+08  1.611908e+08  1.733943e+08  12178269.0   3.649730e+08   \n",
       "A279600  1.519579e+07  8.737783e+06  6.458011e+06 -532686.0     1.338320e+07   \n",
       "A266870  1.324870e+07  1.162372e+07  1.624987e+06  202282.0     1.387440e+07   \n",
       "A234690  3.897349e+07  2.884490e+07  1.012859e+07  5677973.0    5.388282e+07   \n",
       "A065150  6.560418e+07  3.467581e+07  3.092836e+07 -20985299.0   1.198098e+08   \n",
       "A021240  2.378903e+09  1.087698e+09  1.291205e+09  349811489.0  2.707315e+09   \n",
       "A083660  3.746706e+07  2.362360e+07  1.384346e+07 -464796.0     6.352652e+07   \n",
       "A051900  5.275874e+09  3.594020e+09  1.681854e+09  692278706.0  6.747537e+09   \n",
       "A002070  1.551089e+08  1.204146e+08  3.469432e+07 -6688390.0    2.061386e+08   \n",
       "A267790  4.137999e+07  3.845549e+07  2.924498e+06  4393257.0    5.006854e+07   \n",
       "A244880  1.010377e+07  7.482816e+06  2.620952e+06  2406104.0    1.147163e+07   \n",
       "...               ...           ...           ...        ...             ...   \n",
       "A106080  3.406171e+07  2.786211e+06  3.127550e+07 -33001201.0   2.006496e+07   \n",
       "A053660  2.143151e+08  5.639827e+07  1.579168e+08 -21073689.0   1.212270e+08   \n",
       "A103230  5.786167e+07  4.222299e+07  1.563869e+07 -10219575.0   3.023976e+07   \n",
       "A054220  8.207230e+07  1.189863e+07  7.017367e+07 -48704368.0   2.950676e+07   \n",
       "A143540  1.096984e+08  7.829902e+06  1.018685e+08 -18244163.0   1.462975e+08   \n",
       "A114120  1.520303e+08  8.537911e+07  6.665122e+07 -53631814.0   8.367507e+07   \n",
       "A168330  6.116596e+07  3.648730e+07  2.467866e+07 -23238141.0   8.928362e+06   \n",
       "A060900  3.814548e+07  1.575908e+07  2.238639e+07 -13331758.0   2.963705e+07   \n",
       "A101000  6.972613e+07  2.873563e+07  4.099050e+07 -122952364.0  6.581230e+07   \n",
       "A082660  7.938152e+07  1.359981e+07  6.578171e+07 -49456748.0   8.700741e+07   \n",
       "A011200  4.121440e+09  1.039671e+09  3.081769e+09 -790563000.0  5.222124e+09   \n",
       "A101680  9.062181e+07  5.747726e+07  3.314455e+07 -18523299.0   4.287877e+07   \n",
       "A008800  1.061340e+08  6.055897e+07  4.557505e+07 -10946407.0   8.673759e+06   \n",
       "A082800  1.006519e+08  6.844591e+07  3.220595e+07 -8534275.0    4.600313e+07   \n",
       "A010820  1.606864e+08  3.948585e+07  1.212005e+08 -35554591.0   1.315780e+08   \n",
       "A001210  1.702953e+08  3.469243e+07  1.356029e+08 -20930538.0   7.729623e+07   \n",
       "A083470  5.707226e+07  1.145038e+07  4.562188e+07 -34709813.0   5.344872e+07   \n",
       "A060300  1.138832e+08  1.013587e+08  1.252448e+07 -49940729.0   1.227598e+07   \n",
       "A025890  6.034840e+07  4.516277e+07  1.518563e+07 -10120006.0   3.913673e+07   \n",
       "A195440  2.269987e+07  6.026210e+05  2.209725e+07 -13154210.0   1.736993e+07   \n",
       "A123010  1.762804e+07  6.033160e+06  1.159488e+07 -4378100.0    9.236824e+06   \n",
       "A051370  3.682342e+08  2.443225e+08  1.239117e+08 -79426987.0   3.139446e+08   \n",
       "A064520  7.801914e+07  1.520794e+07  6.281120e+07 -28831043.0   9.297966e+07   \n",
       "A258050  4.758538e+06  2.988388e+06  1.770150e+06 -2010798.0    2.241770e+05   \n",
       "A011420  3.325333e+07  2.647216e+07  6.781168e+06 -16003255.0   2.206041e+07   \n",
       "A043200  4.851827e+07  3.358059e+07  1.493769e+07 -25964280.0   3.635202e+07   \n",
       "A182690  1.987306e+07  5.446572e+06  1.442648e+07 -6473285.0    8.763792e+06   \n",
       "A103130  2.367443e+08  4.120087e+07  1.955435e+08 -111761172.0  1.658379e+08   \n",
       "A084850 NaN           NaN           NaN           NaN           2.282371e+08   \n",
       "A317400 NaN           NaN           NaN           NaN           2.126963e+08   \n",
       "\n",
       "                 매출원가         매출총이익          영업이익  영업활동으로인한현금흐름       GPA  \n",
       "종목코드                                                                       \n",
       "A284610  2.642501e+07  4.769454e+07  3.421248e+06  1846477.0     1.667308  \n",
       "A267810  3.137855e+07  1.514595e+07  1.322583e+06  1646894.0     1.664699  \n",
       "A233990  3.364786e+06  1.816876e+07 -2.743935e+06 -329726.0      1.371989  \n",
       "A288490  3.307910e+05  2.933605e+06  2.906470e+05  755785.0      1.361906  \n",
       "A284420  2.215019e+07  2.347175e+07 -2.739502e+06 -3520772.0     1.255872  \n",
       "A329050  4.057069e+06  6.286671e+06  5.199010e+05 -818087.0      1.191325  \n",
       "A270870  2.154943e+07  6.566939e+07  9.893473e+06  7898889.0     1.114618  \n",
       "A210610  4.395379e+06  1.267545e+07  2.709417e+06  1434108.0     1.074885  \n",
       "A051160  1.025698e+08  2.898522e+07  1.172741e+06  3640313.0     1.021016  \n",
       "A950170  1.592764e+08  3.596411e+08  2.288439e+07  13138388.0    0.998715  \n",
       "A011080  4.281405e+07  6.594245e+07 -8.827060e+05  4498919.0     0.968383  \n",
       "A225590  3.351373e+07  4.079347e+07  5.004881e+06  5455159.0     0.942922  \n",
       "A225860  6.201606e+06  2.184431e+07 -3.742489e+06 -8494397.0     0.940087  \n",
       "A069640  1.312919e+08  1.916986e+08  2.404725e+06  17442514.0    0.932256  \n",
       "A220110  1.296412e+07  3.044185e+06  7.484820e+05 -6384736.0     0.902067  \n",
       "A225850  7.149750e+06  2.004632e+07 -2.563185e+06 -6370270.0     0.897386  \n",
       "A007700  2.280712e+08  4.406556e+08  9.151841e+07  27308909.0    0.888718  \n",
       "A123690  7.018041e+07  8.370216e+07 -7.485328e+06 -1293286.0     0.880880  \n",
       "A018250  3.446145e+08  3.549700e+08  7.917068e+07  41227992.0    0.865417  \n",
       "A080160  8.697922e+07  2.779938e+08  1.661072e+07  34352231.0    0.830861  \n",
       "A279600  1.163914e+06  1.221928e+07 -2.172640e+05  767601.0      0.804123  \n",
       "A266870  3.226331e+06  1.064807e+07  7.014940e+05  520888.0      0.803707  \n",
       "A234690  2.359353e+07  3.028929e+07  8.408546e+06  5445987.0     0.777177  \n",
       "A065150  6.888510e+07  5.092470e+07 -3.770650e+05 -6641457.0     0.776242  \n",
       "A021240  8.782564e+08  1.829059e+09  5.198272e+08  539129778.0   0.768866  \n",
       "A083660  3.472733e+07  2.879919e+07  2.021600e+04 -4747968.0     0.768653  \n",
       "A051900  2.696414e+09  4.051123e+09  1.039250e+09  817116844.0   0.767858  \n",
       "A002070  8.753872e+07  1.185999e+08 -3.919376e+06  923099.0      0.764623  \n",
       "A267790  1.866200e+07  3.140654e+07  6.674070e+06  1891738.0     0.758979  \n",
       "A244880  3.821321e+06  7.650313e+06  2.887715e+06  2296635.0     0.757174  \n",
       "...               ...           ...           ...        ...          ...  \n",
       "A106080  2.147672e+07 -1.411760e+06 -6.246702e+06 -5507031.0    -0.041447  \n",
       "A053660  1.302027e+08 -8.975723e+06 -1.828359e+07 -28738710.0   -0.041881  \n",
       "A103230  3.272642e+07 -2.486663e+06 -8.324956e+06 -3551810.0    -0.042976  \n",
       "A054220  3.308773e+07 -3.580972e+06 -2.133244e+07 -12553495.0   -0.043632  \n",
       "A143540  1.513495e+08 -5.051993e+06 -1.433005e+07  1914463.0    -0.046053  \n",
       "A114120  9.106705e+07 -7.391984e+06 -2.995663e+07 -6446438.0    -0.048622  \n",
       "A168330  1.203239e+07 -3.104027e+06 -1.358734e+07 -8151755.0    -0.050748  \n",
       "A060900  3.163048e+07 -1.993436e+06 -6.654644e+06 -1864155.0    -0.052259  \n",
       "A101000  6.990357e+07 -4.091267e+06 -1.801584e+07 -5107972.0    -0.058676  \n",
       "A082660  9.222889e+07 -5.221481e+06 -1.101593e+07 -946144.0     -0.065777  \n",
       "A011200  5.498944e+09 -2.768200e+08 -5.586560e+08 -416902000.0  -0.067166  \n",
       "A101680  4.986662e+07 -6.987857e+06 -1.497074e+07 -2352846.0    -0.077110  \n",
       "A008800  1.698202e+07 -8.308265e+06 -1.547890e+07 -5963295.0    -0.078281  \n",
       "A082800  5.428678e+07 -8.283646e+06 -1.291070e+07 -4588748.0    -0.082300  \n",
       "A010820  1.449095e+08 -1.333152e+07 -2.241973e+07  20933348.0   -0.082966  \n",
       "A001210  9.180850e+07 -1.451227e+07 -4.779987e+07 -2178327.0    -0.085218  \n",
       "A083470  5.850451e+07 -5.055786e+06 -1.894776e+07  4231935.0    -0.088586  \n",
       "A060300  2.266213e+07 -1.038615e+07 -2.402618e+07 -3199824.0    -0.091200  \n",
       "A025890  4.503489e+07 -5.898157e+06 -8.875443e+06 -3042961.0    -0.097735  \n",
       "A195440  1.965140e+07 -2.281464e+06 -9.304004e+06  4424044.0    -0.100506  \n",
       "A123010  1.126282e+07 -2.026001e+06 -4.004988e+06 -856015.0     -0.114931  \n",
       "A051370  3.565581e+08 -4.261345e+07 -6.622531e+07 -36892526.0   -0.115724  \n",
       "A064520  1.020932e+08 -9.113581e+06 -2.286736e+07 -505207.0     -0.116812  \n",
       "A258050  7.935240e+05 -5.693470e+05 -1.975487e+06 -1274795.0    -0.119647  \n",
       "A011420  2.742811e+07 -5.367698e+06 -1.033785e+07 -2809869.0    -0.161418  \n",
       "A043200  4.452378e+07 -8.171758e+06 -2.556968e+07 -6847229.0    -0.168426  \n",
       "A182690  1.225466e+07 -3.490871e+06 -6.523301e+06 -4233719.0    -0.175658  \n",
       "A103130  2.163192e+08 -5.048131e+07 -5.606734e+07  1387944.0    -0.213231  \n",
       "A084850  1.752468e+08  5.299037e+07 NaN           NaN           NaN        \n",
       "A317400  1.885666e+08  2.412975e+07 NaN           NaN           NaN        \n",
       "\n",
       "[2073 rows x 10 columns]"
      ]
     },
     "execution_count": 147,
     "metadata": {},
     "output_type": "execute_result"
    }
   ],
   "source": [
    "gpa_sorted.loc[~gpa_sorted['매출원가'].isnull()]"
   ]
  },
  {
   "cell_type": "code",
   "execution_count": 231,
   "metadata": {},
   "outputs": [
    {
     "name": "stderr",
     "output_type": "stream",
     "text": [
      "/Users/Shared/anaconda3/anaconda3/lib/python3.7/site-packages/ipykernel_launcher.py:689: SettingWithCopyWarning: \n",
      "A value is trying to be set on a copy of a slice from a DataFrame.\n",
      "Try using .loc[row_indexer,col_indexer] = value instead\n",
      "\n",
      "See the caveats in the documentation: http://pandas.pydata.org/pandas-docs/stable/indexing.html#indexing-view-versus-copy\n"
     ]
    }
   ],
   "source": [
    "strategy_date = '2008/12'\n",
    "pbr = low_pbr(strategy_date, None)\n",
    "gpa = high_gpa(strategy_date, None)\n",
    "pbr['PBR_RANK'] = pbr['PBR'].rank()\n",
    "gpa['GPA_RANK'] = gpa['GPA'].rank(ascending=False)\n",
    "qp = pd.merge(pbr, gpa, how='outer', left_index=True, right_index=True)\n",
    "qp['MAGIC'] = (qp['PBR_RANK'] + qp['GPA_RANK'])\n",
    "qp['MAGIC_RANK'] = qp['MAGIC'].rank()\n",
    "qp = qp.sort_values(by='MAGIC_RANK')"
   ]
  },
  {
   "cell_type": "code",
   "execution_count": 232,
   "metadata": {},
   "outputs": [],
   "source": [
    "def get_qp_portfolio2(start_date):\n",
    "    start_date = str(start_date)\n",
    "    strategy_date = get_strategy_date(start_date)\n",
    "    qp = qp_formula(strategy_date)\n",
    "    qp = add_company_info(qp)\n",
    "    qp = qp.loc[qp['당기순이익'] > 0]\n",
    "#     qp = qp.loc[qp['기업명'].apply(lambda x: False if '홀딩스' in x else True)]\n",
    "    qp_list = get_code_list_has_price(qp.index, price_df, start_date)\n",
    "    return qp_list"
   ]
  },
  {
   "cell_type": "code",
   "execution_count": 233,
   "metadata": {},
   "outputs": [],
   "source": [
    "def get_qp_portfolio3(start_date):\n",
    "    start_date = str(start_date)\n",
    "    strategy_date = get_strategy_date(start_date)\n",
    "    qp = qp_formula(strategy_date)\n",
    "    qp = add_company_info(qp)\n",
    "    qp = qp.loc[qp['당기순이익'] > 0]\n",
    "    qp = qp.loc[qp['기업명'].apply(lambda x: False if '홀딩스' in x else True)]\n",
    "    qp_list = get_code_list_has_price(qp.index, price_df, start_date)\n",
    "    return qp_list"
   ]
  },
  {
   "cell_type": "code",
   "execution_count": 250,
   "metadata": {},
   "outputs": [],
   "source": [
    "price_df = prices\n",
    "start_date = '2008-6'\n",
    "strategy_date = get_strategy_date(start_date)\n",
    "initial_money = 100000000"
   ]
  },
  {
   "cell_type": "code",
   "execution_count": 251,
   "metadata": {},
   "outputs": [],
   "source": [
    "fs_df = make_total_fs_df()\n",
    "fr_df = make_total_fr_df()\n",
    "iv_df = make_total_iv_df()\n",
    "companies = get_company_data()\n",
    "companies, fs_df, fr_df, iv_df, prices = get_normalize_data(companies, fs_df, fr_df, iv_df, prices)"
   ]
  },
  {
   "cell_type": "code",
   "execution_count": 252,
   "metadata": {},
   "outputs": [
    {
     "name": "stdout",
     "output_type": "stream",
     "text": [
      "2118\n",
      "2118\n",
      "2118\n",
      "2118\n",
      "2120\n"
     ]
    }
   ],
   "source": [
    "print(len(fs_df))\n",
    "print(len(fr_df))\n",
    "print(len(iv_df))\n",
    "print(len(companies))\n",
    "print(len(prices.columns))"
   ]
  },
  {
   "cell_type": "code",
   "execution_count": 253,
   "metadata": {
    "scrolled": true
   },
   "outputs": [],
   "source": [
    "companies = get_company_df_from_total_capital(companies, 0.6, start_date)\n",
    "fs_df = fs_df.loc[companies.index]\n",
    "fr_df = fr_df.loc[companies.index]\n",
    "iv_df = iv_df.loc[companies.index]"
   ]
  },
  {
   "cell_type": "code",
   "execution_count": 254,
   "metadata": {
    "scrolled": true
   },
   "outputs": [
    {
     "name": "stdout",
     "output_type": "stream",
     "text": [
      "1270\n",
      "1270\n",
      "1270\n",
      "1270\n",
      "2120\n"
     ]
    }
   ],
   "source": [
    "print(len(fs_df))\n",
    "print(len(fr_df))\n",
    "print(len(iv_df))\n",
    "print(len(companies))\n",
    "print(len(prices.columns))"
   ]
  },
  {
   "cell_type": "code",
   "execution_count": 255,
   "metadata": {},
   "outputs": [
    {
     "name": "stderr",
     "output_type": "stream",
     "text": [
      "/Users/Shared/anaconda3/anaconda3/lib/python3.7/site-packages/ipykernel_launcher.py:2: FutureWarning: \n",
      "Passing list-likes to .loc or [] with any missing label will raise\n",
      "KeyError in the future, you can use .reindex() as an alternative.\n",
      "\n",
      "See the documentation here:\n",
      "https://pandas.pydata.org/pandas-docs/stable/indexing.html#deprecate-loc-reindex-listlike\n",
      "  \n"
     ]
    }
   ],
   "source": [
    "ebit_df = make_account_df('EV_EBIT', '재무비율')\n",
    "ebit_df = ebit_df.loc[companies.index]"
   ]
  },
  {
   "cell_type": "code",
   "execution_count": 256,
   "metadata": {},
   "outputs": [],
   "source": [
    "my = backtest_with_code_list(my_portfolio_code_list, start_date, None)\n",
    "samsung = backtest_with_code_list([get_company_code('삼성전자')], start_date, None)"
   ]
  },
  {
   "cell_type": "code",
   "execution_count": 257,
   "metadata": {},
   "outputs": [],
   "source": [
    "kospi_df = prices[['KOSPI']][start_date:]\n",
    "kospi_df = kospi_df.fillna(method='bfill')\n",
    "kospi_df['total_change_rate'] = kospi_df/kospi_df.iloc[0]-1\n",
    "\n",
    "kosdaq_df = prices[['KOSDAQ']][start_date:]\n",
    "kosdaq_df = kosdaq_df.fillna(method='bfill')\n",
    "kosdaq_df['total_change_rate'] = kosdaq_df/kosdaq_df.iloc[0]-1"
   ]
  },
  {
   "cell_type": "code",
   "execution_count": 258,
   "metadata": {},
   "outputs": [
    {
     "name": "stderr",
     "output_type": "stream",
     "text": [
      "/Users/Shared/anaconda3/anaconda3/lib/python3.7/site-packages/ipykernel_launcher.py:689: SettingWithCopyWarning: \n",
      "A value is trying to be set on a copy of a slice from a DataFrame.\n",
      "Try using .loc[row_indexer,col_indexer] = value instead\n",
      "\n",
      "See the caveats in the documentation: http://pandas.pydata.org/pandas-docs/stable/indexing.html#indexing-view-versus-copy\n"
     ]
    },
    {
     "name": "stdout",
     "output_type": "stream",
     "text": [
      ">>>>>> initial buy list (20) : 2008-06-02 00:00:00\n",
      "동화약품(A000020) : 410\n",
      "KR모터스(A000040) : 5235\n",
      "경방(A000050) : 438\n",
      "메리츠화재(A000060) : 398\n",
      "삼양홀딩스(A000070) : 94\n",
      "유한양행(A000100) : 32\n",
      "CJ대한통운(A000120) : 59\n",
      "하이트진로홀딩스(A000140) : 80\n",
      "두산(A000150) : 29\n",
      "성창기업지주(A000180) : 2376\n",
      "대림산업(A000210) : 41\n",
      "유유제약(A000220) : 363\n",
      "일동홀딩스(A000230) : 565\n",
      "한국테크놀로지그룹(A000240) : 666\n",
      "삼천당제약(A000250) : 1445\n",
      "기아자동차(A000270) : 423\n",
      "대유플러스(A000300) : 2695\n",
      "노루홀딩스(A000320) : 628\n",
      "한화손해보험(A000370) : 338\n",
      "삼화페인트공업(A000390) : 1461\n",
      "\n",
      "\n",
      ">>>>>> enough profit (대유플러스 : A000300) - (2854 : 0.54) : 2008-06-27 00:00:00\n",
      ">>>>>> sell list (1) : 2008-06-27 00:00:00\n",
      "['A000300']\n",
      "\n",
      "\n"
     ]
    },
    {
     "name": "stderr",
     "output_type": "stream",
     "text": [
      "/Users/Shared/anaconda3/anaconda3/lib/python3.7/site-packages/ipykernel_launcher.py:689: SettingWithCopyWarning: \n",
      "A value is trying to be set on a copy of a slice from a DataFrame.\n",
      "Try using .loc[row_indexer,col_indexer] = value instead\n",
      "\n",
      "See the caveats in the documentation: http://pandas.pydata.org/pandas-docs/stable/indexing.html#indexing-view-versus-copy\n"
     ]
    },
    {
     "name": "stdout",
     "output_type": "stream",
     "text": [
      ">>>>>> buy list (1) : 2008-06-27 00:00:00\n",
      "롯데손해보험(A000400) : 827\n",
      "\n",
      "\n",
      ">>>>>> enough periods (동화약품 : A000020) - (9380 : -0.23) : 366 days 00:00:002009-06-03 00:00:00\n",
      ">>>>>> enough periods (KR모터스 : A000040) - (790 : -0.17) : 366 days 00:00:002009-06-03 00:00:00\n",
      ">>>>>> enough periods (경방 : A000050) - (12506 : 0.1) : 366 days 00:00:002009-06-03 00:00:00\n",
      ">>>>>> enough periods (메리츠화재 : A000060) - (8430 : -0.33) : 366 days 00:00:002009-06-03 00:00:00\n",
      ">>>>>> enough periods (삼양홀딩스 : A000070) - (40702 : -0.23) : 366 days 00:00:002009-06-03 00:00:00\n",
      ">>>>>> enough periods (유한양행 : A000100) - (142749 : -0.08) : 366 days 00:00:002009-06-03 00:00:00\n",
      ">>>>>> enough periods (CJ대한통운 : A000120) - (92900 : 0.1) : 366 days 00:00:002009-06-03 00:00:00\n",
      ">>>>>> enough periods (하이트진로홀딩스 : A000140) - (28650 : -0.54) : 366 days 00:00:002009-06-03 00:00:00\n",
      ">>>>>> enough periods (두산 : A000150) - (96465 : -0.43) : 366 days 00:00:002009-06-03 00:00:00\n",
      ">>>>>> enough periods (성창기업지주 : A000180) - (1917 : -0.09) : 366 days 00:00:002009-06-03 00:00:00\n",
      ">>>>>> enough periods (대림산업 : A000210) - (66400 : -0.44) : 366 days 00:00:002009-06-03 00:00:00\n",
      ">>>>>> enough periods (유유제약 : A000220) - (6820 : -0.5) : 366 days 00:00:002009-06-03 00:00:00\n",
      ">>>>>> enough periods (일동홀딩스 : A000230) - (8194 : -0.07) : 366 days 00:00:002009-06-03 00:00:00\n",
      ">>>>>> enough periods (한국테크놀로지그룹 : A000240) - (7329 : -0.02) : 366 days 00:00:002009-06-03 00:00:00\n",
      ">>>>>> enough periods (삼천당제약 : A000250) - (2465 : -0.29) : 366 days 00:00:002009-06-03 00:00:00\n",
      ">>>>>> enough periods (기아자동차 : A000270) - (12400 : 0.05) : 366 days 00:00:002009-06-03 00:00:00\n",
      ">>>>>> enough periods (노루홀딩스 : A000320) - (5090 : -0.36) : 366 days 00:00:002009-06-03 00:00:00\n",
      ">>>>>> enough periods (한화손해보험 : A000370) - (10630 : -0.28) : 366 days 00:00:002009-06-03 00:00:00\n",
      ">>>>>> enough periods (삼화페인트공업 : A000390) - (3600 : 0.05) : 366 days 00:00:002009-06-03 00:00:00\n",
      ">>>>>> sell list (19) : 2009-06-03 00:00:00\n",
      "['A000020', 'A000040', 'A000050', 'A000060', 'A000070', 'A000100', 'A000120', 'A000140', 'A000150', 'A000180', 'A000210', 'A000220', 'A000230', 'A000240', 'A000250', 'A000270', 'A000320', 'A000370', 'A000390']\n",
      "\n",
      "\n"
     ]
    },
    {
     "name": "stderr",
     "output_type": "stream",
     "text": [
      "/Users/Shared/anaconda3/anaconda3/lib/python3.7/site-packages/ipykernel_launcher.py:689: SettingWithCopyWarning: \n",
      "A value is trying to be set on a copy of a slice from a DataFrame.\n",
      "Try using .loc[row_indexer,col_indexer] = value instead\n",
      "\n",
      "See the caveats in the documentation: http://pandas.pydata.org/pandas-docs/stable/indexing.html#indexing-view-versus-copy\n"
     ]
    },
    {
     "name": "stdout",
     "output_type": "stream",
     "text": [
      ">>>>>> buy list (19) : 2009-06-03 00:00:00\n",
      "대유플러스(A000300) : 2197\n",
      "대원강업(A000430) : 2612\n",
      "중앙에너비스(A000440) : 1385\n",
      "조선내화(A000480) : 71\n",
      "대동공업(A000490) : 893\n",
      "가온전선(A000500) : 134\n",
      "삼일제약(A000520) : 542\n",
      "흥국화재(A000540) : 792\n",
      "CS홀딩스(A000590) : 108\n",
      "동아쏘시오홀딩스(A000640) : 68\n",
      "천일고속(A000650) : 87\n",
      "SK하이닉스(A000660) : 299\n",
      "영풍(A000670) : 9\n",
      "LS네트웍스(A000680) : 597\n",
      "유수홀딩스(A000700) : 397\n",
      "현대건설(A000720) : 61\n",
      "이화산업(A000760) : 717\n",
      "삼성화재해상보험(A000810) : 22\n",
      "화천기공(A000850) : 126\n",
      "\n",
      "\n",
      ">>>>>> enough profit (천일고속 : A000650) - (69000 : 0.51) : 2009-06-16 00:00:00\n",
      ">>>>>> sell list (1) : 2009-06-16 00:00:00\n",
      "['A000650']\n",
      "\n",
      "\n"
     ]
    },
    {
     "name": "stderr",
     "output_type": "stream",
     "text": [
      "/Users/Shared/anaconda3/anaconda3/lib/python3.7/site-packages/ipykernel_launcher.py:689: SettingWithCopyWarning: \n",
      "A value is trying to be set on a copy of a slice from a DataFrame.\n",
      "Try using .loc[row_indexer,col_indexer] = value instead\n",
      "\n",
      "See the caveats in the documentation: http://pandas.pydata.org/pandas-docs/stable/indexing.html#indexing-view-versus-copy\n"
     ]
    },
    {
     "name": "stdout",
     "output_type": "stream",
     "text": [
      ">>>>>> buy list (1) : 2009-06-16 00:00:00\n",
      "동화약품(A000020) : 657\n",
      "\n",
      "\n",
      ">>>>>> enough periods (롯데손해보험 : A000400) - (6509 : -0.33) : 367 days 00:00:002009-06-29 00:00:00\n",
      ">>>>>> sell list (1) : 2009-06-29 00:00:00\n",
      "['A000400']\n",
      "\n",
      "\n"
     ]
    },
    {
     "name": "stderr",
     "output_type": "stream",
     "text": [
      "/Users/Shared/anaconda3/anaconda3/lib/python3.7/site-packages/ipykernel_launcher.py:689: SettingWithCopyWarning: \n",
      "A value is trying to be set on a copy of a slice from a DataFrame.\n",
      "Try using .loc[row_indexer,col_indexer] = value instead\n",
      "\n",
      "See the caveats in the documentation: http://pandas.pydata.org/pandas-docs/stable/indexing.html#indexing-view-versus-copy\n"
     ]
    },
    {
     "name": "stdout",
     "output_type": "stream",
     "text": [
      ">>>>>> buy list (1) : 2009-06-29 00:00:00\n",
      "KR모터스(A000040) : 7384\n",
      "\n",
      "\n",
      ">>>>>> enough profit (대유플러스 : A000300) - (2869 : 0.58) : 2009-07-02 00:00:00\n",
      ">>>>>> sell list (1) : 2009-07-02 00:00:00\n",
      "['A000300']\n",
      "\n",
      "\n"
     ]
    },
    {
     "name": "stderr",
     "output_type": "stream",
     "text": [
      "/Users/Shared/anaconda3/anaconda3/lib/python3.7/site-packages/ipykernel_launcher.py:689: SettingWithCopyWarning: \n",
      "A value is trying to be set on a copy of a slice from a DataFrame.\n",
      "Try using .loc[row_indexer,col_indexer] = value instead\n",
      "\n",
      "See the caveats in the documentation: http://pandas.pydata.org/pandas-docs/stable/indexing.html#indexing-view-versus-copy\n"
     ]
    },
    {
     "name": "stdout",
     "output_type": "stream",
     "text": [
      ">>>>>> buy list (1) : 2009-07-02 00:00:00\n",
      "경방(A000050) : 541\n",
      "\n",
      "\n",
      ">>>>>> enough profit (SK하이닉스 : A000660) - (20100 : 0.51) : 2009-08-20 00:00:00\n",
      ">>>>>> sell list (1) : 2009-08-20 00:00:00\n",
      "['A000660']\n",
      "\n",
      "\n"
     ]
    },
    {
     "name": "stderr",
     "output_type": "stream",
     "text": [
      "/Users/Shared/anaconda3/anaconda3/lib/python3.7/site-packages/ipykernel_launcher.py:689: SettingWithCopyWarning: \n",
      "A value is trying to be set on a copy of a slice from a DataFrame.\n",
      "Try using .loc[row_indexer,col_indexer] = value instead\n",
      "\n",
      "See the caveats in the documentation: http://pandas.pydata.org/pandas-docs/stable/indexing.html#indexing-view-versus-copy\n"
     ]
    },
    {
     "name": "stdout",
     "output_type": "stream",
     "text": [
      ">>>>>> buy list (1) : 2009-08-20 00:00:00\n",
      "메리츠화재(A000060) : 664\n",
      "\n",
      "\n",
      ">>>>>> enough profit (동아쏘시오홀딩스 : A000640) - (88443 : 0.52) : 2009-12-02 00:00:00\n",
      ">>>>>> sell list (1) : 2009-12-02 00:00:00\n",
      "['A000640']\n",
      "\n",
      "\n"
     ]
    },
    {
     "name": "stderr",
     "output_type": "stream",
     "text": [
      "/Users/Shared/anaconda3/anaconda3/lib/python3.7/site-packages/ipykernel_launcher.py:689: SettingWithCopyWarning: \n",
      "A value is trying to be set on a copy of a slice from a DataFrame.\n",
      "Try using .loc[row_indexer,col_indexer] = value instead\n",
      "\n",
      "See the caveats in the documentation: http://pandas.pydata.org/pandas-docs/stable/indexing.html#indexing-view-versus-copy\n"
     ]
    },
    {
     "name": "stdout",
     "output_type": "stream",
     "text": [
      ">>>>>> buy list (1) : 2009-12-02 00:00:00\n",
      "삼양홀딩스(A000070) : 146\n",
      "\n",
      "\n",
      ">>>>>> enough profit (CS홀딩스 : A000590) - (59900 : 0.63) : 2010-01-29 00:00:00\n",
      ">>>>>> sell list (1) : 2010-01-29 00:00:00\n",
      "['A000590']\n",
      "\n",
      "\n"
     ]
    },
    {
     "name": "stderr",
     "output_type": "stream",
     "text": [
      "/Users/Shared/anaconda3/anaconda3/lib/python3.7/site-packages/ipykernel_launcher.py:689: SettingWithCopyWarning: \n",
      "A value is trying to be set on a copy of a slice from a DataFrame.\n",
      "Try using .loc[row_indexer,col_indexer] = value instead\n",
      "\n",
      "See the caveats in the documentation: http://pandas.pydata.org/pandas-docs/stable/indexing.html#indexing-view-versus-copy\n"
     ]
    },
    {
     "name": "stdout",
     "output_type": "stream",
     "text": [
      ">>>>>> buy list (1) : 2010-01-29 00:00:00\n",
      "유한양행(A000100) : 45\n",
      "\n",
      "\n",
      ">>>>>> enough profit (KR모터스 : A000040) - (1166 : 0.6) : 2010-02-23 00:00:00\n",
      ">>>>>> sell list (1) : 2010-02-23 00:00:00\n",
      "['A000040']\n",
      "\n",
      "\n"
     ]
    },
    {
     "name": "stderr",
     "output_type": "stream",
     "text": [
      "/Users/Shared/anaconda3/anaconda3/lib/python3.7/site-packages/ipykernel_launcher.py:689: SettingWithCopyWarning: \n",
      "A value is trying to be set on a copy of a slice from a DataFrame.\n",
      "Try using .loc[row_indexer,col_indexer] = value instead\n",
      "\n",
      "See the caveats in the documentation: http://pandas.pydata.org/pandas-docs/stable/indexing.html#indexing-view-versus-copy\n"
     ]
    },
    {
     "name": "stdout",
     "output_type": "stream",
     "text": [
      ">>>>>> buy list (1) : 2010-02-23 00:00:00\n",
      "CJ대한통운(A000120) : 155\n",
      "\n",
      "\n",
      ">>>>>> enough profit (대원강업 : A000430) - (2300 : 0.5) : 2010-03-05 00:00:00\n",
      ">>>>>> sell list (1) : 2010-03-05 00:00:00\n",
      "['A000430']\n",
      "\n",
      "\n"
     ]
    },
    {
     "name": "stderr",
     "output_type": "stream",
     "text": [
      "/Users/Shared/anaconda3/anaconda3/lib/python3.7/site-packages/ipykernel_launcher.py:689: SettingWithCopyWarning: \n",
      "A value is trying to be set on a copy of a slice from a DataFrame.\n",
      "Try using .loc[row_indexer,col_indexer] = value instead\n",
      "\n",
      "See the caveats in the documentation: http://pandas.pydata.org/pandas-docs/stable/indexing.html#indexing-view-versus-copy\n"
     ]
    },
    {
     "name": "stdout",
     "output_type": "stream",
     "text": [
      ">>>>>> buy list (1) : 2010-03-05 00:00:00\n",
      "KR모터스(A000040) : 4401\n",
      "\n",
      "\n",
      ">>>>>> enough profit (영풍 : A000670) - (695000 : 0.59) : 2010-03-12 00:00:00\n",
      ">>>>>> sell list (1) : 2010-03-12 00:00:00\n",
      "['A000670']\n",
      "\n",
      "\n"
     ]
    },
    {
     "name": "stderr",
     "output_type": "stream",
     "text": [
      "/Users/Shared/anaconda3/anaconda3/lib/python3.7/site-packages/ipykernel_launcher.py:689: SettingWithCopyWarning: \n",
      "A value is trying to be set on a copy of a slice from a DataFrame.\n",
      "Try using .loc[row_indexer,col_indexer] = value instead\n",
      "\n",
      "See the caveats in the documentation: http://pandas.pydata.org/pandas-docs/stable/indexing.html#indexing-view-versus-copy\n"
     ]
    },
    {
     "name": "stdout",
     "output_type": "stream",
     "text": [
      ">>>>>> buy list (1) : 2010-03-12 00:00:00\n",
      "하이트진로홀딩스(A000140) : 262\n",
      "\n",
      "\n",
      ">>>>>> enough profit (이화산업 : A000760) - (8650.0 : 0.55) : 2010-04-02 00:00:00\n",
      ">>>>>> sell list (1) : 2010-04-02 00:00:00\n",
      "['A000760']\n",
      "\n",
      "\n"
     ]
    },
    {
     "name": "stderr",
     "output_type": "stream",
     "text": [
      "/Users/Shared/anaconda3/anaconda3/lib/python3.7/site-packages/ipykernel_launcher.py:689: SettingWithCopyWarning: \n",
      "A value is trying to be set on a copy of a slice from a DataFrame.\n",
      "Try using .loc[row_indexer,col_indexer] = value instead\n",
      "\n",
      "See the caveats in the documentation: http://pandas.pydata.org/pandas-docs/stable/indexing.html#indexing-view-versus-copy\n"
     ]
    },
    {
     "name": "stdout",
     "output_type": "stream",
     "text": [
      ">>>>>> buy list (1) : 2010-04-02 00:00:00\n",
      "두산(A000150) : 59\n",
      "\n",
      "\n",
      ">>>>>> enough periods (중앙에너비스 : A000440) - (3424 : 0.19) : 366 days 00:00:002010-06-04 00:00:00\n",
      ">>>>>> enough periods (조선내화 : A000480) - (53100 : -0.04) : 366 days 00:00:002010-06-04 00:00:00\n",
      ">>>>>> enough periods (대동공업 : A000490) - (4530 : 0.01) : 366 days 00:00:002010-06-04 00:00:00\n",
      ">>>>>> enough periods (가온전선 : A000500) - (28633 : -0.03) : 366 days 00:00:002010-06-04 00:00:00\n",
      ">>>>>> enough periods (삼일제약 : A000520) - (5547 : -0.25) : 366 days 00:00:002010-06-04 00:00:00\n",
      ">>>>>> enough periods (흥국화재 : A000540) - (5750 : 0.14) : 366 days 00:00:002010-06-04 00:00:00\n",
      ">>>>>> enough periods (LS네트웍스 : A000680) - (6700 : 0.0) : 366 days 00:00:002010-06-04 00:00:00\n",
      ">>>>>> enough periods (유수홀딩스 : A000700) - (8734 : -0.13) : 366 days 00:00:002010-06-04 00:00:00\n",
      ">>>>>> enough periods (현대건설 : A000720) - (52800 : -0.18) : 366 days 00:00:002010-06-04 00:00:00\n",
      ">>>>>> enough periods (삼성화재해상보험 : A000810) - (180000 : -0.01) : 366 days 00:00:002010-06-04 00:00:00\n",
      ">>>>>> enough periods (화천기공 : A000850) - (40000 : 0.26) : 366 days 00:00:002010-06-04 00:00:00\n",
      ">>>>>> sell list (11) : 2010-06-04 00:00:00\n",
      "['A000440', 'A000480', 'A000490', 'A000500', 'A000520', 'A000540', 'A000680', 'A000700', 'A000720', 'A000810', 'A000850']\n",
      "\n",
      "\n"
     ]
    },
    {
     "name": "stderr",
     "output_type": "stream",
     "text": [
      "/Users/Shared/anaconda3/anaconda3/lib/python3.7/site-packages/ipykernel_launcher.py:689: SettingWithCopyWarning: \n",
      "A value is trying to be set on a copy of a slice from a DataFrame.\n",
      "Try using .loc[row_indexer,col_indexer] = value instead\n",
      "\n",
      "See the caveats in the documentation: http://pandas.pydata.org/pandas-docs/stable/indexing.html#indexing-view-versus-copy\n"
     ]
    },
    {
     "name": "stdout",
     "output_type": "stream",
     "text": [
      ">>>>>> buy list (11) : 2010-06-04 00:00:00\n",
      "성창기업지주(A000180) : 2402\n",
      "대림산업(A000210) : 68\n",
      "유유제약(A000220) : 575\n",
      "일동홀딩스(A000230) : 563\n",
      "한국테크놀로지그룹(A000240) : 311\n",
      "삼천당제약(A000250) : 1926\n",
      "기아자동차(A000270) : 121\n",
      "대유플러스(A000300) : 2252\n",
      "노루홀딩스(A000320) : 800\n",
      "한화손해보험(A000370) : 445\n",
      "삼화페인트공업(A000390) : 872\n",
      "\n",
      "\n",
      ">>>>>> enough periods (동화약품 : A000020) - (5480 : -0.43) : 366 days 00:00:002010-06-17 00:00:00\n",
      ">>>>>> sell list (1) : 2010-06-17 00:00:00\n",
      "['A000020']\n",
      "\n",
      "\n"
     ]
    },
    {
     "name": "stderr",
     "output_type": "stream",
     "text": [
      "/Users/Shared/anaconda3/anaconda3/lib/python3.7/site-packages/ipykernel_launcher.py:689: SettingWithCopyWarning: \n",
      "A value is trying to be set on a copy of a slice from a DataFrame.\n",
      "Try using .loc[row_indexer,col_indexer] = value instead\n",
      "\n",
      "See the caveats in the documentation: http://pandas.pydata.org/pandas-docs/stable/indexing.html#indexing-view-versus-copy\n"
     ]
    },
    {
     "name": "stdout",
     "output_type": "stream",
     "text": [
      ">>>>>> buy list (1) : 2010-06-17 00:00:00\n",
      "롯데손해보험(A000400) : 659\n",
      "\n",
      "\n",
      ">>>>>> enough periods (경방 : A000050) - (8135 : -0.3) : 368 days 00:00:002010-07-05 00:00:00\n",
      ">>>>>> sell list (1) : 2010-07-05 00:00:00\n",
      "['A000050']\n",
      "\n",
      "\n"
     ]
    },
    {
     "name": "stderr",
     "output_type": "stream",
     "text": [
      "/Users/Shared/anaconda3/anaconda3/lib/python3.7/site-packages/ipykernel_launcher.py:689: SettingWithCopyWarning: \n",
      "A value is trying to be set on a copy of a slice from a DataFrame.\n",
      "Try using .loc[row_indexer,col_indexer] = value instead\n",
      "\n",
      "See the caveats in the documentation: http://pandas.pydata.org/pandas-docs/stable/indexing.html#indexing-view-versus-copy\n"
     ]
    },
    {
     "name": "stdout",
     "output_type": "stream",
     "text": [
      ">>>>>> buy list (1) : 2010-07-05 00:00:00\n",
      "동화약품(A000020) : 870\n",
      "\n",
      "\n",
      ">>>>>> enough profit (삼양홀딩스 : A000070) - (62403 : 0.52) : 2010-07-12 00:00:00\n",
      ">>>>>> sell list (1) : 2010-07-12 00:00:00\n",
      "['A000070']\n",
      "\n",
      "\n"
     ]
    },
    {
     "name": "stderr",
     "output_type": "stream",
     "text": [
      "/Users/Shared/anaconda3/anaconda3/lib/python3.7/site-packages/ipykernel_launcher.py:689: SettingWithCopyWarning: \n",
      "A value is trying to be set on a copy of a slice from a DataFrame.\n",
      "Try using .loc[row_indexer,col_indexer] = value instead\n",
      "\n",
      "See the caveats in the documentation: http://pandas.pydata.org/pandas-docs/stable/indexing.html#indexing-view-versus-copy\n"
     ]
    },
    {
     "name": "stdout",
     "output_type": "stream",
     "text": [
      ">>>>>> buy list (1) : 2010-07-12 00:00:00\n",
      "경방(A000050) : 1115\n",
      "\n",
      "\n",
      ">>>>>> enough periods (메리츠화재 : A000060) - (8514 : -0.06) : 368 days 00:00:002010-08-23 00:00:00\n",
      ">>>>>> sell list (1) : 2010-08-23 00:00:00\n",
      "['A000060']\n",
      "\n",
      "\n"
     ]
    },
    {
     "name": "stderr",
     "output_type": "stream",
     "text": [
      "/Users/Shared/anaconda3/anaconda3/lib/python3.7/site-packages/ipykernel_launcher.py:689: SettingWithCopyWarning: \n",
      "A value is trying to be set on a copy of a slice from a DataFrame.\n",
      "Try using .loc[row_indexer,col_indexer] = value instead\n",
      "\n",
      "See the caveats in the documentation: http://pandas.pydata.org/pandas-docs/stable/indexing.html#indexing-view-versus-copy\n"
     ]
    },
    {
     "name": "stdout",
     "output_type": "stream",
     "text": [
      ">>>>>> buy list (1) : 2010-08-23 00:00:00\n",
      "삼양홀딩스(A000070) : 95\n",
      "\n",
      "\n",
      ">>>>>> enough profit (대림산업 : A000210) - (88400 : 0.53) : 2010-09-27 00:00:00\n",
      ">>>>>> sell list (1) : 2010-09-27 00:00:00\n",
      "['A000210']\n",
      "\n",
      "\n"
     ]
    },
    {
     "name": "stderr",
     "output_type": "stream",
     "text": [
      "/Users/Shared/anaconda3/anaconda3/lib/python3.7/site-packages/ipykernel_launcher.py:689: SettingWithCopyWarning: \n",
      "A value is trying to be set on a copy of a slice from a DataFrame.\n",
      "Try using .loc[row_indexer,col_indexer] = value instead\n",
      "\n",
      "See the caveats in the documentation: http://pandas.pydata.org/pandas-docs/stable/indexing.html#indexing-view-versus-copy\n"
     ]
    },
    {
     "name": "stdout",
     "output_type": "stream",
     "text": [
      ">>>>>> buy list (1) : 2010-09-27 00:00:00\n",
      "메리츠화재(A000060) : 679\n",
      "\n",
      "\n",
      ">>>>>> enough profit (기아자동차 : A000270) - (49500 : 0.51) : 2010-11-01 00:00:00\n",
      ">>>>>> sell list (1) : 2010-11-01 00:00:00\n",
      "['A000270']\n",
      "\n",
      "\n"
     ]
    },
    {
     "name": "stderr",
     "output_type": "stream",
     "text": [
      "/Users/Shared/anaconda3/anaconda3/lib/python3.7/site-packages/ipykernel_launcher.py:689: SettingWithCopyWarning: \n",
      "A value is trying to be set on a copy of a slice from a DataFrame.\n",
      "Try using .loc[row_indexer,col_indexer] = value instead\n",
      "\n",
      "See the caveats in the documentation: http://pandas.pydata.org/pandas-docs/stable/indexing.html#indexing-view-versus-copy\n"
     ]
    },
    {
     "name": "stdout",
     "output_type": "stream",
     "text": [
      ">>>>>> buy list (1) : 2010-11-01 00:00:00\n",
      "대림산업(A000210) : 62\n",
      "\n",
      "\n",
      ">>>>>> enough profit (노루홀딩스 : A000320) - (7490 : 0.51) : 2010-11-05 00:00:00\n",
      ">>>>>> sell list (1) : 2010-11-05 00:00:00\n",
      "['A000320']\n",
      "\n",
      "\n"
     ]
    },
    {
     "name": "stderr",
     "output_type": "stream",
     "text": [
      "/Users/Shared/anaconda3/anaconda3/lib/python3.7/site-packages/ipykernel_launcher.py:689: SettingWithCopyWarning: \n",
      "A value is trying to be set on a copy of a slice from a DataFrame.\n",
      "Try using .loc[row_indexer,col_indexer] = value instead\n",
      "\n",
      "See the caveats in the documentation: http://pandas.pydata.org/pandas-docs/stable/indexing.html#indexing-view-versus-copy\n"
     ]
    },
    {
     "name": "stdout",
     "output_type": "stream",
     "text": [
      ">>>>>> buy list (1) : 2010-11-05 00:00:00\n",
      "기아자동차(A000270) : 127\n",
      "\n",
      "\n",
      ">>>>>> enough profit (CJ대한통운 : A000120) - (87700 : 0.57) : 2010-12-06 00:00:00\n",
      ">>>>>> sell list (1) : 2010-12-06 00:00:00\n",
      "['A000120']\n",
      "\n",
      "\n"
     ]
    },
    {
     "name": "stderr",
     "output_type": "stream",
     "text": [
      "/Users/Shared/anaconda3/anaconda3/lib/python3.7/site-packages/ipykernel_launcher.py:689: SettingWithCopyWarning: \n",
      "A value is trying to be set on a copy of a slice from a DataFrame.\n",
      "Try using .loc[row_indexer,col_indexer] = value instead\n",
      "\n",
      "See the caveats in the documentation: http://pandas.pydata.org/pandas-docs/stable/indexing.html#indexing-view-versus-copy\n"
     ]
    },
    {
     "name": "stdout",
     "output_type": "stream",
     "text": [
      ">>>>>> buy list (1) : 2010-12-06 00:00:00\n",
      "노루홀딩스(A000320) : 2216\n",
      "\n",
      "\n",
      ">>>>>> enough periods (유한양행 : A000100) - (132185 : -0.07) : 367 days 00:00:002011-01-31 00:00:00\n",
      ">>>>>> sell list (1) : 2011-01-31 00:00:00\n",
      "['A000100']\n",
      "\n",
      "\n"
     ]
    },
    {
     "name": "stderr",
     "output_type": "stream",
     "text": [
      "/Users/Shared/anaconda3/anaconda3/lib/python3.7/site-packages/ipykernel_launcher.py:689: SettingWithCopyWarning: \n",
      "A value is trying to be set on a copy of a slice from a DataFrame.\n",
      "Try using .loc[row_indexer,col_indexer] = value instead\n",
      "\n",
      "See the caveats in the documentation: http://pandas.pydata.org/pandas-docs/stable/indexing.html#indexing-view-versus-copy\n"
     ]
    },
    {
     "name": "stdout",
     "output_type": "stream",
     "text": [
      ">>>>>> buy list (1) : 2011-01-31 00:00:00\n",
      "형지I&C(A011080) : 10626\n",
      "\n",
      "\n",
      ">>>>>> enough periods (KR모터스 : A000040) - (996 : -0.28) : 367 days 00:00:002011-03-07 00:00:00\n",
      ">>>>>> sell list (1) : 2011-03-07 00:00:00\n",
      "['A000040']\n",
      "\n",
      "\n"
     ]
    },
    {
     "name": "stderr",
     "output_type": "stream",
     "text": [
      "/Users/Shared/anaconda3/anaconda3/lib/python3.7/site-packages/ipykernel_launcher.py:689: SettingWithCopyWarning: \n",
      "A value is trying to be set on a copy of a slice from a DataFrame.\n",
      "Try using .loc[row_indexer,col_indexer] = value instead\n",
      "\n",
      "See the caveats in the documentation: http://pandas.pydata.org/pandas-docs/stable/indexing.html#indexing-view-versus-copy\n"
     ]
    },
    {
     "name": "stdout",
     "output_type": "stream",
     "text": [
      ">>>>>> buy list (1) : 2011-03-07 00:00:00\n",
      "좋은사람들(A033340) : 3155\n",
      "\n",
      "\n",
      ">>>>>> enough periods (하이트진로홀딩스 : A000140) - (16500 : -0.31) : 367 days 00:00:002011-03-14 00:00:00\n",
      ">>>>>> sell list (1) : 2011-03-14 00:00:00\n",
      "['A000140']\n",
      "\n",
      "\n"
     ]
    },
    {
     "name": "stderr",
     "output_type": "stream",
     "text": [
      "/Users/Shared/anaconda3/anaconda3/lib/python3.7/site-packages/ipykernel_launcher.py:689: SettingWithCopyWarning: \n",
      "A value is trying to be set on a copy of a slice from a DataFrame.\n",
      "Try using .loc[row_indexer,col_indexer] = value instead\n",
      "\n",
      "See the caveats in the documentation: http://pandas.pydata.org/pandas-docs/stable/indexing.html#indexing-view-versus-copy\n"
     ]
    },
    {
     "name": "stdout",
     "output_type": "stream",
     "text": [
      ">>>>>> buy list (1) : 2011-03-14 00:00:00\n",
      "신영와코루(A005800) : 43\n",
      "\n",
      "\n",
      ">>>>>> enough periods (두산 : A000150) - (116160 : 0.1) : 367 days 00:00:002011-04-04 00:00:00\n",
      ">>>>>> sell list (1) : 2011-04-04 00:00:00\n",
      "['A000150']\n",
      "\n",
      "\n"
     ]
    },
    {
     "name": "stderr",
     "output_type": "stream",
     "text": [
      "/Users/Shared/anaconda3/anaconda3/lib/python3.7/site-packages/ipykernel_launcher.py:689: SettingWithCopyWarning: \n",
      "A value is trying to be set on a copy of a slice from a DataFrame.\n",
      "Try using .loc[row_indexer,col_indexer] = value instead\n",
      "\n",
      "See the caveats in the documentation: http://pandas.pydata.org/pandas-docs/stable/indexing.html#indexing-view-versus-copy\n"
     ]
    },
    {
     "name": "stdout",
     "output_type": "stream",
     "text": [
      ">>>>>> buy list (1) : 2011-04-04 00:00:00\n",
      "남영비비안(A002070) : 779\n",
      "\n",
      "\n",
      ">>>>>> enough profit (기아자동차 : A000270) - (72900 : 0.53) : 2011-04-06 00:00:00\n",
      ">>>>>> sell list (1) : 2011-04-06 00:00:00\n",
      "['A000270']\n",
      "\n",
      "\n"
     ]
    },
    {
     "name": "stderr",
     "output_type": "stream",
     "text": [
      "/Users/Shared/anaconda3/anaconda3/lib/python3.7/site-packages/ipykernel_launcher.py:689: SettingWithCopyWarning: \n",
      "A value is trying to be set on a copy of a slice from a DataFrame.\n",
      "Try using .loc[row_indexer,col_indexer] = value instead\n",
      "\n",
      "See the caveats in the documentation: http://pandas.pydata.org/pandas-docs/stable/indexing.html#indexing-view-versus-copy\n"
     ]
    },
    {
     "name": "stdout",
     "output_type": "stream",
     "text": [
      ">>>>>> buy list (1) : 2011-04-06 00:00:00\n",
      "신원(A009270) : 6615\n",
      "\n",
      "\n",
      ">>>>>> enough profit (한국테크놀로지그룹 : A000240) - (19313 : 0.52) : 2011-04-14 00:00:00\n",
      ">>>>>> sell list (1) : 2011-04-14 00:00:00\n",
      "['A000240']\n",
      "\n",
      "\n"
     ]
    },
    {
     "name": "stderr",
     "output_type": "stream",
     "text": [
      "/Users/Shared/anaconda3/anaconda3/lib/python3.7/site-packages/ipykernel_launcher.py:689: SettingWithCopyWarning: \n",
      "A value is trying to be set on a copy of a slice from a DataFrame.\n",
      "Try using .loc[row_indexer,col_indexer] = value instead\n",
      "\n",
      "See the caveats in the documentation: http://pandas.pydata.org/pandas-docs/stable/indexing.html#indexing-view-versus-copy\n"
     ]
    },
    {
     "name": "stdout",
     "output_type": "stream",
     "text": [
      ">>>>>> buy list (1) : 2011-04-14 00:00:00\n",
      "SG세계물산(A004060) : 14905\n",
      "\n",
      "\n",
      ">>>>>> enough profit (삼양홀딩스 : A000070) - (90230 : 0.52) : 2011-04-21 00:00:00\n",
      ">>>>>> sell list (1) : 2011-04-21 00:00:00\n",
      "['A000070']\n",
      "\n",
      "\n"
     ]
    },
    {
     "name": "stderr",
     "output_type": "stream",
     "text": [
      "/Users/Shared/anaconda3/anaconda3/lib/python3.7/site-packages/ipykernel_launcher.py:689: SettingWithCopyWarning: \n",
      "A value is trying to be set on a copy of a slice from a DataFrame.\n",
      "Try using .loc[row_indexer,col_indexer] = value instead\n",
      "\n",
      "See the caveats in the documentation: http://pandas.pydata.org/pandas-docs/stable/indexing.html#indexing-view-versus-copy\n"
     ]
    },
    {
     "name": "stdout",
     "output_type": "stream",
     "text": [
      ">>>>>> buy list (1) : 2011-04-21 00:00:00\n",
      "국제약품(A002720) : 4603\n",
      "\n",
      "\n",
      ">>>>>> enough periods (성창기업지주 : A000180) - (1249 : -0.24) : 368 days 00:00:002011-06-07 00:00:00\n",
      ">>>>>> enough periods (유유제약 : A000220) - (6370 : -0.08) : 368 days 00:00:002011-06-07 00:00:00\n",
      ">>>>>> enough periods (일동홀딩스 : A000230) - (8775 : 0.25) : 368 days 00:00:002011-06-07 00:00:00\n",
      ">>>>>> enough profit (삼천당제약 : A000250) - (3195 : 0.55) : 2011-06-07 00:00:00\n",
      ">>>>>> enough periods (삼천당제약 : A000250) - (3195 : 0.55) : 368 days 00:00:002011-06-07 00:00:00\n",
      ">>>>>> enough periods (대유플러스 : A000300) - (1553 : -0.12) : 368 days 00:00:002011-06-07 00:00:00\n",
      ">>>>>> enough periods (한화손해보험 : A000370) - (8533 : -0.04) : 368 days 00:00:002011-06-07 00:00:00\n",
      ">>>>>> enough periods (삼화페인트공업 : A000390) - (3990 : -0.12) : 368 days 00:00:002011-06-07 00:00:00\n",
      ">>>>>> sell list (7) : 2011-06-07 00:00:00\n",
      "['A000180', 'A000220', 'A000230', 'A000250', 'A000300', 'A000370', 'A000390']\n",
      "\n",
      "\n"
     ]
    },
    {
     "name": "stderr",
     "output_type": "stream",
     "text": [
      "/Users/Shared/anaconda3/anaconda3/lib/python3.7/site-packages/ipykernel_launcher.py:689: SettingWithCopyWarning: \n",
      "A value is trying to be set on a copy of a slice from a DataFrame.\n",
      "Try using .loc[row_indexer,col_indexer] = value instead\n",
      "\n",
      "See the caveats in the documentation: http://pandas.pydata.org/pandas-docs/stable/indexing.html#indexing-view-versus-copy\n"
     ]
    },
    {
     "name": "stdout",
     "output_type": "stream",
     "text": [
      ">>>>>> buy list (7) : 2011-06-07 00:00:00\n",
      "부방(A014470) : 4750\n",
      "현대약품(A004310) : 3025\n",
      "삼일제약(A000520) : 789\n",
      "지엔코(A065060) : 3234\n",
      "오리콤(A010470) : 1643\n",
      "파인디지털(A038950) : 1252\n",
      "신성통상(A005390) : 9821\n",
      "\n",
      "\n",
      ">>>>>> enough periods (롯데손해보험 : A000400) - (4962 : -0.11) : 368 days 00:00:002011-06-20 00:00:00\n",
      ">>>>>> sell list (1) : 2011-06-20 00:00:00\n",
      "['A000400']\n",
      "\n",
      "\n"
     ]
    },
    {
     "name": "stderr",
     "output_type": "stream",
     "text": [
      "/Users/Shared/anaconda3/anaconda3/lib/python3.7/site-packages/ipykernel_launcher.py:689: SettingWithCopyWarning: \n",
      "A value is trying to be set on a copy of a slice from a DataFrame.\n",
      "Try using .loc[row_indexer,col_indexer] = value instead\n",
      "\n",
      "See the caveats in the documentation: http://pandas.pydata.org/pandas-docs/stable/indexing.html#indexing-view-versus-copy\n"
     ]
    },
    {
     "name": "stdout",
     "output_type": "stream",
     "text": [
      ">>>>>> buy list (1) : 2011-06-20 00:00:00\n",
      "대현(A016090) : 3105\n",
      "\n",
      "\n",
      ">>>>>> enough periods (동화약품 : A000020) - (4895 : -0.03) : 366 days 00:00:002011-07-06 00:00:00\n",
      ">>>>>> enough profit (메리츠화재 : A000060) - (13300 : 0.5) : 2011-07-06 00:00:00\n",
      ">>>>>> sell list (2) : 2011-07-06 00:00:00\n",
      "['A000020', 'A000060']\n",
      "\n",
      "\n"
     ]
    },
    {
     "name": "stderr",
     "output_type": "stream",
     "text": [
      "/Users/Shared/anaconda3/anaconda3/lib/python3.7/site-packages/ipykernel_launcher.py:689: SettingWithCopyWarning: \n",
      "A value is trying to be set on a copy of a slice from a DataFrame.\n",
      "Try using .loc[row_indexer,col_indexer] = value instead\n",
      "\n",
      "See the caveats in the documentation: http://pandas.pydata.org/pandas-docs/stable/indexing.html#indexing-view-versus-copy\n"
     ]
    },
    {
     "name": "stdout",
     "output_type": "stream",
     "text": [
      ">>>>>> buy list (2) : 2011-07-06 00:00:00\n",
      "코리아나(A027050) : 6420\n",
      "삼천당제약(A000250) : 2398\n",
      "\n",
      "\n",
      ">>>>>> enough profit (지엔코 : A065060) - (2030 : 0.61) : 2011-07-11 00:00:00\n",
      ">>>>>> sell list (1) : 2011-07-11 00:00:00\n",
      "['A065060']\n",
      "\n",
      "\n"
     ]
    },
    {
     "name": "stderr",
     "output_type": "stream",
     "text": [
      "/Users/Shared/anaconda3/anaconda3/lib/python3.7/site-packages/ipykernel_launcher.py:689: SettingWithCopyWarning: \n",
      "A value is trying to be set on a copy of a slice from a DataFrame.\n",
      "Try using .loc[row_indexer,col_indexer] = value instead\n",
      "\n",
      "See the caveats in the documentation: http://pandas.pydata.org/pandas-docs/stable/indexing.html#indexing-view-versus-copy\n"
     ]
    },
    {
     "name": "stdout",
     "output_type": "stream",
     "text": [
      ">>>>>> buy list (1) : 2011-07-11 00:00:00\n",
      "에넥스(A011090) : 17750\n",
      "\n",
      "\n",
      ">>>>>> enough periods (경방 : A000050) - (9959 : 0.22) : 366 days 00:00:002011-07-13 00:00:00\n",
      ">>>>>> sell list (1) : 2011-07-13 00:00:00\n",
      "['A000050']\n",
      "\n",
      "\n"
     ]
    },
    {
     "name": "stderr",
     "output_type": "stream",
     "text": [
      "/Users/Shared/anaconda3/anaconda3/lib/python3.7/site-packages/ipykernel_launcher.py:689: SettingWithCopyWarning: \n",
      "A value is trying to be set on a copy of a slice from a DataFrame.\n",
      "Try using .loc[row_indexer,col_indexer] = value instead\n",
      "\n",
      "See the caveats in the documentation: http://pandas.pydata.org/pandas-docs/stable/indexing.html#indexing-view-versus-copy\n"
     ]
    },
    {
     "name": "stdout",
     "output_type": "stream",
     "text": [
      ">>>>>> buy list (1) : 2011-07-13 00:00:00\n",
      "지엔코(A065060) : 6531\n",
      "\n",
      "\n",
      ">>>>>> enough profit (대현 : A016090) - (1690 : 0.6) : 2011-07-20 00:00:00\n",
      ">>>>>> sell list (1) : 2011-07-20 00:00:00\n",
      "['A016090']\n",
      "\n",
      "\n"
     ]
    },
    {
     "name": "stderr",
     "output_type": "stream",
     "text": [
      "/Users/Shared/anaconda3/anaconda3/lib/python3.7/site-packages/ipykernel_launcher.py:689: SettingWithCopyWarning: \n",
      "A value is trying to be set on a copy of a slice from a DataFrame.\n",
      "Try using .loc[row_indexer,col_indexer] = value instead\n",
      "\n",
      "See the caveats in the documentation: http://pandas.pydata.org/pandas-docs/stable/indexing.html#indexing-view-versus-copy\n"
     ]
    },
    {
     "name": "stdout",
     "output_type": "stream",
     "text": [
      ">>>>>> buy list (1) : 2011-07-20 00:00:00\n",
      "F&F(A007700) : 557\n",
      "\n",
      "\n",
      ">>>>>> enough profit (좋은사람들 : A033340) - (2364 : 0.7) : 2011-08-05 00:00:00\n",
      ">>>>>> sell list (1) : 2011-08-05 00:00:00\n",
      "['A033340']\n",
      "\n",
      "\n"
     ]
    },
    {
     "name": "stderr",
     "output_type": "stream",
     "text": [
      "/Users/Shared/anaconda3/anaconda3/lib/python3.7/site-packages/ipykernel_launcher.py:689: SettingWithCopyWarning: \n",
      "A value is trying to be set on a copy of a slice from a DataFrame.\n",
      "Try using .loc[row_indexer,col_indexer] = value instead\n",
      "\n",
      "See the caveats in the documentation: http://pandas.pydata.org/pandas-docs/stable/indexing.html#indexing-view-versus-copy\n"
     ]
    },
    {
     "name": "stdout",
     "output_type": "stream",
     "text": [
      ">>>>>> buy list (1) : 2011-08-05 00:00:00\n",
      "대현(A016090) : 2858\n",
      "\n",
      "\n",
      ">>>>>> enough profit (부방 : A014470) - (1332 : 0.55) : 2011-08-17 00:00:00\n",
      ">>>>>> sell list (1) : 2011-08-17 00:00:00\n",
      "['A014470']\n",
      "\n",
      "\n"
     ]
    },
    {
     "name": "stderr",
     "output_type": "stream",
     "text": [
      "/Users/Shared/anaconda3/anaconda3/lib/python3.7/site-packages/ipykernel_launcher.py:689: SettingWithCopyWarning: \n",
      "A value is trying to be set on a copy of a slice from a DataFrame.\n",
      "Try using .loc[row_indexer,col_indexer] = value instead\n",
      "\n",
      "See the caveats in the documentation: http://pandas.pydata.org/pandas-docs/stable/indexing.html#indexing-view-versus-copy\n"
     ]
    },
    {
     "name": "stdout",
     "output_type": "stream",
     "text": [
      ">>>>>> buy list (1) : 2011-08-17 00:00:00\n",
      "좋은사람들(A033340) : 3006\n",
      "\n",
      "\n",
      ">>>>>> enough profit (신성통상 : A005390) - (655 : 0.58) : 2011-09-08 00:00:00\n",
      ">>>>>> enough profit (코리아나 : A027050) - (1575 : 0.52) : 2011-09-08 00:00:00\n",
      ">>>>>> sell list (2) : 2011-09-08 00:00:00\n",
      "['A005390', 'A027050']\n",
      "\n",
      "\n"
     ]
    },
    {
     "name": "stderr",
     "output_type": "stream",
     "text": [
      "/Users/Shared/anaconda3/anaconda3/lib/python3.7/site-packages/ipykernel_launcher.py:689: SettingWithCopyWarning: \n",
      "A value is trying to be set on a copy of a slice from a DataFrame.\n",
      "Try using .loc[row_indexer,col_indexer] = value instead\n",
      "\n",
      "See the caveats in the documentation: http://pandas.pydata.org/pandas-docs/stable/indexing.html#indexing-view-versus-copy\n"
     ]
    },
    {
     "name": "stdout",
     "output_type": "stream",
     "text": [
      ">>>>>> buy list (2) : 2011-09-08 00:00:00\n",
      "부방(A014470) : 9585\n",
      "주연테크(A044380) : 22664\n",
      "\n",
      "\n",
      ">>>>>> enough periods (대림산업 : A000210) - (93000 : -0.03) : 366 days 00:00:002011-11-02 00:00:00\n",
      ">>>>>> sell list (1) : 2011-11-02 00:00:00\n",
      "['A000210']\n",
      "\n",
      "\n"
     ]
    },
    {
     "name": "stderr",
     "output_type": "stream",
     "text": [
      "/Users/Shared/anaconda3/anaconda3/lib/python3.7/site-packages/ipykernel_launcher.py:689: SettingWithCopyWarning: \n",
      "A value is trying to be set on a copy of a slice from a DataFrame.\n",
      "Try using .loc[row_indexer,col_indexer] = value instead\n",
      "\n",
      "See the caveats in the documentation: http://pandas.pydata.org/pandas-docs/stable/indexing.html#indexing-view-versus-copy\n"
     ]
    },
    {
     "name": "stdout",
     "output_type": "stream",
     "text": [
      ">>>>>> buy list (1) : 2011-11-02 00:00:00\n",
      "신성통상(A005390) : 6316\n",
      "\n",
      "\n",
      ">>>>>> enough profit (지엔코 : A065060) - (2655 : 0.56) : 2011-11-17 00:00:00\n",
      ">>>>>> sell list (1) : 2011-11-17 00:00:00\n",
      "['A065060']\n",
      "\n",
      "\n"
     ]
    },
    {
     "name": "stderr",
     "output_type": "stream",
     "text": [
      "/Users/Shared/anaconda3/anaconda3/lib/python3.7/site-packages/ipykernel_launcher.py:689: SettingWithCopyWarning: \n",
      "A value is trying to be set on a copy of a slice from a DataFrame.\n",
      "Try using .loc[row_indexer,col_indexer] = value instead\n",
      "\n",
      "See the caveats in the documentation: http://pandas.pydata.org/pandas-docs/stable/indexing.html#indexing-view-versus-copy\n"
     ]
    },
    {
     "name": "stdout",
     "output_type": "stream",
     "text": [
      ">>>>>> buy list (1) : 2011-11-17 00:00:00\n",
      "코리아나(A027050) : 14757\n",
      "\n",
      "\n",
      ">>>>>> enough periods (노루홀딩스 : A000320) - (7160 : 0.16) : 366 days 00:00:002011-12-07 00:00:00\n",
      ">>>>>> sell list (1) : 2011-12-07 00:00:00\n",
      "['A000320']\n",
      "\n",
      "\n"
     ]
    },
    {
     "name": "stderr",
     "output_type": "stream",
     "text": [
      "/Users/Shared/anaconda3/anaconda3/lib/python3.7/site-packages/ipykernel_launcher.py:689: SettingWithCopyWarning: \n",
      "A value is trying to be set on a copy of a slice from a DataFrame.\n",
      "Try using .loc[row_indexer,col_indexer] = value instead\n",
      "\n",
      "See the caveats in the documentation: http://pandas.pydata.org/pandas-docs/stable/indexing.html#indexing-view-versus-copy\n"
     ]
    },
    {
     "name": "stdout",
     "output_type": "stream",
     "text": [
      ">>>>>> buy list (1) : 2011-12-07 00:00:00\n",
      "지엔코(A065060) : 5586\n",
      "\n",
      "\n",
      ">>>>>> enough profit (지엔코 : A065060) - (4465 : 0.57) : 2011-12-21 00:00:00\n",
      ">>>>>> sell list (1) : 2011-12-21 00:00:00\n",
      "['A065060']\n",
      "\n",
      "\n"
     ]
    },
    {
     "name": "stderr",
     "output_type": "stream",
     "text": [
      "/Users/Shared/anaconda3/anaconda3/lib/python3.7/site-packages/ipykernel_launcher.py:689: SettingWithCopyWarning: \n",
      "A value is trying to be set on a copy of a slice from a DataFrame.\n",
      "Try using .loc[row_indexer,col_indexer] = value instead\n",
      "\n",
      "See the caveats in the documentation: http://pandas.pydata.org/pandas-docs/stable/indexing.html#indexing-view-versus-copy\n"
     ]
    },
    {
     "name": "stdout",
     "output_type": "stream",
     "text": [
      ">>>>>> buy list (1) : 2011-12-21 00:00:00\n",
      "경동나비엔(A009450) : 4157\n",
      "\n",
      "\n",
      ">>>>>> enough periods (형지I&C : A011080) - (645 : 0.15) : 366 days 00:00:002012-02-01 00:00:00\n",
      ">>>>>> sell list (1) : 2012-02-01 00:00:00\n",
      "['A011080']\n",
      "\n",
      "\n"
     ]
    },
    {
     "name": "stderr",
     "output_type": "stream",
     "text": [
      "/Users/Shared/anaconda3/anaconda3/lib/python3.7/site-packages/ipykernel_launcher.py:689: SettingWithCopyWarning: \n",
      "A value is trying to be set on a copy of a slice from a DataFrame.\n",
      "Try using .loc[row_indexer,col_indexer] = value instead\n",
      "\n",
      "See the caveats in the documentation: http://pandas.pydata.org/pandas-docs/stable/indexing.html#indexing-view-versus-copy\n"
     ]
    },
    {
     "name": "stdout",
     "output_type": "stream",
     "text": [
      ">>>>>> buy list (1) : 2012-02-01 00:00:00\n",
      "현대바이오(A048410) : 2941\n",
      "\n",
      "\n",
      ">>>>>> enough profit (신성통상 : A005390) - (1515 : 0.66) : 2012-02-08 00:00:00\n",
      ">>>>>> sell list (1) : 2012-02-08 00:00:00\n",
      "['A005390']\n",
      "\n",
      "\n"
     ]
    },
    {
     "name": "stderr",
     "output_type": "stream",
     "text": [
      "/Users/Shared/anaconda3/anaconda3/lib/python3.7/site-packages/ipykernel_launcher.py:689: SettingWithCopyWarning: \n",
      "A value is trying to be set on a copy of a slice from a DataFrame.\n",
      "Try using .loc[row_indexer,col_indexer] = value instead\n",
      "\n",
      "See the caveats in the documentation: http://pandas.pydata.org/pandas-docs/stable/indexing.html#indexing-view-versus-copy\n"
     ]
    },
    {
     "name": "stdout",
     "output_type": "stream",
     "text": [
      ">>>>>> buy list (1) : 2012-02-08 00:00:00\n",
      "형지I&C(A011080) : 15610\n",
      "\n",
      "\n",
      ">>>>>> enough profit (국제약품 : A002720) - (3083 : 0.66) : 2012-02-14 00:00:00\n",
      ">>>>>> sell list (1) : 2012-02-14 00:00:00\n",
      "['A002720']\n",
      "\n",
      "\n"
     ]
    },
    {
     "name": "stderr",
     "output_type": "stream",
     "text": [
      "/Users/Shared/anaconda3/anaconda3/lib/python3.7/site-packages/ipykernel_launcher.py:689: SettingWithCopyWarning: \n",
      "A value is trying to be set on a copy of a slice from a DataFrame.\n",
      "Try using .loc[row_indexer,col_indexer] = value instead\n",
      "\n",
      "See the caveats in the documentation: http://pandas.pydata.org/pandas-docs/stable/indexing.html#indexing-view-versus-copy\n"
     ]
    },
    {
     "name": "stdout",
     "output_type": "stream",
     "text": [
      ">>>>>> buy list (1) : 2012-02-14 00:00:00\n",
      "인디에프(A014990) : 21866\n",
      "\n",
      "\n",
      ">>>>>> enough profit (현대바이오 : A048410) - (3881 : 0.66) : 2012-02-16 00:00:00\n",
      ">>>>>> sell list (1) : 2012-02-16 00:00:00\n",
      "['A048410']\n",
      "\n",
      "\n"
     ]
    },
    {
     "name": "stderr",
     "output_type": "stream",
     "text": [
      "/Users/Shared/anaconda3/anaconda3/lib/python3.7/site-packages/ipykernel_launcher.py:689: SettingWithCopyWarning: \n",
      "A value is trying to be set on a copy of a slice from a DataFrame.\n",
      "Try using .loc[row_indexer,col_indexer] = value instead\n",
      "\n",
      "See the caveats in the documentation: http://pandas.pydata.org/pandas-docs/stable/indexing.html#indexing-view-versus-copy\n"
     ]
    },
    {
     "name": "stdout",
     "output_type": "stream",
     "text": [
      ">>>>>> buy list (1) : 2012-02-16 00:00:00\n",
      "신성통상(A005390) : 7224\n",
      "\n",
      "\n",
      ">>>>>> enough profit (에넥스 : A011090) - (609 : 0.65) : 2012-02-20 00:00:00\n",
      ">>>>>> sell list (1) : 2012-02-20 00:00:00\n",
      "['A011090']\n",
      "\n",
      "\n"
     ]
    },
    {
     "name": "stderr",
     "output_type": "stream",
     "text": [
      "/Users/Shared/anaconda3/anaconda3/lib/python3.7/site-packages/ipykernel_launcher.py:689: SettingWithCopyWarning: \n",
      "A value is trying to be set on a copy of a slice from a DataFrame.\n",
      "Try using .loc[row_indexer,col_indexer] = value instead\n",
      "\n",
      "See the caveats in the documentation: http://pandas.pydata.org/pandas-docs/stable/indexing.html#indexing-view-versus-copy\n"
     ]
    },
    {
     "name": "stdout",
     "output_type": "stream",
     "text": [
      ">>>>>> buy list (1) : 2012-02-20 00:00:00\n",
      "현대바이오(A048410) : 3191\n",
      "\n",
      "\n",
      ">>>>>> enough profit (형지I&C : A011080) - (924 : 0.51) : 2012-03-06 00:00:00\n",
      ">>>>>> sell list (1) : 2012-03-06 00:00:00\n",
      "['A011080']\n",
      "\n",
      "\n"
     ]
    },
    {
     "name": "stderr",
     "output_type": "stream",
     "text": [
      "/Users/Shared/anaconda3/anaconda3/lib/python3.7/site-packages/ipykernel_launcher.py:689: SettingWithCopyWarning: \n",
      "A value is trying to be set on a copy of a slice from a DataFrame.\n",
      "Try using .loc[row_indexer,col_indexer] = value instead\n",
      "\n",
      "See the caveats in the documentation: http://pandas.pydata.org/pandas-docs/stable/indexing.html#indexing-view-versus-copy\n"
     ]
    },
    {
     "name": "stdout",
     "output_type": "stream",
     "text": [
      ">>>>>> buy list (1) : 2012-03-06 00:00:00\n",
      "서산(A079650) : 25308\n",
      "\n",
      "\n",
      ">>>>>> enough periods (신영와코루 : A005800) - (102000 : 0.02) : 366 days 00:00:002012-03-14 00:00:00\n",
      ">>>>>> sell list (1) : 2012-03-14 00:00:00\n",
      "['A005800']\n",
      "\n",
      "\n"
     ]
    },
    {
     "name": "stderr",
     "output_type": "stream",
     "text": [
      "/Users/Shared/anaconda3/anaconda3/lib/python3.7/site-packages/ipykernel_launcher.py:689: SettingWithCopyWarning: \n",
      "A value is trying to be set on a copy of a slice from a DataFrame.\n",
      "Try using .loc[row_indexer,col_indexer] = value instead\n",
      "\n",
      "See the caveats in the documentation: http://pandas.pydata.org/pandas-docs/stable/indexing.html#indexing-view-versus-copy\n"
     ]
    },
    {
     "name": "stdout",
     "output_type": "stream",
     "text": [
      ">>>>>> buy list (1) : 2012-03-14 00:00:00\n",
      "형지I&C(A011080) : 4646\n",
      "\n",
      "\n",
      ">>>>>> enough periods (남영비비안 : A002070) - (8190 : -0.07) : 366 days 00:00:002012-04-04 00:00:00\n",
      ">>>>>> sell list (1) : 2012-04-04 00:00:00\n",
      "['A002070']\n",
      "\n",
      "\n"
     ]
    },
    {
     "name": "stderr",
     "output_type": "stream",
     "text": [
      "/Users/Shared/anaconda3/anaconda3/lib/python3.7/site-packages/ipykernel_launcher.py:689: SettingWithCopyWarning: \n",
      "A value is trying to be set on a copy of a slice from a DataFrame.\n",
      "Try using .loc[row_indexer,col_indexer] = value instead\n",
      "\n",
      "See the caveats in the documentation: http://pandas.pydata.org/pandas-docs/stable/indexing.html#indexing-view-versus-copy\n"
     ]
    },
    {
     "name": "stdout",
     "output_type": "stream",
     "text": [
      ">>>>>> buy list (1) : 2012-04-04 00:00:00\n",
      "신영와코루(A005800) : 63\n",
      "\n",
      "\n",
      ">>>>>> enough periods (신원 : A009270) - (1410 : 0.01) : 366 days 00:00:002012-04-06 00:00:00\n",
      ">>>>>> sell list (1) : 2012-04-06 00:00:00\n",
      "['A009270']\n",
      "\n",
      "\n"
     ]
    },
    {
     "name": "stderr",
     "output_type": "stream",
     "text": [
      "/Users/Shared/anaconda3/anaconda3/lib/python3.7/site-packages/ipykernel_launcher.py:689: SettingWithCopyWarning: \n",
      "A value is trying to be set on a copy of a slice from a DataFrame.\n",
      "Try using .loc[row_indexer,col_indexer] = value instead\n",
      "\n",
      "See the caveats in the documentation: http://pandas.pydata.org/pandas-docs/stable/indexing.html#indexing-view-versus-copy\n"
     ]
    },
    {
     "name": "stdout",
     "output_type": "stream",
     "text": [
      ">>>>>> buy list (1) : 2012-04-06 00:00:00\n",
      "남영비비안(A002070) : 1159\n",
      "\n",
      "\n",
      ">>>>>> enough periods (SG세계물산 : A004060) - (468 : 0.16) : 368 days 00:00:002012-04-16 00:00:00\n",
      ">>>>>> sell list (1) : 2012-04-16 00:00:00\n",
      "['A004060']\n",
      "\n",
      "\n"
     ]
    },
    {
     "name": "stderr",
     "output_type": "stream",
     "text": [
      "/Users/Shared/anaconda3/anaconda3/lib/python3.7/site-packages/ipykernel_launcher.py:689: SettingWithCopyWarning: \n",
      "A value is trying to be set on a copy of a slice from a DataFrame.\n",
      "Try using .loc[row_indexer,col_indexer] = value instead\n",
      "\n",
      "See the caveats in the documentation: http://pandas.pydata.org/pandas-docs/stable/indexing.html#indexing-view-versus-copy\n"
     ]
    },
    {
     "name": "stdout",
     "output_type": "stream",
     "text": [
      ">>>>>> buy list (1) : 2012-04-16 00:00:00\n",
      "신원(A009270) : 4796\n",
      "\n",
      "\n",
      ">>>>>> enough profit (형지I&C : A011080) - (1446 : 0.53) : 2012-04-23 00:00:00\n",
      ">>>>>> sell list (1) : 2012-04-23 00:00:00\n",
      "['A011080']\n",
      "\n",
      "\n"
     ]
    },
    {
     "name": "stderr",
     "output_type": "stream",
     "text": [
      "/Users/Shared/anaconda3/anaconda3/lib/python3.7/site-packages/ipykernel_launcher.py:689: SettingWithCopyWarning: \n",
      "A value is trying to be set on a copy of a slice from a DataFrame.\n",
      "Try using .loc[row_indexer,col_indexer] = value instead\n",
      "\n",
      "See the caveats in the documentation: http://pandas.pydata.org/pandas-docs/stable/indexing.html#indexing-view-versus-copy\n"
     ]
    },
    {
     "name": "stdout",
     "output_type": "stream",
     "text": [
      ">>>>>> buy list (1) : 2012-04-23 00:00:00\n",
      "SG세계물산(A004060) : 12652\n",
      "\n",
      "\n",
      ">>>>>> enough profit (코리아나 : A027050) - (1780 : 0.51) : 2012-05-21 00:00:00\n",
      ">>>>>> sell list (1) : 2012-05-21 00:00:00\n",
      "['A027050']\n",
      "\n",
      "\n"
     ]
    },
    {
     "name": "stderr",
     "output_type": "stream",
     "text": [
      "/Users/Shared/anaconda3/anaconda3/lib/python3.7/site-packages/ipykernel_launcher.py:689: SettingWithCopyWarning: \n",
      "A value is trying to be set on a copy of a slice from a DataFrame.\n",
      "Try using .loc[row_indexer,col_indexer] = value instead\n",
      "\n",
      "See the caveats in the documentation: http://pandas.pydata.org/pandas-docs/stable/indexing.html#indexing-view-versus-copy\n"
     ]
    },
    {
     "name": "stdout",
     "output_type": "stream",
     "text": [
      ">>>>>> buy list (1) : 2012-05-21 00:00:00\n",
      "형지I&C(A011080) : 26085\n",
      "\n",
      "\n",
      ">>>>>> enough periods (삼일제약 : A000520) - (3969 : -0.23) : 366 days 00:00:002012-06-07 00:00:00\n",
      ">>>>>> enough periods (현대약품 : A004310) - (1357 : 0.01) : 366 days 00:00:002012-06-07 00:00:00\n",
      ">>>>>> enough periods (오리콤 : A010470) - (2710 : 0.09) : 366 days 00:00:002012-06-07 00:00:00\n",
      ">>>>>> enough periods (파인디지털 : A038950) - (3290 : 0.01) : 366 days 00:00:002012-06-07 00:00:00\n",
      ">>>>>> sell list (4) : 2012-06-07 00:00:00\n",
      "['A000520', 'A004310', 'A010470', 'A038950']\n",
      "\n",
      "\n"
     ]
    },
    {
     "name": "stderr",
     "output_type": "stream",
     "text": [
      "/Users/Shared/anaconda3/anaconda3/lib/python3.7/site-packages/ipykernel_launcher.py:689: SettingWithCopyWarning: \n",
      "A value is trying to be set on a copy of a slice from a DataFrame.\n",
      "Try using .loc[row_indexer,col_indexer] = value instead\n",
      "\n",
      "See the caveats in the documentation: http://pandas.pydata.org/pandas-docs/stable/indexing.html#indexing-view-versus-copy\n"
     ]
    },
    {
     "name": "stdout",
     "output_type": "stream",
     "text": [
      ">>>>>> buy list (4) : 2012-06-07 00:00:00\n",
      "코리아나(A027050) : 2470\n",
      "NICE(A034310) : 800\n",
      "백금T&A(A046310) : 2845\n",
      "샘표(A007540) : 314\n",
      "\n",
      "\n",
      ">>>>>> enough profit (주연테크 : A044380) - (579.0 : 0.59) : 2012-06-19 00:00:00\n",
      ">>>>>> sell list (1) : 2012-06-19 00:00:00\n",
      "['A044380']\n",
      "\n",
      "\n"
     ]
    },
    {
     "name": "stderr",
     "output_type": "stream",
     "text": [
      "/Users/Shared/anaconda3/anaconda3/lib/python3.7/site-packages/ipykernel_launcher.py:689: SettingWithCopyWarning: \n",
      "A value is trying to be set on a copy of a slice from a DataFrame.\n",
      "Try using .loc[row_indexer,col_indexer] = value instead\n",
      "\n",
      "See the caveats in the documentation: http://pandas.pydata.org/pandas-docs/stable/indexing.html#indexing-view-versus-copy\n"
     ]
    },
    {
     "name": "stdout",
     "output_type": "stream",
     "text": [
      ">>>>>> buy list (1) : 2012-06-19 00:00:00\n",
      "현대약품(A004310) : 9544\n",
      "\n",
      "\n",
      ">>>>>> enough periods (삼천당제약 : A000250) - (2075 : -0.25) : 366 days 00:00:002012-07-06 00:00:00\n",
      ">>>>>> sell list (1) : 2012-07-06 00:00:00\n",
      "['A000250']\n",
      "\n",
      "\n"
     ]
    },
    {
     "name": "stderr",
     "output_type": "stream",
     "text": [
      "/Users/Shared/anaconda3/anaconda3/lib/python3.7/site-packages/ipykernel_launcher.py:689: SettingWithCopyWarning: \n",
      "A value is trying to be set on a copy of a slice from a DataFrame.\n",
      "Try using .loc[row_indexer,col_indexer] = value instead\n",
      "\n",
      "See the caveats in the documentation: http://pandas.pydata.org/pandas-docs/stable/indexing.html#indexing-view-versus-copy\n"
     ]
    },
    {
     "name": "stdout",
     "output_type": "stream",
     "text": [
      ">>>>>> buy list (1) : 2012-07-06 00:00:00\n",
      "삼일제약(A000520) : 1204\n",
      "\n",
      "\n",
      ">>>>>> enough periods (F&F : A007700) - (6120 : -0.35) : 366 days 00:00:002012-07-20 00:00:00\n",
      ">>>>>> sell list (1) : 2012-07-20 00:00:00\n",
      "['A007700']\n",
      "\n",
      "\n"
     ]
    },
    {
     "name": "stderr",
     "output_type": "stream",
     "text": [
      "/Users/Shared/anaconda3/anaconda3/lib/python3.7/site-packages/ipykernel_launcher.py:689: SettingWithCopyWarning: \n",
      "A value is trying to be set on a copy of a slice from a DataFrame.\n",
      "Try using .loc[row_indexer,col_indexer] = value instead\n",
      "\n",
      "See the caveats in the documentation: http://pandas.pydata.org/pandas-docs/stable/indexing.html#indexing-view-versus-copy\n"
     ]
    },
    {
     "name": "stdout",
     "output_type": "stream",
     "text": [
      ">>>>>> buy list (1) : 2012-07-20 00:00:00\n",
      "파인디지털(A038950) : 816\n",
      "\n",
      "\n",
      ">>>>>> enough periods (대현 : A016090) - (1245 : -0.52) : 367 days 00:00:002012-08-06 00:00:00\n",
      ">>>>>> sell list (1) : 2012-08-06 00:00:00\n",
      "['A016090']\n",
      "\n",
      "\n"
     ]
    },
    {
     "name": "stderr",
     "output_type": "stream",
     "text": [
      "/Users/Shared/anaconda3/anaconda3/lib/python3.7/site-packages/ipykernel_launcher.py:689: SettingWithCopyWarning: \n",
      "A value is trying to be set on a copy of a slice from a DataFrame.\n",
      "Try using .loc[row_indexer,col_indexer] = value instead\n",
      "\n",
      "See the caveats in the documentation: http://pandas.pydata.org/pandas-docs/stable/indexing.html#indexing-view-versus-copy\n"
     ]
    },
    {
     "name": "stdout",
     "output_type": "stream",
     "text": [
      ">>>>>> buy list (1) : 2012-08-06 00:00:00\n",
      "제우스(A079370) : 759\n",
      "\n",
      "\n",
      ">>>>>> enough periods (좋은사람들 : A033340) - (1519 : -0.28) : 366 days 00:00:002012-08-17 00:00:00\n",
      ">>>>>> sell list (1) : 2012-08-17 00:00:00\n",
      "['A033340']\n",
      "\n",
      "\n"
     ]
    },
    {
     "name": "stderr",
     "output_type": "stream",
     "text": [
      "/Users/Shared/anaconda3/anaconda3/lib/python3.7/site-packages/ipykernel_launcher.py:689: SettingWithCopyWarning: \n",
      "A value is trying to be set on a copy of a slice from a DataFrame.\n",
      "Try using .loc[row_indexer,col_indexer] = value instead\n",
      "\n",
      "See the caveats in the documentation: http://pandas.pydata.org/pandas-docs/stable/indexing.html#indexing-view-versus-copy\n"
     ]
    },
    {
     "name": "stdout",
     "output_type": "stream",
     "text": [
      ">>>>>> buy list (1) : 2012-08-17 00:00:00\n",
      "동성제약(A002210) : 1365\n",
      "\n",
      "\n",
      ">>>>>> enough periods (부방 : A014470) - (999 : 0.16) : 368 days 00:00:002012-09-10 00:00:00\n",
      ">>>>>> sell list (1) : 2012-09-10 00:00:00\n",
      "['A014470']\n",
      "\n",
      "\n"
     ]
    },
    {
     "name": "stderr",
     "output_type": "stream",
     "text": [
      "/Users/Shared/anaconda3/anaconda3/lib/python3.7/site-packages/ipykernel_launcher.py:689: SettingWithCopyWarning: \n",
      "A value is trying to be set on a copy of a slice from a DataFrame.\n",
      "Try using .loc[row_indexer,col_indexer] = value instead\n",
      "\n",
      "See the caveats in the documentation: http://pandas.pydata.org/pandas-docs/stable/indexing.html#indexing-view-versus-copy\n"
     ]
    },
    {
     "name": "stdout",
     "output_type": "stream",
     "text": [
      ">>>>>> buy list (1) : 2012-09-10 00:00:00\n",
      "좋은사람들(A033340) : 6445\n",
      "\n",
      "\n",
      ">>>>>> enough profit (경동나비엔 : A009450) - (9030 : 0.5) : 2012-09-13 00:00:00\n",
      ">>>>>> sell list (1) : 2012-09-13 00:00:00\n",
      "['A009450']\n",
      "\n",
      "\n"
     ]
    },
    {
     "name": "stderr",
     "output_type": "stream",
     "text": [
      "/Users/Shared/anaconda3/anaconda3/lib/python3.7/site-packages/ipykernel_launcher.py:689: SettingWithCopyWarning: \n",
      "A value is trying to be set on a copy of a slice from a DataFrame.\n",
      "Try using .loc[row_indexer,col_indexer] = value instead\n",
      "\n",
      "See the caveats in the documentation: http://pandas.pydata.org/pandas-docs/stable/indexing.html#indexing-view-versus-copy\n"
     ]
    },
    {
     "name": "stdout",
     "output_type": "stream",
     "text": [
      ">>>>>> buy list (1) : 2012-09-13 00:00:00\n",
      "부방(A014470) : 36730\n",
      "\n",
      "\n",
      ">>>>>> enough profit (파인디지털 : A038950) - (6290 : 0.51) : 2012-09-19 00:00:00\n",
      ">>>>>> sell list (1) : 2012-09-19 00:00:00\n",
      "['A038950']\n",
      "\n",
      "\n"
     ]
    },
    {
     "name": "stderr",
     "output_type": "stream",
     "text": [
      "/Users/Shared/anaconda3/anaconda3/lib/python3.7/site-packages/ipykernel_launcher.py:689: SettingWithCopyWarning: \n",
      "A value is trying to be set on a copy of a slice from a DataFrame.\n",
      "Try using .loc[row_indexer,col_indexer] = value instead\n",
      "\n",
      "See the caveats in the documentation: http://pandas.pydata.org/pandas-docs/stable/indexing.html#indexing-view-versus-copy\n"
     ]
    },
    {
     "name": "stdout",
     "output_type": "stream",
     "text": [
      ">>>>>> buy list (1) : 2012-09-19 00:00:00\n",
      "에넥스(A011090) : 6946\n",
      "\n",
      "\n",
      ">>>>>> enough profit (SG세계물산 : A004060) - (853 : 0.61) : 2012-10-12 00:00:00\n",
      ">>>>>> enough profit (동성제약 : A002210) - (5120 : 0.53) : 2012-10-12 00:00:00\n",
      ">>>>>> sell list (2) : 2012-10-12 00:00:00\n",
      "['A004060', 'A002210']\n",
      "\n",
      "\n"
     ]
    },
    {
     "name": "stderr",
     "output_type": "stream",
     "text": [
      "/Users/Shared/anaconda3/anaconda3/lib/python3.7/site-packages/ipykernel_launcher.py:689: SettingWithCopyWarning: \n",
      "A value is trying to be set on a copy of a slice from a DataFrame.\n",
      "Try using .loc[row_indexer,col_indexer] = value instead\n",
      "\n",
      "See the caveats in the documentation: http://pandas.pydata.org/pandas-docs/stable/indexing.html#indexing-view-versus-copy\n"
     ]
    },
    {
     "name": "stdout",
     "output_type": "stream",
     "text": [
      ">>>>>> buy list (2) : 2012-10-12 00:00:00\n",
      "파인디지털(A038950) : 1209\n",
      "삼아제약(A009300) : 783\n",
      "\n",
      "\n",
      ">>>>>> enough profit (코리아나 : A027050) - (2510 : 0.57) : 2012-10-24 00:00:00\n",
      ">>>>>> sell list (1) : 2012-10-24 00:00:00\n",
      "['A027050']\n",
      "\n",
      "\n"
     ]
    },
    {
     "name": "stderr",
     "output_type": "stream",
     "text": [
      "/Users/Shared/anaconda3/anaconda3/lib/python3.7/site-packages/ipykernel_launcher.py:689: SettingWithCopyWarning: \n",
      "A value is trying to be set on a copy of a slice from a DataFrame.\n",
      "Try using .loc[row_indexer,col_indexer] = value instead\n",
      "\n",
      "See the caveats in the documentation: http://pandas.pydata.org/pandas-docs/stable/indexing.html#indexing-view-versus-copy\n"
     ]
    },
    {
     "name": "stdout",
     "output_type": "stream",
     "text": [
      ">>>>>> buy list (1) : 2012-10-24 00:00:00\n",
      "SG세계물산(A004060) : 9624\n",
      "\n",
      "\n",
      ">>>>>> enough profit (SG세계물산 : A004060) - (1070 : 0.66) : 2013-01-02 00:00:00\n",
      ">>>>>> sell list (1) : 2013-01-02 00:00:00\n",
      "['A004060']\n",
      "\n",
      "\n"
     ]
    },
    {
     "name": "stderr",
     "output_type": "stream",
     "text": [
      "/Users/Shared/anaconda3/anaconda3/lib/python3.7/site-packages/ipykernel_launcher.py:689: SettingWithCopyWarning: \n",
      "A value is trying to be set on a copy of a slice from a DataFrame.\n",
      "Try using .loc[row_indexer,col_indexer] = value instead\n",
      "\n",
      "See the caveats in the documentation: http://pandas.pydata.org/pandas-docs/stable/indexing.html#indexing-view-versus-copy\n"
     ]
    },
    {
     "name": "stdout",
     "output_type": "stream",
     "text": [
      ">>>>>> buy list (1) : 2013-01-02 00:00:00\n",
      "대현(A016090) : 9194\n",
      "\n",
      "\n",
      ">>>>>> enough profit (서산 : A079650) - (877 : 0.54) : 2013-02-04 00:00:00\n",
      ">>>>>> sell list (1) : 2013-02-04 00:00:00\n",
      "['A079650']\n",
      "\n",
      "\n"
     ]
    },
    {
     "name": "stderr",
     "output_type": "stream",
     "text": [
      "/Users/Shared/anaconda3/anaconda3/lib/python3.7/site-packages/ipykernel_launcher.py:689: SettingWithCopyWarning: \n",
      "A value is trying to be set on a copy of a slice from a DataFrame.\n",
      "Try using .loc[row_indexer,col_indexer] = value instead\n",
      "\n",
      "See the caveats in the documentation: http://pandas.pydata.org/pandas-docs/stable/indexing.html#indexing-view-versus-copy\n"
     ]
    },
    {
     "name": "stdout",
     "output_type": "stream",
     "text": [
      ">>>>>> buy list (1) : 2013-02-04 00:00:00\n",
      "F&F(A007700) : 3686\n",
      "\n",
      "\n",
      ">>>>>> enough periods (인디에프 : A014990) - (706 : 0.09) : 366 days 00:00:002013-02-14 00:00:00\n",
      ">>>>>> sell list (1) : 2013-02-14 00:00:00\n",
      "['A014990']\n",
      "\n",
      "\n"
     ]
    },
    {
     "name": "stderr",
     "output_type": "stream",
     "text": [
      "/Users/Shared/anaconda3/anaconda3/lib/python3.7/site-packages/ipykernel_launcher.py:689: SettingWithCopyWarning: \n",
      "A value is trying to be set on a copy of a slice from a DataFrame.\n",
      "Try using .loc[row_indexer,col_indexer] = value instead\n",
      "\n",
      "See the caveats in the documentation: http://pandas.pydata.org/pandas-docs/stable/indexing.html#indexing-view-versus-copy\n"
     ]
    },
    {
     "name": "stdout",
     "output_type": "stream",
     "text": [
      ">>>>>> buy list (1) : 2013-02-14 00:00:00\n",
      "서산(A079650) : 12140\n",
      "\n",
      "\n",
      ">>>>>> enough periods (신성통상 : A005390) - (951 : -0.4) : 368 days 00:00:002013-02-18 00:00:00\n",
      ">>>>>> sell list (1) : 2013-02-18 00:00:00\n",
      "['A005390']\n",
      "\n",
      "\n"
     ]
    },
    {
     "name": "stderr",
     "output_type": "stream",
     "text": [
      "/Users/Shared/anaconda3/anaconda3/lib/python3.7/site-packages/ipykernel_launcher.py:689: SettingWithCopyWarning: \n",
      "A value is trying to be set on a copy of a slice from a DataFrame.\n",
      "Try using .loc[row_indexer,col_indexer] = value instead\n",
      "\n",
      "See the caveats in the documentation: http://pandas.pydata.org/pandas-docs/stable/indexing.html#indexing-view-versus-copy\n"
     ]
    },
    {
     "name": "stdout",
     "output_type": "stream",
     "text": [
      ">>>>>> buy list (1) : 2013-02-18 00:00:00\n",
      "인디에프(A014990) : 9637\n",
      "\n",
      "\n",
      ">>>>>> enough periods (현대바이오 : A048410) - (2559 : -0.24) : 366 days 00:00:002013-02-20 00:00:00\n",
      ">>>>>> sell list (1) : 2013-02-20 00:00:00\n",
      "['A048410']\n",
      "\n",
      "\n"
     ]
    },
    {
     "name": "stderr",
     "output_type": "stream",
     "text": [
      "/Users/Shared/anaconda3/anaconda3/lib/python3.7/site-packages/ipykernel_launcher.py:689: SettingWithCopyWarning: \n",
      "A value is trying to be set on a copy of a slice from a DataFrame.\n",
      "Try using .loc[row_indexer,col_indexer] = value instead\n",
      "\n",
      "See the caveats in the documentation: http://pandas.pydata.org/pandas-docs/stable/indexing.html#indexing-view-versus-copy\n"
     ]
    },
    {
     "name": "stdout",
     "output_type": "stream",
     "text": [
      ">>>>>> buy list (1) : 2013-02-20 00:00:00\n",
      "삼성출판사(A068290) : 2206\n",
      "\n",
      "\n",
      ">>>>>> enough profit (인디에프 : A014990) - (1110 : 0.56) : 2013-03-05 00:00:00\n",
      ">>>>>> sell list (1) : 2013-03-05 00:00:00\n",
      "['A014990']\n",
      "\n",
      "\n"
     ]
    },
    {
     "name": "stderr",
     "output_type": "stream",
     "text": [
      "/Users/Shared/anaconda3/anaconda3/lib/python3.7/site-packages/ipykernel_launcher.py:689: SettingWithCopyWarning: \n",
      "A value is trying to be set on a copy of a slice from a DataFrame.\n",
      "Try using .loc[row_indexer,col_indexer] = value instead\n",
      "\n",
      "See the caveats in the documentation: http://pandas.pydata.org/pandas-docs/stable/indexing.html#indexing-view-versus-copy\n"
     ]
    },
    {
     "name": "stdout",
     "output_type": "stream",
     "text": [
      ">>>>>> buy list (1) : 2013-03-05 00:00:00\n",
      "한국수출포장공업(A002200) : 525\n",
      "\n",
      "\n",
      ">>>>>> enough profit (대현 : A016090) - (1690 : 0.51) : 2013-03-12 00:00:00\n",
      ">>>>>> enough profit (NICE : A034310) - (7470 : 0.51) : 2013-03-12 00:00:00\n",
      ">>>>>> sell list (2) : 2013-03-12 00:00:00\n",
      "['A016090', 'A034310']\n",
      "\n",
      "\n"
     ]
    },
    {
     "name": "stderr",
     "output_type": "stream",
     "text": [
      "/Users/Shared/anaconda3/anaconda3/lib/python3.7/site-packages/ipykernel_launcher.py:689: SettingWithCopyWarning: \n",
      "A value is trying to be set on a copy of a slice from a DataFrame.\n",
      "Try using .loc[row_indexer,col_indexer] = value instead\n",
      "\n",
      "See the caveats in the documentation: http://pandas.pydata.org/pandas-docs/stable/indexing.html#indexing-view-versus-copy\n"
     ]
    },
    {
     "name": "stdout",
     "output_type": "stream",
     "text": [
      ">>>>>> buy list (2) : 2013-03-12 00:00:00\n",
      "인디에프(A014990) : 8281\n",
      "화승알앤에이(A013520) : 9162\n",
      "\n",
      "\n",
      ">>>>>> enough profit (부방 : A014470) - (1640 : 0.6) : 2013-04-01 00:00:00\n",
      ">>>>>> sell list (1) : 2013-04-01 00:00:00\n",
      "['A014470']\n",
      "\n",
      "\n"
     ]
    },
    {
     "name": "stderr",
     "output_type": "stream",
     "text": [
      "/Users/Shared/anaconda3/anaconda3/lib/python3.7/site-packages/ipykernel_launcher.py:689: SettingWithCopyWarning: \n",
      "A value is trying to be set on a copy of a slice from a DataFrame.\n",
      "Try using .loc[row_indexer,col_indexer] = value instead\n",
      "\n",
      "See the caveats in the documentation: http://pandas.pydata.org/pandas-docs/stable/indexing.html#indexing-view-versus-copy\n"
     ]
    },
    {
     "name": "stdout",
     "output_type": "stream",
     "text": [
      ">>>>>> buy list (1) : 2013-04-01 00:00:00\n",
      "대현(A016090) : 32648\n",
      "\n",
      "\n",
      ">>>>>> enough periods (신영와코루 : A005800) - (107500 : 0.08) : 366 days 00:00:002013-04-05 00:00:00\n",
      ">>>>>> sell list (1) : 2013-04-05 00:00:00\n",
      "['A005800']\n",
      "\n",
      "\n"
     ]
    },
    {
     "name": "stderr",
     "output_type": "stream",
     "text": [
      "/Users/Shared/anaconda3/anaconda3/lib/python3.7/site-packages/ipykernel_launcher.py:689: SettingWithCopyWarning: \n",
      "A value is trying to be set on a copy of a slice from a DataFrame.\n",
      "Try using .loc[row_indexer,col_indexer] = value instead\n",
      "\n",
      "See the caveats in the documentation: http://pandas.pydata.org/pandas-docs/stable/indexing.html#indexing-view-versus-copy\n"
     ]
    },
    {
     "name": "stdout",
     "output_type": "stream",
     "text": [
      ">>>>>> buy list (1) : 2013-04-05 00:00:00\n",
      "NICE(A034310) : 864\n",
      "\n",
      "\n",
      ">>>>>> enough periods (남영비비안 : A002070) - (7140 : -0.12) : 367 days 00:00:002013-04-08 00:00:00\n",
      ">>>>>> sell list (1) : 2013-04-08 00:00:00\n",
      "['A002070']\n",
      "\n",
      "\n"
     ]
    },
    {
     "name": "stderr",
     "output_type": "stream",
     "text": [
      "/Users/Shared/anaconda3/anaconda3/lib/python3.7/site-packages/ipykernel_launcher.py:689: SettingWithCopyWarning: \n",
      "A value is trying to be set on a copy of a slice from a DataFrame.\n",
      "Try using .loc[row_indexer,col_indexer] = value instead\n",
      "\n",
      "See the caveats in the documentation: http://pandas.pydata.org/pandas-docs/stable/indexing.html#indexing-view-versus-copy\n"
     ]
    },
    {
     "name": "stdout",
     "output_type": "stream",
     "text": [
      ">>>>>> buy list (1) : 2013-04-08 00:00:00\n",
      "신영와코루(A005800) : 79\n",
      "\n",
      "\n",
      ">>>>>> enough periods (신원 : A009270) - (1285 : -0.12) : 366 days 00:00:002013-04-17 00:00:00\n",
      ">>>>>> sell list (1) : 2013-04-17 00:00:00\n",
      "['A009270']\n",
      "\n",
      "\n"
     ]
    },
    {
     "name": "stderr",
     "output_type": "stream",
     "text": [
      "/Users/Shared/anaconda3/anaconda3/lib/python3.7/site-packages/ipykernel_launcher.py:689: SettingWithCopyWarning: \n",
      "A value is trying to be set on a copy of a slice from a DataFrame.\n",
      "Try using .loc[row_indexer,col_indexer] = value instead\n",
      "\n",
      "See the caveats in the documentation: http://pandas.pydata.org/pandas-docs/stable/indexing.html#indexing-view-versus-copy\n"
     ]
    },
    {
     "name": "stdout",
     "output_type": "stream",
     "text": [
      ">>>>>> buy list (1) : 2013-04-17 00:00:00\n",
      "남영비비안(A002070) : 850\n",
      "\n",
      "\n",
      ">>>>>> enough profit (형지I&C : A011080) - (1521 : 0.51) : 2013-05-06 00:00:00\n",
      ">>>>>> sell list (1) : 2013-05-06 00:00:00\n",
      "['A011080']\n",
      "\n",
      "\n"
     ]
    },
    {
     "name": "stderr",
     "output_type": "stream",
     "text": [
      "/Users/Shared/anaconda3/anaconda3/lib/python3.7/site-packages/ipykernel_launcher.py:689: SettingWithCopyWarning: \n",
      "A value is trying to be set on a copy of a slice from a DataFrame.\n",
      "Try using .loc[row_indexer,col_indexer] = value instead\n",
      "\n",
      "See the caveats in the documentation: http://pandas.pydata.org/pandas-docs/stable/indexing.html#indexing-view-versus-copy\n"
     ]
    },
    {
     "name": "stdout",
     "output_type": "stream",
     "text": [
      ">>>>>> buy list (1) : 2013-05-06 00:00:00\n",
      "신원(A009270) : 30640\n",
      "\n",
      "\n",
      ">>>>>> enough profit (샘표 : A007540) - (19907 : 0.58) : 2013-05-07 00:00:00\n",
      ">>>>>> sell list (1) : 2013-05-07 00:00:00\n",
      "['A007540']\n",
      "\n",
      "\n"
     ]
    },
    {
     "name": "stderr",
     "output_type": "stream",
     "text": [
      "/Users/Shared/anaconda3/anaconda3/lib/python3.7/site-packages/ipykernel_launcher.py:689: SettingWithCopyWarning: \n",
      "A value is trying to be set on a copy of a slice from a DataFrame.\n",
      "Try using .loc[row_indexer,col_indexer] = value instead\n",
      "\n",
      "See the caveats in the documentation: http://pandas.pydata.org/pandas-docs/stable/indexing.html#indexing-view-versus-copy\n"
     ]
    },
    {
     "name": "stdout",
     "output_type": "stream",
     "text": [
      ">>>>>> buy list (1) : 2013-05-07 00:00:00\n",
      "웰바이오텍(A010600) : 5082\n",
      "\n",
      "\n",
      ">>>>>> enough profit (현대약품 : A004310) - (2150 : 0.56) : 2013-05-13 00:00:00\n",
      ">>>>>> sell list (1) : 2013-05-13 00:00:00\n",
      "['A004310']\n",
      "\n",
      "\n"
     ]
    },
    {
     "name": "stderr",
     "output_type": "stream",
     "text": [
      "/Users/Shared/anaconda3/anaconda3/lib/python3.7/site-packages/ipykernel_launcher.py:689: SettingWithCopyWarning: \n",
      "A value is trying to be set on a copy of a slice from a DataFrame.\n",
      "Try using .loc[row_indexer,col_indexer] = value instead\n",
      "\n",
      "See the caveats in the documentation: http://pandas.pydata.org/pandas-docs/stable/indexing.html#indexing-view-versus-copy\n"
     ]
    },
    {
     "name": "stdout",
     "output_type": "stream",
     "text": [
      ">>>>>> buy list (1) : 2013-05-13 00:00:00\n",
      "유니셈(A036200) : 18370\n",
      "\n",
      "\n",
      ">>>>>> enough periods (백금T&A : A046310) - (1405 : 0.01) : 368 days 00:00:002013-06-10 00:00:00\n",
      ">>>>>> sell list (1) : 2013-06-10 00:00:00\n",
      "['A046310']\n",
      "\n",
      "\n"
     ]
    },
    {
     "name": "stderr",
     "output_type": "stream",
     "text": [
      "/Users/Shared/anaconda3/anaconda3/lib/python3.7/site-packages/ipykernel_launcher.py:689: SettingWithCopyWarning: \n",
      "A value is trying to be set on a copy of a slice from a DataFrame.\n",
      "Try using .loc[row_indexer,col_indexer] = value instead\n",
      "\n",
      "See the caveats in the documentation: http://pandas.pydata.org/pandas-docs/stable/indexing.html#indexing-view-versus-copy\n"
     ]
    },
    {
     "name": "stdout",
     "output_type": "stream",
     "text": [
      ">>>>>> buy list (1) : 2013-06-10 00:00:00\n",
      "현대약품(A004310) : 2233\n",
      "\n",
      "\n",
      ">>>>>> enough periods (삼일제약 : A000520) - (4926 : 0.19) : 367 days 00:00:002013-07-08 00:00:00\n",
      ">>>>>> sell list (1) : 2013-07-08 00:00:00\n",
      "['A000520']\n",
      "\n",
      "\n"
     ]
    },
    {
     "name": "stderr",
     "output_type": "stream",
     "text": [
      "/Users/Shared/anaconda3/anaconda3/lib/python3.7/site-packages/ipykernel_launcher.py:689: SettingWithCopyWarning: \n",
      "A value is trying to be set on a copy of a slice from a DataFrame.\n",
      "Try using .loc[row_indexer,col_indexer] = value instead\n",
      "\n",
      "See the caveats in the documentation: http://pandas.pydata.org/pandas-docs/stable/indexing.html#indexing-view-versus-copy\n"
     ]
    },
    {
     "name": "stdout",
     "output_type": "stream",
     "text": [
      ">>>>>> buy list (1) : 2013-07-08 00:00:00\n",
      "백금T&A(A046310) : 4655\n",
      "\n",
      "\n",
      ">>>>>> enough profit (삼성출판사 : A068290) - (5800 : 0.57) : 2013-07-18 00:00:00\n",
      ">>>>>> sell list (1) : 2013-07-18 00:00:00\n",
      "['A068290']\n",
      "\n",
      "\n"
     ]
    },
    {
     "name": "stderr",
     "output_type": "stream",
     "text": [
      "/Users/Shared/anaconda3/anaconda3/lib/python3.7/site-packages/ipykernel_launcher.py:689: SettingWithCopyWarning: \n",
      "A value is trying to be set on a copy of a slice from a DataFrame.\n",
      "Try using .loc[row_indexer,col_indexer] = value instead\n",
      "\n",
      "See the caveats in the documentation: http://pandas.pydata.org/pandas-docs/stable/indexing.html#indexing-view-versus-copy\n"
     ]
    },
    {
     "name": "stdout",
     "output_type": "stream",
     "text": [
      ">>>>>> buy list (1) : 2013-07-18 00:00:00\n",
      "삼일제약(A000520) : 2389\n",
      "\n",
      "\n",
      ">>>>>> enough profit (NICE : A034310) - (11850 : 0.51) : 2013-08-05 00:00:00\n",
      ">>>>>> sell list (1) : 2013-08-05 00:00:00\n",
      "['A034310']\n",
      "\n",
      "\n"
     ]
    },
    {
     "name": "stderr",
     "output_type": "stream",
     "text": [
      "/Users/Shared/anaconda3/anaconda3/lib/python3.7/site-packages/ipykernel_launcher.py:689: SettingWithCopyWarning: \n",
      "A value is trying to be set on a copy of a slice from a DataFrame.\n",
      "Try using .loc[row_indexer,col_indexer] = value instead\n",
      "\n",
      "See the caveats in the documentation: http://pandas.pydata.org/pandas-docs/stable/indexing.html#indexing-view-versus-copy\n"
     ]
    },
    {
     "name": "stdout",
     "output_type": "stream",
     "text": [
      ">>>>>> buy list (1) : 2013-08-05 00:00:00\n",
      "삼성출판사(A068290) : 1735\n",
      "\n",
      "\n",
      ">>>>>> enough periods (제우스 : A079370) - (4188.0 : -0.11) : 366 days 00:00:002013-08-07 00:00:00\n",
      ">>>>>> sell list (1) : 2013-08-07 00:00:00\n",
      "['A079370']\n",
      "\n",
      "\n"
     ]
    },
    {
     "name": "stderr",
     "output_type": "stream",
     "text": [
      "/Users/Shared/anaconda3/anaconda3/lib/python3.7/site-packages/ipykernel_launcher.py:689: SettingWithCopyWarning: \n",
      "A value is trying to be set on a copy of a slice from a DataFrame.\n",
      "Try using .loc[row_indexer,col_indexer] = value instead\n",
      "\n",
      "See the caveats in the documentation: http://pandas.pydata.org/pandas-docs/stable/indexing.html#indexing-view-versus-copy\n"
     ]
    },
    {
     "name": "stdout",
     "output_type": "stream",
     "text": [
      ">>>>>> buy list (1) : 2013-08-07 00:00:00\n",
      "NICE(A034310) : 265\n",
      "\n",
      "\n",
      ">>>>>> enough periods (좋은사람들 : A033340) - (1314 : -0.12) : 366 days 00:00:002013-09-11 00:00:00\n",
      ">>>>>> sell list (1) : 2013-09-11 00:00:00\n",
      "['A033340']\n",
      "\n",
      "\n"
     ]
    },
    {
     "name": "stderr",
     "output_type": "stream",
     "text": [
      "/Users/Shared/anaconda3/anaconda3/lib/python3.7/site-packages/ipykernel_launcher.py:689: SettingWithCopyWarning: \n",
      "A value is trying to be set on a copy of a slice from a DataFrame.\n",
      "Try using .loc[row_indexer,col_indexer] = value instead\n",
      "\n",
      "See the caveats in the documentation: http://pandas.pydata.org/pandas-docs/stable/indexing.html#indexing-view-versus-copy\n"
     ]
    },
    {
     "name": "stdout",
     "output_type": "stream",
     "text": [
      ">>>>>> buy list (1) : 2013-09-11 00:00:00\n",
      "제우스(A079370) : 1950\n",
      "\n",
      "\n",
      ">>>>>> enough periods (에넥스 : A011090) - (575 : -0.22) : 369 days 00:00:002013-09-23 00:00:00\n",
      ">>>>>> sell list (1) : 2013-09-23 00:00:00\n",
      "['A011090']\n",
      "\n",
      "\n"
     ]
    },
    {
     "name": "stderr",
     "output_type": "stream",
     "text": [
      "/Users/Shared/anaconda3/anaconda3/lib/python3.7/site-packages/ipykernel_launcher.py:689: SettingWithCopyWarning: \n",
      "A value is trying to be set on a copy of a slice from a DataFrame.\n",
      "Try using .loc[row_indexer,col_indexer] = value instead\n",
      "\n",
      "See the caveats in the documentation: http://pandas.pydata.org/pandas-docs/stable/indexing.html#indexing-view-versus-copy\n"
     ]
    },
    {
     "name": "stdout",
     "output_type": "stream",
     "text": [
      ">>>>>> buy list (1) : 2013-09-23 00:00:00\n",
      "좋은사람들(A033340) : 3183\n",
      "\n",
      "\n",
      ">>>>>> enough profit (화승알앤에이 : A013520) - (1835 : 0.56) : 2013-10-07 00:00:00\n",
      ">>>>>> sell list (1) : 2013-10-07 00:00:00\n",
      "['A013520']\n",
      "\n",
      "\n"
     ]
    },
    {
     "name": "stderr",
     "output_type": "stream",
     "text": [
      "/Users/Shared/anaconda3/anaconda3/lib/python3.7/site-packages/ipykernel_launcher.py:689: SettingWithCopyWarning: \n",
      "A value is trying to be set on a copy of a slice from a DataFrame.\n",
      "Try using .loc[row_indexer,col_indexer] = value instead\n",
      "\n",
      "See the caveats in the documentation: http://pandas.pydata.org/pandas-docs/stable/indexing.html#indexing-view-versus-copy\n"
     ]
    },
    {
     "name": "stdout",
     "output_type": "stream",
     "text": [
      ">>>>>> buy list (1) : 2013-10-07 00:00:00\n",
      "에넥스(A011090) : 30623\n",
      "\n",
      "\n",
      ">>>>>> enough periods (파인디지털 : A038950) - (5520 : -0.25) : 367 days 00:00:002013-10-14 00:00:00\n",
      ">>>>>> enough periods (삼아제약 : A009300) - (10350 : -0.09) : 367 days 00:00:002013-10-14 00:00:00\n",
      ">>>>>> sell list (2) : 2013-10-14 00:00:00\n",
      "['A038950', 'A009300']\n",
      "\n",
      "\n"
     ]
    },
    {
     "name": "stderr",
     "output_type": "stream",
     "text": [
      "/Users/Shared/anaconda3/anaconda3/lib/python3.7/site-packages/ipykernel_launcher.py:689: SettingWithCopyWarning: \n",
      "A value is trying to be set on a copy of a slice from a DataFrame.\n",
      "Try using .loc[row_indexer,col_indexer] = value instead\n",
      "\n",
      "See the caveats in the documentation: http://pandas.pydata.org/pandas-docs/stable/indexing.html#indexing-view-versus-copy\n"
     ]
    },
    {
     "name": "stdout",
     "output_type": "stream",
     "text": [
      ">>>>>> buy list (2) : 2013-10-14 00:00:00\n",
      "화승알앤에이(A013520) : 4174\n",
      "국동(A005320) : 10724\n",
      "\n",
      "\n",
      ">>>>>> enough profit (대현 : A016090) - (2805 : 0.52) : 2013-10-17 00:00:00\n",
      ">>>>>> sell list (1) : 2013-10-17 00:00:00\n",
      "['A016090']\n",
      "\n",
      "\n"
     ]
    },
    {
     "name": "stderr",
     "output_type": "stream",
     "text": [
      "/Users/Shared/anaconda3/anaconda3/lib/python3.7/site-packages/ipykernel_launcher.py:689: SettingWithCopyWarning: \n",
      "A value is trying to be set on a copy of a slice from a DataFrame.\n",
      "Try using .loc[row_indexer,col_indexer] = value instead\n",
      "\n",
      "See the caveats in the documentation: http://pandas.pydata.org/pandas-docs/stable/indexing.html#indexing-view-versus-copy\n"
     ]
    },
    {
     "name": "stdout",
     "output_type": "stream",
     "text": [
      ">>>>>> buy list (1) : 2013-10-17 00:00:00\n",
      "오리콤(A010470) : 32189\n",
      "\n",
      "\n",
      ">>>>>> enough profit (에넥스 : A011090) - (827 : 0.51) : 2013-11-28 00:00:00\n",
      ">>>>>> sell list (1) : 2013-11-28 00:00:00\n",
      "['A011090']\n",
      "\n",
      "\n"
     ]
    },
    {
     "name": "stderr",
     "output_type": "stream",
     "text": [
      "/Users/Shared/anaconda3/anaconda3/lib/python3.7/site-packages/ipykernel_launcher.py:689: SettingWithCopyWarning: \n",
      "A value is trying to be set on a copy of a slice from a DataFrame.\n",
      "Try using .loc[row_indexer,col_indexer] = value instead\n",
      "\n",
      "See the caveats in the documentation: http://pandas.pydata.org/pandas-docs/stable/indexing.html#indexing-view-versus-copy\n"
     ]
    },
    {
     "name": "stdout",
     "output_type": "stream",
     "text": [
      ">>>>>> buy list (1) : 2013-11-28 00:00:00\n",
      "대현(A016090) : 11011\n",
      "\n",
      "\n",
      ">>>>>> enough profit (제우스 : A079370) - (6811.0 : 0.57) : 2013-12-06 00:00:00\n",
      ">>>>>> sell list (1) : 2013-12-06 00:00:00\n",
      "['A079370']\n",
      "\n",
      "\n"
     ]
    },
    {
     "name": "stderr",
     "output_type": "stream",
     "text": [
      "/Users/Shared/anaconda3/anaconda3/lib/python3.7/site-packages/ipykernel_launcher.py:689: SettingWithCopyWarning: \n",
      "A value is trying to be set on a copy of a slice from a DataFrame.\n",
      "Try using .loc[row_indexer,col_indexer] = value instead\n",
      "\n",
      "See the caveats in the documentation: http://pandas.pydata.org/pandas-docs/stable/indexing.html#indexing-view-versus-copy\n"
     ]
    },
    {
     "name": "stdout",
     "output_type": "stream",
     "text": [
      ">>>>>> buy list (1) : 2013-12-06 00:00:00\n",
      "에넥스(A011090) : 14857\n",
      "\n",
      "\n",
      ">>>>>> enough periods (F&F : A007700) - (7090 : 0.18) : 366 days 00:00:002014-02-05 00:00:00\n",
      ">>>>>> sell list (1) : 2014-02-05 00:00:00\n",
      "['A007700']\n",
      "\n",
      "\n"
     ]
    },
    {
     "name": "stderr",
     "output_type": "stream",
     "text": [
      "/Users/Shared/anaconda3/anaconda3/lib/python3.7/site-packages/ipykernel_launcher.py:689: SettingWithCopyWarning: \n",
      "A value is trying to be set on a copy of a slice from a DataFrame.\n",
      "Try using .loc[row_indexer,col_indexer] = value instead\n",
      "\n",
      "See the caveats in the documentation: http://pandas.pydata.org/pandas-docs/stable/indexing.html#indexing-view-versus-copy\n"
     ]
    },
    {
     "name": "stdout",
     "output_type": "stream",
     "text": [
      ">>>>>> buy list (1) : 2014-02-05 00:00:00\n",
      "경남제약(A053950) : 17598\n",
      "\n",
      "\n",
      ">>>>>> enough periods (서산 : A079650) - (1229 : -0.03) : 368 days 00:00:002014-02-17 00:00:00\n",
      ">>>>>> sell list (1) : 2014-02-17 00:00:00\n",
      "['A079650']\n",
      "\n",
      "\n"
     ]
    },
    {
     "name": "stderr",
     "output_type": "stream",
     "text": [
      "/Users/Shared/anaconda3/anaconda3/lib/python3.7/site-packages/ipykernel_launcher.py:689: SettingWithCopyWarning: \n",
      "A value is trying to be set on a copy of a slice from a DataFrame.\n",
      "Try using .loc[row_indexer,col_indexer] = value instead\n",
      "\n",
      "See the caveats in the documentation: http://pandas.pydata.org/pandas-docs/stable/indexing.html#indexing-view-versus-copy\n"
     ]
    },
    {
     "name": "stdout",
     "output_type": "stream",
     "text": [
      ">>>>>> buy list (1) : 2014-02-17 00:00:00\n",
      "국제약품(A002720) : 7898\n",
      "\n",
      "\n",
      ">>>>>> enough profit (국동 : A005320) - (1075 : 0.56) : 2014-02-20 00:00:00\n",
      ">>>>>> sell list (1) : 2014-02-20 00:00:00\n",
      "['A005320']\n",
      "\n",
      "\n"
     ]
    },
    {
     "name": "stderr",
     "output_type": "stream",
     "text": [
      "/Users/Shared/anaconda3/anaconda3/lib/python3.7/site-packages/ipykernel_launcher.py:689: SettingWithCopyWarning: \n",
      "A value is trying to be set on a copy of a slice from a DataFrame.\n",
      "Try using .loc[row_indexer,col_indexer] = value instead\n",
      "\n",
      "See the caveats in the documentation: http://pandas.pydata.org/pandas-docs/stable/indexing.html#indexing-view-versus-copy\n"
     ]
    },
    {
     "name": "stdout",
     "output_type": "stream",
     "text": [
      ">>>>>> buy list (1) : 2014-02-20 00:00:00\n",
      "샘표(A007540) : 722\n",
      "\n",
      "\n",
      ">>>>>> enough profit (에넥스 : A011090) - (1395 : 0.56) : 2014-03-06 00:00:00\n",
      ">>>>>> enough periods (한국수출포장공업 : A002200) - (21500 : 0.06) : 366 days 00:00:002014-03-06 00:00:00\n",
      ">>>>>> sell list (2) : 2014-03-06 00:00:00\n",
      "['A011090', 'A002200']\n",
      "\n",
      "\n"
     ]
    },
    {
     "name": "stderr",
     "output_type": "stream",
     "text": [
      "/Users/Shared/anaconda3/anaconda3/lib/python3.7/site-packages/ipykernel_launcher.py:689: SettingWithCopyWarning: \n",
      "A value is trying to be set on a copy of a slice from a DataFrame.\n",
      "Try using .loc[row_indexer,col_indexer] = value instead\n",
      "\n",
      "See the caveats in the documentation: http://pandas.pydata.org/pandas-docs/stable/indexing.html#indexing-view-versus-copy\n"
     ]
    },
    {
     "name": "stdout",
     "output_type": "stream",
     "text": [
      ">>>>>> buy list (2) : 2014-03-06 00:00:00\n",
      "듀오백(A073190) : 9187\n",
      "한국전자금융(A063570) : 5174\n",
      "\n",
      "\n",
      ">>>>>> enough periods (인디에프 : A014990) - (664 : -0.49) : 366 days 00:00:002014-03-13 00:00:00\n",
      ">>>>>> sell list (1) : 2014-03-13 00:00:00\n",
      "['A014990']\n",
      "\n",
      "\n"
     ]
    },
    {
     "name": "stderr",
     "output_type": "stream",
     "text": [
      "/Users/Shared/anaconda3/anaconda3/lib/python3.7/site-packages/ipykernel_launcher.py:689: SettingWithCopyWarning: \n",
      "A value is trying to be set on a copy of a slice from a DataFrame.\n",
      "Try using .loc[row_indexer,col_indexer] = value instead\n",
      "\n",
      "See the caveats in the documentation: http://pandas.pydata.org/pandas-docs/stable/indexing.html#indexing-view-versus-copy\n"
     ]
    },
    {
     "name": "stdout",
     "output_type": "stream",
     "text": [
      ">>>>>> buy list (1) : 2014-03-13 00:00:00\n",
      "동양물산기업(A002900) : 7461\n",
      "\n",
      "\n",
      ">>>>>> enough periods (신영와코루 : A005800) - (106500 : 0.02) : 366 days 00:00:002014-04-09 00:00:00\n",
      ">>>>>> sell list (1) : 2014-04-09 00:00:00\n",
      "['A005800']\n",
      "\n",
      "\n"
     ]
    },
    {
     "name": "stderr",
     "output_type": "stream",
     "text": [
      "/Users/Shared/anaconda3/anaconda3/lib/python3.7/site-packages/ipykernel_launcher.py:689: SettingWithCopyWarning: \n",
      "A value is trying to be set on a copy of a slice from a DataFrame.\n",
      "Try using .loc[row_indexer,col_indexer] = value instead\n",
      "\n",
      "See the caveats in the documentation: http://pandas.pydata.org/pandas-docs/stable/indexing.html#indexing-view-versus-copy\n"
     ]
    },
    {
     "name": "stdout",
     "output_type": "stream",
     "text": [
      ">>>>>> buy list (1) : 2014-04-09 00:00:00\n",
      "인디에프(A014990) : 11309\n",
      "\n",
      "\n",
      ">>>>>> enough periods (남영비비안 : A002070) - (6770 : -0.07) : 366 days 00:00:002014-04-18 00:00:00\n",
      ">>>>>> sell list (1) : 2014-04-18 00:00:00\n",
      "['A002070']\n",
      "\n",
      "\n"
     ]
    },
    {
     "name": "stderr",
     "output_type": "stream",
     "text": [
      "/Users/Shared/anaconda3/anaconda3/lib/python3.7/site-packages/ipykernel_launcher.py:689: SettingWithCopyWarning: \n",
      "A value is trying to be set on a copy of a slice from a DataFrame.\n",
      "Try using .loc[row_indexer,col_indexer] = value instead\n",
      "\n",
      "See the caveats in the documentation: http://pandas.pydata.org/pandas-docs/stable/indexing.html#indexing-view-versus-copy\n"
     ]
    },
    {
     "name": "stdout",
     "output_type": "stream",
     "text": [
      ">>>>>> buy list (1) : 2014-04-18 00:00:00\n",
      "신영와코루(A005800) : 54\n",
      "\n",
      "\n",
      ">>>>>> enough periods (신원 : A009270) - (1775 : 0.37) : 366 days 00:00:002014-05-07 00:00:00\n",
      ">>>>>> sell list (1) : 2014-05-07 00:00:00\n",
      "['A009270']\n",
      "\n",
      "\n"
     ]
    },
    {
     "name": "stderr",
     "output_type": "stream",
     "text": [
      "/Users/Shared/anaconda3/anaconda3/lib/python3.7/site-packages/ipykernel_launcher.py:689: SettingWithCopyWarning: \n",
      "A value is trying to be set on a copy of a slice from a DataFrame.\n",
      "Try using .loc[row_indexer,col_indexer] = value instead\n",
      "\n",
      "See the caveats in the documentation: http://pandas.pydata.org/pandas-docs/stable/indexing.html#indexing-view-versus-copy\n"
     ]
    },
    {
     "name": "stdout",
     "output_type": "stream",
     "text": [
      ">>>>>> buy list (1) : 2014-05-07 00:00:00\n",
      "남영비비안(A002070) : 7294\n",
      "\n",
      "\n",
      ">>>>>> enough periods (웰바이오텍 : A010600) - (1535 : 0.25) : 366 days 00:00:002014-05-08 00:00:00\n",
      ">>>>>> sell list (1) : 2014-05-08 00:00:00\n",
      "['A010600']\n",
      "\n",
      "\n"
     ]
    },
    {
     "name": "stderr",
     "output_type": "stream",
     "text": [
      "/Users/Shared/anaconda3/anaconda3/lib/python3.7/site-packages/ipykernel_launcher.py:689: SettingWithCopyWarning: \n",
      "A value is trying to be set on a copy of a slice from a DataFrame.\n",
      "Try using .loc[row_indexer,col_indexer] = value instead\n",
      "\n",
      "See the caveats in the documentation: http://pandas.pydata.org/pandas-docs/stable/indexing.html#indexing-view-versus-copy\n"
     ]
    },
    {
     "name": "stdout",
     "output_type": "stream",
     "text": [
      ">>>>>> buy list (1) : 2014-05-08 00:00:00\n",
      "신원(A009270) : 4472\n",
      "\n",
      "\n",
      ">>>>>> enough profit (화승알앤에이 : A013520) - (2660 : 0.5) : 2014-05-12 00:00:00\n",
      ">>>>>> sell list (1) : 2014-05-12 00:00:00\n",
      "['A013520']\n",
      "\n",
      "\n"
     ]
    },
    {
     "name": "stderr",
     "output_type": "stream",
     "text": [
      "/Users/Shared/anaconda3/anaconda3/lib/python3.7/site-packages/ipykernel_launcher.py:689: SettingWithCopyWarning: \n",
      "A value is trying to be set on a copy of a slice from a DataFrame.\n",
      "Try using .loc[row_indexer,col_indexer] = value instead\n",
      "\n",
      "See the caveats in the documentation: http://pandas.pydata.org/pandas-docs/stable/indexing.html#indexing-view-versus-copy\n"
     ]
    },
    {
     "name": "stdout",
     "output_type": "stream",
     "text": [
      ">>>>>> buy list (1) : 2014-05-12 00:00:00\n",
      "지엔코(A065060) : 7988\n",
      "\n",
      "\n",
      ">>>>>> enough periods (유니셈 : A036200) - (1429 : 0.28) : 366 days 00:00:002014-05-14 00:00:00\n",
      ">>>>>> sell list (1) : 2014-05-14 00:00:00\n",
      "['A036200']\n",
      "\n",
      "\n"
     ]
    },
    {
     "name": "stderr",
     "output_type": "stream",
     "text": [
      "/Users/Shared/anaconda3/anaconda3/lib/python3.7/site-packages/ipykernel_launcher.py:689: SettingWithCopyWarning: \n",
      "A value is trying to be set on a copy of a slice from a DataFrame.\n",
      "Try using .loc[row_indexer,col_indexer] = value instead\n",
      "\n",
      "See the caveats in the documentation: http://pandas.pydata.org/pandas-docs/stable/indexing.html#indexing-view-versus-copy\n"
     ]
    },
    {
     "name": "stdout",
     "output_type": "stream",
     "text": [
      ">>>>>> buy list (1) : 2014-05-14 00:00:00\n",
      "한국경제TV(A039340) : 10375\n",
      "\n",
      "\n",
      ">>>>>> enough periods (현대약품 : A004310) - (2189 : 0.22) : 366 days 00:00:002014-06-11 00:00:00\n",
      ">>>>>> sell list (1) : 2014-06-11 00:00:00\n",
      "['A004310']\n",
      "\n",
      "\n"
     ]
    },
    {
     "name": "stderr",
     "output_type": "stream",
     "text": [
      "/Users/Shared/anaconda3/anaconda3/lib/python3.7/site-packages/ipykernel_launcher.py:689: SettingWithCopyWarning: \n",
      "A value is trying to be set on a copy of a slice from a DataFrame.\n",
      "Try using .loc[row_indexer,col_indexer] = value instead\n",
      "\n",
      "See the caveats in the documentation: http://pandas.pydata.org/pandas-docs/stable/indexing.html#indexing-view-versus-copy\n"
     ]
    },
    {
     "name": "stdout",
     "output_type": "stream",
     "text": [
      ">>>>>> buy list (1) : 2014-06-11 00:00:00\n",
      "코리아나(A027050) : 2876\n",
      "\n",
      "\n",
      ">>>>>> enough profit (경남제약 : A053950) - (2250 : 0.52) : 2014-07-02 00:00:00\n",
      ">>>>>> sell list (1) : 2014-07-02 00:00:00\n",
      "['A053950']\n",
      "\n",
      "\n"
     ]
    },
    {
     "name": "stderr",
     "output_type": "stream",
     "text": [
      "/Users/Shared/anaconda3/anaconda3/lib/python3.7/site-packages/ipykernel_launcher.py:689: SettingWithCopyWarning: \n",
      "A value is trying to be set on a copy of a slice from a DataFrame.\n",
      "Try using .loc[row_indexer,col_indexer] = value instead\n",
      "\n",
      "See the caveats in the documentation: http://pandas.pydata.org/pandas-docs/stable/indexing.html#indexing-view-versus-copy\n"
     ]
    },
    {
     "name": "stdout",
     "output_type": "stream",
     "text": [
      ">>>>>> buy list (1) : 2014-07-02 00:00:00\n",
      "현대약품(A004310) : 15775\n",
      "\n",
      "\n",
      ">>>>>> enough periods (백금T&A : A046310) - (1102 : -0.14) : 366 days 00:00:002014-07-09 00:00:00\n",
      ">>>>>> sell list (1) : 2014-07-09 00:00:00\n",
      "['A046310']\n",
      "\n",
      "\n"
     ]
    },
    {
     "name": "stderr",
     "output_type": "stream",
     "text": [
      "/Users/Shared/anaconda3/anaconda3/lib/python3.7/site-packages/ipykernel_launcher.py:689: SettingWithCopyWarning: \n",
      "A value is trying to be set on a copy of a slice from a DataFrame.\n",
      "Try using .loc[row_indexer,col_indexer] = value instead\n",
      "\n",
      "See the caveats in the documentation: http://pandas.pydata.org/pandas-docs/stable/indexing.html#indexing-view-versus-copy\n"
     ]
    },
    {
     "name": "stdout",
     "output_type": "stream",
     "text": [
      ">>>>>> buy list (1) : 2014-07-09 00:00:00\n",
      "경남제약(A053950) : 1842\n",
      "\n",
      "\n",
      ">>>>>> enough profit (코리아나 : A027050) - (2560 : 0.51) : 2014-07-15 00:00:00\n",
      ">>>>>> sell list (1) : 2014-07-15 00:00:00\n",
      "['A027050']\n",
      "\n",
      "\n"
     ]
    },
    {
     "name": "stderr",
     "output_type": "stream",
     "text": [
      "/Users/Shared/anaconda3/anaconda3/lib/python3.7/site-packages/ipykernel_launcher.py:689: SettingWithCopyWarning: \n",
      "A value is trying to be set on a copy of a slice from a DataFrame.\n",
      "Try using .loc[row_indexer,col_indexer] = value instead\n",
      "\n",
      "See the caveats in the documentation: http://pandas.pydata.org/pandas-docs/stable/indexing.html#indexing-view-versus-copy\n"
     ]
    },
    {
     "name": "stdout",
     "output_type": "stream",
     "text": [
      ">>>>>> buy list (1) : 2014-07-15 00:00:00\n",
      "백금T&A(A046310) : 6533\n",
      "\n",
      "\n",
      ">>>>>> enough periods (삼일제약 : A000520) - (5959 : 0.11) : 368 days 00:00:002014-07-21 00:00:00\n",
      ">>>>>> sell list (1) : 2014-07-21 00:00:00\n",
      "['A000520']\n",
      "\n",
      "\n"
     ]
    },
    {
     "name": "stderr",
     "output_type": "stream",
     "text": [
      "/Users/Shared/anaconda3/anaconda3/lib/python3.7/site-packages/ipykernel_launcher.py:689: SettingWithCopyWarning: \n",
      "A value is trying to be set on a copy of a slice from a DataFrame.\n",
      "Try using .loc[row_indexer,col_indexer] = value instead\n",
      "\n",
      "See the caveats in the documentation: http://pandas.pydata.org/pandas-docs/stable/indexing.html#indexing-view-versus-copy\n"
     ]
    },
    {
     "name": "stdout",
     "output_type": "stream",
     "text": [
      ">>>>>> buy list (1) : 2014-07-21 00:00:00\n",
      "코리아나(A027050) : 4859\n",
      "\n",
      "\n",
      ">>>>>> enough profit (삼성출판사 : A068290) - (9880 : 0.67) : 2014-08-06 00:00:00\n",
      ">>>>>> enough periods (삼성출판사 : A068290) - (9880 : 0.67) : 366 days 00:00:002014-08-06 00:00:00\n",
      ">>>>>> sell list (1) : 2014-08-06 00:00:00\n",
      "['A068290']\n",
      "\n",
      "\n"
     ]
    },
    {
     "name": "stderr",
     "output_type": "stream",
     "text": [
      "/Users/Shared/anaconda3/anaconda3/lib/python3.7/site-packages/ipykernel_launcher.py:689: SettingWithCopyWarning: \n",
      "A value is trying to be set on a copy of a slice from a DataFrame.\n",
      "Try using .loc[row_indexer,col_indexer] = value instead\n",
      "\n",
      "See the caveats in the documentation: http://pandas.pydata.org/pandas-docs/stable/indexing.html#indexing-view-versus-copy\n"
     ]
    },
    {
     "name": "stdout",
     "output_type": "stream",
     "text": [
      ">>>>>> buy list (1) : 2014-08-06 00:00:00\n",
      "삼일제약(A000520) : 2957\n",
      "\n",
      "\n",
      ">>>>>> enough periods (NICE : A034310) - (13300 : 0.11) : 366 days 00:00:002014-08-08 00:00:00\n",
      ">>>>>> sell list (1) : 2014-08-08 00:00:00\n",
      "['A034310']\n",
      "\n",
      "\n"
     ]
    },
    {
     "name": "stderr",
     "output_type": "stream",
     "text": [
      "/Users/Shared/anaconda3/anaconda3/lib/python3.7/site-packages/ipykernel_launcher.py:689: SettingWithCopyWarning: \n",
      "A value is trying to be set on a copy of a slice from a DataFrame.\n",
      "Try using .loc[row_indexer,col_indexer] = value instead\n",
      "\n",
      "See the caveats in the documentation: http://pandas.pydata.org/pandas-docs/stable/indexing.html#indexing-view-versus-copy\n"
     ]
    },
    {
     "name": "stdout",
     "output_type": "stream",
     "text": [
      ">>>>>> buy list (1) : 2014-08-08 00:00:00\n",
      "삼성출판사(A068290) : 364\n",
      "\n",
      "\n",
      ">>>>>> enough profit (인디에프 : A014990) - (1135 : 0.53) : 2014-09-11 00:00:00\n",
      ">>>>>> sell list (1) : 2014-09-11 00:00:00\n",
      "['A014990']\n",
      "\n",
      "\n"
     ]
    },
    {
     "name": "stderr",
     "output_type": "stream",
     "text": [
      "/Users/Shared/anaconda3/anaconda3/lib/python3.7/site-packages/ipykernel_launcher.py:689: SettingWithCopyWarning: \n",
      "A value is trying to be set on a copy of a slice from a DataFrame.\n",
      "Try using .loc[row_indexer,col_indexer] = value instead\n",
      "\n",
      "See the caveats in the documentation: http://pandas.pydata.org/pandas-docs/stable/indexing.html#indexing-view-versus-copy\n"
     ]
    },
    {
     "name": "stdout",
     "output_type": "stream",
     "text": [
      ">>>>>> buy list (1) : 2014-09-11 00:00:00\n",
      "디아이동일(A001530) : 165\n",
      "\n",
      "\n",
      ">>>>>> enough profit (신원 : A009270) - (2620 : 0.5) : 2014-09-19 00:00:00\n",
      ">>>>>> sell list (1) : 2014-09-19 00:00:00\n",
      "['A009270']\n",
      "\n",
      "\n"
     ]
    },
    {
     "name": "stderr",
     "output_type": "stream",
     "text": [
      "/Users/Shared/anaconda3/anaconda3/lib/python3.7/site-packages/ipykernel_launcher.py:689: SettingWithCopyWarning: \n",
      "A value is trying to be set on a copy of a slice from a DataFrame.\n",
      "Try using .loc[row_indexer,col_indexer] = value instead\n",
      "\n",
      "See the caveats in the documentation: http://pandas.pydata.org/pandas-docs/stable/indexing.html#indexing-view-versus-copy\n"
     ]
    },
    {
     "name": "stdout",
     "output_type": "stream",
     "text": [
      ">>>>>> buy list (1) : 2014-09-19 00:00:00\n",
      "인디에프(A014990) : 10114\n",
      "\n",
      "\n",
      ">>>>>> enough periods (좋은사람들 : A033340) - (1285 : 0.02) : 366 days 00:00:002014-09-24 00:00:00\n",
      ">>>>>> sell list (1) : 2014-09-24 00:00:00\n",
      "['A033340']\n",
      "\n",
      "\n"
     ]
    },
    {
     "name": "stderr",
     "output_type": "stream",
     "text": [
      "/Users/Shared/anaconda3/anaconda3/lib/python3.7/site-packages/ipykernel_launcher.py:689: SettingWithCopyWarning: \n",
      "A value is trying to be set on a copy of a slice from a DataFrame.\n",
      "Try using .loc[row_indexer,col_indexer] = value instead\n",
      "\n",
      "See the caveats in the documentation: http://pandas.pydata.org/pandas-docs/stable/indexing.html#indexing-view-versus-copy\n"
     ]
    },
    {
     "name": "stdout",
     "output_type": "stream",
     "text": [
      ">>>>>> buy list (1) : 2014-09-24 00:00:00\n",
      "신원(A009270) : 1623\n",
      "\n",
      "\n",
      ">>>>>> enough profit (오리콤 : A010470) - (4840 : 0.7) : 2014-10-07 00:00:00\n",
      ">>>>>> sell list (1) : 2014-10-07 00:00:00\n",
      "['A010470']\n",
      "\n",
      "\n"
     ]
    },
    {
     "name": "stderr",
     "output_type": "stream",
     "text": [
      "/Users/Shared/anaconda3/anaconda3/lib/python3.7/site-packages/ipykernel_launcher.py:689: SettingWithCopyWarning: \n",
      "A value is trying to be set on a copy of a slice from a DataFrame.\n",
      "Try using .loc[row_indexer,col_indexer] = value instead\n",
      "\n",
      "See the caveats in the documentation: http://pandas.pydata.org/pandas-docs/stable/indexing.html#indexing-view-versus-copy\n"
     ]
    },
    {
     "name": "stdout",
     "output_type": "stream",
     "text": [
      ">>>>>> buy list (1) : 2014-10-07 00:00:00\n",
      "좋은사람들(A033340) : 129290\n",
      "\n",
      "\n",
      ">>>>>> enough profit (대현 : A016090) - (3475 : 0.51) : 2014-10-22 00:00:00\n",
      ">>>>>> enough profit (샘표 : A007540) - (24952 : 0.56) : 2014-10-22 00:00:00\n",
      ">>>>>> sell list (2) : 2014-10-22 00:00:00\n",
      "['A016090', 'A007540']\n",
      "\n",
      "\n"
     ]
    },
    {
     "name": "stderr",
     "output_type": "stream",
     "text": [
      "/Users/Shared/anaconda3/anaconda3/lib/python3.7/site-packages/ipykernel_launcher.py:689: SettingWithCopyWarning: \n",
      "A value is trying to be set on a copy of a slice from a DataFrame.\n",
      "Try using .loc[row_indexer,col_indexer] = value instead\n",
      "\n",
      "See the caveats in the documentation: http://pandas.pydata.org/pandas-docs/stable/indexing.html#indexing-view-versus-copy\n"
     ]
    },
    {
     "name": "stdout",
     "output_type": "stream",
     "text": [
      ">>>>>> buy list (2) : 2014-10-22 00:00:00\n",
      "오리콤(A010470) : 5955\n",
      "서산(A079650) : 18248\n",
      "\n",
      "\n",
      ">>>>>> enough profit (백금T&A : A046310) - (1755 : 0.56) : 2015-01-21 00:00:00\n",
      ">>>>>> sell list (1) : 2015-01-21 00:00:00\n",
      "['A046310']\n",
      "\n",
      "\n"
     ]
    },
    {
     "name": "stderr",
     "output_type": "stream",
     "text": [
      "/Users/Shared/anaconda3/anaconda3/lib/python3.7/site-packages/ipykernel_launcher.py:689: SettingWithCopyWarning: \n",
      "A value is trying to be set on a copy of a slice from a DataFrame.\n",
      "Try using .loc[row_indexer,col_indexer] = value instead\n",
      "\n",
      "See the caveats in the documentation: http://pandas.pydata.org/pandas-docs/stable/indexing.html#indexing-view-versus-copy\n"
     ]
    },
    {
     "name": "stdout",
     "output_type": "stream",
     "text": [
      ">>>>>> buy list (1) : 2015-01-21 00:00:00\n",
      "진도(A088790) : 3528\n",
      "\n",
      "\n",
      ">>>>>> enough profit (코리아나 : A027050) - (4530 : 0.55) : 2015-02-11 00:00:00\n",
      ">>>>>> sell list (1) : 2015-02-11 00:00:00\n",
      "['A027050']\n",
      "\n",
      "\n"
     ]
    },
    {
     "name": "stderr",
     "output_type": "stream",
     "text": [
      "/Users/Shared/anaconda3/anaconda3/lib/python3.7/site-packages/ipykernel_launcher.py:689: SettingWithCopyWarning: \n",
      "A value is trying to be set on a copy of a slice from a DataFrame.\n",
      "Try using .loc[row_indexer,col_indexer] = value instead\n",
      "\n",
      "See the caveats in the documentation: http://pandas.pydata.org/pandas-docs/stable/indexing.html#indexing-view-versus-copy\n"
     ]
    },
    {
     "name": "stdout",
     "output_type": "stream",
     "text": [
      ">>>>>> buy list (1) : 2015-02-11 00:00:00\n",
      "백금T&A(A046310) : 8424\n",
      "\n",
      "\n",
      ">>>>>> enough profit (서산 : A079650) - (2331 : 0.51) : 2015-02-13 00:00:00\n",
      ">>>>>> sell list (1) : 2015-02-13 00:00:00\n",
      "['A079650']\n",
      "\n",
      "\n"
     ]
    },
    {
     "name": "stderr",
     "output_type": "stream",
     "text": [
      "/Users/Shared/anaconda3/anaconda3/lib/python3.7/site-packages/ipykernel_launcher.py:689: SettingWithCopyWarning: \n",
      "A value is trying to be set on a copy of a slice from a DataFrame.\n",
      "Try using .loc[row_indexer,col_indexer] = value instead\n",
      "\n",
      "See the caveats in the documentation: http://pandas.pydata.org/pandas-docs/stable/indexing.html#indexing-view-versus-copy\n"
     ]
    },
    {
     "name": "stdout",
     "output_type": "stream",
     "text": [
      ">>>>>> buy list (1) : 2015-02-13 00:00:00\n",
      "사조대림(A003960) : 3259\n",
      "\n",
      "\n",
      ">>>>>> enough profit (남영비비안 : A002070) - (12500 : 0.68) : 2015-02-23 00:00:00\n",
      ">>>>>> enough periods (국제약품 : A002720) - (2351 : 0.24) : 371 days 00:00:002015-02-23 00:00:00\n",
      ">>>>>> sell list (2) : 2015-02-23 00:00:00\n",
      "['A002070', 'A002720']\n",
      "\n",
      "\n"
     ]
    },
    {
     "name": "stderr",
     "output_type": "stream",
     "text": [
      "/Users/Shared/anaconda3/anaconda3/lib/python3.7/site-packages/ipykernel_launcher.py:689: SettingWithCopyWarning: \n",
      "A value is trying to be set on a copy of a slice from a DataFrame.\n",
      "Try using .loc[row_indexer,col_indexer] = value instead\n",
      "\n",
      "See the caveats in the documentation: http://pandas.pydata.org/pandas-docs/stable/indexing.html#indexing-view-versus-copy\n"
     ]
    },
    {
     "name": "stdout",
     "output_type": "stream",
     "text": [
      ">>>>>> buy list (2) : 2015-02-23 00:00:00\n",
      "엠젠플러스(A032790) : 10707\n",
      "태광산업(A003240) : 48\n",
      "\n",
      "\n",
      ">>>>>> enough profit (인디에프 : A014990) - (1895 : 0.63) : 2015-03-03 00:00:00\n",
      ">>>>>> sell list (1) : 2015-03-03 00:00:00\n",
      "['A014990']\n",
      "\n",
      "\n"
     ]
    },
    {
     "name": "stderr",
     "output_type": "stream",
     "text": [
      "/Users/Shared/anaconda3/anaconda3/lib/python3.7/site-packages/ipykernel_launcher.py:689: SettingWithCopyWarning: \n",
      "A value is trying to be set on a copy of a slice from a DataFrame.\n",
      "Try using .loc[row_indexer,col_indexer] = value instead\n",
      "\n",
      "See the caveats in the documentation: http://pandas.pydata.org/pandas-docs/stable/indexing.html#indexing-view-versus-copy\n"
     ]
    },
    {
     "name": "stdout",
     "output_type": "stream",
     "text": [
      ">>>>>> buy list (1) : 2015-03-03 00:00:00\n",
      "남영비비안(A002070) : 1769\n",
      "\n",
      "\n",
      ">>>>>> enough periods (듀오백 : A073190) - (1995 : 0.14) : 368 days 00:00:002015-03-09 00:00:00\n",
      ">>>>>> enough periods (한국전자금융 : A063570) - (2870.0 : -0.07) : 368 days 00:00:002015-03-09 00:00:00\n",
      ">>>>>> sell list (2) : 2015-03-09 00:00:00\n",
      "['A073190', 'A063570']\n",
      "\n",
      "\n"
     ]
    },
    {
     "name": "stderr",
     "output_type": "stream",
     "text": [
      "/Users/Shared/anaconda3/anaconda3/lib/python3.7/site-packages/ipykernel_launcher.py:689: SettingWithCopyWarning: \n",
      "A value is trying to be set on a copy of a slice from a DataFrame.\n",
      "Try using .loc[row_indexer,col_indexer] = value instead\n",
      "\n",
      "See the caveats in the documentation: http://pandas.pydata.org/pandas-docs/stable/indexing.html#indexing-view-versus-copy\n"
     ]
    },
    {
     "name": "stdout",
     "output_type": "stream",
     "text": [
      ">>>>>> buy list (2) : 2015-03-09 00:00:00\n",
      "광림(A014200) : 18375\n",
      "유니셈(A036200) : 8263\n",
      "\n",
      "\n",
      ">>>>>> enough periods (동양물산기업 : A002900) - (650 : -0.12) : 368 days 00:00:002015-03-16 00:00:00\n",
      ">>>>>> sell list (1) : 2015-03-16 00:00:00\n",
      "['A002900']\n",
      "\n",
      "\n"
     ]
    },
    {
     "name": "stderr",
     "output_type": "stream",
     "text": [
      "/Users/Shared/anaconda3/anaconda3/lib/python3.7/site-packages/ipykernel_launcher.py:689: SettingWithCopyWarning: \n",
      "A value is trying to be set on a copy of a slice from a DataFrame.\n",
      "Try using .loc[row_indexer,col_indexer] = value instead\n",
      "\n",
      "See the caveats in the documentation: http://pandas.pydata.org/pandas-docs/stable/indexing.html#indexing-view-versus-copy\n"
     ]
    },
    {
     "name": "stdout",
     "output_type": "stream",
     "text": [
      ">>>>>> buy list (1) : 2015-03-16 00:00:00\n",
      "듀오백(A073190) : 2481\n",
      "\n",
      "\n",
      ">>>>>> enough profit (오리콤 : A010470) - (7130 : 0.51) : 2015-03-17 00:00:00\n",
      ">>>>>> sell list (1) : 2015-03-17 00:00:00\n",
      "['A010470']\n",
      "\n",
      "\n"
     ]
    },
    {
     "name": "stderr",
     "output_type": "stream",
     "text": [
      "/Users/Shared/anaconda3/anaconda3/lib/python3.7/site-packages/ipykernel_launcher.py:689: SettingWithCopyWarning: \n",
      "A value is trying to be set on a copy of a slice from a DataFrame.\n",
      "Try using .loc[row_indexer,col_indexer] = value instead\n",
      "\n",
      "See the caveats in the documentation: http://pandas.pydata.org/pandas-docs/stable/indexing.html#indexing-view-versus-copy\n"
     ]
    },
    {
     "name": "stdout",
     "output_type": "stream",
     "text": [
      ">>>>>> buy list (1) : 2015-03-17 00:00:00\n",
      "케이티(A030200) : 1422\n",
      "\n",
      "\n",
      ">>>>>> enough profit (엠젠플러스 : A032790) - (7813 : 0.52) : 2015-03-25 00:00:00\n",
      ">>>>>> sell list (1) : 2015-03-25 00:00:00\n",
      "['A032790']\n",
      "\n",
      "\n"
     ]
    },
    {
     "name": "stderr",
     "output_type": "stream",
     "text": [
      "/Users/Shared/anaconda3/anaconda3/lib/python3.7/site-packages/ipykernel_launcher.py:689: SettingWithCopyWarning: \n",
      "A value is trying to be set on a copy of a slice from a DataFrame.\n",
      "Try using .loc[row_indexer,col_indexer] = value instead\n",
      "\n",
      "See the caveats in the documentation: http://pandas.pydata.org/pandas-docs/stable/indexing.html#indexing-view-versus-copy\n"
     ]
    },
    {
     "name": "stdout",
     "output_type": "stream",
     "text": [
      ">>>>>> buy list (1) : 2015-03-25 00:00:00\n",
      "서산(A079650) : 31897\n",
      "\n",
      "\n",
      ">>>>>> enough profit (사조대림 : A003960) - (19750 : 0.51) : 2015-03-30 00:00:00\n",
      ">>>>>> sell list (1) : 2015-03-30 00:00:00\n",
      "['A003960']\n",
      "\n",
      "\n"
     ]
    },
    {
     "name": "stderr",
     "output_type": "stream",
     "text": [
      "/Users/Shared/anaconda3/anaconda3/lib/python3.7/site-packages/ipykernel_launcher.py:689: SettingWithCopyWarning: \n",
      "A value is trying to be set on a copy of a slice from a DataFrame.\n",
      "Try using .loc[row_indexer,col_indexer] = value instead\n",
      "\n",
      "See the caveats in the documentation: http://pandas.pydata.org/pandas-docs/stable/indexing.html#indexing-view-versus-copy\n"
     ]
    },
    {
     "name": "stdout",
     "output_type": "stream",
     "text": [
      ">>>>>> buy list (1) : 2015-03-30 00:00:00\n",
      "엠젠플러스(A032790) : 7053\n",
      "\n",
      "\n",
      ">>>>>> enough profit (경남제약 : A053950) - (4600 : 0.65) : 2015-04-02 00:00:00\n",
      ">>>>>> sell list (1) : 2015-04-02 00:00:00\n",
      "['A053950']\n",
      "\n",
      "\n"
     ]
    },
    {
     "name": "stderr",
     "output_type": "stream",
     "text": [
      "/Users/Shared/anaconda3/anaconda3/lib/python3.7/site-packages/ipykernel_launcher.py:689: SettingWithCopyWarning: \n",
      "A value is trying to be set on a copy of a slice from a DataFrame.\n",
      "Try using .loc[row_indexer,col_indexer] = value instead\n",
      "\n",
      "See the caveats in the documentation: http://pandas.pydata.org/pandas-docs/stable/indexing.html#indexing-view-versus-copy\n"
     ]
    },
    {
     "name": "stdout",
     "output_type": "stream",
     "text": [
      ">>>>>> buy list (1) : 2015-04-02 00:00:00\n",
      "사조대림(A003960) : 444\n",
      "\n",
      "\n",
      ">>>>>> enough profit (유니셈 : A036200) - (3130 : 0.56) : 2015-04-08 00:00:00\n",
      ">>>>>> sell list (1) : 2015-04-08 00:00:00\n",
      "['A036200']\n",
      "\n",
      "\n"
     ]
    },
    {
     "name": "stderr",
     "output_type": "stream",
     "text": [
      "/Users/Shared/anaconda3/anaconda3/lib/python3.7/site-packages/ipykernel_launcher.py:689: SettingWithCopyWarning: \n",
      "A value is trying to be set on a copy of a slice from a DataFrame.\n",
      "Try using .loc[row_indexer,col_indexer] = value instead\n",
      "\n",
      "See the caveats in the documentation: http://pandas.pydata.org/pandas-docs/stable/indexing.html#indexing-view-versus-copy\n"
     ]
    },
    {
     "name": "stdout",
     "output_type": "stream",
     "text": [
      ">>>>>> buy list (1) : 2015-04-08 00:00:00\n",
      "텔레필드(A091440) : 5766\n",
      "\n",
      "\n",
      ">>>>>> enough profit (현대약품 : A004310) - (3794 : 0.51) : 2015-04-17 00:00:00\n",
      ">>>>>> sell list (1) : 2015-04-17 00:00:00\n",
      "['A004310']\n",
      "\n",
      "\n"
     ]
    },
    {
     "name": "stderr",
     "output_type": "stream",
     "text": [
      "/Users/Shared/anaconda3/anaconda3/lib/python3.7/site-packages/ipykernel_launcher.py:689: SettingWithCopyWarning: \n",
      "A value is trying to be set on a copy of a slice from a DataFrame.\n",
      "Try using .loc[row_indexer,col_indexer] = value instead\n",
      "\n",
      "See the caveats in the documentation: http://pandas.pydata.org/pandas-docs/stable/indexing.html#indexing-view-versus-copy\n"
     ]
    },
    {
     "name": "stdout",
     "output_type": "stream",
     "text": [
      ">>>>>> buy list (1) : 2015-04-17 00:00:00\n",
      "유니셈(A036200) : 15689\n",
      "\n",
      "\n",
      ">>>>>> enough periods (신영와코루 : A005800) - (146000 : 0.38) : 367 days 00:00:002015-04-20 00:00:00\n",
      ">>>>>> sell list (1) : 2015-04-20 00:00:00\n",
      "['A005800']\n",
      "\n",
      "\n"
     ]
    },
    {
     "name": "stderr",
     "output_type": "stream",
     "text": [
      "/Users/Shared/anaconda3/anaconda3/lib/python3.7/site-packages/ipykernel_launcher.py:689: SettingWithCopyWarning: \n",
      "A value is trying to be set on a copy of a slice from a DataFrame.\n",
      "Try using .loc[row_indexer,col_indexer] = value instead\n",
      "\n",
      "See the caveats in the documentation: http://pandas.pydata.org/pandas-docs/stable/indexing.html#indexing-view-versus-copy\n",
      "/Users/Shared/anaconda3/anaconda3/lib/python3.7/site-packages/ipykernel_launcher.py:689: SettingWithCopyWarning: \n",
      "A value is trying to be set on a copy of a slice from a DataFrame.\n",
      "Try using .loc[row_indexer,col_indexer] = value instead\n",
      "\n",
      "See the caveats in the documentation: http://pandas.pydata.org/pandas-docs/stable/indexing.html#indexing-view-versus-copy\n"
     ]
    },
    {
     "name": "stdout",
     "output_type": "stream",
     "text": [
      ">>>>>> buy list (1) : 2015-04-20 00:00:00\n",
      "한국전자금융(A063570) : 2523\n",
      "\n",
      "\n",
      ">>>>>> enough profit (좋은사람들 : A033340) - (1979 : 0.64) : 2015-04-21 00:00:00\n",
      ">>>>>> sell list (1) : 2015-04-21 00:00:00\n",
      "['A033340']\n",
      "\n",
      "\n",
      ">>>>>> buy list (1) : 2015-04-21 00:00:00\n",
      "신영와코루(A005800) : 1834\n",
      "\n",
      "\n",
      ">>>>>> enough profit (광림 : A014200) - (1358 : 0.5) : 2015-04-28 00:00:00\n",
      ">>>>>> sell list (1) : 2015-04-28 00:00:00\n",
      "['A014200']\n",
      "\n",
      "\n"
     ]
    },
    {
     "name": "stderr",
     "output_type": "stream",
     "text": [
      "/Users/Shared/anaconda3/anaconda3/lib/python3.7/site-packages/ipykernel_launcher.py:689: SettingWithCopyWarning: \n",
      "A value is trying to be set on a copy of a slice from a DataFrame.\n",
      "Try using .loc[row_indexer,col_indexer] = value instead\n",
      "\n",
      "See the caveats in the documentation: http://pandas.pydata.org/pandas-docs/stable/indexing.html#indexing-view-versus-copy\n"
     ]
    },
    {
     "name": "stdout",
     "output_type": "stream",
     "text": [
      ">>>>>> buy list (1) : 2015-04-28 00:00:00\n",
      "좋은사람들(A033340) : 14554\n",
      "\n",
      "\n",
      ">>>>>> enough profit (백금T&A : A046310) - (4149 : 0.59) : 2015-05-07 00:00:00\n",
      ">>>>>> sell list (1) : 2015-05-07 00:00:00\n",
      "['A046310']\n",
      "\n",
      "\n"
     ]
    },
    {
     "name": "stderr",
     "output_type": "stream",
     "text": [
      "/Users/Shared/anaconda3/anaconda3/lib/python3.7/site-packages/ipykernel_launcher.py:689: SettingWithCopyWarning: \n",
      "A value is trying to be set on a copy of a slice from a DataFrame.\n",
      "Try using .loc[row_indexer,col_indexer] = value instead\n",
      "\n",
      "See the caveats in the documentation: http://pandas.pydata.org/pandas-docs/stable/indexing.html#indexing-view-versus-copy\n"
     ]
    },
    {
     "name": "stdout",
     "output_type": "stream",
     "text": [
      ">>>>>> buy list (1) : 2015-05-07 00:00:00\n",
      "광림(A014200) : 24390\n",
      "\n",
      "\n",
      ">>>>>> enough profit (진도 : A088790) - (5150.0 : 0.58) : 2015-05-11 00:00:00\n",
      ">>>>>> sell list (1) : 2015-05-11 00:00:00\n",
      "['A088790']\n",
      "\n",
      "\n"
     ]
    },
    {
     "name": "stderr",
     "output_type": "stream",
     "text": [
      "/Users/Shared/anaconda3/anaconda3/lib/python3.7/site-packages/ipykernel_launcher.py:689: SettingWithCopyWarning: \n",
      "A value is trying to be set on a copy of a slice from a DataFrame.\n",
      "Try using .loc[row_indexer,col_indexer] = value instead\n",
      "\n",
      "See the caveats in the documentation: http://pandas.pydata.org/pandas-docs/stable/indexing.html#indexing-view-versus-copy\n"
     ]
    },
    {
     "name": "stdout",
     "output_type": "stream",
     "text": [
      ">>>>>> buy list (1) : 2015-05-11 00:00:00\n",
      "백금T&A(A046310) : 4394\n",
      "\n",
      "\n",
      ">>>>>> enough periods (지엔코 : A065060) - (1315 : -0.05) : 366 days 00:00:002015-05-13 00:00:00\n",
      ">>>>>> sell list (1) : 2015-05-13 00:00:00\n",
      "['A065060']\n",
      "\n",
      "\n"
     ]
    },
    {
     "name": "stderr",
     "output_type": "stream",
     "text": [
      "/Users/Shared/anaconda3/anaconda3/lib/python3.7/site-packages/ipykernel_launcher.py:689: SettingWithCopyWarning: \n",
      "A value is trying to be set on a copy of a slice from a DataFrame.\n",
      "Try using .loc[row_indexer,col_indexer] = value instead\n",
      "\n",
      "See the caveats in the documentation: http://pandas.pydata.org/pandas-docs/stable/indexing.html#indexing-view-versus-copy\n"
     ]
    },
    {
     "name": "stdout",
     "output_type": "stream",
     "text": [
      ">>>>>> buy list (1) : 2015-05-13 00:00:00\n",
      "진도(A088790) : 2092\n",
      "\n",
      "\n",
      ">>>>>> enough profit (유니셈 : A036200) - (5766 : 0.51) : 2015-05-14 00:00:00\n",
      ">>>>>> sell list (1) : 2015-05-14 00:00:00\n",
      "['A036200']\n",
      "\n",
      "\n"
     ]
    },
    {
     "name": "stderr",
     "output_type": "stream",
     "text": [
      "/Users/Shared/anaconda3/anaconda3/lib/python3.7/site-packages/ipykernel_launcher.py:689: SettingWithCopyWarning: \n",
      "A value is trying to be set on a copy of a slice from a DataFrame.\n",
      "Try using .loc[row_indexer,col_indexer] = value instead\n",
      "\n",
      "See the caveats in the documentation: http://pandas.pydata.org/pandas-docs/stable/indexing.html#indexing-view-versus-copy\n"
     ]
    },
    {
     "name": "stdout",
     "output_type": "stream",
     "text": [
      ">>>>>> buy list (1) : 2015-05-14 00:00:00\n",
      "지엔코(A065060) : 68276\n",
      "\n",
      "\n",
      ">>>>>> enough periods (한국경제TV : A039340) - (3245 : 0.28) : 366 days 00:00:002015-05-15 00:00:00\n",
      ">>>>>> sell list (1) : 2015-05-15 00:00:00\n",
      "['A039340']\n",
      "\n",
      "\n"
     ]
    },
    {
     "name": "stderr",
     "output_type": "stream",
     "text": [
      "/Users/Shared/anaconda3/anaconda3/lib/python3.7/site-packages/ipykernel_launcher.py:689: SettingWithCopyWarning: \n",
      "A value is trying to be set on a copy of a slice from a DataFrame.\n",
      "Try using .loc[row_indexer,col_indexer] = value instead\n",
      "\n",
      "See the caveats in the documentation: http://pandas.pydata.org/pandas-docs/stable/indexing.html#indexing-view-versus-copy\n"
     ]
    },
    {
     "name": "stdout",
     "output_type": "stream",
     "text": [
      ">>>>>> buy list (1) : 2015-05-15 00:00:00\n",
      "유니셈(A036200) : 5317\n",
      "\n",
      "\n",
      ">>>>>> enough profit (삼일제약 : A000520) - (9899 : 0.71) : 2015-05-19 00:00:00\n",
      ">>>>>> sell list (1) : 2015-05-19 00:00:00\n",
      "['A000520']\n",
      "\n",
      "\n"
     ]
    },
    {
     "name": "stderr",
     "output_type": "stream",
     "text": [
      "/Users/Shared/anaconda3/anaconda3/lib/python3.7/site-packages/ipykernel_launcher.py:689: SettingWithCopyWarning: \n",
      "A value is trying to be set on a copy of a slice from a DataFrame.\n",
      "Try using .loc[row_indexer,col_indexer] = value instead\n",
      "\n",
      "See the caveats in the documentation: http://pandas.pydata.org/pandas-docs/stable/indexing.html#indexing-view-versus-copy\n"
     ]
    },
    {
     "name": "stdout",
     "output_type": "stream",
     "text": [
      ">>>>>> buy list (1) : 2015-05-19 00:00:00\n",
      "한국경제TV(A039340) : 9534\n",
      "\n",
      "\n",
      ">>>>>> enough profit (유니셈 : A036200) - (9601 : 0.52) : 2015-06-18 00:00:00\n",
      ">>>>>> sell list (1) : 2015-06-18 00:00:00\n",
      "['A036200']\n",
      "\n",
      "\n"
     ]
    },
    {
     "name": "stderr",
     "output_type": "stream",
     "text": [
      "/Users/Shared/anaconda3/anaconda3/lib/python3.7/site-packages/ipykernel_launcher.py:689: SettingWithCopyWarning: \n",
      "A value is trying to be set on a copy of a slice from a DataFrame.\n",
      "Try using .loc[row_indexer,col_indexer] = value instead\n",
      "\n",
      "See the caveats in the documentation: http://pandas.pydata.org/pandas-docs/stable/indexing.html#indexing-view-versus-copy\n"
     ]
    },
    {
     "name": "stdout",
     "output_type": "stream",
     "text": [
      ">>>>>> buy list (1) : 2015-06-18 00:00:00\n",
      "삼일제약(A000520) : 6227\n",
      "\n",
      "\n",
      ">>>>>> enough profit (듀오백 : A073190) - (3150 : 0.61) : 2015-06-25 00:00:00\n",
      ">>>>>> sell list (1) : 2015-06-25 00:00:00\n",
      "['A073190']\n",
      "\n",
      "\n"
     ]
    },
    {
     "name": "stderr",
     "output_type": "stream",
     "text": [
      "/Users/Shared/anaconda3/anaconda3/lib/python3.7/site-packages/ipykernel_launcher.py:689: SettingWithCopyWarning: \n",
      "A value is trying to be set on a copy of a slice from a DataFrame.\n",
      "Try using .loc[row_indexer,col_indexer] = value instead\n",
      "\n",
      "See the caveats in the documentation: http://pandas.pydata.org/pandas-docs/stable/indexing.html#indexing-view-versus-copy\n"
     ]
    },
    {
     "name": "stdout",
     "output_type": "stream",
     "text": [
      ">>>>>> buy list (1) : 2015-06-25 00:00:00\n",
      "유니셈(A036200) : 846\n",
      "\n",
      "\n",
      ">>>>>> enough periods (삼성출판사 : A068290) - (11200 : 0.16) : 367 days 00:00:002015-08-10 00:00:00\n",
      ">>>>>> sell list (1) : 2015-08-10 00:00:00\n",
      "['A068290']\n",
      "\n",
      "\n"
     ]
    },
    {
     "name": "stderr",
     "output_type": "stream",
     "text": [
      "/Users/Shared/anaconda3/anaconda3/lib/python3.7/site-packages/ipykernel_launcher.py:689: SettingWithCopyWarning: \n",
      "A value is trying to be set on a copy of a slice from a DataFrame.\n",
      "Try using .loc[row_indexer,col_indexer] = value instead\n",
      "\n",
      "See the caveats in the documentation: http://pandas.pydata.org/pandas-docs/stable/indexing.html#indexing-view-versus-copy\n"
     ]
    },
    {
     "name": "stdout",
     "output_type": "stream",
     "text": [
      ">>>>>> buy list (1) : 2015-08-10 00:00:00\n",
      "듀오백(A073190) : 1200\n",
      "\n",
      "\n",
      ">>>>>> enough profit (한국전자금융 : A063570) - (4775.0 : 0.53) : 2015-08-11 00:00:00\n",
      ">>>>>> sell list (1) : 2015-08-11 00:00:00\n",
      "['A063570']\n",
      "\n",
      "\n"
     ]
    },
    {
     "name": "stderr",
     "output_type": "stream",
     "text": [
      "/Users/Shared/anaconda3/anaconda3/lib/python3.7/site-packages/ipykernel_launcher.py:689: SettingWithCopyWarning: \n",
      "A value is trying to be set on a copy of a slice from a DataFrame.\n",
      "Try using .loc[row_indexer,col_indexer] = value instead\n",
      "\n",
      "See the caveats in the documentation: http://pandas.pydata.org/pandas-docs/stable/indexing.html#indexing-view-versus-copy\n"
     ]
    },
    {
     "name": "stdout",
     "output_type": "stream",
     "text": [
      ">>>>>> buy list (1) : 2015-08-11 00:00:00\n",
      "SG세계물산(A004060) : 14785\n",
      "\n",
      "\n",
      ">>>>>> enough periods (디아이동일 : A001530) - (62018 : -0.2) : 368 days 00:00:002015-09-14 00:00:00\n",
      ">>>>>> sell list (1) : 2015-09-14 00:00:00\n",
      "['A001530']\n",
      "\n",
      "\n"
     ]
    },
    {
     "name": "stderr",
     "output_type": "stream",
     "text": [
      "/Users/Shared/anaconda3/anaconda3/lib/python3.7/site-packages/ipykernel_launcher.py:689: SettingWithCopyWarning: \n",
      "A value is trying to be set on a copy of a slice from a DataFrame.\n",
      "Try using .loc[row_indexer,col_indexer] = value instead\n",
      "\n",
      "See the caveats in the documentation: http://pandas.pydata.org/pandas-docs/stable/indexing.html#indexing-view-versus-copy\n"
     ]
    },
    {
     "name": "stdout",
     "output_type": "stream",
     "text": [
      ">>>>>> buy list (1) : 2015-09-14 00:00:00\n",
      "한국전자금융(A063570) : 1441\n",
      "\n",
      "\n",
      ">>>>>> enough profit (한국전자금융 : A063570) - (11900.0 : 0.68) : 2015-09-18 00:00:00\n",
      ">>>>>> sell list (1) : 2015-09-18 00:00:00\n",
      "['A063570']\n",
      "\n",
      "\n"
     ]
    },
    {
     "name": "stderr",
     "output_type": "stream",
     "text": [
      "/Users/Shared/anaconda3/anaconda3/lib/python3.7/site-packages/ipykernel_launcher.py:689: SettingWithCopyWarning: \n",
      "A value is trying to be set on a copy of a slice from a DataFrame.\n",
      "Try using .loc[row_indexer,col_indexer] = value instead\n",
      "\n",
      "See the caveats in the documentation: http://pandas.pydata.org/pandas-docs/stable/indexing.html#indexing-view-versus-copy\n"
     ]
    },
    {
     "name": "stdout",
     "output_type": "stream",
     "text": [
      ">>>>>> buy list (1) : 2015-09-18 00:00:00\n",
      "디아이동일(A001530) : 278\n",
      "\n",
      "\n",
      ">>>>>> enough profit (광림 : A014200) - (2365 : 0.65) : 2015-09-22 00:00:00\n",
      ">>>>>> sell list (1) : 2015-09-22 00:00:00\n",
      "['A014200']\n",
      "\n",
      "\n"
     ]
    },
    {
     "name": "stderr",
     "output_type": "stream",
     "text": [
      "/Users/Shared/anaconda3/anaconda3/lib/python3.7/site-packages/ipykernel_launcher.py:689: SettingWithCopyWarning: \n",
      "A value is trying to be set on a copy of a slice from a DataFrame.\n",
      "Try using .loc[row_indexer,col_indexer] = value instead\n",
      "\n",
      "See the caveats in the documentation: http://pandas.pydata.org/pandas-docs/stable/indexing.html#indexing-view-versus-copy\n"
     ]
    },
    {
     "name": "stdout",
     "output_type": "stream",
     "text": [
      ">>>>>> buy list (1) : 2015-09-22 00:00:00\n",
      "한국전자금융(A063570) : 5105\n",
      "\n",
      "\n",
      ">>>>>> enough periods (신원 : A009270) - (1865 : -0.26) : 366 days 00:00:002015-09-25 00:00:00\n",
      ">>>>>> sell list (1) : 2015-09-25 00:00:00\n",
      "['A009270']\n",
      "\n",
      "\n"
     ]
    },
    {
     "name": "stderr",
     "output_type": "stream",
     "text": [
      "/Users/Shared/anaconda3/anaconda3/lib/python3.7/site-packages/ipykernel_launcher.py:689: SettingWithCopyWarning: \n",
      "A value is trying to be set on a copy of a slice from a DataFrame.\n",
      "Try using .loc[row_indexer,col_indexer] = value instead\n",
      "\n",
      "See the caveats in the documentation: http://pandas.pydata.org/pandas-docs/stable/indexing.html#indexing-view-versus-copy\n"
     ]
    },
    {
     "name": "stdout",
     "output_type": "stream",
     "text": [
      ">>>>>> buy list (1) : 2015-09-25 00:00:00\n",
      "광림(A014200) : 1412\n",
      "\n",
      "\n",
      ">>>>>> enough profit (SG세계물산 : A004060) - (1435 : 0.76) : 2015-10-01 00:00:00\n",
      ">>>>>> sell list (1) : 2015-10-01 00:00:00\n",
      "['A004060']\n",
      "\n",
      "\n"
     ]
    },
    {
     "name": "stderr",
     "output_type": "stream",
     "text": [
      "/Users/Shared/anaconda3/anaconda3/lib/python3.7/site-packages/ipykernel_launcher.py:689: SettingWithCopyWarning: \n",
      "A value is trying to be set on a copy of a slice from a DataFrame.\n",
      "Try using .loc[row_indexer,col_indexer] = value instead\n",
      "\n",
      "See the caveats in the documentation: http://pandas.pydata.org/pandas-docs/stable/indexing.html#indexing-view-versus-copy\n"
     ]
    },
    {
     "name": "stdout",
     "output_type": "stream",
     "text": [
      ">>>>>> buy list (1) : 2015-10-01 00:00:00\n",
      "팅크웨어(A084730) : 1438\n",
      "\n",
      "\n",
      ">>>>>> enough profit (좋은사람들 : A033340) - (2837 : 0.65) : 2015-11-02 00:00:00\n",
      ">>>>>> sell list (1) : 2015-11-02 00:00:00\n",
      "['A033340']\n",
      "\n",
      "\n"
     ]
    },
    {
     "name": "stderr",
     "output_type": "stream",
     "text": [
      "/Users/Shared/anaconda3/anaconda3/lib/python3.7/site-packages/ipykernel_launcher.py:689: SettingWithCopyWarning: \n",
      "A value is trying to be set on a copy of a slice from a DataFrame.\n",
      "Try using .loc[row_indexer,col_indexer] = value instead\n",
      "\n",
      "See the caveats in the documentation: http://pandas.pydata.org/pandas-docs/stable/indexing.html#indexing-view-versus-copy\n"
     ]
    },
    {
     "name": "stdout",
     "output_type": "stream",
     "text": [
      ">>>>>> buy list (1) : 2015-11-02 00:00:00\n",
      "SG세계물산(A004060) : 33036\n",
      "\n",
      "\n",
      ">>>>>> enough profit (엠젠플러스 : A032790) - (16313 : 0.79) : 2016-02-19 00:00:00\n",
      ">>>>>> sell list (1) : 2016-02-19 00:00:00\n",
      "['A032790']\n",
      "\n",
      "\n"
     ]
    },
    {
     "name": "stderr",
     "output_type": "stream",
     "text": [
      "/Users/Shared/anaconda3/anaconda3/lib/python3.7/site-packages/ipykernel_launcher.py:689: SettingWithCopyWarning: \n",
      "A value is trying to be set on a copy of a slice from a DataFrame.\n",
      "Try using .loc[row_indexer,col_indexer] = value instead\n",
      "\n",
      "See the caveats in the documentation: http://pandas.pydata.org/pandas-docs/stable/indexing.html#indexing-view-versus-copy\n"
     ]
    },
    {
     "name": "stdout",
     "output_type": "stream",
     "text": [
      ">>>>>> buy list (1) : 2016-02-19 00:00:00\n",
      "신원(A009270) : 68080\n",
      "\n",
      "\n",
      ">>>>>> enough periods (태광산업 : A003240) - (992000 : -0.13) : 366 days 00:00:002016-02-24 00:00:00\n",
      ">>>>>> sell list (1) : 2016-02-24 00:00:00\n",
      "['A003240']\n",
      "\n",
      "\n"
     ]
    },
    {
     "name": "stderr",
     "output_type": "stream",
     "text": [
      "/Users/Shared/anaconda3/anaconda3/lib/python3.7/site-packages/ipykernel_launcher.py:689: SettingWithCopyWarning: \n",
      "A value is trying to be set on a copy of a slice from a DataFrame.\n",
      "Try using .loc[row_indexer,col_indexer] = value instead\n",
      "\n",
      "See the caveats in the documentation: http://pandas.pydata.org/pandas-docs/stable/indexing.html#indexing-view-versus-copy\n"
     ]
    },
    {
     "name": "stdout",
     "output_type": "stream",
     "text": [
      ">>>>>> buy list (1) : 2016-02-24 00:00:00\n",
      "파인디지털(A038950) : 9757\n",
      "\n",
      "\n",
      ">>>>>> enough periods (남영비비안 : A002070) - (9460 : -0.14) : 366 days 00:00:002016-03-03 00:00:00\n",
      ">>>>>> sell list (1) : 2016-03-03 00:00:00\n",
      "['A002070']\n",
      "\n",
      "\n"
     ]
    },
    {
     "name": "stderr",
     "output_type": "stream",
     "text": [
      "/Users/Shared/anaconda3/anaconda3/lib/python3.7/site-packages/ipykernel_launcher.py:689: SettingWithCopyWarning: \n",
      "A value is trying to be set on a copy of a slice from a DataFrame.\n",
      "Try using .loc[row_indexer,col_indexer] = value instead\n",
      "\n",
      "See the caveats in the documentation: http://pandas.pydata.org/pandas-docs/stable/indexing.html#indexing-view-versus-copy\n"
     ]
    },
    {
     "name": "stdout",
     "output_type": "stream",
     "text": [
      ">>>>>> buy list (1) : 2016-03-03 00:00:00\n",
      "태광산업(A003240) : 16\n",
      "\n",
      "\n",
      ">>>>>> enough profit (광림 : A014200) - (3885 : 0.81) : 2016-03-10 00:00:00\n",
      ">>>>>> sell list (1) : 2016-03-10 00:00:00\n",
      "['A014200']\n",
      "\n",
      "\n"
     ]
    },
    {
     "name": "stderr",
     "output_type": "stream",
     "text": [
      "/Users/Shared/anaconda3/anaconda3/lib/python3.7/site-packages/ipykernel_launcher.py:689: SettingWithCopyWarning: \n",
      "A value is trying to be set on a copy of a slice from a DataFrame.\n",
      "Try using .loc[row_indexer,col_indexer] = value instead\n",
      "\n",
      "See the caveats in the documentation: http://pandas.pydata.org/pandas-docs/stable/indexing.html#indexing-view-versus-copy\n"
     ]
    },
    {
     "name": "stdout",
     "output_type": "stream",
     "text": [
      ">>>>>> buy list (1) : 2016-03-10 00:00:00\n",
      "남영비비안(A002070) : 587\n",
      "\n",
      "\n",
      ">>>>>> enough periods (케이티 : A030200) - (28950 : -0.03) : 366 days 00:00:002016-03-17 00:00:00\n",
      ">>>>>> sell list (1) : 2016-03-17 00:00:00\n",
      "['A030200']\n",
      "\n",
      "\n"
     ]
    },
    {
     "name": "stderr",
     "output_type": "stream",
     "text": [
      "/Users/Shared/anaconda3/anaconda3/lib/python3.7/site-packages/ipykernel_launcher.py:689: SettingWithCopyWarning: \n",
      "A value is trying to be set on a copy of a slice from a DataFrame.\n",
      "Try using .loc[row_indexer,col_indexer] = value instead\n",
      "\n",
      "See the caveats in the documentation: http://pandas.pydata.org/pandas-docs/stable/indexing.html#indexing-view-versus-copy\n"
     ]
    },
    {
     "name": "stdout",
     "output_type": "stream",
     "text": [
      ">>>>>> buy list (1) : 2016-03-17 00:00:00\n",
      "좋은사람들(A033340) : 19718\n",
      "\n",
      "\n",
      ">>>>>> enough periods (서산 : A079650) - (2795 : 0.07) : 366 days 00:00:002016-03-25 00:00:00\n",
      ">>>>>> sell list (1) : 2016-03-25 00:00:00\n",
      "['A079650']\n",
      "\n",
      "\n"
     ]
    },
    {
     "name": "stderr",
     "output_type": "stream",
     "text": [
      "/Users/Shared/anaconda3/anaconda3/lib/python3.7/site-packages/ipykernel_launcher.py:689: SettingWithCopyWarning: \n",
      "A value is trying to be set on a copy of a slice from a DataFrame.\n",
      "Try using .loc[row_indexer,col_indexer] = value instead\n",
      "\n",
      "See the caveats in the documentation: http://pandas.pydata.org/pandas-docs/stable/indexing.html#indexing-view-versus-copy\n"
     ]
    },
    {
     "name": "stdout",
     "output_type": "stream",
     "text": [
      ">>>>>> buy list (1) : 2016-03-25 00:00:00\n",
      "케이티(A030200) : 3027\n",
      "\n",
      "\n",
      ">>>>>> enough periods (사조대림 : A003960) - (20100 : 0.05) : 368 days 00:00:002016-04-04 00:00:00\n",
      ">>>>>> sell list (1) : 2016-04-04 00:00:00\n",
      "['A003960']\n",
      "\n",
      "\n"
     ]
    },
    {
     "name": "stderr",
     "output_type": "stream",
     "text": [
      "/Users/Shared/anaconda3/anaconda3/lib/python3.7/site-packages/ipykernel_launcher.py:689: SettingWithCopyWarning: \n",
      "A value is trying to be set on a copy of a slice from a DataFrame.\n",
      "Try using .loc[row_indexer,col_indexer] = value instead\n",
      "\n",
      "See the caveats in the documentation: http://pandas.pydata.org/pandas-docs/stable/indexing.html#indexing-view-versus-copy\n"
     ]
    },
    {
     "name": "stdout",
     "output_type": "stream",
     "text": [
      ">>>>>> buy list (1) : 2016-04-04 00:00:00\n",
      "LF(A093050) : 353\n",
      "\n",
      "\n",
      ">>>>>> enough periods (텔레필드 : A091440) - (5300.0 : 0.18) : 366 days 00:00:002016-04-08 00:00:00\n",
      ">>>>>> sell list (1) : 2016-04-08 00:00:00\n",
      "['A091440']\n",
      "\n",
      "\n"
     ]
    },
    {
     "name": "stderr",
     "output_type": "stream",
     "text": [
      "/Users/Shared/anaconda3/anaconda3/lib/python3.7/site-packages/ipykernel_launcher.py:689: SettingWithCopyWarning: \n",
      "A value is trying to be set on a copy of a slice from a DataFrame.\n",
      "Try using .loc[row_indexer,col_indexer] = value instead\n",
      "\n",
      "See the caveats in the documentation: http://pandas.pydata.org/pandas-docs/stable/indexing.html#indexing-view-versus-copy\n"
     ]
    },
    {
     "name": "stdout",
     "output_type": "stream",
     "text": [
      ">>>>>> buy list (1) : 2016-04-08 00:00:00\n",
      "메가스터디(A072870) : 2237\n",
      "\n",
      "\n",
      ">>>>>> enough profit (지엔코 : A065060) - (2155 : 0.63) : 2016-04-18 00:00:00\n",
      ">>>>>> sell list (1) : 2016-04-18 00:00:00\n",
      "['A065060']\n",
      "\n",
      "\n"
     ]
    },
    {
     "name": "stderr",
     "output_type": "stream",
     "text": [
      "/Users/Shared/anaconda3/anaconda3/lib/python3.7/site-packages/ipykernel_launcher.py:689: SettingWithCopyWarning: \n",
      "A value is trying to be set on a copy of a slice from a DataFrame.\n",
      "Try using .loc[row_indexer,col_indexer] = value instead\n",
      "\n",
      "See the caveats in the documentation: http://pandas.pydata.org/pandas-docs/stable/indexing.html#indexing-view-versus-copy\n"
     ]
    },
    {
     "name": "stdout",
     "output_type": "stream",
     "text": [
      ">>>>>> buy list (1) : 2016-04-18 00:00:00\n",
      "광림(A014200) : 27376\n",
      "\n",
      "\n",
      ">>>>>> enough periods (신영와코루 : A005800) - (147000 : 0.05) : 366 days 00:00:002016-04-21 00:00:00\n",
      ">>>>>> sell list (1) : 2016-04-21 00:00:00\n",
      "['A005800']\n",
      "\n",
      "\n"
     ]
    },
    {
     "name": "stderr",
     "output_type": "stream",
     "text": [
      "/Users/Shared/anaconda3/anaconda3/lib/python3.7/site-packages/ipykernel_launcher.py:689: SettingWithCopyWarning: \n",
      "A value is trying to be set on a copy of a slice from a DataFrame.\n",
      "Try using .loc[row_indexer,col_indexer] = value instead\n",
      "\n",
      "See the caveats in the documentation: http://pandas.pydata.org/pandas-docs/stable/indexing.html#indexing-view-versus-copy\n"
     ]
    },
    {
     "name": "stdout",
     "output_type": "stream",
     "text": [
      ">>>>>> buy list (1) : 2016-04-21 00:00:00\n",
      "롯데쇼핑(A023530) : 1093\n",
      "\n",
      "\n",
      ">>>>>> enough periods (백금T&A : A046310) - (2590 : -0.37) : 366 days 00:00:002016-05-11 00:00:00\n",
      ">>>>>> sell list (1) : 2016-05-11 00:00:00\n",
      "['A046310']\n",
      "\n",
      "\n"
     ]
    },
    {
     "name": "stderr",
     "output_type": "stream",
     "text": [
      "/Users/Shared/anaconda3/anaconda3/lib/python3.7/site-packages/ipykernel_launcher.py:689: SettingWithCopyWarning: \n",
      "A value is trying to be set on a copy of a slice from a DataFrame.\n",
      "Try using .loc[row_indexer,col_indexer] = value instead\n",
      "\n",
      "See the caveats in the documentation: http://pandas.pydata.org/pandas-docs/stable/indexing.html#indexing-view-versus-copy\n"
     ]
    },
    {
     "name": "stdout",
     "output_type": "stream",
     "text": [
      ">>>>>> buy list (1) : 2016-05-11 00:00:00\n",
      "신영와코루(A005800) : 76\n",
      "\n",
      "\n",
      ">>>>>> enough periods (진도 : A088790) - (4960.0 : -0.01) : 366 days 00:00:002016-05-13 00:00:00\n",
      ">>>>>> sell list (1) : 2016-05-13 00:00:00\n",
      "['A088790']\n",
      "\n",
      "\n"
     ]
    },
    {
     "name": "stderr",
     "output_type": "stream",
     "text": [
      "/Users/Shared/anaconda3/anaconda3/lib/python3.7/site-packages/ipykernel_launcher.py:689: SettingWithCopyWarning: \n",
      "A value is trying to be set on a copy of a slice from a DataFrame.\n",
      "Try using .loc[row_indexer,col_indexer] = value instead\n",
      "\n",
      "See the caveats in the documentation: http://pandas.pydata.org/pandas-docs/stable/indexing.html#indexing-view-versus-copy\n"
     ]
    },
    {
     "name": "stdout",
     "output_type": "stream",
     "text": [
      ">>>>>> buy list (1) : 2016-05-13 00:00:00\n",
      "한국석유공업(A004090) : 89\n",
      "\n",
      "\n",
      ">>>>>> enough profit (한국경제TV : A039340) - (5000 : 0.63) : 2016-05-17 00:00:00\n",
      ">>>>>> sell list (1) : 2016-05-17 00:00:00\n",
      "['A039340']\n",
      "\n",
      "\n"
     ]
    },
    {
     "name": "stderr",
     "output_type": "stream",
     "text": [
      "/Users/Shared/anaconda3/anaconda3/lib/python3.7/site-packages/ipykernel_launcher.py:689: SettingWithCopyWarning: \n",
      "A value is trying to be set on a copy of a slice from a DataFrame.\n",
      "Try using .loc[row_indexer,col_indexer] = value instead\n",
      "\n",
      "See the caveats in the documentation: http://pandas.pydata.org/pandas-docs/stable/indexing.html#indexing-view-versus-copy\n"
     ]
    },
    {
     "name": "stdout",
     "output_type": "stream",
     "text": [
      ">>>>>> buy list (1) : 2016-05-17 00:00:00\n",
      "NE능률(A053290) : 10478\n",
      "\n",
      "\n",
      ">>>>>> enough profit (광림 : A014200) - (8420 : 0.57) : 2016-05-23 00:00:00\n",
      ">>>>>> sell list (1) : 2016-05-23 00:00:00\n",
      "['A014200']\n",
      "\n",
      "\n"
     ]
    },
    {
     "name": "stderr",
     "output_type": "stream",
     "text": [
      "/Users/Shared/anaconda3/anaconda3/lib/python3.7/site-packages/ipykernel_launcher.py:689: SettingWithCopyWarning: \n",
      "A value is trying to be set on a copy of a slice from a DataFrame.\n",
      "Try using .loc[row_indexer,col_indexer] = value instead\n",
      "\n",
      "See the caveats in the documentation: http://pandas.pydata.org/pandas-docs/stable/indexing.html#indexing-view-versus-copy\n"
     ]
    },
    {
     "name": "stdout",
     "output_type": "stream",
     "text": [
      ">>>>>> buy list (1) : 2016-05-23 00:00:00\n",
      "진도(A088790) : 46567\n",
      "\n",
      "\n",
      ">>>>>> enough periods (삼일제약 : A000520) - (9851 : 0.2) : 368 days 00:00:002016-06-20 00:00:00\n",
      ">>>>>> sell list (1) : 2016-06-20 00:00:00\n",
      "['A000520']\n",
      "\n",
      "\n"
     ]
    },
    {
     "name": "stderr",
     "output_type": "stream",
     "text": [
      "/Users/Shared/anaconda3/anaconda3/lib/python3.7/site-packages/ipykernel_launcher.py:689: SettingWithCopyWarning: \n",
      "A value is trying to be set on a copy of a slice from a DataFrame.\n",
      "Try using .loc[row_indexer,col_indexer] = value instead\n",
      "\n",
      "See the caveats in the documentation: http://pandas.pydata.org/pandas-docs/stable/indexing.html#indexing-view-versus-copy\n"
     ]
    },
    {
     "name": "stdout",
     "output_type": "stream",
     "text": [
      ">>>>>> buy list (1) : 2016-06-20 00:00:00\n",
      "광림(A014200) : 12583\n",
      "\n",
      "\n",
      ">>>>>> enough periods (유니셈 : A036200) - (5869 : -0.36) : 368 days 00:00:002016-06-27 00:00:00\n",
      ">>>>>> sell list (1) : 2016-06-27 00:00:00\n",
      "['A036200']\n",
      "\n",
      "\n"
     ]
    },
    {
     "name": "stderr",
     "output_type": "stream",
     "text": [
      "/Users/Shared/anaconda3/anaconda3/lib/python3.7/site-packages/ipykernel_launcher.py:689: SettingWithCopyWarning: \n",
      "A value is trying to be set on a copy of a slice from a DataFrame.\n",
      "Try using .loc[row_indexer,col_indexer] = value instead\n",
      "\n",
      "See the caveats in the documentation: http://pandas.pydata.org/pandas-docs/stable/indexing.html#indexing-view-versus-copy\n"
     ]
    },
    {
     "name": "stdout",
     "output_type": "stream",
     "text": [
      ">>>>>> buy list (1) : 2016-06-27 00:00:00\n",
      "삼일제약(A000520) : 553\n",
      "\n",
      "\n",
      ">>>>>> enough profit (진도 : A088790) - (7460.0 : 0.51) : 2016-07-08 00:00:00\n",
      ">>>>>> sell list (1) : 2016-07-08 00:00:00\n",
      "['A088790']\n",
      "\n",
      "\n"
     ]
    },
    {
     "name": "stderr",
     "output_type": "stream",
     "text": [
      "/Users/Shared/anaconda3/anaconda3/lib/python3.7/site-packages/ipykernel_launcher.py:689: SettingWithCopyWarning: \n",
      "A value is trying to be set on a copy of a slice from a DataFrame.\n",
      "Try using .loc[row_indexer,col_indexer] = value instead\n",
      "\n",
      "See the caveats in the documentation: http://pandas.pydata.org/pandas-docs/stable/indexing.html#indexing-view-versus-copy\n"
     ]
    },
    {
     "name": "stdout",
     "output_type": "stream",
     "text": [
      ">>>>>> buy list (1) : 2016-07-08 00:00:00\n",
      "지엔코(A065060) : 120623\n",
      "\n",
      "\n",
      ">>>>>> enough periods (듀오백 : A073190) - (2710 : -0.2) : 366 days 00:00:002016-08-10 00:00:00\n",
      ">>>>>> sell list (1) : 2016-08-10 00:00:00\n",
      "['A073190']\n",
      "\n",
      "\n"
     ]
    },
    {
     "name": "stderr",
     "output_type": "stream",
     "text": [
      "/Users/Shared/anaconda3/anaconda3/lib/python3.7/site-packages/ipykernel_launcher.py:689: SettingWithCopyWarning: \n",
      "A value is trying to be set on a copy of a slice from a DataFrame.\n",
      "Try using .loc[row_indexer,col_indexer] = value instead\n",
      "\n",
      "See the caveats in the documentation: http://pandas.pydata.org/pandas-docs/stable/indexing.html#indexing-view-versus-copy\n"
     ]
    },
    {
     "name": "stdout",
     "output_type": "stream",
     "text": [
      ">>>>>> buy list (1) : 2016-08-10 00:00:00\n",
      "진도(A088790) : 427\n",
      "\n",
      "\n",
      ">>>>>> enough profit (NE능률 : A053290) - (7410 : 0.62) : 2016-09-01 00:00:00\n",
      ">>>>>> sell list (1) : 2016-09-01 00:00:00\n",
      "['A053290']\n",
      "\n",
      "\n"
     ]
    },
    {
     "name": "stderr",
     "output_type": "stream",
     "text": [
      "/Users/Shared/anaconda3/anaconda3/lib/python3.7/site-packages/ipykernel_launcher.py:689: SettingWithCopyWarning: \n",
      "A value is trying to be set on a copy of a slice from a DataFrame.\n",
      "Try using .loc[row_indexer,col_indexer] = value instead\n",
      "\n",
      "See the caveats in the documentation: http://pandas.pydata.org/pandas-docs/stable/indexing.html#indexing-view-versus-copy\n"
     ]
    },
    {
     "name": "stdout",
     "output_type": "stream",
     "text": [
      ">>>>>> buy list (1) : 2016-09-01 00:00:00\n",
      "남양유업(A003920) : 109\n",
      "\n",
      "\n",
      ">>>>>> enough profit (지엔코 : A065060) - (4410 : 0.53) : 2016-09-08 00:00:00\n",
      ">>>>>> enough profit (광림 : A014200) - (7710 : 0.58) : 2016-09-08 00:00:00\n",
      ">>>>>> sell list (2) : 2016-09-08 00:00:00\n",
      "['A065060', 'A014200']\n",
      "\n",
      "\n"
     ]
    },
    {
     "name": "stderr",
     "output_type": "stream",
     "text": [
      "/Users/Shared/anaconda3/anaconda3/lib/python3.7/site-packages/ipykernel_launcher.py:689: SettingWithCopyWarning: \n",
      "A value is trying to be set on a copy of a slice from a DataFrame.\n",
      "Try using .loc[row_indexer,col_indexer] = value instead\n",
      "\n",
      "See the caveats in the documentation: http://pandas.pydata.org/pandas-docs/stable/indexing.html#indexing-view-versus-copy\n"
     ]
    },
    {
     "name": "stdout",
     "output_type": "stream",
     "text": [
      ">>>>>> buy list (2) : 2016-09-08 00:00:00\n",
      "NE능률(A053290) : 43901\n",
      "중앙에너비스(A000440) : 52814\n",
      "\n",
      "\n",
      ">>>>>> enough periods (디아이동일 : A001530) - (56198 : -0.09) : 367 days 00:00:002016-09-19 00:00:00\n",
      ">>>>>> sell list (1) : 2016-09-19 00:00:00\n",
      "['A001530']\n",
      "\n",
      "\n"
     ]
    },
    {
     "name": "stderr",
     "output_type": "stream",
     "text": [
      "/Users/Shared/anaconda3/anaconda3/lib/python3.7/site-packages/ipykernel_launcher.py:689: SettingWithCopyWarning: \n",
      "A value is trying to be set on a copy of a slice from a DataFrame.\n",
      "Try using .loc[row_indexer,col_indexer] = value instead\n",
      "\n",
      "See the caveats in the documentation: http://pandas.pydata.org/pandas-docs/stable/indexing.html#indexing-view-versus-copy\n"
     ]
    },
    {
     "name": "stdout",
     "output_type": "stream",
     "text": [
      ">>>>>> buy list (1) : 2016-09-19 00:00:00\n",
      "광림(A014200) : 2019\n",
      "\n",
      "\n",
      ">>>>>> enough periods (한국전자금융 : A063570) - (6520.0 : -0.42) : 366 days 00:00:002016-09-22 00:00:00\n",
      ">>>>>> sell list (1) : 2016-09-22 00:00:00\n",
      "['A063570']\n",
      "\n",
      "\n"
     ]
    },
    {
     "name": "stderr",
     "output_type": "stream",
     "text": [
      "/Users/Shared/anaconda3/anaconda3/lib/python3.7/site-packages/ipykernel_launcher.py:689: SettingWithCopyWarning: \n",
      "A value is trying to be set on a copy of a slice from a DataFrame.\n",
      "Try using .loc[row_indexer,col_indexer] = value instead\n",
      "\n",
      "See the caveats in the documentation: http://pandas.pydata.org/pandas-docs/stable/indexing.html#indexing-view-versus-copy\n"
     ]
    },
    {
     "name": "stdout",
     "output_type": "stream",
     "text": [
      ">>>>>> buy list (1) : 2016-09-22 00:00:00\n",
      "지엔코(A065060) : 4735\n",
      "\n",
      "\n",
      ">>>>>> enough periods (팅크웨어 : A084730) - (12400.0 : -0.16) : 369 days 00:00:002016-10-04 00:00:00\n",
      ">>>>>> sell list (1) : 2016-10-04 00:00:00\n",
      "['A084730']\n",
      "\n",
      "\n"
     ]
    },
    {
     "name": "stderr",
     "output_type": "stream",
     "text": [
      "/Users/Shared/anaconda3/anaconda3/lib/python3.7/site-packages/ipykernel_launcher.py:689: SettingWithCopyWarning: \n",
      "A value is trying to be set on a copy of a slice from a DataFrame.\n",
      "Try using .loc[row_indexer,col_indexer] = value instead\n",
      "\n",
      "See the caveats in the documentation: http://pandas.pydata.org/pandas-docs/stable/indexing.html#indexing-view-versus-copy\n"
     ]
    },
    {
     "name": "stdout",
     "output_type": "stream",
     "text": [
      ">>>>>> buy list (1) : 2016-10-04 00:00:00\n",
      "디아이동일(A001530) : 307\n",
      "\n",
      "\n",
      ">>>>>> enough periods (SG세계물산 : A004060) - (1120 : -0.1) : 366 days 00:00:002016-11-02 00:00:00\n",
      ">>>>>> sell list (1) : 2016-11-02 00:00:00\n",
      "['A004060']\n",
      "\n",
      "\n"
     ]
    },
    {
     "name": "stderr",
     "output_type": "stream",
     "text": [
      "/Users/Shared/anaconda3/anaconda3/lib/python3.7/site-packages/ipykernel_launcher.py:689: SettingWithCopyWarning: \n",
      "A value is trying to be set on a copy of a slice from a DataFrame.\n",
      "Try using .loc[row_indexer,col_indexer] = value instead\n",
      "\n",
      "See the caveats in the documentation: http://pandas.pydata.org/pandas-docs/stable/indexing.html#indexing-view-versus-copy\n"
     ]
    },
    {
     "name": "stdout",
     "output_type": "stream",
     "text": [
      ">>>>>> buy list (1) : 2016-11-02 00:00:00\n",
      "플랜티넷(A075130) : 6005\n",
      "\n",
      "\n",
      ">>>>>> enough periods (신원 : A009270) - (1720 : 0.02) : 367 days 00:00:002017-02-20 00:00:00\n",
      ">>>>>> sell list (1) : 2017-02-20 00:00:00\n",
      "['A009270']\n",
      "\n",
      "\n"
     ]
    },
    {
     "name": "stderr",
     "output_type": "stream",
     "text": [
      "/Users/Shared/anaconda3/anaconda3/lib/python3.7/site-packages/ipykernel_launcher.py:689: SettingWithCopyWarning: \n",
      "A value is trying to be set on a copy of a slice from a DataFrame.\n",
      "Try using .loc[row_indexer,col_indexer] = value instead\n",
      "\n",
      "See the caveats in the documentation: http://pandas.pydata.org/pandas-docs/stable/indexing.html#indexing-view-versus-copy\n"
     ]
    },
    {
     "name": "stdout",
     "output_type": "stream",
     "text": [
      ">>>>>> buy list (1) : 2017-02-20 00:00:00\n",
      "티비에이치글로벌(A084870) : 12742\n",
      "\n",
      "\n",
      ">>>>>> enough periods (파인디지털 : A038950) - (6110 : 0.25) : 366 days 00:00:002017-02-24 00:00:00\n",
      ">>>>>> sell list (1) : 2017-02-24 00:00:00\n",
      "['A038950']\n",
      "\n",
      "\n"
     ]
    },
    {
     "name": "stderr",
     "output_type": "stream",
     "text": [
      "/Users/Shared/anaconda3/anaconda3/lib/python3.7/site-packages/ipykernel_launcher.py:689: SettingWithCopyWarning: \n",
      "A value is trying to be set on a copy of a slice from a DataFrame.\n",
      "Try using .loc[row_indexer,col_indexer] = value instead\n",
      "\n",
      "See the caveats in the documentation: http://pandas.pydata.org/pandas-docs/stable/indexing.html#indexing-view-versus-copy\n"
     ]
    },
    {
     "name": "stdout",
     "output_type": "stream",
     "text": [
      ">>>>>> buy list (1) : 2017-02-24 00:00:00\n",
      "신원(A009270) : 35276\n",
      "\n",
      "\n",
      ">>>>>> enough periods (태광산업 : A003240) - (909000 : -0.13) : 368 days 00:00:002017-03-06 00:00:00\n",
      ">>>>>> sell list (1) : 2017-03-06 00:00:00\n",
      "['A003240']\n",
      "\n",
      "\n"
     ]
    },
    {
     "name": "stderr",
     "output_type": "stream",
     "text": [
      "/Users/Shared/anaconda3/anaconda3/lib/python3.7/site-packages/ipykernel_launcher.py:689: SettingWithCopyWarning: \n",
      "A value is trying to be set on a copy of a slice from a DataFrame.\n",
      "Try using .loc[row_indexer,col_indexer] = value instead\n",
      "\n",
      "See the caveats in the documentation: http://pandas.pydata.org/pandas-docs/stable/indexing.html#indexing-view-versus-copy\n"
     ]
    },
    {
     "name": "stdout",
     "output_type": "stream",
     "text": [
      ">>>>>> buy list (1) : 2017-03-06 00:00:00\n",
      "사조대림(A003960) : 779\n",
      "\n",
      "\n",
      ">>>>>> enough periods (남영비비안 : A002070) - (8480 : -0.11) : 368 days 00:00:002017-03-13 00:00:00\n",
      ">>>>>> sell list (1) : 2017-03-13 00:00:00\n",
      "['A002070']\n",
      "\n",
      "\n"
     ]
    },
    {
     "name": "stderr",
     "output_type": "stream",
     "text": [
      "/Users/Shared/anaconda3/anaconda3/lib/python3.7/site-packages/ipykernel_launcher.py:689: SettingWithCopyWarning: \n",
      "A value is trying to be set on a copy of a slice from a DataFrame.\n",
      "Try using .loc[row_indexer,col_indexer] = value instead\n",
      "\n",
      "See the caveats in the documentation: http://pandas.pydata.org/pandas-docs/stable/indexing.html#indexing-view-versus-copy\n"
     ]
    },
    {
     "name": "stdout",
     "output_type": "stream",
     "text": [
      ">>>>>> buy list (1) : 2017-03-13 00:00:00\n",
      "태광산업(A003240) : 5\n",
      "\n",
      "\n",
      ">>>>>> enough periods (좋은사람들 : A033340) - (1971 : -0.06) : 368 days 00:00:002017-03-20 00:00:00\n",
      ">>>>>> sell list (1) : 2017-03-20 00:00:00\n",
      "['A033340']\n",
      "\n",
      "\n"
     ]
    },
    {
     "name": "stderr",
     "output_type": "stream",
     "text": [
      "/Users/Shared/anaconda3/anaconda3/lib/python3.7/site-packages/ipykernel_launcher.py:689: SettingWithCopyWarning: \n",
      "A value is trying to be set on a copy of a slice from a DataFrame.\n",
      "Try using .loc[row_indexer,col_indexer] = value instead\n",
      "\n",
      "See the caveats in the documentation: http://pandas.pydata.org/pandas-docs/stable/indexing.html#indexing-view-versus-copy\n"
     ]
    },
    {
     "name": "stdout",
     "output_type": "stream",
     "text": [
      ">>>>>> buy list (1) : 2017-03-20 00:00:00\n",
      "남영비비안(A002070) : 4436\n",
      "\n",
      "\n",
      ">>>>>> enough periods (케이티 : A030200) - (33100 : 0.12) : 367 days 00:00:002017-03-27 00:00:00\n",
      ">>>>>> sell list (1) : 2017-03-27 00:00:00\n",
      "['A030200']\n",
      "\n",
      "\n"
     ]
    },
    {
     "name": "stderr",
     "output_type": "stream",
     "text": [
      "/Users/Shared/anaconda3/anaconda3/lib/python3.7/site-packages/ipykernel_launcher.py:689: SettingWithCopyWarning: \n",
      "A value is trying to be set on a copy of a slice from a DataFrame.\n",
      "Try using .loc[row_indexer,col_indexer] = value instead\n",
      "\n",
      "See the caveats in the documentation: http://pandas.pydata.org/pandas-docs/stable/indexing.html#indexing-view-versus-copy\n"
     ]
    },
    {
     "name": "stdout",
     "output_type": "stream",
     "text": [
      ">>>>>> buy list (1) : 2017-03-27 00:00:00\n",
      "좋은사람들(A033340) : 51595\n",
      "\n",
      "\n",
      ">>>>>> enough periods (LF : A093050) - (22550.0 : -0.11) : 366 days 00:00:002017-04-05 00:00:00\n",
      ">>>>>> sell list (1) : 2017-04-05 00:00:00\n",
      "['A093050']\n",
      "\n",
      "\n"
     ]
    },
    {
     "name": "stderr",
     "output_type": "stream",
     "text": [
      "/Users/Shared/anaconda3/anaconda3/lib/python3.7/site-packages/ipykernel_launcher.py:689: SettingWithCopyWarning: \n",
      "A value is trying to be set on a copy of a slice from a DataFrame.\n",
      "Try using .loc[row_indexer,col_indexer] = value instead\n",
      "\n",
      "See the caveats in the documentation: http://pandas.pydata.org/pandas-docs/stable/indexing.html#indexing-view-versus-copy\n"
     ]
    },
    {
     "name": "stdout",
     "output_type": "stream",
     "text": [
      ">>>>>> buy list (1) : 2017-04-05 00:00:00\n",
      "케이티(A030200) : 246\n",
      "\n",
      "\n",
      ">>>>>> enough periods (메가스터디 : A072870) - (10834 : -0.21) : 367 days 00:00:002017-04-10 00:00:00\n",
      ">>>>>> sell list (1) : 2017-04-10 00:00:00\n",
      "['A072870']\n",
      "\n",
      "\n"
     ]
    },
    {
     "name": "stderr",
     "output_type": "stream",
     "text": [
      "/Users/Shared/anaconda3/anaconda3/lib/python3.7/site-packages/ipykernel_launcher.py:689: SettingWithCopyWarning: \n",
      "A value is trying to be set on a copy of a slice from a DataFrame.\n",
      "Try using .loc[row_indexer,col_indexer] = value instead\n",
      "\n",
      "See the caveats in the documentation: http://pandas.pydata.org/pandas-docs/stable/indexing.html#indexing-view-versus-copy\n"
     ]
    },
    {
     "name": "stdout",
     "output_type": "stream",
     "text": [
      ">>>>>> buy list (1) : 2017-04-10 00:00:00\n",
      "LF(A093050) : 1045\n",
      "\n",
      "\n",
      ">>>>>> enough periods (롯데쇼핑 : A023530) - (225542.0 : -0.09) : 368 days 00:00:002017-04-24 00:00:00\n",
      ">>>>>> sell list (1) : 2017-04-24 00:00:00\n",
      "['A023530']\n",
      "\n",
      "\n"
     ]
    },
    {
     "name": "stderr",
     "output_type": "stream",
     "text": [
      "/Users/Shared/anaconda3/anaconda3/lib/python3.7/site-packages/ipykernel_launcher.py:689: SettingWithCopyWarning: \n",
      "A value is trying to be set on a copy of a slice from a DataFrame.\n",
      "Try using .loc[row_indexer,col_indexer] = value instead\n",
      "\n",
      "See the caveats in the documentation: http://pandas.pydata.org/pandas-docs/stable/indexing.html#indexing-view-versus-copy\n"
     ]
    },
    {
     "name": "stdout",
     "output_type": "stream",
     "text": [
      ">>>>>> buy list (1) : 2017-04-24 00:00:00\n",
      "하이트진로홀딩스(A000140) : 22109\n",
      "\n",
      "\n",
      ">>>>>> enough profit (신원 : A009270) - (2615 : 0.55) : 2017-05-10 00:00:00\n",
      ">>>>>> sell list (1) : 2017-05-10 00:00:00\n",
      "['A009270']\n",
      "\n",
      "\n"
     ]
    },
    {
     "name": "stderr",
     "output_type": "stream",
     "text": [
      "/Users/Shared/anaconda3/anaconda3/lib/python3.7/site-packages/ipykernel_launcher.py:689: SettingWithCopyWarning: \n",
      "A value is trying to be set on a copy of a slice from a DataFrame.\n",
      "Try using .loc[row_indexer,col_indexer] = value instead\n",
      "\n",
      "See the caveats in the documentation: http://pandas.pydata.org/pandas-docs/stable/indexing.html#indexing-view-versus-copy\n"
     ]
    },
    {
     "name": "stdout",
     "output_type": "stream",
     "text": [
      ">>>>>> buy list (1) : 2017-05-10 00:00:00\n",
      "LG전자(A066570) : 1209\n",
      "\n",
      "\n",
      ">>>>>> enough periods (신영와코루 : A005800) - (158000 : 0.05) : 366 days 00:00:002017-05-12 00:00:00\n",
      ">>>>>> sell list (1) : 2017-05-12 00:00:00\n",
      "['A005800']\n",
      "\n",
      "\n"
     ]
    },
    {
     "name": "stderr",
     "output_type": "stream",
     "text": [
      "/Users/Shared/anaconda3/anaconda3/lib/python3.7/site-packages/ipykernel_launcher.py:689: SettingWithCopyWarning: \n",
      "A value is trying to be set on a copy of a slice from a DataFrame.\n",
      "Try using .loc[row_indexer,col_indexer] = value instead\n",
      "\n",
      "See the caveats in the documentation: http://pandas.pydata.org/pandas-docs/stable/indexing.html#indexing-view-versus-copy\n"
     ]
    },
    {
     "name": "stdout",
     "output_type": "stream",
     "text": [
      ">>>>>> buy list (1) : 2017-05-12 00:00:00\n",
      "신원(A009270) : 4806\n",
      "\n",
      "\n",
      ">>>>>> enough periods (한국석유공업 : A004090) - (109500 : -0.05) : 367 days 00:00:002017-05-15 00:00:00\n",
      ">>>>>> sell list (1) : 2017-05-15 00:00:00\n",
      "['A004090']\n",
      "\n",
      "\n"
     ]
    },
    {
     "name": "stderr",
     "output_type": "stream",
     "text": [
      "/Users/Shared/anaconda3/anaconda3/lib/python3.7/site-packages/ipykernel_launcher.py:689: SettingWithCopyWarning: \n",
      "A value is trying to be set on a copy of a slice from a DataFrame.\n",
      "Try using .loc[row_indexer,col_indexer] = value instead\n",
      "\n",
      "See the caveats in the documentation: http://pandas.pydata.org/pandas-docs/stable/indexing.html#indexing-view-versus-copy\n"
     ]
    },
    {
     "name": "stdout",
     "output_type": "stream",
     "text": [
      ">>>>>> buy list (1) : 2017-05-15 00:00:00\n",
      "신영와코루(A005800) : 61\n",
      "\n",
      "\n",
      ">>>>>> enough profit (사조대림 : A003960) - (28300 : 0.52) : 2017-06-27 00:00:00\n",
      ">>>>>> sell list (1) : 2017-06-27 00:00:00\n",
      "['A003960']\n",
      "\n",
      "\n"
     ]
    },
    {
     "name": "stderr",
     "output_type": "stream",
     "text": [
      "/Users/Shared/anaconda3/anaconda3/lib/python3.7/site-packages/ipykernel_launcher.py:689: SettingWithCopyWarning: \n",
      "A value is trying to be set on a copy of a slice from a DataFrame.\n",
      "Try using .loc[row_indexer,col_indexer] = value instead\n",
      "\n",
      "See the caveats in the documentation: http://pandas.pydata.org/pandas-docs/stable/indexing.html#indexing-view-versus-copy\n"
     ]
    },
    {
     "name": "stdout",
     "output_type": "stream",
     "text": [
      ">>>>>> buy list (1) : 2017-06-27 00:00:00\n",
      "한국석유공업(A004090) : 204\n",
      "\n",
      "\n",
      ">>>>>> enough periods (삼일제약 : A000520) - (8187 : -0.09) : 366 days 00:00:002017-06-28 00:00:00\n",
      ">>>>>> sell list (1) : 2017-06-28 00:00:00\n",
      "['A000520']\n",
      "\n",
      "\n"
     ]
    },
    {
     "name": "stderr",
     "output_type": "stream",
     "text": [
      "/Users/Shared/anaconda3/anaconda3/lib/python3.7/site-packages/ipykernel_launcher.py:689: SettingWithCopyWarning: \n",
      "A value is trying to be set on a copy of a slice from a DataFrame.\n",
      "Try using .loc[row_indexer,col_indexer] = value instead\n",
      "\n",
      "See the caveats in the documentation: http://pandas.pydata.org/pandas-docs/stable/indexing.html#indexing-view-versus-copy\n"
     ]
    },
    {
     "name": "stdout",
     "output_type": "stream",
     "text": [
      ">>>>>> buy list (1) : 2017-06-28 00:00:00\n",
      "사조대림(A003960) : 153\n",
      "\n",
      "\n",
      ">>>>>> enough periods (진도 : A088790) - (5890.0 : -0.22) : 366 days 00:00:002017-08-11 00:00:00\n",
      ">>>>>> sell list (1) : 2017-08-11 00:00:00\n",
      "['A088790']\n",
      "\n",
      "\n"
     ]
    },
    {
     "name": "stderr",
     "output_type": "stream",
     "text": [
      "/Users/Shared/anaconda3/anaconda3/lib/python3.7/site-packages/ipykernel_launcher.py:689: SettingWithCopyWarning: \n",
      "A value is trying to be set on a copy of a slice from a DataFrame.\n",
      "Try using .loc[row_indexer,col_indexer] = value instead\n",
      "\n",
      "See the caveats in the documentation: http://pandas.pydata.org/pandas-docs/stable/indexing.html#indexing-view-versus-copy\n"
     ]
    },
    {
     "name": "stdout",
     "output_type": "stream",
     "text": [
      ">>>>>> buy list (1) : 2017-08-11 00:00:00\n",
      "한화갤러리아타임월드(A027390) : 93\n",
      "\n",
      "\n",
      ">>>>>> enough periods (남양유업 : A003920) - (687000 : -0.03) : 368 days 00:00:002017-09-04 00:00:00\n",
      ">>>>>> sell list (1) : 2017-09-04 00:00:00\n",
      "['A003920']\n",
      "\n",
      "\n"
     ]
    },
    {
     "name": "stderr",
     "output_type": "stream",
     "text": [
      "/Users/Shared/anaconda3/anaconda3/lib/python3.7/site-packages/ipykernel_launcher.py:689: SettingWithCopyWarning: \n",
      "A value is trying to be set on a copy of a slice from a DataFrame.\n",
      "Try using .loc[row_indexer,col_indexer] = value instead\n",
      "\n",
      "See the caveats in the documentation: http://pandas.pydata.org/pandas-docs/stable/indexing.html#indexing-view-versus-copy\n"
     ]
    },
    {
     "name": "stdout",
     "output_type": "stream",
     "text": [
      ">>>>>> buy list (1) : 2017-09-04 00:00:00\n",
      "진도(A088790) : 12847\n",
      "\n",
      "\n",
      ">>>>>> enough periods (중앙에너비스 : A000440) - (6300 : 0.06) : 368 days 00:00:002017-09-11 00:00:00\n",
      ">>>>>> enough periods (NE능률 : A053290) - (5970 : -0.17) : 368 days 00:00:002017-09-11 00:00:00\n",
      ">>>>>> sell list (2) : 2017-09-11 00:00:00\n",
      "['A000440', 'A053290']\n",
      "\n",
      "\n"
     ]
    },
    {
     "name": "stderr",
     "output_type": "stream",
     "text": [
      "/Users/Shared/anaconda3/anaconda3/lib/python3.7/site-packages/ipykernel_launcher.py:689: SettingWithCopyWarning: \n",
      "A value is trying to be set on a copy of a slice from a DataFrame.\n",
      "Try using .loc[row_indexer,col_indexer] = value instead\n",
      "\n",
      "See the caveats in the documentation: http://pandas.pydata.org/pandas-docs/stable/indexing.html#indexing-view-versus-copy\n"
     ]
    },
    {
     "name": "stdout",
     "output_type": "stream",
     "text": [
      ">>>>>> buy list (2) : 2017-09-11 00:00:00\n",
      "남양유업(A003920) : 450\n",
      "대한제분(A001130) : 1656\n",
      "\n",
      "\n",
      ">>>>>> enough periods (광림 : A014200) - (4240 : -0.45) : 366 days 00:00:002017-09-20 00:00:00\n",
      ">>>>>> sell list (1) : 2017-09-20 00:00:00\n",
      "['A014200']\n",
      "\n",
      "\n"
     ]
    },
    {
     "name": "stderr",
     "output_type": "stream",
     "text": [
      "/Users/Shared/anaconda3/anaconda3/lib/python3.7/site-packages/ipykernel_launcher.py:689: SettingWithCopyWarning: \n",
      "A value is trying to be set on a copy of a slice from a DataFrame.\n",
      "Try using .loc[row_indexer,col_indexer] = value instead\n",
      "\n",
      "See the caveats in the documentation: http://pandas.pydata.org/pandas-docs/stable/indexing.html#indexing-view-versus-copy\n"
     ]
    },
    {
     "name": "stdout",
     "output_type": "stream",
     "text": [
      ">>>>>> buy list (1) : 2017-09-20 00:00:00\n",
      "대상홀딩스(A084690) : 985\n",
      "\n",
      "\n",
      ">>>>>> enough periods (지엔코 : A065060) - (1560 : -0.78) : 368 days 00:00:002017-09-25 00:00:00\n",
      ">>>>>> sell list (1) : 2017-09-25 00:00:00\n",
      "['A065060']\n",
      "\n",
      "\n"
     ]
    },
    {
     "name": "stderr",
     "output_type": "stream",
     "text": [
      "/Users/Shared/anaconda3/anaconda3/lib/python3.7/site-packages/ipykernel_launcher.py:689: SettingWithCopyWarning: \n",
      "A value is trying to be set on a copy of a slice from a DataFrame.\n",
      "Try using .loc[row_indexer,col_indexer] = value instead\n",
      "\n",
      "See the caveats in the documentation: http://pandas.pydata.org/pandas-docs/stable/indexing.html#indexing-view-versus-copy\n"
     ]
    },
    {
     "name": "stdout",
     "output_type": "stream",
     "text": [
      ">>>>>> buy list (1) : 2017-09-25 00:00:00\n",
      "삼일제약(A000520) : 1070\n",
      "\n",
      "\n",
      ">>>>>> enough periods (디아이동일 : A001530) - (55020 : -0.05) : 371 days 00:00:002017-10-10 00:00:00\n",
      ">>>>>> sell list (1) : 2017-10-10 00:00:00\n",
      "['A001530']\n",
      "\n",
      "\n"
     ]
    },
    {
     "name": "stderr",
     "output_type": "stream",
     "text": [
      "/Users/Shared/anaconda3/anaconda3/lib/python3.7/site-packages/ipykernel_launcher.py:689: SettingWithCopyWarning: \n",
      "A value is trying to be set on a copy of a slice from a DataFrame.\n",
      "Try using .loc[row_indexer,col_indexer] = value instead\n",
      "\n",
      "See the caveats in the documentation: http://pandas.pydata.org/pandas-docs/stable/indexing.html#indexing-view-versus-copy\n"
     ]
    },
    {
     "name": "stdout",
     "output_type": "stream",
     "text": [
      ">>>>>> buy list (1) : 2017-10-10 00:00:00\n",
      "메가스터디(A072870) : 1649\n",
      "\n",
      "\n",
      ">>>>>> enough periods (플랜티넷 : A075130) - (5330 : -0.14) : 366 days 00:00:002017-11-03 00:00:00\n",
      ">>>>>> sell list (1) : 2017-11-03 00:00:00\n",
      "['A075130']\n",
      "\n",
      "\n"
     ]
    },
    {
     "name": "stderr",
     "output_type": "stream",
     "text": [
      "/Users/Shared/anaconda3/anaconda3/lib/python3.7/site-packages/ipykernel_launcher.py:689: SettingWithCopyWarning: \n",
      "A value is trying to be set on a copy of a slice from a DataFrame.\n",
      "Try using .loc[row_indexer,col_indexer] = value instead\n",
      "\n",
      "See the caveats in the documentation: http://pandas.pydata.org/pandas-docs/stable/indexing.html#indexing-view-versus-copy\n"
     ]
    },
    {
     "name": "stdout",
     "output_type": "stream",
     "text": [
      ">>>>>> buy list (1) : 2017-11-03 00:00:00\n",
      "디아이동일(A001530) : 596\n",
      "\n",
      "\n",
      ">>>>>> enough profit (한화갤러리아타임월드 : A027390) - (41000 : 0.52) : 2017-11-27 00:00:00\n",
      ">>>>>> sell list (1) : 2017-11-27 00:00:00\n",
      "['A027390']\n",
      "\n",
      "\n"
     ]
    },
    {
     "name": "stderr",
     "output_type": "stream",
     "text": [
      "/Users/Shared/anaconda3/anaconda3/lib/python3.7/site-packages/ipykernel_launcher.py:689: SettingWithCopyWarning: \n",
      "A value is trying to be set on a copy of a slice from a DataFrame.\n",
      "Try using .loc[row_indexer,col_indexer] = value instead\n",
      "\n",
      "See the caveats in the documentation: http://pandas.pydata.org/pandas-docs/stable/indexing.html#indexing-view-versus-copy\n"
     ]
    },
    {
     "name": "stdout",
     "output_type": "stream",
     "text": [
      ">>>>>> buy list (1) : 2017-11-27 00:00:00\n",
      "네오위즈홀딩스(A042420) : 295\n",
      "\n",
      "\n",
      ">>>>>> enough profit (LF : A093050) - (36300.0 : 0.56) : 2018-01-10 00:00:00\n",
      ">>>>>> sell list (1) : 2018-01-10 00:00:00\n",
      "['A093050']\n",
      "\n",
      "\n"
     ]
    },
    {
     "name": "stderr",
     "output_type": "stream",
     "text": [
      "/Users/Shared/anaconda3/anaconda3/lib/python3.7/site-packages/ipykernel_launcher.py:689: SettingWithCopyWarning: \n",
      "A value is trying to be set on a copy of a slice from a DataFrame.\n",
      "Try using .loc[row_indexer,col_indexer] = value instead\n",
      "\n",
      "See the caveats in the documentation: http://pandas.pydata.org/pandas-docs/stable/indexing.html#indexing-view-versus-copy\n"
     ]
    },
    {
     "name": "stdout",
     "output_type": "stream",
     "text": [
      ">>>>>> buy list (1) : 2018-01-10 00:00:00\n",
      "샘표(A007540) : 1198\n",
      "\n",
      "\n",
      ">>>>>> enough profit (태광산업 : A003240) - (1401000 : 0.52) : 2018-01-24 00:00:00\n",
      ">>>>>> sell list (1) : 2018-01-24 00:00:00\n",
      "['A003240']\n",
      "\n",
      "\n"
     ]
    },
    {
     "name": "stderr",
     "output_type": "stream",
     "text": [
      "/Users/Shared/anaconda3/anaconda3/lib/python3.7/site-packages/ipykernel_launcher.py:689: SettingWithCopyWarning: \n",
      "A value is trying to be set on a copy of a slice from a DataFrame.\n",
      "Try using .loc[row_indexer,col_indexer] = value instead\n",
      "\n",
      "See the caveats in the documentation: http://pandas.pydata.org/pandas-docs/stable/indexing.html#indexing-view-versus-copy\n"
     ]
    },
    {
     "name": "stdout",
     "output_type": "stream",
     "text": [
      ">>>>>> buy list (1) : 2018-01-24 00:00:00\n",
      "롯데쇼핑(A023530) : 30\n",
      "\n",
      "\n",
      ">>>>>> enough profit (삼일제약 : A000520) - (13294 : 0.93) : 2018-02-02 00:00:00\n",
      ">>>>>> sell list (1) : 2018-02-02 00:00:00\n",
      "['A000520']\n",
      "\n",
      "\n"
     ]
    },
    {
     "name": "stderr",
     "output_type": "stream",
     "text": [
      "/Users/Shared/anaconda3/anaconda3/lib/python3.7/site-packages/ipykernel_launcher.py:689: SettingWithCopyWarning: \n",
      "A value is trying to be set on a copy of a slice from a DataFrame.\n",
      "Try using .loc[row_indexer,col_indexer] = value instead\n",
      "\n",
      "See the caveats in the documentation: http://pandas.pydata.org/pandas-docs/stable/indexing.html#indexing-view-versus-copy\n"
     ]
    },
    {
     "name": "stdout",
     "output_type": "stream",
     "text": [
      ">>>>>> buy list (1) : 2018-02-02 00:00:00\n",
      "대현(A016090) : 5114\n",
      "\n",
      "\n",
      ">>>>>> enough periods (티비에이치글로벌 : A084870) - (6900.0 : -0.25) : 366 days 00:00:002018-02-21 00:00:00\n",
      ">>>>>> sell list (1) : 2018-02-21 00:00:00\n",
      "['A084870']\n",
      "\n",
      "\n"
     ]
    },
    {
     "name": "stderr",
     "output_type": "stream",
     "text": [
      "/Users/Shared/anaconda3/anaconda3/lib/python3.7/site-packages/ipykernel_launcher.py:689: SettingWithCopyWarning: \n",
      "A value is trying to be set on a copy of a slice from a DataFrame.\n",
      "Try using .loc[row_indexer,col_indexer] = value instead\n",
      "\n",
      "See the caveats in the documentation: http://pandas.pydata.org/pandas-docs/stable/indexing.html#indexing-view-versus-copy\n"
     ]
    },
    {
     "name": "stdout",
     "output_type": "stream",
     "text": [
      ">>>>>> buy list (1) : 2018-02-21 00:00:00\n",
      "태광산업(A003240) : 69\n",
      "\n",
      "\n",
      ">>>>>> enough profit (좋은사람들 : A033340) - (3318 : 0.71) : 2018-03-05 00:00:00\n",
      ">>>>>> sell list (1) : 2018-03-05 00:00:00\n",
      "['A033340']\n",
      "\n",
      "\n"
     ]
    },
    {
     "name": "stderr",
     "output_type": "stream",
     "text": [
      "/Users/Shared/anaconda3/anaconda3/lib/python3.7/site-packages/ipykernel_launcher.py:689: SettingWithCopyWarning: \n",
      "A value is trying to be set on a copy of a slice from a DataFrame.\n",
      "Try using .loc[row_indexer,col_indexer] = value instead\n",
      "\n",
      "See the caveats in the documentation: http://pandas.pydata.org/pandas-docs/stable/indexing.html#indexing-view-versus-copy\n"
     ]
    },
    {
     "name": "stdout",
     "output_type": "stream",
     "text": [
      ">>>>>> buy list (1) : 2018-03-05 00:00:00\n",
      "신성통상(A005390) : 138961\n",
      "\n",
      "\n",
      ">>>>>> enough periods (남영비비안 : A002070) - (7200 : -0.19) : 366 days 00:00:002018-03-21 00:00:00\n",
      ">>>>>> sell list (1) : 2018-03-21 00:00:00\n",
      "['A002070']\n",
      "\n",
      "\n"
     ]
    },
    {
     "name": "stderr",
     "output_type": "stream",
     "text": [
      "/Users/Shared/anaconda3/anaconda3/lib/python3.7/site-packages/ipykernel_launcher.py:689: SettingWithCopyWarning: \n",
      "A value is trying to be set on a copy of a slice from a DataFrame.\n",
      "Try using .loc[row_indexer,col_indexer] = value instead\n",
      "\n",
      "See the caveats in the documentation: http://pandas.pydata.org/pandas-docs/stable/indexing.html#indexing-view-versus-copy\n"
     ]
    },
    {
     "name": "stdout",
     "output_type": "stream",
     "text": [
      ">>>>>> buy list (1) : 2018-03-21 00:00:00\n",
      "좋은사람들(A033340) : 9711\n",
      "\n",
      "\n",
      ">>>>>> enough periods (케이티 : A030200) - (27600 : -0.15) : 366 days 00:00:002018-04-06 00:00:00\n",
      ">>>>>> sell list (1) : 2018-04-06 00:00:00\n",
      "['A030200']\n",
      "\n",
      "\n"
     ]
    },
    {
     "name": "stderr",
     "output_type": "stream",
     "text": [
      "/Users/Shared/anaconda3/anaconda3/lib/python3.7/site-packages/ipykernel_launcher.py:689: SettingWithCopyWarning: \n",
      "A value is trying to be set on a copy of a slice from a DataFrame.\n",
      "Try using .loc[row_indexer,col_indexer] = value instead\n",
      "\n",
      "See the caveats in the documentation: http://pandas.pydata.org/pandas-docs/stable/indexing.html#indexing-view-versus-copy\n"
     ]
    },
    {
     "name": "stdout",
     "output_type": "stream",
     "text": [
      ">>>>>> buy list (1) : 2018-04-06 00:00:00\n",
      "남영비비안(A002070) : 947\n",
      "\n",
      "\n",
      ">>>>>> enough profit (좋은사람들 : A033340) - (5565 : 0.69) : 2018-04-18 00:00:00\n",
      ">>>>>> sell list (1) : 2018-04-18 00:00:00\n",
      "['A033340']\n",
      "\n",
      "\n"
     ]
    },
    {
     "name": "stderr",
     "output_type": "stream",
     "text": [
      "/Users/Shared/anaconda3/anaconda3/lib/python3.7/site-packages/ipykernel_launcher.py:689: SettingWithCopyWarning: \n",
      "A value is trying to be set on a copy of a slice from a DataFrame.\n",
      "Try using .loc[row_indexer,col_indexer] = value instead\n",
      "\n",
      "See the caveats in the documentation: http://pandas.pydata.org/pandas-docs/stable/indexing.html#indexing-view-versus-copy\n"
     ]
    },
    {
     "name": "stdout",
     "output_type": "stream",
     "text": [
      ">>>>>> buy list (1) : 2018-04-18 00:00:00\n",
      "케이티(A030200) : 1990\n",
      "\n",
      "\n",
      ">>>>>> enough periods (하이트진로홀딩스 : A000140) - (9490 : -0.15) : 366 days 00:00:002018-04-25 00:00:00\n",
      ">>>>>> sell list (1) : 2018-04-25 00:00:00\n",
      "['A000140']\n",
      "\n",
      "\n"
     ]
    },
    {
     "name": "stderr",
     "output_type": "stream",
     "text": [
      "/Users/Shared/anaconda3/anaconda3/lib/python3.7/site-packages/ipykernel_launcher.py:689: SettingWithCopyWarning: \n",
      "A value is trying to be set on a copy of a slice from a DataFrame.\n",
      "Try using .loc[row_indexer,col_indexer] = value instead\n",
      "\n",
      "See the caveats in the documentation: http://pandas.pydata.org/pandas-docs/stable/indexing.html#indexing-view-versus-copy\n"
     ]
    },
    {
     "name": "stdout",
     "output_type": "stream",
     "text": [
      ">>>>>> buy list (1) : 2018-04-25 00:00:00\n",
      "좋은사람들(A033340) : 36708\n",
      "\n",
      "\n",
      ">>>>>> enough profit (한국석유공업 : A004090) - (185000 : 0.71) : 2018-05-02 00:00:00\n",
      ">>>>>> sell list (1) : 2018-05-02 00:00:00\n",
      "['A004090']\n",
      "\n",
      "\n"
     ]
    },
    {
     "name": "stderr",
     "output_type": "stream",
     "text": [
      "/Users/Shared/anaconda3/anaconda3/lib/python3.7/site-packages/ipykernel_launcher.py:689: SettingWithCopyWarning: \n",
      "A value is trying to be set on a copy of a slice from a DataFrame.\n",
      "Try using .loc[row_indexer,col_indexer] = value instead\n",
      "\n",
      "See the caveats in the documentation: http://pandas.pydata.org/pandas-docs/stable/indexing.html#indexing-view-versus-copy\n"
     ]
    },
    {
     "name": "stdout",
     "output_type": "stream",
     "text": [
      ">>>>>> buy list (1) : 2018-05-02 00:00:00\n",
      "웅진씽크빅(A095720) : 6460\n",
      "\n",
      "\n",
      ">>>>>> enough periods (LG전자 : A066570) - (97700 : 0.28) : 366 days 00:00:002018-05-11 00:00:00\n",
      ">>>>>> sell list (1) : 2018-05-11 00:00:00\n",
      "['A066570']\n",
      "\n",
      "\n"
     ]
    },
    {
     "name": "stderr",
     "output_type": "stream",
     "text": [
      "/Users/Shared/anaconda3/anaconda3/lib/python3.7/site-packages/ipykernel_launcher.py:689: SettingWithCopyWarning: \n",
      "A value is trying to be set on a copy of a slice from a DataFrame.\n",
      "Try using .loc[row_indexer,col_indexer] = value instead\n",
      "\n",
      "See the caveats in the documentation: http://pandas.pydata.org/pandas-docs/stable/indexing.html#indexing-view-versus-copy\n"
     ]
    },
    {
     "name": "stdout",
     "output_type": "stream",
     "text": [
      ">>>>>> buy list (1) : 2018-05-11 00:00:00\n",
      "파인디지털(A038950) : 24790\n",
      "\n",
      "\n",
      ">>>>>> enough periods (신원 : A009270) - (3230 : 0.29) : 367 days 00:00:002018-05-14 00:00:00\n",
      ">>>>>> sell list (1) : 2018-05-14 00:00:00\n",
      "['A009270']\n",
      "\n",
      "\n"
     ]
    },
    {
     "name": "stderr",
     "output_type": "stream",
     "text": [
      "/Users/Shared/anaconda3/anaconda3/lib/python3.7/site-packages/ipykernel_launcher.py:689: SettingWithCopyWarning: \n",
      "A value is trying to be set on a copy of a slice from a DataFrame.\n",
      "Try using .loc[row_indexer,col_indexer] = value instead\n",
      "\n",
      "See the caveats in the documentation: http://pandas.pydata.org/pandas-docs/stable/indexing.html#indexing-view-versus-copy\n"
     ]
    },
    {
     "name": "stdout",
     "output_type": "stream",
     "text": [
      ">>>>>> buy list (1) : 2018-05-14 00:00:00\n",
      "하이트진로홀딩스(A000140) : 1640\n",
      "\n",
      "\n",
      ">>>>>> enough periods (신영와코루 : A005800) - (131500 : -0.18) : 366 days 00:00:002018-05-16 00:00:00\n",
      ">>>>>> sell list (1) : 2018-05-16 00:00:00\n",
      "['A005800']\n",
      "\n",
      "\n"
     ]
    },
    {
     "name": "stderr",
     "output_type": "stream",
     "text": [
      "/Users/Shared/anaconda3/anaconda3/lib/python3.7/site-packages/ipykernel_launcher.py:689: SettingWithCopyWarning: \n",
      "A value is trying to be set on a copy of a slice from a DataFrame.\n",
      "Try using .loc[row_indexer,col_indexer] = value instead\n",
      "\n",
      "See the caveats in the documentation: http://pandas.pydata.org/pandas-docs/stable/indexing.html#indexing-view-versus-copy\n"
     ]
    },
    {
     "name": "stdout",
     "output_type": "stream",
     "text": [
      ">>>>>> buy list (1) : 2018-05-16 00:00:00\n",
      "아이즈비전(A031310) : 1782\n",
      "\n",
      "\n",
      ">>>>>> enough profit (메가스터디 : A072870) - (15501 : 0.51) : 2018-05-21 00:00:00\n",
      ">>>>>> sell list (1) : 2018-05-21 00:00:00\n",
      "['A072870']\n",
      "\n",
      "\n"
     ]
    },
    {
     "name": "stderr",
     "output_type": "stream",
     "text": [
      "/Users/Shared/anaconda3/anaconda3/lib/python3.7/site-packages/ipykernel_launcher.py:689: SettingWithCopyWarning: \n",
      "A value is trying to be set on a copy of a slice from a DataFrame.\n",
      "Try using .loc[row_indexer,col_indexer] = value instead\n",
      "\n",
      "See the caveats in the documentation: http://pandas.pydata.org/pandas-docs/stable/indexing.html#indexing-view-versus-copy\n"
     ]
    },
    {
     "name": "stdout",
     "output_type": "stream",
     "text": [
      ">>>>>> buy list (1) : 2018-05-21 00:00:00\n",
      "신영와코루(A005800) : 190\n",
      "\n",
      "\n",
      ">>>>>> enough periods (사조대림 : A003960) - (25450 : -0.14) : 366 days 00:00:002018-06-29 00:00:00\n",
      ">>>>>> sell list (1) : 2018-06-29 00:00:00\n",
      "['A003960']\n",
      "\n",
      "\n"
     ]
    },
    {
     "name": "stderr",
     "output_type": "stream",
     "text": [
      "/Users/Shared/anaconda3/anaconda3/lib/python3.7/site-packages/ipykernel_launcher.py:689: SettingWithCopyWarning: \n",
      "A value is trying to be set on a copy of a slice from a DataFrame.\n",
      "Try using .loc[row_indexer,col_indexer] = value instead\n",
      "\n",
      "See the caveats in the documentation: http://pandas.pydata.org/pandas-docs/stable/indexing.html#indexing-view-versus-copy\n"
     ]
    },
    {
     "name": "stdout",
     "output_type": "stream",
     "text": [
      ">>>>>> buy list (1) : 2018-06-29 00:00:00\n",
      "신원(A009270) : 1766\n",
      "\n",
      "\n",
      ">>>>>> enough profit (샘표 : A007540) - (48350 : 0.53) : 2018-07-09 00:00:00\n",
      ">>>>>> sell list (1) : 2018-07-09 00:00:00\n",
      "['A007540']\n",
      "\n",
      "\n"
     ]
    },
    {
     "name": "stderr",
     "output_type": "stream",
     "text": [
      "/Users/Shared/anaconda3/anaconda3/lib/python3.7/site-packages/ipykernel_launcher.py:689: SettingWithCopyWarning: \n",
      "A value is trying to be set on a copy of a slice from a DataFrame.\n",
      "Try using .loc[row_indexer,col_indexer] = value instead\n",
      "\n",
      "See the caveats in the documentation: http://pandas.pydata.org/pandas-docs/stable/indexing.html#indexing-view-versus-copy\n"
     ]
    },
    {
     "name": "stdout",
     "output_type": "stream",
     "text": [
      ">>>>>> buy list (1) : 2018-07-09 00:00:00\n",
      "세중(A039310) : 16936\n",
      "\n",
      "\n",
      ">>>>>> enough profit (디아이동일 : A001530) - (85238 : 0.59) : 2018-09-05 00:00:00\n",
      ">>>>>> enough periods (진도 : A088790) - (5300.0 : -0.09) : 366 days 00:00:002018-09-05 00:00:00\n",
      ">>>>>> sell list (2) : 2018-09-05 00:00:00\n",
      "['A001530', 'A088790']\n",
      "\n",
      "\n",
      ">>>>>> buy list (2) : 2018-09-05 00:00:00\n",
      "샘표(A007540) : 1622\n",
      "매일홀딩스(A005990) : 4128\n",
      "\n",
      "\n"
     ]
    },
    {
     "name": "stderr",
     "output_type": "stream",
     "text": [
      "/Users/Shared/anaconda3/anaconda3/lib/python3.7/site-packages/ipykernel_launcher.py:689: SettingWithCopyWarning: \n",
      "A value is trying to be set on a copy of a slice from a DataFrame.\n",
      "Try using .loc[row_indexer,col_indexer] = value instead\n",
      "\n",
      "See the caveats in the documentation: http://pandas.pydata.org/pandas-docs/stable/indexing.html#indexing-view-versus-copy\n"
     ]
    },
    {
     "name": "stdout",
     "output_type": "stream",
     "text": [
      ">>>>>> enough periods (남양유업 : A003920) - (634000 : -0.04) : 366 days 00:00:002018-09-12 00:00:00\n",
      ">>>>>> enough periods (대한제분 : A001130) - (174500 : -0.03) : 366 days 00:00:002018-09-12 00:00:00\n",
      ">>>>>> sell list (2) : 2018-09-12 00:00:00\n",
      "['A003920', 'A001130']\n",
      "\n",
      "\n",
      ">>>>>> buy list (2) : 2018-09-12 00:00:00\n",
      "디아이동일(A001530) : 3592\n",
      "진도(A088790) : 54279\n",
      "\n",
      "\n"
     ]
    },
    {
     "name": "stderr",
     "output_type": "stream",
     "text": [
      "/Users/Shared/anaconda3/anaconda3/lib/python3.7/site-packages/ipykernel_launcher.py:689: SettingWithCopyWarning: \n",
      "A value is trying to be set on a copy of a slice from a DataFrame.\n",
      "Try using .loc[row_indexer,col_indexer] = value instead\n",
      "\n",
      "See the caveats in the documentation: http://pandas.pydata.org/pandas-docs/stable/indexing.html#indexing-view-versus-copy\n"
     ]
    },
    {
     "name": "stdout",
     "output_type": "stream",
     "text": [
      ">>>>>> enough periods (대상홀딩스 : A084690) - (8200 : -0.11) : 366 days 00:00:002018-09-21 00:00:00\n",
      ">>>>>> sell list (1) : 2018-09-21 00:00:00\n",
      "['A084690']\n",
      "\n",
      "\n",
      ">>>>>> buy list (1) : 2018-09-21 00:00:00\n",
      "대한제분(A001130) : 45\n",
      "\n",
      "\n"
     ]
    },
    {
     "name": "stderr",
     "output_type": "stream",
     "text": [
      "/Users/Shared/anaconda3/anaconda3/lib/python3.7/site-packages/ipykernel_launcher.py:689: SettingWithCopyWarning: \n",
      "A value is trying to be set on a copy of a slice from a DataFrame.\n",
      "Try using .loc[row_indexer,col_indexer] = value instead\n",
      "\n",
      "See the caveats in the documentation: http://pandas.pydata.org/pandas-docs/stable/indexing.html#indexing-view-versus-copy\n"
     ]
    },
    {
     "name": "stdout",
     "output_type": "stream",
     "text": [
      ">>>>>> enough periods (네오위즈홀딩스 : A042420) - (11650 : -0.1) : 366 days 00:00:002018-11-28 00:00:00\n",
      ">>>>>> sell list (1) : 2018-11-28 00:00:00\n",
      "['A042420']\n",
      "\n",
      "\n",
      ">>>>>> buy list (1) : 2018-11-28 00:00:00\n",
      "한성기업(A003680) : 588\n",
      "\n",
      "\n"
     ]
    },
    {
     "name": "stderr",
     "output_type": "stream",
     "text": [
      "/Users/Shared/anaconda3/anaconda3/lib/python3.7/site-packages/ipykernel_launcher.py:689: SettingWithCopyWarning: \n",
      "A value is trying to be set on a copy of a slice from a DataFrame.\n",
      "Try using .loc[row_indexer,col_indexer] = value instead\n",
      "\n",
      "See the caveats in the documentation: http://pandas.pydata.org/pandas-docs/stable/indexing.html#indexing-view-versus-copy\n"
     ]
    },
    {
     "name": "stdout",
     "output_type": "stream",
     "text": [
      ">>>>>> enough periods (롯데쇼핑 : A023530) - (195000.0 : -0.16) : 366 days 00:00:002019-01-25 00:00:00\n",
      ">>>>>> sell list (1) : 2019-01-25 00:00:00\n",
      "['A023530']\n",
      "\n",
      "\n",
      ">>>>>> buy list (1) : 2019-01-25 00:00:00\n",
      "티비에이치글로벌(A084870) : 1928\n",
      "\n",
      "\n"
     ]
    },
    {
     "name": "stderr",
     "output_type": "stream",
     "text": [
      "/Users/Shared/anaconda3/anaconda3/lib/python3.7/site-packages/ipykernel_launcher.py:689: SettingWithCopyWarning: \n",
      "A value is trying to be set on a copy of a slice from a DataFrame.\n",
      "Try using .loc[row_indexer,col_indexer] = value instead\n",
      "\n",
      "See the caveats in the documentation: http://pandas.pydata.org/pandas-docs/stable/indexing.html#indexing-view-versus-copy\n"
     ]
    },
    {
     "name": "stdout",
     "output_type": "stream",
     "text": [
      ">>>>>> enough periods (대현 : A016090) - (2555 : -0.09) : 370 days 00:00:002019-02-07 00:00:00\n",
      ">>>>>> sell list (1) : 2019-02-07 00:00:00\n",
      "['A016090']\n",
      "\n",
      "\n",
      ">>>>>> buy list (1) : 2019-02-07 00:00:00\n",
      "GST(A083450) : 2447\n",
      "\n",
      "\n"
     ]
    },
    {
     "name": "stderr",
     "output_type": "stream",
     "text": [
      "/Users/Shared/anaconda3/anaconda3/lib/python3.7/site-packages/ipykernel_launcher.py:689: SettingWithCopyWarning: \n",
      "A value is trying to be set on a copy of a slice from a DataFrame.\n",
      "Try using .loc[row_indexer,col_indexer] = value instead\n",
      "\n",
      "See the caveats in the documentation: http://pandas.pydata.org/pandas-docs/stable/indexing.html#indexing-view-versus-copy\n"
     ]
    },
    {
     "name": "stdout",
     "output_type": "stream",
     "text": [
      ">>>>>> enough periods (태광산업 : A003240) - (1545000 : 0.23) : 366 days 00:00:002019-02-22 00:00:00\n",
      ">>>>>> sell list (1) : 2019-02-22 00:00:00\n",
      "['A003240']\n",
      "\n",
      "\n",
      ">>>>>> buy list (1) : 2019-02-22 00:00:00\n",
      "대현(A016090) : 40228\n",
      "\n",
      "\n"
     ]
    },
    {
     "name": "stderr",
     "output_type": "stream",
     "text": [
      "/Users/Shared/anaconda3/anaconda3/lib/python3.7/site-packages/ipykernel_launcher.py:689: SettingWithCopyWarning: \n",
      "A value is trying to be set on a copy of a slice from a DataFrame.\n",
      "Try using .loc[row_indexer,col_indexer] = value instead\n",
      "\n",
      "See the caveats in the documentation: http://pandas.pydata.org/pandas-docs/stable/indexing.html#indexing-view-versus-copy\n"
     ]
    },
    {
     "name": "stdout",
     "output_type": "stream",
     "text": [
      ">>>>>> enough periods (신성통상 : A005390) - (934 : -0.25) : 366 days 00:00:002019-03-06 00:00:00\n",
      ">>>>>> sell list (1) : 2019-03-06 00:00:00\n",
      "['A005390']\n",
      "\n",
      "\n",
      ">>>>>> buy list (1) : 2019-03-06 00:00:00\n",
      "부방(A014470) : 39390\n",
      "\n",
      "\n"
     ]
    },
    {
     "name": "stderr",
     "output_type": "stream",
     "text": [
      "/Users/Shared/anaconda3/anaconda3/lib/python3.7/site-packages/ipykernel_launcher.py:689: SettingWithCopyWarning: \n",
      "A value is trying to be set on a copy of a slice from a DataFrame.\n",
      "Try using .loc[row_indexer,col_indexer] = value instead\n",
      "\n",
      "See the caveats in the documentation: http://pandas.pydata.org/pandas-docs/stable/indexing.html#indexing-view-versus-copy\n"
     ]
    },
    {
     "name": "stdout",
     "output_type": "stream",
     "text": [
      ">>>>>> enough profit (GST : A083450) - (8030.0 : 0.5) : 2019-04-03 00:00:00\n",
      ">>>>>> sell list (1) : 2019-04-03 00:00:00\n",
      "['A083450']\n",
      "\n",
      "\n",
      ">>>>>> buy list (1) : 2019-04-03 00:00:00\n",
      "팅크웨어(A084730) : 2535\n",
      "\n",
      "\n"
     ]
    },
    {
     "name": "stderr",
     "output_type": "stream",
     "text": [
      "/Users/Shared/anaconda3/anaconda3/lib/python3.7/site-packages/ipykernel_launcher.py:689: SettingWithCopyWarning: \n",
      "A value is trying to be set on a copy of a slice from a DataFrame.\n",
      "Try using .loc[row_indexer,col_indexer] = value instead\n",
      "\n",
      "See the caveats in the documentation: http://pandas.pydata.org/pandas-docs/stable/indexing.html#indexing-view-versus-copy\n"
     ]
    },
    {
     "name": "stdout",
     "output_type": "stream",
     "text": [
      ">>>>>> enough periods (남영비비안 : A002070) - (6370 : -0.11) : 367 days 00:00:002019-04-08 00:00:00\n",
      ">>>>>> sell list (1) : 2019-04-08 00:00:00\n",
      "['A002070']\n",
      "\n",
      "\n",
      ">>>>>> buy list (1) : 2019-04-08 00:00:00\n",
      "GST(A083450) : 790\n",
      "\n",
      "\n"
     ]
    },
    {
     "name": "stderr",
     "output_type": "stream",
     "text": [
      "/Users/Shared/anaconda3/anaconda3/lib/python3.7/site-packages/ipykernel_launcher.py:689: SettingWithCopyWarning: \n",
      "A value is trying to be set on a copy of a slice from a DataFrame.\n",
      "Try using .loc[row_indexer,col_indexer] = value instead\n",
      "\n",
      "See the caveats in the documentation: http://pandas.pydata.org/pandas-docs/stable/indexing.html#indexing-view-versus-copy\n"
     ]
    },
    {
     "name": "stdout",
     "output_type": "stream",
     "text": [
      ">>>>>> enough periods (케이티 : A030200) - (27600 : 0.02) : 366 days 00:00:002019-04-19 00:00:00\n",
      ">>>>>> sell list (1) : 2019-04-19 00:00:00\n",
      "['A030200']\n",
      "\n",
      "\n",
      ">>>>>> buy list (1) : 2019-04-19 00:00:00\n",
      "남영비비안(A002070) : 8197\n",
      "\n",
      "\n"
     ]
    },
    {
     "name": "stderr",
     "output_type": "stream",
     "text": [
      "/Users/Shared/anaconda3/anaconda3/lib/python3.7/site-packages/ipykernel_launcher.py:689: SettingWithCopyWarning: \n",
      "A value is trying to be set on a copy of a slice from a DataFrame.\n",
      "Try using .loc[row_indexer,col_indexer] = value instead\n",
      "\n",
      "See the caveats in the documentation: http://pandas.pydata.org/pandas-docs/stable/indexing.html#indexing-view-versus-copy\n"
     ]
    },
    {
     "name": "stdout",
     "output_type": "stream",
     "text": [
      ">>>>>> enough periods (좋은사람들 : A033340) - (3490 : -0.39) : 366 days 00:00:002019-04-26 00:00:00\n",
      ">>>>>> sell list (1) : 2019-04-26 00:00:00\n",
      "['A033340']\n",
      "\n",
      "\n",
      ">>>>>> buy list (1) : 2019-04-26 00:00:00\n",
      "케이티(A030200) : 4667\n",
      "\n",
      "\n"
     ]
    },
    {
     "name": "stderr",
     "output_type": "stream",
     "text": [
      "/Users/Shared/anaconda3/anaconda3/lib/python3.7/site-packages/ipykernel_launcher.py:689: SettingWithCopyWarning: \n",
      "A value is trying to be set on a copy of a slice from a DataFrame.\n",
      "Try using .loc[row_indexer,col_indexer] = value instead\n",
      "\n",
      "See the caveats in the documentation: http://pandas.pydata.org/pandas-docs/stable/indexing.html#indexing-view-versus-copy\n"
     ]
    },
    {
     "name": "stdout",
     "output_type": "stream",
     "text": [
      ">>>>>> enough periods (웅진씽크빅 : A095720) - (2995.0 : -0.49) : 366 days 00:00:002019-05-03 00:00:00\n",
      ">>>>>> sell list (1) : 2019-05-03 00:00:00\n",
      "['A095720']\n",
      "\n",
      "\n",
      ">>>>>> buy list (1) : 2019-05-03 00:00:00\n",
      "LF(A093050) : 760\n",
      "\n",
      "\n"
     ]
    },
    {
     "name": "stderr",
     "output_type": "stream",
     "text": [
      "/Users/Shared/anaconda3/anaconda3/lib/python3.7/site-packages/ipykernel_launcher.py:689: SettingWithCopyWarning: \n",
      "A value is trying to be set on a copy of a slice from a DataFrame.\n",
      "Try using .loc[row_indexer,col_indexer] = value instead\n",
      "\n",
      "See the caveats in the documentation: http://pandas.pydata.org/pandas-docs/stable/indexing.html#indexing-view-versus-copy\n"
     ]
    },
    {
     "name": "stdout",
     "output_type": "stream",
     "text": [
      ">>>>>> enough profit (샘표 : A007540) - (56600 : 0.54) : 2019-05-09 00:00:00\n",
      ">>>>>> sell list (1) : 2019-05-09 00:00:00\n",
      "['A007540']\n",
      "\n",
      "\n",
      ">>>>>> buy list (1) : 2019-05-09 00:00:00\n",
      "웅진씽크빅(A095720) : 32048\n",
      "\n",
      "\n"
     ]
    },
    {
     "name": "stderr",
     "output_type": "stream",
     "text": [
      "/Users/Shared/anaconda3/anaconda3/lib/python3.7/site-packages/ipykernel_launcher.py:689: SettingWithCopyWarning: \n",
      "A value is trying to be set on a copy of a slice from a DataFrame.\n",
      "Try using .loc[row_indexer,col_indexer] = value instead\n",
      "\n",
      "See the caveats in the documentation: http://pandas.pydata.org/pandas-docs/stable/indexing.html#indexing-view-versus-copy\n"
     ]
    },
    {
     "name": "stdout",
     "output_type": "stream",
     "text": [
      ">>>>>> enough periods (파인디지털 : A038950) - (4420 : -0.07) : 367 days 00:00:002019-05-13 00:00:00\n",
      ">>>>>> sell list (1) : 2019-05-13 00:00:00\n",
      "['A038950']\n",
      "\n",
      "\n",
      ">>>>>> buy list (1) : 2019-05-13 00:00:00\n",
      "NE능률(A053290) : 36162\n",
      "\n",
      "\n"
     ]
    },
    {
     "name": "stderr",
     "output_type": "stream",
     "text": [
      "/Users/Shared/anaconda3/anaconda3/lib/python3.7/site-packages/ipykernel_launcher.py:689: SettingWithCopyWarning: \n",
      "A value is trying to be set on a copy of a slice from a DataFrame.\n",
      "Try using .loc[row_indexer,col_indexer] = value instead\n",
      "\n",
      "See the caveats in the documentation: http://pandas.pydata.org/pandas-docs/stable/indexing.html#indexing-view-versus-copy\n",
      "/Users/Shared/anaconda3/anaconda3/lib/python3.7/site-packages/ipykernel_launcher.py:689: SettingWithCopyWarning: \n",
      "A value is trying to be set on a copy of a slice from a DataFrame.\n",
      "Try using .loc[row_indexer,col_indexer] = value instead\n",
      "\n",
      "See the caveats in the documentation: http://pandas.pydata.org/pandas-docs/stable/indexing.html#indexing-view-versus-copy\n"
     ]
    },
    {
     "name": "stdout",
     "output_type": "stream",
     "text": [
      ">>>>>> enough profit (아이즈비전 : A031310) - (7500 : 0.66) : 2019-05-14 00:00:00\n",
      ">>>>>> sell list (1) : 2019-05-14 00:00:00\n",
      "['A031310']\n",
      "\n",
      "\n",
      ">>>>>> buy list (1) : 2019-05-14 00:00:00\n",
      "파인디지털(A038950) : 3020\n",
      "\n",
      "\n",
      ">>>>>> enough periods (하이트진로홀딩스 : A000140) - (9490 : 0.0) : 366 days 00:00:002019-05-15 00:00:00\n",
      ">>>>>> sell list (1) : 2019-05-15 00:00:00\n",
      "['A000140']\n",
      "\n",
      "\n"
     ]
    },
    {
     "name": "stderr",
     "output_type": "stream",
     "text": [
      "/Users/Shared/anaconda3/anaconda3/lib/python3.7/site-packages/ipykernel_launcher.py:689: SettingWithCopyWarning: \n",
      "A value is trying to be set on a copy of a slice from a DataFrame.\n",
      "Try using .loc[row_indexer,col_indexer] = value instead\n",
      "\n",
      "See the caveats in the documentation: http://pandas.pydata.org/pandas-docs/stable/indexing.html#indexing-view-versus-copy\n"
     ]
    },
    {
     "name": "stdout",
     "output_type": "stream",
     "text": [
      ">>>>>> buy list (1) : 2019-05-15 00:00:00\n",
      "샘표(A007540) : 285\n",
      "\n",
      "\n",
      ">>>>>> enough periods (신영와코루 : A005800) - (122000 : -0.09) : 366 days 00:00:002019-05-22 00:00:00\n",
      ">>>>>> sell list (1) : 2019-05-22 00:00:00\n",
      "['A005800']\n",
      "\n",
      "\n"
     ]
    },
    {
     "name": "stderr",
     "output_type": "stream",
     "text": [
      "/Users/Shared/anaconda3/anaconda3/lib/python3.7/site-packages/ipykernel_launcher.py:689: SettingWithCopyWarning: \n",
      "A value is trying to be set on a copy of a slice from a DataFrame.\n",
      "Try using .loc[row_indexer,col_indexer] = value instead\n",
      "\n",
      "See the caveats in the documentation: http://pandas.pydata.org/pandas-docs/stable/indexing.html#indexing-view-versus-copy\n"
     ]
    },
    {
     "name": "stdout",
     "output_type": "stream",
     "text": [
      ">>>>>> buy list (1) : 2019-05-22 00:00:00\n",
      "롯데쇼핑(A023530) : 143\n",
      "\n",
      "\n",
      ">>>>>> enough periods (신원 : A009270) - (2500 : 0.13) : 367 days 00:00:002019-07-01 00:00:00\n",
      ">>>>>> sell list (1) : 2019-07-01 00:00:00\n",
      "['A009270']\n",
      "\n",
      "\n",
      ">>>>>> buy list (1) : 2019-07-01 00:00:00\n",
      "신영와코루(A005800) : 37\n",
      "\n",
      "\n"
     ]
    },
    {
     "name": "stderr",
     "output_type": "stream",
     "text": [
      "/Users/Shared/anaconda3/anaconda3/lib/python3.7/site-packages/ipykernel_launcher.py:689: SettingWithCopyWarning: \n",
      "A value is trying to be set on a copy of a slice from a DataFrame.\n",
      "Try using .loc[row_indexer,col_indexer] = value instead\n",
      "\n",
      "See the caveats in the documentation: http://pandas.pydata.org/pandas-docs/stable/indexing.html#indexing-view-versus-copy\n"
     ]
    },
    {
     "name": "stdout",
     "output_type": "stream",
     "text": [
      ">>>>>> enough periods (세중 : A039310) - (3470 : 0.01) : 366 days 00:00:002019-07-10 00:00:00\n",
      ">>>>>> sell list (1) : 2019-07-10 00:00:00\n",
      "['A039310']\n",
      "\n",
      "\n",
      ">>>>>> buy list (1) : 2019-07-10 00:00:00\n",
      "대상홀딩스(A084690) : 8257\n",
      "\n",
      "\n"
     ]
    },
    {
     "name": "stderr",
     "output_type": "stream",
     "text": [
      "/Users/Shared/anaconda3/anaconda3/lib/python3.7/site-packages/ipykernel_launcher.py:689: SettingWithCopyWarning: \n",
      "A value is trying to be set on a copy of a slice from a DataFrame.\n",
      "Try using .loc[row_indexer,col_indexer] = value instead\n",
      "\n",
      "See the caveats in the documentation: http://pandas.pydata.org/pandas-docs/stable/indexing.html#indexing-view-versus-copy\n"
     ]
    },
    {
     "name": "stdout",
     "output_type": "stream",
     "text": [
      ">>>>>> enough profit (남영비비안 : A002070) - (11900 : 0.78) : 2019-07-24 00:00:00\n",
      ">>>>>> sell list (1) : 2019-07-24 00:00:00\n",
      "['A002070']\n",
      "\n",
      "\n",
      ">>>>>> buy list (1) : 2019-07-24 00:00:00\n",
      "하이트진로홀딩스(A000140) : 10355\n",
      "\n",
      "\n"
     ]
    },
    {
     "name": "stderr",
     "output_type": "stream",
     "text": [
      "/Users/Shared/anaconda3/anaconda3/lib/python3.7/site-packages/ipykernel_launcher.py:689: SettingWithCopyWarning: \n",
      "A value is trying to be set on a copy of a slice from a DataFrame.\n",
      "Try using .loc[row_indexer,col_indexer] = value instead\n",
      "\n",
      "See the caveats in the documentation: http://pandas.pydata.org/pandas-docs/stable/indexing.html#indexing-view-versus-copy\n"
     ]
    },
    {
     "name": "stdout",
     "output_type": "stream",
     "text": [
      ">>>>>> enough periods (매일홀딩스 : A005990) - (13000 : -0.1) : 366 days 00:00:002019-09-06 00:00:00\n",
      ">>>>>> sell list (1) : 2019-09-06 00:00:00\n",
      "['A005990']\n",
      "\n",
      "\n",
      ">>>>>> buy list (1) : 2019-09-06 00:00:00\n",
      "남영비비안(A002070) : 2964\n",
      "\n",
      "\n"
     ]
    },
    {
     "name": "stderr",
     "output_type": "stream",
     "text": [
      "/Users/Shared/anaconda3/anaconda3/lib/python3.7/site-packages/ipykernel_launcher.py:689: SettingWithCopyWarning: \n",
      "A value is trying to be set on a copy of a slice from a DataFrame.\n",
      "Try using .loc[row_indexer,col_indexer] = value instead\n",
      "\n",
      "See the caveats in the documentation: http://pandas.pydata.org/pandas-docs/stable/indexing.html#indexing-view-versus-copy\n"
     ]
    },
    {
     "name": "stdout",
     "output_type": "stream",
     "text": [
      ">>>>>> enough periods (디아이동일 : A001530) - (76600 : -0.04) : 369 days 00:00:002019-09-16 00:00:00\n",
      ">>>>>> enough periods (진도 : A088790) - (3735.0 : -0.29) : 369 days 00:00:002019-09-16 00:00:00\n",
      ">>>>>> sell list (2) : 2019-09-16 00:00:00\n",
      "['A001530', 'A088790']\n",
      "\n",
      "\n",
      ">>>>>> buy list (2) : 2019-09-16 00:00:00\n",
      "매일홀딩스(A005990) : 18102\n",
      "태광산업(A003240) : 204\n",
      "\n",
      "\n"
     ]
    },
    {
     "name": "stderr",
     "output_type": "stream",
     "text": [
      "/Users/Shared/anaconda3/anaconda3/lib/python3.7/site-packages/ipykernel_launcher.py:689: SettingWithCopyWarning: \n",
      "A value is trying to be set on a copy of a slice from a DataFrame.\n",
      "Try using .loc[row_indexer,col_indexer] = value instead\n",
      "\n",
      "See the caveats in the documentation: http://pandas.pydata.org/pandas-docs/stable/indexing.html#indexing-view-versus-copy\n"
     ]
    },
    {
     "name": "stdout",
     "output_type": "stream",
     "text": [
      ">>>>>> enough periods (대한제분 : A001130) - (167000 : -0.06) : 367 days 00:00:002019-09-23 00:00:00\n",
      ">>>>>> sell list (1) : 2019-09-23 00:00:00\n",
      "['A001130']\n",
      "\n",
      "\n",
      ">>>>>> buy list (1) : 2019-09-23 00:00:00\n",
      "디아이동일(A001530) : 103\n",
      "\n",
      "\n"
     ]
    },
    {
     "name": "stderr",
     "output_type": "stream",
     "text": [
      "/Users/Shared/anaconda3/anaconda3/lib/python3.7/site-packages/ipykernel_launcher.py:689: SettingWithCopyWarning: \n",
      "A value is trying to be set on a copy of a slice from a DataFrame.\n",
      "Try using .loc[row_indexer,col_indexer] = value instead\n",
      "\n",
      "See the caveats in the documentation: http://pandas.pydata.org/pandas-docs/stable/indexing.html#indexing-view-versus-copy\n",
      "/Users/Shared/anaconda3/anaconda3/lib/python3.7/site-packages/ipykernel_launcher.py:689: SettingWithCopyWarning: \n",
      "A value is trying to be set on a copy of a slice from a DataFrame.\n",
      "Try using .loc[row_indexer,col_indexer] = value instead\n",
      "\n",
      "See the caveats in the documentation: http://pandas.pydata.org/pandas-docs/stable/indexing.html#indexing-view-versus-copy\n"
     ]
    },
    {
     "name": "stdout",
     "output_type": "stream",
     "text": [
      ">>>>>> initial buy list (20) : 2008-06-02 00:00:00\n",
      "동화약품(A000020) : 410\n",
      "KR모터스(A000040) : 5235\n",
      "경방(A000050) : 438\n",
      "삼양홀딩스(A000070) : 94\n",
      "유한양행(A000100) : 32\n",
      "CJ대한통운(A000120) : 59\n",
      "하이트진로홀딩스(A000140) : 80\n",
      "두산(A000150) : 29\n",
      "대림산업(A000210) : 41\n",
      "유유제약(A000220) : 363\n",
      "일동홀딩스(A000230) : 565\n",
      "한국테크놀로지그룹(A000240) : 666\n",
      "삼천당제약(A000250) : 1445\n",
      "대유플러스(A000300) : 2695\n",
      "노루홀딩스(A000320) : 628\n",
      "삼화페인트공업(A000390) : 1461\n",
      "대원강업(A000430) : 2460\n",
      "중앙에너비스(A000440) : 1085\n",
      "조선내화(A000480) : 51\n",
      "가온전선(A000500) : 141\n",
      "\n",
      "\n",
      ">>>>>> enough profit (대유플러스 : A000300) - (2854 : 0.54) : 2008-06-27 00:00:00\n",
      ">>>>>> sell list (1) : 2008-06-27 00:00:00\n",
      "['A000300']\n",
      "\n",
      "\n"
     ]
    },
    {
     "name": "stderr",
     "output_type": "stream",
     "text": [
      "/Users/Shared/anaconda3/anaconda3/lib/python3.7/site-packages/ipykernel_launcher.py:689: SettingWithCopyWarning: \n",
      "A value is trying to be set on a copy of a slice from a DataFrame.\n",
      "Try using .loc[row_indexer,col_indexer] = value instead\n",
      "\n",
      "See the caveats in the documentation: http://pandas.pydata.org/pandas-docs/stable/indexing.html#indexing-view-versus-copy\n"
     ]
    },
    {
     "name": "stdout",
     "output_type": "stream",
     "text": [
      ">>>>>> buy list (1) : 2008-06-27 00:00:00\n",
      "삼일제약(A000520) : 761\n",
      "\n",
      "\n",
      ">>>>>> enough periods (동화약품 : A000020) - (9380 : -0.23) : 366 days 00:00:002009-06-03 00:00:00\n",
      ">>>>>> enough periods (KR모터스 : A000040) - (790 : -0.17) : 366 days 00:00:002009-06-03 00:00:00\n",
      ">>>>>> enough periods (경방 : A000050) - (12506 : 0.1) : 366 days 00:00:002009-06-03 00:00:00\n",
      ">>>>>> enough periods (삼양홀딩스 : A000070) - (40702 : -0.23) : 366 days 00:00:002009-06-03 00:00:00\n",
      ">>>>>> enough periods (유한양행 : A000100) - (142749 : -0.08) : 366 days 00:00:002009-06-03 00:00:00\n",
      ">>>>>> enough periods (CJ대한통운 : A000120) - (92900 : 0.1) : 366 days 00:00:002009-06-03 00:00:00\n",
      ">>>>>> enough periods (하이트진로홀딩스 : A000140) - (28650 : -0.54) : 366 days 00:00:002009-06-03 00:00:00\n",
      ">>>>>> enough periods (두산 : A000150) - (96465 : -0.43) : 366 days 00:00:002009-06-03 00:00:00\n",
      ">>>>>> enough periods (대림산업 : A000210) - (66400 : -0.44) : 366 days 00:00:002009-06-03 00:00:00\n",
      ">>>>>> enough periods (유유제약 : A000220) - (6820 : -0.5) : 366 days 00:00:002009-06-03 00:00:00\n",
      ">>>>>> enough periods (일동홀딩스 : A000230) - (8194 : -0.07) : 366 days 00:00:002009-06-03 00:00:00\n",
      ">>>>>> enough periods (한국테크놀로지그룹 : A000240) - (7329 : -0.02) : 366 days 00:00:002009-06-03 00:00:00\n",
      ">>>>>> enough periods (삼천당제약 : A000250) - (2465 : -0.29) : 366 days 00:00:002009-06-03 00:00:00\n",
      ">>>>>> enough periods (노루홀딩스 : A000320) - (5090 : -0.36) : 366 days 00:00:002009-06-03 00:00:00\n",
      ">>>>>> enough periods (삼화페인트공업 : A000390) - (3600 : 0.05) : 366 days 00:00:002009-06-03 00:00:00\n",
      ">>>>>> enough periods (대원강업 : A000430) - (1529 : -0.25) : 366 days 00:00:002009-06-03 00:00:00\n",
      ">>>>>> enough periods (중앙에너비스 : A000440) - (2883 : -0.37) : 366 days 00:00:002009-06-03 00:00:00\n",
      ">>>>>> enough periods (조선내화 : A000480) - (55500 : -0.43) : 366 days 00:00:002009-06-03 00:00:00\n",
      ">>>>>> enough periods (가온전선 : A000500) - (29591 : -0.16) : 366 days 00:00:002009-06-03 00:00:00\n",
      ">>>>>> sell list (19) : 2009-06-03 00:00:00\n",
      "['A000020', 'A000040', 'A000050', 'A000070', 'A000100', 'A000120', 'A000140', 'A000150', 'A000210', 'A000220', 'A000230', 'A000240', 'A000250', 'A000320', 'A000390', 'A000430', 'A000440', 'A000480', 'A000500']\n",
      "\n",
      "\n"
     ]
    },
    {
     "name": "stderr",
     "output_type": "stream",
     "text": [
      "/Users/Shared/anaconda3/anaconda3/lib/python3.7/site-packages/ipykernel_launcher.py:689: SettingWithCopyWarning: \n",
      "A value is trying to be set on a copy of a slice from a DataFrame.\n",
      "Try using .loc[row_indexer,col_indexer] = value instead\n",
      "\n",
      "See the caveats in the documentation: http://pandas.pydata.org/pandas-docs/stable/indexing.html#indexing-view-versus-copy\n"
     ]
    },
    {
     "name": "stdout",
     "output_type": "stream",
     "text": [
      ">>>>>> buy list (19) : 2009-06-03 00:00:00\n",
      "대유플러스(A000300) : 2114\n",
      "CS홀딩스(A000590) : 104\n",
      "동아쏘시오홀딩스(A000640) : 66\n",
      "천일고속(A000650) : 83\n",
      "영풍(A000670) : 8\n",
      "LS네트웍스(A000680) : 575\n",
      "유수홀딩스(A000700) : 382\n",
      "현대건설(A000720) : 59\n",
      "화천기공(A000850) : 121\n",
      "강남제비스코(A000860) : 252\n",
      "한화(A000880) : 114\n",
      "보해양조(A000890) : 2428\n",
      "유니온(A000910) : 585\n",
      "한국주철관공업(A000970) : 662\n",
      "CJ(A001040) : 83\n",
      "JW중외제약(A001060) : 386\n",
      "만호제강(A001080) : 194\n",
      "LG상사(A001120) : 143\n",
      "금호전기(A001210) : 115\n",
      "\n",
      "\n",
      ">>>>>> enough profit (천일고속 : A000650) - (69000 : 0.51) : 2009-06-16 00:00:00\n",
      ">>>>>> sell list (1) : 2009-06-16 00:00:00\n",
      "['A000650']\n",
      "\n",
      "\n"
     ]
    },
    {
     "name": "stderr",
     "output_type": "stream",
     "text": [
      "/Users/Shared/anaconda3/anaconda3/lib/python3.7/site-packages/ipykernel_launcher.py:689: SettingWithCopyWarning: \n",
      "A value is trying to be set on a copy of a slice from a DataFrame.\n",
      "Try using .loc[row_indexer,col_indexer] = value instead\n",
      "\n",
      "See the caveats in the documentation: http://pandas.pydata.org/pandas-docs/stable/indexing.html#indexing-view-versus-copy\n"
     ]
    },
    {
     "name": "stdout",
     "output_type": "stream",
     "text": [
      ">>>>>> buy list (1) : 2009-06-16 00:00:00\n",
      "동화약품(A000020) : 658\n",
      "\n",
      "\n",
      ">>>>>> enough periods (삼일제약 : A000520) - (6198 : -0.42) : 367 days 00:00:002009-06-29 00:00:00\n",
      ">>>>>> sell list (1) : 2009-06-29 00:00:00\n",
      "['A000520']\n",
      "\n",
      "\n"
     ]
    },
    {
     "name": "stderr",
     "output_type": "stream",
     "text": [
      "/Users/Shared/anaconda3/anaconda3/lib/python3.7/site-packages/ipykernel_launcher.py:689: SettingWithCopyWarning: \n",
      "A value is trying to be set on a copy of a slice from a DataFrame.\n",
      "Try using .loc[row_indexer,col_indexer] = value instead\n",
      "\n",
      "See the caveats in the documentation: http://pandas.pydata.org/pandas-docs/stable/indexing.html#indexing-view-versus-copy\n"
     ]
    },
    {
     "name": "stdout",
     "output_type": "stream",
     "text": [
      ">>>>>> buy list (1) : 2009-06-29 00:00:00\n",
      "유한양행(A000100) : 31\n",
      "\n",
      "\n",
      ">>>>>> enough profit (대유플러스 : A000300) - (2869 : 0.58) : 2009-07-02 00:00:00\n",
      ">>>>>> sell list (1) : 2009-07-02 00:00:00\n",
      "['A000300']\n",
      "\n",
      "\n"
     ]
    },
    {
     "name": "stderr",
     "output_type": "stream",
     "text": [
      "/Users/Shared/anaconda3/anaconda3/lib/python3.7/site-packages/ipykernel_launcher.py:689: SettingWithCopyWarning: \n",
      "A value is trying to be set on a copy of a slice from a DataFrame.\n",
      "Try using .loc[row_indexer,col_indexer] = value instead\n",
      "\n",
      "See the caveats in the documentation: http://pandas.pydata.org/pandas-docs/stable/indexing.html#indexing-view-versus-copy\n"
     ]
    },
    {
     "name": "stdout",
     "output_type": "stream",
     "text": [
      ">>>>>> buy list (1) : 2009-07-02 00:00:00\n",
      "CJ대한통운(A000120) : 76\n",
      "\n",
      "\n",
      ">>>>>> enough profit (JW중외제약 : A001060) - (15518 : 0.56) : 2009-08-21 00:00:00\n",
      ">>>>>> sell list (1) : 2009-08-21 00:00:00\n",
      "['A001060']\n",
      "\n",
      "\n"
     ]
    },
    {
     "name": "stderr",
     "output_type": "stream",
     "text": [
      "/Users/Shared/anaconda3/anaconda3/lib/python3.7/site-packages/ipykernel_launcher.py:689: SettingWithCopyWarning: \n",
      "A value is trying to be set on a copy of a slice from a DataFrame.\n",
      "Try using .loc[row_indexer,col_indexer] = value instead\n",
      "\n",
      "See the caveats in the documentation: http://pandas.pydata.org/pandas-docs/stable/indexing.html#indexing-view-versus-copy\n"
     ]
    },
    {
     "name": "stdout",
     "output_type": "stream",
     "text": [
      ">>>>>> buy list (1) : 2009-08-21 00:00:00\n",
      "하이트진로홀딩스(A000140) : 146\n",
      "\n",
      "\n",
      ">>>>>> enough profit (금호전기 : A001210) - (56719 : 0.7) : 2009-08-28 00:00:00\n",
      ">>>>>> sell list (1) : 2009-08-28 00:00:00\n",
      "['A001210']\n",
      "\n",
      "\n"
     ]
    },
    {
     "name": "stderr",
     "output_type": "stream",
     "text": [
      "/Users/Shared/anaconda3/anaconda3/lib/python3.7/site-packages/ipykernel_launcher.py:689: SettingWithCopyWarning: \n",
      "A value is trying to be set on a copy of a slice from a DataFrame.\n",
      "Try using .loc[row_indexer,col_indexer] = value instead\n",
      "\n",
      "See the caveats in the documentation: http://pandas.pydata.org/pandas-docs/stable/indexing.html#indexing-view-versus-copy\n"
     ]
    },
    {
     "name": "stdout",
     "output_type": "stream",
     "text": [
      ">>>>>> buy list (1) : 2009-08-28 00:00:00\n",
      "대림산업(A000210) : 90\n",
      "\n",
      "\n",
      ">>>>>> enough profit (동아쏘시오홀딩스 : A000640) - (88443 : 0.52) : 2009-12-02 00:00:00\n",
      ">>>>>> sell list (1) : 2009-12-02 00:00:00\n",
      "['A000640']\n",
      "\n",
      "\n"
     ]
    },
    {
     "name": "stderr",
     "output_type": "stream",
     "text": [
      "/Users/Shared/anaconda3/anaconda3/lib/python3.7/site-packages/ipykernel_launcher.py:689: SettingWithCopyWarning: \n",
      "A value is trying to be set on a copy of a slice from a DataFrame.\n",
      "Try using .loc[row_indexer,col_indexer] = value instead\n",
      "\n",
      "See the caveats in the documentation: http://pandas.pydata.org/pandas-docs/stable/indexing.html#indexing-view-versus-copy\n"
     ]
    },
    {
     "name": "stdout",
     "output_type": "stream",
     "text": [
      ">>>>>> buy list (1) : 2009-12-02 00:00:00\n",
      "일동홀딩스(A000230) : 900\n",
      "\n",
      "\n",
      ">>>>>> enough profit (CS홀딩스 : A000590) - (59900 : 0.63) : 2010-01-29 00:00:00\n",
      ">>>>>> sell list (1) : 2010-01-29 00:00:00\n",
      "['A000590']\n",
      "\n",
      "\n"
     ]
    },
    {
     "name": "stderr",
     "output_type": "stream",
     "text": [
      "/Users/Shared/anaconda3/anaconda3/lib/python3.7/site-packages/ipykernel_launcher.py:689: SettingWithCopyWarning: \n",
      "A value is trying to be set on a copy of a slice from a DataFrame.\n",
      "Try using .loc[row_indexer,col_indexer] = value instead\n",
      "\n",
      "See the caveats in the documentation: http://pandas.pydata.org/pandas-docs/stable/indexing.html#indexing-view-versus-copy\n"
     ]
    },
    {
     "name": "stdout",
     "output_type": "stream",
     "text": [
      ">>>>>> buy list (1) : 2010-01-29 00:00:00\n",
      "삼양홀딩스(A000070) : 151\n",
      "\n",
      "\n",
      ">>>>>> enough profit (영풍 : A000670) - (695000 : 0.59) : 2010-03-12 00:00:00\n",
      ">>>>>> sell list (1) : 2010-03-12 00:00:00\n",
      "['A000670']\n",
      "\n",
      "\n"
     ]
    },
    {
     "name": "stderr",
     "output_type": "stream",
     "text": [
      "/Users/Shared/anaconda3/anaconda3/lib/python3.7/site-packages/ipykernel_launcher.py:689: SettingWithCopyWarning: \n",
      "A value is trying to be set on a copy of a slice from a DataFrame.\n",
      "Try using .loc[row_indexer,col_indexer] = value instead\n",
      "\n",
      "See the caveats in the documentation: http://pandas.pydata.org/pandas-docs/stable/indexing.html#indexing-view-versus-copy\n"
     ]
    },
    {
     "name": "stdout",
     "output_type": "stream",
     "text": [
      ">>>>>> buy list (1) : 2010-03-12 00:00:00\n",
      "성창기업지주(A000180) : 2926\n",
      "\n",
      "\n",
      ">>>>>> enough periods (LS네트웍스 : A000680) - (6700 : 0.0) : 366 days 00:00:002010-06-04 00:00:00\n",
      ">>>>>> enough periods (유수홀딩스 : A000700) - (8734 : -0.13) : 366 days 00:00:002010-06-04 00:00:00\n",
      ">>>>>> enough periods (현대건설 : A000720) - (52800 : -0.18) : 366 days 00:00:002010-06-04 00:00:00\n",
      ">>>>>> enough periods (화천기공 : A000850) - (40000 : 0.26) : 366 days 00:00:002010-06-04 00:00:00\n",
      ">>>>>> enough periods (강남제비스코 : A000860) - (13850 : -0.09) : 366 days 00:00:002010-06-04 00:00:00\n",
      ">>>>>> enough periods (한화 : A000880) - (33464 : 0.0) : 366 days 00:00:002010-06-04 00:00:00\n",
      ">>>>>> enough periods (보해양조 : A000890) - (1747 : 0.1) : 366 days 00:00:002010-06-04 00:00:00\n",
      ">>>>>> enough periods (유니온 : A000910) - (4807 : -0.27) : 366 days 00:00:002010-06-04 00:00:00\n",
      ">>>>>> enough periods (한국주철관공업 : A000970) - (4030 : -0.31) : 366 days 00:00:002010-06-04 00:00:00\n",
      ">>>>>> enough periods (CJ : A001040) - (57898 : 0.26) : 366 days 00:00:002010-06-04 00:00:00\n",
      ">>>>>> enough periods (만호제강 : A001080) - (17800 : -0.1) : 366 days 00:00:002010-06-04 00:00:00\n",
      ">>>>>> enough periods (LG상사 : A001120) - (29150 : 0.09) : 366 days 00:00:002010-06-04 00:00:00\n",
      ">>>>>> sell list (12) : 2010-06-04 00:00:00\n",
      "['A000680', 'A000700', 'A000720', 'A000850', 'A000860', 'A000880', 'A000890', 'A000910', 'A000970', 'A001040', 'A001080', 'A001120']\n",
      "\n",
      "\n"
     ]
    },
    {
     "name": "stderr",
     "output_type": "stream",
     "text": [
      "/Users/Shared/anaconda3/anaconda3/lib/python3.7/site-packages/ipykernel_launcher.py:689: SettingWithCopyWarning: \n",
      "A value is trying to be set on a copy of a slice from a DataFrame.\n",
      "Try using .loc[row_indexer,col_indexer] = value instead\n",
      "\n",
      "See the caveats in the documentation: http://pandas.pydata.org/pandas-docs/stable/indexing.html#indexing-view-versus-copy\n"
     ]
    },
    {
     "name": "stdout",
     "output_type": "stream",
     "text": [
      ">>>>>> buy list (12) : 2010-06-04 00:00:00\n",
      "유유제약(A000220) : 538\n",
      "한국테크놀로지그룹(A000240) : 292\n",
      "삼천당제약(A000250) : 1804\n",
      "기아자동차(A000270) : 113\n",
      "대유플러스(A000300) : 2109\n",
      "노루홀딩스(A000320) : 749\n",
      "삼화페인트공업(A000390) : 816\n",
      "대원강업(A000430) : 1366\n",
      "중앙에너비스(A000440) : 1085\n",
      "조선내화(A000480) : 69\n",
      "대동공업(A000490) : 820\n",
      "가온전선(A000500) : 129\n",
      "\n",
      "\n",
      ">>>>>> enough periods (동화약품 : A000020) - (5480 : -0.43) : 366 days 00:00:002010-06-17 00:00:00\n",
      ">>>>>> sell list (1) : 2010-06-17 00:00:00\n",
      "['A000020']\n",
      "\n",
      "\n"
     ]
    },
    {
     "name": "stderr",
     "output_type": "stream",
     "text": [
      "/Users/Shared/anaconda3/anaconda3/lib/python3.7/site-packages/ipykernel_launcher.py:689: SettingWithCopyWarning: \n",
      "A value is trying to be set on a copy of a slice from a DataFrame.\n",
      "Try using .loc[row_indexer,col_indexer] = value instead\n",
      "\n",
      "See the caveats in the documentation: http://pandas.pydata.org/pandas-docs/stable/indexing.html#indexing-view-versus-copy\n"
     ]
    },
    {
     "name": "stdout",
     "output_type": "stream",
     "text": [
      ">>>>>> buy list (1) : 2010-06-17 00:00:00\n",
      "삼일제약(A000520) : 678\n",
      "\n",
      "\n",
      ">>>>>> enough periods (유한양행 : A000100) - (128341 : -0.13) : 366 days 00:00:002010-06-30 00:00:00\n",
      ">>>>>> sell list (1) : 2010-06-30 00:00:00\n",
      "['A000100']\n",
      "\n",
      "\n"
     ]
    },
    {
     "name": "stderr",
     "output_type": "stream",
     "text": [
      "/Users/Shared/anaconda3/anaconda3/lib/python3.7/site-packages/ipykernel_launcher.py:689: SettingWithCopyWarning: \n",
      "A value is trying to be set on a copy of a slice from a DataFrame.\n",
      "Try using .loc[row_indexer,col_indexer] = value instead\n",
      "\n",
      "See the caveats in the documentation: http://pandas.pydata.org/pandas-docs/stable/indexing.html#indexing-view-versus-copy\n"
     ]
    },
    {
     "name": "stdout",
     "output_type": "stream",
     "text": [
      ">>>>>> buy list (1) : 2010-06-30 00:00:00\n",
      "동화약품(A000020) : 748\n",
      "\n",
      "\n",
      ">>>>>> enough periods (CJ대한통운 : A000120) - (65400 : -0.19) : 368 days 00:00:002010-07-05 00:00:00\n",
      ">>>>>> sell list (1) : 2010-07-05 00:00:00\n",
      "['A000120']\n",
      "\n",
      "\n"
     ]
    },
    {
     "name": "stderr",
     "output_type": "stream",
     "text": [
      "/Users/Shared/anaconda3/anaconda3/lib/python3.7/site-packages/ipykernel_launcher.py:689: SettingWithCopyWarning: \n",
      "A value is trying to be set on a copy of a slice from a DataFrame.\n",
      "Try using .loc[row_indexer,col_indexer] = value instead\n",
      "\n",
      "See the caveats in the documentation: http://pandas.pydata.org/pandas-docs/stable/indexing.html#indexing-view-versus-copy\n"
     ]
    },
    {
     "name": "stdout",
     "output_type": "stream",
     "text": [
      ">>>>>> buy list (1) : 2010-07-05 00:00:00\n",
      "유한양행(A000100) : 39\n",
      "\n",
      "\n",
      ">>>>>> enough profit (삼양홀딩스 : A000070) - (62403 : 0.51) : 2010-07-12 00:00:00\n",
      ">>>>>> sell list (1) : 2010-07-12 00:00:00\n",
      "['A000070']\n",
      "\n",
      "\n"
     ]
    },
    {
     "name": "stderr",
     "output_type": "stream",
     "text": [
      "/Users/Shared/anaconda3/anaconda3/lib/python3.7/site-packages/ipykernel_launcher.py:689: SettingWithCopyWarning: \n",
      "A value is trying to be set on a copy of a slice from a DataFrame.\n",
      "Try using .loc[row_indexer,col_indexer] = value instead\n",
      "\n",
      "See the caveats in the documentation: http://pandas.pydata.org/pandas-docs/stable/indexing.html#indexing-view-versus-copy\n"
     ]
    },
    {
     "name": "stdout",
     "output_type": "stream",
     "text": [
      ">>>>>> buy list (1) : 2010-07-12 00:00:00\n",
      "CJ대한통운(A000120) : 145\n",
      "\n",
      "\n",
      ">>>>>> enough periods (하이트진로홀딩스 : A000140) - (21750 : -0.47) : 367 days 00:00:002010-08-23 00:00:00\n",
      ">>>>>> sell list (1) : 2010-08-23 00:00:00\n",
      "['A000140']\n",
      "\n",
      "\n"
     ]
    },
    {
     "name": "stderr",
     "output_type": "stream",
     "text": [
      "/Users/Shared/anaconda3/anaconda3/lib/python3.7/site-packages/ipykernel_launcher.py:689: SettingWithCopyWarning: \n",
      "A value is trying to be set on a copy of a slice from a DataFrame.\n",
      "Try using .loc[row_indexer,col_indexer] = value instead\n",
      "\n",
      "See the caveats in the documentation: http://pandas.pydata.org/pandas-docs/stable/indexing.html#indexing-view-versus-copy\n"
     ]
    },
    {
     "name": "stdout",
     "output_type": "stream",
     "text": [
      ">>>>>> buy list (1) : 2010-08-23 00:00:00\n",
      "삼양홀딩스(A000070) : 54\n",
      "\n",
      "\n",
      ">>>>>> enough periods (대림산업 : A000210) - (76600 : 0.05) : 367 days 00:00:002010-08-30 00:00:00\n",
      ">>>>>> sell list (1) : 2010-08-30 00:00:00\n",
      "['A000210']\n",
      "\n",
      "\n"
     ]
    },
    {
     "name": "stderr",
     "output_type": "stream",
     "text": [
      "/Users/Shared/anaconda3/anaconda3/lib/python3.7/site-packages/ipykernel_launcher.py:689: SettingWithCopyWarning: \n",
      "A value is trying to be set on a copy of a slice from a DataFrame.\n",
      "Try using .loc[row_indexer,col_indexer] = value instead\n",
      "\n",
      "See the caveats in the documentation: http://pandas.pydata.org/pandas-docs/stable/indexing.html#indexing-view-versus-copy\n"
     ]
    },
    {
     "name": "stdout",
     "output_type": "stream",
     "text": [
      ">>>>>> buy list (1) : 2010-08-30 00:00:00\n",
      "하이트진로홀딩스(A000140) : 335\n",
      "\n",
      "\n",
      ">>>>>> enough profit (대동공업 : A000490) - (6880 : 0.52) : 2010-10-11 00:00:00\n",
      ">>>>>> sell list (1) : 2010-10-11 00:00:00\n",
      "['A000490']\n",
      "\n",
      "\n"
     ]
    },
    {
     "name": "stderr",
     "output_type": "stream",
     "text": [
      "/Users/Shared/anaconda3/anaconda3/lib/python3.7/site-packages/ipykernel_launcher.py:689: SettingWithCopyWarning: \n",
      "A value is trying to be set on a copy of a slice from a DataFrame.\n",
      "Try using .loc[row_indexer,col_indexer] = value instead\n",
      "\n",
      "See the caveats in the documentation: http://pandas.pydata.org/pandas-docs/stable/indexing.html#indexing-view-versus-copy\n"
     ]
    },
    {
     "name": "stdout",
     "output_type": "stream",
     "text": [
      ">>>>>> buy list (1) : 2010-10-11 00:00:00\n",
      "대림산업(A000210) : 62\n",
      "\n",
      "\n",
      ">>>>>> enough profit (대원강업 : A000430) - (4335 : 0.59) : 2010-10-18 00:00:00\n",
      ">>>>>> sell list (1) : 2010-10-18 00:00:00\n",
      "['A000430']\n",
      "\n",
      "\n"
     ]
    },
    {
     "name": "stderr",
     "output_type": "stream",
     "text": [
      "/Users/Shared/anaconda3/anaconda3/lib/python3.7/site-packages/ipykernel_launcher.py:689: SettingWithCopyWarning: \n",
      "A value is trying to be set on a copy of a slice from a DataFrame.\n",
      "Try using .loc[row_indexer,col_indexer] = value instead\n",
      "\n",
      "See the caveats in the documentation: http://pandas.pydata.org/pandas-docs/stable/indexing.html#indexing-view-versus-copy\n"
     ]
    },
    {
     "name": "stdout",
     "output_type": "stream",
     "text": [
      ">>>>>> buy list (1) : 2010-10-18 00:00:00\n",
      "대동공업(A000490) : 890\n",
      "\n",
      "\n",
      ">>>>>> enough profit (기아자동차 : A000270) - (49500 : 0.51) : 2010-11-01 00:00:00\n",
      ">>>>>> sell list (1) : 2010-11-01 00:00:00\n",
      "['A000270']\n",
      "\n",
      "\n"
     ]
    },
    {
     "name": "stderr",
     "output_type": "stream",
     "text": [
      "/Users/Shared/anaconda3/anaconda3/lib/python3.7/site-packages/ipykernel_launcher.py:689: SettingWithCopyWarning: \n",
      "A value is trying to be set on a copy of a slice from a DataFrame.\n",
      "Try using .loc[row_indexer,col_indexer] = value instead\n",
      "\n",
      "See the caveats in the documentation: http://pandas.pydata.org/pandas-docs/stable/indexing.html#indexing-view-versus-copy\n"
     ]
    },
    {
     "name": "stdout",
     "output_type": "stream",
     "text": [
      ">>>>>> buy list (1) : 2010-11-01 00:00:00\n",
      "대원강업(A000430) : 1258\n",
      "\n",
      "\n",
      ">>>>>> enough profit (노루홀딩스 : A000320) - (7490 : 0.51) : 2010-11-05 00:00:00\n",
      ">>>>>> sell list (1) : 2010-11-05 00:00:00\n",
      "['A000320']\n",
      "\n",
      "\n"
     ]
    },
    {
     "name": "stderr",
     "output_type": "stream",
     "text": [
      "/Users/Shared/anaconda3/anaconda3/lib/python3.7/site-packages/ipykernel_launcher.py:689: SettingWithCopyWarning: \n",
      "A value is trying to be set on a copy of a slice from a DataFrame.\n",
      "Try using .loc[row_indexer,col_indexer] = value instead\n",
      "\n",
      "See the caveats in the documentation: http://pandas.pydata.org/pandas-docs/stable/indexing.html#indexing-view-versus-copy\n"
     ]
    },
    {
     "name": "stdout",
     "output_type": "stream",
     "text": [
      ">>>>>> buy list (1) : 2010-11-05 00:00:00\n",
      "기아자동차(A000270) : 118\n",
      "\n",
      "\n",
      ">>>>>> enough periods (일동홀딩스 : A000230) - (8878 : 0.37) : 366 days 00:00:002010-12-03 00:00:00\n",
      ">>>>>> sell list (1) : 2010-12-03 00:00:00\n",
      "['A000230']\n",
      "\n",
      "\n"
     ]
    },
    {
     "name": "stderr",
     "output_type": "stream",
     "text": [
      "/Users/Shared/anaconda3/anaconda3/lib/python3.7/site-packages/ipykernel_launcher.py:689: SettingWithCopyWarning: \n",
      "A value is trying to be set on a copy of a slice from a DataFrame.\n",
      "Try using .loc[row_indexer,col_indexer] = value instead\n",
      "\n",
      "See the caveats in the documentation: http://pandas.pydata.org/pandas-docs/stable/indexing.html#indexing-view-versus-copy\n"
     ]
    },
    {
     "name": "stdout",
     "output_type": "stream",
     "text": [
      ">>>>>> buy list (1) : 2010-12-03 00:00:00\n",
      "노루홀딩스(A000320) : 1306\n",
      "\n",
      "\n",
      ">>>>>> enough profit (CJ대한통운 : A000120) - (106500 : 0.63) : 2011-01-14 00:00:00\n",
      ">>>>>> sell list (1) : 2011-01-14 00:00:00\n",
      "['A000120']\n",
      "\n",
      "\n"
     ]
    },
    {
     "name": "stderr",
     "output_type": "stream",
     "text": [
      "/Users/Shared/anaconda3/anaconda3/lib/python3.7/site-packages/ipykernel_launcher.py:689: SettingWithCopyWarning: \n",
      "A value is trying to be set on a copy of a slice from a DataFrame.\n",
      "Try using .loc[row_indexer,col_indexer] = value instead\n",
      "\n",
      "See the caveats in the documentation: http://pandas.pydata.org/pandas-docs/stable/indexing.html#indexing-view-versus-copy\n"
     ]
    },
    {
     "name": "stdout",
     "output_type": "stream",
     "text": [
      ">>>>>> buy list (1) : 2011-01-14 00:00:00\n",
      "형지I&C(A011080) : 28084\n",
      "\n",
      "\n",
      ">>>>>> enough periods (성창기업지주 : A000180) - (1091 : -0.43) : 367 days 00:00:002011-03-14 00:00:00\n",
      ">>>>>> sell list (1) : 2011-03-14 00:00:00\n",
      "['A000180']\n",
      "\n",
      "\n"
     ]
    },
    {
     "name": "stderr",
     "output_type": "stream",
     "text": [
      "/Users/Shared/anaconda3/anaconda3/lib/python3.7/site-packages/ipykernel_launcher.py:689: SettingWithCopyWarning: \n",
      "A value is trying to be set on a copy of a slice from a DataFrame.\n",
      "Try using .loc[row_indexer,col_indexer] = value instead\n",
      "\n",
      "See the caveats in the documentation: http://pandas.pydata.org/pandas-docs/stable/indexing.html#indexing-view-versus-copy\n"
     ]
    },
    {
     "name": "stdout",
     "output_type": "stream",
     "text": [
      ">>>>>> buy list (1) : 2011-03-14 00:00:00\n",
      "좋은사람들(A033340) : 2340\n",
      "\n",
      "\n",
      ">>>>>> enough profit (기아자동차 : A000270) - (72900 : 0.53) : 2011-04-06 00:00:00\n",
      ">>>>>> sell list (1) : 2011-04-06 00:00:00\n",
      "['A000270']\n",
      "\n",
      "\n"
     ]
    },
    {
     "name": "stderr",
     "output_type": "stream",
     "text": [
      "/Users/Shared/anaconda3/anaconda3/lib/python3.7/site-packages/ipykernel_launcher.py:689: SettingWithCopyWarning: \n",
      "A value is trying to be set on a copy of a slice from a DataFrame.\n",
      "Try using .loc[row_indexer,col_indexer] = value instead\n",
      "\n",
      "See the caveats in the documentation: http://pandas.pydata.org/pandas-docs/stable/indexing.html#indexing-view-versus-copy\n"
     ]
    },
    {
     "name": "stdout",
     "output_type": "stream",
     "text": [
      ">>>>>> buy list (1) : 2011-04-06 00:00:00\n",
      "신영와코루(A005800) : 86\n",
      "\n",
      "\n",
      ">>>>>> enough profit (한국테크놀로지그룹 : A000240) - (19313 : 0.52) : 2011-04-14 00:00:00\n",
      ">>>>>> sell list (1) : 2011-04-14 00:00:00\n",
      "['A000240']\n",
      "\n",
      "\n"
     ]
    },
    {
     "name": "stderr",
     "output_type": "stream",
     "text": [
      "/Users/Shared/anaconda3/anaconda3/lib/python3.7/site-packages/ipykernel_launcher.py:689: SettingWithCopyWarning: \n",
      "A value is trying to be set on a copy of a slice from a DataFrame.\n",
      "Try using .loc[row_indexer,col_indexer] = value instead\n",
      "\n",
      "See the caveats in the documentation: http://pandas.pydata.org/pandas-docs/stable/indexing.html#indexing-view-versus-copy\n"
     ]
    },
    {
     "name": "stdout",
     "output_type": "stream",
     "text": [
      ">>>>>> buy list (1) : 2011-04-14 00:00:00\n",
      "남영비비안(A002070) : 646\n",
      "\n",
      "\n",
      ">>>>>> enough profit (삼양홀딩스 : A000070) - (90230 : 0.52) : 2011-04-21 00:00:00\n",
      ">>>>>> sell list (1) : 2011-04-21 00:00:00\n",
      "['A000070']\n",
      "\n",
      "\n"
     ]
    },
    {
     "name": "stderr",
     "output_type": "stream",
     "text": [
      "/Users/Shared/anaconda3/anaconda3/lib/python3.7/site-packages/ipykernel_launcher.py:689: SettingWithCopyWarning: \n",
      "A value is trying to be set on a copy of a slice from a DataFrame.\n",
      "Try using .loc[row_indexer,col_indexer] = value instead\n",
      "\n",
      "See the caveats in the documentation: http://pandas.pydata.org/pandas-docs/stable/indexing.html#indexing-view-versus-copy\n"
     ]
    },
    {
     "name": "stdout",
     "output_type": "stream",
     "text": [
      ">>>>>> buy list (1) : 2011-04-21 00:00:00\n",
      "신원(A009270) : 3559\n",
      "\n",
      "\n",
      ">>>>>> enough periods (유유제약 : A000220) - (6370 : -0.08) : 368 days 00:00:002011-06-07 00:00:00\n",
      ">>>>>> enough profit (삼천당제약 : A000250) - (3195 : 0.55) : 2011-06-07 00:00:00\n",
      ">>>>>> enough periods (삼천당제약 : A000250) - (3195 : 0.55) : 368 days 00:00:002011-06-07 00:00:00\n",
      ">>>>>> enough periods (대유플러스 : A000300) - (1553 : -0.12) : 368 days 00:00:002011-06-07 00:00:00\n",
      ">>>>>> enough periods (삼화페인트공업 : A000390) - (3990 : -0.12) : 368 days 00:00:002011-06-07 00:00:00\n",
      ">>>>>> enough periods (중앙에너비스 : A000440) - (4240 : 0.24) : 368 days 00:00:002011-06-07 00:00:00\n",
      ">>>>>> enough periods (조선내화 : A000480) - (62000 : 0.17) : 368 days 00:00:002011-06-07 00:00:00\n",
      ">>>>>> enough periods (가온전선 : A000500) - (19700 : -0.31) : 368 days 00:00:002011-06-07 00:00:00\n",
      ">>>>>> sell list (7) : 2011-06-07 00:00:00\n",
      "['A000220', 'A000250', 'A000300', 'A000390', 'A000440', 'A000480', 'A000500']\n",
      "\n",
      "\n"
     ]
    },
    {
     "name": "stderr",
     "output_type": "stream",
     "text": [
      "/Users/Shared/anaconda3/anaconda3/lib/python3.7/site-packages/ipykernel_launcher.py:689: SettingWithCopyWarning: \n",
      "A value is trying to be set on a copy of a slice from a DataFrame.\n",
      "Try using .loc[row_indexer,col_indexer] = value instead\n",
      "\n",
      "See the caveats in the documentation: http://pandas.pydata.org/pandas-docs/stable/indexing.html#indexing-view-versus-copy\n"
     ]
    },
    {
     "name": "stdout",
     "output_type": "stream",
     "text": [
      ">>>>>> buy list (7) : 2011-06-07 00:00:00\n",
      "SG세계물산(A004060) : 10771\n",
      "국제약품(A002720) : 2203\n",
      "부방(A014470) : 4519\n",
      "현대약품(A004310) : 2878\n",
      "지엔코(A065060) : 3077\n",
      "오리콤(A010470) : 1563\n",
      "파인디지털(A038950) : 1191\n",
      "\n",
      "\n",
      ">>>>>> enough periods (삼일제약 : A000520) - (5002 : -0.09) : 368 days 00:00:002011-06-20 00:00:00\n",
      ">>>>>> sell list (1) : 2011-06-20 00:00:00\n",
      "['A000520']\n",
      "\n",
      "\n"
     ]
    },
    {
     "name": "stderr",
     "output_type": "stream",
     "text": [
      "/Users/Shared/anaconda3/anaconda3/lib/python3.7/site-packages/ipykernel_launcher.py:689: SettingWithCopyWarning: \n",
      "A value is trying to be set on a copy of a slice from a DataFrame.\n",
      "Try using .loc[row_indexer,col_indexer] = value instead\n",
      "\n",
      "See the caveats in the documentation: http://pandas.pydata.org/pandas-docs/stable/indexing.html#indexing-view-versus-copy\n"
     ]
    },
    {
     "name": "stdout",
     "output_type": "stream",
     "text": [
      ">>>>>> buy list (1) : 2011-06-20 00:00:00\n",
      "신성통상(A005390) : 8384\n",
      "\n",
      "\n",
      ">>>>>> enough periods (동화약품 : A000020) - (4840 : -0.09) : 366 days 00:00:002011-07-01 00:00:00\n",
      ">>>>>> sell list (1) : 2011-07-01 00:00:00\n",
      "['A000020']\n",
      "\n",
      "\n"
     ]
    },
    {
     "name": "stderr",
     "output_type": "stream",
     "text": [
      "/Users/Shared/anaconda3/anaconda3/lib/python3.7/site-packages/ipykernel_launcher.py:689: SettingWithCopyWarning: \n",
      "A value is trying to be set on a copy of a slice from a DataFrame.\n",
      "Try using .loc[row_indexer,col_indexer] = value instead\n",
      "\n",
      "See the caveats in the documentation: http://pandas.pydata.org/pandas-docs/stable/indexing.html#indexing-view-versus-copy\n"
     ]
    },
    {
     "name": "stdout",
     "output_type": "stream",
     "text": [
      ">>>>>> buy list (1) : 2011-07-01 00:00:00\n",
      "삼일제약(A000520) : 732\n",
      "\n",
      "\n",
      ">>>>>> enough periods (유한양행 : A000100) - (121645 : -0.03) : 366 days 00:00:002011-07-06 00:00:00\n",
      ">>>>>> enough profit (대원강업 : A000430) - (6800 : 0.53) : 2011-07-06 00:00:00\n",
      ">>>>>> sell list (2) : 2011-07-06 00:00:00\n",
      "['A000100', 'A000430']\n",
      "\n",
      "\n"
     ]
    },
    {
     "name": "stderr",
     "output_type": "stream",
     "text": [
      "/Users/Shared/anaconda3/anaconda3/lib/python3.7/site-packages/ipykernel_launcher.py:689: SettingWithCopyWarning: \n",
      "A value is trying to be set on a copy of a slice from a DataFrame.\n",
      "Try using .loc[row_indexer,col_indexer] = value instead\n",
      "\n",
      "See the caveats in the documentation: http://pandas.pydata.org/pandas-docs/stable/indexing.html#indexing-view-versus-copy\n"
     ]
    },
    {
     "name": "stdout",
     "output_type": "stream",
     "text": [
      ">>>>>> buy list (2) : 2011-07-06 00:00:00\n",
      "대현(A016090) : 5195\n",
      "삼천당제약(A000250) : 2400\n",
      "\n",
      "\n",
      ">>>>>> enough profit (지엔코 : A065060) - (2030 : 0.61) : 2011-07-11 00:00:00\n",
      ">>>>>> sell list (1) : 2011-07-11 00:00:00\n",
      "['A065060']\n",
      "\n",
      "\n"
     ]
    },
    {
     "name": "stderr",
     "output_type": "stream",
     "text": [
      "/Users/Shared/anaconda3/anaconda3/lib/python3.7/site-packages/ipykernel_launcher.py:689: SettingWithCopyWarning: \n",
      "A value is trying to be set on a copy of a slice from a DataFrame.\n",
      "Try using .loc[row_indexer,col_indexer] = value instead\n",
      "\n",
      "See the caveats in the documentation: http://pandas.pydata.org/pandas-docs/stable/indexing.html#indexing-view-versus-copy\n"
     ]
    },
    {
     "name": "stdout",
     "output_type": "stream",
     "text": [
      ">>>>>> buy list (1) : 2011-07-11 00:00:00\n",
      "F&F(A007700) : 650\n",
      "\n",
      "\n",
      ">>>>>> enough profit (대림산업 : A000210) - (137000 : 0.51) : 2011-07-20 00:00:00\n",
      ">>>>>> sell list (1) : 2011-07-20 00:00:00\n",
      "['A000210']\n",
      "\n",
      "\n"
     ]
    },
    {
     "name": "stderr",
     "output_type": "stream",
     "text": [
      "/Users/Shared/anaconda3/anaconda3/lib/python3.7/site-packages/ipykernel_launcher.py:689: SettingWithCopyWarning: \n",
      "A value is trying to be set on a copy of a slice from a DataFrame.\n",
      "Try using .loc[row_indexer,col_indexer] = value instead\n",
      "\n",
      "See the caveats in the documentation: http://pandas.pydata.org/pandas-docs/stable/indexing.html#indexing-view-versus-copy\n"
     ]
    },
    {
     "name": "stdout",
     "output_type": "stream",
     "text": [
      ">>>>>> buy list (1) : 2011-07-20 00:00:00\n",
      "지엔코(A065060) : 4250\n",
      "\n",
      "\n",
      ">>>>>> enough profit (대현 : A016090) - (1940 : 0.52) : 2011-07-21 00:00:00\n",
      ">>>>>> sell list (1) : 2011-07-21 00:00:00\n",
      "['A016090']\n",
      "\n",
      "\n"
     ]
    },
    {
     "name": "stderr",
     "output_type": "stream",
     "text": [
      "/Users/Shared/anaconda3/anaconda3/lib/python3.7/site-packages/ipykernel_launcher.py:689: SettingWithCopyWarning: \n",
      "A value is trying to be set on a copy of a slice from a DataFrame.\n",
      "Try using .loc[row_indexer,col_indexer] = value instead\n",
      "\n",
      "See the caveats in the documentation: http://pandas.pydata.org/pandas-docs/stable/indexing.html#indexing-view-versus-copy\n"
     ]
    },
    {
     "name": "stdout",
     "output_type": "stream",
     "text": [
      ">>>>>> buy list (1) : 2011-07-21 00:00:00\n",
      "주연테크(A044380) : 27024\n",
      "\n",
      "\n",
      ">>>>>> enough profit (좋은사람들 : A033340) - (2046 : 0.5) : 2011-08-03 00:00:00\n",
      ">>>>>> sell list (1) : 2011-08-03 00:00:00\n",
      "['A033340']\n",
      "\n",
      "\n"
     ]
    },
    {
     "name": "stderr",
     "output_type": "stream",
     "text": [
      "/Users/Shared/anaconda3/anaconda3/lib/python3.7/site-packages/ipykernel_launcher.py:689: SettingWithCopyWarning: \n",
      "A value is trying to be set on a copy of a slice from a DataFrame.\n",
      "Try using .loc[row_indexer,col_indexer] = value instead\n",
      "\n",
      "See the caveats in the documentation: http://pandas.pydata.org/pandas-docs/stable/indexing.html#indexing-view-versus-copy\n"
     ]
    },
    {
     "name": "stdout",
     "output_type": "stream",
     "text": [
      ">>>>>> buy list (1) : 2011-08-03 00:00:00\n",
      "대현(A016090) : 1827\n",
      "\n",
      "\n",
      ">>>>>> enough profit (부방 : A014470) - (1332 : 0.55) : 2011-08-17 00:00:00\n",
      ">>>>>> sell list (1) : 2011-08-17 00:00:00\n",
      "['A014470']\n",
      "\n",
      "\n",
      ">>>>>> buy list (1) : 2011-08-17 00:00:00\n",
      "좋은사람들(A033340) : 2860\n",
      "\n",
      "\n"
     ]
    },
    {
     "name": "stderr",
     "output_type": "stream",
     "text": [
      "/Users/Shared/anaconda3/anaconda3/lib/python3.7/site-packages/ipykernel_launcher.py:689: SettingWithCopyWarning: \n",
      "A value is trying to be set on a copy of a slice from a DataFrame.\n",
      "Try using .loc[row_indexer,col_indexer] = value instead\n",
      "\n",
      "See the caveats in the documentation: http://pandas.pydata.org/pandas-docs/stable/indexing.html#indexing-view-versus-copy\n"
     ]
    },
    {
     "name": "stdout",
     "output_type": "stream",
     "text": [
      ">>>>>> enough periods (하이트진로홀딩스 : A000140) - (14700 : -0.29) : 366 days 00:00:002011-08-31 00:00:00\n",
      ">>>>>> sell list (1) : 2011-08-31 00:00:00\n",
      "['A000140']\n",
      "\n",
      "\n"
     ]
    },
    {
     "name": "stderr",
     "output_type": "stream",
     "text": [
      "/Users/Shared/anaconda3/anaconda3/lib/python3.7/site-packages/ipykernel_launcher.py:689: SettingWithCopyWarning: \n",
      "A value is trying to be set on a copy of a slice from a DataFrame.\n",
      "Try using .loc[row_indexer,col_indexer] = value instead\n",
      "\n",
      "See the caveats in the documentation: http://pandas.pydata.org/pandas-docs/stable/indexing.html#indexing-view-versus-copy\n"
     ]
    },
    {
     "name": "stdout",
     "output_type": "stream",
     "text": [
      ">>>>>> buy list (1) : 2011-08-31 00:00:00\n",
      "부방(A014470) : 5222\n",
      "\n",
      "\n",
      ">>>>>> enough profit (신성통상 : A005390) - (655 : 0.62) : 2011-09-08 00:00:00\n",
      ">>>>>> sell list (1) : 2011-09-08 00:00:00\n",
      "['A005390']\n",
      "\n",
      "\n"
     ]
    },
    {
     "name": "stderr",
     "output_type": "stream",
     "text": [
      "/Users/Shared/anaconda3/anaconda3/lib/python3.7/site-packages/ipykernel_launcher.py:689: SettingWithCopyWarning: \n",
      "A value is trying to be set on a copy of a slice from a DataFrame.\n",
      "Try using .loc[row_indexer,col_indexer] = value instead\n",
      "\n",
      "See the caveats in the documentation: http://pandas.pydata.org/pandas-docs/stable/indexing.html#indexing-view-versus-copy\n"
     ]
    },
    {
     "name": "stdout",
     "output_type": "stream",
     "text": [
      ">>>>>> buy list (1) : 2011-09-08 00:00:00\n",
      "경동나비엔(A009450) : 1046\n",
      "\n",
      "\n",
      ">>>>>> enough periods (대동공업 : A000490) - (3495 : -0.48) : 366 days 00:00:002011-10-19 00:00:00\n",
      ">>>>>> sell list (1) : 2011-10-19 00:00:00\n",
      "['A000490']\n",
      "\n",
      "\n"
     ]
    },
    {
     "name": "stderr",
     "output_type": "stream",
     "text": [
      "/Users/Shared/anaconda3/anaconda3/lib/python3.7/site-packages/ipykernel_launcher.py:689: SettingWithCopyWarning: \n",
      "A value is trying to be set on a copy of a slice from a DataFrame.\n",
      "Try using .loc[row_indexer,col_indexer] = value instead\n",
      "\n",
      "See the caveats in the documentation: http://pandas.pydata.org/pandas-docs/stable/indexing.html#indexing-view-versus-copy\n"
     ]
    },
    {
     "name": "stdout",
     "output_type": "stream",
     "text": [
      ">>>>>> buy list (1) : 2011-10-19 00:00:00\n",
      "신성통상(A005390) : 3694\n",
      "\n",
      "\n",
      ">>>>>> enough profit (지엔코 : A065060) - (3000 : 0.5) : 2011-11-28 00:00:00\n",
      ">>>>>> sell list (1) : 2011-11-28 00:00:00\n",
      "['A065060']\n",
      "\n",
      "\n"
     ]
    },
    {
     "name": "stderr",
     "output_type": "stream",
     "text": [
      "/Users/Shared/anaconda3/anaconda3/lib/python3.7/site-packages/ipykernel_launcher.py:689: SettingWithCopyWarning: \n",
      "A value is trying to be set on a copy of a slice from a DataFrame.\n",
      "Try using .loc[row_indexer,col_indexer] = value instead\n",
      "\n",
      "See the caveats in the documentation: http://pandas.pydata.org/pandas-docs/stable/indexing.html#indexing-view-versus-copy\n"
     ]
    },
    {
     "name": "stdout",
     "output_type": "stream",
     "text": [
      ">>>>>> buy list (1) : 2011-11-28 00:00:00\n",
      "진도(A088790) : 1788\n",
      "\n",
      "\n",
      ">>>>>> enough periods (노루홀딩스 : A000320) - (6950 : 0.14) : 367 days 00:00:002011-12-05 00:00:00\n",
      ">>>>>> sell list (1) : 2011-12-05 00:00:00\n",
      "['A000320']\n",
      "\n",
      "\n"
     ]
    },
    {
     "name": "stderr",
     "output_type": "stream",
     "text": [
      "/Users/Shared/anaconda3/anaconda3/lib/python3.7/site-packages/ipykernel_launcher.py:689: SettingWithCopyWarning: \n",
      "A value is trying to be set on a copy of a slice from a DataFrame.\n",
      "Try using .loc[row_indexer,col_indexer] = value instead\n",
      "\n",
      "See the caveats in the documentation: http://pandas.pydata.org/pandas-docs/stable/indexing.html#indexing-view-versus-copy\n"
     ]
    },
    {
     "name": "stdout",
     "output_type": "stream",
     "text": [
      ">>>>>> buy list (1) : 2011-12-05 00:00:00\n",
      "지엔코(A065060) : 3130\n",
      "\n",
      "\n",
      ">>>>>> enough profit (지엔코 : A065060) - (4465 : 0.54) : 2011-12-21 00:00:00\n",
      ">>>>>> sell list (1) : 2011-12-21 00:00:00\n",
      "['A065060']\n",
      "\n",
      "\n"
     ]
    },
    {
     "name": "stderr",
     "output_type": "stream",
     "text": [
      "/Users/Shared/anaconda3/anaconda3/lib/python3.7/site-packages/ipykernel_launcher.py:689: SettingWithCopyWarning: \n",
      "A value is trying to be set on a copy of a slice from a DataFrame.\n",
      "Try using .loc[row_indexer,col_indexer] = value instead\n",
      "\n",
      "See the caveats in the documentation: http://pandas.pydata.org/pandas-docs/stable/indexing.html#indexing-view-versus-copy\n"
     ]
    },
    {
     "name": "stdout",
     "output_type": "stream",
     "text": [
      ">>>>>> buy list (1) : 2011-12-21 00:00:00\n",
      "진양제약(A007370) : 4912\n",
      "\n",
      "\n",
      ">>>>>> enough profit (진양제약 : A007370) - (4435 : 0.56) : 2012-01-06 00:00:00\n",
      ">>>>>> sell list (1) : 2012-01-06 00:00:00\n",
      "['A007370']\n",
      "\n",
      "\n"
     ]
    },
    {
     "name": "stderr",
     "output_type": "stream",
     "text": [
      "/Users/Shared/anaconda3/anaconda3/lib/python3.7/site-packages/ipykernel_launcher.py:689: SettingWithCopyWarning: \n",
      "A value is trying to be set on a copy of a slice from a DataFrame.\n",
      "Try using .loc[row_indexer,col_indexer] = value instead\n",
      "\n",
      "See the caveats in the documentation: http://pandas.pydata.org/pandas-docs/stable/indexing.html#indexing-view-versus-copy\n"
     ]
    },
    {
     "name": "stdout",
     "output_type": "stream",
     "text": [
      ">>>>>> buy list (1) : 2012-01-06 00:00:00\n",
      "코리아나(A027050) : 13325\n",
      "\n",
      "\n",
      ">>>>>> enough periods (형지I&C : A011080) - (568 : 0.03) : 367 days 00:00:002012-01-16 00:00:00\n",
      ">>>>>> sell list (1) : 2012-01-16 00:00:00\n",
      "['A011080']\n",
      "\n",
      "\n"
     ]
    },
    {
     "name": "stderr",
     "output_type": "stream",
     "text": [
      "/Users/Shared/anaconda3/anaconda3/lib/python3.7/site-packages/ipykernel_launcher.py:689: SettingWithCopyWarning: \n",
      "A value is trying to be set on a copy of a slice from a DataFrame.\n",
      "Try using .loc[row_indexer,col_indexer] = value instead\n",
      "\n",
      "See the caveats in the documentation: http://pandas.pydata.org/pandas-docs/stable/indexing.html#indexing-view-versus-copy\n"
     ]
    },
    {
     "name": "stdout",
     "output_type": "stream",
     "text": [
      ">>>>>> buy list (1) : 2012-01-16 00:00:00\n",
      "서산(A079650) : 30502\n",
      "\n",
      "\n",
      ">>>>>> enough profit (신성통상 : A005390) - (1320 : 0.57) : 2012-02-07 00:00:00\n",
      ">>>>>> sell list (1) : 2012-02-07 00:00:00\n",
      "['A005390']\n",
      "\n",
      "\n"
     ]
    },
    {
     "name": "stderr",
     "output_type": "stream",
     "text": [
      "/Users/Shared/anaconda3/anaconda3/lib/python3.7/site-packages/ipykernel_launcher.py:689: SettingWithCopyWarning: \n",
      "A value is trying to be set on a copy of a slice from a DataFrame.\n",
      "Try using .loc[row_indexer,col_indexer] = value instead\n",
      "\n",
      "See the caveats in the documentation: http://pandas.pydata.org/pandas-docs/stable/indexing.html#indexing-view-versus-copy\n"
     ]
    },
    {
     "name": "stdout",
     "output_type": "stream",
     "text": [
      ">>>>>> buy list (1) : 2012-02-07 00:00:00\n",
      "NICE(A034310) : 957\n",
      "\n",
      "\n",
      ">>>>>> enough profit (국제약품 : A002720) - (2683 : 0.52) : 2012-02-13 00:00:00\n",
      ">>>>>> sell list (1) : 2012-02-13 00:00:00\n",
      "['A002720']\n",
      "\n",
      "\n"
     ]
    },
    {
     "name": "stderr",
     "output_type": "stream",
     "text": [
      "/Users/Shared/anaconda3/anaconda3/lib/python3.7/site-packages/ipykernel_launcher.py:689: SettingWithCopyWarning: \n",
      "A value is trying to be set on a copy of a slice from a DataFrame.\n",
      "Try using .loc[row_indexer,col_indexer] = value instead\n",
      "\n",
      "See the caveats in the documentation: http://pandas.pydata.org/pandas-docs/stable/indexing.html#indexing-view-versus-copy\n"
     ]
    },
    {
     "name": "stdout",
     "output_type": "stream",
     "text": [
      ">>>>>> buy list (1) : 2012-02-13 00:00:00\n",
      "신성통상(A005390) : 3904\n",
      "\n",
      "\n",
      ">>>>>> enough profit (경동나비엔 : A009450) - (8120 : 0.55) : 2012-03-15 00:00:00\n",
      ">>>>>> sell list (1) : 2012-03-15 00:00:00\n",
      "['A009450']\n",
      "\n",
      "\n"
     ]
    },
    {
     "name": "stderr",
     "output_type": "stream",
     "text": [
      "/Users/Shared/anaconda3/anaconda3/lib/python3.7/site-packages/ipykernel_launcher.py:689: SettingWithCopyWarning: \n",
      "A value is trying to be set on a copy of a slice from a DataFrame.\n",
      "Try using .loc[row_indexer,col_indexer] = value instead\n",
      "\n",
      "See the caveats in the documentation: http://pandas.pydata.org/pandas-docs/stable/indexing.html#indexing-view-versus-copy\n"
     ]
    },
    {
     "name": "stdout",
     "output_type": "stream",
     "text": [
      ">>>>>> buy list (1) : 2012-03-15 00:00:00\n",
      "샘표(A007540) : 629\n",
      "\n",
      "\n",
      ">>>>>> enough profit (SG세계물산 : A004060) - (585 : 0.62) : 2012-04-04 00:00:00\n",
      ">>>>>> sell list (1) : 2012-04-04 00:00:00\n",
      "['A004060']\n",
      "\n",
      "\n"
     ]
    },
    {
     "name": "stderr",
     "output_type": "stream",
     "text": [
      "/Users/Shared/anaconda3/anaconda3/lib/python3.7/site-packages/ipykernel_launcher.py:689: SettingWithCopyWarning: \n",
      "A value is trying to be set on a copy of a slice from a DataFrame.\n",
      "Try using .loc[row_indexer,col_indexer] = value instead\n",
      "\n",
      "See the caveats in the documentation: http://pandas.pydata.org/pandas-docs/stable/indexing.html#indexing-view-versus-copy\n"
     ]
    },
    {
     "name": "stdout",
     "output_type": "stream",
     "text": [
      ">>>>>> buy list (1) : 2012-04-04 00:00:00\n",
      "제우스(A079370) : 1512\n",
      "\n",
      "\n",
      ">>>>>> enough periods (신영와코루 : A005800) - (99800 : 0.01) : 366 days 00:00:002012-04-06 00:00:00\n",
      ">>>>>> sell list (1) : 2012-04-06 00:00:00\n",
      "['A005800']\n",
      "\n",
      "\n"
     ]
    },
    {
     "name": "stderr",
     "output_type": "stream",
     "text": [
      "/Users/Shared/anaconda3/anaconda3/lib/python3.7/site-packages/ipykernel_launcher.py:689: SettingWithCopyWarning: \n",
      "A value is trying to be set on a copy of a slice from a DataFrame.\n",
      "Try using .loc[row_indexer,col_indexer] = value instead\n",
      "\n",
      "See the caveats in the documentation: http://pandas.pydata.org/pandas-docs/stable/indexing.html#indexing-view-versus-copy\n"
     ]
    },
    {
     "name": "stdout",
     "output_type": "stream",
     "text": [
      ">>>>>> buy list (1) : 2012-04-06 00:00:00\n",
      "SG세계물산(A004060) : 14677\n",
      "\n",
      "\n",
      ">>>>>> enough periods (남영비비안 : A002070) - (8060 : -0.09) : 368 days 00:00:002012-04-16 00:00:00\n",
      ">>>>>> sell list (1) : 2012-04-16 00:00:00\n",
      "['A002070']\n",
      "\n",
      "\n"
     ]
    },
    {
     "name": "stderr",
     "output_type": "stream",
     "text": [
      "/Users/Shared/anaconda3/anaconda3/lib/python3.7/site-packages/ipykernel_launcher.py:689: SettingWithCopyWarning: \n",
      "A value is trying to be set on a copy of a slice from a DataFrame.\n",
      "Try using .loc[row_indexer,col_indexer] = value instead\n",
      "\n",
      "See the caveats in the documentation: http://pandas.pydata.org/pandas-docs/stable/indexing.html#indexing-view-versus-copy\n"
     ]
    },
    {
     "name": "stdout",
     "output_type": "stream",
     "text": [
      ">>>>>> buy list (1) : 2012-04-16 00:00:00\n",
      "신영와코루(A005800) : 53\n",
      "\n",
      "\n",
      ">>>>>> enough periods (신원 : A009270) - (1380 : 0.01) : 368 days 00:00:002012-04-23 00:00:00\n",
      ">>>>>> sell list (1) : 2012-04-23 00:00:00\n",
      "['A009270']\n",
      "\n",
      "\n"
     ]
    },
    {
     "name": "stderr",
     "output_type": "stream",
     "text": [
      "/Users/Shared/anaconda3/anaconda3/lib/python3.7/site-packages/ipykernel_launcher.py:689: SettingWithCopyWarning: \n",
      "A value is trying to be set on a copy of a slice from a DataFrame.\n",
      "Try using .loc[row_indexer,col_indexer] = value instead\n",
      "\n",
      "See the caveats in the documentation: http://pandas.pydata.org/pandas-docs/stable/indexing.html#indexing-view-versus-copy\n"
     ]
    },
    {
     "name": "stdout",
     "output_type": "stream",
     "text": [
      ">>>>>> buy list (1) : 2012-04-23 00:00:00\n",
      "남영비비안(A002070) : 610\n",
      "\n",
      "\n",
      ">>>>>> enough periods (현대약품 : A004310) - (1357 : 0.01) : 366 days 00:00:002012-06-07 00:00:00\n",
      ">>>>>> enough periods (오리콤 : A010470) - (2710 : 0.09) : 366 days 00:00:002012-06-07 00:00:00\n",
      ">>>>>> enough periods (파인디지털 : A038950) - (3290 : 0.01) : 366 days 00:00:002012-06-07 00:00:00\n",
      ">>>>>> sell list (3) : 2012-06-07 00:00:00\n",
      "['A004310', 'A010470', 'A038950']\n",
      "\n",
      "\n"
     ]
    },
    {
     "name": "stderr",
     "output_type": "stream",
     "text": [
      "/Users/Shared/anaconda3/anaconda3/lib/python3.7/site-packages/ipykernel_launcher.py:689: SettingWithCopyWarning: \n",
      "A value is trying to be set on a copy of a slice from a DataFrame.\n",
      "Try using .loc[row_indexer,col_indexer] = value instead\n",
      "\n",
      "See the caveats in the documentation: http://pandas.pydata.org/pandas-docs/stable/indexing.html#indexing-view-versus-copy\n"
     ]
    },
    {
     "name": "stdout",
     "output_type": "stream",
     "text": [
      ">>>>>> buy list (3) : 2012-06-07 00:00:00\n",
      "신원(A009270) : 3639\n",
      "동성제약(A002210) : 1372\n",
      "에넥스(A011090) : 7447\n",
      "\n",
      "\n",
      ">>>>>> enough profit (에넥스 : A011090) - (859 : 0.59) : 2012-06-14 00:00:00\n",
      ">>>>>> sell list (1) : 2012-06-14 00:00:00\n",
      "['A011090']\n",
      "\n",
      "\n"
     ]
    },
    {
     "name": "stderr",
     "output_type": "stream",
     "text": [
      "/Users/Shared/anaconda3/anaconda3/lib/python3.7/site-packages/ipykernel_launcher.py:689: SettingWithCopyWarning: \n",
      "A value is trying to be set on a copy of a slice from a DataFrame.\n",
      "Try using .loc[row_indexer,col_indexer] = value instead\n",
      "\n",
      "See the caveats in the documentation: http://pandas.pydata.org/pandas-docs/stable/indexing.html#indexing-view-versus-copy\n"
     ]
    },
    {
     "name": "stdout",
     "output_type": "stream",
     "text": [
      ">>>>>> buy list (1) : 2012-06-14 00:00:00\n",
      "현대약품(A004310) : 4633\n",
      "\n",
      "\n",
      ">>>>>> enough profit (주연테크 : A044380) - (579.0 : 0.55) : 2012-06-19 00:00:00\n",
      ">>>>>> sell list (1) : 2012-06-19 00:00:00\n",
      "['A044380']\n",
      "\n",
      "\n"
     ]
    },
    {
     "name": "stderr",
     "output_type": "stream",
     "text": [
      "/Users/Shared/anaconda3/anaconda3/lib/python3.7/site-packages/ipykernel_launcher.py:689: SettingWithCopyWarning: \n",
      "A value is trying to be set on a copy of a slice from a DataFrame.\n",
      "Try using .loc[row_indexer,col_indexer] = value instead\n",
      "\n",
      "See the caveats in the documentation: http://pandas.pydata.org/pandas-docs/stable/indexing.html#indexing-view-versus-copy\n"
     ]
    },
    {
     "name": "stdout",
     "output_type": "stream",
     "text": [
      ">>>>>> buy list (1) : 2012-06-19 00:00:00\n",
      "파인디지털(A038950) : 4516\n",
      "\n",
      "\n",
      ">>>>>> enough periods (삼일제약 : A000520) - (3998 : -0.19) : 367 days 00:00:002012-07-02 00:00:00\n",
      ">>>>>> sell list (1) : 2012-07-02 00:00:00\n",
      "['A000520']\n",
      "\n",
      "\n"
     ]
    },
    {
     "name": "stderr",
     "output_type": "stream",
     "text": [
      "/Users/Shared/anaconda3/anaconda3/lib/python3.7/site-packages/ipykernel_launcher.py:689: SettingWithCopyWarning: \n",
      "A value is trying to be set on a copy of a slice from a DataFrame.\n",
      "Try using .loc[row_indexer,col_indexer] = value instead\n",
      "\n",
      "See the caveats in the documentation: http://pandas.pydata.org/pandas-docs/stable/indexing.html#indexing-view-versus-copy\n"
     ]
    },
    {
     "name": "stdout",
     "output_type": "stream",
     "text": [
      ">>>>>> buy list (1) : 2012-07-02 00:00:00\n",
      "에넥스(A011090) : 3181\n",
      "\n",
      "\n",
      ">>>>>> enough periods (삼천당제약 : A000250) - (2075 : -0.25) : 366 days 00:00:002012-07-06 00:00:00\n",
      ">>>>>> sell list (1) : 2012-07-06 00:00:00\n",
      "['A000250']\n",
      "\n",
      "\n"
     ]
    },
    {
     "name": "stderr",
     "output_type": "stream",
     "text": [
      "/Users/Shared/anaconda3/anaconda3/lib/python3.7/site-packages/ipykernel_launcher.py:689: SettingWithCopyWarning: \n",
      "A value is trying to be set on a copy of a slice from a DataFrame.\n",
      "Try using .loc[row_indexer,col_indexer] = value instead\n",
      "\n",
      "See the caveats in the documentation: http://pandas.pydata.org/pandas-docs/stable/indexing.html#indexing-view-versus-copy\n"
     ]
    },
    {
     "name": "stdout",
     "output_type": "stream",
     "text": [
      ">>>>>> buy list (1) : 2012-07-06 00:00:00\n",
      "삼아제약(A009300) : 772\n",
      "\n",
      "\n",
      ">>>>>> enough periods (F&F : A007700) - (6370 : -0.34) : 366 days 00:00:002012-07-11 00:00:00\n",
      ">>>>>> sell list (1) : 2012-07-11 00:00:00\n",
      "['A007700']\n",
      "\n",
      "\n"
     ]
    },
    {
     "name": "stderr",
     "output_type": "stream",
     "text": [
      "/Users/Shared/anaconda3/anaconda3/lib/python3.7/site-packages/ipykernel_launcher.py:689: SettingWithCopyWarning: \n",
      "A value is trying to be set on a copy of a slice from a DataFrame.\n",
      "Try using .loc[row_indexer,col_indexer] = value instead\n",
      "\n",
      "See the caveats in the documentation: http://pandas.pydata.org/pandas-docs/stable/indexing.html#indexing-view-versus-copy\n"
     ]
    },
    {
     "name": "stdout",
     "output_type": "stream",
     "text": [
      ">>>>>> buy list (1) : 2012-07-11 00:00:00\n",
      "경동나비엔(A009450) : 646\n",
      "\n",
      "\n",
      ">>>>>> enough periods (대현 : A016090) - (1245 : -0.52) : 366 days 00:00:002012-08-03 00:00:00\n",
      ">>>>>> sell list (1) : 2012-08-03 00:00:00\n",
      "['A016090']\n",
      "\n",
      "\n"
     ]
    },
    {
     "name": "stderr",
     "output_type": "stream",
     "text": [
      "/Users/Shared/anaconda3/anaconda3/lib/python3.7/site-packages/ipykernel_launcher.py:689: SettingWithCopyWarning: \n",
      "A value is trying to be set on a copy of a slice from a DataFrame.\n",
      "Try using .loc[row_indexer,col_indexer] = value instead\n",
      "\n",
      "See the caveats in the documentation: http://pandas.pydata.org/pandas-docs/stable/indexing.html#indexing-view-versus-copy\n"
     ]
    },
    {
     "name": "stdout",
     "output_type": "stream",
     "text": [
      ">>>>>> buy list (1) : 2012-08-03 00:00:00\n",
      "신일제약(A012790) : 754\n",
      "\n",
      "\n",
      ">>>>>> enough periods (좋은사람들 : A033340) - (1519 : -0.28) : 366 days 00:00:002012-08-17 00:00:00\n",
      ">>>>>> sell list (1) : 2012-08-17 00:00:00\n",
      "['A033340']\n",
      "\n",
      "\n"
     ]
    },
    {
     "name": "stderr",
     "output_type": "stream",
     "text": [
      "/Users/Shared/anaconda3/anaconda3/lib/python3.7/site-packages/ipykernel_launcher.py:689: SettingWithCopyWarning: \n",
      "A value is trying to be set on a copy of a slice from a DataFrame.\n",
      "Try using .loc[row_indexer,col_indexer] = value instead\n",
      "\n",
      "See the caveats in the documentation: http://pandas.pydata.org/pandas-docs/stable/indexing.html#indexing-view-versus-copy\n"
     ]
    },
    {
     "name": "stdout",
     "output_type": "stream",
     "text": [
      ">>>>>> buy list (1) : 2012-08-17 00:00:00\n",
      "인터엠(A017250) : 2382\n",
      "\n",
      "\n",
      ">>>>>> enough periods (부방 : A014470) - (795 : -0.16) : 366 days 00:00:002012-08-31 00:00:00\n",
      ">>>>>> enough profit (동성제약 : A002210) - (4405 : 0.5) : 2012-08-31 00:00:00\n",
      ">>>>>> sell list (2) : 2012-08-31 00:00:00\n",
      "['A014470', 'A002210']\n",
      "\n",
      "\n"
     ]
    },
    {
     "name": "stderr",
     "output_type": "stream",
     "text": [
      "/Users/Shared/anaconda3/anaconda3/lib/python3.7/site-packages/ipykernel_launcher.py:689: SettingWithCopyWarning: \n",
      "A value is trying to be set on a copy of a slice from a DataFrame.\n",
      "Try using .loc[row_indexer,col_indexer] = value instead\n",
      "\n",
      "See the caveats in the documentation: http://pandas.pydata.org/pandas-docs/stable/indexing.html#indexing-view-versus-copy\n"
     ]
    },
    {
     "name": "stdout",
     "output_type": "stream",
     "text": [
      ">>>>>> buy list (2) : 2012-08-31 00:00:00\n",
      "국제약품(A002720) : 2013\n",
      "디아이동일(A001530) : 127\n",
      "\n",
      "\n",
      ">>>>>> enough profit (파인디지털 : A038950) - (5210 : 0.5) : 2012-09-03 00:00:00\n",
      ">>>>>> sell list (1) : 2012-09-03 00:00:00\n",
      "['A038950']\n",
      "\n",
      "\n"
     ]
    },
    {
     "name": "stderr",
     "output_type": "stream",
     "text": [
      "/Users/Shared/anaconda3/anaconda3/lib/python3.7/site-packages/ipykernel_launcher.py:689: SettingWithCopyWarning: \n",
      "A value is trying to be set on a copy of a slice from a DataFrame.\n",
      "Try using .loc[row_indexer,col_indexer] = value instead\n",
      "\n",
      "See the caveats in the documentation: http://pandas.pydata.org/pandas-docs/stable/indexing.html#indexing-view-versus-copy\n"
     ]
    },
    {
     "name": "stdout",
     "output_type": "stream",
     "text": [
      ">>>>>> buy list (1) : 2012-09-03 00:00:00\n",
      "부방(A014470) : 29348\n",
      "\n",
      "\n",
      ">>>>>> enough profit (삼아제약 : A009300) - (10100 : 0.57) : 2012-09-07 00:00:00\n",
      ">>>>>> sell list (1) : 2012-09-07 00:00:00\n",
      "['A009300']\n",
      "\n",
      "\n"
     ]
    },
    {
     "name": "stderr",
     "output_type": "stream",
     "text": [
      "/Users/Shared/anaconda3/anaconda3/lib/python3.7/site-packages/ipykernel_launcher.py:689: SettingWithCopyWarning: \n",
      "A value is trying to be set on a copy of a slice from a DataFrame.\n",
      "Try using .loc[row_indexer,col_indexer] = value instead\n",
      "\n",
      "See the caveats in the documentation: http://pandas.pydata.org/pandas-docs/stable/indexing.html#indexing-view-versus-copy\n"
     ]
    },
    {
     "name": "stdout",
     "output_type": "stream",
     "text": [
      ">>>>>> buy list (1) : 2012-09-07 00:00:00\n",
      "파인디지털(A038950) : 1297\n",
      "\n",
      "\n",
      ">>>>>> enough profit (경동나비엔 : A009450) - (9680 : 0.51) : 2012-09-17 00:00:00\n",
      ">>>>>> sell list (1) : 2012-09-17 00:00:00\n",
      "['A009450']\n",
      "\n",
      "\n"
     ]
    },
    {
     "name": "stderr",
     "output_type": "stream",
     "text": [
      "/Users/Shared/anaconda3/anaconda3/lib/python3.7/site-packages/ipykernel_launcher.py:689: SettingWithCopyWarning: \n",
      "A value is trying to be set on a copy of a slice from a DataFrame.\n",
      "Try using .loc[row_indexer,col_indexer] = value instead\n",
      "\n",
      "See the caveats in the documentation: http://pandas.pydata.org/pandas-docs/stable/indexing.html#indexing-view-versus-copy\n"
     ]
    },
    {
     "name": "stdout",
     "output_type": "stream",
     "text": [
      ">>>>>> buy list (1) : 2012-09-17 00:00:00\n",
      "동성제약(A002210) : 1412\n",
      "\n",
      "\n",
      ">>>>>> enough profit (서산 : A079650) - (809 : 0.55) : 2012-10-04 00:00:00\n",
      ">>>>>> sell list (1) : 2012-10-04 00:00:00\n",
      "['A079650']\n",
      "\n",
      "\n"
     ]
    },
    {
     "name": "stderr",
     "output_type": "stream",
     "text": [
      "/Users/Shared/anaconda3/anaconda3/lib/python3.7/site-packages/ipykernel_launcher.py:689: SettingWithCopyWarning: \n",
      "A value is trying to be set on a copy of a slice from a DataFrame.\n",
      "Try using .loc[row_indexer,col_indexer] = value instead\n",
      "\n",
      "See the caveats in the documentation: http://pandas.pydata.org/pandas-docs/stable/indexing.html#indexing-view-versus-copy\n"
     ]
    },
    {
     "name": "stdout",
     "output_type": "stream",
     "text": [
      ">>>>>> buy list (1) : 2012-10-04 00:00:00\n",
      "삼아제약(A009300) : 2263\n",
      "\n",
      "\n",
      ">>>>>> enough profit (부방 : A014470) - (1299 : 0.62) : 2012-10-05 00:00:00\n",
      ">>>>>> sell list (1) : 2012-10-05 00:00:00\n",
      "['A014470']\n",
      "\n",
      "\n"
     ]
    },
    {
     "name": "stderr",
     "output_type": "stream",
     "text": [
      "/Users/Shared/anaconda3/anaconda3/lib/python3.7/site-packages/ipykernel_launcher.py:689: SettingWithCopyWarning: \n",
      "A value is trying to be set on a copy of a slice from a DataFrame.\n",
      "Try using .loc[row_indexer,col_indexer] = value instead\n",
      "\n",
      "See the caveats in the documentation: http://pandas.pydata.org/pandas-docs/stable/indexing.html#indexing-view-versus-copy\n"
     ]
    },
    {
     "name": "stdout",
     "output_type": "stream",
     "text": [
      ">>>>>> buy list (1) : 2012-10-05 00:00:00\n",
      "서산(A079650) : 46446\n",
      "\n",
      "\n",
      ">>>>>> enough profit (신원 : A009270) - (1660 : 0.5) : 2012-10-16 00:00:00\n",
      ">>>>>> sell list (1) : 2012-10-16 00:00:00\n",
      "['A009270']\n",
      "\n",
      "\n"
     ]
    },
    {
     "name": "stderr",
     "output_type": "stream",
     "text": [
      "/Users/Shared/anaconda3/anaconda3/lib/python3.7/site-packages/ipykernel_launcher.py:689: SettingWithCopyWarning: \n",
      "A value is trying to be set on a copy of a slice from a DataFrame.\n",
      "Try using .loc[row_indexer,col_indexer] = value instead\n",
      "\n",
      "See the caveats in the documentation: http://pandas.pydata.org/pandas-docs/stable/indexing.html#indexing-view-versus-copy\n"
     ]
    },
    {
     "name": "stdout",
     "output_type": "stream",
     "text": [
      ">>>>>> buy list (1) : 2012-10-16 00:00:00\n",
      "부방(A014470) : 4435\n",
      "\n",
      "\n",
      ">>>>>> enough profit (코리아나 : A027050) - (2510 : 0.54) : 2012-10-24 00:00:00\n",
      ">>>>>> sell list (1) : 2012-10-24 00:00:00\n",
      "['A027050']\n",
      "\n",
      "\n"
     ]
    },
    {
     "name": "stderr",
     "output_type": "stream",
     "text": [
      "/Users/Shared/anaconda3/anaconda3/lib/python3.7/site-packages/ipykernel_launcher.py:689: SettingWithCopyWarning: \n",
      "A value is trying to be set on a copy of a slice from a DataFrame.\n",
      "Try using .loc[row_indexer,col_indexer] = value instead\n",
      "\n",
      "See the caveats in the documentation: http://pandas.pydata.org/pandas-docs/stable/indexing.html#indexing-view-versus-copy\n"
     ]
    },
    {
     "name": "stdout",
     "output_type": "stream",
     "text": [
      ">>>>>> buy list (1) : 2012-10-24 00:00:00\n",
      "신원(A009270) : 19502\n",
      "\n",
      "\n",
      ">>>>>> enough periods (진도 : A088790) - (5120.0 : -0.28) : 366 days 00:00:002012-11-28 00:00:00\n",
      ">>>>>> sell list (1) : 2012-11-28 00:00:00\n",
      "['A088790']\n",
      "\n",
      "\n"
     ]
    },
    {
     "name": "stderr",
     "output_type": "stream",
     "text": [
      "/Users/Shared/anaconda3/anaconda3/lib/python3.7/site-packages/ipykernel_launcher.py:689: SettingWithCopyWarning: \n",
      "A value is trying to be set on a copy of a slice from a DataFrame.\n",
      "Try using .loc[row_indexer,col_indexer] = value instead\n",
      "\n",
      "See the caveats in the documentation: http://pandas.pydata.org/pandas-docs/stable/indexing.html#indexing-view-versus-copy\n"
     ]
    },
    {
     "name": "stdout",
     "output_type": "stream",
     "text": [
      ">>>>>> buy list (1) : 2012-11-28 00:00:00\n",
      "코리아나(A027050) : 4659\n",
      "\n",
      "\n",
      ">>>>>> enough profit (신일제약 : A012790) - (5020 : 0.67) : 2012-12-12 00:00:00\n",
      ">>>>>> sell list (1) : 2012-12-12 00:00:00\n",
      "['A012790']\n",
      "\n",
      "\n"
     ]
    },
    {
     "name": "stderr",
     "output_type": "stream",
     "text": [
      "/Users/Shared/anaconda3/anaconda3/lib/python3.7/site-packages/ipykernel_launcher.py:689: SettingWithCopyWarning: \n",
      "A value is trying to be set on a copy of a slice from a DataFrame.\n",
      "Try using .loc[row_indexer,col_indexer] = value instead\n",
      "\n",
      "See the caveats in the documentation: http://pandas.pydata.org/pandas-docs/stable/indexing.html#indexing-view-versus-copy\n"
     ]
    },
    {
     "name": "stdout",
     "output_type": "stream",
     "text": [
      ">>>>>> buy list (1) : 2012-12-12 00:00:00\n",
      "경동나비엔(A009450) : 310\n",
      "\n",
      "\n",
      ">>>>>> enough profit (SG세계물산 : A004060) - (888 : 0.52) : 2012-12-24 00:00:00\n",
      ">>>>>> sell list (1) : 2012-12-24 00:00:00\n",
      "['A004060']\n",
      "\n",
      "\n"
     ]
    },
    {
     "name": "stderr",
     "output_type": "stream",
     "text": [
      "/Users/Shared/anaconda3/anaconda3/lib/python3.7/site-packages/ipykernel_launcher.py:689: SettingWithCopyWarning: \n",
      "A value is trying to be set on a copy of a slice from a DataFrame.\n",
      "Try using .loc[row_indexer,col_indexer] = value instead\n",
      "\n",
      "See the caveats in the documentation: http://pandas.pydata.org/pandas-docs/stable/indexing.html#indexing-view-versus-copy\n"
     ]
    },
    {
     "name": "stdout",
     "output_type": "stream",
     "text": [
      ">>>>>> buy list (1) : 2012-12-24 00:00:00\n",
      "신일제약(A012790) : 3049\n",
      "\n",
      "\n",
      ">>>>>> enough periods (NICE : A034310) - (6840 : 0.34) : 366 days 00:00:002013-02-07 00:00:00\n",
      ">>>>>> sell list (1) : 2013-02-07 00:00:00\n",
      "['A034310']\n",
      "\n",
      "\n"
     ]
    },
    {
     "name": "stderr",
     "output_type": "stream",
     "text": [
      "/Users/Shared/anaconda3/anaconda3/lib/python3.7/site-packages/ipykernel_launcher.py:689: SettingWithCopyWarning: \n",
      "A value is trying to be set on a copy of a slice from a DataFrame.\n",
      "Try using .loc[row_indexer,col_indexer] = value instead\n",
      "\n",
      "See the caveats in the documentation: http://pandas.pydata.org/pandas-docs/stable/indexing.html#indexing-view-versus-copy\n"
     ]
    },
    {
     "name": "stdout",
     "output_type": "stream",
     "text": [
      ">>>>>> buy list (1) : 2013-02-07 00:00:00\n",
      "좋은사람들(A033340) : 4828\n",
      "\n",
      "\n",
      ">>>>>> enough periods (신성통상 : A005390) - (926 : -0.39) : 366 days 00:00:002013-02-13 00:00:00\n",
      ">>>>>> enough profit (서산 : A079650) - (1253 : 0.53) : 2013-02-13 00:00:00\n",
      ">>>>>> sell list (2) : 2013-02-13 00:00:00\n",
      "['A005390', 'A079650']\n",
      "\n",
      "\n"
     ]
    },
    {
     "name": "stderr",
     "output_type": "stream",
     "text": [
      "/Users/Shared/anaconda3/anaconda3/lib/python3.7/site-packages/ipykernel_launcher.py:689: SettingWithCopyWarning: \n",
      "A value is trying to be set on a copy of a slice from a DataFrame.\n",
      "Try using .loc[row_indexer,col_indexer] = value instead\n",
      "\n",
      "See the caveats in the documentation: http://pandas.pydata.org/pandas-docs/stable/indexing.html#indexing-view-versus-copy\n"
     ]
    },
    {
     "name": "stdout",
     "output_type": "stream",
     "text": [
      ">>>>>> buy list (2) : 2013-02-13 00:00:00\n",
      "대현(A016090) : 27111\n",
      "백금T&A(A046310) : 22576\n",
      "\n",
      "\n",
      ">>>>>> enough profit (파인디지털 : A038950) - (9220 : 0.53) : 2013-02-15 00:00:00\n",
      ">>>>>> sell list (1) : 2013-02-15 00:00:00\n",
      "['A038950']\n",
      "\n",
      "\n"
     ]
    },
    {
     "name": "stderr",
     "output_type": "stream",
     "text": [
      "/Users/Shared/anaconda3/anaconda3/lib/python3.7/site-packages/ipykernel_launcher.py:689: SettingWithCopyWarning: \n",
      "A value is trying to be set on a copy of a slice from a DataFrame.\n",
      "Try using .loc[row_indexer,col_indexer] = value instead\n",
      "\n",
      "See the caveats in the documentation: http://pandas.pydata.org/pandas-docs/stable/indexing.html#indexing-view-versus-copy\n"
     ]
    },
    {
     "name": "stdout",
     "output_type": "stream",
     "text": [
      ">>>>>> buy list (1) : 2013-02-15 00:00:00\n",
      "서산(A079650) : 9574\n",
      "\n",
      "\n",
      ">>>>>> enough profit (대현 : A016090) - (1745 : 0.53) : 2013-03-13 00:00:00\n",
      ">>>>>> sell list (1) : 2013-03-13 00:00:00\n",
      "['A016090']\n",
      "\n",
      "\n"
     ]
    },
    {
     "name": "stderr",
     "output_type": "stream",
     "text": [
      "/Users/Shared/anaconda3/anaconda3/lib/python3.7/site-packages/ipykernel_launcher.py:689: SettingWithCopyWarning: \n",
      "A value is trying to be set on a copy of a slice from a DataFrame.\n",
      "Try using .loc[row_indexer,col_indexer] = value instead\n",
      "\n",
      "See the caveats in the documentation: http://pandas.pydata.org/pandas-docs/stable/indexing.html#indexing-view-versus-copy\n"
     ]
    },
    {
     "name": "stdout",
     "output_type": "stream",
     "text": [
      ">>>>>> buy list (1) : 2013-03-13 00:00:00\n",
      "F&F(A007700) : 7717\n",
      "\n",
      "\n",
      ">>>>>> enough periods (샘표 : A007540) - (16705 : 0.24) : 368 days 00:00:002013-03-18 00:00:00\n",
      ">>>>>> sell list (1) : 2013-03-18 00:00:00\n",
      "['A007540']\n",
      "\n",
      "\n"
     ]
    },
    {
     "name": "stderr",
     "output_type": "stream",
     "text": [
      "/Users/Shared/anaconda3/anaconda3/lib/python3.7/site-packages/ipykernel_launcher.py:689: SettingWithCopyWarning: \n",
      "A value is trying to be set on a copy of a slice from a DataFrame.\n",
      "Try using .loc[row_indexer,col_indexer] = value instead\n",
      "\n",
      "See the caveats in the documentation: http://pandas.pydata.org/pandas-docs/stable/indexing.html#indexing-view-versus-copy\n"
     ]
    },
    {
     "name": "stdout",
     "output_type": "stream",
     "text": [
      ">>>>>> buy list (1) : 2013-03-18 00:00:00\n",
      "대현(A016090) : 5989\n",
      "\n",
      "\n",
      ">>>>>> enough periods (제우스 : A079370) - (3433.0 : -0.18) : 366 days 00:00:002013-04-05 00:00:00\n",
      ">>>>>> sell list (1) : 2013-04-05 00:00:00\n",
      "['A079370']\n",
      "\n",
      "\n"
     ]
    },
    {
     "name": "stderr",
     "output_type": "stream",
     "text": [
      "/Users/Shared/anaconda3/anaconda3/lib/python3.7/site-packages/ipykernel_launcher.py:689: SettingWithCopyWarning: \n",
      "A value is trying to be set on a copy of a slice from a DataFrame.\n",
      "Try using .loc[row_indexer,col_indexer] = value instead\n",
      "\n",
      "See the caveats in the documentation: http://pandas.pydata.org/pandas-docs/stable/indexing.html#indexing-view-versus-copy\n"
     ]
    },
    {
     "name": "stdout",
     "output_type": "stream",
     "text": [
      ">>>>>> buy list (1) : 2013-04-05 00:00:00\n",
      "삼성출판사(A068290) : 1207\n",
      "\n",
      "\n",
      ">>>>>> enough profit (동성제약 : A002210) - (6650 : 0.5) : 2013-04-16 00:00:00\n",
      ">>>>>> sell list (1) : 2013-04-16 00:00:00\n",
      "['A002210']\n",
      "\n",
      "\n"
     ]
    },
    {
     "name": "stderr",
     "output_type": "stream",
     "text": [
      "/Users/Shared/anaconda3/anaconda3/lib/python3.7/site-packages/ipykernel_launcher.py:689: SettingWithCopyWarning: \n",
      "A value is trying to be set on a copy of a slice from a DataFrame.\n",
      "Try using .loc[row_indexer,col_indexer] = value instead\n",
      "\n",
      "See the caveats in the documentation: http://pandas.pydata.org/pandas-docs/stable/indexing.html#indexing-view-versus-copy\n"
     ]
    },
    {
     "name": "stdout",
     "output_type": "stream",
     "text": [
      ">>>>>> buy list (1) : 2013-04-16 00:00:00\n",
      "제우스(A079370) : 2647\n",
      "\n",
      "\n",
      ">>>>>> enough periods (신영와코루 : A005800) - (107500 : 0.1) : 366 days 00:00:002013-04-17 00:00:00\n",
      ">>>>>> sell list (1) : 2013-04-17 00:00:00\n",
      "['A005800']\n",
      "\n",
      "\n"
     ]
    },
    {
     "name": "stderr",
     "output_type": "stream",
     "text": [
      "/Users/Shared/anaconda3/anaconda3/lib/python3.7/site-packages/ipykernel_launcher.py:689: SettingWithCopyWarning: \n",
      "A value is trying to be set on a copy of a slice from a DataFrame.\n",
      "Try using .loc[row_indexer,col_indexer] = value instead\n",
      "\n",
      "See the caveats in the documentation: http://pandas.pydata.org/pandas-docs/stable/indexing.html#indexing-view-versus-copy\n"
     ]
    },
    {
     "name": "stdout",
     "output_type": "stream",
     "text": [
      ">>>>>> buy list (1) : 2013-04-17 00:00:00\n",
      "NICE(A034310) : 730\n",
      "\n",
      "\n",
      ">>>>>> enough profit (신일제약 : A012790) - (7150 : 0.67) : 2013-04-18 00:00:00\n",
      ">>>>>> sell list (1) : 2013-04-18 00:00:00\n",
      "['A012790']\n",
      "\n",
      "\n"
     ]
    },
    {
     "name": "stderr",
     "output_type": "stream",
     "text": [
      "/Users/Shared/anaconda3/anaconda3/lib/python3.7/site-packages/ipykernel_launcher.py:689: SettingWithCopyWarning: \n",
      "A value is trying to be set on a copy of a slice from a DataFrame.\n",
      "Try using .loc[row_indexer,col_indexer] = value instead\n",
      "\n",
      "See the caveats in the documentation: http://pandas.pydata.org/pandas-docs/stable/indexing.html#indexing-view-versus-copy\n"
     ]
    },
    {
     "name": "stdout",
     "output_type": "stream",
     "text": [
      ">>>>>> buy list (1) : 2013-04-18 00:00:00\n",
      "신영와코루(A005800) : 204\n",
      "\n",
      "\n",
      ">>>>>> enough profit (부방 : A014470) - (2071 : 0.52) : 2013-04-19 00:00:00\n",
      ">>>>>> sell list (1) : 2013-04-19 00:00:00\n",
      "['A014470']\n",
      "\n",
      "\n"
     ]
    },
    {
     "name": "stderr",
     "output_type": "stream",
     "text": [
      "/Users/Shared/anaconda3/anaconda3/lib/python3.7/site-packages/ipykernel_launcher.py:689: SettingWithCopyWarning: \n",
      "A value is trying to be set on a copy of a slice from a DataFrame.\n",
      "Try using .loc[row_indexer,col_indexer] = value instead\n",
      "\n",
      "See the caveats in the documentation: http://pandas.pydata.org/pandas-docs/stable/indexing.html#indexing-view-versus-copy\n"
     ]
    },
    {
     "name": "stdout",
     "output_type": "stream",
     "text": [
      ">>>>>> buy list (1) : 2013-04-19 00:00:00\n",
      "한국수출포장공업(A002200) : 363\n",
      "\n",
      "\n",
      ">>>>>> enough periods (남영비비안 : A002070) - (7170 : -0.11) : 366 days 00:00:002013-04-24 00:00:00\n",
      ">>>>>> sell list (1) : 2013-04-24 00:00:00\n",
      "['A002070']\n",
      "\n",
      "\n"
     ]
    },
    {
     "name": "stderr",
     "output_type": "stream",
     "text": [
      "/Users/Shared/anaconda3/anaconda3/lib/python3.7/site-packages/ipykernel_launcher.py:689: SettingWithCopyWarning: \n",
      "A value is trying to be set on a copy of a slice from a DataFrame.\n",
      "Try using .loc[row_indexer,col_indexer] = value instead\n",
      "\n",
      "See the caveats in the documentation: http://pandas.pydata.org/pandas-docs/stable/indexing.html#indexing-view-versus-copy\n"
     ]
    },
    {
     "name": "stdout",
     "output_type": "stream",
     "text": [
      ">>>>>> buy list (1) : 2013-04-24 00:00:00\n",
      "화승알앤에이(A013520) : 3534\n",
      "\n",
      "\n",
      ">>>>>> enough profit (인터엠 : A017250) - (2851 : 0.56) : 2013-05-08 00:00:00\n",
      ">>>>>> sell list (1) : 2013-05-08 00:00:00\n",
      "['A017250']\n",
      "\n",
      "\n"
     ]
    },
    {
     "name": "stderr",
     "output_type": "stream",
     "text": [
      "/Users/Shared/anaconda3/anaconda3/lib/python3.7/site-packages/ipykernel_launcher.py:689: SettingWithCopyWarning: \n",
      "A value is trying to be set on a copy of a slice from a DataFrame.\n",
      "Try using .loc[row_indexer,col_indexer] = value instead\n",
      "\n",
      "See the caveats in the documentation: http://pandas.pydata.org/pandas-docs/stable/indexing.html#indexing-view-versus-copy\n"
     ]
    },
    {
     "name": "stdout",
     "output_type": "stream",
     "text": [
      ">>>>>> buy list (1) : 2013-05-08 00:00:00\n",
      "유니셈(A036200) : 5915\n",
      "\n",
      "\n",
      ">>>>>> enough profit (현대약품 : A004310) - (2150 : 0.56) : 2013-05-13 00:00:00\n",
      ">>>>>> sell list (1) : 2013-05-13 00:00:00\n",
      "['A004310']\n",
      "\n",
      "\n"
     ]
    },
    {
     "name": "stderr",
     "output_type": "stream",
     "text": [
      "/Users/Shared/anaconda3/anaconda3/lib/python3.7/site-packages/ipykernel_launcher.py:689: SettingWithCopyWarning: \n",
      "A value is trying to be set on a copy of a slice from a DataFrame.\n",
      "Try using .loc[row_indexer,col_indexer] = value instead\n",
      "\n",
      "See the caveats in the documentation: http://pandas.pydata.org/pandas-docs/stable/indexing.html#indexing-view-versus-copy\n"
     ]
    },
    {
     "name": "stdout",
     "output_type": "stream",
     "text": [
      ">>>>>> buy list (1) : 2013-05-13 00:00:00\n",
      "국동(A005320) : 8329\n",
      "\n",
      "\n",
      ">>>>>> enough periods (에넥스 : A011090) - (581 : -0.37) : 366 days 00:00:002013-07-03 00:00:00\n",
      ">>>>>> sell list (1) : 2013-07-03 00:00:00\n",
      "['A011090']\n",
      "\n",
      "\n"
     ]
    },
    {
     "name": "stderr",
     "output_type": "stream",
     "text": [
      "/Users/Shared/anaconda3/anaconda3/lib/python3.7/site-packages/ipykernel_launcher.py:689: SettingWithCopyWarning: \n",
      "A value is trying to be set on a copy of a slice from a DataFrame.\n",
      "Try using .loc[row_indexer,col_indexer] = value instead\n",
      "\n",
      "See the caveats in the documentation: http://pandas.pydata.org/pandas-docs/stable/indexing.html#indexing-view-versus-copy\n"
     ]
    },
    {
     "name": "stdout",
     "output_type": "stream",
     "text": [
      ">>>>>> buy list (1) : 2013-07-03 00:00:00\n",
      "오리콤(A010470) : 638\n",
      "\n",
      "\n",
      ">>>>>> enough profit (경동나비엔 : A009450) - (19400 : 0.59) : 2013-07-19 00:00:00\n",
      ">>>>>> sell list (1) : 2013-07-19 00:00:00\n",
      "['A009450']\n",
      "\n",
      "\n"
     ]
    },
    {
     "name": "stderr",
     "output_type": "stream",
     "text": [
      "/Users/Shared/anaconda3/anaconda3/lib/python3.7/site-packages/ipykernel_launcher.py:689: SettingWithCopyWarning: \n",
      "A value is trying to be set on a copy of a slice from a DataFrame.\n",
      "Try using .loc[row_indexer,col_indexer] = value instead\n",
      "\n",
      "See the caveats in the documentation: http://pandas.pydata.org/pandas-docs/stable/indexing.html#indexing-view-versus-copy\n"
     ]
    },
    {
     "name": "stdout",
     "output_type": "stream",
     "text": [
      ">>>>>> buy list (1) : 2013-07-19 00:00:00\n",
      "대상홀딩스(A084690) : 825\n",
      "\n",
      "\n",
      ">>>>>> enough profit (대현 : A016090) - (2635 : 0.5) : 2013-08-01 00:00:00\n",
      ">>>>>> sell list (1) : 2013-08-01 00:00:00\n",
      "['A016090']\n",
      "\n",
      "\n"
     ]
    },
    {
     "name": "stderr",
     "output_type": "stream",
     "text": [
      "/Users/Shared/anaconda3/anaconda3/lib/python3.7/site-packages/ipykernel_launcher.py:689: SettingWithCopyWarning: \n",
      "A value is trying to be set on a copy of a slice from a DataFrame.\n",
      "Try using .loc[row_indexer,col_indexer] = value instead\n",
      "\n",
      "See the caveats in the documentation: http://pandas.pydata.org/pandas-docs/stable/indexing.html#indexing-view-versus-copy\n"
     ]
    },
    {
     "name": "stdout",
     "output_type": "stream",
     "text": [
      ">>>>>> buy list (1) : 2013-08-01 00:00:00\n",
      "한화갤러리아타임월드(A027390) : 447\n",
      "\n",
      "\n",
      ">>>>>> enough profit (NICE : A034310) - (11850 : 0.52) : 2013-08-05 00:00:00\n",
      ">>>>>> sell list (1) : 2013-08-05 00:00:00\n",
      "['A034310']\n",
      "\n",
      "\n"
     ]
    },
    {
     "name": "stderr",
     "output_type": "stream",
     "text": [
      "/Users/Shared/anaconda3/anaconda3/lib/python3.7/site-packages/ipykernel_launcher.py:689: SettingWithCopyWarning: \n",
      "A value is trying to be set on a copy of a slice from a DataFrame.\n",
      "Try using .loc[row_indexer,col_indexer] = value instead\n",
      "\n",
      "See the caveats in the documentation: http://pandas.pydata.org/pandas-docs/stable/indexing.html#indexing-view-versus-copy\n"
     ]
    },
    {
     "name": "stdout",
     "output_type": "stream",
     "text": [
      ">>>>>> buy list (1) : 2013-08-05 00:00:00\n",
      "대현(A016090) : 3433\n",
      "\n",
      "\n",
      ">>>>>> enough periods (국제약품 : A002720) - (1820 : -0.28) : 367 days 00:00:002013-09-02 00:00:00\n",
      ">>>>>> enough periods (디아이동일 : A001530) - (47716 : 0.19) : 367 days 00:00:002013-09-02 00:00:00\n",
      ">>>>>> sell list (2) : 2013-09-02 00:00:00\n",
      "['A002720', 'A001530']\n",
      "\n",
      "\n"
     ]
    },
    {
     "name": "stderr",
     "output_type": "stream",
     "text": [
      "/Users/Shared/anaconda3/anaconda3/lib/python3.7/site-packages/ipykernel_launcher.py:689: SettingWithCopyWarning: \n",
      "A value is trying to be set on a copy of a slice from a DataFrame.\n",
      "Try using .loc[row_indexer,col_indexer] = value instead\n",
      "\n",
      "See the caveats in the documentation: http://pandas.pydata.org/pandas-docs/stable/indexing.html#indexing-view-versus-copy\n"
     ]
    },
    {
     "name": "stdout",
     "output_type": "stream",
     "text": [
      ">>>>>> buy list (2) : 2013-09-02 00:00:00\n",
      "NICE(A034310) : 456\n",
      "부방(A014470) : 1451\n",
      "\n",
      "\n",
      ">>>>>> enough periods (삼아제약 : A009300) - (10100 : -0.07) : 368 days 00:00:002013-10-07 00:00:00\n",
      ">>>>>> sell list (1) : 2013-10-07 00:00:00\n",
      "['A009300']\n",
      "\n",
      "\n"
     ]
    },
    {
     "name": "stderr",
     "output_type": "stream",
     "text": [
      "/Users/Shared/anaconda3/anaconda3/lib/python3.7/site-packages/ipykernel_launcher.py:689: SettingWithCopyWarning: \n",
      "A value is trying to be set on a copy of a slice from a DataFrame.\n",
      "Try using .loc[row_indexer,col_indexer] = value instead\n",
      "\n",
      "See the caveats in the documentation: http://pandas.pydata.org/pandas-docs/stable/indexing.html#indexing-view-versus-copy\n"
     ]
    },
    {
     "name": "stdout",
     "output_type": "stream",
     "text": [
      ">>>>>> buy list (1) : 2013-10-07 00:00:00\n",
      "아이크래프트(A052460) : 15182\n",
      "\n",
      "\n",
      ">>>>>> enough periods (신원 : A009270) - (1305 : -0.24) : 366 days 00:00:002013-10-25 00:00:00\n",
      ">>>>>> sell list (1) : 2013-10-25 00:00:00\n",
      "['A009270']\n",
      "\n",
      "\n"
     ]
    },
    {
     "name": "stderr",
     "output_type": "stream",
     "text": [
      "/Users/Shared/anaconda3/anaconda3/lib/python3.7/site-packages/ipykernel_launcher.py:689: SettingWithCopyWarning: \n",
      "A value is trying to be set on a copy of a slice from a DataFrame.\n",
      "Try using .loc[row_indexer,col_indexer] = value instead\n",
      "\n",
      "See the caveats in the documentation: http://pandas.pydata.org/pandas-docs/stable/indexing.html#indexing-view-versus-copy\n"
     ]
    },
    {
     "name": "stdout",
     "output_type": "stream",
     "text": [
      ">>>>>> buy list (1) : 2013-10-25 00:00:00\n",
      "영풍제지(A006740) : 13085\n",
      "\n",
      "\n",
      ">>>>>> enough profit (화승알앤에이 : A013520) - (1865 : 0.5) : 2013-10-31 00:00:00\n",
      ">>>>>> sell list (1) : 2013-10-31 00:00:00\n",
      "['A013520']\n",
      "\n",
      "\n"
     ]
    },
    {
     "name": "stderr",
     "output_type": "stream",
     "text": [
      "/Users/Shared/anaconda3/anaconda3/lib/python3.7/site-packages/ipykernel_launcher.py:689: SettingWithCopyWarning: \n",
      "A value is trying to be set on a copy of a slice from a DataFrame.\n",
      "Try using .loc[row_indexer,col_indexer] = value instead\n",
      "\n",
      "See the caveats in the documentation: http://pandas.pydata.org/pandas-docs/stable/indexing.html#indexing-view-versus-copy\n"
     ]
    },
    {
     "name": "stdout",
     "output_type": "stream",
     "text": [
      ">>>>>> buy list (1) : 2013-10-31 00:00:00\n",
      "대웅(A003090) : 879\n",
      "\n",
      "\n",
      ">>>>>> enough periods (코리아나 : A027050) - (1470 : -0.25) : 366 days 00:00:002013-11-29 00:00:00\n",
      ">>>>>> enough profit (제우스 : A079370) - (5782.0 : 0.63) : 2013-11-29 00:00:00\n",
      ">>>>>> sell list (2) : 2013-11-29 00:00:00\n",
      "['A027050', 'A079370']\n",
      "\n",
      "\n"
     ]
    },
    {
     "name": "stderr",
     "output_type": "stream",
     "text": [
      "/Users/Shared/anaconda3/anaconda3/lib/python3.7/site-packages/ipykernel_launcher.py:689: SettingWithCopyWarning: \n",
      "A value is trying to be set on a copy of a slice from a DataFrame.\n",
      "Try using .loc[row_indexer,col_indexer] = value instead\n",
      "\n",
      "See the caveats in the documentation: http://pandas.pydata.org/pandas-docs/stable/indexing.html#indexing-view-versus-copy\n"
     ]
    },
    {
     "name": "stdout",
     "output_type": "stream",
     "text": [
      ">>>>>> buy list (2) : 2013-11-29 00:00:00\n",
      "화승알앤에이(A013520) : 6037\n",
      "태광산업(A003240) : 9\n",
      "\n",
      "\n",
      ">>>>>> enough periods (좋은사람들 : A033340) - (1155 : -0.15) : 368 days 00:00:002014-02-10 00:00:00\n",
      ">>>>>> sell list (1) : 2014-02-10 00:00:00\n",
      "['A033340']\n",
      "\n",
      "\n"
     ]
    },
    {
     "name": "stderr",
     "output_type": "stream",
     "text": [
      "/Users/Shared/anaconda3/anaconda3/lib/python3.7/site-packages/ipykernel_launcher.py:689: SettingWithCopyWarning: \n",
      "A value is trying to be set on a copy of a slice from a DataFrame.\n",
      "Try using .loc[row_indexer,col_indexer] = value instead\n",
      "\n",
      "See the caveats in the documentation: http://pandas.pydata.org/pandas-docs/stable/indexing.html#indexing-view-versus-copy\n"
     ]
    },
    {
     "name": "stdout",
     "output_type": "stream",
     "text": [
      ">>>>>> buy list (1) : 2014-02-10 00:00:00\n",
      "삼일제약(A000520) : 1109\n",
      "\n",
      "\n",
      ">>>>>> enough periods (백금T&A : A046310) - (1003 : -0.27) : 366 days 00:00:002014-02-14 00:00:00\n",
      ">>>>>> sell list (1) : 2014-02-14 00:00:00\n",
      "['A046310']\n",
      "\n",
      "\n"
     ]
    },
    {
     "name": "stderr",
     "output_type": "stream",
     "text": [
      "/Users/Shared/anaconda3/anaconda3/lib/python3.7/site-packages/ipykernel_launcher.py:689: SettingWithCopyWarning: \n",
      "A value is trying to be set on a copy of a slice from a DataFrame.\n",
      "Try using .loc[row_indexer,col_indexer] = value instead\n",
      "\n",
      "See the caveats in the documentation: http://pandas.pydata.org/pandas-docs/stable/indexing.html#indexing-view-versus-copy\n"
     ]
    },
    {
     "name": "stdout",
     "output_type": "stream",
     "text": [
      ">>>>>> buy list (1) : 2014-02-14 00:00:00\n",
      "좋은사람들(A033340) : 19470\n",
      "\n",
      "\n",
      ">>>>>> enough periods (서산 : A079650) - (1229 : -0.02) : 367 days 00:00:002014-02-17 00:00:00\n",
      ">>>>>> sell list (1) : 2014-02-17 00:00:00\n",
      "['A079650']\n",
      "\n",
      "\n"
     ]
    },
    {
     "name": "stderr",
     "output_type": "stream",
     "text": [
      "/Users/Shared/anaconda3/anaconda3/lib/python3.7/site-packages/ipykernel_launcher.py:689: SettingWithCopyWarning: \n",
      "A value is trying to be set on a copy of a slice from a DataFrame.\n",
      "Try using .loc[row_indexer,col_indexer] = value instead\n",
      "\n",
      "See the caveats in the documentation: http://pandas.pydata.org/pandas-docs/stable/indexing.html#indexing-view-versus-copy\n"
     ]
    },
    {
     "name": "stdout",
     "output_type": "stream",
     "text": [
      ">>>>>> buy list (1) : 2014-02-17 00:00:00\n",
      "국제약품(A002720) : 6229\n",
      "\n",
      "\n",
      ">>>>>> enough profit (대상홀딩스 : A084690) - (10950 : 0.5) : 2014-03-12 00:00:00\n",
      ">>>>>> sell list (1) : 2014-03-12 00:00:00\n",
      "['A084690']\n",
      "\n",
      "\n"
     ]
    },
    {
     "name": "stderr",
     "output_type": "stream",
     "text": [
      "/Users/Shared/anaconda3/anaconda3/lib/python3.7/site-packages/ipykernel_launcher.py:689: SettingWithCopyWarning: \n",
      "A value is trying to be set on a copy of a slice from a DataFrame.\n",
      "Try using .loc[row_indexer,col_indexer] = value instead\n",
      "\n",
      "See the caveats in the documentation: http://pandas.pydata.org/pandas-docs/stable/indexing.html#indexing-view-versus-copy\n"
     ]
    },
    {
     "name": "stdout",
     "output_type": "stream",
     "text": [
      ">>>>>> buy list (1) : 2014-03-12 00:00:00\n",
      "현대약품(A004310) : 4633\n",
      "\n",
      "\n",
      ">>>>>> enough periods (F&F : A007700) - (7400 : 0.21) : 366 days 00:00:002014-03-14 00:00:00\n",
      ">>>>>> sell list (1) : 2014-03-14 00:00:00\n",
      "['A007700']\n",
      "\n",
      "\n"
     ]
    },
    {
     "name": "stderr",
     "output_type": "stream",
     "text": [
      "/Users/Shared/anaconda3/anaconda3/lib/python3.7/site-packages/ipykernel_launcher.py:689: SettingWithCopyWarning: \n",
      "A value is trying to be set on a copy of a slice from a DataFrame.\n",
      "Try using .loc[row_indexer,col_indexer] = value instead\n",
      "\n",
      "See the caveats in the documentation: http://pandas.pydata.org/pandas-docs/stable/indexing.html#indexing-view-versus-copy\n"
     ]
    },
    {
     "name": "stdout",
     "output_type": "stream",
     "text": [
      ">>>>>> buy list (1) : 2014-03-14 00:00:00\n",
      "샘표(A007540) : 3663\n",
      "\n",
      "\n",
      ">>>>>> enough profit (국동 : A005320) - (1924 : 0.61) : 2014-03-31 00:00:00\n",
      ">>>>>> sell list (1) : 2014-03-31 00:00:00\n",
      "['A005320']\n",
      "\n",
      "\n"
     ]
    },
    {
     "name": "stderr",
     "output_type": "stream",
     "text": [
      "/Users/Shared/anaconda3/anaconda3/lib/python3.7/site-packages/ipykernel_launcher.py:689: SettingWithCopyWarning: \n",
      "A value is trying to be set on a copy of a slice from a DataFrame.\n",
      "Try using .loc[row_indexer,col_indexer] = value instead\n",
      "\n",
      "See the caveats in the documentation: http://pandas.pydata.org/pandas-docs/stable/indexing.html#indexing-view-versus-copy\n"
     ]
    },
    {
     "name": "stdout",
     "output_type": "stream",
     "text": [
      ">>>>>> buy list (1) : 2014-03-31 00:00:00\n",
      "한국전자금융(A063570) : 4836\n",
      "\n",
      "\n",
      ">>>>>> enough profit (부방 : A014470) - (5070 : 0.51) : 2014-04-01 00:00:00\n",
      ">>>>>> sell list (1) : 2014-04-01 00:00:00\n",
      "['A014470']\n",
      "\n",
      "\n"
     ]
    },
    {
     "name": "stderr",
     "output_type": "stream",
     "text": [
      "/Users/Shared/anaconda3/anaconda3/lib/python3.7/site-packages/ipykernel_launcher.py:689: SettingWithCopyWarning: \n",
      "A value is trying to be set on a copy of a slice from a DataFrame.\n",
      "Try using .loc[row_indexer,col_indexer] = value instead\n",
      "\n",
      "See the caveats in the documentation: http://pandas.pydata.org/pandas-docs/stable/indexing.html#indexing-view-versus-copy\n"
     ]
    },
    {
     "name": "stdout",
     "output_type": "stream",
     "text": [
      ">>>>>> buy list (1) : 2014-04-01 00:00:00\n",
      "지엔코(A065060) : 5429\n",
      "\n",
      "\n",
      ">>>>>> enough periods (삼성출판사 : A068290) - (4730 : 0.1) : 367 days 00:00:002014-04-07 00:00:00\n",
      ">>>>>> sell list (1) : 2014-04-07 00:00:00\n",
      "['A068290']\n",
      "\n",
      "\n"
     ]
    },
    {
     "name": "stderr",
     "output_type": "stream",
     "text": [
      "/Users/Shared/anaconda3/anaconda3/lib/python3.7/site-packages/ipykernel_launcher.py:689: SettingWithCopyWarning: \n",
      "A value is trying to be set on a copy of a slice from a DataFrame.\n",
      "Try using .loc[row_indexer,col_indexer] = value instead\n",
      "\n",
      "See the caveats in the documentation: http://pandas.pydata.org/pandas-docs/stable/indexing.html#indexing-view-versus-copy\n"
     ]
    },
    {
     "name": "stdout",
     "output_type": "stream",
     "text": [
      ">>>>>> buy list (1) : 2014-04-07 00:00:00\n",
      "한국경제TV(A039340) : 2943\n",
      "\n",
      "\n",
      ">>>>>> enough periods (신영와코루 : A005800) - (106500 : 0.0) : 368 days 00:00:002014-04-21 00:00:00\n",
      ">>>>>> enough periods (한국수출포장공업 : A002200) - (21100 : -0.17) : 367 days 00:00:002014-04-21 00:00:00\n",
      ">>>>>> sell list (2) : 2014-04-21 00:00:00\n",
      "['A005800', 'A002200']\n",
      "\n",
      "\n"
     ]
    },
    {
     "name": "stderr",
     "output_type": "stream",
     "text": [
      "/Users/Shared/anaconda3/anaconda3/lib/python3.7/site-packages/ipykernel_launcher.py:689: SettingWithCopyWarning: \n",
      "A value is trying to be set on a copy of a slice from a DataFrame.\n",
      "Try using .loc[row_indexer,col_indexer] = value instead\n",
      "\n",
      "See the caveats in the documentation: http://pandas.pydata.org/pandas-docs/stable/indexing.html#indexing-view-versus-copy\n"
     ]
    },
    {
     "name": "stdout",
     "output_type": "stream",
     "text": [
      ">>>>>> buy list (2) : 2014-04-21 00:00:00\n",
      "삼성출판사(A068290) : 2938\n",
      "코리아나(A027050) : 9894\n",
      "\n",
      "\n",
      ">>>>>> enough periods (유니셈 : A036200) - (1369 : 0.19) : 366 days 00:00:002014-05-09 00:00:00\n",
      ">>>>>> sell list (1) : 2014-05-09 00:00:00\n",
      "['A036200']\n",
      "\n",
      "\n"
     ]
    },
    {
     "name": "stderr",
     "output_type": "stream",
     "text": [
      "/Users/Shared/anaconda3/anaconda3/lib/python3.7/site-packages/ipykernel_launcher.py:689: SettingWithCopyWarning: \n",
      "A value is trying to be set on a copy of a slice from a DataFrame.\n",
      "Try using .loc[row_indexer,col_indexer] = value instead\n",
      "\n",
      "See the caveats in the documentation: http://pandas.pydata.org/pandas-docs/stable/indexing.html#indexing-view-versus-copy\n"
     ]
    },
    {
     "name": "stdout",
     "output_type": "stream",
     "text": [
      ">>>>>> buy list (1) : 2014-05-09 00:00:00\n",
      "신영와코루(A005800) : 74\n",
      "\n",
      "\n",
      ">>>>>> enough profit (화승알앤에이 : A013520) - (2910 : 0.59) : 2014-05-14 00:00:00\n",
      ">>>>>> sell list (1) : 2014-05-14 00:00:00\n",
      "['A013520']\n",
      "\n",
      "\n"
     ]
    },
    {
     "name": "stderr",
     "output_type": "stream",
     "text": [
      "/Users/Shared/anaconda3/anaconda3/lib/python3.7/site-packages/ipykernel_launcher.py:689: SettingWithCopyWarning: \n",
      "A value is trying to be set on a copy of a slice from a DataFrame.\n",
      "Try using .loc[row_indexer,col_indexer] = value instead\n",
      "\n",
      "See the caveats in the documentation: http://pandas.pydata.org/pandas-docs/stable/indexing.html#indexing-view-versus-copy\n"
     ]
    },
    {
     "name": "stdout",
     "output_type": "stream",
     "text": [
      ">>>>>> buy list (1) : 2014-05-14 00:00:00\n",
      "디아이동일(A001530) : 258\n",
      "\n",
      "\n",
      ">>>>>> enough periods (오리콤 : A010470) - (2995 : 0.03) : 366 days 00:00:002014-07-04 00:00:00\n",
      ">>>>>> sell list (1) : 2014-07-04 00:00:00\n",
      "['A010470']\n",
      "\n",
      "\n"
     ]
    },
    {
     "name": "stderr",
     "output_type": "stream",
     "text": [
      "/Users/Shared/anaconda3/anaconda3/lib/python3.7/site-packages/ipykernel_launcher.py:689: SettingWithCopyWarning: \n",
      "A value is trying to be set on a copy of a slice from a DataFrame.\n",
      "Try using .loc[row_indexer,col_indexer] = value instead\n",
      "\n",
      "See the caveats in the documentation: http://pandas.pydata.org/pandas-docs/stable/indexing.html#indexing-view-versus-copy\n"
     ]
    },
    {
     "name": "stdout",
     "output_type": "stream",
     "text": [
      ">>>>>> buy list (1) : 2014-07-04 00:00:00\n",
      "서산(A079650) : 1223\n",
      "\n",
      "\n",
      ">>>>>> enough profit (코리아나 : A027050) - (2405 : 0.62) : 2014-07-14 00:00:00\n",
      ">>>>>> sell list (1) : 2014-07-14 00:00:00\n",
      "['A027050']\n",
      "\n",
      "\n"
     ]
    },
    {
     "name": "stderr",
     "output_type": "stream",
     "text": [
      "/Users/Shared/anaconda3/anaconda3/lib/python3.7/site-packages/ipykernel_launcher.py:689: SettingWithCopyWarning: \n",
      "A value is trying to be set on a copy of a slice from a DataFrame.\n",
      "Try using .loc[row_indexer,col_indexer] = value instead\n",
      "\n",
      "See the caveats in the documentation: http://pandas.pydata.org/pandas-docs/stable/indexing.html#indexing-view-versus-copy\n"
     ]
    },
    {
     "name": "stdout",
     "output_type": "stream",
     "text": [
      ">>>>>> buy list (1) : 2014-07-14 00:00:00\n",
      "오리콤(A010470) : 7853\n",
      "\n",
      "\n",
      ">>>>>> enough profit (삼성출판사 : A068290) - (8330 : 0.67) : 2014-07-21 00:00:00\n",
      ">>>>>> sell list (1) : 2014-07-21 00:00:00\n",
      "['A068290']\n",
      "\n",
      "\n"
     ]
    },
    {
     "name": "stderr",
     "output_type": "stream",
     "text": [
      "/Users/Shared/anaconda3/anaconda3/lib/python3.7/site-packages/ipykernel_launcher.py:689: SettingWithCopyWarning: \n",
      "A value is trying to be set on a copy of a slice from a DataFrame.\n",
      "Try using .loc[row_indexer,col_indexer] = value instead\n",
      "\n",
      "See the caveats in the documentation: http://pandas.pydata.org/pandas-docs/stable/indexing.html#indexing-view-versus-copy\n"
     ]
    },
    {
     "name": "stdout",
     "output_type": "stream",
     "text": [
      ">>>>>> buy list (1) : 2014-07-21 00:00:00\n",
      "코리아나(A027050) : 8353\n",
      "\n",
      "\n",
      ">>>>>> enough periods (한화갤러리아타임월드 : A027390) - (45500 : 0.29) : 368 days 00:00:002014-08-04 00:00:00\n",
      ">>>>>> sell list (1) : 2014-08-04 00:00:00\n",
      "['A027390']\n",
      "\n",
      "\n"
     ]
    },
    {
     "name": "stderr",
     "output_type": "stream",
     "text": [
      "/Users/Shared/anaconda3/anaconda3/lib/python3.7/site-packages/ipykernel_launcher.py:689: SettingWithCopyWarning: \n",
      "A value is trying to be set on a copy of a slice from a DataFrame.\n",
      "Try using .loc[row_indexer,col_indexer] = value instead\n",
      "\n",
      "See the caveats in the documentation: http://pandas.pydata.org/pandas-docs/stable/indexing.html#indexing-view-versus-copy\n"
     ]
    },
    {
     "name": "stdout",
     "output_type": "stream",
     "text": [
      ">>>>>> buy list (1) : 2014-08-04 00:00:00\n",
      "삼성출판사(A068290) : 2340\n",
      "\n",
      "\n",
      ">>>>>> enough periods (대현 : A016090) - (1960 : -0.22) : 366 days 00:00:002014-08-06 00:00:00\n",
      ">>>>>> sell list (1) : 2014-08-06 00:00:00\n",
      "['A016090']\n",
      "\n",
      "\n"
     ]
    },
    {
     "name": "stderr",
     "output_type": "stream",
     "text": [
      "/Users/Shared/anaconda3/anaconda3/lib/python3.7/site-packages/ipykernel_launcher.py:689: SettingWithCopyWarning: \n",
      "A value is trying to be set on a copy of a slice from a DataFrame.\n",
      "Try using .loc[row_indexer,col_indexer] = value instead\n",
      "\n",
      "See the caveats in the documentation: http://pandas.pydata.org/pandas-docs/stable/indexing.html#indexing-view-versus-copy\n"
     ]
    },
    {
     "name": "stdout",
     "output_type": "stream",
     "text": [
      ">>>>>> buy list (1) : 2014-08-06 00:00:00\n",
      "네오위즈홀딩스(A042420) : 388\n",
      "\n",
      "\n",
      ">>>>>> enough periods (NICE : A034310) - (14350 : 0.35) : 366 days 00:00:002014-09-03 00:00:00\n",
      ">>>>>> sell list (1) : 2014-09-03 00:00:00\n",
      "['A034310']\n",
      "\n",
      "\n",
      ">>>>>> buy list (1) : 2014-09-03 00:00:00\n",
      "F&F(A007700) : 595\n",
      "\n",
      "\n"
     ]
    },
    {
     "name": "stderr",
     "output_type": "stream",
     "text": [
      "/Users/Shared/anaconda3/anaconda3/lib/python3.7/site-packages/ipykernel_launcher.py:689: SettingWithCopyWarning: \n",
      "A value is trying to be set on a copy of a slice from a DataFrame.\n",
      "Try using .loc[row_indexer,col_indexer] = value instead\n",
      "\n",
      "See the caveats in the documentation: http://pandas.pydata.org/pandas-docs/stable/indexing.html#indexing-view-versus-copy\n"
     ]
    },
    {
     "name": "stdout",
     "output_type": "stream",
     "text": [
      ">>>>>> enough profit (오리콤 : A010470) - (4840 : 0.6) : 2014-10-07 00:00:00\n",
      ">>>>>> sell list (1) : 2014-10-07 00:00:00\n",
      "['A010470']\n",
      "\n",
      "\n"
     ]
    },
    {
     "name": "stderr",
     "output_type": "stream",
     "text": [
      "/Users/Shared/anaconda3/anaconda3/lib/python3.7/site-packages/ipykernel_launcher.py:689: SettingWithCopyWarning: \n",
      "A value is trying to be set on a copy of a slice from a DataFrame.\n",
      "Try using .loc[row_indexer,col_indexer] = value instead\n",
      "\n",
      "See the caveats in the documentation: http://pandas.pydata.org/pandas-docs/stable/indexing.html#indexing-view-versus-copy\n"
     ]
    },
    {
     "name": "stdout",
     "output_type": "stream",
     "text": [
      ">>>>>> buy list (1) : 2014-10-07 00:00:00\n",
      "국동(A005320) : 9911\n",
      "\n",
      "\n",
      ">>>>>> enough periods (아이크래프트 : A052460) - (1801 : 0.2) : 366 days 00:00:002014-10-08 00:00:00\n",
      ">>>>>> sell list (1) : 2014-10-08 00:00:00\n",
      "['A052460']\n",
      "\n",
      "\n"
     ]
    },
    {
     "name": "stderr",
     "output_type": "stream",
     "text": [
      "/Users/Shared/anaconda3/anaconda3/lib/python3.7/site-packages/ipykernel_launcher.py:689: SettingWithCopyWarning: \n",
      "A value is trying to be set on a copy of a slice from a DataFrame.\n",
      "Try using .loc[row_indexer,col_indexer] = value instead\n",
      "\n",
      "See the caveats in the documentation: http://pandas.pydata.org/pandas-docs/stable/indexing.html#indexing-view-versus-copy\n"
     ]
    },
    {
     "name": "stdout",
     "output_type": "stream",
     "text": [
      ">>>>>> buy list (1) : 2014-10-08 00:00:00\n",
      "오리콤(A010470) : 4917\n",
      "\n",
      "\n",
      ">>>>>> enough profit (샘표 : A007540) - (24952 : 0.6) : 2014-10-22 00:00:00\n",
      ">>>>>> sell list (1) : 2014-10-22 00:00:00\n",
      "['A007540']\n",
      "\n",
      "\n"
     ]
    },
    {
     "name": "stderr",
     "output_type": "stream",
     "text": [
      "/Users/Shared/anaconda3/anaconda3/lib/python3.7/site-packages/ipykernel_launcher.py:689: SettingWithCopyWarning: \n",
      "A value is trying to be set on a copy of a slice from a DataFrame.\n",
      "Try using .loc[row_indexer,col_indexer] = value instead\n",
      "\n",
      "See the caveats in the documentation: http://pandas.pydata.org/pandas-docs/stable/indexing.html#indexing-view-versus-copy\n"
     ]
    },
    {
     "name": "stdout",
     "output_type": "stream",
     "text": [
      ">>>>>> buy list (1) : 2014-10-22 00:00:00\n",
      "아이즈비전(A031310) : 34362\n",
      "\n",
      "\n",
      ">>>>>> enough periods (영풍제지 : A006740) - (2105.0 : 0.08) : 367 days 00:00:002014-10-27 00:00:00\n",
      ">>>>>> sell list (1) : 2014-10-27 00:00:00\n",
      "['A006740']\n",
      "\n",
      "\n"
     ]
    },
    {
     "name": "stderr",
     "output_type": "stream",
     "text": [
      "/Users/Shared/anaconda3/anaconda3/lib/python3.7/site-packages/ipykernel_launcher.py:689: SettingWithCopyWarning: \n",
      "A value is trying to be set on a copy of a slice from a DataFrame.\n",
      "Try using .loc[row_indexer,col_indexer] = value instead\n",
      "\n",
      "See the caveats in the documentation: http://pandas.pydata.org/pandas-docs/stable/indexing.html#indexing-view-versus-copy\n"
     ]
    },
    {
     "name": "stdout",
     "output_type": "stream",
     "text": [
      ">>>>>> buy list (1) : 2014-10-27 00:00:00\n",
      "샘표(A007540) : 1076\n",
      "\n",
      "\n",
      ">>>>>> enough periods (대웅 : A003090) - (10472 : 0.4) : 368 days 00:00:002014-11-03 00:00:00\n",
      ">>>>>> sell list (1) : 2014-11-03 00:00:00\n",
      "['A003090']\n",
      "\n",
      "\n"
     ]
    },
    {
     "name": "stderr",
     "output_type": "stream",
     "text": [
      "/Users/Shared/anaconda3/anaconda3/lib/python3.7/site-packages/ipykernel_launcher.py:689: SettingWithCopyWarning: \n",
      "A value is trying to be set on a copy of a slice from a DataFrame.\n",
      "Try using .loc[row_indexer,col_indexer] = value instead\n",
      "\n",
      "See the caveats in the documentation: http://pandas.pydata.org/pandas-docs/stable/indexing.html#indexing-view-versus-copy\n"
     ]
    },
    {
     "name": "stdout",
     "output_type": "stream",
     "text": [
      ">>>>>> buy list (1) : 2014-11-03 00:00:00\n",
      "동화약품(A000020) : 1511\n",
      "\n",
      "\n",
      ">>>>>> enough profit (한국경제TV : A039340) - (2940 : 0.52) : 2014-11-13 00:00:00\n",
      ">>>>>> sell list (1) : 2014-11-13 00:00:00\n",
      "['A039340']\n",
      "\n",
      "\n"
     ]
    },
    {
     "name": "stderr",
     "output_type": "stream",
     "text": [
      "/Users/Shared/anaconda3/anaconda3/lib/python3.7/site-packages/ipykernel_launcher.py:689: SettingWithCopyWarning: \n",
      "A value is trying to be set on a copy of a slice from a DataFrame.\n",
      "Try using .loc[row_indexer,col_indexer] = value instead\n",
      "\n",
      "See the caveats in the documentation: http://pandas.pydata.org/pandas-docs/stable/indexing.html#indexing-view-versus-copy\n"
     ]
    },
    {
     "name": "stdout",
     "output_type": "stream",
     "text": [
      ">>>>>> buy list (1) : 2014-11-13 00:00:00\n",
      "경농(A002100) : 1727\n",
      "\n",
      "\n",
      ">>>>>> enough periods (태광산업 : A003240) - (1169000 : -0.02) : 367 days 00:00:002014-12-01 00:00:00\n",
      ">>>>>> sell list (1) : 2014-12-01 00:00:00\n",
      "['A003240']\n",
      "\n",
      "\n"
     ]
    },
    {
     "name": "stderr",
     "output_type": "stream",
     "text": [
      "/Users/Shared/anaconda3/anaconda3/lib/python3.7/site-packages/ipykernel_launcher.py:689: SettingWithCopyWarning: \n",
      "A value is trying to be set on a copy of a slice from a DataFrame.\n",
      "Try using .loc[row_indexer,col_indexer] = value instead\n",
      "\n",
      "See the caveats in the documentation: http://pandas.pydata.org/pandas-docs/stable/indexing.html#indexing-view-versus-copy\n"
     ]
    },
    {
     "name": "stdout",
     "output_type": "stream",
     "text": [
      ">>>>>> buy list (1) : 2014-12-01 00:00:00\n",
      "한국경제TV(A039340) : 3711\n",
      "\n",
      "\n",
      ">>>>>> enough profit (F&F : A007700) - (17450 : 0.59) : 2015-01-05 00:00:00\n",
      ">>>>>> sell list (1) : 2015-01-05 00:00:00\n",
      "['A007700']\n",
      "\n",
      "\n"
     ]
    },
    {
     "name": "stderr",
     "output_type": "stream",
     "text": [
      "/Users/Shared/anaconda3/anaconda3/lib/python3.7/site-packages/ipykernel_launcher.py:689: SettingWithCopyWarning: \n",
      "A value is trying to be set on a copy of a slice from a DataFrame.\n",
      "Try using .loc[row_indexer,col_indexer] = value instead\n",
      "\n",
      "See the caveats in the documentation: http://pandas.pydata.org/pandas-docs/stable/indexing.html#indexing-view-versus-copy\n"
     ]
    },
    {
     "name": "stdout",
     "output_type": "stream",
     "text": [
      ">>>>>> buy list (1) : 2015-01-05 00:00:00\n",
      "진도(A088790) : 3100\n",
      "\n",
      "\n",
      ">>>>>> enough profit (국동 : A005320) - (5806 : 0.51) : 2015-02-02 00:00:00\n",
      ">>>>>> sell list (1) : 2015-02-02 00:00:00\n",
      "['A005320']\n",
      "\n",
      "\n"
     ]
    },
    {
     "name": "stderr",
     "output_type": "stream",
     "text": [
      "/Users/Shared/anaconda3/anaconda3/lib/python3.7/site-packages/ipykernel_launcher.py:689: SettingWithCopyWarning: \n",
      "A value is trying to be set on a copy of a slice from a DataFrame.\n",
      "Try using .loc[row_indexer,col_indexer] = value instead\n",
      "\n",
      "See the caveats in the documentation: http://pandas.pydata.org/pandas-docs/stable/indexing.html#indexing-view-versus-copy\n"
     ]
    },
    {
     "name": "stdout",
     "output_type": "stream",
     "text": [
      ">>>>>> buy list (1) : 2015-02-02 00:00:00\n",
      "백금T&A(A046310) : 26927\n",
      "\n",
      "\n",
      ">>>>>> enough periods (삼일제약 : A000520) - (5442 : 0.02) : 366 days 00:00:002015-02-11 00:00:00\n",
      ">>>>>> enough profit (코리아나 : A027050) - (4530 : 0.55) : 2015-02-11 00:00:00\n",
      ">>>>>> sell list (2) : 2015-02-11 00:00:00\n",
      "['A000520', 'A027050']\n",
      "\n",
      "\n"
     ]
    },
    {
     "name": "stderr",
     "output_type": "stream",
     "text": [
      "/Users/Shared/anaconda3/anaconda3/lib/python3.7/site-packages/ipykernel_launcher.py:689: SettingWithCopyWarning: \n",
      "A value is trying to be set on a copy of a slice from a DataFrame.\n",
      "Try using .loc[row_indexer,col_indexer] = value instead\n",
      "\n",
      "See the caveats in the documentation: http://pandas.pydata.org/pandas-docs/stable/indexing.html#indexing-view-versus-copy\n"
     ]
    },
    {
     "name": "stdout",
     "output_type": "stream",
     "text": [
      ">>>>>> buy list (2) : 2015-02-11 00:00:00\n",
      "사조대림(A003960) : 1589\n",
      "태광산업(A003240) : 19\n",
      "\n",
      "\n",
      ">>>>>> enough periods (좋은사람들 : A033340) - (1172 : 0.01) : 367 days 00:00:002015-02-16 00:00:00\n",
      ">>>>>> enough profit (서산 : A079650) - (2679 : 0.67) : 2015-02-16 00:00:00\n",
      ">>>>>> sell list (2) : 2015-02-16 00:00:00\n",
      "['A033340', 'A079650']\n",
      "\n",
      "\n"
     ]
    },
    {
     "name": "stderr",
     "output_type": "stream",
     "text": [
      "/Users/Shared/anaconda3/anaconda3/lib/python3.7/site-packages/ipykernel_launcher.py:689: SettingWithCopyWarning: \n",
      "A value is trying to be set on a copy of a slice from a DataFrame.\n",
      "Try using .loc[row_indexer,col_indexer] = value instead\n",
      "\n",
      "See the caveats in the documentation: http://pandas.pydata.org/pandas-docs/stable/indexing.html#indexing-view-versus-copy\n"
     ]
    },
    {
     "name": "stdout",
     "output_type": "stream",
     "text": [
      ">>>>>> buy list (2) : 2015-02-16 00:00:00\n",
      "유니셈(A036200) : 10792\n",
      "텔레필드(A091440) : 6512\n",
      "\n",
      "\n",
      ">>>>>> enough periods (국제약품 : A002720) - (2351 : 0.24) : 371 days 00:00:002015-02-23 00:00:00\n",
      ">>>>>> sell list (1) : 2015-02-23 00:00:00\n",
      "['A002720']\n",
      "\n",
      "\n"
     ]
    },
    {
     "name": "stderr",
     "output_type": "stream",
     "text": [
      "/Users/Shared/anaconda3/anaconda3/lib/python3.7/site-packages/ipykernel_launcher.py:689: SettingWithCopyWarning: \n",
      "A value is trying to be set on a copy of a slice from a DataFrame.\n",
      "Try using .loc[row_indexer,col_indexer] = value instead\n",
      "\n",
      "See the caveats in the documentation: http://pandas.pydata.org/pandas-docs/stable/indexing.html#indexing-view-versus-copy\n"
     ]
    },
    {
     "name": "stdout",
     "output_type": "stream",
     "text": [
      ">>>>>> buy list (1) : 2015-02-23 00:00:00\n",
      "좋은사람들(A033340) : 12549\n",
      "\n",
      "\n",
      ">>>>>> enough profit (텔레필드 : A091440) - (3275.0 : 0.59) : 2015-03-03 00:00:00\n",
      ">>>>>> sell list (1) : 2015-03-03 00:00:00\n",
      "['A091440']\n",
      "\n",
      "\n"
     ]
    },
    {
     "name": "stderr",
     "output_type": "stream",
     "text": [
      "/Users/Shared/anaconda3/anaconda3/lib/python3.7/site-packages/ipykernel_launcher.py:689: SettingWithCopyWarning: \n",
      "A value is trying to be set on a copy of a slice from a DataFrame.\n",
      "Try using .loc[row_indexer,col_indexer] = value instead\n",
      "\n",
      "See the caveats in the documentation: http://pandas.pydata.org/pandas-docs/stable/indexing.html#indexing-view-versus-copy\n"
     ]
    },
    {
     "name": "stdout",
     "output_type": "stream",
     "text": [
      ">>>>>> buy list (1) : 2015-03-03 00:00:00\n",
      "서산(A079650) : 9071\n",
      "\n",
      "\n",
      ">>>>>> enough profit (유니셈 : A036200) - (2008 : 0.61) : 2015-03-09 00:00:00\n",
      ">>>>>> sell list (1) : 2015-03-09 00:00:00\n",
      "['A036200']\n",
      "\n",
      "\n"
     ]
    },
    {
     "name": "stderr",
     "output_type": "stream",
     "text": [
      "/Users/Shared/anaconda3/anaconda3/lib/python3.7/site-packages/ipykernel_launcher.py:689: SettingWithCopyWarning: \n",
      "A value is trying to be set on a copy of a slice from a DataFrame.\n",
      "Try using .loc[row_indexer,col_indexer] = value instead\n",
      "\n",
      "See the caveats in the documentation: http://pandas.pydata.org/pandas-docs/stable/indexing.html#indexing-view-versus-copy\n"
     ]
    },
    {
     "name": "stdout",
     "output_type": "stream",
     "text": [
      ">>>>>> buy list (1) : 2015-03-09 00:00:00\n",
      "텔레필드(A091440) : 4360\n",
      "\n",
      "\n",
      ">>>>>> enough profit (백금T&A : A046310) - (3267 : 0.53) : 2015-03-12 00:00:00\n",
      ">>>>>> sell list (1) : 2015-03-12 00:00:00\n",
      "['A046310']\n",
      "\n",
      "\n"
     ]
    },
    {
     "name": "stderr",
     "output_type": "stream",
     "text": [
      "/Users/Shared/anaconda3/anaconda3/lib/python3.7/site-packages/ipykernel_launcher.py:689: SettingWithCopyWarning: \n",
      "A value is trying to be set on a copy of a slice from a DataFrame.\n",
      "Try using .loc[row_indexer,col_indexer] = value instead\n",
      "\n",
      "See the caveats in the documentation: http://pandas.pydata.org/pandas-docs/stable/indexing.html#indexing-view-versus-copy\n"
     ]
    },
    {
     "name": "stdout",
     "output_type": "stream",
     "text": [
      ">>>>>> buy list (1) : 2015-03-12 00:00:00\n",
      "유니셈(A036200) : 37308\n",
      "\n",
      "\n",
      ">>>>>> enough periods (현대약품 : A004310) - (2660 : 0.36) : 366 days 00:00:002015-03-13 00:00:00\n",
      ">>>>>> sell list (1) : 2015-03-13 00:00:00\n",
      "['A004310']\n",
      "\n",
      "\n"
     ]
    },
    {
     "name": "stderr",
     "output_type": "stream",
     "text": [
      "/Users/Shared/anaconda3/anaconda3/lib/python3.7/site-packages/ipykernel_launcher.py:689: SettingWithCopyWarning: \n",
      "A value is trying to be set on a copy of a slice from a DataFrame.\n",
      "Try using .loc[row_indexer,col_indexer] = value instead\n",
      "\n",
      "See the caveats in the documentation: http://pandas.pydata.org/pandas-docs/stable/indexing.html#indexing-view-versus-copy\n"
     ]
    },
    {
     "name": "stdout",
     "output_type": "stream",
     "text": [
      ">>>>>> buy list (1) : 2015-03-13 00:00:00\n",
      "백금T&A(A046310) : 3607\n",
      "\n",
      "\n",
      ">>>>>> enough profit (오리콤 : A010470) - (9150 : 0.65) : 2015-03-20 00:00:00\n",
      ">>>>>> sell list (1) : 2015-03-20 00:00:00\n",
      "['A010470']\n",
      "\n",
      "\n"
     ]
    },
    {
     "name": "stderr",
     "output_type": "stream",
     "text": [
      "/Users/Shared/anaconda3/anaconda3/lib/python3.7/site-packages/ipykernel_launcher.py:689: SettingWithCopyWarning: \n",
      "A value is trying to be set on a copy of a slice from a DataFrame.\n",
      "Try using .loc[row_indexer,col_indexer] = value instead\n",
      "\n",
      "See the caveats in the documentation: http://pandas.pydata.org/pandas-docs/stable/indexing.html#indexing-view-versus-copy\n"
     ]
    },
    {
     "name": "stdout",
     "output_type": "stream",
     "text": [
      ">>>>>> buy list (1) : 2015-03-20 00:00:00\n",
      "팅크웨어(A084730) : 4071\n",
      "\n",
      "\n",
      ">>>>>> enough profit (삼성출판사 : A068290) - (13100 : 0.51) : 2015-03-31 00:00:00\n",
      ">>>>>> enough profit (사조대림 : A003960) - (22050 : 0.6) : 2015-03-31 00:00:00\n",
      ">>>>>> sell list (2) : 2015-03-31 00:00:00\n",
      "['A068290', 'A003960']\n",
      "\n",
      "\n"
     ]
    },
    {
     "name": "stderr",
     "output_type": "stream",
     "text": [
      "/Users/Shared/anaconda3/anaconda3/lib/python3.7/site-packages/ipykernel_launcher.py:689: SettingWithCopyWarning: \n",
      "A value is trying to be set on a copy of a slice from a DataFrame.\n",
      "Try using .loc[row_indexer,col_indexer] = value instead\n",
      "\n",
      "See the caveats in the documentation: http://pandas.pydata.org/pandas-docs/stable/indexing.html#indexing-view-versus-copy\n"
     ]
    },
    {
     "name": "stdout",
     "output_type": "stream",
     "text": [
      ">>>>>> buy list (2) : 2015-03-31 00:00:00\n",
      "대한제분(A001130) : 176\n",
      "신원(A009270) : 13716\n",
      "\n",
      "\n",
      ">>>>>> enough periods (한국전자금융 : A063570) - (3290.0 : -0.01) : 366 days 00:00:002015-04-01 00:00:00\n",
      ">>>>>> sell list (1) : 2015-04-01 00:00:00\n",
      "['A063570']\n",
      "\n",
      "\n"
     ]
    },
    {
     "name": "stderr",
     "output_type": "stream",
     "text": [
      "/Users/Shared/anaconda3/anaconda3/lib/python3.7/site-packages/ipykernel_launcher.py:689: SettingWithCopyWarning: \n",
      "A value is trying to be set on a copy of a slice from a DataFrame.\n",
      "Try using .loc[row_indexer,col_indexer] = value instead\n",
      "\n",
      "See the caveats in the documentation: http://pandas.pydata.org/pandas-docs/stable/indexing.html#indexing-view-versus-copy\n"
     ]
    },
    {
     "name": "stdout",
     "output_type": "stream",
     "text": [
      ">>>>>> buy list (1) : 2015-04-01 00:00:00\n",
      "사조대림(A003960) : 770\n",
      "\n",
      "\n",
      ">>>>>> enough periods (지엔코 : A065060) - (1230 : -0.09) : 366 days 00:00:002015-04-02 00:00:00\n",
      ">>>>>> sell list (1) : 2015-04-02 00:00:00\n",
      "['A065060']\n",
      "\n",
      "\n"
     ]
    },
    {
     "name": "stderr",
     "output_type": "stream",
     "text": [
      "/Users/Shared/anaconda3/anaconda3/lib/python3.7/site-packages/ipykernel_launcher.py:689: SettingWithCopyWarning: \n",
      "A value is trying to be set on a copy of a slice from a DataFrame.\n",
      "Try using .loc[row_indexer,col_indexer] = value instead\n",
      "\n",
      "See the caveats in the documentation: http://pandas.pydata.org/pandas-docs/stable/indexing.html#indexing-view-versus-copy\n"
     ]
    },
    {
     "name": "stdout",
     "output_type": "stream",
     "text": [
      ">>>>>> buy list (1) : 2015-04-02 00:00:00\n",
      "한국전자금융(A063570) : 2153\n",
      "\n",
      "\n",
      ">>>>>> enough profit (유니셈 : A036200) - (3768 : 0.6) : 2015-04-10 00:00:00\n",
      ">>>>>> sell list (1) : 2015-04-10 00:00:00\n",
      "['A036200']\n",
      "\n",
      "\n"
     ]
    },
    {
     "name": "stderr",
     "output_type": "stream",
     "text": [
      "/Users/Shared/anaconda3/anaconda3/lib/python3.7/site-packages/ipykernel_launcher.py:689: SettingWithCopyWarning: \n",
      "A value is trying to be set on a copy of a slice from a DataFrame.\n",
      "Try using .loc[row_indexer,col_indexer] = value instead\n",
      "\n",
      "See the caveats in the documentation: http://pandas.pydata.org/pandas-docs/stable/indexing.html#indexing-view-versus-copy\n"
     ]
    },
    {
     "name": "stdout",
     "output_type": "stream",
     "text": [
      ">>>>>> buy list (1) : 2015-04-10 00:00:00\n",
      "현대약품(A004310) : 38035\n",
      "\n",
      "\n",
      ">>>>>> enough profit (좋은사람들 : A033340) - (1979 : 0.7) : 2015-04-21 00:00:00\n",
      ">>>>>> sell list (1) : 2015-04-21 00:00:00\n",
      "['A033340']\n",
      "\n",
      "\n"
     ]
    },
    {
     "name": "stderr",
     "output_type": "stream",
     "text": [
      "/Users/Shared/anaconda3/anaconda3/lib/python3.7/site-packages/ipykernel_launcher.py:689: SettingWithCopyWarning: \n",
      "A value is trying to be set on a copy of a slice from a DataFrame.\n",
      "Try using .loc[row_indexer,col_indexer] = value instead\n",
      "\n",
      "See the caveats in the documentation: http://pandas.pydata.org/pandas-docs/stable/indexing.html#indexing-view-versus-copy\n"
     ]
    },
    {
     "name": "stdout",
     "output_type": "stream",
     "text": [
      ">>>>>> buy list (1) : 2015-04-21 00:00:00\n",
      "유니셈(A036200) : 6537\n",
      "\n",
      "\n",
      ">>>>>> enough periods (신영와코루 : A005800) - (133500 : 0.22) : 367 days 00:00:002015-05-11 00:00:00\n",
      ">>>>>> enough profit (진도 : A088790) - (5150.0 : 0.54) : 2015-05-11 00:00:00\n",
      ">>>>>> sell list (2) : 2015-05-11 00:00:00\n",
      "['A005800', 'A088790']\n",
      "\n",
      "\n"
     ]
    },
    {
     "name": "stderr",
     "output_type": "stream",
     "text": [
      "/Users/Shared/anaconda3/anaconda3/lib/python3.7/site-packages/ipykernel_launcher.py:689: SettingWithCopyWarning: \n",
      "A value is trying to be set on a copy of a slice from a DataFrame.\n",
      "Try using .loc[row_indexer,col_indexer] = value instead\n",
      "\n",
      "See the caveats in the documentation: http://pandas.pydata.org/pandas-docs/stable/indexing.html#indexing-view-versus-copy\n"
     ]
    },
    {
     "name": "stdout",
     "output_type": "stream",
     "text": [
      ">>>>>> buy list (2) : 2015-05-11 00:00:00\n",
      "좋은사람들(A033340) : 7937\n",
      "삼아제약(A009300) : 879\n",
      "\n",
      "\n",
      ">>>>>> enough profit (유니셈 : A036200) - (5766 : 0.52) : 2015-05-14 00:00:00\n",
      ">>>>>> sell list (1) : 2015-05-14 00:00:00\n",
      "['A036200']\n",
      "\n",
      "\n"
     ]
    },
    {
     "name": "stderr",
     "output_type": "stream",
     "text": [
      "/Users/Shared/anaconda3/anaconda3/lib/python3.7/site-packages/ipykernel_launcher.py:689: SettingWithCopyWarning: \n",
      "A value is trying to be set on a copy of a slice from a DataFrame.\n",
      "Try using .loc[row_indexer,col_indexer] = value instead\n",
      "\n",
      "See the caveats in the documentation: http://pandas.pydata.org/pandas-docs/stable/indexing.html#indexing-view-versus-copy\n"
     ]
    },
    {
     "name": "stdout",
     "output_type": "stream",
     "text": [
      ">>>>>> buy list (1) : 2015-05-14 00:00:00\n",
      "신영와코루(A005800) : 274\n",
      "\n",
      "\n",
      ">>>>>> enough periods (디아이동일 : A001530) - (88117 : 0.3) : 366 days 00:00:002015-05-15 00:00:00\n",
      ">>>>>> sell list (1) : 2015-05-15 00:00:00\n",
      "['A001530']\n",
      "\n",
      "\n"
     ]
    },
    {
     "name": "stderr",
     "output_type": "stream",
     "text": [
      "/Users/Shared/anaconda3/anaconda3/lib/python3.7/site-packages/ipykernel_launcher.py:689: SettingWithCopyWarning: \n",
      "A value is trying to be set on a copy of a slice from a DataFrame.\n",
      "Try using .loc[row_indexer,col_indexer] = value instead\n",
      "\n",
      "See the caveats in the documentation: http://pandas.pydata.org/pandas-docs/stable/indexing.html#indexing-view-versus-copy\n"
     ]
    },
    {
     "name": "stdout",
     "output_type": "stream",
     "text": [
      ">>>>>> buy list (1) : 2015-05-15 00:00:00\n",
      "진도(A088790) : 4667\n",
      "\n",
      "\n",
      ">>>>>> enough profit (동화약품 : A000020) - (9890 : 0.62) : 2015-05-20 00:00:00\n",
      ">>>>>> sell list (1) : 2015-05-20 00:00:00\n",
      "['A000020']\n",
      "\n",
      "\n"
     ]
    },
    {
     "name": "stderr",
     "output_type": "stream",
     "text": [
      "/Users/Shared/anaconda3/anaconda3/lib/python3.7/site-packages/ipykernel_launcher.py:689: SettingWithCopyWarning: \n",
      "A value is trying to be set on a copy of a slice from a DataFrame.\n",
      "Try using .loc[row_indexer,col_indexer] = value instead\n",
      "\n",
      "See the caveats in the documentation: http://pandas.pydata.org/pandas-docs/stable/indexing.html#indexing-view-versus-copy\n"
     ]
    },
    {
     "name": "stdout",
     "output_type": "stream",
     "text": [
      ">>>>>> buy list (1) : 2015-05-20 00:00:00\n",
      "유니셈(A036200) : 2304\n",
      "\n",
      "\n",
      ">>>>>> enough profit (현대약품 : A004310) - (5778 : 0.56) : 2015-05-22 00:00:00\n",
      ">>>>>> enough profit (팅크웨어 : A084730) - (17600.0 : 0.59) : 2015-05-22 00:00:00\n",
      ">>>>>> sell list (2) : 2015-05-22 00:00:00\n",
      "['A004310', 'A084730']\n",
      "\n",
      "\n"
     ]
    },
    {
     "name": "stderr",
     "output_type": "stream",
     "text": [
      "/Users/Shared/anaconda3/anaconda3/lib/python3.7/site-packages/ipykernel_launcher.py:689: SettingWithCopyWarning: \n",
      "A value is trying to be set on a copy of a slice from a DataFrame.\n",
      "Try using .loc[row_indexer,col_indexer] = value instead\n",
      "\n",
      "See the caveats in the documentation: http://pandas.pydata.org/pandas-docs/stable/indexing.html#indexing-view-versus-copy\n"
     ]
    },
    {
     "name": "stdout",
     "output_type": "stream",
     "text": [
      ">>>>>> buy list (2) : 2015-05-22 00:00:00\n",
      "디아이동일(A001530) : 1736\n",
      "영신금속(A007530) : 50175\n",
      "\n",
      "\n",
      ">>>>>> enough profit (아이즈비전 : A031310) - (4680 : 0.76) : 2015-06-18 00:00:00\n",
      ">>>>>> sell list (1) : 2015-06-18 00:00:00\n",
      "['A031310']\n",
      "\n",
      "\n"
     ]
    },
    {
     "name": "stderr",
     "output_type": "stream",
     "text": [
      "/Users/Shared/anaconda3/anaconda3/lib/python3.7/site-packages/ipykernel_launcher.py:689: SettingWithCopyWarning: \n",
      "A value is trying to be set on a copy of a slice from a DataFrame.\n",
      "Try using .loc[row_indexer,col_indexer] = value instead\n",
      "\n",
      "See the caveats in the documentation: http://pandas.pydata.org/pandas-docs/stable/indexing.html#indexing-view-versus-copy\n",
      "/Users/Shared/anaconda3/anaconda3/lib/python3.7/site-packages/ipykernel_launcher.py:689: SettingWithCopyWarning: \n",
      "A value is trying to be set on a copy of a slice from a DataFrame.\n",
      "Try using .loc[row_indexer,col_indexer] = value instead\n",
      "\n",
      "See the caveats in the documentation: http://pandas.pydata.org/pandas-docs/stable/indexing.html#indexing-view-versus-copy\n"
     ]
    },
    {
     "name": "stdout",
     "output_type": "stream",
     "text": [
      ">>>>>> buy list (1) : 2015-06-18 00:00:00\n",
      "팅크웨어(A084730) : 8249\n",
      "\n",
      "\n",
      ">>>>>> enough profit (유니셈 : A036200) - (9961 : 0.54) : 2015-06-19 00:00:00\n",
      ">>>>>> sell list (1) : 2015-06-19 00:00:00\n",
      "['A036200']\n",
      "\n",
      "\n",
      ">>>>>> buy list (1) : 2015-06-19 00:00:00\n",
      "현대약품(A004310) : 5130\n",
      "\n",
      "\n",
      ">>>>>> enough profit (샘표 : A007540) - (40117 : 0.57) : 2015-06-29 00:00:00\n",
      ">>>>>> sell list (1) : 2015-06-29 00:00:00\n",
      "['A007540']\n",
      "\n",
      "\n"
     ]
    },
    {
     "name": "stderr",
     "output_type": "stream",
     "text": [
      "/Users/Shared/anaconda3/anaconda3/lib/python3.7/site-packages/ipykernel_launcher.py:689: SettingWithCopyWarning: \n",
      "A value is trying to be set on a copy of a slice from a DataFrame.\n",
      "Try using .loc[row_indexer,col_indexer] = value instead\n",
      "\n",
      "See the caveats in the documentation: http://pandas.pydata.org/pandas-docs/stable/indexing.html#indexing-view-versus-copy\n"
     ]
    },
    {
     "name": "stdout",
     "output_type": "stream",
     "text": [
      ">>>>>> buy list (1) : 2015-06-29 00:00:00\n",
      "유니셈(A036200) : 4569\n",
      "\n",
      "\n",
      ">>>>>> enough profit (삼아제약 : A009300) - (22650 : 0.54) : 2015-07-10 00:00:00\n",
      ">>>>>> sell list (1) : 2015-07-10 00:00:00\n",
      "['A009300']\n",
      "\n",
      "\n"
     ]
    },
    {
     "name": "stderr",
     "output_type": "stream",
     "text": [
      "/Users/Shared/anaconda3/anaconda3/lib/python3.7/site-packages/ipykernel_launcher.py:689: SettingWithCopyWarning: \n",
      "A value is trying to be set on a copy of a slice from a DataFrame.\n",
      "Try using .loc[row_indexer,col_indexer] = value instead\n",
      "\n",
      "See the caveats in the documentation: http://pandas.pydata.org/pandas-docs/stable/indexing.html#indexing-view-versus-copy\n"
     ]
    },
    {
     "name": "stdout",
     "output_type": "stream",
     "text": [
      ">>>>>> buy list (1) : 2015-07-10 00:00:00\n",
      "오리콤(A010470) : 1952\n",
      "\n",
      "\n",
      ">>>>>> enough periods (네오위즈홀딩스 : A042420) - (21150 : 0.22) : 366 days 00:00:002015-08-07 00:00:00\n",
      ">>>>>> sell list (1) : 2015-08-07 00:00:00\n",
      "['A042420']\n",
      "\n",
      "\n"
     ]
    },
    {
     "name": "stderr",
     "output_type": "stream",
     "text": [
      "/Users/Shared/anaconda3/anaconda3/lib/python3.7/site-packages/ipykernel_launcher.py:689: SettingWithCopyWarning: \n",
      "A value is trying to be set on a copy of a slice from a DataFrame.\n",
      "Try using .loc[row_indexer,col_indexer] = value instead\n",
      "\n",
      "See the caveats in the documentation: http://pandas.pydata.org/pandas-docs/stable/indexing.html#indexing-view-versus-copy\n"
     ]
    },
    {
     "name": "stdout",
     "output_type": "stream",
     "text": [
      ">>>>>> buy list (1) : 2015-08-07 00:00:00\n",
      "삼아제약(A009300) : 435\n",
      "\n",
      "\n",
      ">>>>>> enough profit (한국전자금융 : A063570) - (4775.0 : 0.54) : 2015-08-11 00:00:00\n",
      ">>>>>> sell list (1) : 2015-08-11 00:00:00\n",
      "['A063570']\n",
      "\n",
      "\n"
     ]
    },
    {
     "name": "stderr",
     "output_type": "stream",
     "text": [
      "/Users/Shared/anaconda3/anaconda3/lib/python3.7/site-packages/ipykernel_launcher.py:689: SettingWithCopyWarning: \n",
      "A value is trying to be set on a copy of a slice from a DataFrame.\n",
      "Try using .loc[row_indexer,col_indexer] = value instead\n",
      "\n",
      "See the caveats in the documentation: http://pandas.pydata.org/pandas-docs/stable/indexing.html#indexing-view-versus-copy\n"
     ]
    },
    {
     "name": "stdout",
     "output_type": "stream",
     "text": [
      ">>>>>> buy list (1) : 2015-08-11 00:00:00\n",
      "남양유업(A003920) : 13\n",
      "\n",
      "\n",
      ">>>>>> enough profit (좋은사람들 : A033340) - (2837 : 0.74) : 2015-11-02 00:00:00\n",
      ">>>>>> sell list (1) : 2015-11-02 00:00:00\n",
      "['A033340']\n",
      "\n",
      "\n"
     ]
    },
    {
     "name": "stderr",
     "output_type": "stream",
     "text": [
      "/Users/Shared/anaconda3/anaconda3/lib/python3.7/site-packages/ipykernel_launcher.py:689: SettingWithCopyWarning: \n",
      "A value is trying to be set on a copy of a slice from a DataFrame.\n",
      "Try using .loc[row_indexer,col_indexer] = value instead\n",
      "\n",
      "See the caveats in the documentation: http://pandas.pydata.org/pandas-docs/stable/indexing.html#indexing-view-versus-copy\n"
     ]
    },
    {
     "name": "stdout",
     "output_type": "stream",
     "text": [
      ">>>>>> buy list (1) : 2015-11-02 00:00:00\n",
      "한국전자금융(A063570) : 2789\n",
      "\n",
      "\n",
      ">>>>>> enough periods (경농 : A002100) - (5140 : 0.03) : 368 days 00:00:002015-11-16 00:00:00\n",
      ">>>>>> sell list (1) : 2015-11-16 00:00:00\n",
      "['A002100']\n",
      "\n",
      "\n"
     ]
    },
    {
     "name": "stderr",
     "output_type": "stream",
     "text": [
      "/Users/Shared/anaconda3/anaconda3/lib/python3.7/site-packages/ipykernel_launcher.py:689: SettingWithCopyWarning: \n",
      "A value is trying to be set on a copy of a slice from a DataFrame.\n",
      "Try using .loc[row_indexer,col_indexer] = value instead\n",
      "\n",
      "See the caveats in the documentation: http://pandas.pydata.org/pandas-docs/stable/indexing.html#indexing-view-versus-copy\n"
     ]
    },
    {
     "name": "stdout",
     "output_type": "stream",
     "text": [
      ">>>>>> buy list (1) : 2015-11-16 00:00:00\n",
      "좋은사람들(A033340) : 4421\n",
      "\n",
      "\n",
      ">>>>>> enough periods (한국경제TV : A039340) - (3250 : 0.15) : 366 days 00:00:002015-12-02 00:00:00\n",
      ">>>>>> sell list (1) : 2015-12-02 00:00:00\n",
      "['A039340']\n",
      "\n",
      "\n"
     ]
    },
    {
     "name": "stderr",
     "output_type": "stream",
     "text": [
      "/Users/Shared/anaconda3/anaconda3/lib/python3.7/site-packages/ipykernel_launcher.py:689: SettingWithCopyWarning: \n",
      "A value is trying to be set on a copy of a slice from a DataFrame.\n",
      "Try using .loc[row_indexer,col_indexer] = value instead\n",
      "\n",
      "See the caveats in the documentation: http://pandas.pydata.org/pandas-docs/stable/indexing.html#indexing-view-versus-copy\n"
     ]
    },
    {
     "name": "stdout",
     "output_type": "stream",
     "text": [
      ">>>>>> buy list (1) : 2015-12-02 00:00:00\n",
      "파인디지털(A038950) : 2233\n",
      "\n",
      "\n",
      ">>>>>> enough periods (태광산업 : A003240) - (961000 : -0.14) : 366 days 00:00:002016-02-12 00:00:00\n",
      ">>>>>> sell list (1) : 2016-02-12 00:00:00\n",
      "['A003240']\n",
      "\n",
      "\n"
     ]
    },
    {
     "name": "stderr",
     "output_type": "stream",
     "text": [
      "/Users/Shared/anaconda3/anaconda3/lib/python3.7/site-packages/ipykernel_launcher.py:689: SettingWithCopyWarning: \n",
      "A value is trying to be set on a copy of a slice from a DataFrame.\n",
      "Try using .loc[row_indexer,col_indexer] = value instead\n",
      "\n",
      "See the caveats in the documentation: http://pandas.pydata.org/pandas-docs/stable/indexing.html#indexing-view-versus-copy\n"
     ]
    },
    {
     "name": "stdout",
     "output_type": "stream",
     "text": [
      ">>>>>> buy list (1) : 2016-02-12 00:00:00\n",
      "남영비비안(A002070) : 1890\n",
      "\n",
      "\n",
      ">>>>>> enough periods (서산 : A079650) - (2523 : 0.07) : 366 days 00:00:002016-03-03 00:00:00\n",
      ">>>>>> sell list (1) : 2016-03-03 00:00:00\n",
      "['A079650']\n",
      "\n",
      "\n"
     ]
    },
    {
     "name": "stderr",
     "output_type": "stream",
     "text": [
      "/Users/Shared/anaconda3/anaconda3/lib/python3.7/site-packages/ipykernel_launcher.py:689: SettingWithCopyWarning: \n",
      "A value is trying to be set on a copy of a slice from a DataFrame.\n",
      "Try using .loc[row_indexer,col_indexer] = value instead\n",
      "\n",
      "See the caveats in the documentation: http://pandas.pydata.org/pandas-docs/stable/indexing.html#indexing-view-versus-copy\n"
     ]
    },
    {
     "name": "stdout",
     "output_type": "stream",
     "text": [
      ">>>>>> buy list (1) : 2016-03-03 00:00:00\n",
      "케이티(A030200) : 797\n",
      "\n",
      "\n",
      ">>>>>> enough periods (텔레필드 : A091440) - (4260.0 : -0.14) : 366 days 00:00:002016-03-09 00:00:00\n",
      ">>>>>> sell list (1) : 2016-03-09 00:00:00\n",
      "['A091440']\n",
      "\n",
      "\n"
     ]
    },
    {
     "name": "stderr",
     "output_type": "stream",
     "text": [
      "/Users/Shared/anaconda3/anaconda3/lib/python3.7/site-packages/ipykernel_launcher.py:689: SettingWithCopyWarning: \n",
      "A value is trying to be set on a copy of a slice from a DataFrame.\n",
      "Try using .loc[row_indexer,col_indexer] = value instead\n",
      "\n",
      "See the caveats in the documentation: http://pandas.pydata.org/pandas-docs/stable/indexing.html#indexing-view-versus-copy\n"
     ]
    },
    {
     "name": "stdout",
     "output_type": "stream",
     "text": [
      ">>>>>> buy list (1) : 2016-03-09 00:00:00\n",
      "태광산업(A003240) : 18\n",
      "\n",
      "\n",
      ">>>>>> enough periods (백금T&A : A046310) - (2483 : -0.27) : 367 days 00:00:002016-03-14 00:00:00\n",
      ">>>>>> sell list (1) : 2016-03-14 00:00:00\n",
      "['A046310']\n",
      "\n",
      "\n"
     ]
    },
    {
     "name": "stderr",
     "output_type": "stream",
     "text": [
      "/Users/Shared/anaconda3/anaconda3/lib/python3.7/site-packages/ipykernel_launcher.py:689: SettingWithCopyWarning: \n",
      "A value is trying to be set on a copy of a slice from a DataFrame.\n",
      "Try using .loc[row_indexer,col_indexer] = value instead\n",
      "\n",
      "See the caveats in the documentation: http://pandas.pydata.org/pandas-docs/stable/indexing.html#indexing-view-versus-copy\n"
     ]
    },
    {
     "name": "stdout",
     "output_type": "stream",
     "text": [
      ">>>>>> buy list (1) : 2016-03-14 00:00:00\n",
      "삼일제약(A000520) : 1113\n",
      "\n",
      "\n",
      ">>>>>> enough periods (신원 : A009270) - (1790 : -0.25) : 366 days 00:00:002016-03-31 00:00:00\n",
      ">>>>>> enough periods (대한제분 : A001130) - (196500 : 0.06) : 366 days 00:00:002016-03-31 00:00:00\n",
      ">>>>>> sell list (2) : 2016-03-31 00:00:00\n",
      "['A009270', 'A001130']\n",
      "\n",
      "\n"
     ]
    },
    {
     "name": "stderr",
     "output_type": "stream",
     "text": [
      "/Users/Shared/anaconda3/anaconda3/lib/python3.7/site-packages/ipykernel_launcher.py:689: SettingWithCopyWarning: \n",
      "A value is trying to be set on a copy of a slice from a DataFrame.\n",
      "Try using .loc[row_indexer,col_indexer] = value instead\n",
      "\n",
      "See the caveats in the documentation: http://pandas.pydata.org/pandas-docs/stable/indexing.html#indexing-view-versus-copy\n"
     ]
    },
    {
     "name": "stdout",
     "output_type": "stream",
     "text": [
      ">>>>>> buy list (2) : 2016-03-31 00:00:00\n",
      "LF(A093050) : 1141\n",
      "메가스터디(A072870) : 2261\n",
      "\n",
      "\n",
      ">>>>>> enough periods (사조대림 : A003960) - (20150 : -0.03) : 366 days 00:00:002016-04-01 00:00:00\n",
      ">>>>>> sell list (1) : 2016-04-01 00:00:00\n",
      "['A003960']\n",
      "\n",
      "\n"
     ]
    },
    {
     "name": "stderr",
     "output_type": "stream",
     "text": [
      "/Users/Shared/anaconda3/anaconda3/lib/python3.7/site-packages/ipykernel_launcher.py:689: SettingWithCopyWarning: \n",
      "A value is trying to be set on a copy of a slice from a DataFrame.\n",
      "Try using .loc[row_indexer,col_indexer] = value instead\n",
      "\n",
      "See the caveats in the documentation: http://pandas.pydata.org/pandas-docs/stable/indexing.html#indexing-view-versus-copy\n"
     ]
    },
    {
     "name": "stdout",
     "output_type": "stream",
     "text": [
      ">>>>>> buy list (1) : 2016-04-01 00:00:00\n",
      "신원(A009270) : 8421\n",
      "\n",
      "\n",
      ">>>>>> enough profit (영신금속 : A007530) - (4409 : 0.52) : 2016-04-21 00:00:00\n",
      ">>>>>> sell list (1) : 2016-04-21 00:00:00\n",
      "['A007530']\n",
      "\n",
      "\n"
     ]
    },
    {
     "name": "stderr",
     "output_type": "stream",
     "text": [
      "/Users/Shared/anaconda3/anaconda3/lib/python3.7/site-packages/ipykernel_launcher.py:689: SettingWithCopyWarning: \n",
      "A value is trying to be set on a copy of a slice from a DataFrame.\n",
      "Try using .loc[row_indexer,col_indexer] = value instead\n",
      "\n",
      "See the caveats in the documentation: http://pandas.pydata.org/pandas-docs/stable/indexing.html#indexing-view-versus-copy\n"
     ]
    },
    {
     "name": "stdout",
     "output_type": "stream",
     "text": [
      ">>>>>> buy list (1) : 2016-04-21 00:00:00\n",
      "광림(A014200) : 40778\n",
      "\n",
      "\n",
      ">>>>>> enough periods (신영와코루 : A005800) - (152500 : 0.11) : 368 days 00:00:002016-05-16 00:00:00\n",
      ">>>>>> enough periods (진도 : A088790) - (4925.0 : 0.01) : 367 days 00:00:002016-05-16 00:00:00\n",
      ">>>>>> sell list (2) : 2016-05-16 00:00:00\n",
      "['A005800', 'A088790']\n",
      "\n",
      "\n"
     ]
    },
    {
     "name": "stderr",
     "output_type": "stream",
     "text": [
      "/Users/Shared/anaconda3/anaconda3/lib/python3.7/site-packages/ipykernel_launcher.py:689: SettingWithCopyWarning: \n",
      "A value is trying to be set on a copy of a slice from a DataFrame.\n",
      "Try using .loc[row_indexer,col_indexer] = value instead\n",
      "\n",
      "See the caveats in the documentation: http://pandas.pydata.org/pandas-docs/stable/indexing.html#indexing-view-versus-copy\n"
     ]
    },
    {
     "name": "stdout",
     "output_type": "stream",
     "text": [
      ">>>>>> buy list (2) : 2016-05-16 00:00:00\n",
      "한국석유공업(A004090) : 294\n",
      "NE능률(A053290) : 7228\n",
      "\n",
      "\n",
      ">>>>>> enough periods (디아이동일 : A001530) - (58765 : -0.3) : 367 days 00:00:002016-05-23 00:00:00\n",
      ">>>>>> enough profit (광림 : A014200) - (8420 : 0.55) : 2016-05-23 00:00:00\n",
      ">>>>>> sell list (2) : 2016-05-23 00:00:00\n",
      "['A001530', 'A014200']\n",
      "\n",
      "\n"
     ]
    },
    {
     "name": "stderr",
     "output_type": "stream",
     "text": [
      "/Users/Shared/anaconda3/anaconda3/lib/python3.7/site-packages/ipykernel_launcher.py:689: SettingWithCopyWarning: \n",
      "A value is trying to be set on a copy of a slice from a DataFrame.\n",
      "Try using .loc[row_indexer,col_indexer] = value instead\n",
      "\n",
      "See the caveats in the documentation: http://pandas.pydata.org/pandas-docs/stable/indexing.html#indexing-view-versus-copy\n"
     ]
    },
    {
     "name": "stdout",
     "output_type": "stream",
     "text": [
      ">>>>>> buy list (2) : 2016-05-23 00:00:00\n",
      "신영와코루(A005800) : 1446\n",
      "진도(A088790) : 44991\n",
      "\n",
      "\n",
      ">>>>>> enough profit (현대약품 : A004310) - (6955 : 0.55) : 2016-05-24 00:00:00\n",
      ">>>>>> sell list (1) : 2016-05-24 00:00:00\n",
      "['A004310']\n",
      "\n",
      "\n"
     ]
    },
    {
     "name": "stderr",
     "output_type": "stream",
     "text": [
      "/Users/Shared/anaconda3/anaconda3/lib/python3.7/site-packages/ipykernel_launcher.py:689: SettingWithCopyWarning: \n",
      "A value is trying to be set on a copy of a slice from a DataFrame.\n",
      "Try using .loc[row_indexer,col_indexer] = value instead\n",
      "\n",
      "See the caveats in the documentation: http://pandas.pydata.org/pandas-docs/stable/indexing.html#indexing-view-versus-copy\n"
     ]
    },
    {
     "name": "stdout",
     "output_type": "stream",
     "text": [
      ">>>>>> buy list (1) : 2016-05-24 00:00:00\n",
      "광림(A014200) : 4637\n",
      "\n",
      "\n",
      ">>>>>> enough periods (팅크웨어 : A084730) - (12100.0 : -0.38) : 368 days 00:00:002016-06-20 00:00:00\n",
      ">>>>>> sell list (1) : 2016-06-20 00:00:00\n",
      "['A084730']\n",
      "\n",
      "\n"
     ]
    },
    {
     "name": "stderr",
     "output_type": "stream",
     "text": [
      "/Users/Shared/anaconda3/anaconda3/lib/python3.7/site-packages/ipykernel_launcher.py:689: SettingWithCopyWarning: \n",
      "A value is trying to be set on a copy of a slice from a DataFrame.\n",
      "Try using .loc[row_indexer,col_indexer] = value instead\n",
      "\n",
      "See the caveats in the documentation: http://pandas.pydata.org/pandas-docs/stable/indexing.html#indexing-view-versus-copy\n"
     ]
    },
    {
     "name": "stdout",
     "output_type": "stream",
     "text": [
      ">>>>>> buy list (1) : 2016-06-20 00:00:00\n",
      "지엔코(A065060) : 29357\n",
      "\n",
      "\n",
      ">>>>>> enough periods (유니셈 : A036200) - (6229 : -0.34) : 366 days 00:00:002016-06-29 00:00:00\n",
      ">>>>>> sell list (1) : 2016-06-29 00:00:00\n",
      "['A036200']\n",
      "\n",
      "\n"
     ]
    },
    {
     "name": "stderr",
     "output_type": "stream",
     "text": [
      "/Users/Shared/anaconda3/anaconda3/lib/python3.7/site-packages/ipykernel_launcher.py:689: SettingWithCopyWarning: \n",
      "A value is trying to be set on a copy of a slice from a DataFrame.\n",
      "Try using .loc[row_indexer,col_indexer] = value instead\n",
      "\n",
      "See the caveats in the documentation: http://pandas.pydata.org/pandas-docs/stable/indexing.html#indexing-view-versus-copy\n"
     ]
    },
    {
     "name": "stdout",
     "output_type": "stream",
     "text": [
      ">>>>>> buy list (1) : 2016-06-29 00:00:00\n",
      "중앙에너비스(A000440) : 5037\n",
      "\n",
      "\n",
      ">>>>>> enough profit (진도 : A088790) - (7460.0 : 0.51) : 2016-07-08 00:00:00\n",
      ">>>>>> sell list (1) : 2016-07-08 00:00:00\n",
      "['A088790']\n",
      "\n",
      "\n"
     ]
    },
    {
     "name": "stderr",
     "output_type": "stream",
     "text": [
      "/Users/Shared/anaconda3/anaconda3/lib/python3.7/site-packages/ipykernel_launcher.py:689: SettingWithCopyWarning: \n",
      "A value is trying to be set on a copy of a slice from a DataFrame.\n",
      "Try using .loc[row_indexer,col_indexer] = value instead\n",
      "\n",
      "See the caveats in the documentation: http://pandas.pydata.org/pandas-docs/stable/indexing.html#indexing-view-versus-copy\n"
     ]
    },
    {
     "name": "stdout",
     "output_type": "stream",
     "text": [
      ">>>>>> buy list (1) : 2016-07-08 00:00:00\n",
      "플랜티넷(A075130) : 52442\n",
      "\n",
      "\n",
      ">>>>>> enough periods (오리콤 : A010470) - (5890 : -0.42) : 367 days 00:00:002016-07-11 00:00:00\n",
      ">>>>>> sell list (1) : 2016-07-11 00:00:00\n",
      "['A010470']\n",
      "\n",
      "\n"
     ]
    },
    {
     "name": "stderr",
     "output_type": "stream",
     "text": [
      "/Users/Shared/anaconda3/anaconda3/lib/python3.7/site-packages/ipykernel_launcher.py:689: SettingWithCopyWarning: \n",
      "A value is trying to be set on a copy of a slice from a DataFrame.\n",
      "Try using .loc[row_indexer,col_indexer] = value instead\n",
      "\n",
      "See the caveats in the documentation: http://pandas.pydata.org/pandas-docs/stable/indexing.html#indexing-view-versus-copy\n"
     ]
    },
    {
     "name": "stdout",
     "output_type": "stream",
     "text": [
      ">>>>>> buy list (1) : 2016-07-11 00:00:00\n",
      "진도(A088790) : 1558\n",
      "\n",
      "\n",
      ">>>>>> enough periods (삼아제약 : A009300) - (22000 : 0.17) : 367 days 00:00:002016-08-08 00:00:00\n",
      ">>>>>> sell list (1) : 2016-08-08 00:00:00\n",
      "['A009300']\n",
      "\n",
      "\n"
     ]
    },
    {
     "name": "stderr",
     "output_type": "stream",
     "text": [
      "/Users/Shared/anaconda3/anaconda3/lib/python3.7/site-packages/ipykernel_launcher.py:689: SettingWithCopyWarning: \n",
      "A value is trying to be set on a copy of a slice from a DataFrame.\n",
      "Try using .loc[row_indexer,col_indexer] = value instead\n",
      "\n",
      "See the caveats in the documentation: http://pandas.pydata.org/pandas-docs/stable/indexing.html#indexing-view-versus-copy\n"
     ]
    },
    {
     "name": "stdout",
     "output_type": "stream",
     "text": [
      ">>>>>> buy list (1) : 2016-08-08 00:00:00\n",
      "서산(A079650) : 3078\n",
      "\n",
      "\n",
      ">>>>>> enough periods (남양유업 : A003920) - (705000 : -0.11) : 366 days 00:00:002016-08-11 00:00:00\n",
      ">>>>>> sell list (1) : 2016-08-11 00:00:00\n",
      "['A003920']\n",
      "\n",
      "\n"
     ]
    },
    {
     "name": "stderr",
     "output_type": "stream",
     "text": [
      "/Users/Shared/anaconda3/anaconda3/lib/python3.7/site-packages/ipykernel_launcher.py:689: SettingWithCopyWarning: \n",
      "A value is trying to be set on a copy of a slice from a DataFrame.\n",
      "Try using .loc[row_indexer,col_indexer] = value instead\n",
      "\n",
      "See the caveats in the documentation: http://pandas.pydata.org/pandas-docs/stable/indexing.html#indexing-view-versus-copy\n"
     ]
    },
    {
     "name": "stdout",
     "output_type": "stream",
     "text": [
      ">>>>>> buy list (1) : 2016-08-11 00:00:00\n",
      "LG전자(A066570) : 174\n",
      "\n",
      "\n",
      ">>>>>> enough profit (NE능률 : A053290) - (7410 : 0.65) : 2016-09-01 00:00:00\n",
      ">>>>>> sell list (1) : 2016-09-01 00:00:00\n",
      "['A053290']\n",
      "\n",
      "\n"
     ]
    },
    {
     "name": "stderr",
     "output_type": "stream",
     "text": [
      "/Users/Shared/anaconda3/anaconda3/lib/python3.7/site-packages/ipykernel_launcher.py:689: SettingWithCopyWarning: \n",
      "A value is trying to be set on a copy of a slice from a DataFrame.\n",
      "Try using .loc[row_indexer,col_indexer] = value instead\n",
      "\n",
      "See the caveats in the documentation: http://pandas.pydata.org/pandas-docs/stable/indexing.html#indexing-view-versus-copy\n"
     ]
    },
    {
     "name": "stdout",
     "output_type": "stream",
     "text": [
      ">>>>>> buy list (1) : 2016-09-01 00:00:00\n",
      "남양유업(A003920) : 75\n",
      "\n",
      "\n",
      ">>>>>> enough profit (지엔코 : A065060) - (5730 : 0.69) : 2016-09-09 00:00:00\n",
      ">>>>>> sell list (1) : 2016-09-09 00:00:00\n",
      "['A065060']\n",
      "\n",
      "\n"
     ]
    },
    {
     "name": "stderr",
     "output_type": "stream",
     "text": [
      "/Users/Shared/anaconda3/anaconda3/lib/python3.7/site-packages/ipykernel_launcher.py:689: SettingWithCopyWarning: \n",
      "A value is trying to be set on a copy of a slice from a DataFrame.\n",
      "Try using .loc[row_indexer,col_indexer] = value instead\n",
      "\n",
      "See the caveats in the documentation: http://pandas.pydata.org/pandas-docs/stable/indexing.html#indexing-view-versus-copy\n"
     ]
    },
    {
     "name": "stdout",
     "output_type": "stream",
     "text": [
      ">>>>>> buy list (1) : 2016-09-09 00:00:00\n",
      "NE능률(A053290) : 24532\n",
      "\n",
      "\n",
      ">>>>>> enough periods (한국전자금융 : A063570) - (5400.0 : -0.33) : 366 days 00:00:002016-11-02 00:00:00\n",
      ">>>>>> sell list (1) : 2016-11-02 00:00:00\n",
      "['A063570']\n",
      "\n",
      "\n"
     ]
    },
    {
     "name": "stderr",
     "output_type": "stream",
     "text": [
      "/Users/Shared/anaconda3/anaconda3/lib/python3.7/site-packages/ipykernel_launcher.py:689: SettingWithCopyWarning: \n",
      "A value is trying to be set on a copy of a slice from a DataFrame.\n",
      "Try using .loc[row_indexer,col_indexer] = value instead\n",
      "\n",
      "See the caveats in the documentation: http://pandas.pydata.org/pandas-docs/stable/indexing.html#indexing-view-versus-copy\n"
     ]
    },
    {
     "name": "stdout",
     "output_type": "stream",
     "text": [
      ">>>>>> buy list (1) : 2016-11-02 00:00:00\n",
      "지엔코(A065060) : 3246\n",
      "\n",
      "\n",
      ">>>>>> enough periods (좋은사람들 : A033340) - (1900 : -0.05) : 366 days 00:00:002016-11-16 00:00:00\n",
      ">>>>>> sell list (1) : 2016-11-16 00:00:00\n",
      "['A033340']\n",
      "\n",
      "\n"
     ]
    },
    {
     "name": "stderr",
     "output_type": "stream",
     "text": [
      "/Users/Shared/anaconda3/anaconda3/lib/python3.7/site-packages/ipykernel_launcher.py:689: SettingWithCopyWarning: \n",
      "A value is trying to be set on a copy of a slice from a DataFrame.\n",
      "Try using .loc[row_indexer,col_indexer] = value instead\n",
      "\n",
      "See the caveats in the documentation: http://pandas.pydata.org/pandas-docs/stable/indexing.html#indexing-view-versus-copy\n"
     ]
    },
    {
     "name": "stdout",
     "output_type": "stream",
     "text": [
      ">>>>>> buy list (1) : 2016-11-16 00:00:00\n",
      "네오위즈홀딩스(A042420) : 543\n",
      "\n",
      "\n",
      ">>>>>> enough periods (파인디지털 : A038950) - (6050 : 0.12) : 366 days 00:00:002016-12-02 00:00:00\n",
      ">>>>>> sell list (1) : 2016-12-02 00:00:00\n",
      "['A038950']\n",
      "\n",
      "\n"
     ]
    },
    {
     "name": "stderr",
     "output_type": "stream",
     "text": [
      "/Users/Shared/anaconda3/anaconda3/lib/python3.7/site-packages/ipykernel_launcher.py:689: SettingWithCopyWarning: \n",
      "A value is trying to be set on a copy of a slice from a DataFrame.\n",
      "Try using .loc[row_indexer,col_indexer] = value instead\n",
      "\n",
      "See the caveats in the documentation: http://pandas.pydata.org/pandas-docs/stable/indexing.html#indexing-view-versus-copy\n"
     ]
    },
    {
     "name": "stdout",
     "output_type": "stream",
     "text": [
      ">>>>>> buy list (1) : 2016-12-02 00:00:00\n",
      "좋은사람들(A033340) : 7903\n",
      "\n",
      "\n",
      ">>>>>> enough profit (지엔코 : A065060) - (7510 : 0.62) : 2016-12-12 00:00:00\n",
      ">>>>>> sell list (1) : 2016-12-12 00:00:00\n",
      "['A065060']\n",
      "\n",
      "\n"
     ]
    },
    {
     "name": "stderr",
     "output_type": "stream",
     "text": [
      "/Users/Shared/anaconda3/anaconda3/lib/python3.7/site-packages/ipykernel_launcher.py:689: SettingWithCopyWarning: \n",
      "A value is trying to be set on a copy of a slice from a DataFrame.\n",
      "Try using .loc[row_indexer,col_indexer] = value instead\n",
      "\n",
      "See the caveats in the documentation: http://pandas.pydata.org/pandas-docs/stable/indexing.html#indexing-view-versus-copy\n"
     ]
    },
    {
     "name": "stdout",
     "output_type": "stream",
     "text": [
      ">>>>>> buy list (1) : 2016-12-12 00:00:00\n",
      "파인디지털(A038950) : 3957\n",
      "\n",
      "\n",
      ">>>>>> enough profit (서산 : A079650) - (4826 : 0.55) : 2016-12-29 00:00:00\n",
      ">>>>>> sell list (1) : 2016-12-29 00:00:00\n",
      "['A079650']\n",
      "\n",
      "\n"
     ]
    },
    {
     "name": "stderr",
     "output_type": "stream",
     "text": [
      "/Users/Shared/anaconda3/anaconda3/lib/python3.7/site-packages/ipykernel_launcher.py:689: SettingWithCopyWarning: \n",
      "A value is trying to be set on a copy of a slice from a DataFrame.\n",
      "Try using .loc[row_indexer,col_indexer] = value instead\n",
      "\n",
      "See the caveats in the documentation: http://pandas.pydata.org/pandas-docs/stable/indexing.html#indexing-view-versus-copy\n"
     ]
    },
    {
     "name": "stdout",
     "output_type": "stream",
     "text": [
      ">>>>>> buy list (1) : 2016-12-29 00:00:00\n",
      "지엔코(A065060) : 1937\n",
      "\n",
      "\n",
      ">>>>>> enough periods (남영비비안 : A002070) - (8360 : -0.13) : 367 days 00:00:002017-02-13 00:00:00\n",
      ">>>>>> sell list (1) : 2017-02-13 00:00:00\n",
      "['A002070']\n",
      "\n",
      "\n"
     ]
    },
    {
     "name": "stderr",
     "output_type": "stream",
     "text": [
      "/Users/Shared/anaconda3/anaconda3/lib/python3.7/site-packages/ipykernel_launcher.py:689: SettingWithCopyWarning: \n",
      "A value is trying to be set on a copy of a slice from a DataFrame.\n",
      "Try using .loc[row_indexer,col_indexer] = value instead\n",
      "\n",
      "See the caveats in the documentation: http://pandas.pydata.org/pandas-docs/stable/indexing.html#indexing-view-versus-copy\n"
     ]
    },
    {
     "name": "stdout",
     "output_type": "stream",
     "text": [
      ">>>>>> buy list (1) : 2017-02-13 00:00:00\n",
      "디아이동일(A001530) : 275\n",
      "\n",
      "\n",
      ">>>>>> enough periods (케이티 : A030200) - (30950 : 0.08) : 368 days 00:00:002017-03-06 00:00:00\n",
      ">>>>>> sell list (1) : 2017-03-06 00:00:00\n",
      "['A030200']\n",
      "\n",
      "\n"
     ]
    },
    {
     "name": "stderr",
     "output_type": "stream",
     "text": [
      "/Users/Shared/anaconda3/anaconda3/lib/python3.7/site-packages/ipykernel_launcher.py:689: SettingWithCopyWarning: \n",
      "A value is trying to be set on a copy of a slice from a DataFrame.\n",
      "Try using .loc[row_indexer,col_indexer] = value instead\n",
      "\n",
      "See the caveats in the documentation: http://pandas.pydata.org/pandas-docs/stable/indexing.html#indexing-view-versus-copy\n"
     ]
    },
    {
     "name": "stdout",
     "output_type": "stream",
     "text": [
      ">>>>>> buy list (1) : 2017-03-06 00:00:00\n",
      "티비에이치글로벌(A084870) : 2940\n",
      "\n",
      "\n",
      ">>>>>> enough periods (태광산업 : A003240) - (911000 : -0.11) : 366 days 00:00:002017-03-10 00:00:00\n",
      ">>>>>> sell list (1) : 2017-03-10 00:00:00\n",
      "['A003240']\n",
      "\n",
      "\n"
     ]
    },
    {
     "name": "stderr",
     "output_type": "stream",
     "text": [
      "/Users/Shared/anaconda3/anaconda3/lib/python3.7/site-packages/ipykernel_launcher.py:689: SettingWithCopyWarning: \n",
      "A value is trying to be set on a copy of a slice from a DataFrame.\n",
      "Try using .loc[row_indexer,col_indexer] = value instead\n",
      "\n",
      "See the caveats in the documentation: http://pandas.pydata.org/pandas-docs/stable/indexing.html#indexing-view-versus-copy\n"
     ]
    },
    {
     "name": "stdout",
     "output_type": "stream",
     "text": [
      ">>>>>> buy list (1) : 2017-03-10 00:00:00\n",
      "케이티(A030200) : 509\n",
      "\n",
      "\n",
      ">>>>>> enough periods (삼일제약 : A000520) - (7824 : -0.05) : 366 days 00:00:002017-03-15 00:00:00\n",
      ">>>>>> sell list (1) : 2017-03-15 00:00:00\n",
      "['A000520']\n",
      "\n",
      "\n"
     ]
    },
    {
     "name": "stderr",
     "output_type": "stream",
     "text": [
      "/Users/Shared/anaconda3/anaconda3/lib/python3.7/site-packages/ipykernel_launcher.py:689: SettingWithCopyWarning: \n",
      "A value is trying to be set on a copy of a slice from a DataFrame.\n",
      "Try using .loc[row_indexer,col_indexer] = value instead\n",
      "\n",
      "See the caveats in the documentation: http://pandas.pydata.org/pandas-docs/stable/indexing.html#indexing-view-versus-copy\n"
     ]
    },
    {
     "name": "stdout",
     "output_type": "stream",
     "text": [
      ">>>>>> buy list (1) : 2017-03-15 00:00:00\n",
      "태광산업(A003240) : 9\n",
      "\n",
      "\n",
      ">>>>>> enough periods (신원 : A009270) - (1805 : -0.02) : 367 days 00:00:002017-04-03 00:00:00\n",
      ">>>>>> enough periods (LF : A093050) - (22450.0 : -0.13) : 368 days 00:00:002017-04-03 00:00:00\n",
      ">>>>>> enough periods (메가스터디 : A072870) - (10648 : -0.19) : 368 days 00:00:002017-04-03 00:00:00\n",
      ">>>>>> sell list (3) : 2017-04-03 00:00:00\n",
      "['A009270', 'A093050', 'A072870']\n",
      "\n",
      "\n"
     ]
    },
    {
     "name": "stderr",
     "output_type": "stream",
     "text": [
      "/Users/Shared/anaconda3/anaconda3/lib/python3.7/site-packages/ipykernel_launcher.py:689: SettingWithCopyWarning: \n",
      "A value is trying to be set on a copy of a slice from a DataFrame.\n",
      "Try using .loc[row_indexer,col_indexer] = value instead\n",
      "\n",
      "See the caveats in the documentation: http://pandas.pydata.org/pandas-docs/stable/indexing.html#indexing-view-versus-copy\n"
     ]
    },
    {
     "name": "stdout",
     "output_type": "stream",
     "text": [
      ">>>>>> buy list (3) : 2017-04-03 00:00:00\n",
      "사조대림(A003960) : 1246\n",
      "하이트진로홀딩스(A000140) : 1953\n",
      "대한제분(A001130) : 123\n",
      "\n",
      "\n",
      ">>>>>> enough profit (LG전자 : A066570) - (79800 : 0.52) : 2017-05-11 00:00:00\n",
      ">>>>>> sell list (1) : 2017-05-11 00:00:00\n",
      "['A066570']\n",
      "\n",
      "\n"
     ]
    },
    {
     "name": "stderr",
     "output_type": "stream",
     "text": [
      "/Users/Shared/anaconda3/anaconda3/lib/python3.7/site-packages/ipykernel_launcher.py:689: SettingWithCopyWarning: \n",
      "A value is trying to be set on a copy of a slice from a DataFrame.\n",
      "Try using .loc[row_indexer,col_indexer] = value instead\n",
      "\n",
      "See the caveats in the documentation: http://pandas.pydata.org/pandas-docs/stable/indexing.html#indexing-view-versus-copy\n"
     ]
    },
    {
     "name": "stdout",
     "output_type": "stream",
     "text": [
      ">>>>>> buy list (1) : 2017-05-11 00:00:00\n",
      "LF(A093050) : 537\n",
      "\n",
      "\n",
      ">>>>>> enough periods (한국석유공업 : A004090) - (108000 : -0.02) : 366 days 00:00:002017-05-17 00:00:00\n",
      ">>>>>> sell list (1) : 2017-05-17 00:00:00\n",
      "['A004090']\n",
      "\n",
      "\n"
     ]
    },
    {
     "name": "stderr",
     "output_type": "stream",
     "text": [
      "/Users/Shared/anaconda3/anaconda3/lib/python3.7/site-packages/ipykernel_launcher.py:689: SettingWithCopyWarning: \n",
      "A value is trying to be set on a copy of a slice from a DataFrame.\n",
      "Try using .loc[row_indexer,col_indexer] = value instead\n",
      "\n",
      "See the caveats in the documentation: http://pandas.pydata.org/pandas-docs/stable/indexing.html#indexing-view-versus-copy\n"
     ]
    },
    {
     "name": "stdout",
     "output_type": "stream",
     "text": [
      ">>>>>> buy list (1) : 2017-05-17 00:00:00\n",
      "LG전자(A066570) : 396\n",
      "\n",
      "\n",
      ">>>>>> enough periods (신영와코루 : A005800) - (163000 : 0.06) : 366 days 00:00:002017-05-24 00:00:00\n",
      ">>>>>> sell list (1) : 2017-05-24 00:00:00\n",
      "['A005800']\n",
      "\n",
      "\n"
     ]
    },
    {
     "name": "stderr",
     "output_type": "stream",
     "text": [
      "/Users/Shared/anaconda3/anaconda3/lib/python3.7/site-packages/ipykernel_launcher.py:689: SettingWithCopyWarning: \n",
      "A value is trying to be set on a copy of a slice from a DataFrame.\n",
      "Try using .loc[row_indexer,col_indexer] = value instead\n",
      "\n",
      "See the caveats in the documentation: http://pandas.pydata.org/pandas-docs/stable/indexing.html#indexing-view-versus-copy\n",
      "/Users/Shared/anaconda3/anaconda3/lib/python3.7/site-packages/ipykernel_launcher.py:689: SettingWithCopyWarning: \n",
      "A value is trying to be set on a copy of a slice from a DataFrame.\n",
      "Try using .loc[row_indexer,col_indexer] = value instead\n",
      "\n",
      "See the caveats in the documentation: http://pandas.pydata.org/pandas-docs/stable/indexing.html#indexing-view-versus-copy\n"
     ]
    },
    {
     "name": "stdout",
     "output_type": "stream",
     "text": [
      ">>>>>> buy list (1) : 2017-05-24 00:00:00\n",
      "한국석유공업(A004090) : 2143\n",
      "\n",
      "\n",
      ">>>>>> enough periods (광림 : A014200) - (6180 : -0.2) : 366 days 00:00:002017-05-25 00:00:00\n",
      ">>>>>> sell list (1) : 2017-05-25 00:00:00\n",
      "['A014200']\n",
      "\n",
      "\n",
      ">>>>>> buy list (1) : 2017-05-25 00:00:00\n",
      "신영와코루(A005800) : 176\n",
      "\n",
      "\n",
      ">>>>>> enough profit (사조대림 : A003960) - (26800 : 0.53) : 2017-06-02 00:00:00\n",
      ">>>>>> sell list (1) : 2017-06-02 00:00:00\n",
      "['A003960']\n",
      "\n",
      "\n"
     ]
    },
    {
     "name": "stderr",
     "output_type": "stream",
     "text": [
      "/Users/Shared/anaconda3/anaconda3/lib/python3.7/site-packages/ipykernel_launcher.py:689: SettingWithCopyWarning: \n",
      "A value is trying to be set on a copy of a slice from a DataFrame.\n",
      "Try using .loc[row_indexer,col_indexer] = value instead\n",
      "\n",
      "See the caveats in the documentation: http://pandas.pydata.org/pandas-docs/stable/indexing.html#indexing-view-versus-copy\n"
     ]
    },
    {
     "name": "stdout",
     "output_type": "stream",
     "text": [
      ">>>>>> buy list (1) : 2017-06-02 00:00:00\n",
      "대상홀딩스(A084690) : 2807\n",
      "\n",
      "\n",
      ">>>>>> enough periods (중앙에너비스 : A000440) - (6660 : 0.18) : 366 days 00:00:002017-06-30 00:00:00\n",
      ">>>>>> sell list (1) : 2017-06-30 00:00:00\n",
      "['A000440']\n",
      "\n",
      "\n"
     ]
    },
    {
     "name": "stderr",
     "output_type": "stream",
     "text": [
      "/Users/Shared/anaconda3/anaconda3/lib/python3.7/site-packages/ipykernel_launcher.py:689: SettingWithCopyWarning: \n",
      "A value is trying to be set on a copy of a slice from a DataFrame.\n",
      "Try using .loc[row_indexer,col_indexer] = value instead\n",
      "\n",
      "See the caveats in the documentation: http://pandas.pydata.org/pandas-docs/stable/indexing.html#indexing-view-versus-copy\n"
     ]
    },
    {
     "name": "stdout",
     "output_type": "stream",
     "text": [
      ">>>>>> buy list (1) : 2017-06-30 00:00:00\n",
      "사조대림(A003960) : 1150\n",
      "\n",
      "\n",
      ">>>>>> enough periods (플랜티넷 : A075130) - (6240 : -0.03) : 367 days 00:00:002017-07-10 00:00:00\n",
      ">>>>>> sell list (1) : 2017-07-10 00:00:00\n",
      "['A075130']\n",
      "\n",
      "\n"
     ]
    },
    {
     "name": "stderr",
     "output_type": "stream",
     "text": [
      "/Users/Shared/anaconda3/anaconda3/lib/python3.7/site-packages/ipykernel_launcher.py:689: SettingWithCopyWarning: \n",
      "A value is trying to be set on a copy of a slice from a DataFrame.\n",
      "Try using .loc[row_indexer,col_indexer] = value instead\n",
      "\n",
      "See the caveats in the documentation: http://pandas.pydata.org/pandas-docs/stable/indexing.html#indexing-view-versus-copy\n"
     ]
    },
    {
     "name": "stdout",
     "output_type": "stream",
     "text": [
      ">>>>>> buy list (1) : 2017-07-10 00:00:00\n",
      "삼일제약(A000520) : 40115\n",
      "\n",
      "\n",
      ">>>>>> enough periods (진도 : A088790) - (5770.0 : -0.22) : 366 days 00:00:002017-07-12 00:00:00\n",
      ">>>>>> sell list (1) : 2017-07-12 00:00:00\n",
      "['A088790']\n",
      "\n",
      "\n"
     ]
    },
    {
     "name": "stderr",
     "output_type": "stream",
     "text": [
      "/Users/Shared/anaconda3/anaconda3/lib/python3.7/site-packages/ipykernel_launcher.py:689: SettingWithCopyWarning: \n",
      "A value is trying to be set on a copy of a slice from a DataFrame.\n",
      "Try using .loc[row_indexer,col_indexer] = value instead\n",
      "\n",
      "See the caveats in the documentation: http://pandas.pydata.org/pandas-docs/stable/indexing.html#indexing-view-versus-copy\n"
     ]
    },
    {
     "name": "stdout",
     "output_type": "stream",
     "text": [
      ">>>>>> buy list (1) : 2017-07-12 00:00:00\n",
      "중앙에너비스(A000440) : 1390\n",
      "\n",
      "\n",
      ">>>>>> enough periods (남양유업 : A003920) - (687000 : -0.03) : 368 days 00:00:002017-09-04 00:00:00\n",
      ">>>>>> sell list (1) : 2017-09-04 00:00:00\n",
      "['A003920']\n",
      "\n",
      "\n"
     ]
    },
    {
     "name": "stderr",
     "output_type": "stream",
     "text": [
      "/Users/Shared/anaconda3/anaconda3/lib/python3.7/site-packages/ipykernel_launcher.py:689: SettingWithCopyWarning: \n",
      "A value is trying to be set on a copy of a slice from a DataFrame.\n",
      "Try using .loc[row_indexer,col_indexer] = value instead\n",
      "\n",
      "See the caveats in the documentation: http://pandas.pydata.org/pandas-docs/stable/indexing.html#indexing-view-versus-copy\n"
     ]
    },
    {
     "name": "stdout",
     "output_type": "stream",
     "text": [
      ">>>>>> buy list (1) : 2017-09-04 00:00:00\n",
      "진도(A088790) : 8838\n",
      "\n",
      "\n",
      ">>>>>> enough periods (NE능률 : A053290) - (5970 : -0.13) : 367 days 00:00:002017-09-11 00:00:00\n",
      ">>>>>> sell list (1) : 2017-09-11 00:00:00\n",
      "['A053290']\n",
      "\n",
      "\n"
     ]
    },
    {
     "name": "stderr",
     "output_type": "stream",
     "text": [
      "/Users/Shared/anaconda3/anaconda3/lib/python3.7/site-packages/ipykernel_launcher.py:689: SettingWithCopyWarning: \n",
      "A value is trying to be set on a copy of a slice from a DataFrame.\n",
      "Try using .loc[row_indexer,col_indexer] = value instead\n",
      "\n",
      "See the caveats in the documentation: http://pandas.pydata.org/pandas-docs/stable/indexing.html#indexing-view-versus-copy\n"
     ]
    },
    {
     "name": "stdout",
     "output_type": "stream",
     "text": [
      ">>>>>> buy list (1) : 2017-09-11 00:00:00\n",
      "남양유업(A003920) : 221\n",
      "\n",
      "\n",
      ">>>>>> enough periods (네오위즈홀딩스 : A042420) - (13150 : -0.15) : 366 days 00:00:002017-11-17 00:00:00\n",
      ">>>>>> sell list (1) : 2017-11-17 00:00:00\n",
      "['A042420']\n",
      "\n",
      "\n"
     ]
    },
    {
     "name": "stderr",
     "output_type": "stream",
     "text": [
      "/Users/Shared/anaconda3/anaconda3/lib/python3.7/site-packages/ipykernel_launcher.py:689: SettingWithCopyWarning: \n",
      "A value is trying to be set on a copy of a slice from a DataFrame.\n",
      "Try using .loc[row_indexer,col_indexer] = value instead\n",
      "\n",
      "See the caveats in the documentation: http://pandas.pydata.org/pandas-docs/stable/indexing.html#indexing-view-versus-copy\n"
     ]
    },
    {
     "name": "stdout",
     "output_type": "stream",
     "text": [
      ">>>>>> buy list (1) : 2017-11-17 00:00:00\n",
      "화승알앤에이(A013520) : 2915\n",
      "\n",
      "\n",
      ">>>>>> enough periods (좋은사람들 : A033340) - (1611 : -0.06) : 367 days 00:00:002017-12-04 00:00:00\n",
      ">>>>>> sell list (1) : 2017-12-04 00:00:00\n",
      "['A033340']\n",
      "\n",
      "\n"
     ]
    },
    {
     "name": "stderr",
     "output_type": "stream",
     "text": [
      "/Users/Shared/anaconda3/anaconda3/lib/python3.7/site-packages/ipykernel_launcher.py:689: SettingWithCopyWarning: \n",
      "A value is trying to be set on a copy of a slice from a DataFrame.\n",
      "Try using .loc[row_indexer,col_indexer] = value instead\n",
      "\n",
      "See the caveats in the documentation: http://pandas.pydata.org/pandas-docs/stable/indexing.html#indexing-view-versus-copy\n"
     ]
    },
    {
     "name": "stdout",
     "output_type": "stream",
     "text": [
      ">>>>>> buy list (1) : 2017-12-04 00:00:00\n",
      "롯데쇼핑(A023530) : 60\n",
      "\n",
      "\n",
      ">>>>>> enough periods (파인디지털 : A038950) - (4965 : -0.19) : 366 days 00:00:002017-12-13 00:00:00\n",
      ">>>>>> sell list (1) : 2017-12-13 00:00:00\n",
      "['A038950']\n",
      "\n",
      "\n"
     ]
    },
    {
     "name": "stderr",
     "output_type": "stream",
     "text": [
      "/Users/Shared/anaconda3/anaconda3/lib/python3.7/site-packages/ipykernel_launcher.py:689: SettingWithCopyWarning: \n",
      "A value is trying to be set on a copy of a slice from a DataFrame.\n",
      "Try using .loc[row_indexer,col_indexer] = value instead\n",
      "\n",
      "See the caveats in the documentation: http://pandas.pydata.org/pandas-docs/stable/indexing.html#indexing-view-versus-copy\n"
     ]
    },
    {
     "name": "stdout",
     "output_type": "stream",
     "text": [
      ">>>>>> buy list (1) : 2017-12-13 00:00:00\n",
      "일정실업(A008500) : 774\n",
      "\n",
      "\n",
      ">>>>>> enough profit (태광산업 : A003240) - (1328000 : 0.5) : 2017-12-26 00:00:00\n",
      ">>>>>> sell list (1) : 2017-12-26 00:00:00\n",
      "['A003240']\n",
      "\n",
      "\n"
     ]
    },
    {
     "name": "stderr",
     "output_type": "stream",
     "text": [
      "/Users/Shared/anaconda3/anaconda3/lib/python3.7/site-packages/ipykernel_launcher.py:689: SettingWithCopyWarning: \n",
      "A value is trying to be set on a copy of a slice from a DataFrame.\n",
      "Try using .loc[row_indexer,col_indexer] = value instead\n",
      "\n",
      "See the caveats in the documentation: http://pandas.pydata.org/pandas-docs/stable/indexing.html#indexing-view-versus-copy\n"
     ]
    },
    {
     "name": "stdout",
     "output_type": "stream",
     "text": [
      ">>>>>> buy list (1) : 2017-12-26 00:00:00\n",
      "파인디지털(A038950) : 2334\n",
      "\n",
      "\n",
      ">>>>>> enough periods (지엔코 : A065060) - (2470 : -0.68) : 369 days 00:00:002018-01-02 00:00:00\n",
      ">>>>>> sell list (1) : 2018-01-02 00:00:00\n",
      "['A065060']\n",
      "\n",
      "\n"
     ]
    },
    {
     "name": "stderr",
     "output_type": "stream",
     "text": [
      "/Users/Shared/anaconda3/anaconda3/lib/python3.7/site-packages/ipykernel_launcher.py:689: SettingWithCopyWarning: \n",
      "A value is trying to be set on a copy of a slice from a DataFrame.\n",
      "Try using .loc[row_indexer,col_indexer] = value instead\n",
      "\n",
      "See the caveats in the documentation: http://pandas.pydata.org/pandas-docs/stable/indexing.html#indexing-view-versus-copy\n"
     ]
    },
    {
     "name": "stdout",
     "output_type": "stream",
     "text": [
      ">>>>>> buy list (1) : 2018-01-02 00:00:00\n",
      "남영비비안(A002070) : 638\n",
      "\n",
      "\n",
      ">>>>>> enough profit (삼일제약 : A000520) - (13294 : 0.63) : 2018-02-02 00:00:00\n",
      ">>>>>> sell list (1) : 2018-02-02 00:00:00\n",
      "['A000520']\n",
      "\n",
      "\n"
     ]
    },
    {
     "name": "stderr",
     "output_type": "stream",
     "text": [
      "/Users/Shared/anaconda3/anaconda3/lib/python3.7/site-packages/ipykernel_launcher.py:689: SettingWithCopyWarning: \n",
      "A value is trying to be set on a copy of a slice from a DataFrame.\n",
      "Try using .loc[row_indexer,col_indexer] = value instead\n",
      "\n",
      "See the caveats in the documentation: http://pandas.pydata.org/pandas-docs/stable/indexing.html#indexing-view-versus-copy\n"
     ]
    },
    {
     "name": "stdout",
     "output_type": "stream",
     "text": [
      ">>>>>> buy list (1) : 2018-02-02 00:00:00\n",
      "샘표(A007540) : 16111\n",
      "\n",
      "\n",
      ">>>>>> enough periods (디아이동일 : A001530) - (51320 : -0.11) : 366 days 00:00:002018-02-14 00:00:00\n",
      ">>>>>> sell list (1) : 2018-02-14 00:00:00\n",
      "['A001530']\n",
      "\n",
      "\n"
     ]
    },
    {
     "name": "stderr",
     "output_type": "stream",
     "text": [
      "/Users/Shared/anaconda3/anaconda3/lib/python3.7/site-packages/ipykernel_launcher.py:689: SettingWithCopyWarning: \n",
      "A value is trying to be set on a copy of a slice from a DataFrame.\n",
      "Try using .loc[row_indexer,col_indexer] = value instead\n",
      "\n",
      "See the caveats in the documentation: http://pandas.pydata.org/pandas-docs/stable/indexing.html#indexing-view-versus-copy\n"
     ]
    },
    {
     "name": "stdout",
     "output_type": "stream",
     "text": [
      ">>>>>> buy list (1) : 2018-02-14 00:00:00\n",
      "대현(A016090) : 5445\n",
      "\n",
      "\n",
      ">>>>>> enough periods (티비에이치글로벌 : A084870) - (6690.0 : -0.2) : 366 days 00:00:002018-03-07 00:00:00\n",
      ">>>>>> sell list (1) : 2018-03-07 00:00:00\n",
      "['A084870']\n",
      "\n",
      "\n"
     ]
    },
    {
     "name": "stderr",
     "output_type": "stream",
     "text": [
      "/Users/Shared/anaconda3/anaconda3/lib/python3.7/site-packages/ipykernel_launcher.py:689: SettingWithCopyWarning: \n",
      "A value is trying to be set on a copy of a slice from a DataFrame.\n",
      "Try using .loc[row_indexer,col_indexer] = value instead\n",
      "\n",
      "See the caveats in the documentation: http://pandas.pydata.org/pandas-docs/stable/indexing.html#indexing-view-versus-copy\n"
     ]
    },
    {
     "name": "stdout",
     "output_type": "stream",
     "text": [
      ">>>>>> buy list (1) : 2018-03-07 00:00:00\n",
      "태광산업(A003240) : 16\n",
      "\n",
      "\n",
      ">>>>>> enough periods (케이티 : A030200) - (27700 : -0.14) : 367 days 00:00:002018-03-12 00:00:00\n",
      ">>>>>> sell list (1) : 2018-03-12 00:00:00\n",
      "['A030200']\n",
      "\n",
      "\n"
     ]
    },
    {
     "name": "stderr",
     "output_type": "stream",
     "text": [
      "/Users/Shared/anaconda3/anaconda3/lib/python3.7/site-packages/ipykernel_launcher.py:689: SettingWithCopyWarning: \n",
      "A value is trying to be set on a copy of a slice from a DataFrame.\n",
      "Try using .loc[row_indexer,col_indexer] = value instead\n",
      "\n",
      "See the caveats in the documentation: http://pandas.pydata.org/pandas-docs/stable/indexing.html#indexing-view-versus-copy\n"
     ]
    },
    {
     "name": "stdout",
     "output_type": "stream",
     "text": [
      ">>>>>> buy list (1) : 2018-03-12 00:00:00\n",
      "신성통상(A005390) : 11548\n",
      "\n",
      "\n",
      ">>>>>> enough periods (하이트진로홀딩스 : A000140) - (9800 : -0.12) : 366 days 00:00:002018-04-04 00:00:00\n",
      ">>>>>> enough periods (대한제분 : A001130) - (168000 : -0.05) : 366 days 00:00:002018-04-04 00:00:00\n",
      ">>>>>> sell list (2) : 2018-04-04 00:00:00\n",
      "['A000140', 'A001130']\n",
      "\n",
      "\n"
     ]
    },
    {
     "name": "stderr",
     "output_type": "stream",
     "text": [
      "/Users/Shared/anaconda3/anaconda3/lib/python3.7/site-packages/ipykernel_launcher.py:689: SettingWithCopyWarning: \n",
      "A value is trying to be set on a copy of a slice from a DataFrame.\n",
      "Try using .loc[row_indexer,col_indexer] = value instead\n",
      "\n",
      "See the caveats in the documentation: http://pandas.pydata.org/pandas-docs/stable/indexing.html#indexing-view-versus-copy\n"
     ]
    },
    {
     "name": "stdout",
     "output_type": "stream",
     "text": [
      ">>>>>> buy list (2) : 2018-04-04 00:00:00\n",
      "케이티(A030200) : 718\n",
      "웅진씽크빅(A095720) : 3637\n",
      "\n",
      "\n",
      ">>>>>> enough profit (한국석유공업 : A004090) - (185000 : 0.68) : 2018-05-02 00:00:00\n",
      ">>>>>> sell list (1) : 2018-05-02 00:00:00\n",
      "['A004090']\n",
      "\n",
      "\n",
      ">>>>>> buy list (1) : 2018-05-02 00:00:00\n",
      "아이즈비전(A031310) : 98136\n",
      "\n",
      "\n"
     ]
    },
    {
     "name": "stderr",
     "output_type": "stream",
     "text": [
      "/Users/Shared/anaconda3/anaconda3/lib/python3.7/site-packages/ipykernel_launcher.py:689: SettingWithCopyWarning: \n",
      "A value is trying to be set on a copy of a slice from a DataFrame.\n",
      "Try using .loc[row_indexer,col_indexer] = value instead\n",
      "\n",
      "See the caveats in the documentation: http://pandas.pydata.org/pandas-docs/stable/indexing.html#indexing-view-versus-copy\n"
     ]
    },
    {
     "name": "stdout",
     "output_type": "stream",
     "text": [
      ">>>>>> enough periods (LF : A093050) - (29000.0 : 0.11) : 368 days 00:00:002018-05-14 00:00:00\n",
      ">>>>>> sell list (1) : 2018-05-14 00:00:00\n",
      "['A093050']\n",
      "\n",
      "\n",
      ">>>>>> buy list (1) : 2018-05-14 00:00:00\n",
      "대한제분(A001130) : 80\n",
      "\n",
      "\n"
     ]
    },
    {
     "name": "stderr",
     "output_type": "stream",
     "text": [
      "/Users/Shared/anaconda3/anaconda3/lib/python3.7/site-packages/ipykernel_launcher.py:689: SettingWithCopyWarning: \n",
      "A value is trying to be set on a copy of a slice from a DataFrame.\n",
      "Try using .loc[row_indexer,col_indexer] = value instead\n",
      "\n",
      "See the caveats in the documentation: http://pandas.pydata.org/pandas-docs/stable/indexing.html#indexing-view-versus-copy\n"
     ]
    },
    {
     "name": "stdout",
     "output_type": "stream",
     "text": [
      ">>>>>> enough periods (LG전자 : A066570) - (98000 : 0.23) : 366 days 00:00:002018-05-18 00:00:00\n",
      ">>>>>> sell list (1) : 2018-05-18 00:00:00\n",
      "['A066570']\n",
      "\n",
      "\n",
      ">>>>>> buy list (1) : 2018-05-18 00:00:00\n",
      "매일홀딩스(A005990) : 2391\n",
      "\n",
      "\n"
     ]
    },
    {
     "name": "stderr",
     "output_type": "stream",
     "text": [
      "/Users/Shared/anaconda3/anaconda3/lib/python3.7/site-packages/ipykernel_launcher.py:689: SettingWithCopyWarning: \n",
      "A value is trying to be set on a copy of a slice from a DataFrame.\n",
      "Try using .loc[row_indexer,col_indexer] = value instead\n",
      "\n",
      "See the caveats in the documentation: http://pandas.pydata.org/pandas-docs/stable/indexing.html#indexing-view-versus-copy\n"
     ]
    },
    {
     "name": "stdout",
     "output_type": "stream",
     "text": [
      ">>>>>> enough periods (신영와코루 : A005800) - (138500 : -0.15) : 368 days 00:00:002018-05-28 00:00:00\n",
      ">>>>>> sell list (1) : 2018-05-28 00:00:00\n",
      "['A005800']\n",
      "\n",
      "\n",
      ">>>>>> buy list (1) : 2018-05-28 00:00:00\n",
      "한성기업(A003680) : 3230\n",
      "\n",
      "\n"
     ]
    },
    {
     "name": "stderr",
     "output_type": "stream",
     "text": [
      "/Users/Shared/anaconda3/anaconda3/lib/python3.7/site-packages/ipykernel_launcher.py:689: SettingWithCopyWarning: \n",
      "A value is trying to be set on a copy of a slice from a DataFrame.\n",
      "Try using .loc[row_indexer,col_indexer] = value instead\n",
      "\n",
      "See the caveats in the documentation: http://pandas.pydata.org/pandas-docs/stable/indexing.html#indexing-view-versus-copy\n"
     ]
    },
    {
     "name": "stdout",
     "output_type": "stream",
     "text": [
      ">>>>>> enough periods (대상홀딩스 : A084690) - (9560 : -0.2) : 367 days 00:00:002018-06-04 00:00:00\n",
      ">>>>>> sell list (1) : 2018-06-04 00:00:00\n",
      "['A084690']\n",
      "\n",
      "\n",
      ">>>>>> buy list (1) : 2018-06-04 00:00:00\n",
      "신영와코루(A005800) : 190\n",
      "\n",
      "\n"
     ]
    },
    {
     "name": "stderr",
     "output_type": "stream",
     "text": [
      "/Users/Shared/anaconda3/anaconda3/lib/python3.7/site-packages/ipykernel_launcher.py:689: SettingWithCopyWarning: \n",
      "A value is trying to be set on a copy of a slice from a DataFrame.\n",
      "Try using .loc[row_indexer,col_indexer] = value instead\n",
      "\n",
      "See the caveats in the documentation: http://pandas.pydata.org/pandas-docs/stable/indexing.html#indexing-view-versus-copy\n"
     ]
    },
    {
     "name": "stdout",
     "output_type": "stream",
     "text": [
      ">>>>>> enough periods (사조대림 : A003960) - (24250 : -0.17) : 367 days 00:00:002018-07-02 00:00:00\n",
      ">>>>>> sell list (1) : 2018-07-02 00:00:00\n",
      "['A003960']\n",
      "\n",
      "\n",
      ">>>>>> buy list (1) : 2018-07-02 00:00:00\n",
      "DRB동일(A004840) : 4472\n",
      "\n",
      "\n"
     ]
    },
    {
     "name": "stderr",
     "output_type": "stream",
     "text": [
      "/Users/Shared/anaconda3/anaconda3/lib/python3.7/site-packages/ipykernel_launcher.py:689: SettingWithCopyWarning: \n",
      "A value is trying to be set on a copy of a slice from a DataFrame.\n",
      "Try using .loc[row_indexer,col_indexer] = value instead\n",
      "\n",
      "See the caveats in the documentation: http://pandas.pydata.org/pandas-docs/stable/indexing.html#indexing-view-versus-copy\n"
     ]
    },
    {
     "name": "stdout",
     "output_type": "stream",
     "text": [
      ">>>>>> enough periods (중앙에너비스 : A000440) - (6540 : 0.01) : 366 days 00:00:002018-07-13 00:00:00\n",
      ">>>>>> sell list (1) : 2018-07-13 00:00:00\n",
      "['A000440']\n",
      "\n",
      "\n",
      ">>>>>> buy list (1) : 2018-07-13 00:00:00\n",
      "대상홀딩스(A084690) : 1024\n",
      "\n",
      "\n"
     ]
    },
    {
     "name": "stderr",
     "output_type": "stream",
     "text": [
      "/Users/Shared/anaconda3/anaconda3/lib/python3.7/site-packages/ipykernel_launcher.py:689: SettingWithCopyWarning: \n",
      "A value is trying to be set on a copy of a slice from a DataFrame.\n",
      "Try using .loc[row_indexer,col_indexer] = value instead\n",
      "\n",
      "See the caveats in the documentation: http://pandas.pydata.org/pandas-docs/stable/indexing.html#indexing-view-versus-copy\n"
     ]
    },
    {
     "name": "stdout",
     "output_type": "stream",
     "text": [
      ">>>>>> enough periods (진도 : A088790) - (5300.0 : -0.09) : 366 days 00:00:002018-09-05 00:00:00\n",
      ">>>>>> sell list (1) : 2018-09-05 00:00:00\n",
      "['A088790']\n",
      "\n",
      "\n",
      ">>>>>> buy list (1) : 2018-09-05 00:00:00\n",
      "한섬(A020000) : 1242\n",
      "\n",
      "\n"
     ]
    },
    {
     "name": "stderr",
     "output_type": "stream",
     "text": [
      "/Users/Shared/anaconda3/anaconda3/lib/python3.7/site-packages/ipykernel_launcher.py:689: SettingWithCopyWarning: \n",
      "A value is trying to be set on a copy of a slice from a DataFrame.\n",
      "Try using .loc[row_indexer,col_indexer] = value instead\n",
      "\n",
      "See the caveats in the documentation: http://pandas.pydata.org/pandas-docs/stable/indexing.html#indexing-view-versus-copy\n"
     ]
    },
    {
     "name": "stdout",
     "output_type": "stream",
     "text": [
      ">>>>>> enough periods (남양유업 : A003920) - (634000 : -0.04) : 366 days 00:00:002018-09-12 00:00:00\n",
      ">>>>>> sell list (1) : 2018-09-12 00:00:00\n",
      "['A003920']\n",
      "\n",
      "\n",
      ">>>>>> buy list (1) : 2018-09-12 00:00:00\n",
      "진도(A088790) : 26490\n",
      "\n",
      "\n"
     ]
    },
    {
     "name": "stderr",
     "output_type": "stream",
     "text": [
      "/Users/Shared/anaconda3/anaconda3/lib/python3.7/site-packages/ipykernel_launcher.py:689: SettingWithCopyWarning: \n",
      "A value is trying to be set on a copy of a slice from a DataFrame.\n",
      "Try using .loc[row_indexer,col_indexer] = value instead\n",
      "\n",
      "See the caveats in the documentation: http://pandas.pydata.org/pandas-docs/stable/indexing.html#indexing-view-versus-copy\n"
     ]
    },
    {
     "name": "stdout",
     "output_type": "stream",
     "text": [
      ">>>>>> enough profit (아이즈비전 : A031310) - (6090 : 0.51) : 2018-09-28 00:00:00\n",
      ">>>>>> sell list (1) : 2018-09-28 00:00:00\n",
      "['A031310']\n",
      "\n",
      "\n",
      ">>>>>> buy list (1) : 2018-09-28 00:00:00\n",
      "팅크웨어(A084730) : 71489\n",
      "\n",
      "\n"
     ]
    },
    {
     "name": "stderr",
     "output_type": "stream",
     "text": [
      "/Users/Shared/anaconda3/anaconda3/lib/python3.7/site-packages/ipykernel_launcher.py:689: SettingWithCopyWarning: \n",
      "A value is trying to be set on a copy of a slice from a DataFrame.\n",
      "Try using .loc[row_indexer,col_indexer] = value instead\n",
      "\n",
      "See the caveats in the documentation: http://pandas.pydata.org/pandas-docs/stable/indexing.html#indexing-view-versus-copy\n"
     ]
    },
    {
     "name": "stdout",
     "output_type": "stream",
     "text": [
      ">>>>>> enough profit (샘표 : A007540) - (49950 : 0.51) : 2018-10-02 00:00:00\n",
      ">>>>>> sell list (1) : 2018-10-02 00:00:00\n",
      "['A007540']\n",
      "\n",
      "\n",
      ">>>>>> buy list (1) : 2018-10-02 00:00:00\n",
      "아이즈비전(A031310) : 129797\n",
      "\n",
      "\n"
     ]
    },
    {
     "name": "stderr",
     "output_type": "stream",
     "text": [
      "/Users/Shared/anaconda3/anaconda3/lib/python3.7/site-packages/ipykernel_launcher.py:689: SettingWithCopyWarning: \n",
      "A value is trying to be set on a copy of a slice from a DataFrame.\n",
      "Try using .loc[row_indexer,col_indexer] = value instead\n",
      "\n",
      "See the caveats in the documentation: http://pandas.pydata.org/pandas-docs/stable/indexing.html#indexing-view-versus-copy\n"
     ]
    },
    {
     "name": "stdout",
     "output_type": "stream",
     "text": [
      ">>>>>> enough periods (화승알앤에이 : A013520) - (1890 : -0.29) : 367 days 00:00:002018-11-19 00:00:00\n",
      ">>>>>> sell list (1) : 2018-11-19 00:00:00\n",
      "['A013520']\n",
      "\n",
      "\n",
      ">>>>>> buy list (1) : 2018-11-19 00:00:00\n",
      "샘표(A007540) : 130\n",
      "\n",
      "\n"
     ]
    },
    {
     "name": "stderr",
     "output_type": "stream",
     "text": [
      "/Users/Shared/anaconda3/anaconda3/lib/python3.7/site-packages/ipykernel_launcher.py:689: SettingWithCopyWarning: \n",
      "A value is trying to be set on a copy of a slice from a DataFrame.\n",
      "Try using .loc[row_indexer,col_indexer] = value instead\n",
      "\n",
      "See the caveats in the documentation: http://pandas.pydata.org/pandas-docs/stable/indexing.html#indexing-view-versus-copy\n"
     ]
    },
    {
     "name": "stdout",
     "output_type": "stream",
     "text": [
      ">>>>>> enough periods (롯데쇼핑 : A023530) - (218500.0 : 0.04) : 366 days 00:00:002018-12-05 00:00:00\n",
      ">>>>>> sell list (1) : 2018-12-05 00:00:00\n",
      "['A023530']\n",
      "\n",
      "\n",
      ">>>>>> buy list (1) : 2018-12-05 00:00:00\n",
      "듀오백(A073190) : 6734\n",
      "\n",
      "\n"
     ]
    },
    {
     "name": "stderr",
     "output_type": "stream",
     "text": [
      "/Users/Shared/anaconda3/anaconda3/lib/python3.7/site-packages/ipykernel_launcher.py:689: SettingWithCopyWarning: \n",
      "A value is trying to be set on a copy of a slice from a DataFrame.\n",
      "Try using .loc[row_indexer,col_indexer] = value instead\n",
      "\n",
      "See the caveats in the documentation: http://pandas.pydata.org/pandas-docs/stable/indexing.html#indexing-view-versus-copy\n"
     ]
    },
    {
     "name": "stdout",
     "output_type": "stream",
     "text": [
      ">>>>>> enough periods (일정실업 : A008500) - (18700 : -0.27) : 366 days 00:00:002018-12-14 00:00:00\n",
      ">>>>>> sell list (1) : 2018-12-14 00:00:00\n",
      "['A008500']\n",
      "\n",
      "\n",
      ">>>>>> buy list (1) : 2018-12-14 00:00:00\n",
      "LF(A093050) : 587\n",
      "\n",
      "\n"
     ]
    },
    {
     "name": "stderr",
     "output_type": "stream",
     "text": [
      "/Users/Shared/anaconda3/anaconda3/lib/python3.7/site-packages/ipykernel_launcher.py:689: SettingWithCopyWarning: \n",
      "A value is trying to be set on a copy of a slice from a DataFrame.\n",
      "Try using .loc[row_indexer,col_indexer] = value instead\n",
      "\n",
      "See the caveats in the documentation: http://pandas.pydata.org/pandas-docs/stable/indexing.html#indexing-view-versus-copy\n"
     ]
    },
    {
     "name": "stdout",
     "output_type": "stream",
     "text": [
      ">>>>>> enough periods (파인디지털 : A038950) - (3640 : -0.29) : 366 days 00:00:002018-12-27 00:00:00\n",
      ">>>>>> sell list (1) : 2018-12-27 00:00:00\n",
      "['A038950']\n",
      "\n",
      "\n",
      ">>>>>> buy list (1) : 2018-12-27 00:00:00\n",
      "한국석유공업(A004090) : 63\n",
      "\n",
      "\n"
     ]
    },
    {
     "name": "stderr",
     "output_type": "stream",
     "text": [
      "/Users/Shared/anaconda3/anaconda3/lib/python3.7/site-packages/ipykernel_launcher.py:689: SettingWithCopyWarning: \n",
      "A value is trying to be set on a copy of a slice from a DataFrame.\n",
      "Try using .loc[row_indexer,col_indexer] = value instead\n",
      "\n",
      "See the caveats in the documentation: http://pandas.pydata.org/pandas-docs/stable/indexing.html#indexing-view-versus-copy\n"
     ]
    },
    {
     "name": "stdout",
     "output_type": "stream",
     "text": [
      ">>>>>> enough periods (남영비비안 : A002070) - (6020 : -0.2) : 366 days 00:00:002019-01-03 00:00:00\n",
      ">>>>>> sell list (1) : 2019-01-03 00:00:00\n",
      "['A002070']\n",
      "\n",
      "\n",
      ">>>>>> buy list (1) : 2019-01-03 00:00:00\n",
      "디아이동일(A001530) : 68\n",
      "\n",
      "\n"
     ]
    },
    {
     "name": "stderr",
     "output_type": "stream",
     "text": [
      "/Users/Shared/anaconda3/anaconda3/lib/python3.7/site-packages/ipykernel_launcher.py:689: SettingWithCopyWarning: \n",
      "A value is trying to be set on a copy of a slice from a DataFrame.\n",
      "Try using .loc[row_indexer,col_indexer] = value instead\n",
      "\n",
      "See the caveats in the documentation: http://pandas.pydata.org/pandas-docs/stable/indexing.html#indexing-view-versus-copy\n"
     ]
    },
    {
     "name": "stdout",
     "output_type": "stream",
     "text": [
      ">>>>>> enough periods (대현 : A016090) - (2650 : 0.02) : 366 days 00:00:002019-02-15 00:00:00\n",
      ">>>>>> sell list (1) : 2019-02-15 00:00:00\n",
      "['A016090']\n",
      "\n",
      "\n",
      ">>>>>> buy list (1) : 2019-02-15 00:00:00\n",
      "GST(A083450) : 2482\n",
      "\n",
      "\n"
     ]
    },
    {
     "name": "stderr",
     "output_type": "stream",
     "text": [
      "/Users/Shared/anaconda3/anaconda3/lib/python3.7/site-packages/ipykernel_launcher.py:689: SettingWithCopyWarning: \n",
      "A value is trying to be set on a copy of a slice from a DataFrame.\n",
      "Try using .loc[row_indexer,col_indexer] = value instead\n",
      "\n",
      "See the caveats in the documentation: http://pandas.pydata.org/pandas-docs/stable/indexing.html#indexing-view-versus-copy\n"
     ]
    },
    {
     "name": "stdout",
     "output_type": "stream",
     "text": [
      ">>>>>> enough periods (태광산업 : A003240) - (1512000 : 0.25) : 366 days 00:00:002019-03-08 00:00:00\n",
      ">>>>>> sell list (1) : 2019-03-08 00:00:00\n",
      "['A003240']\n",
      "\n",
      "\n",
      ">>>>>> buy list (1) : 2019-03-08 00:00:00\n",
      "대현(A016090) : 9451\n",
      "\n",
      "\n"
     ]
    },
    {
     "name": "stderr",
     "output_type": "stream",
     "text": [
      "/Users/Shared/anaconda3/anaconda3/lib/python3.7/site-packages/ipykernel_launcher.py:689: SettingWithCopyWarning: \n",
      "A value is trying to be set on a copy of a slice from a DataFrame.\n",
      "Try using .loc[row_indexer,col_indexer] = value instead\n",
      "\n",
      "See the caveats in the documentation: http://pandas.pydata.org/pandas-docs/stable/indexing.html#indexing-view-versus-copy\n"
     ]
    },
    {
     "name": "stdout",
     "output_type": "stream",
     "text": [
      ">>>>>> enough periods (신성통상 : A005390) - (934 : -0.25) : 366 days 00:00:002019-03-13 00:00:00\n",
      ">>>>>> sell list (1) : 2019-03-13 00:00:00\n",
      "['A005390']\n",
      "\n",
      "\n",
      ">>>>>> buy list (1) : 2019-03-13 00:00:00\n",
      "파인디지털(A038950) : 2809\n",
      "\n",
      "\n"
     ]
    },
    {
     "name": "stderr",
     "output_type": "stream",
     "text": [
      "/Users/Shared/anaconda3/anaconda3/lib/python3.7/site-packages/ipykernel_launcher.py:689: SettingWithCopyWarning: \n",
      "A value is trying to be set on a copy of a slice from a DataFrame.\n",
      "Try using .loc[row_indexer,col_indexer] = value instead\n",
      "\n",
      "See the caveats in the documentation: http://pandas.pydata.org/pandas-docs/stable/indexing.html#indexing-view-versus-copy\n"
     ]
    },
    {
     "name": "stdout",
     "output_type": "stream",
     "text": [
      ">>>>>> enough periods (케이티 : A030200) - (27600 : -0.0) : 366 days 00:00:002019-04-05 00:00:00\n",
      ">>>>>> enough periods (웅진씽크빅 : A095720) - (2990.0 : -0.45) : 366 days 00:00:002019-04-05 00:00:00\n",
      ">>>>>> sell list (2) : 2019-04-05 00:00:00\n",
      "['A030200', 'A095720']\n",
      "\n",
      "\n",
      ">>>>>> buy list (2) : 2019-04-05 00:00:00\n",
      "부방(A014470) : 5115\n",
      "하이트진로홀딩스(A000140) : 1880\n",
      "\n",
      "\n"
     ]
    },
    {
     "name": "stderr",
     "output_type": "stream",
     "text": [
      "/Users/Shared/anaconda3/anaconda3/lib/python3.7/site-packages/ipykernel_launcher.py:689: SettingWithCopyWarning: \n",
      "A value is trying to be set on a copy of a slice from a DataFrame.\n",
      "Try using .loc[row_indexer,col_indexer] = value instead\n",
      "\n",
      "See the caveats in the documentation: http://pandas.pydata.org/pandas-docs/stable/indexing.html#indexing-view-versus-copy\n"
     ]
    },
    {
     "name": "stdout",
     "output_type": "stream",
     "text": [
      ">>>>>> enough profit (디아이동일 : A001530) - (85800 : 0.51) : 2019-04-09 00:00:00\n",
      ">>>>>> sell list (1) : 2019-04-09 00:00:00\n",
      "['A001530']\n",
      "\n",
      "\n",
      ">>>>>> buy list (1) : 2019-04-09 00:00:00\n",
      "웅진씽크빅(A095720) : 1993\n",
      "\n",
      "\n"
     ]
    },
    {
     "name": "stderr",
     "output_type": "stream",
     "text": [
      "/Users/Shared/anaconda3/anaconda3/lib/python3.7/site-packages/ipykernel_launcher.py:689: SettingWithCopyWarning: \n",
      "A value is trying to be set on a copy of a slice from a DataFrame.\n",
      "Try using .loc[row_indexer,col_indexer] = value instead\n",
      "\n",
      "See the caveats in the documentation: http://pandas.pydata.org/pandas-docs/stable/indexing.html#indexing-view-versus-copy\n"
     ]
    },
    {
     "name": "stdout",
     "output_type": "stream",
     "text": [
      ">>>>>> enough profit (듀오백 : A073190) - (3250 : 0.67) : 2019-04-17 00:00:00\n",
      ">>>>>> sell list (1) : 2019-04-17 00:00:00\n",
      "['A073190']\n",
      "\n",
      "\n",
      ">>>>>> buy list (1) : 2019-04-17 00:00:00\n",
      "디아이동일(A001530) : 229\n",
      "\n",
      "\n"
     ]
    },
    {
     "name": "stderr",
     "output_type": "stream",
     "text": [
      "/Users/Shared/anaconda3/anaconda3/lib/python3.7/site-packages/ipykernel_launcher.py:689: SettingWithCopyWarning: \n",
      "A value is trying to be set on a copy of a slice from a DataFrame.\n",
      "Try using .loc[row_indexer,col_indexer] = value instead\n",
      "\n",
      "See the caveats in the documentation: http://pandas.pydata.org/pandas-docs/stable/indexing.html#indexing-view-versus-copy\n"
     ]
    },
    {
     "name": "stdout",
     "output_type": "stream",
     "text": [
      ">>>>>> enough periods (대한제분 : A001130) - (211500 : 0.1) : 366 days 00:00:002019-05-15 00:00:00\n",
      ">>>>>> sell list (1) : 2019-05-15 00:00:00\n",
      "['A001130']\n",
      "\n",
      "\n",
      ">>>>>> buy list (1) : 2019-05-15 00:00:00\n",
      "케이티(A030200) : 610\n",
      "\n",
      "\n"
     ]
    },
    {
     "name": "stderr",
     "output_type": "stream",
     "text": [
      "/Users/Shared/anaconda3/anaconda3/lib/python3.7/site-packages/ipykernel_launcher.py:689: SettingWithCopyWarning: \n",
      "A value is trying to be set on a copy of a slice from a DataFrame.\n",
      "Try using .loc[row_indexer,col_indexer] = value instead\n",
      "\n",
      "See the caveats in the documentation: http://pandas.pydata.org/pandas-docs/stable/indexing.html#indexing-view-versus-copy\n"
     ]
    },
    {
     "name": "stdout",
     "output_type": "stream",
     "text": [
      ">>>>>> enough periods (매일홀딩스 : A005990) - (13350 : -0.18) : 367 days 00:00:002019-05-20 00:00:00\n",
      ">>>>>> sell list (1) : 2019-05-20 00:00:00\n",
      "['A005990']\n",
      "\n",
      "\n",
      ">>>>>> buy list (1) : 2019-05-20 00:00:00\n",
      "태광산업(A003240) : 21\n",
      "\n",
      "\n"
     ]
    },
    {
     "name": "stderr",
     "output_type": "stream",
     "text": [
      "/Users/Shared/anaconda3/anaconda3/lib/python3.7/site-packages/ipykernel_launcher.py:689: SettingWithCopyWarning: \n",
      "A value is trying to be set on a copy of a slice from a DataFrame.\n",
      "Try using .loc[row_indexer,col_indexer] = value instead\n",
      "\n",
      "See the caveats in the documentation: http://pandas.pydata.org/pandas-docs/stable/indexing.html#indexing-view-versus-copy\n"
     ]
    },
    {
     "name": "stdout",
     "output_type": "stream",
     "text": [
      ">>>>>> enough periods (한성기업 : A003680) - (6400 : -0.15) : 366 days 00:00:002019-05-29 00:00:00\n",
      ">>>>>> sell list (1) : 2019-05-29 00:00:00\n",
      "['A003680']\n",
      "\n",
      "\n",
      ">>>>>> buy list (1) : 2019-05-29 00:00:00\n",
      "매일홀딩스(A005990) : 1658\n",
      "\n",
      "\n"
     ]
    },
    {
     "name": "stderr",
     "output_type": "stream",
     "text": [
      "/Users/Shared/anaconda3/anaconda3/lib/python3.7/site-packages/ipykernel_launcher.py:689: SettingWithCopyWarning: \n",
      "A value is trying to be set on a copy of a slice from a DataFrame.\n",
      "Try using .loc[row_indexer,col_indexer] = value instead\n",
      "\n",
      "See the caveats in the documentation: http://pandas.pydata.org/pandas-docs/stable/indexing.html#indexing-view-versus-copy\n"
     ]
    },
    {
     "name": "stdout",
     "output_type": "stream",
     "text": [
      ">>>>>> enough periods (신영와코루 : A005800) - (117000 : -0.17) : 366 days 00:00:002019-06-05 00:00:00\n",
      ">>>>>> sell list (1) : 2019-06-05 00:00:00\n",
      "['A005800']\n",
      "\n",
      "\n",
      ">>>>>> buy list (1) : 2019-06-05 00:00:00\n",
      "네오위즈홀딩스(A042420) : 1671\n",
      "\n",
      "\n"
     ]
    },
    {
     "name": "stderr",
     "output_type": "stream",
     "text": [
      "/Users/Shared/anaconda3/anaconda3/lib/python3.7/site-packages/ipykernel_launcher.py:689: SettingWithCopyWarning: \n",
      "A value is trying to be set on a copy of a slice from a DataFrame.\n",
      "Try using .loc[row_indexer,col_indexer] = value instead\n",
      "\n",
      "See the caveats in the documentation: http://pandas.pydata.org/pandas-docs/stable/indexing.html#indexing-view-versus-copy\n"
     ]
    },
    {
     "name": "stdout",
     "output_type": "stream",
     "text": [
      ">>>>>> enough periods (DRB동일 : A004840) - (6030 : -0.03) : 366 days 00:00:002019-07-03 00:00:00\n",
      ">>>>>> sell list (1) : 2019-07-03 00:00:00\n",
      "['A004840']\n",
      "\n",
      "\n",
      ">>>>>> buy list (1) : 2019-07-03 00:00:00\n",
      "신영와코루(A005800) : 226\n",
      "\n",
      "\n"
     ]
    },
    {
     "name": "stderr",
     "output_type": "stream",
     "text": [
      "/Users/Shared/anaconda3/anaconda3/lib/python3.7/site-packages/ipykernel_launcher.py:689: SettingWithCopyWarning: \n",
      "A value is trying to be set on a copy of a slice from a DataFrame.\n",
      "Try using .loc[row_indexer,col_indexer] = value instead\n",
      "\n",
      "See the caveats in the documentation: http://pandas.pydata.org/pandas-docs/stable/indexing.html#indexing-view-versus-copy\n"
     ]
    },
    {
     "name": "stdout",
     "output_type": "stream",
     "text": [
      ">>>>>> enough periods (대상홀딩스 : A084690) - (7140 : -0.2) : 367 days 00:00:002019-07-15 00:00:00\n",
      ">>>>>> sell list (1) : 2019-07-15 00:00:00\n",
      "['A084690']\n",
      "\n",
      "\n",
      ">>>>>> buy list (1) : 2019-07-15 00:00:00\n",
      "플랜티넷(A075130) : 1268\n",
      "\n",
      "\n"
     ]
    },
    {
     "name": "stderr",
     "output_type": "stream",
     "text": [
      "/Users/Shared/anaconda3/anaconda3/lib/python3.7/site-packages/ipykernel_launcher.py:689: SettingWithCopyWarning: \n",
      "A value is trying to be set on a copy of a slice from a DataFrame.\n",
      "Try using .loc[row_indexer,col_indexer] = value instead\n",
      "\n",
      "See the caveats in the documentation: http://pandas.pydata.org/pandas-docs/stable/indexing.html#indexing-view-versus-copy\n"
     ]
    },
    {
     "name": "stdout",
     "output_type": "stream",
     "text": [
      ">>>>>> enough profit (하이트진로홀딩스 : A000140) - (12350 : 0.51) : 2019-08-06 00:00:00\n",
      ">>>>>> sell list (1) : 2019-08-06 00:00:00\n",
      "['A000140']\n",
      "\n",
      "\n",
      ">>>>>> buy list (1) : 2019-08-06 00:00:00\n",
      "대상홀딩스(A084690) : 3813\n",
      "\n",
      "\n"
     ]
    },
    {
     "name": "stderr",
     "output_type": "stream",
     "text": [
      "/Users/Shared/anaconda3/anaconda3/lib/python3.7/site-packages/ipykernel_launcher.py:689: SettingWithCopyWarning: \n",
      "A value is trying to be set on a copy of a slice from a DataFrame.\n",
      "Try using .loc[row_indexer,col_indexer] = value instead\n",
      "\n",
      "See the caveats in the documentation: http://pandas.pydata.org/pandas-docs/stable/indexing.html#indexing-view-versus-copy\n"
     ]
    },
    {
     "name": "stdout",
     "output_type": "stream",
     "text": [
      ">>>>>> enough periods (한섬 : A020000) - (29300 : -0.22) : 366 days 00:00:002019-09-06 00:00:00\n",
      ">>>>>> sell list (1) : 2019-09-06 00:00:00\n",
      "['A020000']\n",
      "\n",
      "\n",
      ">>>>>> buy list (1) : 2019-09-06 00:00:00\n",
      "하이트진로홀딩스(A000140) : 3293\n",
      "\n",
      "\n"
     ]
    },
    {
     "name": "stderr",
     "output_type": "stream",
     "text": [
      "/Users/Shared/anaconda3/anaconda3/lib/python3.7/site-packages/ipykernel_launcher.py:689: SettingWithCopyWarning: \n",
      "A value is trying to be set on a copy of a slice from a DataFrame.\n",
      "Try using .loc[row_indexer,col_indexer] = value instead\n",
      "\n",
      "See the caveats in the documentation: http://pandas.pydata.org/pandas-docs/stable/indexing.html#indexing-view-versus-copy\n"
     ]
    },
    {
     "name": "stdout",
     "output_type": "stream",
     "text": [
      ">>>>>> enough periods (진도 : A088790) - (3735.0 : -0.29) : 369 days 00:00:002019-09-16 00:00:00\n",
      ">>>>>> sell list (1) : 2019-09-16 00:00:00\n",
      "['A088790']\n",
      "\n",
      "\n",
      ">>>>>> buy list (1) : 2019-09-16 00:00:00\n",
      "신성통상(A005390) : 55275\n",
      "\n",
      "\n"
     ]
    },
    {
     "name": "stderr",
     "output_type": "stream",
     "text": [
      "/Users/Shared/anaconda3/anaconda3/lib/python3.7/site-packages/ipykernel_launcher.py:689: SettingWithCopyWarning: \n",
      "A value is trying to be set on a copy of a slice from a DataFrame.\n",
      "Try using .loc[row_indexer,col_indexer] = value instead\n",
      "\n",
      "See the caveats in the documentation: http://pandas.pydata.org/pandas-docs/stable/indexing.html#indexing-view-versus-copy\n"
     ]
    },
    {
     "name": "stdout",
     "output_type": "stream",
     "text": [
      ">>>>>> enough periods (팅크웨어 : A084730) - (7290.0 : -0.13) : 367 days 00:00:002019-09-30 00:00:00\n",
      ">>>>>> sell list (1) : 2019-09-30 00:00:00\n",
      "['A084730']\n",
      "\n",
      "\n",
      ">>>>>> buy list (1) : 2019-09-30 00:00:00\n",
      "진도(A088790) : 137146\n",
      "\n",
      "\n"
     ]
    },
    {
     "name": "stderr",
     "output_type": "stream",
     "text": [
      "/Users/Shared/anaconda3/anaconda3/lib/python3.7/site-packages/ipykernel_launcher.py:689: SettingWithCopyWarning: \n",
      "A value is trying to be set on a copy of a slice from a DataFrame.\n",
      "Try using .loc[row_indexer,col_indexer] = value instead\n",
      "\n",
      "See the caveats in the documentation: http://pandas.pydata.org/pandas-docs/stable/indexing.html#indexing-view-versus-copy\n"
     ]
    },
    {
     "name": "stdout",
     "output_type": "stream",
     "text": [
      ">>>>>> enough periods (아이즈비전 : A031310) - (4230 : -0.32) : 367 days 00:00:002019-10-04 00:00:00\n",
      ">>>>>> sell list (1) : 2019-10-04 00:00:00\n",
      "['A031310']\n",
      "\n",
      "\n",
      ">>>>>> buy list (1) : 2019-10-04 00:00:00\n",
      "팅크웨어(A084730) : 73598\n",
      "\n",
      "\n"
     ]
    },
    {
     "name": "stderr",
     "output_type": "stream",
     "text": [
      "/Users/Shared/anaconda3/anaconda3/lib/python3.7/site-packages/ipykernel_launcher.py:689: SettingWithCopyWarning: \n",
      "A value is trying to be set on a copy of a slice from a DataFrame.\n",
      "Try using .loc[row_indexer,col_indexer] = value instead\n",
      "\n",
      "See the caveats in the documentation: http://pandas.pydata.org/pandas-docs/stable/indexing.html#indexing-view-versus-copy\n",
      "/Users/Shared/anaconda3/anaconda3/lib/python3.7/site-packages/ipykernel_launcher.py:689: SettingWithCopyWarning: \n",
      "A value is trying to be set on a copy of a slice from a DataFrame.\n",
      "Try using .loc[row_indexer,col_indexer] = value instead\n",
      "\n",
      "See the caveats in the documentation: http://pandas.pydata.org/pandas-docs/stable/indexing.html#indexing-view-versus-copy\n"
     ]
    },
    {
     "name": "stdout",
     "output_type": "stream",
     "text": [
      ">>>>>> initial buy list (20) : 2008-06-02 00:00:00\n",
      "동화약품(A000020) : 410\n",
      "KR모터스(A000040) : 5235\n",
      "경방(A000050) : 438\n",
      "유한양행(A000100) : 32\n",
      "CJ대한통운(A000120) : 59\n",
      "두산(A000150) : 29\n",
      "대림산업(A000210) : 41\n",
      "유유제약(A000220) : 363\n",
      "한국테크놀로지그룹(A000240) : 666\n",
      "삼천당제약(A000250) : 1445\n",
      "대유플러스(A000300) : 2695\n",
      "삼화페인트공업(A000390) : 1461\n",
      "대원강업(A000430) : 2460\n",
      "중앙에너비스(A000440) : 1085\n",
      "조선내화(A000480) : 51\n",
      "가온전선(A000500) : 141\n",
      "삼일제약(A000520) : 439\n",
      "천일고속(A000650) : 76\n",
      "SK하이닉스(A000660) : 164\n",
      "영풍(A000670) : 10\n",
      "\n",
      "\n",
      ">>>>>> enough profit (대유플러스 : A000300) - (2854 : 0.54) : 2008-06-27 00:00:00\n",
      ">>>>>> sell list (1) : 2008-06-27 00:00:00\n",
      "['A000300']\n",
      "\n",
      "\n"
     ]
    },
    {
     "name": "stderr",
     "output_type": "stream",
     "text": [
      "/Users/Shared/anaconda3/anaconda3/lib/python3.7/site-packages/ipykernel_launcher.py:689: SettingWithCopyWarning: \n",
      "A value is trying to be set on a copy of a slice from a DataFrame.\n",
      "Try using .loc[row_indexer,col_indexer] = value instead\n",
      "\n",
      "See the caveats in the documentation: http://pandas.pydata.org/pandas-docs/stable/indexing.html#indexing-view-versus-copy\n"
     ]
    },
    {
     "name": "stdout",
     "output_type": "stream",
     "text": [
      ">>>>>> buy list (1) : 2008-06-27 00:00:00\n",
      "LS네트웍스(A000680) : 924\n",
      "\n",
      "\n",
      ">>>>>> enough periods (동화약품 : A000020) - (9380 : -0.23) : 366 days 00:00:002009-06-03 00:00:00\n",
      ">>>>>> enough periods (KR모터스 : A000040) - (790 : -0.17) : 366 days 00:00:002009-06-03 00:00:00\n",
      ">>>>>> enough periods (경방 : A000050) - (12506 : 0.1) : 366 days 00:00:002009-06-03 00:00:00\n",
      ">>>>>> enough periods (유한양행 : A000100) - (142749 : -0.08) : 366 days 00:00:002009-06-03 00:00:00\n",
      ">>>>>> enough periods (CJ대한통운 : A000120) - (92900 : 0.1) : 366 days 00:00:002009-06-03 00:00:00\n",
      ">>>>>> enough periods (두산 : A000150) - (96465 : -0.43) : 366 days 00:00:002009-06-03 00:00:00\n",
      ">>>>>> enough periods (대림산업 : A000210) - (66400 : -0.44) : 366 days 00:00:002009-06-03 00:00:00\n",
      ">>>>>> enough periods (유유제약 : A000220) - (6820 : -0.5) : 366 days 00:00:002009-06-03 00:00:00\n",
      ">>>>>> enough periods (한국테크놀로지그룹 : A000240) - (7329 : -0.02) : 366 days 00:00:002009-06-03 00:00:00\n",
      ">>>>>> enough periods (삼천당제약 : A000250) - (2465 : -0.29) : 366 days 00:00:002009-06-03 00:00:00\n",
      ">>>>>> enough periods (삼화페인트공업 : A000390) - (3600 : 0.05) : 366 days 00:00:002009-06-03 00:00:00\n",
      ">>>>>> enough periods (대원강업 : A000430) - (1529 : -0.25) : 366 days 00:00:002009-06-03 00:00:00\n",
      ">>>>>> enough periods (중앙에너비스 : A000440) - (2883 : -0.37) : 366 days 00:00:002009-06-03 00:00:00\n",
      ">>>>>> enough periods (조선내화 : A000480) - (55500 : -0.43) : 366 days 00:00:002009-06-03 00:00:00\n",
      ">>>>>> enough periods (가온전선 : A000500) - (29591 : -0.16) : 366 days 00:00:002009-06-03 00:00:00\n",
      ">>>>>> enough periods (삼일제약 : A000520) - (7364 : -0.35) : 366 days 00:00:002009-06-03 00:00:00\n",
      ">>>>>> enough periods (천일고속 : A000650) - (45800 : -0.3) : 366 days 00:00:002009-06-03 00:00:00\n",
      ">>>>>> enough periods (SK하이닉스 : A000660) - (13350 : -0.56) : 366 days 00:00:002009-06-03 00:00:00\n",
      ">>>>>> enough periods (영풍 : A000670) - (436000 : -0.05) : 366 days 00:00:002009-06-03 00:00:00\n",
      ">>>>>> sell list (19) : 2009-06-03 00:00:00\n",
      "['A000020', 'A000040', 'A000050', 'A000100', 'A000120', 'A000150', 'A000210', 'A000220', 'A000240', 'A000250', 'A000390', 'A000430', 'A000440', 'A000480', 'A000500', 'A000520', 'A000650', 'A000660', 'A000670']\n",
      "\n",
      "\n"
     ]
    },
    {
     "name": "stderr",
     "output_type": "stream",
     "text": [
      "/Users/Shared/anaconda3/anaconda3/lib/python3.7/site-packages/ipykernel_launcher.py:689: SettingWithCopyWarning: \n",
      "A value is trying to be set on a copy of a slice from a DataFrame.\n",
      "Try using .loc[row_indexer,col_indexer] = value instead\n",
      "\n",
      "See the caveats in the documentation: http://pandas.pydata.org/pandas-docs/stable/indexing.html#indexing-view-versus-copy\n"
     ]
    },
    {
     "name": "stdout",
     "output_type": "stream",
     "text": [
      ">>>>>> buy list (19) : 2009-06-03 00:00:00\n",
      "대유플러스(A000300) : 2094\n",
      "현대건설(A000720) : 58\n",
      "화천기공(A000850) : 120\n",
      "강남제비스코(A000860) : 249\n",
      "한화(A000880) : 113\n",
      "보해양조(A000890) : 2405\n",
      "유니온(A000910) : 579\n",
      "한국주철관공업(A000970) : 656\n",
      "CJ(A001040) : 83\n",
      "JW중외제약(A001060) : 383\n",
      "만호제강(A001080) : 192\n",
      "LG상사(A001120) : 141\n",
      "금호전기(A001210) : 114\n",
      "동국제강(A001230) : 139\n",
      "GS글로벌(A001250) : 256\n",
      "백광산업(A001340) : 1100\n",
      "삼성제약(A001360) : 1099\n",
      "KG케미칼(A001390) : 445\n",
      "세아베스틸(A001430) : 227\n",
      "\n",
      "\n",
      ">>>>>> enough periods (LS네트웍스 : A000680) - (6188 : -0.32) : 367 days 00:00:002009-06-29 00:00:00\n",
      ">>>>>> sell list (1) : 2009-06-29 00:00:00\n",
      "['A000680']\n",
      "\n",
      "\n"
     ]
    },
    {
     "name": "stderr",
     "output_type": "stream",
     "text": [
      "/Users/Shared/anaconda3/anaconda3/lib/python3.7/site-packages/ipykernel_launcher.py:689: SettingWithCopyWarning: \n",
      "A value is trying to be set on a copy of a slice from a DataFrame.\n",
      "Try using .loc[row_indexer,col_indexer] = value instead\n",
      "\n",
      "See the caveats in the documentation: http://pandas.pydata.org/pandas-docs/stable/indexing.html#indexing-view-versus-copy\n"
     ]
    },
    {
     "name": "stdout",
     "output_type": "stream",
     "text": [
      ">>>>>> buy list (1) : 2009-06-29 00:00:00\n",
      "동화약품(A000020) : 598\n",
      "\n",
      "\n",
      ">>>>>> enough profit (대유플러스 : A000300) - (2869 : 0.58) : 2009-07-02 00:00:00\n",
      ">>>>>> sell list (1) : 2009-07-02 00:00:00\n",
      "['A000300']\n",
      "\n",
      "\n"
     ]
    },
    {
     "name": "stderr",
     "output_type": "stream",
     "text": [
      "/Users/Shared/anaconda3/anaconda3/lib/python3.7/site-packages/ipykernel_launcher.py:689: SettingWithCopyWarning: \n",
      "A value is trying to be set on a copy of a slice from a DataFrame.\n",
      "Try using .loc[row_indexer,col_indexer] = value instead\n",
      "\n",
      "See the caveats in the documentation: http://pandas.pydata.org/pandas-docs/stable/indexing.html#indexing-view-versus-copy\n"
     ]
    },
    {
     "name": "stdout",
     "output_type": "stream",
     "text": [
      ">>>>>> buy list (1) : 2009-07-02 00:00:00\n",
      "유한양행(A000100) : 41\n",
      "\n",
      "\n",
      ">>>>>> enough profit (JW중외제약 : A001060) - (15518 : 0.56) : 2009-08-21 00:00:00\n",
      ">>>>>> sell list (1) : 2009-08-21 00:00:00\n",
      "['A001060']\n",
      "\n",
      "\n"
     ]
    },
    {
     "name": "stderr",
     "output_type": "stream",
     "text": [
      "/Users/Shared/anaconda3/anaconda3/lib/python3.7/site-packages/ipykernel_launcher.py:689: SettingWithCopyWarning: \n",
      "A value is trying to be set on a copy of a slice from a DataFrame.\n",
      "Try using .loc[row_indexer,col_indexer] = value instead\n",
      "\n",
      "See the caveats in the documentation: http://pandas.pydata.org/pandas-docs/stable/indexing.html#indexing-view-versus-copy\n"
     ]
    },
    {
     "name": "stdout",
     "output_type": "stream",
     "text": [
      ">>>>>> buy list (1) : 2009-08-21 00:00:00\n",
      "CJ대한통운(A000120) : 85\n",
      "\n",
      "\n",
      ">>>>>> enough profit (금호전기 : A001210) - (56719 : 0.7) : 2009-08-28 00:00:00\n",
      ">>>>>> sell list (1) : 2009-08-28 00:00:00\n",
      "['A001210']\n",
      "\n",
      "\n"
     ]
    },
    {
     "name": "stderr",
     "output_type": "stream",
     "text": [
      "/Users/Shared/anaconda3/anaconda3/lib/python3.7/site-packages/ipykernel_launcher.py:689: SettingWithCopyWarning: \n",
      "A value is trying to be set on a copy of a slice from a DataFrame.\n",
      "Try using .loc[row_indexer,col_indexer] = value instead\n",
      "\n",
      "See the caveats in the documentation: http://pandas.pydata.org/pandas-docs/stable/indexing.html#indexing-view-versus-copy\n"
     ]
    },
    {
     "name": "stdout",
     "output_type": "stream",
     "text": [
      ">>>>>> buy list (1) : 2009-08-28 00:00:00\n",
      "대림산업(A000210) : 89\n",
      "\n",
      "\n",
      ">>>>>> enough profit (KG케미칼 : A001390) - (12900 : 0.51) : 2009-09-14 00:00:00\n",
      ">>>>>> sell list (1) : 2009-09-14 00:00:00\n",
      "['A001390']\n",
      "\n",
      "\n"
     ]
    },
    {
     "name": "stderr",
     "output_type": "stream",
     "text": [
      "/Users/Shared/anaconda3/anaconda3/lib/python3.7/site-packages/ipykernel_launcher.py:689: SettingWithCopyWarning: \n",
      "A value is trying to be set on a copy of a slice from a DataFrame.\n",
      "Try using .loc[row_indexer,col_indexer] = value instead\n",
      "\n",
      "See the caveats in the documentation: http://pandas.pydata.org/pandas-docs/stable/indexing.html#indexing-view-versus-copy\n"
     ]
    },
    {
     "name": "stdout",
     "output_type": "stream",
     "text": [
      ">>>>>> buy list (1) : 2009-09-14 00:00:00\n",
      "한국테크놀로지그룹(A000240) : 578\n",
      "\n",
      "\n",
      ">>>>>> enough periods (현대건설 : A000720) - (52800 : -0.18) : 366 days 00:00:002010-06-04 00:00:00\n",
      ">>>>>> enough periods (화천기공 : A000850) - (40000 : 0.26) : 366 days 00:00:002010-06-04 00:00:00\n",
      ">>>>>> enough periods (강남제비스코 : A000860) - (13850 : -0.09) : 366 days 00:00:002010-06-04 00:00:00\n",
      ">>>>>> enough periods (한화 : A000880) - (33464 : 0.0) : 366 days 00:00:002010-06-04 00:00:00\n",
      ">>>>>> enough periods (보해양조 : A000890) - (1747 : 0.1) : 366 days 00:00:002010-06-04 00:00:00\n",
      ">>>>>> enough periods (유니온 : A000910) - (4807 : -0.27) : 366 days 00:00:002010-06-04 00:00:00\n",
      ">>>>>> enough periods (한국주철관공업 : A000970) - (4030 : -0.31) : 366 days 00:00:002010-06-04 00:00:00\n",
      ">>>>>> enough periods (CJ : A001040) - (57898 : 0.26) : 366 days 00:00:002010-06-04 00:00:00\n",
      ">>>>>> enough periods (만호제강 : A001080) - (17800 : -0.1) : 366 days 00:00:002010-06-04 00:00:00\n",
      ">>>>>> enough periods (LG상사 : A001120) - (29150 : 0.09) : 366 days 00:00:002010-06-04 00:00:00\n",
      ">>>>>> enough periods (동국제강 : A001230) - (18472 : -0.32) : 366 days 00:00:002010-06-04 00:00:00\n",
      ">>>>>> enough periods (GS글로벌 : A001250) - (10604 : -0.29) : 366 days 00:00:002010-06-04 00:00:00\n",
      ">>>>>> enough periods (백광산업 : A001340) - (2886 : -0.17) : 366 days 00:00:002010-06-04 00:00:00\n",
      ">>>>>> enough periods (삼성제약 : A001360) - (3169 : -0.09) : 366 days 00:00:002010-06-04 00:00:00\n",
      ">>>>>> enough periods (세아베스틸 : A001430) - (17800 : 0.06) : 366 days 00:00:002010-06-04 00:00:00\n",
      ">>>>>> sell list (15) : 2010-06-04 00:00:00\n",
      "['A000720', 'A000850', 'A000860', 'A000880', 'A000890', 'A000910', 'A000970', 'A001040', 'A001080', 'A001120', 'A001230', 'A001250', 'A001340', 'A001360', 'A001430']\n",
      "\n",
      "\n"
     ]
    },
    {
     "name": "stderr",
     "output_type": "stream",
     "text": [
      "/Users/Shared/anaconda3/anaconda3/lib/python3.7/site-packages/ipykernel_launcher.py:689: SettingWithCopyWarning: \n",
      "A value is trying to be set on a copy of a slice from a DataFrame.\n",
      "Try using .loc[row_indexer,col_indexer] = value instead\n",
      "\n",
      "See the caveats in the documentation: http://pandas.pydata.org/pandas-docs/stable/indexing.html#indexing-view-versus-copy\n"
     ]
    },
    {
     "name": "stdout",
     "output_type": "stream",
     "text": [
      ">>>>>> buy list (15) : 2010-06-04 00:00:00\n",
      "성창기업지주(A000180) : 2140\n",
      "유유제약(A000220) : 512\n",
      "삼천당제약(A000250) : 1716\n",
      "기아자동차(A000270) : 107\n",
      "대유플러스(A000300) : 2006\n",
      "삼화페인트공업(A000390) : 777\n",
      "대원강업(A000430) : 1299\n",
      "중앙에너비스(A000440) : 1032\n",
      "조선내화(A000480) : 66\n",
      "대동공업(A000490) : 780\n",
      "가온전선(A000500) : 123\n",
      "삼일제약(A000520) : 637\n",
      "천일고속(A000650) : 90\n",
      "영풍(A000670) : 7\n",
      "LS네트웍스(A000680) : 527\n",
      "\n",
      "\n",
      ">>>>>> enough periods (동화약품 : A000020) - (5320 : -0.46) : 366 days 00:00:002010-06-30 00:00:00\n",
      ">>>>>> sell list (1) : 2010-06-30 00:00:00\n",
      "['A000020']\n",
      "\n",
      "\n"
     ]
    },
    {
     "name": "stderr",
     "output_type": "stream",
     "text": [
      "/Users/Shared/anaconda3/anaconda3/lib/python3.7/site-packages/ipykernel_launcher.py:689: SettingWithCopyWarning: \n",
      "A value is trying to be set on a copy of a slice from a DataFrame.\n",
      "Try using .loc[row_indexer,col_indexer] = value instead\n",
      "\n",
      "See the caveats in the documentation: http://pandas.pydata.org/pandas-docs/stable/indexing.html#indexing-view-versus-copy\n"
     ]
    },
    {
     "name": "stdout",
     "output_type": "stream",
     "text": [
      ">>>>>> buy list (1) : 2010-06-30 00:00:00\n",
      "현대건설(A000720) : 58\n",
      "\n",
      "\n",
      ">>>>>> enough periods (유한양행 : A000100) - (124985 : -0.13) : 368 days 00:00:002010-07-05 00:00:00\n",
      ">>>>>> sell list (1) : 2010-07-05 00:00:00\n",
      "['A000100']\n",
      "\n",
      "\n"
     ]
    },
    {
     "name": "stderr",
     "output_type": "stream",
     "text": [
      "/Users/Shared/anaconda3/anaconda3/lib/python3.7/site-packages/ipykernel_launcher.py:689: SettingWithCopyWarning: \n",
      "A value is trying to be set on a copy of a slice from a DataFrame.\n",
      "Try using .loc[row_indexer,col_indexer] = value instead\n",
      "\n",
      "See the caveats in the documentation: http://pandas.pydata.org/pandas-docs/stable/indexing.html#indexing-view-versus-copy\n"
     ]
    },
    {
     "name": "stdout",
     "output_type": "stream",
     "text": [
      ">>>>>> buy list (1) : 2010-07-05 00:00:00\n",
      "동화약품(A000020) : 1021\n",
      "\n",
      "\n",
      ">>>>>> enough periods (CJ대한통운 : A000120) - (58900 : -0.16) : 367 days 00:00:002010-08-23 00:00:00\n",
      ">>>>>> sell list (1) : 2010-08-23 00:00:00\n",
      "['A000120']\n",
      "\n",
      "\n"
     ]
    },
    {
     "name": "stderr",
     "output_type": "stream",
     "text": [
      "/Users/Shared/anaconda3/anaconda3/lib/python3.7/site-packages/ipykernel_launcher.py:689: SettingWithCopyWarning: \n",
      "A value is trying to be set on a copy of a slice from a DataFrame.\n",
      "Try using .loc[row_indexer,col_indexer] = value instead\n",
      "\n",
      "See the caveats in the documentation: http://pandas.pydata.org/pandas-docs/stable/indexing.html#indexing-view-versus-copy\n"
     ]
    },
    {
     "name": "stdout",
     "output_type": "stream",
     "text": [
      ">>>>>> buy list (1) : 2010-08-23 00:00:00\n",
      "유한양행(A000100) : 32\n",
      "\n",
      "\n",
      ">>>>>> enough periods (대림산업 : A000210) - (76600 : 0.05) : 367 days 00:00:002010-08-30 00:00:00\n",
      ">>>>>> sell list (1) : 2010-08-30 00:00:00\n",
      "['A000210']\n",
      "\n",
      "\n"
     ]
    },
    {
     "name": "stderr",
     "output_type": "stream",
     "text": [
      "/Users/Shared/anaconda3/anaconda3/lib/python3.7/site-packages/ipykernel_launcher.py:689: SettingWithCopyWarning: \n",
      "A value is trying to be set on a copy of a slice from a DataFrame.\n",
      "Try using .loc[row_indexer,col_indexer] = value instead\n",
      "\n",
      "See the caveats in the documentation: http://pandas.pydata.org/pandas-docs/stable/indexing.html#indexing-view-versus-copy\n"
     ]
    },
    {
     "name": "stdout",
     "output_type": "stream",
     "text": [
      ">>>>>> buy list (1) : 2010-08-30 00:00:00\n",
      "CJ대한통운(A000120) : 117\n",
      "\n",
      "\n",
      ">>>>>> enough profit (한국테크놀로지그룹 : A000240) - (15054 : 0.5) : 2010-09-10 00:00:00\n",
      ">>>>>> sell list (1) : 2010-09-10 00:00:00\n",
      "['A000240']\n",
      "\n",
      "\n"
     ]
    },
    {
     "name": "stderr",
     "output_type": "stream",
     "text": [
      "/Users/Shared/anaconda3/anaconda3/lib/python3.7/site-packages/ipykernel_launcher.py:689: SettingWithCopyWarning: \n",
      "A value is trying to be set on a copy of a slice from a DataFrame.\n",
      "Try using .loc[row_indexer,col_indexer] = value instead\n",
      "\n",
      "See the caveats in the documentation: http://pandas.pydata.org/pandas-docs/stable/indexing.html#indexing-view-versus-copy\n"
     ]
    },
    {
     "name": "stdout",
     "output_type": "stream",
     "text": [
      ">>>>>> buy list (1) : 2010-09-10 00:00:00\n",
      "대림산업(A000210) : 109\n",
      "\n",
      "\n",
      ">>>>>> enough profit (대동공업 : A000490) - (6880 : 0.52) : 2010-10-11 00:00:00\n",
      ">>>>>> sell list (1) : 2010-10-11 00:00:00\n",
      "['A000490']\n",
      "\n",
      "\n"
     ]
    },
    {
     "name": "stderr",
     "output_type": "stream",
     "text": [
      "/Users/Shared/anaconda3/anaconda3/lib/python3.7/site-packages/ipykernel_launcher.py:689: SettingWithCopyWarning: \n",
      "A value is trying to be set on a copy of a slice from a DataFrame.\n",
      "Try using .loc[row_indexer,col_indexer] = value instead\n",
      "\n",
      "See the caveats in the documentation: http://pandas.pydata.org/pandas-docs/stable/indexing.html#indexing-view-versus-copy\n"
     ]
    },
    {
     "name": "stdout",
     "output_type": "stream",
     "text": [
      ">>>>>> buy list (1) : 2010-10-11 00:00:00\n",
      "한국테크놀로지그룹(A000240) : 331\n",
      "\n",
      "\n",
      ">>>>>> enough profit (대원강업 : A000430) - (4335 : 0.59) : 2010-10-18 00:00:00\n",
      ">>>>>> sell list (1) : 2010-10-18 00:00:00\n",
      "['A000430']\n",
      "\n",
      "\n"
     ]
    },
    {
     "name": "stderr",
     "output_type": "stream",
     "text": [
      "/Users/Shared/anaconda3/anaconda3/lib/python3.7/site-packages/ipykernel_launcher.py:689: SettingWithCopyWarning: \n",
      "A value is trying to be set on a copy of a slice from a DataFrame.\n",
      "Try using .loc[row_indexer,col_indexer] = value instead\n",
      "\n",
      "See the caveats in the documentation: http://pandas.pydata.org/pandas-docs/stable/indexing.html#indexing-view-versus-copy\n"
     ]
    },
    {
     "name": "stdout",
     "output_type": "stream",
     "text": [
      ">>>>>> buy list (1) : 2010-10-18 00:00:00\n",
      "대동공업(A000490) : 846\n",
      "\n",
      "\n",
      ">>>>>> enough profit (기아자동차 : A000270) - (49500 : 0.51) : 2010-11-01 00:00:00\n",
      ">>>>>> sell list (1) : 2010-11-01 00:00:00\n",
      "['A000270']\n",
      "\n",
      "\n"
     ]
    },
    {
     "name": "stderr",
     "output_type": "stream",
     "text": [
      "/Users/Shared/anaconda3/anaconda3/lib/python3.7/site-packages/ipykernel_launcher.py:689: SettingWithCopyWarning: \n",
      "A value is trying to be set on a copy of a slice from a DataFrame.\n",
      "Try using .loc[row_indexer,col_indexer] = value instead\n",
      "\n",
      "See the caveats in the documentation: http://pandas.pydata.org/pandas-docs/stable/indexing.html#indexing-view-versus-copy\n"
     ]
    },
    {
     "name": "stdout",
     "output_type": "stream",
     "text": [
      ">>>>>> buy list (1) : 2010-11-01 00:00:00\n",
      "대원강업(A000430) : 1190\n",
      "\n",
      "\n",
      ">>>>>> enough profit (영풍 : A000670) - (802000 : 0.6) : 2010-11-10 00:00:00\n",
      ">>>>>> sell list (1) : 2010-11-10 00:00:00\n",
      "['A000670']\n",
      "\n",
      "\n"
     ]
    },
    {
     "name": "stderr",
     "output_type": "stream",
     "text": [
      "/Users/Shared/anaconda3/anaconda3/lib/python3.7/site-packages/ipykernel_launcher.py:689: SettingWithCopyWarning: \n",
      "A value is trying to be set on a copy of a slice from a DataFrame.\n",
      "Try using .loc[row_indexer,col_indexer] = value instead\n",
      "\n",
      "See the caveats in the documentation: http://pandas.pydata.org/pandas-docs/stable/indexing.html#indexing-view-versus-copy\n"
     ]
    },
    {
     "name": "stdout",
     "output_type": "stream",
     "text": [
      ">>>>>> buy list (1) : 2010-11-10 00:00:00\n",
      "기아자동차(A000270) : 112\n",
      "\n",
      "\n",
      ">>>>>> enough profit (CJ대한통운 : A000120) - (95000 : 0.61) : 2010-12-08 00:00:00\n",
      ">>>>>> sell list (1) : 2010-12-08 00:00:00\n",
      "['A000120']\n",
      "\n",
      "\n"
     ]
    },
    {
     "name": "stderr",
     "output_type": "stream",
     "text": [
      "/Users/Shared/anaconda3/anaconda3/lib/python3.7/site-packages/ipykernel_launcher.py:689: SettingWithCopyWarning: \n",
      "A value is trying to be set on a copy of a slice from a DataFrame.\n",
      "Try using .loc[row_indexer,col_indexer] = value instead\n",
      "\n",
      "See the caveats in the documentation: http://pandas.pydata.org/pandas-docs/stable/indexing.html#indexing-view-versus-copy\n"
     ]
    },
    {
     "name": "stdout",
     "output_type": "stream",
     "text": [
      ">>>>>> buy list (1) : 2010-12-08 00:00:00\n",
      "영풍(A000670) : 14\n",
      "\n",
      "\n",
      ">>>>>> enough profit (대림산업 : A000210) - (123500 : 0.55) : 2011-01-03 00:00:00\n",
      ">>>>>> sell list (1) : 2011-01-03 00:00:00\n",
      "['A000210']\n",
      "\n",
      "\n"
     ]
    },
    {
     "name": "stderr",
     "output_type": "stream",
     "text": [
      "/Users/Shared/anaconda3/anaconda3/lib/python3.7/site-packages/ipykernel_launcher.py:689: SettingWithCopyWarning: \n",
      "A value is trying to be set on a copy of a slice from a DataFrame.\n",
      "Try using .loc[row_indexer,col_indexer] = value instead\n",
      "\n",
      "See the caveats in the documentation: http://pandas.pydata.org/pandas-docs/stable/indexing.html#indexing-view-versus-copy\n"
     ]
    },
    {
     "name": "stdout",
     "output_type": "stream",
     "text": [
      ">>>>>> buy list (1) : 2011-01-03 00:00:00\n",
      "형지I&C(A011080) : 24404\n",
      "\n",
      "\n",
      ">>>>>> enough profit (현대건설 : A000720) - (85900 : 0.51) : 2011-01-12 00:00:00\n",
      ">>>>>> sell list (1) : 2011-01-12 00:00:00\n",
      "['A000720']\n",
      "\n",
      "\n"
     ]
    },
    {
     "name": "stderr",
     "output_type": "stream",
     "text": [
      "/Users/Shared/anaconda3/anaconda3/lib/python3.7/site-packages/ipykernel_launcher.py:689: SettingWithCopyWarning: \n",
      "A value is trying to be set on a copy of a slice from a DataFrame.\n",
      "Try using .loc[row_indexer,col_indexer] = value instead\n",
      "\n",
      "See the caveats in the documentation: http://pandas.pydata.org/pandas-docs/stable/indexing.html#indexing-view-versus-copy\n"
     ]
    },
    {
     "name": "stdout",
     "output_type": "stream",
     "text": [
      ">>>>>> buy list (1) : 2011-01-12 00:00:00\n",
      "좋은사람들(A033340) : 3533\n",
      "\n",
      "\n",
      ">>>>>> enough profit (기아자동차 : A000270) - (75300 : 0.51) : 2011-04-14 00:00:00\n",
      ">>>>>> sell list (1) : 2011-04-14 00:00:00\n",
      "['A000270']\n",
      "\n",
      "\n"
     ]
    },
    {
     "name": "stderr",
     "output_type": "stream",
     "text": [
      "/Users/Shared/anaconda3/anaconda3/lib/python3.7/site-packages/ipykernel_launcher.py:689: SettingWithCopyWarning: \n",
      "A value is trying to be set on a copy of a slice from a DataFrame.\n",
      "Try using .loc[row_indexer,col_indexer] = value instead\n",
      "\n",
      "See the caveats in the documentation: http://pandas.pydata.org/pandas-docs/stable/indexing.html#indexing-view-versus-copy\n"
     ]
    },
    {
     "name": "stdout",
     "output_type": "stream",
     "text": [
      ">>>>>> buy list (1) : 2011-04-14 00:00:00\n",
      "신영와코루(A005800) : 84\n",
      "\n",
      "\n",
      ">>>>>> enough periods (유유제약 : A000220) - (6370 : -0.08) : 368 days 00:00:002011-06-07 00:00:00\n",
      ">>>>>> enough profit (삼천당제약 : A000250) - (3195 : 0.55) : 2011-06-07 00:00:00\n",
      ">>>>>> enough periods (삼천당제약 : A000250) - (3195 : 0.55) : 368 days 00:00:002011-06-07 00:00:00\n",
      ">>>>>> enough periods (대유플러스 : A000300) - (1553 : -0.12) : 368 days 00:00:002011-06-07 00:00:00\n",
      ">>>>>> enough periods (삼화페인트공업 : A000390) - (3990 : -0.12) : 368 days 00:00:002011-06-07 00:00:00\n",
      ">>>>>> enough periods (중앙에너비스 : A000440) - (4240 : 0.24) : 368 days 00:00:002011-06-07 00:00:00\n",
      ">>>>>> enough periods (조선내화 : A000480) - (62000 : 0.17) : 368 days 00:00:002011-06-07 00:00:00\n",
      ">>>>>> enough periods (가온전선 : A000500) - (19700 : -0.31) : 368 days 00:00:002011-06-07 00:00:00\n",
      ">>>>>> enough periods (삼일제약 : A000520) - (5165 : -0.07) : 368 days 00:00:002011-06-07 00:00:00\n",
      ">>>>>> enough periods (천일고속 : A000650) - (30500 : -0.22) : 368 days 00:00:002011-06-07 00:00:00\n",
      ">>>>>> enough periods (LS네트웍스 : A000680) - (5370 : -0.2) : 368 days 00:00:002011-06-07 00:00:00\n",
      ">>>>>> enough periods (성창기업지주 : A000180) - (1249 : -0.24) : 368 days 00:00:002011-06-07 00:00:00\n",
      ">>>>>> sell list (11) : 2011-06-07 00:00:00\n",
      "['A000220', 'A000250', 'A000300', 'A000390', 'A000440', 'A000480', 'A000500', 'A000520', 'A000650', 'A000680', 'A000180']\n",
      "\n",
      "\n"
     ]
    },
    {
     "name": "stderr",
     "output_type": "stream",
     "text": [
      "/Users/Shared/anaconda3/anaconda3/lib/python3.7/site-packages/ipykernel_launcher.py:689: SettingWithCopyWarning: \n",
      "A value is trying to be set on a copy of a slice from a DataFrame.\n",
      "Try using .loc[row_indexer,col_indexer] = value instead\n",
      "\n",
      "See the caveats in the documentation: http://pandas.pydata.org/pandas-docs/stable/indexing.html#indexing-view-versus-copy\n"
     ]
    },
    {
     "name": "stdout",
     "output_type": "stream",
     "text": [
      ">>>>>> buy list (11) : 2011-06-07 00:00:00\n",
      "남영비비안(A002070) : 406\n",
      "신원(A009270) : 2836\n",
      "SG세계물산(A004060) : 9456\n",
      "국제약품(A002720) : 1934\n",
      "부방(A014470) : 3967\n",
      "현대약품(A004310) : 2527\n",
      "지엔코(A065060) : 2701\n",
      "오리콤(A010470) : 1372\n",
      "파인디지털(A038950) : 1045\n",
      "신성통상(A005390) : 8203\n",
      "대현(A016090) : 3026\n",
      "\n",
      "\n",
      ">>>>>> enough profit (영풍 : A000670) - (1197000 : 0.53) : 2011-07-05 00:00:00\n",
      ">>>>>> sell list (1) : 2011-07-05 00:00:00\n",
      "['A000670']\n",
      "\n",
      "\n"
     ]
    },
    {
     "name": "stderr",
     "output_type": "stream",
     "text": [
      "/Users/Shared/anaconda3/anaconda3/lib/python3.7/site-packages/ipykernel_launcher.py:689: SettingWithCopyWarning: \n",
      "A value is trying to be set on a copy of a slice from a DataFrame.\n",
      "Try using .loc[row_indexer,col_indexer] = value instead\n",
      "\n",
      "See the caveats in the documentation: http://pandas.pydata.org/pandas-docs/stable/indexing.html#indexing-view-versus-copy\n"
     ]
    },
    {
     "name": "stdout",
     "output_type": "stream",
     "text": [
      ">>>>>> buy list (1) : 2011-07-05 00:00:00\n",
      "삼일제약(A000520) : 3378\n",
      "\n",
      "\n",
      ">>>>>> enough periods (동화약품 : A000020) - (4895 : -0.03) : 366 days 00:00:002011-07-06 00:00:00\n",
      ">>>>>> enough profit (대원강업 : A000430) - (6800 : 0.53) : 2011-07-06 00:00:00\n",
      ">>>>>> sell list (2) : 2011-07-06 00:00:00\n",
      "['A000020', 'A000430']\n",
      "\n",
      "\n"
     ]
    },
    {
     "name": "stderr",
     "output_type": "stream",
     "text": [
      "/Users/Shared/anaconda3/anaconda3/lib/python3.7/site-packages/ipykernel_launcher.py:689: SettingWithCopyWarning: \n",
      "A value is trying to be set on a copy of a slice from a DataFrame.\n",
      "Try using .loc[row_indexer,col_indexer] = value instead\n",
      "\n",
      "See the caveats in the documentation: http://pandas.pydata.org/pandas-docs/stable/indexing.html#indexing-view-versus-copy\n"
     ]
    },
    {
     "name": "stdout",
     "output_type": "stream",
     "text": [
      ">>>>>> buy list (2) : 2011-07-06 00:00:00\n",
      "삼천당제약(A000250) : 2363\n",
      "F&F(A007700) : 669\n",
      "\n",
      "\n",
      ">>>>>> enough profit (지엔코 : A065060) - (2030 : 0.61) : 2011-07-11 00:00:00\n",
      ">>>>>> sell list (1) : 2011-07-11 00:00:00\n",
      "['A065060']\n",
      "\n",
      "\n"
     ]
    },
    {
     "name": "stderr",
     "output_type": "stream",
     "text": [
      "/Users/Shared/anaconda3/anaconda3/lib/python3.7/site-packages/ipykernel_launcher.py:689: SettingWithCopyWarning: \n",
      "A value is trying to be set on a copy of a slice from a DataFrame.\n",
      "Try using .loc[row_indexer,col_indexer] = value instead\n",
      "\n",
      "See the caveats in the documentation: http://pandas.pydata.org/pandas-docs/stable/indexing.html#indexing-view-versus-copy\n"
     ]
    },
    {
     "name": "stdout",
     "output_type": "stream",
     "text": [
      ">>>>>> buy list (1) : 2011-07-11 00:00:00\n",
      "주연테크(A044380) : 15122\n",
      "\n",
      "\n",
      ">>>>>> enough profit (대현 : A016090) - (1690 : 0.5) : 2011-07-20 00:00:00\n",
      ">>>>>> sell list (1) : 2011-07-20 00:00:00\n",
      "['A016090']\n",
      "\n",
      "\n"
     ]
    },
    {
     "name": "stderr",
     "output_type": "stream",
     "text": [
      "/Users/Shared/anaconda3/anaconda3/lib/python3.7/site-packages/ipykernel_launcher.py:689: SettingWithCopyWarning: \n",
      "A value is trying to be set on a copy of a slice from a DataFrame.\n",
      "Try using .loc[row_indexer,col_indexer] = value instead\n",
      "\n",
      "See the caveats in the documentation: http://pandas.pydata.org/pandas-docs/stable/indexing.html#indexing-view-versus-copy\n"
     ]
    },
    {
     "name": "stdout",
     "output_type": "stream",
     "text": [
      ">>>>>> buy list (1) : 2011-07-20 00:00:00\n",
      "지엔코(A065060) : 2557\n",
      "\n",
      "\n",
      ">>>>>> enough profit (좋은사람들 : A033340) - (2364 : 0.68) : 2011-08-05 00:00:00\n",
      ">>>>>> sell list (1) : 2011-08-05 00:00:00\n",
      "['A033340']\n",
      "\n",
      "\n"
     ]
    },
    {
     "name": "stderr",
     "output_type": "stream",
     "text": [
      "/Users/Shared/anaconda3/anaconda3/lib/python3.7/site-packages/ipykernel_launcher.py:689: SettingWithCopyWarning: \n",
      "A value is trying to be set on a copy of a slice from a DataFrame.\n",
      "Try using .loc[row_indexer,col_indexer] = value instead\n",
      "\n",
      "See the caveats in the documentation: http://pandas.pydata.org/pandas-docs/stable/indexing.html#indexing-view-versus-copy\n"
     ]
    },
    {
     "name": "stdout",
     "output_type": "stream",
     "text": [
      ">>>>>> buy list (1) : 2011-08-05 00:00:00\n",
      "대현(A016090) : 3200\n",
      "\n",
      "\n",
      ">>>>>> enough profit (부방 : A014470) - (1332 : 0.55) : 2011-08-17 00:00:00\n",
      ">>>>>> sell list (1) : 2011-08-17 00:00:00\n",
      "['A014470']\n",
      "\n",
      "\n"
     ]
    },
    {
     "name": "stderr",
     "output_type": "stream",
     "text": [
      "/Users/Shared/anaconda3/anaconda3/lib/python3.7/site-packages/ipykernel_launcher.py:689: SettingWithCopyWarning: \n",
      "A value is trying to be set on a copy of a slice from a DataFrame.\n",
      "Try using .loc[row_indexer,col_indexer] = value instead\n",
      "\n",
      "See the caveats in the documentation: http://pandas.pydata.org/pandas-docs/stable/indexing.html#indexing-view-versus-copy\n"
     ]
    },
    {
     "name": "stdout",
     "output_type": "stream",
     "text": [
      ">>>>>> buy list (1) : 2011-08-17 00:00:00\n",
      "좋은사람들(A033340) : 2510\n",
      "\n",
      "\n",
      ">>>>>> enough periods (유한양행 : A000100) - (99687 : -0.35) : 366 days 00:00:002011-08-24 00:00:00\n",
      ">>>>>> sell list (1) : 2011-08-24 00:00:00\n",
      "['A000100']\n",
      "\n",
      "\n"
     ]
    },
    {
     "name": "stderr",
     "output_type": "stream",
     "text": [
      "/Users/Shared/anaconda3/anaconda3/lib/python3.7/site-packages/ipykernel_launcher.py:689: SettingWithCopyWarning: \n",
      "A value is trying to be set on a copy of a slice from a DataFrame.\n",
      "Try using .loc[row_indexer,col_indexer] = value instead\n",
      "\n",
      "See the caveats in the documentation: http://pandas.pydata.org/pandas-docs/stable/indexing.html#indexing-view-versus-copy\n"
     ]
    },
    {
     "name": "stdout",
     "output_type": "stream",
     "text": [
      ">>>>>> buy list (1) : 2011-08-24 00:00:00\n",
      "부방(A014470) : 3445\n",
      "\n",
      "\n",
      ">>>>>> enough profit (신성통상 : A005390) - (655 : 0.58) : 2011-09-08 00:00:00\n",
      ">>>>>> sell list (1) : 2011-09-08 00:00:00\n",
      "['A005390']\n",
      "\n",
      "\n"
     ]
    },
    {
     "name": "stderr",
     "output_type": "stream",
     "text": [
      "/Users/Shared/anaconda3/anaconda3/lib/python3.7/site-packages/ipykernel_launcher.py:689: SettingWithCopyWarning: \n",
      "A value is trying to be set on a copy of a slice from a DataFrame.\n",
      "Try using .loc[row_indexer,col_indexer] = value instead\n",
      "\n",
      "See the caveats in the documentation: http://pandas.pydata.org/pandas-docs/stable/indexing.html#indexing-view-versus-copy\n"
     ]
    },
    {
     "name": "stdout",
     "output_type": "stream",
     "text": [
      ">>>>>> buy list (1) : 2011-09-08 00:00:00\n",
      "경동나비엔(A009450) : 1023\n",
      "\n",
      "\n",
      ">>>>>> enough periods (한국테크놀로지그룹 : A000240) - (18817 : 0.15) : 366 days 00:00:002011-10-12 00:00:00\n",
      ">>>>>> sell list (1) : 2011-10-12 00:00:00\n",
      "['A000240']\n",
      "\n",
      "\n"
     ]
    },
    {
     "name": "stderr",
     "output_type": "stream",
     "text": [
      "/Users/Shared/anaconda3/anaconda3/lib/python3.7/site-packages/ipykernel_launcher.py:689: SettingWithCopyWarning: \n",
      "A value is trying to be set on a copy of a slice from a DataFrame.\n",
      "Try using .loc[row_indexer,col_indexer] = value instead\n",
      "\n",
      "See the caveats in the documentation: http://pandas.pydata.org/pandas-docs/stable/indexing.html#indexing-view-versus-copy\n"
     ]
    },
    {
     "name": "stdout",
     "output_type": "stream",
     "text": [
      ">>>>>> buy list (1) : 2011-10-12 00:00:00\n",
      "신성통상(A005390) : 8231\n",
      "\n",
      "\n",
      ">>>>>> enough periods (대동공업 : A000490) - (3495 : -0.48) : 366 days 00:00:002011-10-19 00:00:00\n",
      ">>>>>> sell list (1) : 2011-10-19 00:00:00\n",
      "['A000490']\n",
      "\n",
      "\n"
     ]
    },
    {
     "name": "stderr",
     "output_type": "stream",
     "text": [
      "/Users/Shared/anaconda3/anaconda3/lib/python3.7/site-packages/ipykernel_launcher.py:689: SettingWithCopyWarning: \n",
      "A value is trying to be set on a copy of a slice from a DataFrame.\n",
      "Try using .loc[row_indexer,col_indexer] = value instead\n",
      "\n",
      "See the caveats in the documentation: http://pandas.pydata.org/pandas-docs/stable/indexing.html#indexing-view-versus-copy\n"
     ]
    },
    {
     "name": "stdout",
     "output_type": "stream",
     "text": [
      ">>>>>> buy list (1) : 2011-10-19 00:00:00\n",
      "진도(A088790) : 394\n",
      "\n",
      "\n",
      ">>>>>> enough profit (지엔코 : A065060) - (3000 : 0.5) : 2011-11-28 00:00:00\n",
      ">>>>>> sell list (1) : 2011-11-28 00:00:00\n",
      "['A065060']\n",
      "\n",
      "\n"
     ]
    },
    {
     "name": "stderr",
     "output_type": "stream",
     "text": [
      "/Users/Shared/anaconda3/anaconda3/lib/python3.7/site-packages/ipykernel_launcher.py:689: SettingWithCopyWarning: \n",
      "A value is trying to be set on a copy of a slice from a DataFrame.\n",
      "Try using .loc[row_indexer,col_indexer] = value instead\n",
      "\n",
      "See the caveats in the documentation: http://pandas.pydata.org/pandas-docs/stable/indexing.html#indexing-view-versus-copy\n"
     ]
    },
    {
     "name": "stdout",
     "output_type": "stream",
     "text": [
      ">>>>>> buy list (1) : 2011-11-28 00:00:00\n",
      "진양제약(A007370) : 3258\n",
      "\n",
      "\n",
      ">>>>>> enough periods (형지I&C : A011080) - (476 : -0.15) : 366 days 00:00:002012-01-04 00:00:00\n",
      ">>>>>> sell list (1) : 2012-01-04 00:00:00\n",
      "['A011080']\n",
      "\n",
      "\n"
     ]
    },
    {
     "name": "stderr",
     "output_type": "stream",
     "text": [
      "/Users/Shared/anaconda3/anaconda3/lib/python3.7/site-packages/ipykernel_launcher.py:689: SettingWithCopyWarning: \n",
      "A value is trying to be set on a copy of a slice from a DataFrame.\n",
      "Try using .loc[row_indexer,col_indexer] = value instead\n",
      "\n",
      "See the caveats in the documentation: http://pandas.pydata.org/pandas-docs/stable/indexing.html#indexing-view-versus-copy\n"
     ]
    },
    {
     "name": "stdout",
     "output_type": "stream",
     "text": [
      ">>>>>> buy list (1) : 2012-01-04 00:00:00\n",
      "코리아나(A027050) : 9368\n",
      "\n",
      "\n",
      ">>>>>> enough profit (진양제약 : A007370) - (3860 : 0.64) : 2012-01-05 00:00:00\n",
      ">>>>>> sell list (1) : 2012-01-05 00:00:00\n",
      "['A007370']\n",
      "\n",
      "\n"
     ]
    },
    {
     "name": "stderr",
     "output_type": "stream",
     "text": [
      "/Users/Shared/anaconda3/anaconda3/lib/python3.7/site-packages/ipykernel_launcher.py:689: SettingWithCopyWarning: \n",
      "A value is trying to be set on a copy of a slice from a DataFrame.\n",
      "Try using .loc[row_indexer,col_indexer] = value instead\n",
      "\n",
      "See the caveats in the documentation: http://pandas.pydata.org/pandas-docs/stable/indexing.html#indexing-view-versus-copy\n"
     ]
    },
    {
     "name": "stdout",
     "output_type": "stream",
     "text": [
      ">>>>>> buy list (1) : 2012-01-05 00:00:00\n",
      "서산(A079650) : 23639\n",
      "\n",
      "\n",
      ">>>>>> enough profit (신성통상 : A005390) - (1170 : 0.55) : 2012-02-01 00:00:00\n",
      ">>>>>> sell list (1) : 2012-02-01 00:00:00\n",
      "['A005390']\n",
      "\n",
      "\n"
     ]
    },
    {
     "name": "stderr",
     "output_type": "stream",
     "text": [
      "/Users/Shared/anaconda3/anaconda3/lib/python3.7/site-packages/ipykernel_launcher.py:689: SettingWithCopyWarning: \n",
      "A value is trying to be set on a copy of a slice from a DataFrame.\n",
      "Try using .loc[row_indexer,col_indexer] = value instead\n",
      "\n",
      "See the caveats in the documentation: http://pandas.pydata.org/pandas-docs/stable/indexing.html#indexing-view-versus-copy\n"
     ]
    },
    {
     "name": "stdout",
     "output_type": "stream",
     "text": [
      ">>>>>> buy list (1) : 2012-02-01 00:00:00\n",
      "NICE(A034310) : 1931\n",
      "\n",
      "\n",
      ">>>>>> enough profit (국제약품 : A002720) - (2683 : 0.52) : 2012-02-13 00:00:00\n",
      ">>>>>> sell list (1) : 2012-02-13 00:00:00\n",
      "['A002720']\n",
      "\n",
      "\n"
     ]
    },
    {
     "name": "stderr",
     "output_type": "stream",
     "text": [
      "/Users/Shared/anaconda3/anaconda3/lib/python3.7/site-packages/ipykernel_launcher.py:689: SettingWithCopyWarning: \n",
      "A value is trying to be set on a copy of a slice from a DataFrame.\n",
      "Try using .loc[row_indexer,col_indexer] = value instead\n",
      "\n",
      "See the caveats in the documentation: http://pandas.pydata.org/pandas-docs/stable/indexing.html#indexing-view-versus-copy\n"
     ]
    },
    {
     "name": "stdout",
     "output_type": "stream",
     "text": [
      ">>>>>> buy list (1) : 2012-02-13 00:00:00\n",
      "신성통상(A005390) : 3428\n",
      "\n",
      "\n",
      ">>>>>> enough profit (경동나비엔 : A009450) - (8120 : 0.55) : 2012-03-15 00:00:00\n",
      ">>>>>> sell list (1) : 2012-03-15 00:00:00\n",
      "['A009450']\n",
      "\n",
      "\n"
     ]
    },
    {
     "name": "stderr",
     "output_type": "stream",
     "text": [
      "/Users/Shared/anaconda3/anaconda3/lib/python3.7/site-packages/ipykernel_launcher.py:689: SettingWithCopyWarning: \n",
      "A value is trying to be set on a copy of a slice from a DataFrame.\n",
      "Try using .loc[row_indexer,col_indexer] = value instead\n",
      "\n",
      "See the caveats in the documentation: http://pandas.pydata.org/pandas-docs/stable/indexing.html#indexing-view-versus-copy\n"
     ]
    },
    {
     "name": "stdout",
     "output_type": "stream",
     "text": [
      ">>>>>> buy list (1) : 2012-03-15 00:00:00\n",
      "샘표(A007540) : 615\n",
      "\n",
      "\n",
      ">>>>>> enough profit (SG세계물산 : A004060) - (585 : 0.62) : 2012-04-04 00:00:00\n",
      ">>>>>> sell list (1) : 2012-04-04 00:00:00\n",
      "['A004060']\n",
      "\n",
      "\n"
     ]
    },
    {
     "name": "stderr",
     "output_type": "stream",
     "text": [
      "/Users/Shared/anaconda3/anaconda3/lib/python3.7/site-packages/ipykernel_launcher.py:689: SettingWithCopyWarning: \n",
      "A value is trying to be set on a copy of a slice from a DataFrame.\n",
      "Try using .loc[row_indexer,col_indexer] = value instead\n",
      "\n",
      "See the caveats in the documentation: http://pandas.pydata.org/pandas-docs/stable/indexing.html#indexing-view-versus-copy\n"
     ]
    },
    {
     "name": "stdout",
     "output_type": "stream",
     "text": [
      ">>>>>> buy list (1) : 2012-04-04 00:00:00\n",
      "제우스(A079370) : 1328\n",
      "\n",
      "\n",
      ">>>>>> enough periods (신영와코루 : A005800) - (97700 : -0.02) : 368 days 00:00:002012-04-16 00:00:00\n",
      ">>>>>> sell list (1) : 2012-04-16 00:00:00\n",
      "['A005800']\n",
      "\n",
      "\n"
     ]
    },
    {
     "name": "stderr",
     "output_type": "stream",
     "text": [
      "/Users/Shared/anaconda3/anaconda3/lib/python3.7/site-packages/ipykernel_launcher.py:689: SettingWithCopyWarning: \n",
      "A value is trying to be set on a copy of a slice from a DataFrame.\n",
      "Try using .loc[row_indexer,col_indexer] = value instead\n",
      "\n",
      "See the caveats in the documentation: http://pandas.pydata.org/pandas-docs/stable/indexing.html#indexing-view-versus-copy\n"
     ]
    },
    {
     "name": "stdout",
     "output_type": "stream",
     "text": [
      ">>>>>> buy list (1) : 2012-04-16 00:00:00\n",
      "SG세계물산(A004060) : 17539\n",
      "\n",
      "\n",
      ">>>>>> enough profit (코리아나 : A027050) - (1910 : 0.54) : 2012-05-22 00:00:00\n",
      ">>>>>> sell list (1) : 2012-05-22 00:00:00\n",
      "['A027050']\n",
      "\n",
      "\n"
     ]
    },
    {
     "name": "stderr",
     "output_type": "stream",
     "text": [
      "/Users/Shared/anaconda3/anaconda3/lib/python3.7/site-packages/ipykernel_launcher.py:689: SettingWithCopyWarning: \n",
      "A value is trying to be set on a copy of a slice from a DataFrame.\n",
      "Try using .loc[row_indexer,col_indexer] = value instead\n",
      "\n",
      "See the caveats in the documentation: http://pandas.pydata.org/pandas-docs/stable/indexing.html#indexing-view-versus-copy\n"
     ]
    },
    {
     "name": "stdout",
     "output_type": "stream",
     "text": [
      ">>>>>> buy list (1) : 2012-05-22 00:00:00\n",
      "신영와코루(A005800) : 189\n",
      "\n",
      "\n",
      ">>>>>> enough periods (남영비비안 : A002070) - (7400 : -0.12) : 366 days 00:00:002012-06-07 00:00:00\n",
      ">>>>>> enough periods (신원 : A009270) - (1105 : -0.08) : 366 days 00:00:002012-06-07 00:00:00\n",
      ">>>>>> enough periods (현대약품 : A004310) - (1357 : 0.01) : 366 days 00:00:002012-06-07 00:00:00\n",
      ">>>>>> enough periods (오리콤 : A010470) - (2710 : 0.09) : 366 days 00:00:002012-06-07 00:00:00\n",
      ">>>>>> enough periods (파인디지털 : A038950) - (3290 : 0.01) : 366 days 00:00:002012-06-07 00:00:00\n",
      ">>>>>> sell list (5) : 2012-06-07 00:00:00\n",
      "['A002070', 'A009270', 'A004310', 'A010470', 'A038950']\n",
      "\n",
      "\n"
     ]
    },
    {
     "name": "stderr",
     "output_type": "stream",
     "text": [
      "/Users/Shared/anaconda3/anaconda3/lib/python3.7/site-packages/ipykernel_launcher.py:689: SettingWithCopyWarning: \n",
      "A value is trying to be set on a copy of a slice from a DataFrame.\n",
      "Try using .loc[row_indexer,col_indexer] = value instead\n",
      "\n",
      "See the caveats in the documentation: http://pandas.pydata.org/pandas-docs/stable/indexing.html#indexing-view-versus-copy\n"
     ]
    },
    {
     "name": "stdout",
     "output_type": "stream",
     "text": [
      ">>>>>> buy list (5) : 2012-06-07 00:00:00\n",
      "코리아나(A027050) : 2101\n",
      "동성제약(A002210) : 1147\n",
      "에넥스(A011090) : 6227\n",
      "삼아제약(A009300) : 568\n",
      "경동나비엔(A009450) : 601\n",
      "\n",
      "\n",
      ">>>>>> enough profit (에넥스 : A011090) - (859 : 0.59) : 2012-06-14 00:00:00\n",
      ">>>>>> sell list (1) : 2012-06-14 00:00:00\n",
      "['A011090']\n",
      "\n",
      "\n"
     ]
    },
    {
     "name": "stderr",
     "output_type": "stream",
     "text": [
      "/Users/Shared/anaconda3/anaconda3/lib/python3.7/site-packages/ipykernel_launcher.py:689: SettingWithCopyWarning: \n",
      "A value is trying to be set on a copy of a slice from a DataFrame.\n",
      "Try using .loc[row_indexer,col_indexer] = value instead\n",
      "\n",
      "See the caveats in the documentation: http://pandas.pydata.org/pandas-docs/stable/indexing.html#indexing-view-versus-copy\n"
     ]
    },
    {
     "name": "stdout",
     "output_type": "stream",
     "text": [
      ">>>>>> buy list (1) : 2012-06-14 00:00:00\n",
      "남영비비안(A002070) : 730\n",
      "\n",
      "\n",
      ">>>>>> enough profit (주연테크 : A044380) - (579.0 : 0.6) : 2012-06-19 00:00:00\n",
      ">>>>>> sell list (1) : 2012-06-19 00:00:00\n",
      "['A044380']\n",
      "\n",
      "\n"
     ]
    },
    {
     "name": "stderr",
     "output_type": "stream",
     "text": [
      "/Users/Shared/anaconda3/anaconda3/lib/python3.7/site-packages/ipykernel_launcher.py:689: SettingWithCopyWarning: \n",
      "A value is trying to be set on a copy of a slice from a DataFrame.\n",
      "Try using .loc[row_indexer,col_indexer] = value instead\n",
      "\n",
      "See the caveats in the documentation: http://pandas.pydata.org/pandas-docs/stable/indexing.html#indexing-view-versus-copy\n"
     ]
    },
    {
     "name": "stdout",
     "output_type": "stream",
     "text": [
      ">>>>>> buy list (1) : 2012-06-19 00:00:00\n",
      "현대약품(A004310) : 6366\n",
      "\n",
      "\n",
      ">>>>>> enough periods (삼일제약 : A000520) - (4199 : -0.15) : 366 days 00:00:002012-07-05 00:00:00\n",
      ">>>>>> sell list (1) : 2012-07-05 00:00:00\n",
      "['A000520']\n",
      "\n",
      "\n"
     ]
    },
    {
     "name": "stderr",
     "output_type": "stream",
     "text": [
      "/Users/Shared/anaconda3/anaconda3/lib/python3.7/site-packages/ipykernel_launcher.py:689: SettingWithCopyWarning: \n",
      "A value is trying to be set on a copy of a slice from a DataFrame.\n",
      "Try using .loc[row_indexer,col_indexer] = value instead\n",
      "\n",
      "See the caveats in the documentation: http://pandas.pydata.org/pandas-docs/stable/indexing.html#indexing-view-versus-copy\n"
     ]
    },
    {
     "name": "stdout",
     "output_type": "stream",
     "text": [
      ">>>>>> buy list (1) : 2012-07-05 00:00:00\n",
      "신원(A009270) : 12227\n",
      "\n",
      "\n",
      ">>>>>> enough periods (삼천당제약 : A000250) - (2075 : -0.25) : 366 days 00:00:002012-07-06 00:00:00\n",
      ">>>>>> enough periods (F&F : A007700) - (6200 : -0.37) : 366 days 00:00:002012-07-06 00:00:00\n",
      ">>>>>> sell list (2) : 2012-07-06 00:00:00\n",
      "['A000250', 'A007700']\n",
      "\n",
      "\n"
     ]
    },
    {
     "name": "stderr",
     "output_type": "stream",
     "text": [
      "/Users/Shared/anaconda3/anaconda3/lib/python3.7/site-packages/ipykernel_launcher.py:689: SettingWithCopyWarning: \n",
      "A value is trying to be set on a copy of a slice from a DataFrame.\n",
      "Try using .loc[row_indexer,col_indexer] = value instead\n",
      "\n",
      "See the caveats in the documentation: http://pandas.pydata.org/pandas-docs/stable/indexing.html#indexing-view-versus-copy\n"
     ]
    },
    {
     "name": "stdout",
     "output_type": "stream",
     "text": [
      ">>>>>> buy list (2) : 2012-07-06 00:00:00\n",
      "파인디지털(A038950) : 1135\n",
      "에넥스(A011090) : 4794\n",
      "\n",
      "\n",
      ">>>>>> enough periods (대현 : A016090) - (1245 : -0.52) : 367 days 00:00:002012-08-06 00:00:00\n",
      ">>>>>> sell list (1) : 2012-08-06 00:00:00\n",
      "['A016090']\n",
      "\n",
      "\n"
     ]
    },
    {
     "name": "stderr",
     "output_type": "stream",
     "text": [
      "/Users/Shared/anaconda3/anaconda3/lib/python3.7/site-packages/ipykernel_launcher.py:689: SettingWithCopyWarning: \n",
      "A value is trying to be set on a copy of a slice from a DataFrame.\n",
      "Try using .loc[row_indexer,col_indexer] = value instead\n",
      "\n",
      "See the caveats in the documentation: http://pandas.pydata.org/pandas-docs/stable/indexing.html#indexing-view-versus-copy\n"
     ]
    },
    {
     "name": "stdout",
     "output_type": "stream",
     "text": [
      ">>>>>> buy list (1) : 2012-08-06 00:00:00\n",
      "신일제약(A012790) : 1307\n",
      "\n",
      "\n",
      ">>>>>> enough periods (좋은사람들 : A033340) - (1519 : -0.28) : 366 days 00:00:002012-08-17 00:00:00\n",
      ">>>>>> sell list (1) : 2012-08-17 00:00:00\n",
      "['A033340']\n",
      "\n",
      "\n"
     ]
    },
    {
     "name": "stderr",
     "output_type": "stream",
     "text": [
      "/Users/Shared/anaconda3/anaconda3/lib/python3.7/site-packages/ipykernel_launcher.py:689: SettingWithCopyWarning: \n",
      "A value is trying to be set on a copy of a slice from a DataFrame.\n",
      "Try using .loc[row_indexer,col_indexer] = value instead\n",
      "\n",
      "See the caveats in the documentation: http://pandas.pydata.org/pandas-docs/stable/indexing.html#indexing-view-versus-copy\n"
     ]
    },
    {
     "name": "stdout",
     "output_type": "stream",
     "text": [
      ">>>>>> buy list (1) : 2012-08-17 00:00:00\n",
      "인터엠(A017250) : 2090\n",
      "\n",
      "\n",
      ">>>>>> enough periods (부방 : A014470) - (810 : -0.13) : 366 days 00:00:002012-08-24 00:00:00\n",
      ">>>>>> sell list (1) : 2012-08-24 00:00:00\n",
      "['A014470']\n",
      "\n",
      "\n"
     ]
    },
    {
     "name": "stderr",
     "output_type": "stream",
     "text": [
      "/Users/Shared/anaconda3/anaconda3/lib/python3.7/site-packages/ipykernel_launcher.py:689: SettingWithCopyWarning: \n",
      "A value is trying to be set on a copy of a slice from a DataFrame.\n",
      "Try using .loc[row_indexer,col_indexer] = value instead\n",
      "\n",
      "See the caveats in the documentation: http://pandas.pydata.org/pandas-docs/stable/indexing.html#indexing-view-versus-copy\n"
     ]
    },
    {
     "name": "stdout",
     "output_type": "stream",
     "text": [
      ">>>>>> buy list (1) : 2012-08-24 00:00:00\n",
      "국제약품(A002720) : 1222\n",
      "\n",
      "\n",
      ">>>>>> enough profit (동성제약 : A002210) - (4405 : 0.5) : 2012-08-31 00:00:00\n",
      ">>>>>> sell list (1) : 2012-08-31 00:00:00\n",
      "['A002210']\n",
      "\n",
      "\n"
     ]
    },
    {
     "name": "stderr",
     "output_type": "stream",
     "text": [
      "/Users/Shared/anaconda3/anaconda3/lib/python3.7/site-packages/ipykernel_launcher.py:689: SettingWithCopyWarning: \n",
      "A value is trying to be set on a copy of a slice from a DataFrame.\n",
      "Try using .loc[row_indexer,col_indexer] = value instead\n",
      "\n",
      "See the caveats in the documentation: http://pandas.pydata.org/pandas-docs/stable/indexing.html#indexing-view-versus-copy\n"
     ]
    },
    {
     "name": "stdout",
     "output_type": "stream",
     "text": [
      ">>>>>> buy list (1) : 2012-08-31 00:00:00\n",
      "부방(A014470) : 6358\n",
      "\n",
      "\n",
      ">>>>>> enough profit (파인디지털 : A038950) - (5990 : 0.5) : 2012-09-04 00:00:00\n",
      ">>>>>> enough profit (삼아제약 : A009300) - (9000 : 0.52) : 2012-09-04 00:00:00\n",
      ">>>>>> sell list (2) : 2012-09-04 00:00:00\n",
      "['A038950', 'A009300']\n",
      "\n",
      "\n"
     ]
    },
    {
     "name": "stderr",
     "output_type": "stream",
     "text": [
      "/Users/Shared/anaconda3/anaconda3/lib/python3.7/site-packages/ipykernel_launcher.py:689: SettingWithCopyWarning: \n",
      "A value is trying to be set on a copy of a slice from a DataFrame.\n",
      "Try using .loc[row_indexer,col_indexer] = value instead\n",
      "\n",
      "See the caveats in the documentation: http://pandas.pydata.org/pandas-docs/stable/indexing.html#indexing-view-versus-copy\n"
     ]
    },
    {
     "name": "stdout",
     "output_type": "stream",
     "text": [
      ">>>>>> buy list (2) : 2012-09-04 00:00:00\n",
      "동성제약(A002210) : 1351\n",
      "디아이동일(A001530) : 147\n",
      "\n",
      "\n",
      ">>>>>> enough profit (경동나비엔 : A009450) - (8750 : 0.57) : 2012-09-11 00:00:00\n",
      ">>>>>> sell list (1) : 2012-09-11 00:00:00\n",
      "['A009450']\n",
      "\n",
      "\n"
     ]
    },
    {
     "name": "stderr",
     "output_type": "stream",
     "text": [
      "/Users/Shared/anaconda3/anaconda3/lib/python3.7/site-packages/ipykernel_launcher.py:689: SettingWithCopyWarning: \n",
      "A value is trying to be set on a copy of a slice from a DataFrame.\n",
      "Try using .loc[row_indexer,col_indexer] = value instead\n",
      "\n",
      "See the caveats in the documentation: http://pandas.pydata.org/pandas-docs/stable/indexing.html#indexing-view-versus-copy\n"
     ]
    },
    {
     "name": "stdout",
     "output_type": "stream",
     "text": [
      ">>>>>> buy list (1) : 2012-09-11 00:00:00\n",
      "파인디지털(A038950) : 888\n",
      "\n",
      "\n",
      ">>>>>> enough profit (SG세계물산 : A004060) - (760 : 0.62) : 2012-09-17 00:00:00\n",
      ">>>>>> sell list (1) : 2012-09-17 00:00:00\n",
      "['A004060']\n",
      "\n",
      "\n"
     ]
    },
    {
     "name": "stderr",
     "output_type": "stream",
     "text": [
      "/Users/Shared/anaconda3/anaconda3/lib/python3.7/site-packages/ipykernel_launcher.py:689: SettingWithCopyWarning: \n",
      "A value is trying to be set on a copy of a slice from a DataFrame.\n",
      "Try using .loc[row_indexer,col_indexer] = value instead\n",
      "\n",
      "See the caveats in the documentation: http://pandas.pydata.org/pandas-docs/stable/indexing.html#indexing-view-versus-copy\n"
     ]
    },
    {
     "name": "stdout",
     "output_type": "stream",
     "text": [
      ">>>>>> buy list (1) : 2012-09-17 00:00:00\n",
      "삼아제약(A009300) : 1388\n",
      "\n",
      "\n",
      ">>>>>> enough profit (부방 : A014470) - (1193 : 0.5) : 2012-10-04 00:00:00\n",
      ">>>>>> enough profit (서산 : A079650) - (809 : 0.52) : 2012-10-04 00:00:00\n",
      ">>>>>> sell list (2) : 2012-10-04 00:00:00\n",
      "['A014470', 'A079650']\n",
      "\n",
      "\n"
     ]
    },
    {
     "name": "stderr",
     "output_type": "stream",
     "text": [
      "/Users/Shared/anaconda3/anaconda3/lib/python3.7/site-packages/ipykernel_launcher.py:689: SettingWithCopyWarning: \n",
      "A value is trying to be set on a copy of a slice from a DataFrame.\n",
      "Try using .loc[row_indexer,col_indexer] = value instead\n",
      "\n",
      "See the caveats in the documentation: http://pandas.pydata.org/pandas-docs/stable/indexing.html#indexing-view-versus-copy\n"
     ]
    },
    {
     "name": "stdout",
     "output_type": "stream",
     "text": [
      ">>>>>> buy list (2) : 2012-10-04 00:00:00\n",
      "SG세계물산(A004060) : 19672\n",
      "경동나비엔(A009450) : 1316\n",
      "\n",
      "\n",
      ">>>>>> enough periods (진도 : A088790) - (4695.0 : -0.37) : 366 days 00:00:002012-10-19 00:00:00\n",
      ">>>>>> sell list (1) : 2012-10-19 00:00:00\n",
      "['A088790']\n",
      "\n",
      "\n"
     ]
    },
    {
     "name": "stderr",
     "output_type": "stream",
     "text": [
      "/Users/Shared/anaconda3/anaconda3/lib/python3.7/site-packages/ipykernel_launcher.py:689: SettingWithCopyWarning: \n",
      "A value is trying to be set on a copy of a slice from a DataFrame.\n",
      "Try using .loc[row_indexer,col_indexer] = value instead\n",
      "\n",
      "See the caveats in the documentation: http://pandas.pydata.org/pandas-docs/stable/indexing.html#indexing-view-versus-copy\n"
     ]
    },
    {
     "name": "stdout",
     "output_type": "stream",
     "text": [
      ">>>>>> buy list (1) : 2012-10-19 00:00:00\n",
      "부방(A014470) : 1439\n",
      "\n",
      "\n",
      ">>>>>> enough profit (코리아나 : A027050) - (2510 : 0.57) : 2012-10-24 00:00:00\n",
      ">>>>>> sell list (1) : 2012-10-24 00:00:00\n",
      "['A027050']\n",
      "\n",
      "\n"
     ]
    },
    {
     "name": "stderr",
     "output_type": "stream",
     "text": [
      "/Users/Shared/anaconda3/anaconda3/lib/python3.7/site-packages/ipykernel_launcher.py:689: SettingWithCopyWarning: \n",
      "A value is trying to be set on a copy of a slice from a DataFrame.\n",
      "Try using .loc[row_indexer,col_indexer] = value instead\n",
      "\n",
      "See the caveats in the documentation: http://pandas.pydata.org/pandas-docs/stable/indexing.html#indexing-view-versus-copy\n"
     ]
    },
    {
     "name": "stdout",
     "output_type": "stream",
     "text": [
      ">>>>>> buy list (1) : 2012-10-24 00:00:00\n",
      "서산(A079650) : 6804\n",
      "\n",
      "\n",
      ">>>>>> enough profit (신원 : A009270) - (1800 : 0.55) : 2012-11-01 00:00:00\n",
      ">>>>>> sell list (1) : 2012-11-01 00:00:00\n",
      "['A009270']\n",
      "\n",
      "\n"
     ]
    },
    {
     "name": "stderr",
     "output_type": "stream",
     "text": [
      "/Users/Shared/anaconda3/anaconda3/lib/python3.7/site-packages/ipykernel_launcher.py:689: SettingWithCopyWarning: \n",
      "A value is trying to be set on a copy of a slice from a DataFrame.\n",
      "Try using .loc[row_indexer,col_indexer] = value instead\n",
      "\n",
      "See the caveats in the documentation: http://pandas.pydata.org/pandas-docs/stable/indexing.html#indexing-view-versus-copy\n"
     ]
    },
    {
     "name": "stdout",
     "output_type": "stream",
     "text": [
      ">>>>>> buy list (1) : 2012-11-01 00:00:00\n",
      "코리아나(A027050) : 10260\n",
      "\n",
      "\n",
      ">>>>>> enough profit (신일제약 : A012790) - (5020 : 0.65) : 2012-12-12 00:00:00\n",
      ">>>>>> sell list (1) : 2012-12-12 00:00:00\n",
      "['A012790']\n",
      "\n",
      "\n"
     ]
    },
    {
     "name": "stderr",
     "output_type": "stream",
     "text": [
      "/Users/Shared/anaconda3/anaconda3/lib/python3.7/site-packages/ipykernel_launcher.py:689: SettingWithCopyWarning: \n",
      "A value is trying to be set on a copy of a slice from a DataFrame.\n",
      "Try using .loc[row_indexer,col_indexer] = value instead\n",
      "\n",
      "See the caveats in the documentation: http://pandas.pydata.org/pandas-docs/stable/indexing.html#indexing-view-versus-copy\n"
     ]
    },
    {
     "name": "stdout",
     "output_type": "stream",
     "text": [
      ">>>>>> buy list (1) : 2012-12-12 00:00:00\n",
      "신원(A009270) : 4317\n",
      "\n",
      "\n",
      ">>>>>> enough profit (SG세계물산 : A004060) - (1070 : 0.58) : 2013-01-02 00:00:00\n",
      ">>>>>> sell list (1) : 2013-01-02 00:00:00\n",
      "['A004060']\n",
      "\n",
      "\n"
     ]
    },
    {
     "name": "stderr",
     "output_type": "stream",
     "text": [
      "/Users/Shared/anaconda3/anaconda3/lib/python3.7/site-packages/ipykernel_launcher.py:689: SettingWithCopyWarning: \n",
      "A value is trying to be set on a copy of a slice from a DataFrame.\n",
      "Try using .loc[row_indexer,col_indexer] = value instead\n",
      "\n",
      "See the caveats in the documentation: http://pandas.pydata.org/pandas-docs/stable/indexing.html#indexing-view-versus-copy\n"
     ]
    },
    {
     "name": "stdout",
     "output_type": "stream",
     "text": [
      ">>>>>> buy list (1) : 2013-01-02 00:00:00\n",
      "좋은사람들(A033340) : 15627\n",
      "\n",
      "\n",
      ">>>>>> enough periods (NICE : A034310) - (6680 : 0.34) : 366 days 00:00:002013-02-01 00:00:00\n",
      ">>>>>> sell list (1) : 2013-02-01 00:00:00\n",
      "['A034310']\n",
      "\n",
      "\n"
     ]
    },
    {
     "name": "stderr",
     "output_type": "stream",
     "text": [
      "/Users/Shared/anaconda3/anaconda3/lib/python3.7/site-packages/ipykernel_launcher.py:689: SettingWithCopyWarning: \n",
      "A value is trying to be set on a copy of a slice from a DataFrame.\n",
      "Try using .loc[row_indexer,col_indexer] = value instead\n",
      "\n",
      "See the caveats in the documentation: http://pandas.pydata.org/pandas-docs/stable/indexing.html#indexing-view-versus-copy\n"
     ]
    },
    {
     "name": "stdout",
     "output_type": "stream",
     "text": [
      ">>>>>> buy list (1) : 2013-02-01 00:00:00\n",
      "대현(A016090) : 11120\n",
      "\n",
      "\n",
      ">>>>>> enough periods (신성통상 : A005390) - (926 : -0.39) : 366 days 00:00:002013-02-13 00:00:00\n",
      ">>>>>> enough profit (서산 : A079650) - (1253 : 0.62) : 2013-02-13 00:00:00\n",
      ">>>>>> sell list (2) : 2013-02-13 00:00:00\n",
      "['A005390', 'A079650']\n",
      "\n",
      "\n"
     ]
    },
    {
     "name": "stderr",
     "output_type": "stream",
     "text": [
      "/Users/Shared/anaconda3/anaconda3/lib/python3.7/site-packages/ipykernel_launcher.py:689: SettingWithCopyWarning: \n",
      "A value is trying to be set on a copy of a slice from a DataFrame.\n",
      "Try using .loc[row_indexer,col_indexer] = value instead\n",
      "\n",
      "See the caveats in the documentation: http://pandas.pydata.org/pandas-docs/stable/indexing.html#indexing-view-versus-copy\n"
     ]
    },
    {
     "name": "stdout",
     "output_type": "stream",
     "text": [
      ">>>>>> buy list (2) : 2013-02-13 00:00:00\n",
      "백금T&A(A046310) : 4273\n",
      "F&F(A007700) : 963\n",
      "\n",
      "\n",
      ">>>>>> enough profit (파인디지털 : A038950) - (8950 : 0.5) : 2013-02-14 00:00:00\n",
      ">>>>>> sell list (1) : 2013-02-14 00:00:00\n",
      "['A038950']\n",
      "\n",
      "\n"
     ]
    },
    {
     "name": "stderr",
     "output_type": "stream",
     "text": [
      "/Users/Shared/anaconda3/anaconda3/lib/python3.7/site-packages/ipykernel_launcher.py:689: SettingWithCopyWarning: \n",
      "A value is trying to be set on a copy of a slice from a DataFrame.\n",
      "Try using .loc[row_indexer,col_indexer] = value instead\n",
      "\n",
      "See the caveats in the documentation: http://pandas.pydata.org/pandas-docs/stable/indexing.html#indexing-view-versus-copy\n"
     ]
    },
    {
     "name": "stdout",
     "output_type": "stream",
     "text": [
      ">>>>>> buy list (1) : 2013-02-14 00:00:00\n",
      "서산(A079650) : 6251\n",
      "\n",
      "\n",
      ">>>>>> enough profit (대현 : A016090) - (1745 : 0.5) : 2013-03-13 00:00:00\n",
      ">>>>>> sell list (1) : 2013-03-13 00:00:00\n",
      "['A016090']\n",
      "\n",
      "\n"
     ]
    },
    {
     "name": "stderr",
     "output_type": "stream",
     "text": [
      "/Users/Shared/anaconda3/anaconda3/lib/python3.7/site-packages/ipykernel_launcher.py:689: SettingWithCopyWarning: \n",
      "A value is trying to be set on a copy of a slice from a DataFrame.\n",
      "Try using .loc[row_indexer,col_indexer] = value instead\n",
      "\n",
      "See the caveats in the documentation: http://pandas.pydata.org/pandas-docs/stable/indexing.html#indexing-view-versus-copy\n"
     ]
    },
    {
     "name": "stdout",
     "output_type": "stream",
     "text": [
      ">>>>>> buy list (1) : 2013-03-13 00:00:00\n",
      "삼성출판사(A068290) : 5223\n",
      "\n",
      "\n",
      ">>>>>> enough periods (샘표 : A007540) - (16705 : 0.24) : 368 days 00:00:002013-03-18 00:00:00\n",
      ">>>>>> sell list (1) : 2013-03-18 00:00:00\n",
      "['A007540']\n",
      "\n",
      "\n"
     ]
    },
    {
     "name": "stderr",
     "output_type": "stream",
     "text": [
      "/Users/Shared/anaconda3/anaconda3/lib/python3.7/site-packages/ipykernel_launcher.py:689: SettingWithCopyWarning: \n",
      "A value is trying to be set on a copy of a slice from a DataFrame.\n",
      "Try using .loc[row_indexer,col_indexer] = value instead\n",
      "\n",
      "See the caveats in the documentation: http://pandas.pydata.org/pandas-docs/stable/indexing.html#indexing-view-versus-copy\n"
     ]
    },
    {
     "name": "stdout",
     "output_type": "stream",
     "text": [
      ">>>>>> buy list (1) : 2013-03-18 00:00:00\n",
      "대현(A016090) : 5855\n",
      "\n",
      "\n",
      ">>>>>> enough profit (삼아제약 : A009300) - (14400 : 0.5) : 2013-03-27 00:00:00\n",
      ">>>>>> sell list (1) : 2013-03-27 00:00:00\n",
      "['A009300']\n",
      "\n",
      "\n"
     ]
    },
    {
     "name": "stderr",
     "output_type": "stream",
     "text": [
      "/Users/Shared/anaconda3/anaconda3/lib/python3.7/site-packages/ipykernel_launcher.py:689: SettingWithCopyWarning: \n",
      "A value is trying to be set on a copy of a slice from a DataFrame.\n",
      "Try using .loc[row_indexer,col_indexer] = value instead\n",
      "\n",
      "See the caveats in the documentation: http://pandas.pydata.org/pandas-docs/stable/indexing.html#indexing-view-versus-copy\n"
     ]
    },
    {
     "name": "stdout",
     "output_type": "stream",
     "text": [
      ">>>>>> buy list (1) : 2013-03-27 00:00:00\n",
      "NICE(A034310) : 2523\n",
      "\n",
      "\n",
      ">>>>>> enough periods (제우스 : A079370) - (3433.0 : -0.18) : 366 days 00:00:002013-04-05 00:00:00\n",
      ">>>>>> sell list (1) : 2013-04-05 00:00:00\n",
      "['A079370']\n",
      "\n",
      "\n"
     ]
    },
    {
     "name": "stderr",
     "output_type": "stream",
     "text": [
      "/Users/Shared/anaconda3/anaconda3/lib/python3.7/site-packages/ipykernel_launcher.py:689: SettingWithCopyWarning: \n",
      "A value is trying to be set on a copy of a slice from a DataFrame.\n",
      "Try using .loc[row_indexer,col_indexer] = value instead\n",
      "\n",
      "See the caveats in the documentation: http://pandas.pydata.org/pandas-docs/stable/indexing.html#indexing-view-versus-copy\n"
     ]
    },
    {
     "name": "stdout",
     "output_type": "stream",
     "text": [
      ">>>>>> buy list (1) : 2013-04-05 00:00:00\n",
      "한국수출포장공업(A002200) : 204\n",
      "\n",
      "\n",
      ">>>>>> enough profit (경동나비엔 : A009450) - (15550 : 0.53) : 2013-04-12 00:00:00\n",
      ">>>>>> sell list (1) : 2013-04-12 00:00:00\n",
      "['A009450']\n",
      "\n",
      "\n"
     ]
    },
    {
     "name": "stderr",
     "output_type": "stream",
     "text": [
      "/Users/Shared/anaconda3/anaconda3/lib/python3.7/site-packages/ipykernel_launcher.py:689: SettingWithCopyWarning: \n",
      "A value is trying to be set on a copy of a slice from a DataFrame.\n",
      "Try using .loc[row_indexer,col_indexer] = value instead\n",
      "\n",
      "See the caveats in the documentation: http://pandas.pydata.org/pandas-docs/stable/indexing.html#indexing-view-versus-copy\n"
     ]
    },
    {
     "name": "stdout",
     "output_type": "stream",
     "text": [
      ">>>>>> buy list (1) : 2013-04-12 00:00:00\n",
      "제우스(A079370) : 5924\n",
      "\n",
      "\n",
      ">>>>>> enough profit (부방 : A014470) - (1995 : 0.55) : 2013-04-16 00:00:00\n",
      ">>>>>> enough profit (동성제약 : A002210) - (6650 : 0.51) : 2013-04-16 00:00:00\n",
      ">>>>>> sell list (2) : 2013-04-16 00:00:00\n",
      "['A014470', 'A002210']\n",
      "\n",
      "\n"
     ]
    },
    {
     "name": "stderr",
     "output_type": "stream",
     "text": [
      "/Users/Shared/anaconda3/anaconda3/lib/python3.7/site-packages/ipykernel_launcher.py:689: SettingWithCopyWarning: \n",
      "A value is trying to be set on a copy of a slice from a DataFrame.\n",
      "Try using .loc[row_indexer,col_indexer] = value instead\n",
      "\n",
      "See the caveats in the documentation: http://pandas.pydata.org/pandas-docs/stable/indexing.html#indexing-view-versus-copy\n"
     ]
    },
    {
     "name": "stdout",
     "output_type": "stream",
     "text": [
      ">>>>>> buy list (2) : 2013-04-16 00:00:00\n",
      "화승알앤에이(A013520) : 5132\n",
      "유니셈(A036200) : 5755\n",
      "\n",
      "\n",
      ">>>>>> enough profit (인터엠 : A017250) - (2851 : 0.56) : 2013-05-08 00:00:00\n",
      ">>>>>> sell list (1) : 2013-05-08 00:00:00\n",
      "['A017250']\n",
      "\n",
      "\n"
     ]
    },
    {
     "name": "stderr",
     "output_type": "stream",
     "text": [
      "/Users/Shared/anaconda3/anaconda3/lib/python3.7/site-packages/ipykernel_launcher.py:689: SettingWithCopyWarning: \n",
      "A value is trying to be set on a copy of a slice from a DataFrame.\n",
      "Try using .loc[row_indexer,col_indexer] = value instead\n",
      "\n",
      "See the caveats in the documentation: http://pandas.pydata.org/pandas-docs/stable/indexing.html#indexing-view-versus-copy\n"
     ]
    },
    {
     "name": "stdout",
     "output_type": "stream",
     "text": [
      ">>>>>> buy list (1) : 2013-05-08 00:00:00\n",
      "국동(A005320) : 5084\n",
      "\n",
      "\n",
      ">>>>>> enough profit (현대약품 : A004310) - (2150 : 0.56) : 2013-05-13 00:00:00\n",
      ">>>>>> sell list (1) : 2013-05-13 00:00:00\n",
      "['A004310']\n",
      "\n",
      "\n"
     ]
    },
    {
     "name": "stderr",
     "output_type": "stream",
     "text": [
      "/Users/Shared/anaconda3/anaconda3/lib/python3.7/site-packages/ipykernel_launcher.py:689: SettingWithCopyWarning: \n",
      "A value is trying to be set on a copy of a slice from a DataFrame.\n",
      "Try using .loc[row_indexer,col_indexer] = value instead\n",
      "\n",
      "See the caveats in the documentation: http://pandas.pydata.org/pandas-docs/stable/indexing.html#indexing-view-versus-copy\n"
     ]
    },
    {
     "name": "stdout",
     "output_type": "stream",
     "text": [
      ">>>>>> buy list (1) : 2013-05-13 00:00:00\n",
      "오리콤(A010470) : 4224\n",
      "\n",
      "\n",
      ">>>>>> enough periods (신영와코루 : A005800) - (109000 : 0.16) : 366 days 00:00:002013-05-23 00:00:00\n",
      ">>>>>> sell list (1) : 2013-05-23 00:00:00\n",
      "['A005800']\n",
      "\n",
      "\n"
     ]
    },
    {
     "name": "stderr",
     "output_type": "stream",
     "text": [
      "/Users/Shared/anaconda3/anaconda3/lib/python3.7/site-packages/ipykernel_launcher.py:689: SettingWithCopyWarning: \n",
      "A value is trying to be set on a copy of a slice from a DataFrame.\n",
      "Try using .loc[row_indexer,col_indexer] = value instead\n",
      "\n",
      "See the caveats in the documentation: http://pandas.pydata.org/pandas-docs/stable/indexing.html#indexing-view-versus-copy\n"
     ]
    },
    {
     "name": "stdout",
     "output_type": "stream",
     "text": [
      ">>>>>> buy list (1) : 2013-05-23 00:00:00\n",
      "한화갤러리아타임월드(A027390) : 560\n",
      "\n",
      "\n",
      ">>>>>> enough periods (남영비비안 : A002070) - (6690 : -0.09) : 368 days 00:00:002013-06-17 00:00:00\n",
      ">>>>>> sell list (1) : 2013-06-17 00:00:00\n",
      "['A002070']\n",
      "\n",
      "\n"
     ]
    },
    {
     "name": "stderr",
     "output_type": "stream",
     "text": [
      "/Users/Shared/anaconda3/anaconda3/lib/python3.7/site-packages/ipykernel_launcher.py:689: SettingWithCopyWarning: \n",
      "A value is trying to be set on a copy of a slice from a DataFrame.\n",
      "Try using .loc[row_indexer,col_indexer] = value instead\n",
      "\n",
      "See the caveats in the documentation: http://pandas.pydata.org/pandas-docs/stable/indexing.html#indexing-view-versus-copy\n"
     ]
    },
    {
     "name": "stdout",
     "output_type": "stream",
     "text": [
      ">>>>>> buy list (1) : 2013-06-17 00:00:00\n",
      "신영와코루(A005800) : 49\n",
      "\n",
      "\n",
      ">>>>>> enough periods (에넥스 : A011090) - (571 : -0.4) : 367 days 00:00:002013-07-08 00:00:00\n",
      ">>>>>> sell list (1) : 2013-07-08 00:00:00\n",
      "['A011090']\n",
      "\n",
      "\n"
     ]
    },
    {
     "name": "stderr",
     "output_type": "stream",
     "text": [
      "/Users/Shared/anaconda3/anaconda3/lib/python3.7/site-packages/ipykernel_launcher.py:689: SettingWithCopyWarning: \n",
      "A value is trying to be set on a copy of a slice from a DataFrame.\n",
      "Try using .loc[row_indexer,col_indexer] = value instead\n",
      "\n",
      "See the caveats in the documentation: http://pandas.pydata.org/pandas-docs/stable/indexing.html#indexing-view-versus-copy\n"
     ]
    },
    {
     "name": "stdout",
     "output_type": "stream",
     "text": [
      ">>>>>> buy list (1) : 2013-07-08 00:00:00\n",
      "부방(A014470) : 1160\n",
      "\n",
      "\n",
      ">>>>>> enough profit (삼성출판사 : A068290) - (5800 : 0.56) : 2013-07-18 00:00:00\n",
      ">>>>>> sell list (1) : 2013-07-18 00:00:00\n",
      "['A068290']\n",
      "\n",
      "\n"
     ]
    },
    {
     "name": "stderr",
     "output_type": "stream",
     "text": [
      "/Users/Shared/anaconda3/anaconda3/lib/python3.7/site-packages/ipykernel_launcher.py:689: SettingWithCopyWarning: \n",
      "A value is trying to be set on a copy of a slice from a DataFrame.\n",
      "Try using .loc[row_indexer,col_indexer] = value instead\n",
      "\n",
      "See the caveats in the documentation: http://pandas.pydata.org/pandas-docs/stable/indexing.html#indexing-view-versus-copy\n"
     ]
    },
    {
     "name": "stdout",
     "output_type": "stream",
     "text": [
      ">>>>>> buy list (1) : 2013-07-18 00:00:00\n",
      "아이크래프트(A052460) : 20650\n",
      "\n",
      "\n",
      ">>>>>> enough profit (대현 : A016090) - (2635 : 0.5) : 2013-08-01 00:00:00\n",
      ">>>>>> sell list (1) : 2013-08-01 00:00:00\n",
      "['A016090']\n",
      "\n",
      "\n"
     ]
    },
    {
     "name": "stderr",
     "output_type": "stream",
     "text": [
      "/Users/Shared/anaconda3/anaconda3/lib/python3.7/site-packages/ipykernel_launcher.py:689: SettingWithCopyWarning: \n",
      "A value is trying to be set on a copy of a slice from a DataFrame.\n",
      "Try using .loc[row_indexer,col_indexer] = value instead\n",
      "\n",
      "See the caveats in the documentation: http://pandas.pydata.org/pandas-docs/stable/indexing.html#indexing-view-versus-copy\n"
     ]
    },
    {
     "name": "stdout",
     "output_type": "stream",
     "text": [
      ">>>>>> buy list (1) : 2013-08-01 00:00:00\n",
      "삼성출판사(A068290) : 2660\n",
      "\n",
      "\n",
      ">>>>>> enough profit (NICE : A034310) - (12000 : 0.52) : 2013-08-07 00:00:00\n",
      ">>>>>> sell list (1) : 2013-08-07 00:00:00\n",
      "['A034310']\n",
      "\n",
      "\n"
     ]
    },
    {
     "name": "stderr",
     "output_type": "stream",
     "text": [
      "/Users/Shared/anaconda3/anaconda3/lib/python3.7/site-packages/ipykernel_launcher.py:689: SettingWithCopyWarning: \n",
      "A value is trying to be set on a copy of a slice from a DataFrame.\n",
      "Try using .loc[row_indexer,col_indexer] = value instead\n",
      "\n",
      "See the caveats in the documentation: http://pandas.pydata.org/pandas-docs/stable/indexing.html#indexing-view-versus-copy\n"
     ]
    },
    {
     "name": "stdout",
     "output_type": "stream",
     "text": [
      ">>>>>> buy list (1) : 2013-08-07 00:00:00\n",
      "대현(A016090) : 12459\n",
      "\n",
      "\n",
      ">>>>>> enough profit (부방 : A014470) - (3794 : 0.57) : 2013-08-08 00:00:00\n",
      ">>>>>> sell list (1) : 2013-08-08 00:00:00\n",
      "['A014470']\n",
      "\n",
      "\n"
     ]
    },
    {
     "name": "stderr",
     "output_type": "stream",
     "text": [
      "/Users/Shared/anaconda3/anaconda3/lib/python3.7/site-packages/ipykernel_launcher.py:689: SettingWithCopyWarning: \n",
      "A value is trying to be set on a copy of a slice from a DataFrame.\n",
      "Try using .loc[row_indexer,col_indexer] = value instead\n",
      "\n",
      "See the caveats in the documentation: http://pandas.pydata.org/pandas-docs/stable/indexing.html#indexing-view-versus-copy\n"
     ]
    },
    {
     "name": "stdout",
     "output_type": "stream",
     "text": [
      ">>>>>> buy list (1) : 2013-08-08 00:00:00\n",
      "NICE(A034310) : 350\n",
      "\n",
      "\n",
      ">>>>>> enough periods (국제약품 : A002720) - (1756 : -0.23) : 367 days 00:00:002013-08-26 00:00:00\n",
      ">>>>>> sell list (1) : 2013-08-26 00:00:00\n",
      "['A002720']\n",
      "\n",
      "\n"
     ]
    },
    {
     "name": "stderr",
     "output_type": "stream",
     "text": [
      "/Users/Shared/anaconda3/anaconda3/lib/python3.7/site-packages/ipykernel_launcher.py:689: SettingWithCopyWarning: \n",
      "A value is trying to be set on a copy of a slice from a DataFrame.\n",
      "Try using .loc[row_indexer,col_indexer] = value instead\n",
      "\n",
      "See the caveats in the documentation: http://pandas.pydata.org/pandas-docs/stable/indexing.html#indexing-view-versus-copy\n"
     ]
    },
    {
     "name": "stdout",
     "output_type": "stream",
     "text": [
      ">>>>>> buy list (1) : 2013-08-26 00:00:00\n",
      "부방(A014470) : 650\n",
      "\n",
      "\n",
      ">>>>>> enough periods (디아이동일 : A001530) - (47625 : 0.18) : 366 days 00:00:002013-09-05 00:00:00\n",
      ">>>>>> sell list (1) : 2013-09-05 00:00:00\n",
      "['A001530']\n",
      "\n",
      "\n"
     ]
    },
    {
     "name": "stderr",
     "output_type": "stream",
     "text": [
      "/Users/Shared/anaconda3/anaconda3/lib/python3.7/site-packages/ipykernel_launcher.py:689: SettingWithCopyWarning: \n",
      "A value is trying to be set on a copy of a slice from a DataFrame.\n",
      "Try using .loc[row_indexer,col_indexer] = value instead\n",
      "\n",
      "See the caveats in the documentation: http://pandas.pydata.org/pandas-docs/stable/indexing.html#indexing-view-versus-copy\n"
     ]
    },
    {
     "name": "stdout",
     "output_type": "stream",
     "text": [
      ">>>>>> buy list (1) : 2013-09-05 00:00:00\n",
      "영풍제지(A006740) : 3432\n",
      "\n",
      "\n",
      ">>>>>> enough profit (화승알앤에이 : A013520) - (1745 : 0.51) : 2013-10-04 00:00:00\n",
      ">>>>>> sell list (1) : 2013-10-04 00:00:00\n",
      "['A013520']\n",
      "\n",
      "\n"
     ]
    },
    {
     "name": "stderr",
     "output_type": "stream",
     "text": [
      "/Users/Shared/anaconda3/anaconda3/lib/python3.7/site-packages/ipykernel_launcher.py:689: SettingWithCopyWarning: \n",
      "A value is trying to be set on a copy of a slice from a DataFrame.\n",
      "Try using .loc[row_indexer,col_indexer] = value instead\n",
      "\n",
      "See the caveats in the documentation: http://pandas.pydata.org/pandas-docs/stable/indexing.html#indexing-view-versus-copy\n"
     ]
    },
    {
     "name": "stdout",
     "output_type": "stream",
     "text": [
      ">>>>>> buy list (1) : 2013-10-04 00:00:00\n",
      "대웅(A003090) : 1211\n",
      "\n",
      "\n",
      ">>>>>> enough periods (코리아나 : A027050) - (1720 : -0.2) : 368 days 00:00:002013-11-04 00:00:00\n",
      ">>>>>> sell list (1) : 2013-11-04 00:00:00\n",
      "['A027050']\n",
      "\n",
      "\n"
     ]
    },
    {
     "name": "stderr",
     "output_type": "stream",
     "text": [
      "/Users/Shared/anaconda3/anaconda3/lib/python3.7/site-packages/ipykernel_launcher.py:689: SettingWithCopyWarning: \n",
      "A value is trying to be set on a copy of a slice from a DataFrame.\n",
      "Try using .loc[row_indexer,col_indexer] = value instead\n",
      "\n",
      "See the caveats in the documentation: http://pandas.pydata.org/pandas-docs/stable/indexing.html#indexing-view-versus-copy\n"
     ]
    },
    {
     "name": "stdout",
     "output_type": "stream",
     "text": [
      ">>>>>> buy list (1) : 2013-11-04 00:00:00\n",
      "화승알앤에이(A013520) : 9944\n",
      "\n",
      "\n",
      ">>>>>> enough profit (제우스 : A079370) - (5782.0 : 0.67) : 2013-11-29 00:00:00\n",
      ">>>>>> sell list (1) : 2013-11-29 00:00:00\n",
      "['A079370']\n",
      "\n",
      "\n"
     ]
    },
    {
     "name": "stderr",
     "output_type": "stream",
     "text": [
      "/Users/Shared/anaconda3/anaconda3/lib/python3.7/site-packages/ipykernel_launcher.py:689: SettingWithCopyWarning: \n",
      "A value is trying to be set on a copy of a slice from a DataFrame.\n",
      "Try using .loc[row_indexer,col_indexer] = value instead\n",
      "\n",
      "See the caveats in the documentation: http://pandas.pydata.org/pandas-docs/stable/indexing.html#indexing-view-versus-copy\n"
     ]
    },
    {
     "name": "stdout",
     "output_type": "stream",
     "text": [
      ">>>>>> buy list (1) : 2013-11-29 00:00:00\n",
      "태광산업(A003240) : 28\n",
      "\n",
      "\n",
      ">>>>>> enough periods (신원 : A009270) - (1080 : -0.29) : 366 days 00:00:002013-12-13 00:00:00\n",
      ">>>>>> sell list (1) : 2013-12-13 00:00:00\n",
      "['A009270']\n",
      "\n",
      "\n"
     ]
    },
    {
     "name": "stderr",
     "output_type": "stream",
     "text": [
      "/Users/Shared/anaconda3/anaconda3/lib/python3.7/site-packages/ipykernel_launcher.py:689: SettingWithCopyWarning: \n",
      "A value is trying to be set on a copy of a slice from a DataFrame.\n",
      "Try using .loc[row_indexer,col_indexer] = value instead\n",
      "\n",
      "See the caveats in the documentation: http://pandas.pydata.org/pandas-docs/stable/indexing.html#indexing-view-versus-copy\n"
     ]
    },
    {
     "name": "stdout",
     "output_type": "stream",
     "text": [
      ">>>>>> buy list (1) : 2013-12-13 00:00:00\n",
      "제우스(A079370) : 856\n",
      "\n",
      "\n",
      ">>>>>> enough periods (좋은사람들 : A033340) - (1130 : -0.16) : 366 days 00:00:002014-01-03 00:00:00\n",
      ">>>>>> sell list (1) : 2014-01-03 00:00:00\n",
      "['A033340']\n",
      "\n",
      "\n"
     ]
    },
    {
     "name": "stderr",
     "output_type": "stream",
     "text": [
      "/Users/Shared/anaconda3/anaconda3/lib/python3.7/site-packages/ipykernel_launcher.py:689: SettingWithCopyWarning: \n",
      "A value is trying to be set on a copy of a slice from a DataFrame.\n",
      "Try using .loc[row_indexer,col_indexer] = value instead\n",
      "\n",
      "See the caveats in the documentation: http://pandas.pydata.org/pandas-docs/stable/indexing.html#indexing-view-versus-copy\n"
     ]
    },
    {
     "name": "stdout",
     "output_type": "stream",
     "text": [
      ">>>>>> buy list (1) : 2014-01-03 00:00:00\n",
      "삼일제약(A000520) : 3358\n",
      "\n",
      "\n",
      ">>>>>> enough periods (F&F : A007700) - (7340 : 0.21) : 366 days 00:00:002014-02-14 00:00:00\n",
      ">>>>>> enough periods (백금T&A : A046310) - (1003 : -0.27) : 366 days 00:00:002014-02-14 00:00:00\n",
      ">>>>>> sell list (2) : 2014-02-14 00:00:00\n",
      "['A007700', 'A046310']\n",
      "\n",
      "\n"
     ]
    },
    {
     "name": "stderr",
     "output_type": "stream",
     "text": [
      "/Users/Shared/anaconda3/anaconda3/lib/python3.7/site-packages/ipykernel_launcher.py:689: SettingWithCopyWarning: \n",
      "A value is trying to be set on a copy of a slice from a DataFrame.\n",
      "Try using .loc[row_indexer,col_indexer] = value instead\n",
      "\n",
      "See the caveats in the documentation: http://pandas.pydata.org/pandas-docs/stable/indexing.html#indexing-view-versus-copy\n"
     ]
    },
    {
     "name": "stdout",
     "output_type": "stream",
     "text": [
      ">>>>>> buy list (2) : 2014-02-14 00:00:00\n",
      "좋은사람들(A033340) : 4881\n",
      "국제약품(A002720) : 3005\n",
      "\n",
      "\n",
      ">>>>>> enough periods (서산 : A079650) - (1229 : -0.03) : 368 days 00:00:002014-02-17 00:00:00\n",
      ">>>>>> sell list (1) : 2014-02-17 00:00:00\n",
      "['A079650']\n",
      "\n",
      "\n"
     ]
    },
    {
     "name": "stderr",
     "output_type": "stream",
     "text": [
      "/Users/Shared/anaconda3/anaconda3/lib/python3.7/site-packages/ipykernel_launcher.py:689: SettingWithCopyWarning: \n",
      "A value is trying to be set on a copy of a slice from a DataFrame.\n",
      "Try using .loc[row_indexer,col_indexer] = value instead\n",
      "\n",
      "See the caveats in the documentation: http://pandas.pydata.org/pandas-docs/stable/indexing.html#indexing-view-versus-copy\n"
     ]
    },
    {
     "name": "stdout",
     "output_type": "stream",
     "text": [
      ">>>>>> buy list (1) : 2014-02-17 00:00:00\n",
      "현대약품(A004310) : 4051\n",
      "\n",
      "\n",
      ">>>>>> enough profit (제우스 : A079370) - (9743.0 : 0.51) : 2014-02-28 00:00:00\n",
      ">>>>>> sell list (1) : 2014-02-28 00:00:00\n",
      "['A079370']\n",
      "\n",
      "\n"
     ]
    },
    {
     "name": "stderr",
     "output_type": "stream",
     "text": [
      "/Users/Shared/anaconda3/anaconda3/lib/python3.7/site-packages/ipykernel_launcher.py:689: SettingWithCopyWarning: \n",
      "A value is trying to be set on a copy of a slice from a DataFrame.\n",
      "Try using .loc[row_indexer,col_indexer] = value instead\n",
      "\n",
      "See the caveats in the documentation: http://pandas.pydata.org/pandas-docs/stable/indexing.html#indexing-view-versus-copy\n"
     ]
    },
    {
     "name": "stdout",
     "output_type": "stream",
     "text": [
      ">>>>>> buy list (1) : 2014-02-28 00:00:00\n",
      "샘표(A007540) : 525\n",
      "\n",
      "\n",
      ">>>>>> enough profit (유니셈 : A036200) - (1619 : 0.57) : 2014-03-21 00:00:00\n",
      ">>>>>> sell list (1) : 2014-03-21 00:00:00\n",
      "['A036200']\n",
      "\n",
      "\n"
     ]
    },
    {
     "name": "stderr",
     "output_type": "stream",
     "text": [
      "/Users/Shared/anaconda3/anaconda3/lib/python3.7/site-packages/ipykernel_launcher.py:689: SettingWithCopyWarning: \n",
      "A value is trying to be set on a copy of a slice from a DataFrame.\n",
      "Try using .loc[row_indexer,col_indexer] = value instead\n",
      "\n",
      "See the caveats in the documentation: http://pandas.pydata.org/pandas-docs/stable/indexing.html#indexing-view-versus-copy\n"
     ]
    },
    {
     "name": "stdout",
     "output_type": "stream",
     "text": [
      ">>>>>> buy list (1) : 2014-03-21 00:00:00\n",
      "한국전자금융(A063570) : 2920\n",
      "\n",
      "\n",
      ">>>>>> enough profit (국동 : A005320) - (1924 : 0.64) : 2014-03-31 00:00:00\n",
      ">>>>>> sell list (1) : 2014-03-31 00:00:00\n",
      "['A005320']\n",
      "\n",
      "\n"
     ]
    },
    {
     "name": "stderr",
     "output_type": "stream",
     "text": [
      "/Users/Shared/anaconda3/anaconda3/lib/python3.7/site-packages/ipykernel_launcher.py:689: SettingWithCopyWarning: \n",
      "A value is trying to be set on a copy of a slice from a DataFrame.\n",
      "Try using .loc[row_indexer,col_indexer] = value instead\n",
      "\n",
      "See the caveats in the documentation: http://pandas.pydata.org/pandas-docs/stable/indexing.html#indexing-view-versus-copy\n"
     ]
    },
    {
     "name": "stdout",
     "output_type": "stream",
     "text": [
      ">>>>>> buy list (1) : 2014-03-31 00:00:00\n",
      "지엔코(A065060) : 7383\n",
      "\n",
      "\n",
      ">>>>>> enough profit (부방 : A014470) - (5070 : 0.53) : 2014-04-01 00:00:00\n",
      ">>>>>> sell list (1) : 2014-04-01 00:00:00\n",
      "['A014470']\n",
      "\n",
      "\n"
     ]
    },
    {
     "name": "stderr",
     "output_type": "stream",
     "text": [
      "/Users/Shared/anaconda3/anaconda3/lib/python3.7/site-packages/ipykernel_launcher.py:689: SettingWithCopyWarning: \n",
      "A value is trying to be set on a copy of a slice from a DataFrame.\n",
      "Try using .loc[row_indexer,col_indexer] = value instead\n",
      "\n",
      "See the caveats in the documentation: http://pandas.pydata.org/pandas-docs/stable/indexing.html#indexing-view-versus-copy\n"
     ]
    },
    {
     "name": "stdout",
     "output_type": "stream",
     "text": [
      ">>>>>> buy list (1) : 2014-04-01 00:00:00\n",
      "한국경제TV(A039340) : 1708\n",
      "\n",
      "\n",
      ">>>>>> enough periods (한국수출포장공업 : A002200) - (21550 : -0.04) : 367 days 00:00:002014-04-07 00:00:00\n",
      ">>>>>> sell list (1) : 2014-04-07 00:00:00\n",
      "['A002200']\n",
      "\n",
      "\n"
     ]
    },
    {
     "name": "stderr",
     "output_type": "stream",
     "text": [
      "/Users/Shared/anaconda3/anaconda3/lib/python3.7/site-packages/ipykernel_launcher.py:689: SettingWithCopyWarning: \n",
      "A value is trying to be set on a copy of a slice from a DataFrame.\n",
      "Try using .loc[row_indexer,col_indexer] = value instead\n",
      "\n",
      "See the caveats in the documentation: http://pandas.pydata.org/pandas-docs/stable/indexing.html#indexing-view-versus-copy\n"
     ]
    },
    {
     "name": "stdout",
     "output_type": "stream",
     "text": [
      ">>>>>> buy list (1) : 2014-04-07 00:00:00\n",
      "코리아나(A027050) : 2882\n",
      "\n",
      "\n",
      ">>>>>> enough profit (화승알앤에이 : A013520) - (2670 : 0.5) : 2014-05-13 00:00:00\n",
      ">>>>>> sell list (1) : 2014-05-13 00:00:00\n",
      "['A013520']\n",
      "\n",
      "\n"
     ]
    },
    {
     "name": "stderr",
     "output_type": "stream",
     "text": [
      "/Users/Shared/anaconda3/anaconda3/lib/python3.7/site-packages/ipykernel_launcher.py:689: SettingWithCopyWarning: \n",
      "A value is trying to be set on a copy of a slice from a DataFrame.\n",
      "Try using .loc[row_indexer,col_indexer] = value instead\n",
      "\n",
      "See the caveats in the documentation: http://pandas.pydata.org/pandas-docs/stable/indexing.html#indexing-view-versus-copy\n"
     ]
    },
    {
     "name": "stdout",
     "output_type": "stream",
     "text": [
      ">>>>>> buy list (1) : 2014-05-13 00:00:00\n",
      "디아이동일(A001530) : 389\n",
      "\n",
      "\n",
      ">>>>>> enough periods (오리콤 : A010470) - (3160 : -0.02) : 366 days 00:00:002014-05-14 00:00:00\n",
      ">>>>>> sell list (1) : 2014-05-14 00:00:00\n",
      "['A010470']\n",
      "\n",
      "\n"
     ]
    },
    {
     "name": "stderr",
     "output_type": "stream",
     "text": [
      "/Users/Shared/anaconda3/anaconda3/lib/python3.7/site-packages/ipykernel_launcher.py:689: SettingWithCopyWarning: \n",
      "A value is trying to be set on a copy of a slice from a DataFrame.\n",
      "Try using .loc[row_indexer,col_indexer] = value instead\n",
      "\n",
      "See the caveats in the documentation: http://pandas.pydata.org/pandas-docs/stable/indexing.html#indexing-view-versus-copy\n"
     ]
    },
    {
     "name": "stdout",
     "output_type": "stream",
     "text": [
      ">>>>>> buy list (1) : 2014-05-14 00:00:00\n",
      "서산(A079650) : 8980\n",
      "\n",
      "\n",
      ">>>>>> enough periods (한화갤러리아타임월드 : A027390) - (33350 : -0.09) : 368 days 00:00:002014-05-26 00:00:00\n",
      ">>>>>> sell list (1) : 2014-05-26 00:00:00\n",
      "['A027390']\n",
      "\n",
      "\n"
     ]
    },
    {
     "name": "stderr",
     "output_type": "stream",
     "text": [
      "/Users/Shared/anaconda3/anaconda3/lib/python3.7/site-packages/ipykernel_launcher.py:689: SettingWithCopyWarning: \n",
      "A value is trying to be set on a copy of a slice from a DataFrame.\n",
      "Try using .loc[row_indexer,col_indexer] = value instead\n",
      "\n",
      "See the caveats in the documentation: http://pandas.pydata.org/pandas-docs/stable/indexing.html#indexing-view-versus-copy\n"
     ]
    },
    {
     "name": "stdout",
     "output_type": "stream",
     "text": [
      ">>>>>> buy list (1) : 2014-05-26 00:00:00\n",
      "오리콤(A010470) : 5872\n",
      "\n",
      "\n",
      ">>>>>> enough periods (신영와코루 : A005800) - (102500 : 0.04) : 366 days 00:00:002014-06-18 00:00:00\n",
      ">>>>>> sell list (1) : 2014-06-18 00:00:00\n",
      "['A005800']\n",
      "\n",
      "\n"
     ]
    },
    {
     "name": "stderr",
     "output_type": "stream",
     "text": [
      "/Users/Shared/anaconda3/anaconda3/lib/python3.7/site-packages/ipykernel_launcher.py:689: SettingWithCopyWarning: \n",
      "A value is trying to be set on a copy of a slice from a DataFrame.\n",
      "Try using .loc[row_indexer,col_indexer] = value instead\n",
      "\n",
      "See the caveats in the documentation: http://pandas.pydata.org/pandas-docs/stable/indexing.html#indexing-view-versus-copy\n"
     ]
    },
    {
     "name": "stdout",
     "output_type": "stream",
     "text": [
      ">>>>>> buy list (1) : 2014-06-18 00:00:00\n",
      "F&F(A007700) : 601\n",
      "\n",
      "\n",
      ">>>>>> enough profit (코리아나 : A027050) - (2405 : 0.58) : 2014-07-14 00:00:00\n",
      ">>>>>> sell list (1) : 2014-07-14 00:00:00\n",
      "['A027050']\n",
      "\n",
      "\n"
     ]
    },
    {
     "name": "stderr",
     "output_type": "stream",
     "text": [
      "/Users/Shared/anaconda3/anaconda3/lib/python3.7/site-packages/ipykernel_launcher.py:689: SettingWithCopyWarning: \n",
      "A value is trying to be set on a copy of a slice from a DataFrame.\n",
      "Try using .loc[row_indexer,col_indexer] = value instead\n",
      "\n",
      "See the caveats in the documentation: http://pandas.pydata.org/pandas-docs/stable/indexing.html#indexing-view-versus-copy\n"
     ]
    },
    {
     "name": "stdout",
     "output_type": "stream",
     "text": [
      ">>>>>> buy list (1) : 2014-07-14 00:00:00\n",
      "신영와코루(A005800) : 62\n",
      "\n",
      "\n",
      ">>>>>> enough periods (아이크래프트 : A052460) - (1627 : 0.11) : 368 days 00:00:002014-07-21 00:00:00\n",
      ">>>>>> sell list (1) : 2014-07-21 00:00:00\n",
      "['A052460']\n",
      "\n",
      "\n"
     ]
    },
    {
     "name": "stderr",
     "output_type": "stream",
     "text": [
      "/Users/Shared/anaconda3/anaconda3/lib/python3.7/site-packages/ipykernel_launcher.py:689: SettingWithCopyWarning: \n",
      "A value is trying to be set on a copy of a slice from a DataFrame.\n",
      "Try using .loc[row_indexer,col_indexer] = value instead\n",
      "\n",
      "See the caveats in the documentation: http://pandas.pydata.org/pandas-docs/stable/indexing.html#indexing-view-versus-copy\n"
     ]
    },
    {
     "name": "stdout",
     "output_type": "stream",
     "text": [
      ">>>>>> buy list (1) : 2014-07-21 00:00:00\n",
      "코리아나(A027050) : 11486\n",
      "\n",
      "\n",
      ">>>>>> enough profit (삼성출판사 : A068290) - (8750 : 0.51) : 2014-07-22 00:00:00\n",
      ">>>>>> sell list (1) : 2014-07-22 00:00:00\n",
      "['A068290']\n",
      "\n",
      "\n"
     ]
    },
    {
     "name": "stderr",
     "output_type": "stream",
     "text": [
      "/Users/Shared/anaconda3/anaconda3/lib/python3.7/site-packages/ipykernel_launcher.py:689: SettingWithCopyWarning: \n",
      "A value is trying to be set on a copy of a slice from a DataFrame.\n",
      "Try using .loc[row_indexer,col_indexer] = value instead\n",
      "\n",
      "See the caveats in the documentation: http://pandas.pydata.org/pandas-docs/stable/indexing.html#indexing-view-versus-copy\n"
     ]
    },
    {
     "name": "stdout",
     "output_type": "stream",
     "text": [
      ">>>>>> buy list (1) : 2014-07-22 00:00:00\n",
      "국동(A005320) : 5090\n",
      "\n",
      "\n",
      ">>>>>> enough profit (현대약품 : A004310) - (2889 : 0.52) : 2014-07-28 00:00:00\n",
      ">>>>>> sell list (1) : 2014-07-28 00:00:00\n",
      "['A004310']\n",
      "\n",
      "\n"
     ]
    },
    {
     "name": "stderr",
     "output_type": "stream",
     "text": [
      "/Users/Shared/anaconda3/anaconda3/lib/python3.7/site-packages/ipykernel_launcher.py:689: SettingWithCopyWarning: \n",
      "A value is trying to be set on a copy of a slice from a DataFrame.\n",
      "Try using .loc[row_indexer,col_indexer] = value instead\n",
      "\n",
      "See the caveats in the documentation: http://pandas.pydata.org/pandas-docs/stable/indexing.html#indexing-view-versus-copy\n"
     ]
    },
    {
     "name": "stdout",
     "output_type": "stream",
     "text": [
      ">>>>>> buy list (1) : 2014-07-28 00:00:00\n",
      "삼성출판사(A068290) : 1395\n",
      "\n",
      "\n",
      ">>>>>> enough periods (대현 : A016090) - (1875 : -0.23) : 366 days 00:00:002014-08-08 00:00:00\n",
      ">>>>>> sell list (1) : 2014-08-08 00:00:00\n",
      "['A016090']\n",
      "\n",
      "\n"
     ]
    },
    {
     "name": "stderr",
     "output_type": "stream",
     "text": [
      "/Users/Shared/anaconda3/anaconda3/lib/python3.7/site-packages/ipykernel_launcher.py:689: SettingWithCopyWarning: \n",
      "A value is trying to be set on a copy of a slice from a DataFrame.\n",
      "Try using .loc[row_indexer,col_indexer] = value instead\n",
      "\n",
      "See the caveats in the documentation: http://pandas.pydata.org/pandas-docs/stable/indexing.html#indexing-view-versus-copy\n"
     ]
    },
    {
     "name": "stdout",
     "output_type": "stream",
     "text": [
      ">>>>>> buy list (1) : 2014-08-08 00:00:00\n",
      "현대약품(A004310) : 9455\n",
      "\n",
      "\n",
      ">>>>>> enough periods (NICE : A034310) - (13400 : 0.07) : 368 days 00:00:002014-08-11 00:00:00\n",
      ">>>>>> sell list (1) : 2014-08-11 00:00:00\n",
      "['A034310']\n",
      "\n",
      "\n"
     ]
    },
    {
     "name": "stderr",
     "output_type": "stream",
     "text": [
      "/Users/Shared/anaconda3/anaconda3/lib/python3.7/site-packages/ipykernel_launcher.py:689: SettingWithCopyWarning: \n",
      "A value is trying to be set on a copy of a slice from a DataFrame.\n",
      "Try using .loc[row_indexer,col_indexer] = value instead\n",
      "\n",
      "See the caveats in the documentation: http://pandas.pydata.org/pandas-docs/stable/indexing.html#indexing-view-versus-copy\n"
     ]
    },
    {
     "name": "stdout",
     "output_type": "stream",
     "text": [
      ">>>>>> buy list (1) : 2014-08-11 00:00:00\n",
      "아이즈비전(A031310) : 1474\n",
      "\n",
      "\n",
      ">>>>>> enough periods (영풍제지 : A006740) - (2285.0 : 0.12) : 371 days 00:00:002014-09-11 00:00:00\n",
      ">>>>>> sell list (1) : 2014-09-11 00:00:00\n",
      "['A006740']\n",
      "\n",
      "\n"
     ]
    },
    {
     "name": "stderr",
     "output_type": "stream",
     "text": [
      "/Users/Shared/anaconda3/anaconda3/lib/python3.7/site-packages/ipykernel_launcher.py:689: SettingWithCopyWarning: \n",
      "A value is trying to be set on a copy of a slice from a DataFrame.\n",
      "Try using .loc[row_indexer,col_indexer] = value instead\n",
      "\n",
      "See the caveats in the documentation: http://pandas.pydata.org/pandas-docs/stable/indexing.html#indexing-view-versus-copy\n"
     ]
    },
    {
     "name": "stdout",
     "output_type": "stream",
     "text": [
      ">>>>>> buy list (1) : 2014-09-11 00:00:00\n",
      "동화약품(A000020) : 1400\n",
      "\n",
      "\n",
      ">>>>>> enough profit (F&F : A007700) - (12850 : 0.54) : 2014-09-22 00:00:00\n",
      ">>>>>> sell list (1) : 2014-09-22 00:00:00\n",
      "['A007700']\n",
      "\n",
      "\n"
     ]
    },
    {
     "name": "stderr",
     "output_type": "stream",
     "text": [
      "/Users/Shared/anaconda3/anaconda3/lib/python3.7/site-packages/ipykernel_launcher.py:689: SettingWithCopyWarning: \n",
      "A value is trying to be set on a copy of a slice from a DataFrame.\n",
      "Try using .loc[row_indexer,col_indexer] = value instead\n",
      "\n",
      "See the caveats in the documentation: http://pandas.pydata.org/pandas-docs/stable/indexing.html#indexing-view-versus-copy\n"
     ]
    },
    {
     "name": "stdout",
     "output_type": "stream",
     "text": [
      ">>>>>> buy list (1) : 2014-09-22 00:00:00\n",
      "경농(A002100) : 1425\n",
      "\n",
      "\n",
      ">>>>>> enough periods (대웅 : A003090) - (8948 : 0.21) : 367 days 00:00:002014-10-06 00:00:00\n",
      ">>>>>> sell list (1) : 2014-10-06 00:00:00\n",
      "['A003090']\n",
      "\n",
      "\n"
     ]
    },
    {
     "name": "stderr",
     "output_type": "stream",
     "text": [
      "/Users/Shared/anaconda3/anaconda3/lib/python3.7/site-packages/ipykernel_launcher.py:689: SettingWithCopyWarning: \n",
      "A value is trying to be set on a copy of a slice from a DataFrame.\n",
      "Try using .loc[row_indexer,col_indexer] = value instead\n",
      "\n",
      "See the caveats in the documentation: http://pandas.pydata.org/pandas-docs/stable/indexing.html#indexing-view-versus-copy\n"
     ]
    },
    {
     "name": "stdout",
     "output_type": "stream",
     "text": [
      ">>>>>> buy list (1) : 2014-10-06 00:00:00\n",
      "F&F(A007700) : 863\n",
      "\n",
      "\n",
      ">>>>>> enough profit (오리콤 : A010470) - (4840 : 0.52) : 2014-10-07 00:00:00\n",
      ">>>>>> sell list (1) : 2014-10-07 00:00:00\n",
      "['A010470']\n",
      "\n",
      "\n"
     ]
    },
    {
     "name": "stderr",
     "output_type": "stream",
     "text": [
      "/Users/Shared/anaconda3/anaconda3/lib/python3.7/site-packages/ipykernel_launcher.py:689: SettingWithCopyWarning: \n",
      "A value is trying to be set on a copy of a slice from a DataFrame.\n",
      "Try using .loc[row_indexer,col_indexer] = value instead\n",
      "\n",
      "See the caveats in the documentation: http://pandas.pydata.org/pandas-docs/stable/indexing.html#indexing-view-versus-copy\n"
     ]
    },
    {
     "name": "stdout",
     "output_type": "stream",
     "text": [
      ">>>>>> buy list (1) : 2014-10-07 00:00:00\n",
      "NE능률(A053290) : 8252\n",
      "\n",
      "\n",
      ">>>>>> enough profit (샘표 : A007540) - (24952 : 0.57) : 2014-10-22 00:00:00\n",
      ">>>>>> sell list (1) : 2014-10-22 00:00:00\n",
      "['A007540']\n",
      "\n",
      "\n"
     ]
    },
    {
     "name": "stderr",
     "output_type": "stream",
     "text": [
      "/Users/Shared/anaconda3/anaconda3/lib/python3.7/site-packages/ipykernel_launcher.py:689: SettingWithCopyWarning: \n",
      "A value is trying to be set on a copy of a slice from a DataFrame.\n",
      "Try using .loc[row_indexer,col_indexer] = value instead\n",
      "\n",
      "See the caveats in the documentation: http://pandas.pydata.org/pandas-docs/stable/indexing.html#indexing-view-versus-copy\n"
     ]
    },
    {
     "name": "stdout",
     "output_type": "stream",
     "text": [
      ">>>>>> buy list (1) : 2014-10-22 00:00:00\n",
      "오리콤(A010470) : 2772\n",
      "\n",
      "\n",
      ">>>>>> enough profit (한국경제TV : A039340) - (2940 : 0.52) : 2014-11-13 00:00:00\n",
      ">>>>>> sell list (1) : 2014-11-13 00:00:00\n",
      "['A039340']\n",
      "\n",
      "\n"
     ]
    },
    {
     "name": "stderr",
     "output_type": "stream",
     "text": [
      "/Users/Shared/anaconda3/anaconda3/lib/python3.7/site-packages/ipykernel_launcher.py:689: SettingWithCopyWarning: \n",
      "A value is trying to be set on a copy of a slice from a DataFrame.\n",
      "Try using .loc[row_indexer,col_indexer] = value instead\n",
      "\n",
      "See the caveats in the documentation: http://pandas.pydata.org/pandas-docs/stable/indexing.html#indexing-view-versus-copy\n"
     ]
    },
    {
     "name": "stdout",
     "output_type": "stream",
     "text": [
      ">>>>>> buy list (1) : 2014-11-13 00:00:00\n",
      "샘표(A007540) : 253\n",
      "\n",
      "\n",
      ">>>>>> enough periods (태광산업 : A003240) - (1169000 : -0.02) : 367 days 00:00:002014-12-01 00:00:00\n",
      ">>>>>> sell list (1) : 2014-12-01 00:00:00\n",
      "['A003240']\n",
      "\n",
      "\n"
     ]
    },
    {
     "name": "stderr",
     "output_type": "stream",
     "text": [
      "/Users/Shared/anaconda3/anaconda3/lib/python3.7/site-packages/ipykernel_launcher.py:689: SettingWithCopyWarning: \n",
      "A value is trying to be set on a copy of a slice from a DataFrame.\n",
      "Try using .loc[row_indexer,col_indexer] = value instead\n",
      "\n",
      "See the caveats in the documentation: http://pandas.pydata.org/pandas-docs/stable/indexing.html#indexing-view-versus-copy\n"
     ]
    },
    {
     "name": "stdout",
     "output_type": "stream",
     "text": [
      ">>>>>> buy list (1) : 2014-12-01 00:00:00\n",
      "한국경제TV(A039340) : 11549\n",
      "\n",
      "\n",
      ">>>>>> enough periods (삼일제약 : A000520) - (5308 : 0.01) : 367 days 00:00:002015-01-05 00:00:00\n",
      ">>>>>> sell list (1) : 2015-01-05 00:00:00\n",
      "['A000520']\n",
      "\n",
      "\n"
     ]
    },
    {
     "name": "stderr",
     "output_type": "stream",
     "text": [
      "/Users/Shared/anaconda3/anaconda3/lib/python3.7/site-packages/ipykernel_launcher.py:689: SettingWithCopyWarning: \n",
      "A value is trying to be set on a copy of a slice from a DataFrame.\n",
      "Try using .loc[row_indexer,col_indexer] = value instead\n",
      "\n",
      "See the caveats in the documentation: http://pandas.pydata.org/pandas-docs/stable/indexing.html#indexing-view-versus-copy\n"
     ]
    },
    {
     "name": "stdout",
     "output_type": "stream",
     "text": [
      ">>>>>> buy list (1) : 2015-01-05 00:00:00\n",
      "진도(A088790) : 5321\n",
      "\n",
      "\n",
      ">>>>>> enough profit (코리아나 : A027050) - (4530 : 0.55) : 2015-02-11 00:00:00\n",
      ">>>>>> sell list (1) : 2015-02-11 00:00:00\n",
      "['A027050']\n",
      "\n",
      "\n"
     ]
    },
    {
     "name": "stderr",
     "output_type": "stream",
     "text": [
      "/Users/Shared/anaconda3/anaconda3/lib/python3.7/site-packages/ipykernel_launcher.py:689: SettingWithCopyWarning: \n",
      "A value is trying to be set on a copy of a slice from a DataFrame.\n",
      "Try using .loc[row_indexer,col_indexer] = value instead\n",
      "\n",
      "See the caveats in the documentation: http://pandas.pydata.org/pandas-docs/stable/indexing.html#indexing-view-versus-copy\n"
     ]
    },
    {
     "name": "stdout",
     "output_type": "stream",
     "text": [
      ">>>>>> buy list (1) : 2015-02-11 00:00:00\n",
      "백금T&A(A046310) : 19913\n",
      "\n",
      "\n",
      ">>>>>> enough profit (서산 : A079650) - (2331 : 0.56) : 2015-02-13 00:00:00\n",
      ">>>>>> sell list (1) : 2015-02-13 00:00:00\n",
      "['A079650']\n",
      "\n",
      "\n"
     ]
    },
    {
     "name": "stderr",
     "output_type": "stream",
     "text": [
      "/Users/Shared/anaconda3/anaconda3/lib/python3.7/site-packages/ipykernel_launcher.py:689: SettingWithCopyWarning: \n",
      "A value is trying to be set on a copy of a slice from a DataFrame.\n",
      "Try using .loc[row_indexer,col_indexer] = value instead\n",
      "\n",
      "See the caveats in the documentation: http://pandas.pydata.org/pandas-docs/stable/indexing.html#indexing-view-versus-copy\n"
     ]
    },
    {
     "name": "stdout",
     "output_type": "stream",
     "text": [
      ">>>>>> buy list (1) : 2015-02-13 00:00:00\n",
      "사조대림(A003960) : 1604\n",
      "\n",
      "\n",
      ">>>>>> enough periods (좋은사람들 : A033340) - (1172 : 0.01) : 367 days 00:00:002015-02-16 00:00:00\n",
      ">>>>>> enough periods (국제약품 : A002720) - (2342 : 0.24) : 367 days 00:00:002015-02-16 00:00:00\n",
      ">>>>>> sell list (2) : 2015-02-16 00:00:00\n",
      "['A033340', 'A002720']\n",
      "\n",
      "\n"
     ]
    },
    {
     "name": "stderr",
     "output_type": "stream",
     "text": [
      "/Users/Shared/anaconda3/anaconda3/lib/python3.7/site-packages/ipykernel_launcher.py:689: SettingWithCopyWarning: \n",
      "A value is trying to be set on a copy of a slice from a DataFrame.\n",
      "Try using .loc[row_indexer,col_indexer] = value instead\n",
      "\n",
      "See the caveats in the documentation: http://pandas.pydata.org/pandas-docs/stable/indexing.html#indexing-view-versus-copy\n"
     ]
    },
    {
     "name": "stdout",
     "output_type": "stream",
     "text": [
      ">>>>>> buy list (2) : 2015-02-16 00:00:00\n",
      "태광산업(A003240) : 5\n",
      "유니셈(A036200) : 5119\n",
      "\n",
      "\n",
      ">>>>>> enough profit (유니셈 : A036200) - (2008 : 0.61) : 2015-03-09 00:00:00\n",
      ">>>>>> sell list (1) : 2015-03-09 00:00:00\n",
      "['A036200']\n",
      "\n",
      "\n"
     ]
    },
    {
     "name": "stderr",
     "output_type": "stream",
     "text": [
      "/Users/Shared/anaconda3/anaconda3/lib/python3.7/site-packages/ipykernel_launcher.py:689: SettingWithCopyWarning: \n",
      "A value is trying to be set on a copy of a slice from a DataFrame.\n",
      "Try using .loc[row_indexer,col_indexer] = value instead\n",
      "\n",
      "See the caveats in the documentation: http://pandas.pydata.org/pandas-docs/stable/indexing.html#indexing-view-versus-copy\n"
     ]
    },
    {
     "name": "stdout",
     "output_type": "stream",
     "text": [
      ">>>>>> buy list (1) : 2015-03-09 00:00:00\n",
      "좋은사람들(A033340) : 9270\n",
      "\n",
      "\n",
      ">>>>>> enough profit (오리콤 : A010470) - (7130 : 0.51) : 2015-03-17 00:00:00\n",
      ">>>>>> sell list (1) : 2015-03-17 00:00:00\n",
      "['A010470']\n",
      "\n",
      "\n"
     ]
    },
    {
     "name": "stderr",
     "output_type": "stream",
     "text": [
      "/Users/Shared/anaconda3/anaconda3/lib/python3.7/site-packages/ipykernel_launcher.py:689: SettingWithCopyWarning: \n",
      "A value is trying to be set on a copy of a slice from a DataFrame.\n",
      "Try using .loc[row_indexer,col_indexer] = value instead\n",
      "\n",
      "See the caveats in the documentation: http://pandas.pydata.org/pandas-docs/stable/indexing.html#indexing-view-versus-copy\n"
     ]
    },
    {
     "name": "stdout",
     "output_type": "stream",
     "text": [
      ">>>>>> buy list (1) : 2015-03-17 00:00:00\n",
      "유니셈(A036200) : 8399\n",
      "\n",
      "\n",
      ">>>>>> enough periods (한국전자금융 : A063570) - (2935.0 : -0.08) : 367 days 00:00:002015-03-23 00:00:00\n",
      ">>>>>> sell list (1) : 2015-03-23 00:00:00\n",
      "['A063570']\n",
      "\n",
      "\n"
     ]
    },
    {
     "name": "stderr",
     "output_type": "stream",
     "text": [
      "/Users/Shared/anaconda3/anaconda3/lib/python3.7/site-packages/ipykernel_launcher.py:689: SettingWithCopyWarning: \n",
      "A value is trying to be set on a copy of a slice from a DataFrame.\n",
      "Try using .loc[row_indexer,col_indexer] = value instead\n",
      "\n",
      "See the caveats in the documentation: http://pandas.pydata.org/pandas-docs/stable/indexing.html#indexing-view-versus-copy\n"
     ]
    },
    {
     "name": "stdout",
     "output_type": "stream",
     "text": [
      ">>>>>> buy list (1) : 2015-03-23 00:00:00\n",
      "서산(A079650) : 3231\n",
      "\n",
      "\n",
      ">>>>>> enough profit (삼성출판사 : A068290) - (12900 : 0.54) : 2015-03-30 00:00:00\n",
      ">>>>>> enough profit (사조대림 : A003960) - (19750 : 0.51) : 2015-03-30 00:00:00\n",
      ">>>>>> sell list (2) : 2015-03-30 00:00:00\n",
      "['A068290', 'A003960']\n",
      "\n",
      "\n"
     ]
    },
    {
     "name": "stderr",
     "output_type": "stream",
     "text": [
      "/Users/Shared/anaconda3/anaconda3/lib/python3.7/site-packages/ipykernel_launcher.py:689: SettingWithCopyWarning: \n",
      "A value is trying to be set on a copy of a slice from a DataFrame.\n",
      "Try using .loc[row_indexer,col_indexer] = value instead\n",
      "\n",
      "See the caveats in the documentation: http://pandas.pydata.org/pandas-docs/stable/indexing.html#indexing-view-versus-copy\n"
     ]
    },
    {
     "name": "stdout",
     "output_type": "stream",
     "text": [
      ">>>>>> buy list (2) : 2015-03-30 00:00:00\n",
      "텔레필드(A091440) : 6544\n",
      "한국전자금융(A063570) : 7526\n",
      "\n",
      "\n",
      ">>>>>> enough profit (국동 : A005320) - (6977 : 0.53) : 2015-03-31 00:00:00\n",
      ">>>>>> sell list (1) : 2015-03-31 00:00:00\n",
      "['A005320']\n",
      "\n",
      "\n"
     ]
    },
    {
     "name": "stderr",
     "output_type": "stream",
     "text": [
      "/Users/Shared/anaconda3/anaconda3/lib/python3.7/site-packages/ipykernel_launcher.py:689: SettingWithCopyWarning: \n",
      "A value is trying to be set on a copy of a slice from a DataFrame.\n",
      "Try using .loc[row_indexer,col_indexer] = value instead\n",
      "\n",
      "See the caveats in the documentation: http://pandas.pydata.org/pandas-docs/stable/indexing.html#indexing-view-versus-copy\n"
     ]
    },
    {
     "name": "stdout",
     "output_type": "stream",
     "text": [
      ">>>>>> buy list (1) : 2015-03-31 00:00:00\n",
      "사조대림(A003960) : 1610\n",
      "\n",
      "\n",
      ">>>>>> enough periods (지엔코 : A065060) - (1235 : -0.07) : 366 days 00:00:002015-04-01 00:00:00\n",
      ">>>>>> enough profit (F&F : A007700) - (20850 : 0.66) : 2015-04-01 00:00:00\n",
      ">>>>>> sell list (2) : 2015-04-01 00:00:00\n",
      "['A065060', 'A007700']\n",
      "\n",
      "\n"
     ]
    },
    {
     "name": "stderr",
     "output_type": "stream",
     "text": [
      "/Users/Shared/anaconda3/anaconda3/lib/python3.7/site-packages/ipykernel_launcher.py:689: SettingWithCopyWarning: \n",
      "A value is trying to be set on a copy of a slice from a DataFrame.\n",
      "Try using .loc[row_indexer,col_indexer] = value instead\n",
      "\n",
      "See the caveats in the documentation: http://pandas.pydata.org/pandas-docs/stable/indexing.html#indexing-view-versus-copy\n"
     ]
    },
    {
     "name": "stdout",
     "output_type": "stream",
     "text": [
      ">>>>>> buy list (2) : 2015-04-01 00:00:00\n",
      "팅크웨어(A084730) : 1279\n",
      "대한제분(A001130) : 72\n",
      "\n",
      "\n",
      ">>>>>> enough profit (동화약품 : A000020) - (8620 : 0.54) : 2015-04-09 00:00:00\n",
      ">>>>>> sell list (1) : 2015-04-09 00:00:00\n",
      "['A000020']\n",
      "\n",
      "\n"
     ]
    },
    {
     "name": "stderr",
     "output_type": "stream",
     "text": [
      "/Users/Shared/anaconda3/anaconda3/lib/python3.7/site-packages/ipykernel_launcher.py:689: SettingWithCopyWarning: \n",
      "A value is trying to be set on a copy of a slice from a DataFrame.\n",
      "Try using .loc[row_indexer,col_indexer] = value instead\n",
      "\n",
      "See the caveats in the documentation: http://pandas.pydata.org/pandas-docs/stable/indexing.html#indexing-view-versus-copy\n"
     ]
    },
    {
     "name": "stdout",
     "output_type": "stream",
     "text": [
      ">>>>>> buy list (1) : 2015-04-09 00:00:00\n",
      "신원(A009270) : 4526\n",
      "\n",
      "\n",
      ">>>>>> enough profit (유니셈 : A036200) - (3768 : 0.6) : 2015-04-10 00:00:00\n",
      ">>>>>> sell list (1) : 2015-04-10 00:00:00\n",
      "['A036200']\n",
      "\n",
      "\n"
     ]
    },
    {
     "name": "stderr",
     "output_type": "stream",
     "text": [
      "/Users/Shared/anaconda3/anaconda3/lib/python3.7/site-packages/ipykernel_launcher.py:689: SettingWithCopyWarning: \n",
      "A value is trying to be set on a copy of a slice from a DataFrame.\n",
      "Try using .loc[row_indexer,col_indexer] = value instead\n",
      "\n",
      "See the caveats in the documentation: http://pandas.pydata.org/pandas-docs/stable/indexing.html#indexing-view-versus-copy\n"
     ]
    },
    {
     "name": "stdout",
     "output_type": "stream",
     "text": [
      ">>>>>> buy list (1) : 2015-04-10 00:00:00\n",
      "삼아제약(A009300) : 2123\n",
      "\n",
      "\n",
      ">>>>>> enough profit (현대약품 : A004310) - (3794 : 0.54) : 2015-04-17 00:00:00\n",
      ">>>>>> sell list (1) : 2015-04-17 00:00:00\n",
      "['A004310']\n",
      "\n",
      "\n"
     ]
    },
    {
     "name": "stderr",
     "output_type": "stream",
     "text": [
      "/Users/Shared/anaconda3/anaconda3/lib/python3.7/site-packages/ipykernel_launcher.py:689: SettingWithCopyWarning: \n",
      "A value is trying to be set on a copy of a slice from a DataFrame.\n",
      "Try using .loc[row_indexer,col_indexer] = value instead\n",
      "\n",
      "See the caveats in the documentation: http://pandas.pydata.org/pandas-docs/stable/indexing.html#indexing-view-versus-copy\n"
     ]
    },
    {
     "name": "stdout",
     "output_type": "stream",
     "text": [
      ">>>>>> buy list (1) : 2015-04-17 00:00:00\n",
      "유니셈(A036200) : 9406\n",
      "\n",
      "\n",
      ">>>>>> enough profit (좋은사람들 : A033340) - (1979 : 0.66) : 2015-04-21 00:00:00\n",
      ">>>>>> sell list (1) : 2015-04-21 00:00:00\n",
      "['A033340']\n",
      "\n",
      "\n"
     ]
    },
    {
     "name": "stderr",
     "output_type": "stream",
     "text": [
      "/Users/Shared/anaconda3/anaconda3/lib/python3.7/site-packages/ipykernel_launcher.py:689: SettingWithCopyWarning: \n",
      "A value is trying to be set on a copy of a slice from a DataFrame.\n",
      "Try using .loc[row_indexer,col_indexer] = value instead\n",
      "\n",
      "See the caveats in the documentation: http://pandas.pydata.org/pandas-docs/stable/indexing.html#indexing-view-versus-copy\n"
     ]
    },
    {
     "name": "stdout",
     "output_type": "stream",
     "text": [
      ">>>>>> buy list (1) : 2015-04-21 00:00:00\n",
      "현대약품(A004310) : 4787\n",
      "\n",
      "\n",
      ">>>>>> enough profit (백금T&A : A046310) - (4149 : 0.59) : 2015-05-07 00:00:00\n",
      ">>>>>> sell list (1) : 2015-05-07 00:00:00\n",
      "['A046310']\n",
      "\n",
      "\n"
     ]
    },
    {
     "name": "stderr",
     "output_type": "stream",
     "text": [
      "/Users/Shared/anaconda3/anaconda3/lib/python3.7/site-packages/ipykernel_launcher.py:689: SettingWithCopyWarning: \n",
      "A value is trying to be set on a copy of a slice from a DataFrame.\n",
      "Try using .loc[row_indexer,col_indexer] = value instead\n",
      "\n",
      "See the caveats in the documentation: http://pandas.pydata.org/pandas-docs/stable/indexing.html#indexing-view-versus-copy\n"
     ]
    },
    {
     "name": "stdout",
     "output_type": "stream",
     "text": [
      ">>>>>> buy list (1) : 2015-05-07 00:00:00\n",
      "좋은사람들(A033340) : 52791\n",
      "\n",
      "\n",
      ">>>>>> enough profit (진도 : A088790) - (5150.0 : 0.54) : 2015-05-11 00:00:00\n",
      ">>>>>> sell list (1) : 2015-05-11 00:00:00\n",
      "['A088790']\n",
      "\n",
      "\n"
     ]
    },
    {
     "name": "stderr",
     "output_type": "stream",
     "text": [
      "/Users/Shared/anaconda3/anaconda3/lib/python3.7/site-packages/ipykernel_launcher.py:689: SettingWithCopyWarning: \n",
      "A value is trying to be set on a copy of a slice from a DataFrame.\n",
      "Try using .loc[row_indexer,col_indexer] = value instead\n",
      "\n",
      "See the caveats in the documentation: http://pandas.pydata.org/pandas-docs/stable/indexing.html#indexing-view-versus-copy\n"
     ]
    },
    {
     "name": "stdout",
     "output_type": "stream",
     "text": [
      ">>>>>> buy list (1) : 2015-05-11 00:00:00\n",
      "백금T&A(A046310) : 6627\n",
      "\n",
      "\n",
      ">>>>>> enough periods (디아이동일 : A001530) - (87835 : 0.29) : 366 days 00:00:002015-05-14 00:00:00\n",
      ">>>>>> enough profit (유니셈 : A036200) - (5766 : 0.51) : 2015-05-14 00:00:00\n",
      ">>>>>> sell list (2) : 2015-05-14 00:00:00\n",
      "['A001530', 'A036200']\n",
      "\n",
      "\n"
     ]
    },
    {
     "name": "stderr",
     "output_type": "stream",
     "text": [
      "/Users/Shared/anaconda3/anaconda3/lib/python3.7/site-packages/ipykernel_launcher.py:689: SettingWithCopyWarning: \n",
      "A value is trying to be set on a copy of a slice from a DataFrame.\n",
      "Try using .loc[row_indexer,col_indexer] = value instead\n",
      "\n",
      "See the caveats in the documentation: http://pandas.pydata.org/pandas-docs/stable/indexing.html#indexing-view-versus-copy\n"
     ]
    },
    {
     "name": "stdout",
     "output_type": "stream",
     "text": [
      ">>>>>> buy list (2) : 2015-05-14 00:00:00\n",
      "진도(A088790) : 8858\n",
      "영신금속(A007530) : 13783\n",
      "\n",
      "\n",
      ">>>>>> enough profit (팅크웨어 : A084730) - (16400.0 : 0.55) : 2015-05-19 00:00:00\n",
      ">>>>>> sell list (1) : 2015-05-19 00:00:00\n",
      "['A084730']\n",
      "\n",
      "\n"
     ]
    },
    {
     "name": "stderr",
     "output_type": "stream",
     "text": [
      "/Users/Shared/anaconda3/anaconda3/lib/python3.7/site-packages/ipykernel_launcher.py:689: SettingWithCopyWarning: \n",
      "A value is trying to be set on a copy of a slice from a DataFrame.\n",
      "Try using .loc[row_indexer,col_indexer] = value instead\n",
      "\n",
      "See the caveats in the documentation: http://pandas.pydata.org/pandas-docs/stable/indexing.html#indexing-view-versus-copy\n"
     ]
    },
    {
     "name": "stdout",
     "output_type": "stream",
     "text": [
      ">>>>>> buy list (1) : 2015-05-19 00:00:00\n",
      "유니셈(A036200) : 3424\n",
      "\n",
      "\n",
      ">>>>>> enough profit (현대약품 : A004310) - (5778 : 0.51) : 2015-05-22 00:00:00\n",
      ">>>>>> sell list (1) : 2015-05-22 00:00:00\n",
      "['A004310']\n",
      "\n",
      "\n"
     ]
    },
    {
     "name": "stderr",
     "output_type": "stream",
     "text": [
      "/Users/Shared/anaconda3/anaconda3/lib/python3.7/site-packages/ipykernel_launcher.py:689: SettingWithCopyWarning: \n",
      "A value is trying to be set on a copy of a slice from a DataFrame.\n",
      "Try using .loc[row_indexer,col_indexer] = value instead\n",
      "\n",
      "See the caveats in the documentation: http://pandas.pydata.org/pandas-docs/stable/indexing.html#indexing-view-versus-copy\n"
     ]
    },
    {
     "name": "stdout",
     "output_type": "stream",
     "text": [
      ">>>>>> buy list (1) : 2015-05-22 00:00:00\n",
      "디아이동일(A001530) : 329\n",
      "\n",
      "\n",
      ">>>>>> enough profit (샘표 : A007540) - (30631 : 0.55) : 2015-06-04 00:00:00\n",
      ">>>>>> sell list (1) : 2015-06-04 00:00:00\n",
      "['A007540']\n",
      "\n",
      "\n"
     ]
    },
    {
     "name": "stderr",
     "output_type": "stream",
     "text": [
      "/Users/Shared/anaconda3/anaconda3/lib/python3.7/site-packages/ipykernel_launcher.py:689: SettingWithCopyWarning: \n",
      "A value is trying to be set on a copy of a slice from a DataFrame.\n",
      "Try using .loc[row_indexer,col_indexer] = value instead\n",
      "\n",
      "See the caveats in the documentation: http://pandas.pydata.org/pandas-docs/stable/indexing.html#indexing-view-versus-copy\n"
     ]
    },
    {
     "name": "stdout",
     "output_type": "stream",
     "text": [
      ">>>>>> buy list (1) : 2015-06-04 00:00:00\n",
      "팅크웨어(A084730) : 416\n",
      "\n",
      "\n",
      ">>>>>> enough profit (유니셈 : A036200) - (9266 : 0.51) : 2015-06-05 00:00:00\n",
      ">>>>>> sell list (1) : 2015-06-05 00:00:00\n",
      "['A036200']\n",
      "\n",
      "\n"
     ]
    },
    {
     "name": "stderr",
     "output_type": "stream",
     "text": [
      "/Users/Shared/anaconda3/anaconda3/lib/python3.7/site-packages/ipykernel_launcher.py:689: SettingWithCopyWarning: \n",
      "A value is trying to be set on a copy of a slice from a DataFrame.\n",
      "Try using .loc[row_indexer,col_indexer] = value instead\n",
      "\n",
      "See the caveats in the documentation: http://pandas.pydata.org/pandas-docs/stable/indexing.html#indexing-view-versus-copy\n"
     ]
    },
    {
     "name": "stdout",
     "output_type": "stream",
     "text": [
      ">>>>>> buy list (1) : 2015-06-05 00:00:00\n",
      "현대약품(A004310) : 7114\n",
      "\n",
      "\n",
      ">>>>>> enough profit (아이즈비전 : A031310) - (4985 : 0.57) : 2015-06-19 00:00:00\n",
      ">>>>>> sell list (1) : 2015-06-19 00:00:00\n",
      "['A031310']\n",
      "\n",
      "\n"
     ]
    },
    {
     "name": "stderr",
     "output_type": "stream",
     "text": [
      "/Users/Shared/anaconda3/anaconda3/lib/python3.7/site-packages/ipykernel_launcher.py:689: SettingWithCopyWarning: \n",
      "A value is trying to be set on a copy of a slice from a DataFrame.\n",
      "Try using .loc[row_indexer,col_indexer] = value instead\n",
      "\n",
      "See the caveats in the documentation: http://pandas.pydata.org/pandas-docs/stable/indexing.html#indexing-view-versus-copy\n"
     ]
    },
    {
     "name": "stdout",
     "output_type": "stream",
     "text": [
      ">>>>>> buy list (1) : 2015-06-19 00:00:00\n",
      "유니셈(A036200) : 737\n",
      "\n",
      "\n",
      ">>>>>> enough profit (신영와코루 : A005800) - (182000 : 0.64) : 2015-07-02 00:00:00\n",
      ">>>>>> sell list (1) : 2015-07-02 00:00:00\n",
      "['A005800']\n",
      "\n",
      "\n"
     ]
    },
    {
     "name": "stderr",
     "output_type": "stream",
     "text": [
      "/Users/Shared/anaconda3/anaconda3/lib/python3.7/site-packages/ipykernel_launcher.py:689: SettingWithCopyWarning: \n",
      "A value is trying to be set on a copy of a slice from a DataFrame.\n",
      "Try using .loc[row_indexer,col_indexer] = value instead\n",
      "\n",
      "See the caveats in the documentation: http://pandas.pydata.org/pandas-docs/stable/indexing.html#indexing-view-versus-copy\n"
     ]
    },
    {
     "name": "stdout",
     "output_type": "stream",
     "text": [
      ">>>>>> buy list (1) : 2015-07-02 00:00:00\n",
      "오리콤(A010470) : 1401\n",
      "\n",
      "\n",
      ">>>>>> enough profit (삼아제약 : A009300) - (22650 : 0.52) : 2015-07-10 00:00:00\n",
      ">>>>>> sell list (1) : 2015-07-10 00:00:00\n",
      "['A009300']\n",
      "\n",
      "\n"
     ]
    },
    {
     "name": "stderr",
     "output_type": "stream",
     "text": [
      "/Users/Shared/anaconda3/anaconda3/lib/python3.7/site-packages/ipykernel_launcher.py:689: SettingWithCopyWarning: \n",
      "A value is trying to be set on a copy of a slice from a DataFrame.\n",
      "Try using .loc[row_indexer,col_indexer] = value instead\n",
      "\n",
      "See the caveats in the documentation: http://pandas.pydata.org/pandas-docs/stable/indexing.html#indexing-view-versus-copy\n"
     ]
    },
    {
     "name": "stdout",
     "output_type": "stream",
     "text": [
      ">>>>>> buy list (1) : 2015-07-10 00:00:00\n",
      "신영와코루(A005800) : 262\n",
      "\n",
      "\n",
      ">>>>>> enough profit (한국전자금융 : A063570) - (4970.0 : 0.51) : 2015-08-17 00:00:00\n",
      ">>>>>> sell list (1) : 2015-08-17 00:00:00\n",
      "['A063570']\n",
      "\n",
      "\n"
     ]
    },
    {
     "name": "stderr",
     "output_type": "stream",
     "text": [
      "/Users/Shared/anaconda3/anaconda3/lib/python3.7/site-packages/ipykernel_launcher.py:689: SettingWithCopyWarning: \n",
      "A value is trying to be set on a copy of a slice from a DataFrame.\n",
      "Try using .loc[row_indexer,col_indexer] = value instead\n",
      "\n",
      "See the caveats in the documentation: http://pandas.pydata.org/pandas-docs/stable/indexing.html#indexing-view-versus-copy\n"
     ]
    },
    {
     "name": "stdout",
     "output_type": "stream",
     "text": [
      ">>>>>> buy list (1) : 2015-08-17 00:00:00\n",
      "삼아제약(A009300) : 2801\n",
      "\n",
      "\n",
      ">>>>>> enough periods (경농 : A002100) - (5330 : -0.02) : 366 days 00:00:002015-09-23 00:00:00\n",
      ">>>>>> sell list (1) : 2015-09-23 00:00:00\n",
      "['A002100']\n",
      "\n",
      "\n"
     ]
    },
    {
     "name": "stderr",
     "output_type": "stream",
     "text": [
      "/Users/Shared/anaconda3/anaconda3/lib/python3.7/site-packages/ipykernel_launcher.py:689: SettingWithCopyWarning: \n",
      "A value is trying to be set on a copy of a slice from a DataFrame.\n",
      "Try using .loc[row_indexer,col_indexer] = value instead\n",
      "\n",
      "See the caveats in the documentation: http://pandas.pydata.org/pandas-docs/stable/indexing.html#indexing-view-versus-copy\n"
     ]
    },
    {
     "name": "stdout",
     "output_type": "stream",
     "text": [
      ">>>>>> buy list (1) : 2015-09-23 00:00:00\n",
      "한국전자금융(A063570) : 792\n",
      "\n",
      "\n",
      ">>>>>> enough periods (NE능률 : A053290) - (3970 : 0.15) : 366 days 00:00:002015-10-08 00:00:00\n",
      ">>>>>> sell list (1) : 2015-10-08 00:00:00\n",
      "['A053290']\n",
      "\n",
      "\n"
     ]
    },
    {
     "name": "stderr",
     "output_type": "stream",
     "text": [
      "/Users/Shared/anaconda3/anaconda3/lib/python3.7/site-packages/ipykernel_launcher.py:689: SettingWithCopyWarning: \n",
      "A value is trying to be set on a copy of a slice from a DataFrame.\n",
      "Try using .loc[row_indexer,col_indexer] = value instead\n",
      "\n",
      "See the caveats in the documentation: http://pandas.pydata.org/pandas-docs/stable/indexing.html#indexing-view-versus-copy\n"
     ]
    },
    {
     "name": "stdout",
     "output_type": "stream",
     "text": [
      ">>>>>> buy list (1) : 2015-10-08 00:00:00\n",
      "남양유업(A003920) : 38\n",
      "\n",
      "\n",
      ">>>>>> enough profit (좋은사람들 : A033340) - (2837 : 0.81) : 2015-11-02 00:00:00\n",
      ">>>>>> sell list (1) : 2015-11-02 00:00:00\n",
      "['A033340']\n",
      "\n",
      "\n"
     ]
    },
    {
     "name": "stderr",
     "output_type": "stream",
     "text": [
      "/Users/Shared/anaconda3/anaconda3/lib/python3.7/site-packages/ipykernel_launcher.py:689: SettingWithCopyWarning: \n",
      "A value is trying to be set on a copy of a slice from a DataFrame.\n",
      "Try using .loc[row_indexer,col_indexer] = value instead\n",
      "\n",
      "See the caveats in the documentation: http://pandas.pydata.org/pandas-docs/stable/indexing.html#indexing-view-versus-copy\n"
     ]
    },
    {
     "name": "stdout",
     "output_type": "stream",
     "text": [
      ">>>>>> buy list (1) : 2015-11-02 00:00:00\n",
      "파인디지털(A038950) : 24063\n",
      "\n",
      "\n",
      ">>>>>> enough profit (오리콤 : A010470) - (13550 : 0.68) : 2015-11-12 00:00:00\n",
      ">>>>>> sell list (1) : 2015-11-12 00:00:00\n",
      "['A010470']\n",
      "\n",
      "\n"
     ]
    },
    {
     "name": "stderr",
     "output_type": "stream",
     "text": [
      "/Users/Shared/anaconda3/anaconda3/lib/python3.7/site-packages/ipykernel_launcher.py:689: SettingWithCopyWarning: \n",
      "A value is trying to be set on a copy of a slice from a DataFrame.\n",
      "Try using .loc[row_indexer,col_indexer] = value instead\n",
      "\n",
      "See the caveats in the documentation: http://pandas.pydata.org/pandas-docs/stable/indexing.html#indexing-view-versus-copy\n"
     ]
    },
    {
     "name": "stdout",
     "output_type": "stream",
     "text": [
      ">>>>>> buy list (1) : 2015-11-12 00:00:00\n",
      "좋은사람들(A033340) : 8495\n",
      "\n",
      "\n",
      ">>>>>> enough periods (한국경제TV : A039340) - (3250 : 0.15) : 366 days 00:00:002015-12-02 00:00:00\n",
      ">>>>>> sell list (1) : 2015-12-02 00:00:00\n",
      "['A039340']\n",
      "\n",
      "\n"
     ]
    },
    {
     "name": "stderr",
     "output_type": "stream",
     "text": [
      "/Users/Shared/anaconda3/anaconda3/lib/python3.7/site-packages/ipykernel_launcher.py:689: SettingWithCopyWarning: \n",
      "A value is trying to be set on a copy of a slice from a DataFrame.\n",
      "Try using .loc[row_indexer,col_indexer] = value instead\n",
      "\n",
      "See the caveats in the documentation: http://pandas.pydata.org/pandas-docs/stable/indexing.html#indexing-view-versus-copy\n"
     ]
    },
    {
     "name": "stdout",
     "output_type": "stream",
     "text": [
      ">>>>>> buy list (1) : 2015-12-02 00:00:00\n",
      "오리콤(A010470) : 3039\n",
      "\n",
      "\n",
      ">>>>>> enough periods (태광산업 : A003240) - (980000 : -0.12) : 366 days 00:00:002016-02-17 00:00:00\n",
      ">>>>>> sell list (1) : 2016-02-17 00:00:00\n",
      "['A003240']\n",
      "\n",
      "\n"
     ]
    },
    {
     "name": "stderr",
     "output_type": "stream",
     "text": [
      "/Users/Shared/anaconda3/anaconda3/lib/python3.7/site-packages/ipykernel_launcher.py:689: SettingWithCopyWarning: \n",
      "A value is trying to be set on a copy of a slice from a DataFrame.\n",
      "Try using .loc[row_indexer,col_indexer] = value instead\n",
      "\n",
      "See the caveats in the documentation: http://pandas.pydata.org/pandas-docs/stable/indexing.html#indexing-view-versus-copy\n"
     ]
    },
    {
     "name": "stdout",
     "output_type": "stream",
     "text": [
      ">>>>>> buy list (1) : 2016-02-17 00:00:00\n",
      "남영비비안(A002070) : 499\n",
      "\n",
      "\n",
      ">>>>>> enough periods (서산 : A079650) - (2801 : 0.06) : 366 days 00:00:002016-03-23 00:00:00\n",
      ">>>>>> sell list (1) : 2016-03-23 00:00:00\n",
      "['A079650']\n",
      "\n",
      "\n"
     ]
    },
    {
     "name": "stderr",
     "output_type": "stream",
     "text": [
      "/Users/Shared/anaconda3/anaconda3/lib/python3.7/site-packages/ipykernel_launcher.py:689: SettingWithCopyWarning: \n",
      "A value is trying to be set on a copy of a slice from a DataFrame.\n",
      "Try using .loc[row_indexer,col_indexer] = value instead\n",
      "\n",
      "See the caveats in the documentation: http://pandas.pydata.org/pandas-docs/stable/indexing.html#indexing-view-versus-copy\n"
     ]
    },
    {
     "name": "stdout",
     "output_type": "stream",
     "text": [
      ">>>>>> buy list (1) : 2016-03-23 00:00:00\n",
      "케이티(A030200) : 311\n",
      "\n",
      "\n",
      ">>>>>> enough periods (텔레필드 : A091440) - (4310.0 : 0.14) : 366 days 00:00:002016-03-30 00:00:00\n",
      ">>>>>> sell list (1) : 2016-03-30 00:00:00\n",
      "['A091440']\n",
      "\n",
      "\n"
     ]
    },
    {
     "name": "stderr",
     "output_type": "stream",
     "text": [
      "/Users/Shared/anaconda3/anaconda3/lib/python3.7/site-packages/ipykernel_launcher.py:689: SettingWithCopyWarning: \n",
      "A value is trying to be set on a copy of a slice from a DataFrame.\n",
      "Try using .loc[row_indexer,col_indexer] = value instead\n",
      "\n",
      "See the caveats in the documentation: http://pandas.pydata.org/pandas-docs/stable/indexing.html#indexing-view-versus-copy\n"
     ]
    },
    {
     "name": "stdout",
     "output_type": "stream",
     "text": [
      ">>>>>> buy list (1) : 2016-03-30 00:00:00\n",
      "태광산업(A003240) : 30\n",
      "\n",
      "\n",
      ">>>>>> enough periods (사조대림 : A003960) - (20900 : -0.05) : 366 days 00:00:002016-03-31 00:00:00\n",
      ">>>>>> sell list (1) : 2016-03-31 00:00:00\n",
      "['A003960']\n",
      "\n",
      "\n"
     ]
    },
    {
     "name": "stderr",
     "output_type": "stream",
     "text": [
      "/Users/Shared/anaconda3/anaconda3/lib/python3.7/site-packages/ipykernel_launcher.py:689: SettingWithCopyWarning: \n",
      "A value is trying to be set on a copy of a slice from a DataFrame.\n",
      "Try using .loc[row_indexer,col_indexer] = value instead\n",
      "\n",
      "See the caveats in the documentation: http://pandas.pydata.org/pandas-docs/stable/indexing.html#indexing-view-versus-copy\n"
     ]
    },
    {
     "name": "stdout",
     "output_type": "stream",
     "text": [
      ">>>>>> buy list (1) : 2016-03-31 00:00:00\n",
      "삼일제약(A000520) : 3903\n",
      "\n",
      "\n",
      ">>>>>> enough periods (대한제분 : A001130) - (196000 : 0.05) : 366 days 00:00:002016-04-01 00:00:00\n",
      ">>>>>> sell list (1) : 2016-04-01 00:00:00\n",
      "['A001130']\n",
      "\n",
      "\n"
     ]
    },
    {
     "name": "stderr",
     "output_type": "stream",
     "text": [
      "/Users/Shared/anaconda3/anaconda3/lib/python3.7/site-packages/ipykernel_launcher.py:689: SettingWithCopyWarning: \n",
      "A value is trying to be set on a copy of a slice from a DataFrame.\n",
      "Try using .loc[row_indexer,col_indexer] = value instead\n",
      "\n",
      "See the caveats in the documentation: http://pandas.pydata.org/pandas-docs/stable/indexing.html#indexing-view-versus-copy\n"
     ]
    },
    {
     "name": "stdout",
     "output_type": "stream",
     "text": [
      ">>>>>> buy list (1) : 2016-04-01 00:00:00\n",
      "LF(A093050) : 562\n",
      "\n",
      "\n",
      ">>>>>> enough periods (신원 : A009270) - (1980 : -0.26) : 368 days 00:00:002016-04-11 00:00:00\n",
      ">>>>>> sell list (1) : 2016-04-11 00:00:00\n",
      "['A009270']\n",
      "\n",
      "\n"
     ]
    },
    {
     "name": "stderr",
     "output_type": "stream",
     "text": [
      "/Users/Shared/anaconda3/anaconda3/lib/python3.7/site-packages/ipykernel_launcher.py:689: SettingWithCopyWarning: \n",
      "A value is trying to be set on a copy of a slice from a DataFrame.\n",
      "Try using .loc[row_indexer,col_indexer] = value instead\n",
      "\n",
      "See the caveats in the documentation: http://pandas.pydata.org/pandas-docs/stable/indexing.html#indexing-view-versus-copy\n"
     ]
    },
    {
     "name": "stdout",
     "output_type": "stream",
     "text": [
      ">>>>>> buy list (1) : 2016-04-11 00:00:00\n",
      "메가스터디(A072870) : 644\n",
      "\n",
      "\n",
      ">>>>>> enough periods (백금T&A : A046310) - (2590 : -0.37) : 366 days 00:00:002016-05-11 00:00:00\n",
      ">>>>>> sell list (1) : 2016-05-11 00:00:00\n",
      "['A046310']\n",
      "\n",
      "\n"
     ]
    },
    {
     "name": "stderr",
     "output_type": "stream",
     "text": [
      "/Users/Shared/anaconda3/anaconda3/lib/python3.7/site-packages/ipykernel_launcher.py:689: SettingWithCopyWarning: \n",
      "A value is trying to be set on a copy of a slice from a DataFrame.\n",
      "Try using .loc[row_indexer,col_indexer] = value instead\n",
      "\n",
      "See the caveats in the documentation: http://pandas.pydata.org/pandas-docs/stable/indexing.html#indexing-view-versus-copy\n"
     ]
    },
    {
     "name": "stdout",
     "output_type": "stream",
     "text": [
      ">>>>>> buy list (1) : 2016-05-11 00:00:00\n",
      "신원(A009270) : 9111\n",
      "\n",
      "\n",
      ">>>>>> enough periods (진도 : A088790) - (4925.0 : -0.01) : 368 days 00:00:002016-05-16 00:00:00\n",
      ">>>>>> enough periods (영신금속 : A007530) - (3420 : 0.07) : 368 days 00:00:002016-05-16 00:00:00\n",
      ">>>>>> sell list (2) : 2016-05-16 00:00:00\n",
      "['A088790', 'A007530']\n",
      "\n",
      "\n"
     ]
    },
    {
     "name": "stderr",
     "output_type": "stream",
     "text": [
      "/Users/Shared/anaconda3/anaconda3/lib/python3.7/site-packages/ipykernel_launcher.py:689: SettingWithCopyWarning: \n",
      "A value is trying to be set on a copy of a slice from a DataFrame.\n",
      "Try using .loc[row_indexer,col_indexer] = value instead\n",
      "\n",
      "See the caveats in the documentation: http://pandas.pydata.org/pandas-docs/stable/indexing.html#indexing-view-versus-copy\n"
     ]
    },
    {
     "name": "stdout",
     "output_type": "stream",
     "text": [
      ">>>>>> buy list (2) : 2016-05-16 00:00:00\n",
      "광림(A014200) : 8404\n",
      "한국석유공업(A004090) : 412\n",
      "\n",
      "\n",
      ">>>>>> enough periods (디아이동일 : A001530) - (58765 : -0.3) : 367 days 00:00:002016-05-23 00:00:00\n",
      ">>>>>> enough profit (광림 : A014200) - (8420 : 0.56) : 2016-05-23 00:00:00\n",
      ">>>>>> sell list (2) : 2016-05-23 00:00:00\n",
      "['A001530', 'A014200']\n",
      "\n",
      "\n"
     ]
    },
    {
     "name": "stderr",
     "output_type": "stream",
     "text": [
      "/Users/Shared/anaconda3/anaconda3/lib/python3.7/site-packages/ipykernel_launcher.py:689: SettingWithCopyWarning: \n",
      "A value is trying to be set on a copy of a slice from a DataFrame.\n",
      "Try using .loc[row_indexer,col_indexer] = value instead\n",
      "\n",
      "See the caveats in the documentation: http://pandas.pydata.org/pandas-docs/stable/indexing.html#indexing-view-versus-copy\n"
     ]
    },
    {
     "name": "stdout",
     "output_type": "stream",
     "text": [
      ">>>>>> buy list (2) : 2016-05-23 00:00:00\n",
      "NE능률(A053290) : 9896\n",
      "진도(A088790) : 9106\n",
      "\n",
      "\n",
      ">>>>>> enough profit (현대약품 : A004310) - (6955 : 0.56) : 2016-05-24 00:00:00\n",
      ">>>>>> sell list (1) : 2016-05-24 00:00:00\n",
      "['A004310']\n",
      "\n",
      "\n"
     ]
    },
    {
     "name": "stderr",
     "output_type": "stream",
     "text": [
      "/Users/Shared/anaconda3/anaconda3/lib/python3.7/site-packages/ipykernel_launcher.py:689: SettingWithCopyWarning: \n",
      "A value is trying to be set on a copy of a slice from a DataFrame.\n",
      "Try using .loc[row_indexer,col_indexer] = value instead\n",
      "\n",
      "See the caveats in the documentation: http://pandas.pydata.org/pandas-docs/stable/indexing.html#indexing-view-versus-copy\n"
     ]
    },
    {
     "name": "stdout",
     "output_type": "stream",
     "text": [
      ">>>>>> buy list (1) : 2016-05-24 00:00:00\n",
      "광림(A014200) : 6426\n",
      "\n",
      "\n",
      ">>>>>> enough periods (팅크웨어 : A084730) - (12700.0 : -0.32) : 369 days 00:00:002016-06-07 00:00:00\n",
      ">>>>>> sell list (1) : 2016-06-07 00:00:00\n",
      "['A084730']\n",
      "\n",
      "\n"
     ]
    },
    {
     "name": "stderr",
     "output_type": "stream",
     "text": [
      "/Users/Shared/anaconda3/anaconda3/lib/python3.7/site-packages/ipykernel_launcher.py:689: SettingWithCopyWarning: \n",
      "A value is trying to be set on a copy of a slice from a DataFrame.\n",
      "Try using .loc[row_indexer,col_indexer] = value instead\n",
      "\n",
      "See the caveats in the documentation: http://pandas.pydata.org/pandas-docs/stable/indexing.html#indexing-view-versus-copy\n"
     ]
    },
    {
     "name": "stdout",
     "output_type": "stream",
     "text": [
      ">>>>>> buy list (1) : 2016-06-07 00:00:00\n",
      "지엔코(A065060) : 1845\n",
      "\n",
      "\n",
      ">>>>>> enough periods (유니셈 : A036200) - (6280 : -0.37) : 367 days 00:00:002016-06-20 00:00:00\n",
      ">>>>>> sell list (1) : 2016-06-20 00:00:00\n",
      "['A036200']\n",
      "\n",
      "\n"
     ]
    },
    {
     "name": "stderr",
     "output_type": "stream",
     "text": [
      "/Users/Shared/anaconda3/anaconda3/lib/python3.7/site-packages/ipykernel_launcher.py:689: SettingWithCopyWarning: \n",
      "A value is trying to be set on a copy of a slice from a DataFrame.\n",
      "Try using .loc[row_indexer,col_indexer] = value instead\n",
      "\n",
      "See the caveats in the documentation: http://pandas.pydata.org/pandas-docs/stable/indexing.html#indexing-view-versus-copy\n"
     ]
    },
    {
     "name": "stdout",
     "output_type": "stream",
     "text": [
      ">>>>>> buy list (1) : 2016-06-20 00:00:00\n",
      "중앙에너비스(A000440) : 818\n",
      "\n",
      "\n",
      ">>>>>> enough profit (진도 : A088790) - (7460.0 : 0.51) : 2016-07-08 00:00:00\n",
      ">>>>>> sell list (1) : 2016-07-08 00:00:00\n",
      "['A088790']\n",
      "\n",
      "\n"
     ]
    },
    {
     "name": "stderr",
     "output_type": "stream",
     "text": [
      "/Users/Shared/anaconda3/anaconda3/lib/python3.7/site-packages/ipykernel_launcher.py:689: SettingWithCopyWarning: \n",
      "A value is trying to be set on a copy of a slice from a DataFrame.\n",
      "Try using .loc[row_indexer,col_indexer] = value instead\n",
      "\n",
      "See the caveats in the documentation: http://pandas.pydata.org/pandas-docs/stable/indexing.html#indexing-view-versus-copy\n"
     ]
    },
    {
     "name": "stdout",
     "output_type": "stream",
     "text": [
      ">>>>>> buy list (1) : 2016-07-08 00:00:00\n",
      "플랜티넷(A075130) : 10614\n",
      "\n",
      "\n",
      ">>>>>> enough periods (신영와코루 : A005800) - (162000 : -0.11) : 367 days 00:00:002016-07-11 00:00:00\n",
      ">>>>>> sell list (1) : 2016-07-11 00:00:00\n",
      "['A005800']\n",
      "\n",
      "\n"
     ]
    },
    {
     "name": "stderr",
     "output_type": "stream",
     "text": [
      "/Users/Shared/anaconda3/anaconda3/lib/python3.7/site-packages/ipykernel_launcher.py:689: SettingWithCopyWarning: \n",
      "A value is trying to be set on a copy of a slice from a DataFrame.\n",
      "Try using .loc[row_indexer,col_indexer] = value instead\n",
      "\n",
      "See the caveats in the documentation: http://pandas.pydata.org/pandas-docs/stable/indexing.html#indexing-view-versus-copy\n"
     ]
    },
    {
     "name": "stdout",
     "output_type": "stream",
     "text": [
      ">>>>>> buy list (1) : 2016-07-11 00:00:00\n",
      "진도(A088790) : 5751\n",
      "\n",
      "\n",
      ">>>>>> enough profit (삼아제약 : A009300) - (20100 : 0.5) : 2016-07-21 00:00:00\n",
      ">>>>>> sell list (1) : 2016-07-21 00:00:00\n",
      "['A009300']\n",
      "\n",
      "\n"
     ]
    },
    {
     "name": "stderr",
     "output_type": "stream",
     "text": [
      "/Users/Shared/anaconda3/anaconda3/lib/python3.7/site-packages/ipykernel_launcher.py:689: SettingWithCopyWarning: \n",
      "A value is trying to be set on a copy of a slice from a DataFrame.\n",
      "Try using .loc[row_indexer,col_indexer] = value instead\n",
      "\n",
      "See the caveats in the documentation: http://pandas.pydata.org/pandas-docs/stable/indexing.html#indexing-view-versus-copy\n"
     ]
    },
    {
     "name": "stdout",
     "output_type": "stream",
     "text": [
      ">>>>>> buy list (1) : 2016-07-21 00:00:00\n",
      "신영와코루(A005800) : 358\n",
      "\n",
      "\n",
      ">>>>>> enough profit (NE능률 : A053290) - (7410 : 0.63) : 2016-09-01 00:00:00\n",
      ">>>>>> sell list (1) : 2016-09-01 00:00:00\n",
      "['A053290']\n",
      "\n",
      "\n"
     ]
    },
    {
     "name": "stderr",
     "output_type": "stream",
     "text": [
      "/Users/Shared/anaconda3/anaconda3/lib/python3.7/site-packages/ipykernel_launcher.py:689: SettingWithCopyWarning: \n",
      "A value is trying to be set on a copy of a slice from a DataFrame.\n",
      "Try using .loc[row_indexer,col_indexer] = value instead\n",
      "\n",
      "See the caveats in the documentation: http://pandas.pydata.org/pandas-docs/stable/indexing.html#indexing-view-versus-copy\n"
     ]
    },
    {
     "name": "stdout",
     "output_type": "stream",
     "text": [
      ">>>>>> buy list (1) : 2016-09-01 00:00:00\n",
      "서산(A079650) : 24491\n",
      "\n",
      "\n",
      ">>>>>> enough profit (지엔코 : A065060) - (4410 : 0.54) : 2016-09-08 00:00:00\n",
      ">>>>>> sell list (1) : 2016-09-08 00:00:00\n",
      "['A065060']\n",
      "\n",
      "\n"
     ]
    },
    {
     "name": "stderr",
     "output_type": "stream",
     "text": [
      "/Users/Shared/anaconda3/anaconda3/lib/python3.7/site-packages/ipykernel_launcher.py:689: SettingWithCopyWarning: \n",
      "A value is trying to be set on a copy of a slice from a DataFrame.\n",
      "Try using .loc[row_indexer,col_indexer] = value instead\n",
      "\n",
      "See the caveats in the documentation: http://pandas.pydata.org/pandas-docs/stable/indexing.html#indexing-view-versus-copy\n"
     ]
    },
    {
     "name": "stdout",
     "output_type": "stream",
     "text": [
      ">>>>>> buy list (1) : 2016-09-08 00:00:00\n",
      "NE능률(A053290) : 1135\n",
      "\n",
      "\n",
      ">>>>>> enough periods (한국전자금융 : A063570) - (6560.0 : -0.32) : 366 days 00:00:002016-09-23 00:00:00\n",
      ">>>>>> sell list (1) : 2016-09-23 00:00:00\n",
      "['A063570']\n",
      "\n",
      "\n"
     ]
    },
    {
     "name": "stderr",
     "output_type": "stream",
     "text": [
      "/Users/Shared/anaconda3/anaconda3/lib/python3.7/site-packages/ipykernel_launcher.py:689: SettingWithCopyWarning: \n",
      "A value is trying to be set on a copy of a slice from a DataFrame.\n",
      "Try using .loc[row_indexer,col_indexer] = value instead\n",
      "\n",
      "See the caveats in the documentation: http://pandas.pydata.org/pandas-docs/stable/indexing.html#indexing-view-versus-copy\n"
     ]
    },
    {
     "name": "stdout",
     "output_type": "stream",
     "text": [
      ">>>>>> buy list (1) : 2016-09-23 00:00:00\n",
      "지엔코(A065060) : 806\n",
      "\n",
      "\n",
      ">>>>>> enough periods (남양유업 : A003920) - (695000 : -0.18) : 368 days 00:00:002016-10-10 00:00:00\n",
      ">>>>>> sell list (1) : 2016-10-10 00:00:00\n",
      "['A003920']\n",
      "\n",
      "\n"
     ]
    },
    {
     "name": "stderr",
     "output_type": "stream",
     "text": [
      "/Users/Shared/anaconda3/anaconda3/lib/python3.7/site-packages/ipykernel_launcher.py:689: SettingWithCopyWarning: \n",
      "A value is trying to be set on a copy of a slice from a DataFrame.\n",
      "Try using .loc[row_indexer,col_indexer] = value instead\n",
      "\n",
      "See the caveats in the documentation: http://pandas.pydata.org/pandas-docs/stable/indexing.html#indexing-view-versus-copy\n"
     ]
    },
    {
     "name": "stdout",
     "output_type": "stream",
     "text": [
      ">>>>>> buy list (1) : 2016-10-10 00:00:00\n",
      "LG전자(A066570) : 518\n",
      "\n",
      "\n",
      ">>>>>> enough profit (서산 : A079650) - (4533 : 0.51) : 2016-10-14 00:00:00\n",
      ">>>>>> sell list (1) : 2016-10-14 00:00:00\n",
      "['A079650']\n",
      "\n",
      "\n"
     ]
    },
    {
     "name": "stderr",
     "output_type": "stream",
     "text": [
      "/Users/Shared/anaconda3/anaconda3/lib/python3.7/site-packages/ipykernel_launcher.py:689: SettingWithCopyWarning: \n",
      "A value is trying to be set on a copy of a slice from a DataFrame.\n",
      "Try using .loc[row_indexer,col_indexer] = value instead\n",
      "\n",
      "See the caveats in the documentation: http://pandas.pydata.org/pandas-docs/stable/indexing.html#indexing-view-versus-copy\n"
     ]
    },
    {
     "name": "stdout",
     "output_type": "stream",
     "text": [
      ">>>>>> buy list (1) : 2016-10-14 00:00:00\n",
      "남양유업(A003920) : 160\n",
      "\n",
      "\n",
      ">>>>>> enough periods (파인디지털 : A038950) - (5580 : -0.11) : 366 days 00:00:002016-11-02 00:00:00\n",
      ">>>>>> sell list (1) : 2016-11-02 00:00:00\n",
      "['A038950']\n",
      "\n",
      "\n"
     ]
    },
    {
     "name": "stderr",
     "output_type": "stream",
     "text": [
      "/Users/Shared/anaconda3/anaconda3/lib/python3.7/site-packages/ipykernel_launcher.py:689: SettingWithCopyWarning: \n",
      "A value is trying to be set on a copy of a slice from a DataFrame.\n",
      "Try using .loc[row_indexer,col_indexer] = value instead\n",
      "\n",
      "See the caveats in the documentation: http://pandas.pydata.org/pandas-docs/stable/indexing.html#indexing-view-versus-copy\n"
     ]
    },
    {
     "name": "stdout",
     "output_type": "stream",
     "text": [
      ">>>>>> buy list (1) : 2016-11-02 00:00:00\n",
      "서산(A079650) : 32052\n",
      "\n",
      "\n",
      ">>>>>> enough periods (좋은사람들 : A033340) - (1883 : -0.16) : 368 days 00:00:002016-11-14 00:00:00\n",
      ">>>>>> sell list (1) : 2016-11-14 00:00:00\n",
      "['A033340']\n",
      "\n",
      "\n"
     ]
    },
    {
     "name": "stderr",
     "output_type": "stream",
     "text": [
      "/Users/Shared/anaconda3/anaconda3/lib/python3.7/site-packages/ipykernel_launcher.py:689: SettingWithCopyWarning: \n",
      "A value is trying to be set on a copy of a slice from a DataFrame.\n",
      "Try using .loc[row_indexer,col_indexer] = value instead\n",
      "\n",
      "See the caveats in the documentation: http://pandas.pydata.org/pandas-docs/stable/indexing.html#indexing-view-versus-copy\n"
     ]
    },
    {
     "name": "stdout",
     "output_type": "stream",
     "text": [
      ">>>>>> buy list (1) : 2016-11-14 00:00:00\n",
      "파인디지털(A038950) : 2791\n",
      "\n",
      "\n",
      ">>>>>> enough periods (오리콤 : A010470) - (6630 : -0.46) : 366 days 00:00:002016-12-02 00:00:00\n",
      ">>>>>> sell list (1) : 2016-12-02 00:00:00\n",
      "['A010470']\n",
      "\n",
      "\n"
     ]
    },
    {
     "name": "stderr",
     "output_type": "stream",
     "text": [
      "/Users/Shared/anaconda3/anaconda3/lib/python3.7/site-packages/ipykernel_launcher.py:689: SettingWithCopyWarning: \n",
      "A value is trying to be set on a copy of a slice from a DataFrame.\n",
      "Try using .loc[row_indexer,col_indexer] = value instead\n",
      "\n",
      "See the caveats in the documentation: http://pandas.pydata.org/pandas-docs/stable/indexing.html#indexing-view-versus-copy\n"
     ]
    },
    {
     "name": "stdout",
     "output_type": "stream",
     "text": [
      ">>>>>> buy list (1) : 2016-12-02 00:00:00\n",
      "좋은사람들(A033340) : 11778\n",
      "\n",
      "\n",
      ">>>>>> enough profit (서산 : A079650) - (7720 : 0.84) : 2017-01-20 00:00:00\n",
      ">>>>>> sell list (1) : 2017-01-20 00:00:00\n",
      "['A079650']\n",
      "\n",
      "\n"
     ]
    },
    {
     "name": "stderr",
     "output_type": "stream",
     "text": [
      "/Users/Shared/anaconda3/anaconda3/lib/python3.7/site-packages/ipykernel_launcher.py:689: SettingWithCopyWarning: \n",
      "A value is trying to be set on a copy of a slice from a DataFrame.\n",
      "Try using .loc[row_indexer,col_indexer] = value instead\n",
      "\n",
      "See the caveats in the documentation: http://pandas.pydata.org/pandas-docs/stable/indexing.html#indexing-view-versus-copy\n"
     ]
    },
    {
     "name": "stdout",
     "output_type": "stream",
     "text": [
      ">>>>>> buy list (1) : 2017-01-20 00:00:00\n",
      "디아이동일(A001530) : 4286\n",
      "\n",
      "\n",
      ">>>>>> enough periods (남영비비안 : A002070) - (8330 : -0.15) : 366 days 00:00:002017-02-17 00:00:00\n",
      ">>>>>> sell list (1) : 2017-02-17 00:00:00\n",
      "['A002070']\n",
      "\n",
      "\n"
     ]
    },
    {
     "name": "stderr",
     "output_type": "stream",
     "text": [
      "/Users/Shared/anaconda3/anaconda3/lib/python3.7/site-packages/ipykernel_launcher.py:689: SettingWithCopyWarning: \n",
      "A value is trying to be set on a copy of a slice from a DataFrame.\n",
      "Try using .loc[row_indexer,col_indexer] = value instead\n",
      "\n",
      "See the caveats in the documentation: http://pandas.pydata.org/pandas-docs/stable/indexing.html#indexing-view-versus-copy\n"
     ]
    },
    {
     "name": "stdout",
     "output_type": "stream",
     "text": [
      ">>>>>> buy list (1) : 2017-02-17 00:00:00\n",
      "티비에이치글로벌(A084870) : 449\n",
      "\n",
      "\n",
      ">>>>>> enough periods (케이티 : A030200) - (33250 : 0.14) : 366 days 00:00:002017-03-24 00:00:00\n",
      ">>>>>> sell list (1) : 2017-03-24 00:00:00\n",
      "['A030200']\n",
      "\n",
      "\n"
     ]
    },
    {
     "name": "stderr",
     "output_type": "stream",
     "text": [
      "/Users/Shared/anaconda3/anaconda3/lib/python3.7/site-packages/ipykernel_launcher.py:689: SettingWithCopyWarning: \n",
      "A value is trying to be set on a copy of a slice from a DataFrame.\n",
      "Try using .loc[row_indexer,col_indexer] = value instead\n",
      "\n",
      "See the caveats in the documentation: http://pandas.pydata.org/pandas-docs/stable/indexing.html#indexing-view-versus-copy\n"
     ]
    },
    {
     "name": "stdout",
     "output_type": "stream",
     "text": [
      ">>>>>> buy list (1) : 2017-03-24 00:00:00\n",
      "사조대림(A003960) : 574\n",
      "\n",
      "\n",
      ">>>>>> enough periods (태광산업 : A003240) - (910000 : -0.02) : 366 days 00:00:002017-03-31 00:00:00\n",
      ">>>>>> sell list (1) : 2017-03-31 00:00:00\n",
      "['A003240']\n",
      "\n",
      "\n"
     ]
    },
    {
     "name": "stderr",
     "output_type": "stream",
     "text": [
      "/Users/Shared/anaconda3/anaconda3/lib/python3.7/site-packages/ipykernel_launcher.py:689: SettingWithCopyWarning: \n",
      "A value is trying to be set on a copy of a slice from a DataFrame.\n",
      "Try using .loc[row_indexer,col_indexer] = value instead\n",
      "\n",
      "See the caveats in the documentation: http://pandas.pydata.org/pandas-docs/stable/indexing.html#indexing-view-versus-copy\n"
     ]
    },
    {
     "name": "stdout",
     "output_type": "stream",
     "text": [
      ">>>>>> buy list (1) : 2017-03-31 00:00:00\n",
      "케이티(A030200) : 856\n",
      "\n",
      "\n",
      ">>>>>> enough periods (삼일제약 : A000520) - (7996 : -0.08) : 368 days 00:00:002017-04-03 00:00:00\n",
      ">>>>>> enough periods (LF : A093050) - (22450.0 : -0.11) : 367 days 00:00:002017-04-03 00:00:00\n",
      ">>>>>> sell list (2) : 2017-04-03 00:00:00\n",
      "['A000520', 'A093050']\n",
      "\n",
      "\n"
     ]
    },
    {
     "name": "stderr",
     "output_type": "stream",
     "text": [
      "/Users/Shared/anaconda3/anaconda3/lib/python3.7/site-packages/ipykernel_launcher.py:689: SettingWithCopyWarning: \n",
      "A value is trying to be set on a copy of a slice from a DataFrame.\n",
      "Try using .loc[row_indexer,col_indexer] = value instead\n",
      "\n",
      "See the caveats in the documentation: http://pandas.pydata.org/pandas-docs/stable/indexing.html#indexing-view-versus-copy\n"
     ]
    },
    {
     "name": "stdout",
     "output_type": "stream",
     "text": [
      ">>>>>> buy list (2) : 2017-04-03 00:00:00\n",
      "태광산업(A003240) : 24\n",
      "대한제분(A001130) : 123\n",
      "\n",
      "\n",
      ">>>>>> enough periods (메가스터디 : A072870) - (10918 : -0.22) : 366 days 00:00:002017-04-12 00:00:00\n",
      ">>>>>> sell list (1) : 2017-04-12 00:00:00\n",
      "['A072870']\n",
      "\n",
      "\n"
     ]
    },
    {
     "name": "stderr",
     "output_type": "stream",
     "text": [
      "/Users/Shared/anaconda3/anaconda3/lib/python3.7/site-packages/ipykernel_launcher.py:689: SettingWithCopyWarning: \n",
      "A value is trying to be set on a copy of a slice from a DataFrame.\n",
      "Try using .loc[row_indexer,col_indexer] = value instead\n",
      "\n",
      "See the caveats in the documentation: http://pandas.pydata.org/pandas-docs/stable/indexing.html#indexing-view-versus-copy\n"
     ]
    },
    {
     "name": "stdout",
     "output_type": "stream",
     "text": [
      ">>>>>> buy list (1) : 2017-04-12 00:00:00\n",
      "LF(A093050) : 316\n",
      "\n",
      "\n",
      ">>>>>> enough profit (LG전자 : A066570) - (77000 : 0.51) : 2017-05-08 00:00:00\n",
      ">>>>>> sell list (1) : 2017-05-08 00:00:00\n",
      "['A066570']\n",
      "\n",
      "\n"
     ]
    },
    {
     "name": "stderr",
     "output_type": "stream",
     "text": [
      "/Users/Shared/anaconda3/anaconda3/lib/python3.7/site-packages/ipykernel_launcher.py:689: SettingWithCopyWarning: \n",
      "A value is trying to be set on a copy of a slice from a DataFrame.\n",
      "Try using .loc[row_indexer,col_indexer] = value instead\n",
      "\n",
      "See the caveats in the documentation: http://pandas.pydata.org/pandas-docs/stable/indexing.html#indexing-view-versus-copy\n"
     ]
    },
    {
     "name": "stdout",
     "output_type": "stream",
     "text": [
      ">>>>>> buy list (1) : 2017-05-08 00:00:00\n",
      "삼일제약(A000520) : 4949\n",
      "\n",
      "\n",
      ">>>>>> enough periods (신원 : A009270) - (2500 : 0.33) : 366 days 00:00:002017-05-12 00:00:00\n",
      ">>>>>> sell list (1) : 2017-05-12 00:00:00\n",
      "['A009270']\n",
      "\n",
      "\n"
     ]
    },
    {
     "name": "stderr",
     "output_type": "stream",
     "text": [
      "/Users/Shared/anaconda3/anaconda3/lib/python3.7/site-packages/ipykernel_launcher.py:689: SettingWithCopyWarning: \n",
      "A value is trying to be set on a copy of a slice from a DataFrame.\n",
      "Try using .loc[row_indexer,col_indexer] = value instead\n",
      "\n",
      "See the caveats in the documentation: http://pandas.pydata.org/pandas-docs/stable/indexing.html#indexing-view-versus-copy\n"
     ]
    },
    {
     "name": "stdout",
     "output_type": "stream",
     "text": [
      ">>>>>> buy list (1) : 2017-05-12 00:00:00\n",
      "LG전자(A066570) : 280\n",
      "\n",
      "\n",
      ">>>>>> enough periods (한국석유공업 : A004090) - (108000 : -0.02) : 366 days 00:00:002017-05-17 00:00:00\n",
      ">>>>>> sell list (1) : 2017-05-17 00:00:00\n",
      "['A004090']\n",
      "\n",
      "\n"
     ]
    },
    {
     "name": "stderr",
     "output_type": "stream",
     "text": [
      "/Users/Shared/anaconda3/anaconda3/lib/python3.7/site-packages/ipykernel_launcher.py:689: SettingWithCopyWarning: \n",
      "A value is trying to be set on a copy of a slice from a DataFrame.\n",
      "Try using .loc[row_indexer,col_indexer] = value instead\n",
      "\n",
      "See the caveats in the documentation: http://pandas.pydata.org/pandas-docs/stable/indexing.html#indexing-view-versus-copy\n"
     ]
    },
    {
     "name": "stdout",
     "output_type": "stream",
     "text": [
      ">>>>>> buy list (1) : 2017-05-17 00:00:00\n",
      "화승알앤에이(A013520) : 10850\n",
      "\n",
      "\n",
      ">>>>>> enough periods (광림 : A014200) - (6180 : -0.2) : 366 days 00:00:002017-05-25 00:00:00\n",
      ">>>>>> sell list (1) : 2017-05-25 00:00:00\n",
      "['A014200']\n",
      "\n",
      "\n"
     ]
    },
    {
     "name": "stderr",
     "output_type": "stream",
     "text": [
      "/Users/Shared/anaconda3/anaconda3/lib/python3.7/site-packages/ipykernel_launcher.py:689: SettingWithCopyWarning: \n",
      "A value is trying to be set on a copy of a slice from a DataFrame.\n",
      "Try using .loc[row_indexer,col_indexer] = value instead\n",
      "\n",
      "See the caveats in the documentation: http://pandas.pydata.org/pandas-docs/stable/indexing.html#indexing-view-versus-copy\n"
     ]
    },
    {
     "name": "stdout",
     "output_type": "stream",
     "text": [
      ">>>>>> buy list (1) : 2017-05-25 00:00:00\n",
      "한국석유공업(A004090) : 361\n",
      "\n",
      "\n",
      ">>>>>> enough periods (중앙에너비스 : A000440) - (6990 : 0.23) : 366 days 00:00:002017-06-21 00:00:00\n",
      ">>>>>> sell list (1) : 2017-06-21 00:00:00\n",
      "['A000440']\n",
      "\n",
      "\n"
     ]
    },
    {
     "name": "stderr",
     "output_type": "stream",
     "text": [
      "/Users/Shared/anaconda3/anaconda3/lib/python3.7/site-packages/ipykernel_launcher.py:689: SettingWithCopyWarning: \n",
      "A value is trying to be set on a copy of a slice from a DataFrame.\n",
      "Try using .loc[row_indexer,col_indexer] = value instead\n",
      "\n",
      "See the caveats in the documentation: http://pandas.pydata.org/pandas-docs/stable/indexing.html#indexing-view-versus-copy\n"
     ]
    },
    {
     "name": "stdout",
     "output_type": "stream",
     "text": [
      ">>>>>> buy list (1) : 2017-06-21 00:00:00\n",
      "롯데쇼핑(A023530) : 20\n",
      "\n",
      "\n",
      ">>>>>> enough profit (사조대림 : A003960) - (28300 : 0.57) : 2017-06-27 00:00:00\n",
      ">>>>>> sell list (1) : 2017-06-27 00:00:00\n",
      "['A003960']\n",
      "\n",
      "\n"
     ]
    },
    {
     "name": "stderr",
     "output_type": "stream",
     "text": [
      "/Users/Shared/anaconda3/anaconda3/lib/python3.7/site-packages/ipykernel_launcher.py:689: SettingWithCopyWarning: \n",
      "A value is trying to be set on a copy of a slice from a DataFrame.\n",
      "Try using .loc[row_indexer,col_indexer] = value instead\n",
      "\n",
      "See the caveats in the documentation: http://pandas.pydata.org/pandas-docs/stable/indexing.html#indexing-view-versus-copy\n"
     ]
    },
    {
     "name": "stdout",
     "output_type": "stream",
     "text": [
      ">>>>>> buy list (1) : 2017-06-27 00:00:00\n",
      "중앙에너비스(A000440) : 2400\n",
      "\n",
      "\n",
      ">>>>>> enough periods (플랜티넷 : A075130) - (6240 : -0.03) : 367 days 00:00:002017-07-10 00:00:00\n",
      ">>>>>> sell list (1) : 2017-07-10 00:00:00\n",
      "['A075130']\n",
      "\n",
      "\n"
     ]
    },
    {
     "name": "stderr",
     "output_type": "stream",
     "text": [
      "/Users/Shared/anaconda3/anaconda3/lib/python3.7/site-packages/ipykernel_launcher.py:689: SettingWithCopyWarning: \n",
      "A value is trying to be set on a copy of a slice from a DataFrame.\n",
      "Try using .loc[row_indexer,col_indexer] = value instead\n",
      "\n",
      "See the caveats in the documentation: http://pandas.pydata.org/pandas-docs/stable/indexing.html#indexing-view-versus-copy\n"
     ]
    },
    {
     "name": "stdout",
     "output_type": "stream",
     "text": [
      ">>>>>> buy list (1) : 2017-07-10 00:00:00\n",
      "사조대림(A003960) : 2518\n",
      "\n",
      "\n",
      ">>>>>> enough periods (진도 : A088790) - (5770.0 : -0.22) : 366 days 00:00:002017-07-12 00:00:00\n",
      ">>>>>> sell list (1) : 2017-07-12 00:00:00\n",
      "['A088790']\n",
      "\n",
      "\n"
     ]
    },
    {
     "name": "stderr",
     "output_type": "stream",
     "text": [
      "/Users/Shared/anaconda3/anaconda3/lib/python3.7/site-packages/ipykernel_launcher.py:689: SettingWithCopyWarning: \n",
      "A value is trying to be set on a copy of a slice from a DataFrame.\n",
      "Try using .loc[row_indexer,col_indexer] = value instead\n",
      "\n",
      "See the caveats in the documentation: http://pandas.pydata.org/pandas-docs/stable/indexing.html#indexing-view-versus-copy\n"
     ]
    },
    {
     "name": "stdout",
     "output_type": "stream",
     "text": [
      ">>>>>> buy list (1) : 2017-07-12 00:00:00\n",
      "일정실업(A008500) : 1146\n",
      "\n",
      "\n",
      ">>>>>> enough periods (신영와코루 : A005800) - (167500 : 0.07) : 368 days 00:00:002017-07-24 00:00:00\n",
      ">>>>>> sell list (1) : 2017-07-24 00:00:00\n",
      "['A005800']\n",
      "\n",
      "\n"
     ]
    },
    {
     "name": "stderr",
     "output_type": "stream",
     "text": [
      "/Users/Shared/anaconda3/anaconda3/lib/python3.7/site-packages/ipykernel_launcher.py:689: SettingWithCopyWarning: \n",
      "A value is trying to be set on a copy of a slice from a DataFrame.\n",
      "Try using .loc[row_indexer,col_indexer] = value instead\n",
      "\n",
      "See the caveats in the documentation: http://pandas.pydata.org/pandas-docs/stable/indexing.html#indexing-view-versus-copy\n"
     ]
    },
    {
     "name": "stdout",
     "output_type": "stream",
     "text": [
      ">>>>>> buy list (1) : 2017-07-24 00:00:00\n",
      "진도(A088790) : 10184\n",
      "\n",
      "\n",
      ">>>>>> enough periods (NE능률 : A053290) - (5970 : -0.17) : 368 days 00:00:002017-09-11 00:00:00\n",
      ">>>>>> sell list (1) : 2017-09-11 00:00:00\n",
      "['A053290']\n",
      "\n",
      "\n"
     ]
    },
    {
     "name": "stderr",
     "output_type": "stream",
     "text": [
      "/Users/Shared/anaconda3/anaconda3/lib/python3.7/site-packages/ipykernel_launcher.py:689: SettingWithCopyWarning: \n",
      "A value is trying to be set on a copy of a slice from a DataFrame.\n",
      "Try using .loc[row_indexer,col_indexer] = value instead\n",
      "\n",
      "See the caveats in the documentation: http://pandas.pydata.org/pandas-docs/stable/indexing.html#indexing-view-versus-copy\n"
     ]
    },
    {
     "name": "stdout",
     "output_type": "stream",
     "text": [
      ">>>>>> buy list (1) : 2017-09-11 00:00:00\n",
      "신영와코루(A005800) : 42\n",
      "\n",
      "\n",
      ">>>>>> enough periods (지엔코 : A065060) - (1560 : -0.76) : 367 days 00:00:002017-09-25 00:00:00\n",
      ">>>>>> sell list (1) : 2017-09-25 00:00:00\n",
      "['A065060']\n",
      "\n",
      "\n"
     ]
    },
    {
     "name": "stderr",
     "output_type": "stream",
     "text": [
      "/Users/Shared/anaconda3/anaconda3/lib/python3.7/site-packages/ipykernel_launcher.py:689: SettingWithCopyWarning: \n",
      "A value is trying to be set on a copy of a slice from a DataFrame.\n",
      "Try using .loc[row_indexer,col_indexer] = value instead\n",
      "\n",
      "See the caveats in the documentation: http://pandas.pydata.org/pandas-docs/stable/indexing.html#indexing-view-versus-copy\n"
     ]
    },
    {
     "name": "stdout",
     "output_type": "stream",
     "text": [
      ">>>>>> buy list (1) : 2017-09-25 00:00:00\n",
      "팅크웨어(A084730) : 126\n",
      "\n",
      "\n",
      ">>>>>> enough periods (남양유업 : A003920) - (642000 : -0.07) : 367 days 00:00:002017-10-16 00:00:00\n",
      ">>>>>> sell list (1) : 2017-10-16 00:00:00\n",
      "['A003920']\n",
      "\n",
      "\n"
     ]
    },
    {
     "name": "stderr",
     "output_type": "stream",
     "text": [
      "/Users/Shared/anaconda3/anaconda3/lib/python3.7/site-packages/ipykernel_launcher.py:689: SettingWithCopyWarning: \n",
      "A value is trying to be set on a copy of a slice from a DataFrame.\n",
      "Try using .loc[row_indexer,col_indexer] = value instead\n",
      "\n",
      "See the caveats in the documentation: http://pandas.pydata.org/pandas-docs/stable/indexing.html#indexing-view-versus-copy\n"
     ]
    },
    {
     "name": "stdout",
     "output_type": "stream",
     "text": [
      ">>>>>> buy list (1) : 2017-10-16 00:00:00\n",
      "플랜티넷(A075130) : 20222\n",
      "\n",
      "\n",
      ">>>>>> enough periods (파인디지털 : A038950) - (5140 : -0.1) : 366 days 00:00:002017-11-15 00:00:00\n",
      ">>>>>> sell list (1) : 2017-11-15 00:00:00\n",
      "['A038950']\n",
      "\n",
      "\n"
     ]
    },
    {
     "name": "stderr",
     "output_type": "stream",
     "text": [
      "/Users/Shared/anaconda3/anaconda3/lib/python3.7/site-packages/ipykernel_launcher.py:689: SettingWithCopyWarning: \n",
      "A value is trying to be set on a copy of a slice from a DataFrame.\n",
      "Try using .loc[row_indexer,col_indexer] = value instead\n",
      "\n",
      "See the caveats in the documentation: http://pandas.pydata.org/pandas-docs/stable/indexing.html#indexing-view-versus-copy\n"
     ]
    },
    {
     "name": "stdout",
     "output_type": "stream",
     "text": [
      ">>>>>> buy list (1) : 2017-11-15 00:00:00\n",
      "남양유업(A003920) : 20\n",
      "\n",
      "\n",
      ">>>>>> enough periods (좋은사람들 : A033340) - (1611 : -0.06) : 367 days 00:00:002017-12-04 00:00:00\n",
      ">>>>>> sell list (1) : 2017-12-04 00:00:00\n",
      "['A033340']\n",
      "\n",
      "\n"
     ]
    },
    {
     "name": "stderr",
     "output_type": "stream",
     "text": [
      "/Users/Shared/anaconda3/anaconda3/lib/python3.7/site-packages/ipykernel_launcher.py:689: SettingWithCopyWarning: \n",
      "A value is trying to be set on a copy of a slice from a DataFrame.\n",
      "Try using .loc[row_indexer,col_indexer] = value instead\n",
      "\n",
      "See the caveats in the documentation: http://pandas.pydata.org/pandas-docs/stable/indexing.html#indexing-view-versus-copy\n"
     ]
    },
    {
     "name": "stdout",
     "output_type": "stream",
     "text": [
      ">>>>>> buy list (1) : 2017-12-04 00:00:00\n",
      "파인디지털(A038950) : 3871\n",
      "\n",
      "\n",
      ">>>>>> enough profit (태광산업 : A003240) - (1351000 : 0.5) : 2018-01-02 00:00:00\n",
      ">>>>>> sell list (1) : 2018-01-02 00:00:00\n",
      "['A003240']\n",
      "\n",
      "\n"
     ]
    },
    {
     "name": "stderr",
     "output_type": "stream",
     "text": [
      "/Users/Shared/anaconda3/anaconda3/lib/python3.7/site-packages/ipykernel_launcher.py:689: SettingWithCopyWarning: \n",
      "A value is trying to be set on a copy of a slice from a DataFrame.\n",
      "Try using .loc[row_indexer,col_indexer] = value instead\n",
      "\n",
      "See the caveats in the documentation: http://pandas.pydata.org/pandas-docs/stable/indexing.html#indexing-view-versus-copy\n"
     ]
    },
    {
     "name": "stdout",
     "output_type": "stream",
     "text": [
      ">>>>>> buy list (1) : 2018-01-02 00:00:00\n",
      "남영비비안(A002070) : 4323\n",
      "\n",
      "\n",
      ">>>>>> enough profit (LF : A093050) - (36300.0 : 0.53) : 2018-01-10 00:00:00\n",
      ">>>>>> sell list (1) : 2018-01-10 00:00:00\n",
      "['A093050']\n",
      "\n",
      "\n"
     ]
    },
    {
     "name": "stderr",
     "output_type": "stream",
     "text": [
      "/Users/Shared/anaconda3/anaconda3/lib/python3.7/site-packages/ipykernel_launcher.py:689: SettingWithCopyWarning: \n",
      "A value is trying to be set on a copy of a slice from a DataFrame.\n",
      "Try using .loc[row_indexer,col_indexer] = value instead\n",
      "\n",
      "See the caveats in the documentation: http://pandas.pydata.org/pandas-docs/stable/indexing.html#indexing-view-versus-copy\n"
     ]
    },
    {
     "name": "stdout",
     "output_type": "stream",
     "text": [
      ">>>>>> buy list (1) : 2018-01-10 00:00:00\n",
      "샘표(A007540) : 362\n",
      "\n",
      "\n",
      ">>>>>> enough periods (디아이동일 : A001530) - (52499 : -0.09) : 367 days 00:00:002018-01-22 00:00:00\n",
      ">>>>>> sell list (1) : 2018-01-22 00:00:00\n",
      "['A001530']\n",
      "\n",
      "\n"
     ]
    },
    {
     "name": "stderr",
     "output_type": "stream",
     "text": [
      "/Users/Shared/anaconda3/anaconda3/lib/python3.7/site-packages/ipykernel_launcher.py:689: SettingWithCopyWarning: \n",
      "A value is trying to be set on a copy of a slice from a DataFrame.\n",
      "Try using .loc[row_indexer,col_indexer] = value instead\n",
      "\n",
      "See the caveats in the documentation: http://pandas.pydata.org/pandas-docs/stable/indexing.html#indexing-view-versus-copy\n"
     ]
    },
    {
     "name": "stdout",
     "output_type": "stream",
     "text": [
      ">>>>>> buy list (1) : 2018-01-22 00:00:00\n",
      "대현(A016090) : 84438\n",
      "\n",
      "\n",
      ">>>>>> enough profit (삼일제약 : A000520) - (13294 : 0.65) : 2018-02-02 00:00:00\n",
      ">>>>>> sell list (1) : 2018-02-02 00:00:00\n",
      "['A000520']\n",
      "\n",
      "\n"
     ]
    },
    {
     "name": "stderr",
     "output_type": "stream",
     "text": [
      "/Users/Shared/anaconda3/anaconda3/lib/python3.7/site-packages/ipykernel_launcher.py:689: SettingWithCopyWarning: \n",
      "A value is trying to be set on a copy of a slice from a DataFrame.\n",
      "Try using .loc[row_indexer,col_indexer] = value instead\n",
      "\n",
      "See the caveats in the documentation: http://pandas.pydata.org/pandas-docs/stable/indexing.html#indexing-view-versus-copy\n"
     ]
    },
    {
     "name": "stdout",
     "output_type": "stream",
     "text": [
      ">>>>>> buy list (1) : 2018-02-02 00:00:00\n",
      "태광산업(A003240) : 47\n",
      "\n",
      "\n",
      ">>>>>> enough periods (티비에이치글로벌 : A084870) - (6930.0 : -0.25) : 367 days 00:00:002018-02-19 00:00:00\n",
      ">>>>>> sell list (1) : 2018-02-19 00:00:00\n",
      "['A084870']\n",
      "\n",
      "\n"
     ]
    },
    {
     "name": "stderr",
     "output_type": "stream",
     "text": [
      "/Users/Shared/anaconda3/anaconda3/lib/python3.7/site-packages/ipykernel_launcher.py:689: SettingWithCopyWarning: \n",
      "A value is trying to be set on a copy of a slice from a DataFrame.\n",
      "Try using .loc[row_indexer,col_indexer] = value instead\n",
      "\n",
      "See the caveats in the documentation: http://pandas.pydata.org/pandas-docs/stable/indexing.html#indexing-view-versus-copy\n"
     ]
    },
    {
     "name": "stdout",
     "output_type": "stream",
     "text": [
      ">>>>>> buy list (1) : 2018-02-19 00:00:00\n",
      "신성통상(A005390) : 3719\n",
      "\n",
      "\n",
      ">>>>>> enough periods (케이티 : A030200) - (27400 : -0.14) : 367 days 00:00:002018-04-02 00:00:00\n",
      ">>>>>> sell list (1) : 2018-04-02 00:00:00\n",
      "['A030200']\n",
      "\n",
      "\n"
     ]
    },
    {
     "name": "stderr",
     "output_type": "stream",
     "text": [
      "/Users/Shared/anaconda3/anaconda3/lib/python3.7/site-packages/ipykernel_launcher.py:689: SettingWithCopyWarning: \n",
      "A value is trying to be set on a copy of a slice from a DataFrame.\n",
      "Try using .loc[row_indexer,col_indexer] = value instead\n",
      "\n",
      "See the caveats in the documentation: http://pandas.pydata.org/pandas-docs/stable/indexing.html#indexing-view-versus-copy\n"
     ]
    },
    {
     "name": "stdout",
     "output_type": "stream",
     "text": [
      ">>>>>> buy list (1) : 2018-04-02 00:00:00\n",
      "웅진씽크빅(A095720) : 4268\n",
      "\n",
      "\n",
      ">>>>>> enough periods (대한제분 : A001130) - (168000 : -0.05) : 366 days 00:00:002018-04-04 00:00:00\n",
      ">>>>>> sell list (1) : 2018-04-04 00:00:00\n",
      "['A001130']\n",
      "\n",
      "\n"
     ]
    },
    {
     "name": "stderr",
     "output_type": "stream",
     "text": [
      "/Users/Shared/anaconda3/anaconda3/lib/python3.7/site-packages/ipykernel_launcher.py:689: SettingWithCopyWarning: \n",
      "A value is trying to be set on a copy of a slice from a DataFrame.\n",
      "Try using .loc[row_indexer,col_indexer] = value instead\n",
      "\n",
      "See the caveats in the documentation: http://pandas.pydata.org/pandas-docs/stable/indexing.html#indexing-view-versus-copy\n"
     ]
    },
    {
     "name": "stdout",
     "output_type": "stream",
     "text": [
      ">>>>>> buy list (1) : 2018-04-04 00:00:00\n",
      "케이티(A030200) : 746\n",
      "\n",
      "\n",
      ">>>>>> enough profit (한국석유공업 : A004090) - (185000 : 0.68) : 2018-05-02 00:00:00\n",
      ">>>>>> sell list (1) : 2018-05-02 00:00:00\n",
      "['A004090']\n",
      "\n",
      "\n"
     ]
    },
    {
     "name": "stderr",
     "output_type": "stream",
     "text": [
      "/Users/Shared/anaconda3/anaconda3/lib/python3.7/site-packages/ipykernel_launcher.py:689: SettingWithCopyWarning: \n",
      "A value is trying to be set on a copy of a slice from a DataFrame.\n",
      "Try using .loc[row_indexer,col_indexer] = value instead\n",
      "\n",
      "See the caveats in the documentation: http://pandas.pydata.org/pandas-docs/stable/indexing.html#indexing-view-versus-copy\n"
     ]
    },
    {
     "name": "stdout",
     "output_type": "stream",
     "text": [
      ">>>>>> buy list (1) : 2018-05-02 00:00:00\n",
      "아이즈비전(A031310) : 16531\n",
      "\n",
      "\n",
      ">>>>>> enough periods (LG전자 : A066570) - (97500 : 0.2) : 367 days 00:00:002018-05-14 00:00:00\n",
      ">>>>>> sell list (1) : 2018-05-14 00:00:00\n",
      "['A066570']\n",
      "\n",
      "\n"
     ]
    },
    {
     "name": "stderr",
     "output_type": "stream",
     "text": [
      "/Users/Shared/anaconda3/anaconda3/lib/python3.7/site-packages/ipykernel_launcher.py:689: SettingWithCopyWarning: \n",
      "A value is trying to be set on a copy of a slice from a DataFrame.\n",
      "Try using .loc[row_indexer,col_indexer] = value instead\n",
      "\n",
      "See the caveats in the documentation: http://pandas.pydata.org/pandas-docs/stable/indexing.html#indexing-view-versus-copy\n"
     ]
    },
    {
     "name": "stdout",
     "output_type": "stream",
     "text": [
      ">>>>>> buy list (1) : 2018-05-14 00:00:00\n",
      "대한제분(A001130) : 141\n",
      "\n",
      "\n",
      ">>>>>> enough periods (화승알앤에이 : A013520) - (2325 : -0.43) : 366 days 00:00:002018-05-18 00:00:00\n",
      ">>>>>> sell list (1) : 2018-05-18 00:00:00\n",
      "['A013520']\n",
      "\n",
      "\n"
     ]
    },
    {
     "name": "stderr",
     "output_type": "stream",
     "text": [
      "/Users/Shared/anaconda3/anaconda3/lib/python3.7/site-packages/ipykernel_launcher.py:689: SettingWithCopyWarning: \n",
      "A value is trying to be set on a copy of a slice from a DataFrame.\n",
      "Try using .loc[row_indexer,col_indexer] = value instead\n",
      "\n",
      "See the caveats in the documentation: http://pandas.pydata.org/pandas-docs/stable/indexing.html#indexing-view-versus-copy\n"
     ]
    },
    {
     "name": "stdout",
     "output_type": "stream",
     "text": [
      ">>>>>> buy list (1) : 2018-05-18 00:00:00\n",
      "한성기업(A003680) : 3425\n",
      "\n",
      "\n",
      ">>>>>> enough periods (롯데쇼핑 : A023530) - (203000.0 : -0.26) : 366 days 00:00:002018-06-22 00:00:00\n",
      ">>>>>> sell list (1) : 2018-06-22 00:00:00\n",
      "['A023530']\n",
      "\n",
      "\n",
      ">>>>>> buy list (1) : 2018-06-22 00:00:00\n",
      "DRB동일(A004840) : 630\n",
      "\n",
      "\n"
     ]
    },
    {
     "name": "stderr",
     "output_type": "stream",
     "text": [
      "/Users/Shared/anaconda3/anaconda3/lib/python3.7/site-packages/ipykernel_launcher.py:689: SettingWithCopyWarning: \n",
      "A value is trying to be set on a copy of a slice from a DataFrame.\n",
      "Try using .loc[row_indexer,col_indexer] = value instead\n",
      "\n",
      "See the caveats in the documentation: http://pandas.pydata.org/pandas-docs/stable/indexing.html#indexing-view-versus-copy\n"
     ]
    },
    {
     "name": "stdout",
     "output_type": "stream",
     "text": [
      ">>>>>> enough periods (중앙에너비스 : A000440) - (6780 : -0.01) : 366 days 00:00:002018-06-28 00:00:00\n",
      ">>>>>> sell list (1) : 2018-06-28 00:00:00\n",
      "['A000440']\n",
      "\n",
      "\n",
      ">>>>>> buy list (1) : 2018-06-28 00:00:00\n",
      "한섬(A020000) : 378\n",
      "\n",
      "\n"
     ]
    },
    {
     "name": "stderr",
     "output_type": "stream",
     "text": [
      "/Users/Shared/anaconda3/anaconda3/lib/python3.7/site-packages/ipykernel_launcher.py:689: SettingWithCopyWarning: \n",
      "A value is trying to be set on a copy of a slice from a DataFrame.\n",
      "Try using .loc[row_indexer,col_indexer] = value instead\n",
      "\n",
      "See the caveats in the documentation: http://pandas.pydata.org/pandas-docs/stable/indexing.html#indexing-view-versus-copy\n"
     ]
    },
    {
     "name": "stdout",
     "output_type": "stream",
     "text": [
      ">>>>>> enough profit (샘표 : A007540) - (48350 : 0.53) : 2018-07-09 00:00:00\n",
      ">>>>>> sell list (1) : 2018-07-09 00:00:00\n",
      "['A007540']\n",
      "\n",
      "\n",
      ">>>>>> buy list (1) : 2018-07-09 00:00:00\n",
      "듀오백(A073190) : 8218\n",
      "\n",
      "\n"
     ]
    },
    {
     "name": "stderr",
     "output_type": "stream",
     "text": [
      "/Users/Shared/anaconda3/anaconda3/lib/python3.7/site-packages/ipykernel_launcher.py:689: SettingWithCopyWarning: \n",
      "A value is trying to be set on a copy of a slice from a DataFrame.\n",
      "Try using .loc[row_indexer,col_indexer] = value instead\n",
      "\n",
      "See the caveats in the documentation: http://pandas.pydata.org/pandas-docs/stable/indexing.html#indexing-view-versus-copy\n"
     ]
    },
    {
     "name": "stdout",
     "output_type": "stream",
     "text": [
      ">>>>>> enough periods (사조대림 : A003960) - (25150 : -0.04) : 366 days 00:00:002018-07-11 00:00:00\n",
      ">>>>>> sell list (1) : 2018-07-11 00:00:00\n",
      "['A003960']\n",
      "\n",
      "\n",
      ">>>>>> buy list (1) : 2018-07-11 00:00:00\n",
      "샘표(A007540) : 1388\n",
      "\n",
      "\n"
     ]
    },
    {
     "name": "stderr",
     "output_type": "stream",
     "text": [
      "/Users/Shared/anaconda3/anaconda3/lib/python3.7/site-packages/ipykernel_launcher.py:689: SettingWithCopyWarning: \n",
      "A value is trying to be set on a copy of a slice from a DataFrame.\n",
      "Try using .loc[row_indexer,col_indexer] = value instead\n",
      "\n",
      "See the caveats in the documentation: http://pandas.pydata.org/pandas-docs/stable/indexing.html#indexing-view-versus-copy\n"
     ]
    },
    {
     "name": "stdout",
     "output_type": "stream",
     "text": [
      ">>>>>> enough periods (일정실업 : A008500) - (20250 : -0.3) : 366 days 00:00:002018-07-13 00:00:00\n",
      ">>>>>> sell list (1) : 2018-07-13 00:00:00\n",
      "['A008500']\n",
      "\n",
      "\n",
      ">>>>>> buy list (1) : 2018-07-13 00:00:00\n",
      "LF(A093050) : 806\n",
      "\n",
      "\n"
     ]
    },
    {
     "name": "stderr",
     "output_type": "stream",
     "text": [
      "/Users/Shared/anaconda3/anaconda3/lib/python3.7/site-packages/ipykernel_launcher.py:689: SettingWithCopyWarning: \n",
      "A value is trying to be set on a copy of a slice from a DataFrame.\n",
      "Try using .loc[row_indexer,col_indexer] = value instead\n",
      "\n",
      "See the caveats in the documentation: http://pandas.pydata.org/pandas-docs/stable/indexing.html#indexing-view-versus-copy\n"
     ]
    },
    {
     "name": "stdout",
     "output_type": "stream",
     "text": [
      ">>>>>> enough periods (진도 : A088790) - (5770.0 : -0.02) : 366 days 00:00:002018-07-25 00:00:00\n",
      ">>>>>> sell list (1) : 2018-07-25 00:00:00\n",
      "['A088790']\n",
      "\n",
      "\n",
      ">>>>>> buy list (1) : 2018-07-25 00:00:00\n",
      "한국석유공업(A004090) : 391\n",
      "\n",
      "\n"
     ]
    },
    {
     "name": "stderr",
     "output_type": "stream",
     "text": [
      "/Users/Shared/anaconda3/anaconda3/lib/python3.7/site-packages/ipykernel_launcher.py:689: SettingWithCopyWarning: \n",
      "A value is trying to be set on a copy of a slice from a DataFrame.\n",
      "Try using .loc[row_indexer,col_indexer] = value instead\n",
      "\n",
      "See the caveats in the documentation: http://pandas.pydata.org/pandas-docs/stable/indexing.html#indexing-view-versus-copy\n"
     ]
    },
    {
     "name": "stdout",
     "output_type": "stream",
     "text": [
      ">>>>>> enough periods (신영와코루 : A005800) - (128500 : -0.2) : 366 days 00:00:002018-09-12 00:00:00\n",
      ">>>>>> sell list (1) : 2018-09-12 00:00:00\n",
      "['A005800']\n",
      "\n",
      "\n",
      ">>>>>> buy list (1) : 2018-09-12 00:00:00\n",
      "진도(A088790) : 1046\n",
      "\n",
      "\n"
     ]
    },
    {
     "name": "stderr",
     "output_type": "stream",
     "text": [
      "/Users/Shared/anaconda3/anaconda3/lib/python3.7/site-packages/ipykernel_launcher.py:689: SettingWithCopyWarning: \n",
      "A value is trying to be set on a copy of a slice from a DataFrame.\n",
      "Try using .loc[row_indexer,col_indexer] = value instead\n",
      "\n",
      "See the caveats in the documentation: http://pandas.pydata.org/pandas-docs/stable/indexing.html#indexing-view-versus-copy\n"
     ]
    },
    {
     "name": "stdout",
     "output_type": "stream",
     "text": [
      ">>>>>> enough periods (팅크웨어 : A084730) - (8470.0 : -0.17) : 367 days 00:00:002018-09-27 00:00:00\n",
      ">>>>>> sell list (1) : 2018-09-27 00:00:00\n",
      "['A084730']\n",
      "\n",
      "\n",
      ">>>>>> buy list (1) : 2018-09-27 00:00:00\n",
      "신영와코루(A005800) : 8\n",
      "\n",
      "\n"
     ]
    },
    {
     "name": "stderr",
     "output_type": "stream",
     "text": [
      "/Users/Shared/anaconda3/anaconda3/lib/python3.7/site-packages/ipykernel_launcher.py:689: SettingWithCopyWarning: \n",
      "A value is trying to be set on a copy of a slice from a DataFrame.\n",
      "Try using .loc[row_indexer,col_indexer] = value instead\n",
      "\n",
      "See the caveats in the documentation: http://pandas.pydata.org/pandas-docs/stable/indexing.html#indexing-view-versus-copy\n",
      "/Users/Shared/anaconda3/anaconda3/lib/python3.7/site-packages/ipykernel_launcher.py:689: SettingWithCopyWarning: \n",
      "A value is trying to be set on a copy of a slice from a DataFrame.\n",
      "Try using .loc[row_indexer,col_indexer] = value instead\n",
      "\n",
      "See the caveats in the documentation: http://pandas.pydata.org/pandas-docs/stable/indexing.html#indexing-view-versus-copy\n"
     ]
    },
    {
     "name": "stdout",
     "output_type": "stream",
     "text": [
      ">>>>>> enough profit (아이즈비전 : A031310) - (6090 : 0.51) : 2018-09-28 00:00:00\n",
      ">>>>>> sell list (1) : 2018-09-28 00:00:00\n",
      "['A031310']\n",
      "\n",
      "\n",
      ">>>>>> buy list (1) : 2018-09-28 00:00:00\n",
      "팅크웨어(A084730) : 12044\n",
      "\n",
      "\n",
      ">>>>>> enough periods (플랜티넷 : A075130) - (4835 : -0.05) : 366 days 00:00:002018-10-17 00:00:00\n",
      ">>>>>> sell list (1) : 2018-10-17 00:00:00\n",
      "['A075130']\n",
      "\n",
      "\n",
      ">>>>>> buy list (1) : 2018-10-17 00:00:00\n",
      "아이즈비전(A031310) : 17745\n",
      "\n",
      "\n"
     ]
    },
    {
     "name": "stderr",
     "output_type": "stream",
     "text": [
      "/Users/Shared/anaconda3/anaconda3/lib/python3.7/site-packages/ipykernel_launcher.py:689: SettingWithCopyWarning: \n",
      "A value is trying to be set on a copy of a slice from a DataFrame.\n",
      "Try using .loc[row_indexer,col_indexer] = value instead\n",
      "\n",
      "See the caveats in the documentation: http://pandas.pydata.org/pandas-docs/stable/indexing.html#indexing-view-versus-copy\n"
     ]
    },
    {
     "name": "stdout",
     "output_type": "stream",
     "text": [
      ">>>>>> enough periods (남양유업 : A003920) - (613000 : -0.13) : 366 days 00:00:002018-11-16 00:00:00\n",
      ">>>>>> sell list (1) : 2018-11-16 00:00:00\n",
      "['A003920']\n",
      "\n",
      "\n",
      ">>>>>> buy list (1) : 2018-11-16 00:00:00\n",
      "모나미(A005360) : 4654\n",
      "\n",
      "\n"
     ]
    },
    {
     "name": "stderr",
     "output_type": "stream",
     "text": [
      "/Users/Shared/anaconda3/anaconda3/lib/python3.7/site-packages/ipykernel_launcher.py:689: SettingWithCopyWarning: \n",
      "A value is trying to be set on a copy of a slice from a DataFrame.\n",
      "Try using .loc[row_indexer,col_indexer] = value instead\n",
      "\n",
      "See the caveats in the documentation: http://pandas.pydata.org/pandas-docs/stable/indexing.html#indexing-view-versus-copy\n"
     ]
    },
    {
     "name": "stdout",
     "output_type": "stream",
     "text": [
      ">>>>>> enough periods (파인디지털 : A038950) - (3605 : -0.27) : 366 days 00:00:002018-12-05 00:00:00\n",
      ">>>>>> sell list (1) : 2018-12-05 00:00:00\n",
      "['A038950']\n",
      "\n",
      "\n",
      ">>>>>> buy list (1) : 2018-12-05 00:00:00\n",
      "남양유업(A003920) : 21\n",
      "\n",
      "\n"
     ]
    },
    {
     "name": "stderr",
     "output_type": "stream",
     "text": [
      "/Users/Shared/anaconda3/anaconda3/lib/python3.7/site-packages/ipykernel_launcher.py:689: SettingWithCopyWarning: \n",
      "A value is trying to be set on a copy of a slice from a DataFrame.\n",
      "Try using .loc[row_indexer,col_indexer] = value instead\n",
      "\n",
      "See the caveats in the documentation: http://pandas.pydata.org/pandas-docs/stable/indexing.html#indexing-view-versus-copy\n"
     ]
    },
    {
     "name": "stdout",
     "output_type": "stream",
     "text": [
      ">>>>>> enough periods (남영비비안 : A002070) - (6020 : -0.2) : 366 days 00:00:002019-01-03 00:00:00\n",
      ">>>>>> sell list (1) : 2019-01-03 00:00:00\n",
      "['A002070']\n",
      "\n",
      "\n",
      ">>>>>> buy list (1) : 2019-01-03 00:00:00\n",
      "디아이동일(A001530) : 463\n",
      "\n",
      "\n"
     ]
    },
    {
     "name": "stderr",
     "output_type": "stream",
     "text": [
      "/Users/Shared/anaconda3/anaconda3/lib/python3.7/site-packages/ipykernel_launcher.py:689: SettingWithCopyWarning: \n",
      "A value is trying to be set on a copy of a slice from a DataFrame.\n",
      "Try using .loc[row_indexer,col_indexer] = value instead\n",
      "\n",
      "See the caveats in the documentation: http://pandas.pydata.org/pandas-docs/stable/indexing.html#indexing-view-versus-copy\n"
     ]
    },
    {
     "name": "stdout",
     "output_type": "stream",
     "text": [
      ">>>>>> enough periods (대현 : A016090) - (2430 : -0.09) : 366 days 00:00:002019-01-23 00:00:00\n",
      ">>>>>> sell list (1) : 2019-01-23 00:00:00\n",
      "['A016090']\n",
      "\n",
      "\n",
      ">>>>>> buy list (1) : 2019-01-23 00:00:00\n",
      "GST(A083450) : 41454\n",
      "\n",
      "\n"
     ]
    },
    {
     "name": "stderr",
     "output_type": "stream",
     "text": [
      "/Users/Shared/anaconda3/anaconda3/lib/python3.7/site-packages/ipykernel_launcher.py:689: SettingWithCopyWarning: \n",
      "A value is trying to be set on a copy of a slice from a DataFrame.\n",
      "Try using .loc[row_indexer,col_indexer] = value instead\n",
      "\n",
      "See the caveats in the documentation: http://pandas.pydata.org/pandas-docs/stable/indexing.html#indexing-view-versus-copy\n"
     ]
    },
    {
     "name": "stdout",
     "output_type": "stream",
     "text": [
      ">>>>>> enough periods (태광산업 : A003240) - (1400000 : 0.02) : 370 days 00:00:002019-02-07 00:00:00\n",
      ">>>>>> sell list (1) : 2019-02-07 00:00:00\n",
      "['A003240']\n",
      "\n",
      "\n",
      ">>>>>> buy list (1) : 2019-02-07 00:00:00\n",
      "대현(A016090) : 25754\n",
      "\n",
      "\n"
     ]
    },
    {
     "name": "stderr",
     "output_type": "stream",
     "text": [
      "/Users/Shared/anaconda3/anaconda3/lib/python3.7/site-packages/ipykernel_launcher.py:689: SettingWithCopyWarning: \n",
      "A value is trying to be set on a copy of a slice from a DataFrame.\n",
      "Try using .loc[row_indexer,col_indexer] = value instead\n",
      "\n",
      "See the caveats in the documentation: http://pandas.pydata.org/pandas-docs/stable/indexing.html#indexing-view-versus-copy\n"
     ]
    },
    {
     "name": "stdout",
     "output_type": "stream",
     "text": [
      ">>>>>> enough periods (신성통상 : A005390) - (1000 : -0.11) : 366 days 00:00:002019-02-20 00:00:00\n",
      ">>>>>> sell list (1) : 2019-02-20 00:00:00\n",
      "['A005390']\n",
      "\n",
      "\n",
      ">>>>>> buy list (1) : 2019-02-20 00:00:00\n",
      "파인디지털(A038950) : 936\n",
      "\n",
      "\n"
     ]
    },
    {
     "name": "stderr",
     "output_type": "stream",
     "text": [
      "/Users/Shared/anaconda3/anaconda3/lib/python3.7/site-packages/ipykernel_launcher.py:689: SettingWithCopyWarning: \n",
      "A value is trying to be set on a copy of a slice from a DataFrame.\n",
      "Try using .loc[row_indexer,col_indexer] = value instead\n",
      "\n",
      "See the caveats in the documentation: http://pandas.pydata.org/pandas-docs/stable/indexing.html#indexing-view-versus-copy\n"
     ]
    },
    {
     "name": "stdout",
     "output_type": "stream",
     "text": [
      ">>>>>> enough profit (GST : A083450) - (7650.0 : 0.55) : 2019-04-02 00:00:00\n",
      ">>>>>> sell list (1) : 2019-04-02 00:00:00\n",
      "['A083450']\n",
      "\n",
      "\n",
      ">>>>>> buy list (1) : 2019-04-02 00:00:00\n",
      "부방(A014470) : 109165\n",
      "\n",
      "\n",
      ">>>>>> enough periods (웅진씽크빅 : A095720) - (2910.0 : -0.47) : 366 days 00:00:002019-04-03 00:00:00\n",
      ">>>>>> sell list (1) : 2019-04-03 00:00:00\n",
      "['A095720']\n",
      "\n",
      "\n"
     ]
    },
    {
     "name": "stderr",
     "output_type": "stream",
     "text": [
      "/Users/Shared/anaconda3/anaconda3/lib/python3.7/site-packages/ipykernel_launcher.py:689: SettingWithCopyWarning: \n",
      "A value is trying to be set on a copy of a slice from a DataFrame.\n",
      "Try using .loc[row_indexer,col_indexer] = value instead\n",
      "\n",
      "See the caveats in the documentation: http://pandas.pydata.org/pandas-docs/stable/indexing.html#indexing-view-versus-copy\n",
      "/Users/Shared/anaconda3/anaconda3/lib/python3.7/site-packages/ipykernel_launcher.py:689: SettingWithCopyWarning: \n",
      "A value is trying to be set on a copy of a slice from a DataFrame.\n",
      "Try using .loc[row_indexer,col_indexer] = value instead\n",
      "\n",
      "See the caveats in the documentation: http://pandas.pydata.org/pandas-docs/stable/indexing.html#indexing-view-versus-copy\n"
     ]
    },
    {
     "name": "stdout",
     "output_type": "stream",
     "text": [
      ">>>>>> buy list (1) : 2019-04-03 00:00:00\n",
      "GST(A083450) : 1546\n",
      "\n",
      "\n",
      ">>>>>> enough periods (케이티 : A030200) - (27600 : -0.0) : 366 days 00:00:002019-04-05 00:00:00\n",
      ">>>>>> sell list (1) : 2019-04-05 00:00:00\n",
      "['A030200']\n",
      "\n",
      "\n"
     ]
    },
    {
     "name": "stderr",
     "output_type": "stream",
     "text": [
      "/Users/Shared/anaconda3/anaconda3/lib/python3.7/site-packages/ipykernel_launcher.py:689: SettingWithCopyWarning: \n",
      "A value is trying to be set on a copy of a slice from a DataFrame.\n",
      "Try using .loc[row_indexer,col_indexer] = value instead\n",
      "\n",
      "See the caveats in the documentation: http://pandas.pydata.org/pandas-docs/stable/indexing.html#indexing-view-versus-copy\n"
     ]
    },
    {
     "name": "stdout",
     "output_type": "stream",
     "text": [
      ">>>>>> buy list (1) : 2019-04-05 00:00:00\n",
      "웅진씽크빅(A095720) : 6888\n",
      "\n",
      "\n",
      ">>>>>> enough profit (디아이동일 : A001530) - (85800 : 0.51) : 2019-04-09 00:00:00\n",
      ">>>>>> sell list (1) : 2019-04-09 00:00:00\n",
      "['A001530']\n",
      "\n",
      "\n"
     ]
    },
    {
     "name": "stderr",
     "output_type": "stream",
     "text": [
      "/Users/Shared/anaconda3/anaconda3/lib/python3.7/site-packages/ipykernel_launcher.py:689: SettingWithCopyWarning: \n",
      "A value is trying to be set on a copy of a slice from a DataFrame.\n",
      "Try using .loc[row_indexer,col_indexer] = value instead\n",
      "\n",
      "See the caveats in the documentation: http://pandas.pydata.org/pandas-docs/stable/indexing.html#indexing-view-versus-copy\n"
     ]
    },
    {
     "name": "stdout",
     "output_type": "stream",
     "text": [
      ">>>>>> buy list (1) : 2019-04-09 00:00:00\n",
      "케이티(A030200) : 1460\n",
      "\n",
      "\n",
      ">>>>>> enough profit (듀오백 : A073190) - (3250 : 0.53) : 2019-04-17 00:00:00\n",
      ">>>>>> sell list (1) : 2019-04-17 00:00:00\n",
      "['A073190']\n",
      "\n",
      "\n"
     ]
    },
    {
     "name": "stderr",
     "output_type": "stream",
     "text": [
      "/Users/Shared/anaconda3/anaconda3/lib/python3.7/site-packages/ipykernel_launcher.py:689: SettingWithCopyWarning: \n",
      "A value is trying to be set on a copy of a slice from a DataFrame.\n",
      "Try using .loc[row_indexer,col_indexer] = value instead\n",
      "\n",
      "See the caveats in the documentation: http://pandas.pydata.org/pandas-docs/stable/indexing.html#indexing-view-versus-copy\n"
     ]
    },
    {
     "name": "stdout",
     "output_type": "stream",
     "text": [
      ">>>>>> buy list (1) : 2019-04-17 00:00:00\n",
      "디아이동일(A001530) : 280\n",
      "\n",
      "\n",
      ">>>>>> enough periods (대한제분 : A001130) - (211500 : 0.1) : 366 days 00:00:002019-05-15 00:00:00\n",
      ">>>>>> sell list (1) : 2019-05-15 00:00:00\n",
      "['A001130']\n",
      "\n",
      "\n",
      ">>>>>> buy list (1) : 2019-05-15 00:00:00\n",
      "태광산업(A003240) : 20\n",
      "\n",
      "\n"
     ]
    },
    {
     "name": "stderr",
     "output_type": "stream",
     "text": [
      "/Users/Shared/anaconda3/anaconda3/lib/python3.7/site-packages/ipykernel_launcher.py:689: SettingWithCopyWarning: \n",
      "A value is trying to be set on a copy of a slice from a DataFrame.\n",
      "Try using .loc[row_indexer,col_indexer] = value instead\n",
      "\n",
      "See the caveats in the documentation: http://pandas.pydata.org/pandas-docs/stable/indexing.html#indexing-view-versus-copy\n"
     ]
    },
    {
     "name": "stdout",
     "output_type": "stream",
     "text": [
      ">>>>>> enough periods (한성기업 : A003680) - (6850 : -0.08) : 367 days 00:00:002019-05-20 00:00:00\n",
      ">>>>>> sell list (1) : 2019-05-20 00:00:00\n",
      "['A003680']\n",
      "\n",
      "\n",
      ">>>>>> buy list (1) : 2019-05-20 00:00:00\n",
      "플랜티넷(A075130) : 4499\n",
      "\n",
      "\n"
     ]
    },
    {
     "name": "stderr",
     "output_type": "stream",
     "text": [
      "/Users/Shared/anaconda3/anaconda3/lib/python3.7/site-packages/ipykernel_launcher.py:689: SettingWithCopyWarning: \n",
      "A value is trying to be set on a copy of a slice from a DataFrame.\n",
      "Try using .loc[row_indexer,col_indexer] = value instead\n",
      "\n",
      "See the caveats in the documentation: http://pandas.pydata.org/pandas-docs/stable/indexing.html#indexing-view-versus-copy\n"
     ]
    },
    {
     "name": "stdout",
     "output_type": "stream",
     "text": [
      ">>>>>> enough periods (DRB동일 : A004840) - (6190 : -0.04) : 367 days 00:00:002019-06-24 00:00:00\n",
      ">>>>>> sell list (1) : 2019-06-24 00:00:00\n",
      "['A004840']\n",
      "\n",
      "\n",
      ">>>>>> buy list (1) : 2019-06-24 00:00:00\n",
      "신성통상(A005390) : 3615\n",
      "\n",
      "\n"
     ]
    },
    {
     "name": "stderr",
     "output_type": "stream",
     "text": [
      "/Users/Shared/anaconda3/anaconda3/lib/python3.7/site-packages/ipykernel_launcher.py:689: SettingWithCopyWarning: \n",
      "A value is trying to be set on a copy of a slice from a DataFrame.\n",
      "Try using .loc[row_indexer,col_indexer] = value instead\n",
      "\n",
      "See the caveats in the documentation: http://pandas.pydata.org/pandas-docs/stable/indexing.html#indexing-view-versus-copy\n"
     ]
    },
    {
     "name": "stdout",
     "output_type": "stream",
     "text": [
      ">>>>>> enough periods (한섬 : A020000) - (36350 : -0.16) : 368 days 00:00:002019-07-01 00:00:00\n",
      ">>>>>> sell list (1) : 2019-07-01 00:00:00\n",
      "['A020000']\n",
      "\n",
      "\n",
      ">>>>>> buy list (1) : 2019-07-01 00:00:00\n",
      "제우스(A079370) : 1056\n",
      "\n",
      "\n"
     ]
    },
    {
     "name": "stderr",
     "output_type": "stream",
     "text": [
      "/Users/Shared/anaconda3/anaconda3/lib/python3.7/site-packages/ipykernel_launcher.py:689: SettingWithCopyWarning: \n",
      "A value is trying to be set on a copy of a slice from a DataFrame.\n",
      "Try using .loc[row_indexer,col_indexer] = value instead\n",
      "\n",
      "See the caveats in the documentation: http://pandas.pydata.org/pandas-docs/stable/indexing.html#indexing-view-versus-copy\n"
     ]
    },
    {
     "name": "stdout",
     "output_type": "stream",
     "text": [
      ">>>>>> enough profit (모나미 : A005360) - (4520 : 0.72) : 2019-07-08 00:00:00\n",
      ">>>>>> sell list (1) : 2019-07-08 00:00:00\n",
      "['A005360']\n",
      "\n",
      "\n",
      ">>>>>> buy list (1) : 2019-07-08 00:00:00\n",
      "세이브존I&C(A067830) : 5524\n",
      "\n",
      "\n"
     ]
    },
    {
     "name": "stderr",
     "output_type": "stream",
     "text": [
      "/Users/Shared/anaconda3/anaconda3/lib/python3.7/site-packages/ipykernel_launcher.py:689: SettingWithCopyWarning: \n",
      "A value is trying to be set on a copy of a slice from a DataFrame.\n",
      "Try using .loc[row_indexer,col_indexer] = value instead\n",
      "\n",
      "See the caveats in the documentation: http://pandas.pydata.org/pandas-docs/stable/indexing.html#indexing-view-versus-copy\n"
     ]
    },
    {
     "name": "stdout",
     "output_type": "stream",
     "text": [
      ">>>>>> enough periods (샘표 : A007540) - (40700 : -0.11) : 366 days 00:00:002019-07-12 00:00:00\n",
      ">>>>>> sell list (1) : 2019-07-12 00:00:00\n",
      "['A007540']\n",
      "\n",
      "\n",
      ">>>>>> buy list (1) : 2019-07-12 00:00:00\n",
      "대한제분(A001130) : 285\n",
      "\n",
      "\n",
      ">>>>>> enough periods (LF : A093050) - (25100.0 : -0.13) : 367 days 00:00:002019-07-15 00:00:00\n",
      ">>>>>> sell list (1) : 2019-07-15 00:00:00\n",
      "['A093050']\n",
      "\n",
      "\n"
     ]
    },
    {
     "name": "stderr",
     "output_type": "stream",
     "text": [
      "/Users/Shared/anaconda3/anaconda3/lib/python3.7/site-packages/ipykernel_launcher.py:689: SettingWithCopyWarning: \n",
      "A value is trying to be set on a copy of a slice from a DataFrame.\n",
      "Try using .loc[row_indexer,col_indexer] = value instead\n",
      "\n",
      "See the caveats in the documentation: http://pandas.pydata.org/pandas-docs/stable/indexing.html#indexing-view-versus-copy\n",
      "/Users/Shared/anaconda3/anaconda3/lib/python3.7/site-packages/ipykernel_launcher.py:689: SettingWithCopyWarning: \n",
      "A value is trying to be set on a copy of a slice from a DataFrame.\n",
      "Try using .loc[row_indexer,col_indexer] = value instead\n",
      "\n",
      "See the caveats in the documentation: http://pandas.pydata.org/pandas-docs/stable/indexing.html#indexing-view-versus-copy\n"
     ]
    },
    {
     "name": "stdout",
     "output_type": "stream",
     "text": [
      ">>>>>> buy list (1) : 2019-07-15 00:00:00\n",
      "샘표(A007540) : 509\n",
      "\n",
      "\n",
      ">>>>>> enough periods (한국석유공업 : A004090) - (101000 : -0.33) : 366 days 00:00:002019-07-26 00:00:00\n",
      ">>>>>> sell list (1) : 2019-07-26 00:00:00\n",
      "['A004090']\n",
      "\n",
      "\n"
     ]
    },
    {
     "name": "stderr",
     "output_type": "stream",
     "text": [
      "/Users/Shared/anaconda3/anaconda3/lib/python3.7/site-packages/ipykernel_launcher.py:689: SettingWithCopyWarning: \n",
      "A value is trying to be set on a copy of a slice from a DataFrame.\n",
      "Try using .loc[row_indexer,col_indexer] = value instead\n",
      "\n",
      "See the caveats in the documentation: http://pandas.pydata.org/pandas-docs/stable/indexing.html#indexing-view-versus-copy\n"
     ]
    },
    {
     "name": "stdout",
     "output_type": "stream",
     "text": [
      ">>>>>> buy list (1) : 2019-07-26 00:00:00\n",
      "LF(A093050) : 1564\n",
      "\n",
      "\n",
      ">>>>>> enough profit (신성통상 : A005390) - (1920 : 0.78) : 2019-08-05 00:00:00\n",
      ">>>>>> sell list (1) : 2019-08-05 00:00:00\n",
      "['A005390']\n",
      "\n",
      "\n"
     ]
    },
    {
     "name": "stderr",
     "output_type": "stream",
     "text": [
      "/Users/Shared/anaconda3/anaconda3/lib/python3.7/site-packages/ipykernel_launcher.py:689: SettingWithCopyWarning: \n",
      "A value is trying to be set on a copy of a slice from a DataFrame.\n",
      "Try using .loc[row_indexer,col_indexer] = value instead\n",
      "\n",
      "See the caveats in the documentation: http://pandas.pydata.org/pandas-docs/stable/indexing.html#indexing-view-versus-copy\n"
     ]
    },
    {
     "name": "stdout",
     "output_type": "stream",
     "text": [
      ">>>>>> buy list (1) : 2019-08-05 00:00:00\n",
      "현대백화점(A069960) : 97\n",
      "\n",
      "\n",
      ">>>>>> enough periods (진도 : A088790) - (3735.0 : -0.29) : 369 days 00:00:002019-09-16 00:00:00\n",
      ">>>>>> sell list (1) : 2019-09-16 00:00:00\n",
      "['A088790']\n",
      "\n",
      "\n",
      ">>>>>> buy list (1) : 2019-09-16 00:00:00\n",
      "신성통상(A005390) : 2213\n",
      "\n",
      "\n"
     ]
    },
    {
     "name": "stderr",
     "output_type": "stream",
     "text": [
      "/Users/Shared/anaconda3/anaconda3/lib/python3.7/site-packages/ipykernel_launcher.py:689: SettingWithCopyWarning: \n",
      "A value is trying to be set on a copy of a slice from a DataFrame.\n",
      "Try using .loc[row_indexer,col_indexer] = value instead\n",
      "\n",
      "See the caveats in the documentation: http://pandas.pydata.org/pandas-docs/stable/indexing.html#indexing-view-versus-copy\n"
     ]
    },
    {
     "name": "stdout",
     "output_type": "stream",
     "text": [
      ">>>>>> enough periods (신영와코루 : A005800) - (109000 : -0.17) : 368 days 00:00:002019-09-30 00:00:00\n",
      ">>>>>> enough periods (팅크웨어 : A084730) - (7290.0 : -0.13) : 367 days 00:00:002019-09-30 00:00:00\n",
      ">>>>>> sell list (2) : 2019-09-30 00:00:00\n",
      "['A005800', 'A084730']\n",
      "\n",
      "\n",
      ">>>>>> buy list (2) : 2019-09-30 00:00:00\n",
      "진도(A088790) : 11667\n",
      "리드코프(A012700) : 7093\n",
      "\n",
      "\n"
     ]
    },
    {
     "name": "stderr",
     "output_type": "stream",
     "text": [
      "/Users/Shared/anaconda3/anaconda3/lib/python3.7/site-packages/ipykernel_launcher.py:689: SettingWithCopyWarning: \n",
      "A value is trying to be set on a copy of a slice from a DataFrame.\n",
      "Try using .loc[row_indexer,col_indexer] = value instead\n",
      "\n",
      "See the caveats in the documentation: http://pandas.pydata.org/pandas-docs/stable/indexing.html#indexing-view-versus-copy\n"
     ]
    },
    {
     "name": "stdout",
     "output_type": "stream",
     "text": [
      ">>>>>> enough periods (아이즈비전 : A031310) - (4395 : -0.2) : 366 days 00:00:002019-10-18 00:00:00\n",
      ">>>>>> sell list (1) : 2019-10-18 00:00:00\n",
      "['A031310']\n",
      "\n",
      "\n",
      ">>>>>> buy list (1) : 2019-10-18 00:00:00\n",
      "신영와코루(A005800) : 728\n",
      "\n",
      "\n"
     ]
    },
    {
     "name": "stderr",
     "output_type": "stream",
     "text": [
      "/Users/Shared/anaconda3/anaconda3/lib/python3.7/site-packages/ipykernel_launcher.py:689: SettingWithCopyWarning: \n",
      "A value is trying to be set on a copy of a slice from a DataFrame.\n",
      "Try using .loc[row_indexer,col_indexer] = value instead\n",
      "\n",
      "See the caveats in the documentation: http://pandas.pydata.org/pandas-docs/stable/indexing.html#indexing-view-versus-copy\n"
     ]
    }
   ],
   "source": [
    "max_profit = 0.5\n",
    "max_holding_days=365\n",
    "total_pf_df = get_portfolio_backtest_df(get_qp_portfolio, start_date, price_df, 20, initial_money, max_profit, max_holding_days)\n",
    "bt1 = get_backtest_result_from_pf(total_pf_df, price_df)\n",
    "\n",
    "max_profit = 0.5\n",
    "max_holding_days=365\n",
    "total_pf_df = get_portfolio_backtest_df(get_qp_portfolio2, start_date, price_df, 20, initial_money, max_profit, max_holding_days)\n",
    "bt2 = get_backtest_result_from_pf(total_pf_df, price_df)\n",
    "\n",
    "max_profit = 0.5\n",
    "max_holding_days=365\n",
    "total_pf_df = get_portfolio_backtest_df(get_qp_portfolio3, start_date, price_df, 20, initial_money, max_profit, max_holding_days)\n",
    "bt3 = get_backtest_result_from_pf(total_pf_df, price_df)\n",
    "\n",
    "# max_profit = 0.5\n",
    "# max_holding_days=365\n",
    "# total_pf_df = get_portfolio_backtest_df(get_low_per_portfolio, start_date, price_df, 20, initial_money, max_profit, max_holding_days)\n",
    "# bt2 = get_backtest_result_from_pf(total_pf_df, price_df)\n",
    "\n",
    "# max_profit = 0.5\n",
    "# max_holding_days=365\n",
    "# total_pf_df = get_portfolio_backtest_df(get_low_pbr_portfolio, start_date, price_df, 20, initial_money, max_profit, max_holding_days)\n",
    "# bt3 = get_backtest_result_from_pf(total_pf_df, price_df)\n",
    "\n"
   ]
  },
  {
   "cell_type": "code",
   "execution_count": 259,
   "metadata": {
    "scrolled": true
   },
   "outputs": [
    {
     "data": {
      "image/png": "[encoded data removed]",
      "text/plain": [
       "<Figure size 1440x864 with 1 Axes>"
      ]
     },
     "metadata": {
      "needs_background": "light"
     },
     "output_type": "display_data"
    }
   ],
   "source": [
    "plt.rc('font', size=10)\n",
    "plt.figure(figsize=(20, 12))\n",
    "plt.plot(bt1.index, bt1['total_change_rate'], label='bt1')\n",
    "plt.plot(bt2.index, bt2['total_change_rate'], label='bt2')\n",
    "plt.plot(bt3.index, bt3['total_change_rate'], label='bt3')\n",
    "plt.plot(my.index, my['total_change_rate'], label='my portfolio')\n",
    "plt.plot(samsung.index, samsung['total_change_rate'], label='samsung')\n",
    "plt.plot(kospi_df.index, kospi_df['total_change_rate'], label='kospi', color='red',linewidth=0.5, linestyle='dashed')\n",
    "plt.plot(kosdaq_df.index, kosdaq_df['total_change_rate'], label='kosdaq', color='blue',linewidth=0.5, linestyle='dashed')\n",
    "plt.title('backtest')\n",
    "plt.xlabel(\"duration\")\n",
    "plt.ylabel(\"profit\")\n",
    "plt.legend(loc='upper right')\n",
    "plt.grid()\n",
    "plt.show()"
   ]
  }
 ],
 "metadata": {
  "kernelspec": {
   "display_name": "Python 3",
   "language": "python",
   "name": "python3"
  },
  "language_info": {
   "codemirror_mode": {
    "name": "ipython",
    "version": 3
   },
   "file_extension": ".py",
   "mimetype": "text/x-python",
   "name": "python",
   "nbconvert_exporter": "python",
   "pygments_lexer": "ipython3",
   "version": "3.7.3"
  }
 },
 "nbformat": 4,
 "nbformat_minor": 2
}
