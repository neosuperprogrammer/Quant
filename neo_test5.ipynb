{
 "cells": [
  {
   "cell_type": "code",
   "execution_count": 7,
   "metadata": {},
   "outputs": [],
   "source": [
    "# !open ."
   ]
  },
  {
   "cell_type": "code",
   "execution_count": 8,
   "metadata": {},
   "outputs": [],
   "source": [
    "# %load py_neo_quant_backbone.py\n",
    "# %load py_neo_quant_backbone.py\n",
    "# !open .\n",
    "import pandas as pd\n",
    "import numpy as np\n",
    "import requests\n",
    "import bs4\n",
    "import time\n",
    "import datetime\n",
    "import matplotlib.pyplot as plt\n",
    "from dateutil import parser\n",
    "from matplotlib import font_manager, rc\n",
    "from IPython.display import HTML\n",
    "pd.set_option('display.max_colwidth', -1)\n",
    "rc('font', family='AppleGothic')\n",
    "plt.rcParams['axes.unicode_minus'] = False\n",
    "# pd.options.display.max_rows = 60\n",
    "# %matplotlib inline\n",
    "\n",
    "\n",
    "\n",
    "def make_code(x):\n",
    "    x = str(x)\n",
    "    code = '0' * (6-len(x)) + x\n",
    "    if not code.startswith('A'):\n",
    "        code = 'A' + code\n",
    "    return code\n",
    "\n",
    "\n",
    "def make_code2(x):\n",
    "    x = str(x)\n",
    "    return '0' * (6-len(x)) + x\n",
    "\n",
    "# def get_all_company_info():\n",
    "#     kospi = pd.read_excel('data/kospi.xls')\n",
    "#     kosdaq = pd.read_excel('data/kosdaq.xls')\n",
    "#     kospi['구분'] = '코스피'\n",
    "#     kosdaq['구분'] = '코스닥'\n",
    "#     companies = pd.concat([kospi, kosdaq])\n",
    "#     companies = companies[['구분','종목코드','기업명']]\n",
    "# #     companies['종목코드'] = companies['종목코드'].apply(modifyCompanyCode)\n",
    "#     companies = companies.reset_index()\n",
    "#     return companies\n",
    "\n",
    "def company_apply_a_prefix(companies):\n",
    "    old_index = pd.Series(companies.index)\n",
    "    new_index = old_index.map(make_code)\n",
    "    return companies.set_index(new_index)\n",
    "\n",
    "def company_apply_no_prefix(companies):\n",
    "    old_index = pd.Series(companies.index)\n",
    "    new_index = old_index.map(make_code2)\n",
    "    return companies.set_index(new_index)\n",
    "\n",
    "def remove_a_from_company_code(company_df):\n",
    "    code_list = []\n",
    "    for code in company_df.index:\n",
    "        code = code.replace('A','')\n",
    "        code_list.append(code)\n",
    "    return company_df.set_index(pd.Series(code_list))\n",
    "\n",
    "def _get_firm_list_existing_in_price_df(firm_list, price_df):\n",
    "    new_firm_list = []\n",
    "    for code in firm_list:\n",
    "        if code in price_df.columns:\n",
    "            new_firm_list.append(code)\n",
    "    return new_firm_list\n",
    "\n",
    "def get_company_data(min_price=0):\n",
    "    kospi = pd.read_excel('data/kospi.xls')\n",
    "    kosdaq = pd.read_excel('data/kosdaq.xls')\n",
    "    kospi['구분'] = '코스피'\n",
    "    kosdaq['구분'] = '코스닥'\n",
    "    companies = pd.concat([kospi, kosdaq], sort=False)\n",
    "    companies = companies[['종목코드','기업명','구분','업종코드','업종','액면가(원)','상장주식수(주)', '자본금(원)']]\n",
    "    companies['상장주식수(주)'] = companies['상장주식수(주)'].str.replace(',','').astype(int)\n",
    "    companies['자본금(원)'] = companies['자본금(원)'].str.replace(',','').astype(int)\n",
    "    companies['액면가(원)'] = companies['액면가(원)'].str.replace(',','').astype(float)\n",
    "    companies = companies[companies['액면가(원)'] >= min_price]\n",
    "    companies['액면가(원)'] = companies['액면가(원)'].astype(int)\n",
    "    companies = companies.set_index('종목코드')\n",
    "    companies = company_apply_a_prefix(companies)\n",
    "    return companies\n",
    "\n",
    "def get_price_data():\n",
    "    price_path = r'data/price_data_2013.xlsx'\n",
    "    price_df = pd.read_excel(price_path)\n",
    "    price_df = price_df.set_index(price_df.columns[0])\n",
    "#     price_df.columns = 'A' + price_df.columns \n",
    "    return price_df\n",
    "\n",
    "def get_fs_data():\n",
    "    fs_path = r'data/fs_data.xlsx'\n",
    "    return get_finance_data(fs_path)\n",
    "\n",
    "def get_fr_data():\n",
    "    fr_path = r'data/fr_data.xlsx'\n",
    "    return get_finance_data(fr_path)\n",
    "\n",
    "def get_invest_data():\n",
    "    invest_path = r'data/invest_data.xlsx'\n",
    "    return get_finance_data(invest_path)\n",
    "\n",
    "def get_company_df_from_total_capital(company_df, pct, start_date = None):\n",
    "    company_df = add_price_info(company_df, start_date)\n",
    "    company_df['시가총액'] = company_df['상장주식수(주)'] * company_df['price']\n",
    "    return company_df.sort_values(by='시가총액', ascending=False)[:int(len(company_df) * pct)]\n",
    "\n",
    "def load_all_data():\n",
    "    companies = get_company_data()\n",
    "    fs_df = get_fs_data()\n",
    "    fr_df = get_fr_data()\n",
    "    iv_df = get_invest_data()\n",
    "    prices = get_price_data()\n",
    "    return companies, fs_df, fr_df, iv_df, prices \n",
    "\n",
    "# 액면가 1000원 이상 회사 리스트 가져와서 코드앞에 A 붙이기\n",
    "# companies = get_company_info(1000)\n",
    "# companies = apply_a_type_code(companies)\n",
    "\n",
    "def filter_company(st_df, companies):\n",
    "    new_company_list = []\n",
    "    for num, code in enumerate(st_df.index):\n",
    "        if code in companies.index:\n",
    "            new_company_list.append(code)\n",
    "\n",
    "    return st_df.loc[new_company_list]\n",
    "\n",
    "# def _get_price_over_list(company_code_list, price_df, check_date=None, min_price = 0):\n",
    "#     if check_date == None:\n",
    "#         temp_df = pd.DataFrame({'price':price_df[company_code_list].iloc[-1]})\n",
    "#     else:\n",
    "#         temp_df = pd.DataFrame({'price':price_df[company_code_list].loc[-1]})\n",
    "#     temp_df = temp_df[temp_df['price'] > min_price]\n",
    "#     return temp_df.index\n",
    "\n",
    "def _get_price_over_code_list(company_code_list, price_df, min_price = 0, check_month=None):\n",
    "    if check_month == None:\n",
    "        temp_df = pd.DataFrame({'price':price_df[company_code_list].iloc[-1]})\n",
    "    else:\n",
    "        if check_month in price_df.index:\n",
    "            temp_df = pd.DataFrame({'price':price_df[company_code_list].loc[check_month].iloc[-1]})\n",
    "        else:\n",
    "            temp_df = pd.DataFrame({'price':price_df[company_code_list].iloc[-1]})\n",
    "    temp_df = temp_df[temp_df['price'] > min_price]\n",
    "    return temp_df.index\n",
    "\n",
    "def _add_company_info(st_df, company_df):\n",
    "    return pd.merge(st_df, company_df, how='inner', left_index=True, right_index=True)\n",
    "\n",
    "def _add_price_info(st_df, price_df, start_date = None):\n",
    "    if start_date == None:\n",
    "        temp_df = pd.DataFrame({'price':price_df[st_df.index].iloc[-1]}) \n",
    "    else:\n",
    "        temp_df = pd.DataFrame({'price':price_df[st_df.index].loc[start_date:].iloc[0]}) \n",
    "    return pd.merge(st_df, temp_df, how='left', left_index=True, right_index=True)\n",
    "\n",
    "# str 이나 list 를 전달한다.\n",
    "def _get_company_code_list(company_name_list, company_df):\n",
    "    code_list = []\n",
    "    if isinstance(company_name_list, str):\n",
    "        company_name_list = [company_name_list]\n",
    "    for company_name in company_name_list:\n",
    "        for num, name in enumerate(company_df['기업명']):\n",
    "            if company_name in name:\n",
    "                code_list.append({'code':company_df.index[num], 'name':name})\n",
    "    return code_list\n",
    "\n",
    "def _get_company_code(name, company_df):\n",
    "    return company_df[company_df['기업명']==name].index[0]\n",
    "\n",
    "def _get_company_name(company_code, company_df):\n",
    "    return company_df.loc[company_code]['기업명']\n",
    "\n",
    "def _show_chart(company_code, price_df, company_df, start_date, end_date, show_market_price=False, name=None):\n",
    "    if isinstance(company_code, str):\n",
    "        strategy_price = price_df[company_code][start_date:end_date]\n",
    "        strategy_df = pd.DataFrame({'price':strategy_price})\n",
    "        \n",
    "        plt.figure(figsize=(10, 6))\n",
    "        if name == None:\n",
    "            name = _get_company_name(company_code, company_df)\n",
    "        strategy_df['price'].plot(label=name)\n",
    "        \n",
    "        if show_market_price == True:\n",
    "            if is_kospi(company_code):\n",
    "                market_name = 'KOSPI'\n",
    "            else:\n",
    "                market_name = 'KOSDAQ'\n",
    "            market_price = price_df[market_name][start_date:end_date]\n",
    "            market_df = pd.DataFrame({'price':market_price})\n",
    "            ratio = strategy_df.iloc[0]/market_df.iloc[0]\n",
    "            market_df = market_df * ratio\n",
    "            market_df['price'].plot(label=market_name)\n",
    "        \n",
    "        plt.legend()\n",
    "        plt.show() \n",
    "    else:\n",
    "        plt.rc('font', size=20)\n",
    "        company_code_list = company_code\n",
    "        strategy_price = price_df[company_code_list][start_date:end_date]\n",
    "        num_row = int((len(company_code_list)-1)/2)+1\n",
    "        plt.figure(figsize=(10*4, (num_row)*5))\n",
    "        plt.subplots_adjust(wspace=0.2, hspace=0.4)\n",
    "        for i, code in enumerate(company_code_list):\n",
    "            ax = plt.subplot(num_row, 4, i+1)\n",
    "            name = _get_company_name(code, company_df)\n",
    "            ax.title.set_text(name + ' (' + str(code) + ')')\n",
    "            ax.plot(strategy_price.index, strategy_price[code], color='black')\n",
    "\n",
    "            if show_market_price == True:\n",
    "                if is_kospi(code):\n",
    "                    market_name = 'KOSPI'\n",
    "                else:\n",
    "                    market_name = 'KOSDAQ'\n",
    "                market_price = price_df[market_name][start_date:end_date]\n",
    "                market_df = pd.DataFrame({'price':market_price})\n",
    "                ratio = strategy_price[code].iloc[0]/market_df.iloc[0]\n",
    "                market_df = market_df * ratio\n",
    "                ax.plot(market_df.index, market_df['price'], color='red')\n",
    "        plt.show()\n",
    "\n",
    "    \n",
    "# def _show_chart_by_name(company_name, company_df, price_df, year_duration=1):\n",
    "#     company_list = _get_company_code_list(company_name, company_df)\n",
    "#     if len(company_list) == 0:\n",
    "#         print('no company with name' + company_name)\n",
    "#         return\n",
    "#     code = company_list[0]['code']\n",
    "#     name = company_list[0]['name']\n",
    "#     _show_chart(code, company_df, price_df, year_duration, name) \n",
    "    \n",
    "def _show_monthly_chart(company_code, company_df, price_df, year_duration=1):\n",
    "    end_date = price_df.iloc[-1].name\n",
    "    start_date = end_date - datetime.timedelta(days=year_duration * 365)\n",
    "\n",
    "    start_year = start_date.strftime(\"%Y\")\n",
    "    end_year= end_date.strftime(\"%Y\")\n",
    "    \n",
    "    first = True\n",
    "    for year in range(int(start_year), int(end_year)+1):\n",
    "        for month in range(1,13):\n",
    "            year_month = \"%d-%02d\" % (year, month)\n",
    "#             print(year_month)\n",
    "            if year_month in price_df.index:\n",
    "                temp_df = pd.DataFrame(price_df.loc[year_month].iloc[0]).T\n",
    "                if first:\n",
    "                    month_df = temp_df\n",
    "                    first = False\n",
    "                else:\n",
    "                    month_df = pd.concat([month_df, temp_df], sort=False)\n",
    "\n",
    "    strategy_df = pd.DataFrame({'price':month_df[company_code]})\n",
    "    ma3 = strategy_df['price'].rolling(window=3).mean()\n",
    "    strategy_df['ma3'] = ma3\n",
    "\n",
    "#     plt.figure(figsize=(10, 6))\n",
    "    name = _get_company_name(company_code, company_df)\n",
    "#     strategy_df['price'].plot(label=name)\n",
    "\n",
    "    plt.figure(figsize=(20, 12))\n",
    "    \n",
    "    plt.plot(strategy_df.index, strategy_df['price'], color='darkblue',linewidth=3.0)\n",
    "    plt.plot(strategy_df.index, strategy_df['ma3'], color='red', label='ma3')\n",
    "\n",
    "    plt.title(name)\n",
    "    plt.xlabel(\"duration\")\n",
    "    plt.ylabel(\"price\")\n",
    "    plt.legend(loc='upper right')\n",
    "    plt.grid()\n",
    "    plt.show() \n",
    "\n",
    "    \n",
    "def _show_multi_chart(company_code_list, price_df, company_df, start_date, end_date):\n",
    "#     end_date = price_df.iloc[-1].name\n",
    "#     start_date = end_date - datetime.timedelta(days=year_duration * 365)\n",
    "    strategy_price = price_df[company_code_list][start_date:end_date]\n",
    "    num_row = int((len(company_code_list)-1)/2)+1\n",
    "    plt.figure(figsize=(10, num_row*5))\n",
    "    for i, code in enumerate(company_code_list):\n",
    "        ax = plt.subplot(num_row, 4, i+1)\n",
    "        name = _get_company_name(code, company_df)\n",
    "        ax.title.set_text(name)\n",
    "        ax.plot(strategy_price.index, strategy_price[code])\n",
    "    plt.show()\n",
    "\n",
    "\n",
    "def _show_detail_chart(company_code, company_df, price_df, year_duration=1, name=None):\n",
    "    end_date = price_df.iloc[-1].name\n",
    "    start_date = end_date - datetime.timedelta(days=year_duration * 365)\n",
    "    strategy_price = price_df[company_code][start_date:end_date]\n",
    "    strategy_df = pd.DataFrame({'price':strategy_price})\n",
    "#     strategy_df\n",
    "    ma5 = strategy_df['price'].rolling(window=5).mean()\n",
    "    strategy_df['ma5'] = ma5\n",
    "    ma10 = strategy_df['price'].rolling(window=10).mean()\n",
    "    strategy_df['ma10'] = ma10\n",
    "    ma20 = strategy_df['price'].rolling(window=20).mean()\n",
    "    strategy_df['ma20'] = ma20\n",
    "    ma60 = strategy_df['price'].rolling(window=60).mean()\n",
    "    strategy_df['ma60'] = ma60\n",
    "    ma120 = strategy_df['price'].rolling(window=120).mean()\n",
    "    strategy_df['ma120'] = ma120\n",
    "    plt.figure(figsize=(20, 12))\n",
    "    # strategy_df['price'].plot(label=name)\n",
    "    if name == None:\n",
    "        name = company_code\n",
    "    plt.plot(strategy_df.index, strategy_df['price'], color='darkblue',linewidth=3.0)\n",
    "    plt.plot(strategy_df.index, strategy_df['ma5'], color='red', label='ma5')\n",
    "    plt.plot(strategy_df.index, strategy_df['ma10'], color='blue', label='ma10')\n",
    "    plt.plot(strategy_df.index, strategy_df['ma20'], color='green', label='ma20')\n",
    "    plt.plot(strategy_df.index, strategy_df['ma60'], color='cyan', label='ma60')\n",
    "    plt.plot(strategy_df.index, strategy_df['ma120'], color='yellow', label='ma120')\n",
    "    plt.title(name)\n",
    "    plt.xlabel(\"duration\")\n",
    "    plt.ylabel(\"price\")\n",
    "    plt.legend(loc='upper right')\n",
    "    plt.grid()\n",
    "    plt.show() \n",
    "    \n",
    "\n",
    "\n",
    "def _show_detail_chart_by_name(company_name, company_df, price_df, year_duration=1):\n",
    "    company_list = _get_company_code_list(company_name, company_df)\n",
    "    if len(company_list) == 0:\n",
    "        print('no company with name' + company_name)\n",
    "        return\n",
    "    code = company_list[0]['code']\n",
    "    name = company_list[0]['name']\n",
    "    _show_detail_chart(code, company_df, price_df, year_duration, name)    \n",
    "    \n",
    "    \n",
    "def _get_maximum_earning_rate(price_df, company_df, year_duration=1, min_price=0, min_profit=0, type='all'):\n",
    "    end_date = price_df.iloc[-1].name\n",
    "    start_date = end_date - datetime.timedelta(days=year_duration * 365)\n",
    "    \n",
    "    strategy_price = price_df[start_date:end_date]\n",
    "    strategy_price = strategy_price.fillna(method='bfill')\n",
    "    \n",
    "    last_price = strategy_price.iloc[-1]\n",
    "    first_price = strategy_price.iloc[0]\n",
    "    \n",
    "    price_diff_df = pd.DataFrame({first_price.name:first_price, last_price.name:last_price})\n",
    "    price_diff_df = price_diff_df[price_diff_df[last_price.name] > min_price]\n",
    "    \n",
    "    price_diff_df['diff'] = price_diff_df[last_price.name] - price_diff_df[first_price.name]\n",
    "#     price_diff_df = price_diff_df[price_diff_df['diff'] > 0]\n",
    "    \n",
    "    # price_diff_df['ratio'] = price_diff_df['diff'] / price_diff_df[first_price.name]\n",
    "    price_diff_df['ratio'] = ((price_diff_df[last_price.name] / price_diff_df[first_price.name]) - 1) * 100\n",
    "    price_diff_df['ratio'] = price_diff_df['ratio'].astype(int)\n",
    "    \n",
    "    price_diff_df = price_diff_df[price_diff_df['ratio'] > min_profit]\n",
    "    \n",
    "    price_diff_df = price_diff_df.sort_values(by='ratio', ascending=False)\n",
    "    \n",
    "    price_diff_df = _add_company_info(price_diff_df, company_df)\n",
    "    \n",
    "    if type == 'kospi':\n",
    "        price_diff_df = get_kospi_list(price_diff_df)\n",
    "    elif type == 'kosdaq':\n",
    "        price_diff_df = get_kosdaq_list(price_diff_df)\n",
    "        \n",
    "    return price_diff_df\n",
    "\n",
    "\n",
    "def _show_earning_chart(code_list, price_df, year_duration=1, initial_money=100000000):\n",
    "    end_date = price_df.iloc[-1].name\n",
    "    start_date = end_date - datetime.timedelta(days=year_duration * 365)\n",
    "    st_backtest = _backtest_with_code_list(code_list, price_df, start_date, end_date, initial_money)\n",
    "    plt.figure(figsize=(10, 6))\n",
    "    st_backtest['total_change_rate'].plot()\n",
    "    plt.show()\n",
    "    \n",
    "def _show_company_info(company_code_list, company_df, price_df):\n",
    "    firm_df = company_df.loc[company_code_list]\n",
    "    firm_df = _add_price_info(firm_df, price_df)\n",
    "    firm_df['fs_info'] = firm_df.index\n",
    "    firm_df['fs_info'] = firm_df['fs_info'].apply(lambda x: '<a href=\"https://comp.fnguide.com/SVO2/asp/SVD_Finance.asp?pGB=1&cID=&MenuYn=Y&ReportGB=D&NewMenuID=103&stkGb=701&gicode={0}\" target=\"_blank\">fs</a>'.format(x))\n",
    "    firm_df['fr_info'] = firm_df.index\n",
    "    firm_df['fr_info'] = firm_df['fr_info'].apply(lambda x: '<a href=\"https://comp.fnguide.com/SVO2/asp/SVD_FinanceRatio.asp?pGB=1&cID=&MenuYn=Y&ReportGB=D&NewMenuID=104&stkGb=701&gicode={0}\" target=\"_blank\">fr</a>'.format(x))\n",
    "    firm_df['iv_info'] = firm_df.index\n",
    "    firm_df['iv_info'] = firm_df['iv_info'].apply(lambda x: '<a href=\"https://comp.fnguide.com/SVO2/asp/SVD_Invest.asp?pGB=1&cID=&MenuYn=Y&ReportGB=D&NewMenuID=105&stkGb=701&gicode={0}\" target=\"_blank\">iv</a>'.format(x))\n",
    "    firm_df['chart'] = firm_df.index\n",
    "    firm_df['chart'] = firm_df['chart'].apply(lambda x: x.replace('A',''))\n",
    "    firm_df['chart'] = firm_df['chart'].apply(lambda x: '<a href=\"https://finance.naver.com/item/fchart.nhn?code={0}\" target=\"_blank\">chart</a>'.format(x))\n",
    "    return HTML(firm_df.to_html(escape=False))\n",
    "\n",
    "def _show_company_info_by_name(firm_name, company_df):\n",
    "    company_list = _get_company_code_list(firm_name, company_df)\n",
    "    if len(company_list) == 0:\n",
    "        print('no company with name' + company_name)\n",
    "        return\n",
    "#     company_list\n",
    "    code_list = []\n",
    "    for company in company_list:\n",
    "        code_list.append(company['code'])\n",
    "    return _show_company_info(code_list, companies)\n",
    "\n",
    "def _show_earning_rate(company_code_list, company_df, price_df, year_duration=1):\n",
    "    company_selected = companies.loc[company_code_list]\n",
    "\n",
    "    end_date = price_df.iloc[-1].name\n",
    "    start_date = end_date - datetime.timedelta(days=year_duration * 365)\n",
    "    \n",
    "    strategy_price = price_df[company_code_list][start_date:end_date]\n",
    "    strategy_price = strategy_price.dropna()\n",
    "    strategy_price = strategy_price.fillna(method='bfill')\n",
    "    last_price = strategy_price.iloc[-1]\n",
    "    first_price = strategy_price.iloc[0]\n",
    "\n",
    "    company_selected['profit'] = ((last_price/first_price - 1) * 100).astype(int)\n",
    "    company_selected['profit'] = company_selected['profit'].astype(str) + ' %'\n",
    "    return company_selected\n",
    "\n",
    "def _show_earning_rate_by_name(firm_name, company_df, price_df, year_duration=1):\n",
    "    company_list = _get_company_code_list(firm_name, company_df)\n",
    "    if len(company_list) == 0:\n",
    "        return \"No Company with name : \" + firm_name\n",
    "    \n",
    "    code_list = []\n",
    "    for company in company_list:\n",
    "        code_list.append(company['code'])\n",
    "\n",
    "    return _show_earning_rate(code_list, company_df, price_df, year_duration)\n",
    "\n",
    "\n",
    "def get_vaild_code_from_price_df(code_list, price_df):\n",
    "    new_code_list = []\n",
    "    for code in code_list:\n",
    "        if code in price_df.columns:\n",
    "            new_code_list.append(code)\n",
    "    return new_code_list        \n",
    "\n",
    "def _show_business_trend(company_df, price_df, year_duration=1):\n",
    "    end_date = price_df.iloc[-1].name\n",
    "    start_date = end_date - datetime.timedelta(days=year_duration * 365)\n",
    "\n",
    "    company_df['업종코드'] = company_df['업종코드'].astype(str)\n",
    "    company_df['업종구분'] = company_df['업종코드'] + ' (' + company_df['업종'] + ')'\n",
    "    all_busi = company_df['업종구분'].unique()\n",
    "    busi_list = []\n",
    "    for busi_name in all_busi:\n",
    "        temp_list = company_df[company_df['업종구분'] == busi_name]\n",
    "        busi_list.append({'name':busi_name + ' - ' + str(len(temp_list)),'list':temp_list.index})\n",
    "\n",
    "    for i, busi in enumerate(busi_list):\n",
    "        busi_name = busi['name']\n",
    "        busi_code_list = busi['list']\n",
    "        strategy_price = price_df[get_vaild_code_from_price_df(busi_code_list, price_df)][start_date:end_date]\n",
    "        strategy_price.fillna(method='bfill')\n",
    "        busi_earning = strategy_price.sum(axis=1)\n",
    "        temp_df = pd.DataFrame({busi_name:busi_earning})\n",
    "        if i == 0:\n",
    "            total_busi_earning = temp_df\n",
    "        else:\n",
    "            total_busi_earning = pd.merge(total_busi_earning, temp_df, how='outer', left_index=True, right_index=True)\n",
    "    num_row = int((len(total_busi_earning.columns)-1)/4)+1\n",
    "    plt.figure(figsize=(6*4, num_row*6))\n",
    "    for i, busi in enumerate(total_busi_earning.columns):\n",
    "        ax = plt.subplot(num_row, 4, i+1)\n",
    "        ax.title.set_text(busi)\n",
    "        ax.plot(total_busi_earning.index, total_busi_earning[busi])\n",
    "    plt.show()    \n",
    "    \n",
    "def get_company_list_from_business_code(busi_code, company_df):\n",
    "    return company_df[company_df['업종코드'] == busi_code].index\n",
    "\n",
    "\n",
    "\n",
    "\n",
    "\n",
    "def fetch_prices(compay_code_list, timeframe, count):\n",
    "    for num, code in enumerate(compay_code_list):\n",
    "        try:\n",
    "            print(num, code)\n",
    "            time.sleep(1)\n",
    "            try:\n",
    "                price_df = make_price_dataframe(code, timeframe, count)\n",
    "            except requests.exceptions.Timeout:\n",
    "                time.sleep(60)\n",
    "                price_df = make_price_dataframe(code, timeframe, count)\n",
    "            if num == 0 :\n",
    "                total_price = price_df\n",
    "            else:\n",
    "                total_price = pd.merge(total_price, price_df, how='outer', right_index=True, left_index=True)\n",
    "        except ValueError:\n",
    "            continue\n",
    "        except KeyError:\n",
    "            continue\n",
    "    return total_price\n",
    "\n",
    "\n",
    "\n",
    "\n",
    "\n",
    "# 기존 price dataframe 을 최신 가격으로 업데이트.\n",
    "# ex) prices_update = update_prices(companies, prices, '10') \n",
    "# 기존 price 와 신규 price 의 차이 비교\n",
    "# prices_update.merge(prices,indicator = True, left_index=True, right_index=True, how='outer').loc[lambda x : x['_merge']!='both']\n",
    "def update_origin_price_df(origin_price_df, code, count):\n",
    "    origin_prices = origin_price_df\n",
    "    price_df = make_price_dataframe(code, 'day', count)\n",
    "    price_df.index = pd.to_datetime(price_df.index)\n",
    "    price_df[code] = price_df[code].astype(float)\n",
    "    price_df_origin = pd.DataFrame({code:origin_prices[code]}) \n",
    "    new_price_df = pd.concat([price_df_origin, price_df], sort=False)\n",
    "    new_price_df = new_price_df.loc[~new_price_df.index.duplicated(keep='last')]\n",
    "    origin_prices = origin_prices.drop(code, axis=1)\n",
    "    origin_prices = pd.merge(origin_prices, new_price_df, left_index=True, right_index=True, how='outer')\n",
    "    return origin_prices\n",
    "    \n",
    "def update_prices(company_df, origin_price_df, count):\n",
    "    origin_prices = origin_price_df\n",
    "    for num, code in enumerate(company_df.index):\n",
    "        try:\n",
    "            print(num, code)\n",
    "            time.sleep(1)\n",
    "            try:\n",
    "                origin_prices = update_origin_price_df(origin_prices, code, count)\n",
    "            except requests.exceptions.Timeout:\n",
    "                time.sleep(60)\n",
    "                origin_prices = update_origin_price_df(origin_prices, code, count)\n",
    "        except ValueError:\n",
    "            continue\n",
    "        except KeyError:\n",
    "            continue\n",
    "    return origin_prices\n",
    "\n",
    "# [코드 3.15] 재무제표 데이터를 가져와 데이터프레임으로 만드는 함수 (CH3. 데이터 수집하기.ipynb)\n",
    "\n",
    "def make_fs_dataframe(firm_code):\n",
    "    fs_url = 'https://comp.fnguide.com/SVO2/asp/SVD_Finance.asp?pGB=1&cID=&MenuYn=Y&ReportGB=D&NewMenuID=103&stkGb=701&gicode=' + firm_code\n",
    "    fs_page = requests.get(fs_url)\n",
    "    fs_tables = pd.read_html(fs_page.text)\n",
    "    \n",
    "    temp_df = fs_tables[0]\n",
    "    temp_df = temp_df.set_index(temp_df.columns[0])\n",
    "    temp_df = temp_df[temp_df.columns[:4]]\n",
    "    temp_df = temp_df.loc[['매출액', '매출원가', '영업이익', '당기순이익', '매출총이익']]\n",
    "\n",
    "    temp_df2 = fs_tables[2]\n",
    "    temp_df2 = temp_df2.set_index(temp_df2.columns[0])\n",
    "    temp_df2 = temp_df2.loc[['자산', '부채', '자본']]\n",
    "\n",
    "    temp_df3 = fs_tables[4]\n",
    "    temp_df3 = temp_df3.set_index(temp_df3.columns[0])\n",
    "    temp_df3 = temp_df3.loc[['영업활동으로인한현금흐름']]\n",
    "\n",
    "    fs_df = pd.concat([temp_df, temp_df2, temp_df3], sort=False)\n",
    "    \n",
    "    return fs_df\n",
    "\n",
    "# [코드 3.19] 데이터프레임 형태 바꾸기 코드 함수화 (CH3. 데이터 수집하기.ipynb)\n",
    "\n",
    "def change_df(firm_code, dataframe):\n",
    "    for num, col in enumerate(dataframe.columns):\n",
    "        temp_df = pd.DataFrame({firm_code : dataframe[col]})\n",
    "        temp_df = temp_df.T\n",
    "        temp_df.columns = [[col]*len(dataframe), temp_df.columns]\n",
    "        if num == 0:\n",
    "            total_df = temp_df\n",
    "        else:\n",
    "            total_df = pd.merge(total_df, temp_df, how='outer', left_index=True, right_index=True)    \n",
    "    \n",
    "    return total_df\n",
    "\n",
    "# [코드 3.21] 재무 비율 데이터프레임을 만드는 함수 (CH3. 데이터 수집하기.ipynb)\n",
    "\n",
    "def make_fr_dataframe(firm_code):\n",
    "    fr_url = 'https://comp.fnguide.com/SVO2/asp/SVD_FinanceRatio.asp?pGB=1&cID=&MenuYn=Y&ReportGB=D&NewMenuID=104&stkGb=701&gicode=' + firm_code\n",
    "    fr_page = requests.get(fr_url)\n",
    "    fr_tables = pd.read_html(fr_page.text)\n",
    "    \n",
    "    temp_df = fr_tables[0]\n",
    "    temp_df = temp_df.set_index(temp_df.columns[0])\n",
    "    temp_df = temp_df.loc[['유동비율계산에 참여한 계정 펼치기',\n",
    "                           '부채비율계산에 참여한 계정 펼치기',\n",
    "                           '영업이익증가율계산에 참여한 계정 펼치기',\n",
    "                           'ROA계산에 참여한 계정 펼치기',\n",
    "                           'ROIC계산에 참여한 계정 펼치기']]\n",
    "    temp_df.index = ['유동비율', '부채비율', '영업이익률', 'ROA', 'ROIC']\n",
    "    return temp_df\n",
    "\n",
    "# [코드 3.23] 투자지표 데이터프레임을 만드는 함수 (CH3. 데이터 수집하기.ipynb)\n",
    "\n",
    "def make_invest_dataframe(firm_code):\n",
    "    invest_url = 'https://comp.fnguide.com/SVO2/asp/SVD_Invest.asp?pGB=1&cID=&MenuYn=Y&ReportGB=D&NewMenuID=105&stkGb=701&gicode=' + firm_code\n",
    "    invest_page = requests.get(invest_url)\n",
    "    invest_tables = pd.read_html(invest_page.text)\n",
    "    temp_df = invest_tables[1]\n",
    "    \n",
    "    temp_df = temp_df.set_index(temp_df.columns[0])\n",
    "    temp_df = temp_df.loc[['PER계산에 참여한 계정 펼치기',\n",
    "                       'PCR계산에 참여한 계정 펼치기',\n",
    "                       'PSR계산에 참여한 계정 펼치기',\n",
    "                       'PBR계산에 참여한 계정 펼치기',\n",
    "                      '총현금흐름']]\n",
    "    temp_df.index = ['PER', 'PCR', 'PSR', 'PBR', '총현금흐름']\n",
    "    return temp_df\n",
    "\n",
    "#  [코드 3.40] 가격을 가져와 데이터프레임 만드는 함수 (CH3. 데이터 수집하기 2.ipynb)\n",
    "\n",
    "def make_price_dataframe(company_code, timeframe, count):\n",
    "    request_code = company_code\n",
    "    if request_code.startswith('A'):\n",
    "        request_code = request_code.replace('A','')\n",
    "    url = 'https://fchart.stock.naver.com/sise.nhn?requestType=0'\n",
    "    price_url = url + '&symbol=' + request_code + '&timeframe=' + timeframe + '&count=' + str(count)\n",
    "    price_data = requests.get(price_url)\n",
    "    price_data_bs = bs4.BeautifulSoup(price_data.text, 'lxml')\n",
    "    item_list = price_data_bs.find_all('item')\n",
    "    \n",
    "    date_list = []\n",
    "    price_list = []\n",
    "    for item in item_list:\n",
    "        temp_data = item['data']\n",
    "        datas = temp_data.split('|')\n",
    "        date_list.append(datas[0])\n",
    "        price_list.append(datas[4])\n",
    "\n",
    "    price_df = pd.DataFrame({company_code:price_list}, index=date_list)\n",
    "    \n",
    "    return price_df\n",
    "\n",
    "def _add_market_price_info(price_df):\n",
    "    kosdaq_df = make_price_dataframe('KOSDAQ', 'day', '6000')\n",
    "    kosdaq_df.index = pd.to_datetime(kosdaq_df.index)\n",
    "    kosdaq_df = kosdaq_df[price_df.iloc[0].name:price_df.iloc[-1].name]\n",
    "    total_df = pd.merge(kosdaq_df, price_df, left_index=True, right_index=True, how='inner')\n",
    "\n",
    "    kospi_df = make_price_dataframe('KOSPI', 'day', '6000')\n",
    "    kospi_df.index = pd.to_datetime(kospi_df.index)\n",
    "    kospi_df = kospi_df[price_df.iloc[0].name:price_df.iloc[-1].name]\n",
    "    total_df = pd.merge(kospi_df, total_df, left_index=True, right_index=True, how='inner')\n",
    "    \n",
    "    return total_df\n",
    "\n",
    "\n",
    "#  [코드 4.6] 재무 데이터 전처리하는 함수 (CH4. 전략 구현하기.ipynb)\n",
    "\n",
    "def get_finance_data(path):\n",
    "    data_path = path\n",
    "    raw_data = pd.read_excel(data_path)\n",
    "    raw_data = raw_data.set_index(raw_data.columns[0])\n",
    "    big_col = list(raw_data.columns)\n",
    "    small_col = list(raw_data.iloc[0])\n",
    "    \n",
    "    new_big_col = []\n",
    "    for num, col in enumerate(big_col):\n",
    "        if 'Unnamed' in col:\n",
    "            new_big_col.append(new_big_col[num-1])\n",
    "        else:\n",
    "            new_big_col.append(big_col[num])\n",
    "            \n",
    "    raw_data.columns = [new_big_col, small_col]\n",
    "    clean_df = raw_data.loc[ raw_data.index.dropna() ]\n",
    "    \n",
    "    return clean_df\n",
    "\n",
    "def check_IFRS(x):\n",
    "    if x == 'N/A(IFRS)':\n",
    "        return np.NaN\n",
    "    else:\n",
    "        return x\n",
    "\n",
    "#  [코드 4.14] PER기준으로 오름차순으로 정렬하여 주는 함수 (CH4. 전략 구현하기.ipynb)\n",
    "\n",
    "def _low_per(invest_df, index_date, num):\n",
    "    invest_df[(index_date, 'PER')] = pd.to_numeric(invest_df[(index_date, 'PER')])\n",
    "    per_sorted = invest_df.sort_values(by=(index_date, 'PER'))\n",
    "    return per_sorted[index_date][:num]\n",
    "\n",
    "#  [코드 4.15] ROA기준으로 내림차순으로 정렬하여 주는 함수 (CH4. 전략 구현하기.ipynb)\n",
    "\n",
    "def high_roa(fr_df, index_date, num):\n",
    "    fr_df[(index_date, 'ROA')] = fr_df[(index_date, 'ROA')].apply(check_IFRS)\n",
    "    fr_df[(index_date, 'ROA')] = pd.to_numeric(fr_df[(index_date, 'ROA')] )\n",
    "    sorted_roa = fr_df.sort_values(by=(index_date, 'ROA'), ascending=False)\n",
    "    return sorted_roa[index_date][:num]\n",
    "\n",
    "def _low_pbr(invest_df, index_date, num):\n",
    "    invest_df[(index_date, 'PBR')] = pd.to_numeric(invest_df[(index_date, 'PBR')])\n",
    "    pbr_sorted = invest_df.sort_values(by=(index_date, 'PBR'))\n",
    "    return pbr_sorted[index_date][:num]\n",
    "\n",
    "def _high_gpa(fs_df, index_date, num):\n",
    "    gpa = fs_df[index_date]\n",
    "    gpa['GPA'] = gpa['매출총이익']/gpa['자산']\n",
    "    gpa_sorted = gpa.sort_values(by='GPA', ascending=False)\n",
    "    return gpa_sorted[:num]\n",
    "\n",
    "def low_value(st_df, value_name, index_date, num = None):\n",
    "    st_df[(index_date, value_name)] = pd.to_numeric(st_df[(index_date, value_name)])\n",
    "    st_df_sorted = st_df.sort_values(by=(index_date, value_name))\n",
    "    return st_df_sorted[index_date][:num]\n",
    "\n",
    "def high_value(st_df, value_name, index_date, num = None):\n",
    "    st_df[(index_date, value_name)] = pd.to_numeric(st_df[(index_date, value_name)])\n",
    "    st_df_sorted = st_df.sort_values(by=(index_date, value_name), ascending=False)\n",
    "    return st_df_sorted[index_date][:num]\n",
    "\n",
    "#  [코드 4.22] 마법공식 함수로 만들기 (CH4. 전략 구현하기.ipynb)\n",
    "\n",
    "def magic_formula(fr_df, invest_df, index_date, num):\n",
    "    per = low_per(invest_df, index_date, None)\n",
    "    roa = high_roa(fr_df, index_date, None)\n",
    "    per['per순위'] = per['PER'].rank()\n",
    "    roa['roa순위'] = roa['ROA'].rank(ascending=False)\n",
    "    magic = pd.merge(per, roa, how='outer', left_index=True, right_index=True)\n",
    "    magic['마법공식 순위'] = (magic['per순위'] + magic['roa순위']).rank().sort_values()\n",
    "    magic = magic.sort_values(by='마법공식 순위')\n",
    "    return magic[:num]\n",
    "\n",
    "#  [코드 4.23] 저평가 지수를 기준으로 정렬하여 순위 만들어 주는 함수 (CH4. 전략 구현하기.ipynb)\n",
    "\n",
    "def get_value_rank(invest_df, value_type, index_date, num):\n",
    "    invest_df[(index_date,  value_type)] = pd.to_numeric(invest_df[(index_date,  value_type)])\n",
    "    value_sorted = invest_df.sort_values(by=(index_date,  value_type))[index_date]\n",
    "    value_sorted[  value_type + '순위'] = value_sorted[value_type].rank()\n",
    "    return value_sorted[[value_type, value_type + '순위']][:num]\n",
    "\n",
    "#  [코드 4.25] 저평가 지표 조합 함수 (CH4. 전략 구현하기.ipynb)\n",
    "\n",
    "def make_value_combo(value_list, invest_df, index_date, num):\n",
    "    \n",
    "    for i, value in enumerate(value_list):\n",
    "        temp_df = get_value_rank(invest_df, value, index_date, None)\n",
    "        if i == 0:\n",
    "            value_combo_df = temp_df\n",
    "            rank_combo = temp_df[value + '순위']\n",
    "        else:\n",
    "            value_combo_df = pd.merge(value_combo_df, temp_df, how='outer', left_index=True, right_index=True)\n",
    "            rank_combo = rank_combo + temp_df[value + '순위']\n",
    "    \n",
    "    value_combo_df['종합순위'] = rank_combo.rank()\n",
    "    value_combo_df = value_combo_df.sort_values(by='종합순위')\n",
    "    \n",
    "    return value_combo_df[:num]\n",
    "\n",
    "#  [코드 4.29] F-score 함수(CH4. 전략 구현하기.ipynb)\n",
    "\n",
    "def get_fscore(fs_df, index_date, num):\n",
    "    fscore_df = fs_df[index_date]\n",
    "    fscore_df['당기순이익점수'] = fscore_df['당기순이익'] > 0\n",
    "    fscore_df['영업활동점수'] = fscore_df['영업활동으로인한현금흐름'] > 0\n",
    "    fscore_df['더큰영업활동점수'] = fscore_df['영업활동으로인한현금흐름'] > fscore_df['당기순이익']\n",
    "    fscore_df['종합점수'] = fscore_df[['당기순이익점수', '영업활동점수', '더큰영업활동점수']].sum(axis=1)\n",
    "    fscore_df = fscore_df[fscore_df['종합점수'] == 3]\n",
    "    return fscore_df[:num]\n",
    "\n",
    "#  [코드 4.34] 모멘텀 데이터프레임 만들기 함수화 (CH4. 전략 구현하기.ipynb)\n",
    "\n",
    "def get_momentum_rank(price_df, index_date, date_range, num):\n",
    "    momentum_df = pd.DataFrame(price_df.pct_change(date_range).loc[index_date])\n",
    "    momentum_df.columns = ['모멘텀']\n",
    "    momentum_df['모멘텀순위'] = momentum_df['모멘텀'].rank(ascending=False)\n",
    "    momentum_df = momentum_df.sort_values(by='모멘텀순위')\n",
    "    return momentum_df[:num]\n",
    "\n",
    "#  [코드 4.39] 저평가 + Fscore 함수화 (CH4. 전략 구현하기.ipynb)\n",
    "\n",
    "def get_value_quality(invest_df, fs_df, index_date, num):\n",
    "    value = make_value_combo(['PER', 'PBR', 'PSR', 'PCR'], invest_df, index_date, None)\n",
    "    quality = get_fscore(fs_df, index_date, None)\n",
    "    value_quality = pd.merge(value, quality, how='outer', left_index=True, right_index=True)\n",
    "    value_quality_filtered = value_quality[value_quality['종합점수'] == 3]\n",
    "    vq_df = value_quality_filtered.sort_values(by='종합순위')\n",
    "    return vq_df[:num]\n",
    "\n",
    "#  [코드 5.12] 백테스트 함수 버젼1 (Ch5. 백테스트.ipynb)\n",
    "\n",
    "\n",
    "def backtest_beta(price_df, strategy_df, start_date, end_date, initial_money):\n",
    "\n",
    "    code_list = []\n",
    "    for code in strategy_df.index:\n",
    "#         code_list.append(code.replace('A',''))\n",
    "        code_list.append(code)\n",
    "\n",
    "    strategy_price = price_df[code_list][start_date:end_date]\n",
    "    strategy_price = strategy_price.fillna(method='bfill')\n",
    "    \n",
    "    pf_stock_num = {}\n",
    "    stock_amount = 0\n",
    "    stock_pf = 0\n",
    "    each_money = initial_money / len(strategy_df)\n",
    "    for code in strategy_price.columns:\n",
    "        temp = int( each_money / strategy_price[code][0] )\n",
    "        pf_stock_num[code] = temp\n",
    "        stock_amount = stock_amount + temp * strategy_price[code][0]\n",
    "        stock_pf = stock_pf + strategy_price[code] * pf_stock_num[code]\n",
    "\n",
    "    cash_amount = initial_money - stock_amount\n",
    "\n",
    "    backtest_df = pd.DataFrame({'주식포트폴리오':stock_pf})\n",
    "    backtest_df['현금포트폴리오'] = [cash_amount] * len(backtest_df)\n",
    "    backtest_df['종합포트폴리오'] = backtest_df['주식포트폴리오'] + backtest_df['현금포트폴리오']\n",
    "    backtest_df['일변화율'] = backtest_df['종합포트폴리오'].pct_change()\n",
    "    backtest_df['총변화율'] = backtest_df['종합포트폴리오']/initial_money - 1\n",
    "    \n",
    "    return backtest_df\n",
    "\n",
    "# def backtest_with_code_list(price_df, code_list_to_test, start_date, end_date, initial_money):\n",
    "\n",
    "#     code_list = []\n",
    "#     for code in code_list_to_test:\n",
    "# #         code_list.append(code.replace('A',''))\n",
    "#         code_list.append(code)\n",
    "\n",
    "#     strategy_price = price_df[code_list][start_date:end_date]\n",
    "#     strategy_price = strategy_price.fillna(method='bfill')\n",
    "    \n",
    "#     pf_stock_num = {}\n",
    "#     stock_amount = 0\n",
    "#     stock_pf = 0\n",
    "#     each_money = initial_money / len(code_list)\n",
    "#     for code in strategy_price.columns:\n",
    "#         temp = int( each_money / strategy_price[code][0] )\n",
    "#         pf_stock_num[code] = temp\n",
    "#         stock_amount = stock_amount + temp * strategy_price[code][0]\n",
    "#         stock_pf = stock_pf + strategy_price[code] * pf_stock_num[code]\n",
    "\n",
    "#     cash_amount = initial_money - stock_amount\n",
    "\n",
    "#     backtest_df = pd.DataFrame({'주식포트폴리오':stock_pf})\n",
    "#     backtest_df['현금포트폴리오'] = [cash_amount] * len(backtest_df)\n",
    "#     backtest_df['종합포트폴리오'] = backtest_df['주식포트폴리오'] + backtest_df['현금포트폴리오']\n",
    "#     backtest_df['일변화율'] = backtest_df['종합포트폴리오'].pct_change()\n",
    "#     backtest_df['총변화율'] = backtest_df['종합포트폴리오']/initial_money - 1\n",
    "    \n",
    "#     return backtest_df\n",
    "\n",
    "def _backtest_with_code_list(code_list, price_df, start_date, end_date, initial_money):\n",
    "    if end_date == None:\n",
    "        end_date = end_date = prices.iloc[-1].name\n",
    "    strategy_price = price_df[code_list][start_date:end_date]\n",
    "    strategy_price = strategy_price.fillna(method='bfill')\n",
    "    strategy_price = strategy_price.dropna(axis=1)\n",
    "\n",
    "    pf_stock_num = {}\n",
    "    stock_amount = 0\n",
    "    stock_pf = 0\n",
    "    each_money = initial_money / len(code_list)\n",
    "    for code in strategy_price.columns:\n",
    "        temp = int( each_money / strategy_price[code][0] )\n",
    "        pf_stock_num[code] = temp\n",
    "        stock_amount = stock_amount + temp * strategy_price[code][0]\n",
    "        stock_pf = stock_pf + strategy_price[code] * pf_stock_num[code]\n",
    "\n",
    "    cash_amount = initial_money - stock_amount\n",
    "\n",
    "    backtest_df = pd.DataFrame({'stock_portfolio':stock_pf})\n",
    "    backtest_df['cash_portfolio'] = [cash_amount] * len(backtest_df)\n",
    "    backtest_df['total_portfolio'] = backtest_df['stock_portfolio'] + backtest_df['cash_portfolio']\n",
    "    backtest_df['day_change_rate'] = backtest_df['total_portfolio'].pct_change()\n",
    "    backtest_df['total_change_rate'] = backtest_df['total_portfolio']/initial_money - 1\n",
    "\n",
    "    return backtest_df\n",
    "\n",
    "#  [코드 5.16] 해당 날짜에 가격이 없으면 투자 관련 데이터에서 해당 종목 없애는 함수 (Ch5. 백테스트.ipynb)\n",
    "\n",
    "def select_code_by_price(price_df, data_df, start_date):\n",
    "    new_code_list = []\n",
    "    for code in price_df[start_date].iloc[0].dropna().index:\n",
    "        new_code_list.append(code)\n",
    "        \n",
    "    selected_df =  data_df.loc[new_code_list]\n",
    "    return selected_df\n",
    "\n",
    "# [코드 5.24] 백테스트 시작날짜가 주어지면 전략 기준 날짜를 계산하는 함수 (Ch5. 백테스트.ipynb)\n",
    "\n",
    "def get_strategy_date(start_date):\n",
    "    temp_year = int(start_date.split('-')[0])\n",
    "    temp_month = start_date.split('-')[1]\n",
    "    if temp_month in '1 2 3 4 5'.split(' '):\n",
    "        strategy_date = str(temp_year - 2) + '/12'\n",
    "    else:\n",
    "        strategy_date = str(temp_year - 1) + '/12'\n",
    "    return strategy_date\n",
    "\n",
    "\n",
    "# [코드 5.32] 리밸런싱 백테스트 함수화 (Ch5. 백테스트.ipynb)\n",
    "\n",
    "def backtest_re(strategy, start_date, end_date, initial_money, price_df, fr_df, fs_df, invest_df, num, value_type=None, value_list=None, date_range=None):\n",
    "    \n",
    "    start_year = int(start_date.split('-')[0])\n",
    "    end_year = int(end_date.split('-')[0])\n",
    "\n",
    "    total_df = 0\n",
    "    for temp in range(start_year, end_year):\n",
    "        this_term_start = str(temp) + '-' + start_date.split('-')[1]\n",
    "        this_term_end = str(temp+1) + '-' + start_date.split('-')[1]\n",
    "        strategy_date = get_strategy_date(this_term_start)\n",
    "        \n",
    "        if strategy.__name__ == 'high_roa':\n",
    "            st_df = strategy(select_code_by_price(price_df, fr_df, this_term_start), strategy_date, num)\n",
    "        elif strategy.__name__ == 'magic_formula':\n",
    "            st_df = strategy(select_code_by_price(price_df, invest_df, this_term_start), strategy_date, num)\n",
    "        elif strategy.__name__ == 'get_value_rank':\n",
    "            st_df = strategy(select_code_by_price(price_df, invest_df, this_term_start), value_type, strategy_date, num)\n",
    "        elif strategy.__name__ == 'make_value_combo':\n",
    "            st_df = strategy(value_list, select_code_by_price(price_df, invest_df, this_term_start), strategy_date, num)\n",
    "        elif strategy.__name__ == 'get_fscore':\n",
    "            st_df = strategy(select_code_by_price(price_df, fs_df, this_term_start), strategy_date, num)\n",
    "        elif strategy.__name__ == 'get_momentum_rank':\n",
    "            st_df = strategy(price_df, price_df[this_term_start].index[0] , date_range, num)\n",
    "        elif strategy.__name__ == 'get_value_quality':\n",
    "            st_df = strategy(select_code_by_price(price_df, invest_df, this_term_start), \n",
    "                             select_code_by_price(price_df, fs_df, this_term_start), strategy_date, num)\n",
    "        \n",
    "        backtest = backtest_beta(price_df, st_df, this_term_start, this_term_end, initial_money)\n",
    "        temp_end = backtest[this_term_end].index[0]\n",
    "        backtest = backtest[:temp_end]\n",
    "        initial_money =  backtest['종합포트폴리오'][-1]\n",
    "        if temp == start_year:\n",
    "            total_df = backtest\n",
    "        else:\n",
    "            total_df = pd.concat([total_df[:-1], backtest], sort=False)\n",
    "\n",
    "    total_df ['일변화율'] = total_df ['종합포트폴리오'].pct_change()\n",
    "    total_df ['총변화율'] = total_df ['종합포트폴리오']/ total_df ['종합포트폴리오'][0] - 1\n",
    "    \n",
    "    return total_df\n",
    "\n",
    "\n",
    "# [코드 5.40] MDD 함수화 (Ch5. 백테스트.ipynb)\n",
    "\n",
    "def get_mdd(back_test_df):\n",
    "    max_list = [0]\n",
    "    mdd_list = [0]\n",
    "\n",
    "    for i in back_test_df.index[1:]:\n",
    "        max_list.append(back_test_df['총변화율'][:i].max())\n",
    "        if max_list[-1] > max_list[-2]:\n",
    "            mdd_list.append(0)\n",
    "        else:\n",
    "            mdd_list.append(min(back_test_df['총변화율'][i] - max_list[-1], mdd_list[-1])   )\n",
    "\n",
    "    back_test_df['max'] = max_list\n",
    "    back_test_df['MDD'] = mdd_list\n",
    "    \n",
    "    return back_test_df\n",
    "\n",
    "\n",
    "\n",
    "# company_code = get_company_code('GS')\n",
    "# st_df = get_price_df(company_code, prices, 1)\n",
    "# st_df = get_monthly_price_df(company_code, prices, 1)\n",
    "# st_df = get_weekly_price_df(company_code, prices, 1)\n",
    "# st_df = add_moving_avererge(st_df, 5)\n",
    "# st_df = add_exponential_moving_average(st_df, 5)\n",
    "# st_df = add_weighted_moving_average(st_df, 5)\n",
    "# show_price_chart(st_df, 'GS')\n",
    "\n",
    "def weighted_mean(weightArray):\n",
    "    def inner(x):\n",
    "        return (weightArray*x).mean()\n",
    "    return inner\n",
    "\n",
    "def add_weighted_moving_average(st_df, n):\n",
    "    if 'price' not in st_df:\n",
    "        print('price column not exist')\n",
    "        return st_df\n",
    "    t = [v for v in np.arange(1, n+1)]\n",
    "    sumv = sum(t)/n\n",
    "    wts = np.array(t)/sumv\n",
    "    wMov = st_df['price'].rolling(n).apply(weighted_mean(wts), raw=True)\n",
    "    st_df['wMov' + str(n)] = wMov\n",
    "    return st_df\n",
    "\n",
    "def add_moving_average(st_df, n):\n",
    "    if 'price' not in st_df:\n",
    "        print('price column not exist')\n",
    "        return st_df\n",
    "    Mov = st_df['price'].rolling(window=n).mean()\n",
    "    st_df['Mov'+str(n)] = Mov\n",
    "    return st_df\n",
    "\n",
    "def add_exponential_moving_average(st_df, n):\n",
    "    if 'price' not in st_df:\n",
    "        print('price column not exist')\n",
    "        return st_df\n",
    "    eMov = st_df['price'].ewm(span=n).mean()\n",
    "    st_df['eMov'+str(n)] = eMov\n",
    "    return st_df\n",
    "\n",
    "\n",
    "def get_price_df(company_code, price_df, year_duration=1):\n",
    "    end_date = price_df.iloc[-1].name\n",
    "    start_date = end_date - datetime.timedelta(days=year_duration * 365)\n",
    "\n",
    "    strategy_price = price_df[company_code][start_date:end_date]\n",
    "    strategy_df = pd.DataFrame({'price':strategy_price})\n",
    "    return strategy_df\n",
    "\n",
    "def get_weekly_price_df(company_code, price_df, year_duration=1):\n",
    "    end_date = price_df.iloc[-1].name\n",
    "    start_date = end_date - datetime.timedelta(days=year_duration * 365)\n",
    "\n",
    "    strategy_price = price_df[company_code][start_date:end_date]\n",
    "    strategy_df = pd.DataFrame({'price':strategy_price})\n",
    "\n",
    "    first_week_day_list = []\n",
    "\n",
    "    prev_weekday_num = 5\n",
    "    for date in strategy_df.index:\n",
    "        weekday_num = date.weekday()\n",
    "        if weekday_num < prev_weekday_num:\n",
    "            first_week_day_list.append(date)\n",
    "        prev_weekday_num = weekday_num\n",
    "\n",
    "    weekly_price_df = strategy_df.loc[first_week_day_list]\n",
    "    weekly_price_df = pd.DataFrame({'price':weekly_price_df})\n",
    "\n",
    "    return weekly_price_df\n",
    "\n",
    "def get_monthly_price_df(company_code, price_df, year_duration=1):\n",
    "    end_date = price_df.iloc[-1].name\n",
    "    start_date = end_date - datetime.timedelta(days=year_duration * 365)\n",
    "\n",
    "    strategy_price = price_df[company_code][start_date:end_date]\n",
    "    strategy_df = pd.DataFrame({'price':strategy_price})\n",
    "\n",
    "    start_year = start_date.strftime(\"%Y\")\n",
    "    end_year= end_date.strftime(\"%Y\")\n",
    "\n",
    "    first = True\n",
    "    for year in range(int(start_year), int(end_year)+1):\n",
    "        for month in range(1,13):\n",
    "            year_month = \"%d-%02d\" % (year, month)\n",
    "            if year_month in strategy_df.index:\n",
    "                temp_df = pd.DataFrame(strategy_df.loc[year_month].iloc[0]).T\n",
    "                if first:\n",
    "                    month_df = temp_df\n",
    "                    first = False\n",
    "                else:\n",
    "                    month_df = pd.concat([month_df, temp_df], sort=False)\n",
    "    return month_df\n",
    "\n",
    "def get_yearly_price_df(company_code, price_df, year_duration=1):\n",
    "    end_date = price_df.iloc[-1].name\n",
    "    start_date = end_date - datetime.timedelta(days=year_duration * 365)\n",
    "\n",
    "    strategy_price = price_df[company_code][start_date:end_date]\n",
    "\n",
    "    start_year = start_date.strftime(\"%Y\")\n",
    "    end_year= end_date.strftime(\"%Y\")\n",
    "\n",
    "    first_year_day_list = []\n",
    "\n",
    "    for year in range(int(start_year), int(end_year)+1):\n",
    "        if str(year) in strategy_price.index:\n",
    "            first_day_of_year = strategy_price.loc[str(year)].index[0]\n",
    "            first_year_day_list.append(first_day_of_year)\n",
    "    first_year_day_list.append(end_date)\n",
    "    yearly_price_df = strategy_price.loc[first_year_day_list]\n",
    "    yearly_price_df = pd.DataFrame({'price':yearly_price_df})\n",
    "    return yearly_price_df\n",
    "\n",
    "def show_price_chart(st_df, name=None):\n",
    "    plt.figure(figsize=(40, 20))\n",
    "    plt.rcParams.update({'font.size': 22})\n",
    "    plt.plot(st_df.index, st_df['price'], linewidth=3.0)\n",
    "    for column in st_df.columns[1:len(st_df.columns)+1]:\n",
    "        plt.plot(st_df.index, st_df[column], label=column)\n",
    "    if name != None:\n",
    "        plt.title(name)\n",
    "    plt.xlabel(\"duration\")\n",
    "    plt.ylabel(\"price\")\n",
    "    plt.legend(loc='upper right')\n",
    "    # plt.grid()\n",
    "    plt.show()\n",
    "\n",
    "def show_general_chart(st_df, name_to_draw, label=None):\n",
    "    plt.figure(figsize=(40, 20))\n",
    "    plt.rcParams.update({'font.size': 22})\n",
    "    if label == None:\n",
    "        label = name_to_draw\n",
    "    plt.plot(st_df.index, st_df[name_to_draw], linewidth=3.0, label=label)\n",
    "    plt.xlabel(\"duration\")\n",
    "    plt.ylabel(name_to_draw)\n",
    "    plt.legend(loc='upper right')\n",
    "    # plt.grid()\n",
    "    plt.show()\n",
    "    \n",
    "\n",
    "\n",
    "\n",
    "\n",
    "\n",
    "\n",
    "\n",
    "\n",
    "\n",
    "\n",
    "\n",
    "\n",
    "\n",
    "\n",
    "\n",
    "\n",
    "\n",
    "\n",
    "\n",
    "\n",
    "\n",
    "\n",
    "\n",
    "\n"
   ]
  },
  {
   "cell_type": "code",
   "execution_count": 9,
   "metadata": {},
   "outputs": [],
   "source": [
    "# %load py_neo_quant_basic.py\n",
    "# %load py_neo_quant_basic.py\n",
    "import pandas as pd\n",
    "import numpy as np\n",
    "# import requests\n",
    "# import bs4\n",
    "# import time\n",
    "# import datetime\n",
    "# import matplotlib.pyplot as plt\n",
    "# from dateutil import parser\n",
    "# from matplotlib import font_manager, rc\n",
    "# from IPython.display import HTML\n",
    "# pd.set_option('display.max_colwidth', -1)\n",
    "\n",
    "rc('font', family='AppleGothic')\n",
    "plt.rcParams['axes.unicode_minus'] = False\n",
    "# pd.options.display.max_rows = 60\n",
    "# pd.set_option('display.max_columns', 500)\n",
    "# pd.set_option('display.width', 1000)\n",
    "%matplotlib inline\n",
    "\n",
    "my_portfolio = ['동국제강', '포스코','현대건설','GS건설','한국조선해양','OCI','미래에셋대우','삼성증권','삼성중공업','키움증권','LG화학']\n",
    "my_portfolio_code_list = ['A001230','A005490','A000720','A006360','A009540','A010060','A006800','A016360','A010140','A039490','A051910']\n",
    "\n",
    "# default loading\n",
    "# companies, fs_df, fr_df, iv_df, prices = load_all_data()\n",
    "\n",
    "########################## Basic API ################################\n",
    "\n",
    "def iterable(obj):\n",
    "    try:\n",
    "        iterator = iter(obj)\n",
    "    except TypeError:\n",
    "        return False\n",
    "    else:\n",
    "        return True\n",
    "\n",
    "\n",
    "def intersection(lst1, lst2): \n",
    "    lst3 = [value for value in lst1 if value in lst2] \n",
    "    return lst3 \n",
    "\n",
    "def is_kospi(company_code):\n",
    "    if company_code in companies.index:\n",
    "        return companies.loc[company_code]['구분'] == '코스피'\n",
    "    elif company_code == 'KOSPI':\n",
    "        return True\n",
    "    else:\n",
    "        return False\n",
    "\n",
    "def get_company_name(company_code):    \n",
    "    return _get_company_name(company_code, companies)\n",
    "    \n",
    "def get_company_code(company_name):\n",
    "    return _get_company_code(company_name, companies)\n",
    "\n",
    "# str 이나 list 를 전달한다.\n",
    "def get_company_code_list(company_name_list):\n",
    "    return _get_company_code_list(company_name_list, companies)\n",
    "\n",
    "\n",
    "########################## API ################################\n",
    "\n",
    "def get_firm_list_existing_in_price_df(firm_list):\n",
    "    return _get_firm_list_existing_in_price_df(firm_list, prices)\n",
    "\n",
    "def show_earning_rate(company_code_list, year_duration=1):\n",
    "    return _show_earning_rate(company_code_list, companies, prices, year_duration)\n",
    "\n",
    "def show_chart_by_name(company_name, days=365):\n",
    "    company_list = _get_company_code_list(company_name, companies)\n",
    "    if len(company_list) == 0:\n",
    "        print('no company with name' + company_name)\n",
    "        return\n",
    "    code = company_list[0]['code']\n",
    "    name = company_list[0]['name']\n",
    "    show_chart(code, days) \n",
    "\n",
    "def show_chart(company_code, days=365, show_market_price=False):\n",
    "    end_date = prices.iloc[-1].name\n",
    "    start_date = end_date - datetime.timedelta(days=days)\n",
    "    name = get_company_name(company_code)\n",
    "    _show_chart(company_code, prices, companies, start_date, end_date, show_market_price, name)\n",
    "    \n",
    "def show_start_duration_chart(company_code, start_date, days=None, show_market_price=False):\n",
    "    if days == None:\n",
    "        end_date = prices.iloc[-1].name\n",
    "    else:\n",
    "        end_date = pd.to_datetime(start_date) + datetime.timedelta(days=days)\n",
    "    name = get_company_name(company_code)\n",
    "    _show_chart(company_code, prices, companies, start_date, end_date, show_market_price, name)\n",
    "\n",
    "def show_start_end_chart(company_code, start_date, end_date=None, show_market_price=False):\n",
    "    if end_date == None:\n",
    "        end_date = prices.iloc[-1].name\n",
    "    name = get_company_name(company_code)\n",
    "    _show_chart(company_code, prices, companies, start_date, end_date, show_market_price, name)    \n",
    "    \n",
    "def show_monthly_chart(company_code, year_duration=1):\n",
    "    _show_monthly_chart(company_code, companies, prices, year_duration)\n",
    "    \n",
    "def show_detail_chart_by_name(company_name, year_duration=1):\n",
    "    _show_detail_chart_by_name(company_name, companies, prices, year_duration)\n",
    "    \n",
    "# def show_multi_chart(company_code_list, days=365):\n",
    "#     end_date = prices.iloc[-1].name\n",
    "#     start_date = end_date - datetime.timedelta(days=days)\n",
    "#     _show_chart(company_code_list, prices, companies, start_date, end_date)\n",
    "\n",
    "# def show_multi_start_duration_chart(company_code_list, start_date, days=None):\n",
    "#     if days == None:\n",
    "#         end_date = prices.iloc[-1].name\n",
    "#     else:\n",
    "#         end_date = pd.to_datetime(start_date) + datetime.timedelta(days=days)\n",
    "#     _show_multi_chart(company_code_list, prices, companies, start_date, end_date)\n",
    "\n",
    "def show_earning_rate_by_name(firm_name, year_duration=1):\n",
    "    return _show_earning_rate_by_name(firm_name, companies, prices, year_duration)\n",
    "\n",
    "def show_earning_chart(code_list, year_duration=1, initial_money=100000000):\n",
    "    _show_earning_chart(code_list, prices, year_duration, initial_money)\n",
    "\n",
    "def show_company_info(company_code_list):\n",
    "    return _show_company_info(company_code_list, companies, prices)\n",
    "    \n",
    "def show_company_info_by_name(firm_name):\n",
    "    return _show_company_info_by_name(firm_name, companies)\n",
    "    \n",
    "def add_company_info(st_df):\n",
    "    return _add_company_info(st_df, companies)\n",
    "\n",
    "# def add_price_info(st_df, start_date = None):\n",
    "#     return _add_price_info(st_df, prices, start_date)\n",
    "def add_price_info(st_df, start_date = None):\n",
    "    if 'price' in st_df.columns:\n",
    "        return st_df\n",
    "    else:\n",
    "        return _add_price_info(st_df, prices, start_date)\n",
    "    \n",
    "def get_kospi_list(company_df):\n",
    "    return company_df[company_df['구분']=='코스피']\n",
    "\n",
    "def get_kosdaq_list(company_df):\n",
    "    return company_df[company_df['구분']=='코스닥']\n",
    "    \n",
    "def get_price_over_code_list(company_code_list, min_price = 0, check_month=None):\n",
    "    return _get_price_over_code_list(company_code_list, prices, min_price, check_month)    \n",
    "\n",
    "def get_price_over_list(company_df, min_price = 0, check_month=None):\n",
    "    return company_df[company_df['price'] > min_price]\n",
    "\n",
    "def low_per(index_date, num=None):\n",
    "    return _low_per(iv_df, index_date, num)\n",
    "\n",
    "def low_pbr(index_date, num = None):\n",
    "    return _low_pbr(iv_df, index_date, num)\n",
    "\n",
    "def high_gpa(index_date, num = None):\n",
    "    return _high_gpa(fs_df, index_date, num)\n",
    "\n",
    "def qp_formula(index_date, num = None):\n",
    "    pbr = low_pbr(index_date, num)\n",
    "    gpa = high_gpa(index_date, num)\n",
    "    pbr['PBR_RANK'] = pbr['PBR'].rank()\n",
    "    gpa['GPA_RANK'] = gpa['GPA'].rank(ascending=False)\n",
    "    qp = pd.merge(pbr, gpa, how='outer', left_index=True, right_index=True)\n",
    "    qp['MAGIC_RANK'] = (qp['PBR_RANK'] + qp['GPA_RANK']).rank()\n",
    "    qp = qp.sort_values(by='MAGIC_RANK')\n",
    "    return qp[:num]\n",
    "\n",
    "########################## Strategy API ################################\n",
    "    \n",
    "    \n",
    "def show_business_trend(year_duration=1):\n",
    "    _show_business_trend(companies, prices, year_duration)\n",
    "    \n",
    "# get_maximum_earning_rate(5, 5000, 100, 'kospi')    \n",
    "def get_maximum_earning_rate(year_duration=1, min_price=0, min_profit=0, type='all'):\n",
    "    return _get_maximum_earning_rate(prices, companies, year_duration, min_price, min_profit, type)\n",
    "    \n",
    "def backtest_with_code_list(code_list, start_date, end_date=None, initial_money=100000000):\n",
    "#     if days == None:\n",
    "#         end_date = prices.iloc[-1].name\n",
    "#     else:\n",
    "#         end_date = pd.to_datetime(start_date) + datetime.timedelta(days=days)\n",
    "    return _backtest_with_code_list(code_list, prices, start_date, end_date, initial_money)       \n",
    "    \n",
    "    \n",
    "def low_per_backtest(start_date='2016-6', end_date=None, stock_num=6, min_price=0, division='kospi', initial_money=100000000):\n",
    "\n",
    "    price_df = prices\n",
    "\n",
    "    if end_date == None:\n",
    "        end_date = price_df.iloc[-1].name\n",
    "        end_date = end_date.strftime('%Y-%m-%d')\n",
    "\n",
    "    start_year = int(start_date.split('-')[0])\n",
    "    end_year = int(end_date.split('-')[0])\n",
    "\n",
    "    start_month = start_date.split('-')[1]\n",
    "    date_month_ago = pd.to_datetime(start_date) - datetime.timedelta(days=30)\n",
    "    date_month_ago = date_month_ago.strftime('%Y-%m-%d')\n",
    "    end_month = date_month_ago.split('-')[1]\n",
    "\n",
    "    total_df = 0\n",
    "    total_money = initial_money\n",
    "    for temp in range(start_year, end_year):\n",
    "        this_term_start = str(temp) + '-' + start_month\n",
    "        if end_month == '12':\n",
    "            this_term_end = str(temp) + '-' + end_month\n",
    "        else:\n",
    "            this_term_end = str(temp+1) + '-' + end_month\n",
    "\n",
    "        strategy_date = get_strategy_date(this_term_start)\n",
    "        per = _low_per(iv_df, strategy_date, None)\n",
    "\n",
    "        temp_index = price_df[this_term_start].iloc[0].dropna().index\n",
    "        final_index = intersection(per.index, temp_index)\n",
    "        per = per.loc[final_index]\n",
    "\n",
    "        per = add_price_info(per)\n",
    "        per = add_company_info(per)\n",
    "        if division == 'kospi':\n",
    "            per = get_kospi_list(per)\n",
    "        elif division == 'kosdaq':\n",
    "            per = get_kosdaq_list(per)\n",
    "        if min_price > 0:\n",
    "            temp_index = get_price_over_code_list(per.index, min_price, this_term_start)\n",
    "            per = per.loc[temp_index]\n",
    "\n",
    "        backtest = backtest_with_code_list(per.index[:stock_num], this_term_start, this_term_end, total_money)\n",
    "        total_money = backtest['total_portfolio'][-1]\n",
    "        if temp == start_year:\n",
    "            total_df = backtest\n",
    "        else:\n",
    "            total_df = pd.concat([total_df, backtest], sort=False)\n",
    "\n",
    "    total_df ['day_change_rate'] = total_df ['total_portfolio'].pct_change()\n",
    "    total_df ['total_change_rate'] = total_df ['total_portfolio']/ total_df ['total_portfolio'][0] - 1\n",
    "\n",
    "    return total_df\n",
    "        \n",
    "\n",
    "def get_company_list_beated_market_profit(price_df, start_date, end_date=None, market_type='kospi', min_profit=None, min_price=0):\n",
    "    if end_date == None:\n",
    "        end_date = price_df.iloc[-1].name\n",
    "    strategy_price = price_df[start_date:end_date]\n",
    "    strategy_price = strategy_price.fillna(method='bfill')\n",
    "    total_change_rate = strategy_price/strategy_price.iloc[0]-1\n",
    "    st_df = pd.DataFrame({'change_rate':total_change_rate.iloc[-1]})\n",
    "    st_df['구분'] = st_df.index.map(lambda x: '코스피' if is_kospi(x) else '코스닥')\n",
    "    if market_type == 'kospi':\n",
    "        st_df = get_kospi_list(st_df)\n",
    "        st_df = st_df[st_df['change_rate'] > st_df.loc['KOSPI']['change_rate']]\n",
    "    else:\n",
    "        st_df = get_kosdaq_list(st_df)\n",
    "        st_df = st_df[st_df['change_rate'] > st_df.loc['KOSDAQ']['change_rate']]\n",
    "        \n",
    "    st_df = st_df.drop('구분', axis=1)\n",
    "    st_df = add_company_info(st_df)\n",
    "    st_df = add_price_info(st_df)\n",
    "    \n",
    "    st_df = get_price_over_list(st_df, min_price)\n",
    "\n",
    "    if min_profit != None:\n",
    "        st_df = st_df[st_df['change_rate'] > min_profit]\n",
    "\n",
    "    st_df['rank'] = st_df['change_rate'].rank(ascending=False)\n",
    "    st_df = st_df.sort_values(by='rank')\n",
    "    \n",
    "\n",
    "    return st_df\n",
    "\n",
    "\n",
    "def show_industry_list_beated_market_profit(price_df, start_date, end_date=None, market_type='kospi'):\n",
    "    if end_date == None:\n",
    "        end_date = price_df.iloc[-1].name\n",
    "\n",
    "    industry = dict(list(companies.groupby(['업종', '업종코드'])))\n",
    "\n",
    "    industry_list = []\n",
    "    for key,value in industry.items():\n",
    "        if market_type == 'kospi':\n",
    "            value = get_kospi_list(value)\n",
    "        else:\n",
    "            value = get_kosdaq_list(value)\n",
    "        industry_list.append({'name':key[0], 'code':key[1], 'list':list(value.index)})\n",
    "        \n",
    "    if market_type == 'kospi':  \n",
    "        strategy_price = price_df[['KOSPI']][start_date:end_date]\n",
    "    else:  \n",
    "        strategy_price = price_df[['KOSDAQ']][start_date:end_date]\n",
    "    strategy_price = strategy_price.fillna(method='bfill')\n",
    "    strategy_price['total_change_rate'] = strategy_price/strategy_price.iloc[0]-1\n",
    "    \n",
    "    num_row = int((len(industry_list)-1)/2)+1\n",
    "\n",
    "    plt.figure(figsize=(10*4, num_row*5))\n",
    "    plt.subplots_adjust(left=None, bottom=None, right=None, top=None, wspace=None, hspace=0.5)\n",
    "    index = 0\n",
    "    for i, industory in enumerate(industry_list):\n",
    "        name = industory['name']\n",
    "        code = industory['code']\n",
    "        firm_list = industory['list']\n",
    "        firm_list = get_firm_list_existing_in_price_df(firm_list)\n",
    "        if len(firm_list) == 0:\n",
    "            continue\n",
    "        backtest = backtest_with_code_list(get_firm_list_existing_in_price_df(firm_list), start_date, end_date)\n",
    "        if (backtest['total_change_rate'][-1] > strategy_price['total_change_rate'][-1]):\n",
    "            ax = plt.subplot(num_row, 4, index+1)\n",
    "            index = index+1\n",
    "            title = name + ' : ' + str(code) + ' (' + str(len(firm_list)) +')'\n",
    "            ax.title.set_text(title)\n",
    "            ax.plot(backtest.index, backtest['total_change_rate'], color='black')\n",
    "            ax.plot(strategy_price.index, strategy_price['total_change_rate'], color='red')\n",
    "    plt.show()\n",
    "\n",
    "\n",
    "\n",
    "\n",
    "\n",
    "\n",
    "\n",
    "\n",
    "\n",
    "\n",
    "\n",
    "\n",
    "\n",
    "\n",
    "\n",
    "\n",
    "\n",
    "\n"
   ]
  },
  {
   "cell_type": "code",
   "execution_count": 10,
   "metadata": {},
   "outputs": [],
   "source": [
    "# %load py_neo_quant_fnguide.py\n",
    "# %load py_neo_quant_backtest.py\n",
    "import pandas as pd\n",
    "import numpy as np\n",
    "# import requests\n",
    "# import bs4\n",
    "# import time\n",
    "# import datetime\n",
    "import matplotlib.pyplot as plt\n",
    "# from dateutil import parser\n",
    "from matplotlib import font_manager, rc\n",
    "# from IPython.display import HTML\n",
    "# pd.set_option('display.max_colwidth', -1)\n",
    "\n",
    "rc('font', family='AppleGothic')\n",
    "plt.rcParams['axes.unicode_minus'] = False\n",
    "# pd.options.display.max_rows = 60\n",
    "# pd.set_option('display.max_columns', 500)\n",
    "# pd.set_option('display.width', 1000)\n",
    "%matplotlib inline\n",
    "\n",
    "########################## API ################################\n",
    "\n",
    "category_list = ['제조업','은행업','보험업','증권업','신용금고','종합금융업','여신전문','기타금융업']  \n",
    "\n",
    "\n",
    "def change_fnguide_df(fnguide_df, account):\n",
    "    fnguide_df = fnguide_df.iloc[8:]\n",
    "    fnguide_df.columns =  fnguide_df.iloc[0].values\n",
    "    fnguide_df = fnguide_df.set_index(fnguide_df.columns[0])\n",
    "    fnguide_df = fnguide_df.iloc[1:]\n",
    "    fnguide_df.index = fnguide_df.index.map(make_code)\n",
    "#     fnguide_df.index = 'A' + fnguide_df.index\n",
    "    fnguide_df = fnguide_df[fnguide_df.columns[3:]]\n",
    "    fnguide_df.columns = fnguide_df.columns.map(lambda x: str(int(x)) + '/12')\n",
    "    fnguide_df.columns = [fnguide_df.columns, [account] * len(fnguide_df.columns)]\n",
    "    return fnguide_df\n",
    "        \n",
    "\n",
    "big_col = ['2018/12','2017/12','2016/12','2015/12','2014/12','2013/12','2012/12','2011/12','2010/12','2009/12','2008/12','2007/12']\n",
    "def make_account_df(account, account_type):\n",
    "    for num, category in enumerate(category_list):\n",
    "        path = r'fnguide/D_Finance_' + account + '(' + category + '_' + account_type + ')' + '.xlsx'\n",
    "        try:\n",
    "            temp = pd.read_excel(path)\n",
    "        except FileNotFoundError:\n",
    "#             print('file not found : ' + path)\n",
    "            continue\n",
    "        temp = change_fnguide_df(temp, account)\n",
    "        for col in big_col:\n",
    "            if col not in temp.columns:\n",
    "#                 print(col)\n",
    "#                 print(account)\n",
    "                temp[col, account] = np.NaN\n",
    "        if num == 0:\n",
    "            total_df = temp\n",
    "        else:\n",
    "            total_df = pd.concat([total_df, temp], sort=False)\n",
    "    total_df = total_df.loc[~total_df.index.duplicated(keep='first')]\n",
    "    return total_df\n",
    "\n",
    "\n",
    "def merge_df_list(df_list):\n",
    "    for num, df in enumerate(df_list):\n",
    "        if num == 0:\n",
    "            merge_df = df\n",
    "        else:\n",
    "            merge_df = pd.merge(merge_df, df, left_index=True, right_index=True, how='outer')\n",
    "    return merge_df\n",
    "\n",
    "def make_total_fs_df():\n",
    "    asset = make_account_df('자산', '재무상태')\n",
    "    capital = make_account_df('자본', '재무상태')\n",
    "    debt = make_account_df('부채','재무상태')\n",
    "    profit = make_account_df('당기순이익', '포괄손익')\n",
    "    sell = make_account_df('매출액', '포괄손익')\n",
    "    sell[('2007/12', '매출액')] = np.NaN\n",
    "    cost = make_account_df('매출원가', '포괄손익')\n",
    "    cost[('2008/12', '매출원가')] = np.NaN\n",
    "    cost[('2007/12', '매출원가')] = np.NaN\n",
    "    total_profit = make_account_df('매출총이익', '포괄손익')\n",
    "    total_profit[('2009/12', '매출총이익')] = np.NaN\n",
    "    total_profit[('2008/12', '매출총이익')] = np.NaN\n",
    "    total_profit[('2007/12', '매출총이익')] = np.NaN\n",
    "    busi_profit = make_account_df('영업이익', '포괄손익')\n",
    "    current = make_account_df('영업활동으로인한현금흐름', '재무비율')\n",
    "\n",
    "    for num, column in enumerate(asset.columns):\n",
    "        asset_col = asset[[asset.columns[num]]]\n",
    "        capital_col = capital[[capital.columns[num]]]\n",
    "        debt_col = debt[[debt.columns[num]]]\n",
    "        profit_col = profit[[profit.columns[num]]]\n",
    "        sell_col = sell[[sell.columns[num]]]\n",
    "        cost_col = cost[[cost.columns[num]]]\n",
    "        total_profit_col = total_profit[[total_profit.columns[num]]]\n",
    "        busi_profit_col = busi_profit[[busi_profit.columns[num]]]\n",
    "        current_col = current[[current.columns[num]]]\n",
    "    #     temp_df = pd.concat([roa_col,roic_col,debt_col,profit_col,current_col], axis=1, sort=False)\n",
    "        temp_df = merge_df_list([asset_col,capital_col,debt_col,profit_col,sell_col,cost_col,total_profit_col,busi_profit_col,current_col])\n",
    "        if num == 0:\n",
    "            total_df = temp_df\n",
    "        else:\n",
    "            total_df = pd.concat([total_df, temp_df], axis=1)\n",
    "    return total_df\n",
    "\n",
    "def make_total_fr_df():\n",
    "    roa = make_account_df('ROA', '재무비율')\n",
    "    roic = make_account_df('ROIC', '재무비율')\n",
    "    debt = make_account_df('부채비율', '재무비율')\n",
    "    profit = make_account_df('영업이익률', '재무비율')\n",
    "    current = make_account_df('유동비율', '재무비율')\n",
    "    for num, column in enumerate(roa.columns):\n",
    "        roa_col = roa[[roa.columns[num]]]\n",
    "        roic_col = roic[[roic.columns[num]]]\n",
    "        debt_col = debt[[debt.columns[num]]]\n",
    "        profit_col = profit[[profit.columns[num]]]\n",
    "        current_col = current[[current.columns[num]]]\n",
    "#         temp_df = pd.concat([roa_col,roic_col,debt_col,profit_col,current_col], axis=1, sort=False)\n",
    "        temp_df = merge_df_list([roa_col,roic_col,debt_col,profit_col,current_col])\n",
    "        if num == 0:\n",
    "            total_df = temp_df\n",
    "        else:\n",
    "            total_df = pd.concat([total_df, temp_df], axis=1)\n",
    "    return total_df\n",
    "\n",
    "def make_total_iv_df():\n",
    "    per = make_account_df('PER', '재무비율')\n",
    "    pcr = make_account_df('PCR', '재무비율')\n",
    "    pbr = make_account_df('PBR', '재무비율')\n",
    "    psr = make_account_df('PSR', '재무비율')\n",
    "    psr[('2007/12', 'PSR')] = np.NaN\n",
    "    total_money_df = make_account_df('총현금흐름', '재무비율')\n",
    "    for num, column in enumerate(per.columns):\n",
    "        per_col = per[[per.columns[num]]]\n",
    "        pcr_col = pcr[[pcr.columns[num]]]\n",
    "        pbr_col = pbr[[pbr.columns[num]]]\n",
    "        psr_col = psr[[psr.columns[num]]]\n",
    "        total_money_col = total_money_df[[total_money_df.columns[num]]]\n",
    "    #     print(psr_col)\n",
    "#         temp_df = pd.concat([per_col,pcr_col,pbr_col,psr_col,total_money_col], axis=1, sort=False)\n",
    "        temp_df = merge_df_list([per_col,pcr_col,pbr_col,psr_col,total_money_col])\n",
    "        if num == 0:\n",
    "            total_df = temp_df\n",
    "        else:\n",
    "            total_df = pd.concat([total_df, temp_df], axis=1)\n",
    "    return total_df\n",
    "\n",
    "\n",
    "\n",
    "\n",
    "\n",
    "\n",
    "\n",
    "\n",
    "\n",
    "\n",
    "\n",
    "\n"
   ]
  },
  {
   "cell_type": "code",
   "execution_count": 106,
   "metadata": {},
   "outputs": [],
   "source": [
    "# %load py_neo_quant_backtest.py\n",
    "# %load py_neo_quant_backtest.py\n",
    "import pandas as pd\n",
    "import numpy as np\n",
    "# import requests\n",
    "# import bs4\n",
    "# import time\n",
    "# import datetime\n",
    "import matplotlib.pyplot as plt\n",
    "# from dateutil import parser\n",
    "from matplotlib import font_manager, rc\n",
    "# from IPython.display import HTML\n",
    "# pd.set_option('display.max_colwidth', -1)\n",
    "\n",
    "rc('font', family='AppleGothic')\n",
    "plt.rcParams['axes.unicode_minus'] = False\n",
    "# pd.options.display.max_rows = 60\n",
    "# pd.set_option('display.max_columns', 500)\n",
    "# pd.set_option('display.width', 1000)\n",
    "%matplotlib inline\n",
    "\n",
    "########################## API ################################\n",
    "\n",
    "def get_code_list_has_price(code_list, price_df, start_date):\n",
    "    return price_df[start_date:][code_list].iloc[0].dropna().index\n",
    "\n",
    "def get_low_per_firm_list(start_date, price_df, num):\n",
    "    start_date = str(start_date)\n",
    "    strategy_date = get_strategy_date(start_date)\n",
    "    firm_list = low_per(strategy_date).index\n",
    "    return get_code_list_has_price(firm_list, price_df, start_date)[:num]\n",
    "\n",
    "def get_buy_firm_count(total_pf_df):\n",
    "    buy_firm_list = list(total_pf_df.columns[total_pf_df.iloc[-1] > 0])\n",
    "    buy_firm_list.remove('cash')\n",
    "    return len(buy_firm_list)\n",
    "\n",
    "def remove_duplicate(list, check_list):\n",
    "    new_list = []\n",
    "    for item in list:\n",
    "        if item not in check_list:\n",
    "            new_list.append(item)\n",
    "            \n",
    "    return new_list\n",
    "\n",
    "def get_last_buy_date(total_pf_df, firm_code):\n",
    "    firm_buy_list = total_pf_df[firm_code][::-1]\n",
    "    first_buy_date = 0\n",
    "    for date in firm_buy_list.index:\n",
    "        buy_count = firm_buy_list.loc[date]\n",
    "        if buy_count > 0:\n",
    "            first_buy_date = date\n",
    "        else:\n",
    "            if first_buy_date != 0:\n",
    "                break\n",
    "    return first_buy_date\n",
    "\n",
    "def get_hold_firm_list(total_pf_df):\n",
    "    return list(total_pf_df.columns[total_pf_df.iloc[-1] > 0])\n",
    "\n",
    "def get_pf_profit(date, total_pf_df, price_df):\n",
    "    total_profit = 0\n",
    "    for firm_code in total_pf_df.columns:\n",
    "        if firm_code == 'cash':\n",
    "            firm_profit = total_pf_df[firm_code].loc[date]\n",
    "        else:\n",
    "            price = price_df[firm_code].fillna(0).loc[date]\n",
    "            count = total_pf_df[firm_code].loc[date]\n",
    "            firm_profit = price * count\n",
    "        total_profit = total_profit + firm_profit\n",
    "    return total_profit\n",
    "\n",
    "def get_backtest_result_from_pf(total_pf_df, price_df):\n",
    "    for num, date in enumerate(total_pf_df.index):\n",
    "        pf_profit = get_pf_profit(date, total_pf_df, price_df)\n",
    "        temp_df = pd.DataFrame({'total_portfolio':pf_profit}, index=[date])\n",
    "        if num == 0:\n",
    "            backtest_df = temp_df\n",
    "            initial_money = pf_profit\n",
    "        else:\n",
    "            backtest_df = pd.concat([backtest_df, temp_df], sort=False)\n",
    "    backtest_df['day_change_rate'] = backtest_df['total_portfolio'].pct_change()\n",
    "    backtest_df['total_change_rate'] = backtest_df['total_portfolio']/initial_money - 1\n",
    "    return backtest_df\n",
    "\n",
    "def make_initial_portfolio(firm_list, start_date, price_df, initial_money):\n",
    "    strategy_price = price_df[firm_list][start_date:]\n",
    "    pf_stock_num = {}\n",
    "    stock_amount = 0\n",
    "\n",
    "    each_money = initial_money / len(firm_list)\n",
    "    for code in strategy_price.columns:\n",
    "        stock_count = int( each_money / strategy_price[code][0] )\n",
    "        pf_stock_num[code] = stock_count\n",
    "        stock_amount = stock_amount + stock_count * strategy_price[code][0]\n",
    "    cash_amount = initial_money - stock_amount\n",
    "    print('>>>>>> initial buy list (' + str(len(pf_stock_num)) + ') : ' + str(start_date))\n",
    "#     print(pf_stock_num)\n",
    "    for (code, num) in pf_stock_num.items():\n",
    "        name = get_company_name(code)\n",
    "        print(name + '(' + str(code) + ') : ' +  str(num))\n",
    "\n",
    "    print('\\n')\n",
    "\n",
    "    pf_df = pd.DataFrame(pf_stock_num, index=[strategy_price.iloc[0].name])\n",
    "    pf_df['cash'] = cash_amount\n",
    "    \n",
    "    \n",
    "    cache_df = pf_df.T\n",
    "    cache_df['buy_date'] = strategy_price.iloc[0].name\n",
    "    cache_df = cache_df.drop(strategy_price.iloc[0].name, axis=1)\n",
    "    cache_df = cache_df.drop('cash')\n",
    "    \n",
    "    return pf_df, cache_df\n",
    "\n",
    "def make_update_portfolio(firm_list, total_pf_df, cache_df, date, price_df):\n",
    "    strategy_price = price_df[firm_list][date:]\n",
    "    pf_stock_num = {}\n",
    "    stock_amount = 0\n",
    "    total_cash = total_pf_df['cash'].iloc[-1]\n",
    "    each_money = total_cash / len(firm_list)\n",
    "#     print(each_money)\n",
    "    for code in strategy_price.columns:\n",
    "        stock_count = int( each_money / strategy_price[code][0] )\n",
    "        pf_stock_num[code] = stock_count\n",
    "        \n",
    "        if code in total_pf_df.columns:\n",
    "            total_pf_df.at[date, code] = stock_count\n",
    "        else:\n",
    "            total_pf_df[code] = 0\n",
    "            total_pf_df.at[date, code] = stock_count\n",
    "        ############## cache update ######################\n",
    "        cache_df.loc[code] = date\n",
    "        \n",
    "        stock_amount = stock_amount + stock_count * strategy_price[code][0]\n",
    "    total_cash = total_cash - stock_amount\n",
    "    total_pf_df.at[date, 'cash'] = total_cash\n",
    "    print('>>>>>> buy list (' + str(len(pf_stock_num)) + ') : ' + str(date))\n",
    "    for (code, num) in pf_stock_num.items():\n",
    "        name = get_company_name(code)\n",
    "        print(name + '(' + str(code) + ') : ' +  str(num))\n",
    "#     print(pf_stock_num)\n",
    "    print('\\n')\n",
    "    return total_pf_df\n",
    "\n",
    "\n",
    "def update_portfolio(pf_func, total_pf_df, cache_df, today, price_df, firm_count=20, max_profit=0.5, max_holding_days=365*2):\n",
    "    temp_df = pd.DataFrame(total_pf_df.iloc[-1]).T\n",
    "    temp_df.index = [today]\n",
    "    total_pf_df = pd.concat([total_pf_df, temp_df], sort=False)\n",
    "    \n",
    "    total_cash = total_pf_df['cash'].iloc[-1]\n",
    "#     prev_date = total_pf_df.index[-1]\n",
    "    \n",
    "    sell_count = 0\n",
    "    sell_code_list = []\n",
    "    update_portpolio = False\n",
    "    for code in total_pf_df.columns:\n",
    "        if code == 'cash': # not firm\n",
    "            continue\n",
    "            \n",
    "        buy_count = total_pf_df[code].iloc[-1] # already sell\n",
    "        if buy_count == 0:\n",
    "            continue\n",
    "            \n",
    "#         last_buy_date = get_last_buy_date(total_pf_df, code)\n",
    "        last_buy_date = cache_df.at[code, 'buy_date'] # use cache\n",
    "#         print(last_buy_date)\n",
    "        if last_buy_date != 0:\n",
    "            buy_price = price_df[code].loc[last_buy_date]\n",
    "            today_price = price_df[code].loc[today]\n",
    "            profit = today_price / buy_price - 1\n",
    "            pass_enough_years_after_buy = pd.to_datetime(today) - last_buy_date > datetime.timedelta(days=max_holding_days)\n",
    "            enough_profit = profit >= max_profit\n",
    "            if enough_profit:\n",
    "                name = get_company_name(code)\n",
    "                print('>>>>>> enough profit (' + name + ' : ' + code + ') - (' + str(today_price) + ' : ' + str(round(profit, 2)) + ') : ' + str(today))\n",
    "                update_portpolio = True\n",
    "            if pass_enough_years_after_buy:\n",
    "                name = get_company_name(code)\n",
    "                print('>>>>>> enough periods (' + name + ' : ' + code + ') - (' + str(today_price) + ' : ' + str(round(profit, 2)) + ') : ' + str(pd.to_datetime(today) - last_buy_date) + str(today))\n",
    "                update_portpolio = True\n",
    "            if pass_enough_years_after_buy or enough_profit:\n",
    "                sell_profit = buy_count * today_price\n",
    "                total_pf_df.at[today, code] = 0\n",
    "                total_cash = total_cash + sell_profit\n",
    "                sell_count = sell_count + 1\n",
    "                sell_code_list.append(code)\n",
    "                ############## cache update ################\n",
    "                cache_df.drop(code)\n",
    "                \n",
    "    total_pf_df.at[today, 'cash'] = total_cash  \n",
    "#     print(sell_count)\n",
    "    if sell_count > 0:\n",
    "        print('>>>>>> sell list (' + str(len(sell_code_list)) + ') : ' +  str(today))\n",
    "        print(sell_code_list)\n",
    "        print('\\n')\n",
    "        if update_portpolio:\n",
    "    #         firm_list = get_low_per_firm_list(today.strftime('%Y-%m-%d'), price_df, None)\n",
    "            firm_list = pf_func(today.strftime('%Y-%m-%d'))\n",
    "    #         firm_list = get_low_per_firm_list(start_date, price_df, None)\n",
    "    #         print('>>>>>> low per')\n",
    "    #         print(firm_list[:20])\n",
    "            firm_list = remove_duplicate(firm_list, sell_code_list)\n",
    "            firm_list = remove_duplicate(firm_list, get_hold_firm_list(total_pf_df))\n",
    "\n",
    "            buy_firm_count = get_buy_firm_count(total_pf_df)\n",
    "            buy_count = firm_count - buy_firm_count\n",
    "    #         printㅠ('>>>> buy count : ' + str(buy_count))\n",
    "            total_pf_df = make_update_portfolio(firm_list[:buy_count], total_pf_df, cache_df, today, price_df)\n",
    "    return total_pf_df\n",
    "\n",
    "\n",
    "# def get_low_per_backtest_df(start_date, price_df, firm_count=20, initial_money=100000000, min_profit=0.5, min_days=365*2):\n",
    "#     firm_list = get_low_per_firm_list(start_date, price_df, firm_count)\n",
    "#     total_date_index = price_df[start_date:].index\n",
    "\n",
    "#     for num, date in enumerate(total_date_index):\n",
    "#         if num == 0:\n",
    "#             total_pf_df, cashe_df = make_initial_portfolio(firm_list, date, price_df, initial_money)\n",
    "#         else:\n",
    "#             total_pf_df = update_portfolio(total_pf_df, date, price_df, firm_count, min_profit, min_days)\n",
    "#             total_pf_df = total_pf_df.fillna(0)\n",
    "#             aList = list(total_pf_df.columns)\n",
    "#             aList.remove('cash')\n",
    "#             aList.append('cash')\n",
    "#             total_pf_df = total_pf_df[aList]\n",
    "#     #         if date == pd.to_datetime('2017-1-5'):\n",
    "#     #             break\n",
    "#     return total_pf_df\n",
    "\n",
    "def get_portfolio_backtest_df(pf_func, start_date, price_df, firm_count=20, initial_money=100000000, min_profit=0.5, min_days=365*2):\n",
    "    total_date_index = price_df[start_date:].index\n",
    "    first_date = total_date_index[0]\n",
    "    \n",
    "    firm_list = pf_func(first_date)\n",
    "\n",
    "        \n",
    "    total_pf_df, cache_df = make_initial_portfolio(firm_list[:firm_count], first_date, price_df, initial_money)\n",
    "\n",
    "    for num, date in enumerate(total_date_index[1:]):\n",
    "    #     if num == 0:\n",
    "    #         total_pf_df, cashe_df = make_initial_portfolio(firm_list, date, price_df, initial_money)\n",
    "    #     else:\n",
    "        total_pf_df = update_portfolio(pf_func, total_pf_df, cache_df, date, price_df, firm_count, max_profit, max_holding_days)\n",
    "        total_pf_df = total_pf_df.fillna(0)\n",
    "        aList = list(total_pf_df.columns)\n",
    "        aList.remove('cash')\n",
    "        aList.append('cash')\n",
    "        total_pf_df = total_pf_df[aList]\n",
    "        time.sleep(0.01)\n",
    "\n",
    "    return total_pf_df\n",
    "\n",
    "\n",
    "def get_price_data_for_backtest():\n",
    "    price_path = r'data/price_data_2005.xlsx'\n",
    "    price_df = pd.read_excel(price_path)\n",
    "    price_df = price_df.set_index(price_df.columns[0])\n",
    "    return price_df\n",
    "\n",
    "def load_all_data_for_backtest():\n",
    "    prices = get_price_data_for_backtest()\n",
    "    companies = get_company_data()\n",
    "    total_fs_df = make_total_fs_df()\n",
    "    total_fr_df = make_total_fr_df()\n",
    "    total_iv_df = make_total_iv_df()\n",
    "    common_index = intersection(total_fs_df.index, total_iv_df.index)\n",
    "    common_index = intersection(common_index, companies.index)\n",
    "    companies = companies.loc[common_index]\n",
    "    fs_df = total_fs_df.loc[common_index]\n",
    "    fr_df = total_fr_df.loc[common_index]\n",
    "    iv_df = total_iv_df.loc[common_index]\n",
    "    price_index = []\n",
    "    price_index.append('KOSPI')\n",
    "    price_index.append('KOSDAQ')\n",
    "    for code in common_index:\n",
    "        price_index.append(code)\n",
    "    prices = prices[price_index]\n",
    "    return companies, fs_df, fr_df, iv_df, prices \n",
    "\n",
    "def load_recent_data_for_backtest():\n",
    "    companies = get_company_data()\n",
    "    fs_df = get_fs_data()\n",
    "    fr_df = get_fr_data()\n",
    "    iv_df = get_invest_data()\n",
    "    prices = get_price_data()\n",
    "    common_index = intersection(fs_df.index, fr_df.index)\n",
    "    common_index = intersection(common_index, iv_df.index)\n",
    "    common_index = intersection(common_index, companies.index)\n",
    "    companies = companies.loc[common_index]\n",
    "    fs_df = fs_df.loc[common_index]\n",
    "    fr_df = fr_df.loc[common_index]\n",
    "    iv_df = iv_df.loc[common_index]\n",
    "    price_index = []\n",
    "    price_index.append('KOSPI')\n",
    "    price_index.append('KOSDAQ')\n",
    "    for code in common_index:\n",
    "        price_index.append(code)\n",
    "    prices = prices[price_index]\n",
    "    return companies, fs_df, fr_df, iv_df, prices \n",
    "\n",
    "\n",
    "\n",
    "\n",
    "\n",
    "\n",
    "\n"
   ]
  },
  {
   "cell_type": "code",
   "execution_count": 97,
   "metadata": {},
   "outputs": [],
   "source": [
    "!open ."
   ]
  },
  {
   "cell_type": "code",
   "execution_count": 16,
   "metadata": {},
   "outputs": [],
   "source": [
    "pd.options.display.max_rows = 60\n",
    "pd.options.display.max_columns = 20\n",
    "# pd.options.display.max_rows = 6000\n",
    "# pd.set_option('display.max_columns', 500)"
   ]
  },
  {
   "cell_type": "code",
   "execution_count": 87,
   "metadata": {},
   "outputs": [],
   "source": [
    "companies, fs_df, fr_df, iv_df, prices = load_all_data_for_backtest()"
   ]
  },
  {
   "cell_type": "code",
   "execution_count": 88,
   "metadata": {},
   "outputs": [],
   "source": [
    "price_df = prices\n",
    "start_date = '2008-6'\n",
    "strategy_date = get_strategy_date(start_date)\n",
    "initial_money = 100000000"
   ]
  },
  {
   "cell_type": "code",
   "execution_count": 89,
   "metadata": {},
   "outputs": [],
   "source": [
    "companies = get_company_df_from_total_capital(companies, 0.6, start_date)\n",
    "fs_df = fs_df.loc[companies.index]\n",
    "fr_df = fr_df.loc[companies.index]\n",
    "iv_df = iv_df.loc[companies.index]"
   ]
  },
  {
   "cell_type": "code",
   "execution_count": 98,
   "metadata": {},
   "outputs": [],
   "source": [
    "def get_low_per_kospi_firm_list(start_date):\n",
    "    start_date = str(start_date)\n",
    "    strategy_date = get_strategy_date(start_date)\n",
    "    per = low_per(strategy_date)\n",
    "    new_firm_list = get_code_list_has_price(per.index, price_df, start_date)\n",
    "    per = per.loc[new_firm_list]\n",
    "    per = add_price_info(per)\n",
    "    per = add_company_info(per)\n",
    "    per = get_kospi_list(per)\n",
    "\n",
    "    temp_df = pd.DataFrame({'price':price_df.loc[start_date][per.index]})\n",
    "    temp_index = temp_df[temp_df['price'] > 5000].index\n",
    "    per = per.loc[temp_index]\n",
    "\n",
    "    return per.index\n",
    "\n",
    "def get_low_per_firm_list(start_date, price_df, num):\n",
    "    start_date = str(start_date)\n",
    "    strategy_date = get_strategy_date(start_date)\n",
    "    firm_list = low_per(strategy_date).index\n",
    "    return get_code_list_has_price(firm_list, price_df, start_date)[:num]\n",
    "\n",
    "def get_low_per_portfolio(start_date):\n",
    "    firm_list = get_low_per_firm_list(start_date, price_df, None)\n",
    "    return firm_list\n",
    "\n",
    "def get_low_pbr_portfolio(start_date):\n",
    "    start_date = str(start_date)\n",
    "    strategy_date = get_strategy_date(start_date)\n",
    "    firm_list = low_pbr(strategy_date).index\n",
    "    return get_code_list_has_price(firm_list, price_df, start_date)\n",
    "\n",
    "def get_high_roa_firm_list(start_date, price_df, num):\n",
    "    start_date = str(start_date)\n",
    "    strategy_date = get_strategy_date(start_date)\n",
    "    firm_list = high_roa(fr_df, strategy_date, None).index\n",
    "    return get_code_list_has_price(firm_list, price_df, start_date)[:num]\n",
    "\n",
    "def get_high_roa_portfolio(start_date):\n",
    "    firm_list = get_high_roa_firm_list(start_date, price_df, None)\n",
    "    return firm_list\n",
    "\n",
    "def get_qp_portfolio(start_date):\n",
    "    start_date = str(start_date)\n",
    "    strategy_date = get_strategy_date(start_date)\n",
    "    qp_list = qp_formula(strategy_date).index\n",
    "    qp_list = get_code_list_has_price(qp_list, price_df, start_date)\n",
    "    return qp_list\n",
    "\n",
    "def get_qp_portfolio2(start_date):\n",
    "    start_date = str(start_date)\n",
    "    strategy_date = get_strategy_date(start_date)\n",
    "    qp = qp_formula(strategy_date)\n",
    "    qp = add_company_info(qp)\n",
    "    qp = qp.loc[qp['당기순이익'] > 0]\n",
    "#     qp = qp.loc[qp['기업명'].apply(lambda x: False if '홀딩스' in x else True)]\n",
    "    qp_list = get_code_list_has_price(qp.index, price_df, start_date)\n",
    "    return qp_list\n",
    "\n",
    "def get_high_gpa_portfolio(start_date):\n",
    "    start_date = str(start_date)\n",
    "    strategy_date = get_strategy_date(start_date)\n",
    "    firm_list = high_gpa(strategy_date).index\n",
    "    return get_code_list_has_price(firm_list, price_df, start_date)\n",
    "\n",
    "def get_low_ev_ebit_portfolio(start_date):\n",
    "    start_date = str(start_date)\n",
    "    strategy_date = get_strategy_date(start_date)\n",
    "    firm_list = low_value(ebit_df, 'EV_EBIT', strategy_date).index\n",
    "    return get_code_list_has_price(firm_list, price_df, start_date)\n",
    "\n",
    "def get_my_portfolio(start_date):\n",
    "    return my_portfolio_code_list"
   ]
  },
  {
   "cell_type": "code",
   "execution_count": 107,
   "metadata": {},
   "outputs": [
    {
     "name": "stderr",
     "output_type": "stream",
     "text": [
      "/Users/Shared/anaconda3/anaconda3/lib/python3.7/site-packages/ipykernel_launcher.py:689: SettingWithCopyWarning: \n",
      "A value is trying to be set on a copy of a slice from a DataFrame.\n",
      "Try using .loc[row_indexer,col_indexer] = value instead\n",
      "\n",
      "See the caveats in the documentation: http://pandas.pydata.org/pandas-docs/stable/indexing.html#indexing-view-versus-copy\n"
     ]
    },
    {
     "name": "stdout",
     "output_type": "stream",
     "text": [
      ">>>>>> initial buy list (20) : 2008-06-02 00:00:00\n",
      "동화약품(A000020) : 410\n",
      "KR모터스(A000040) : 5235\n",
      "경방(A000050) : 438\n",
      "메리츠화재(A000060) : 398\n",
      "삼양홀딩스(A000070) : 94\n",
      "유한양행(A000100) : 32\n",
      "CJ대한통운(A000120) : 59\n",
      "하이트진로홀딩스(A000140) : 80\n",
      "두산(A000150) : 29\n",
      "성창기업지주(A000180) : 2376\n",
      "대림산업(A000210) : 41\n",
      "유유제약(A000220) : 363\n",
      "일동홀딩스(A000230) : 565\n",
      "한국테크놀로지그룹(A000240) : 666\n",
      "삼천당제약(A000250) : 1445\n",
      "기아자동차(A000270) : 423\n",
      "대유플러스(A000300) : 2695\n",
      "노루홀딩스(A000320) : 628\n",
      "한화손해보험(A000370) : 338\n",
      "삼화페인트공업(A000390) : 1461\n",
      "\n",
      "\n",
      ">>>>>> enough profit (대유플러스 : A000300) - (2854 : 0.54) : 2008-06-27 00:00:00\n",
      ">>>>>> sell list (1) : 2008-06-27 00:00:00\n",
      "['A000300']\n",
      "\n",
      "\n"
     ]
    },
    {
     "name": "stderr",
     "output_type": "stream",
     "text": [
      "/Users/Shared/anaconda3/anaconda3/lib/python3.7/site-packages/ipykernel_launcher.py:689: SettingWithCopyWarning: \n",
      "A value is trying to be set on a copy of a slice from a DataFrame.\n",
      "Try using .loc[row_indexer,col_indexer] = value instead\n",
      "\n",
      "See the caveats in the documentation: http://pandas.pydata.org/pandas-docs/stable/indexing.html#indexing-view-versus-copy\n"
     ]
    },
    {
     "name": "stdout",
     "output_type": "stream",
     "text": [
      ">>>>>> buy list (1) : 2008-06-27 00:00:00\n",
      "롯데손해보험(A000400) : 827\n",
      "\n",
      "\n",
      ">>>>>> enough periods (동화약품 : A000020) - (9380 : -0.23) : 366 days 00:00:002009-06-03 00:00:00\n",
      ">>>>>> enough periods (KR모터스 : A000040) - (790 : -0.17) : 366 days 00:00:002009-06-03 00:00:00\n",
      ">>>>>> enough periods (경방 : A000050) - (12506 : 0.1) : 366 days 00:00:002009-06-03 00:00:00\n",
      ">>>>>> enough periods (메리츠화재 : A000060) - (8430 : -0.33) : 366 days 00:00:002009-06-03 00:00:00\n",
      ">>>>>> enough periods (삼양홀딩스 : A000070) - (40702 : -0.23) : 366 days 00:00:002009-06-03 00:00:00\n",
      ">>>>>> enough periods (유한양행 : A000100) - (142749 : -0.08) : 366 days 00:00:002009-06-03 00:00:00\n",
      ">>>>>> enough periods (CJ대한통운 : A000120) - (92900 : 0.1) : 366 days 00:00:002009-06-03 00:00:00\n",
      ">>>>>> enough periods (하이트진로홀딩스 : A000140) - (28650 : -0.54) : 366 days 00:00:002009-06-03 00:00:00\n",
      ">>>>>> enough periods (두산 : A000150) - (96465 : -0.43) : 366 days 00:00:002009-06-03 00:00:00\n",
      ">>>>>> enough periods (성창기업지주 : A000180) - (1917 : -0.09) : 366 days 00:00:002009-06-03 00:00:00\n",
      ">>>>>> enough periods (대림산업 : A000210) - (66400 : -0.44) : 366 days 00:00:002009-06-03 00:00:00\n",
      ">>>>>> enough periods (유유제약 : A000220) - (6820 : -0.5) : 366 days 00:00:002009-06-03 00:00:00\n",
      ">>>>>> enough periods (일동홀딩스 : A000230) - (8194 : -0.07) : 366 days 00:00:002009-06-03 00:00:00\n",
      ">>>>>> enough periods (한국테크놀로지그룹 : A000240) - (7329 : -0.02) : 366 days 00:00:002009-06-03 00:00:00\n",
      ">>>>>> enough periods (삼천당제약 : A000250) - (2465 : -0.29) : 366 days 00:00:002009-06-03 00:00:00\n",
      ">>>>>> enough periods (기아자동차 : A000270) - (12400 : 0.05) : 366 days 00:00:002009-06-03 00:00:00\n",
      ">>>>>> enough periods (노루홀딩스 : A000320) - (5090 : -0.36) : 366 days 00:00:002009-06-03 00:00:00\n",
      ">>>>>> enough periods (한화손해보험 : A000370) - (10630 : -0.28) : 366 days 00:00:002009-06-03 00:00:00\n",
      ">>>>>> enough periods (삼화페인트공업 : A000390) - (3600 : 0.05) : 366 days 00:00:002009-06-03 00:00:00\n",
      ">>>>>> sell list (19) : 2009-06-03 00:00:00\n",
      "['A000020', 'A000040', 'A000050', 'A000060', 'A000070', 'A000100', 'A000120', 'A000140', 'A000150', 'A000180', 'A000210', 'A000220', 'A000230', 'A000240', 'A000250', 'A000270', 'A000320', 'A000370', 'A000390']\n",
      "\n",
      "\n"
     ]
    },
    {
     "name": "stderr",
     "output_type": "stream",
     "text": [
      "/Users/Shared/anaconda3/anaconda3/lib/python3.7/site-packages/ipykernel_launcher.py:689: SettingWithCopyWarning: \n",
      "A value is trying to be set on a copy of a slice from a DataFrame.\n",
      "Try using .loc[row_indexer,col_indexer] = value instead\n",
      "\n",
      "See the caveats in the documentation: http://pandas.pydata.org/pandas-docs/stable/indexing.html#indexing-view-versus-copy\n"
     ]
    },
    {
     "name": "stdout",
     "output_type": "stream",
     "text": [
      ">>>>>> buy list (19) : 2009-06-03 00:00:00\n",
      "대유플러스(A000300) : 2197\n",
      "대원강업(A000430) : 2612\n",
      "중앙에너비스(A000440) : 1385\n",
      "조선내화(A000480) : 71\n",
      "대동공업(A000490) : 893\n",
      "가온전선(A000500) : 134\n",
      "삼일제약(A000520) : 542\n",
      "흥국화재(A000540) : 792\n",
      "CS홀딩스(A000590) : 108\n",
      "동아쏘시오홀딩스(A000640) : 68\n",
      "천일고속(A000650) : 87\n",
      "SK하이닉스(A000660) : 299\n",
      "영풍(A000670) : 9\n",
      "LS네트웍스(A000680) : 597\n",
      "유수홀딩스(A000700) : 397\n",
      "현대건설(A000720) : 61\n",
      "이화산업(A000760) : 717\n",
      "삼성화재해상보험(A000810) : 22\n",
      "화천기공(A000850) : 126\n",
      "\n",
      "\n",
      ">>>>>> enough profit (천일고속 : A000650) - (69000 : 0.51) : 2009-06-16 00:00:00\n",
      ">>>>>> sell list (1) : 2009-06-16 00:00:00\n",
      "['A000650']\n",
      "\n",
      "\n"
     ]
    },
    {
     "name": "stderr",
     "output_type": "stream",
     "text": [
      "/Users/Shared/anaconda3/anaconda3/lib/python3.7/site-packages/ipykernel_launcher.py:689: SettingWithCopyWarning: \n",
      "A value is trying to be set on a copy of a slice from a DataFrame.\n",
      "Try using .loc[row_indexer,col_indexer] = value instead\n",
      "\n",
      "See the caveats in the documentation: http://pandas.pydata.org/pandas-docs/stable/indexing.html#indexing-view-versus-copy\n"
     ]
    },
    {
     "name": "stdout",
     "output_type": "stream",
     "text": [
      ">>>>>> buy list (1) : 2009-06-16 00:00:00\n",
      "동화약품(A000020) : 657\n",
      "\n",
      "\n",
      ">>>>>> enough periods (롯데손해보험 : A000400) - (6509 : -0.33) : 367 days 00:00:002009-06-29 00:00:00\n",
      ">>>>>> sell list (1) : 2009-06-29 00:00:00\n",
      "['A000400']\n",
      "\n",
      "\n"
     ]
    },
    {
     "name": "stderr",
     "output_type": "stream",
     "text": [
      "/Users/Shared/anaconda3/anaconda3/lib/python3.7/site-packages/ipykernel_launcher.py:689: SettingWithCopyWarning: \n",
      "A value is trying to be set on a copy of a slice from a DataFrame.\n",
      "Try using .loc[row_indexer,col_indexer] = value instead\n",
      "\n",
      "See the caveats in the documentation: http://pandas.pydata.org/pandas-docs/stable/indexing.html#indexing-view-versus-copy\n"
     ]
    },
    {
     "name": "stdout",
     "output_type": "stream",
     "text": [
      ">>>>>> buy list (1) : 2009-06-29 00:00:00\n",
      "KR모터스(A000040) : 7384\n",
      "\n",
      "\n",
      ">>>>>> enough profit (대유플러스 : A000300) - (2869 : 0.58) : 2009-07-02 00:00:00\n",
      ">>>>>> sell list (1) : 2009-07-02 00:00:00\n",
      "['A000300']\n",
      "\n",
      "\n"
     ]
    },
    {
     "name": "stderr",
     "output_type": "stream",
     "text": [
      "/Users/Shared/anaconda3/anaconda3/lib/python3.7/site-packages/ipykernel_launcher.py:689: SettingWithCopyWarning: \n",
      "A value is trying to be set on a copy of a slice from a DataFrame.\n",
      "Try using .loc[row_indexer,col_indexer] = value instead\n",
      "\n",
      "See the caveats in the documentation: http://pandas.pydata.org/pandas-docs/stable/indexing.html#indexing-view-versus-copy\n"
     ]
    },
    {
     "name": "stdout",
     "output_type": "stream",
     "text": [
      ">>>>>> buy list (1) : 2009-07-02 00:00:00\n",
      "경방(A000050) : 541\n",
      "\n",
      "\n",
      ">>>>>> enough profit (SK하이닉스 : A000660) - (20100 : 0.51) : 2009-08-20 00:00:00\n",
      ">>>>>> sell list (1) : 2009-08-20 00:00:00\n",
      "['A000660']\n",
      "\n",
      "\n"
     ]
    },
    {
     "name": "stderr",
     "output_type": "stream",
     "text": [
      "/Users/Shared/anaconda3/anaconda3/lib/python3.7/site-packages/ipykernel_launcher.py:689: SettingWithCopyWarning: \n",
      "A value is trying to be set on a copy of a slice from a DataFrame.\n",
      "Try using .loc[row_indexer,col_indexer] = value instead\n",
      "\n",
      "See the caveats in the documentation: http://pandas.pydata.org/pandas-docs/stable/indexing.html#indexing-view-versus-copy\n"
     ]
    },
    {
     "name": "stdout",
     "output_type": "stream",
     "text": [
      ">>>>>> buy list (1) : 2009-08-20 00:00:00\n",
      "메리츠화재(A000060) : 664\n",
      "\n",
      "\n",
      ">>>>>> enough profit (동아쏘시오홀딩스 : A000640) - (88443 : 0.52) : 2009-12-02 00:00:00\n",
      ">>>>>> sell list (1) : 2009-12-02 00:00:00\n",
      "['A000640']\n",
      "\n",
      "\n"
     ]
    },
    {
     "name": "stderr",
     "output_type": "stream",
     "text": [
      "/Users/Shared/anaconda3/anaconda3/lib/python3.7/site-packages/ipykernel_launcher.py:689: SettingWithCopyWarning: \n",
      "A value is trying to be set on a copy of a slice from a DataFrame.\n",
      "Try using .loc[row_indexer,col_indexer] = value instead\n",
      "\n",
      "See the caveats in the documentation: http://pandas.pydata.org/pandas-docs/stable/indexing.html#indexing-view-versus-copy\n"
     ]
    },
    {
     "name": "stdout",
     "output_type": "stream",
     "text": [
      ">>>>>> buy list (1) : 2009-12-02 00:00:00\n",
      "삼양홀딩스(A000070) : 146\n",
      "\n",
      "\n",
      ">>>>>> enough profit (CS홀딩스 : A000590) - (59900 : 0.63) : 2010-01-29 00:00:00\n",
      ">>>>>> sell list (1) : 2010-01-29 00:00:00\n",
      "['A000590']\n",
      "\n",
      "\n"
     ]
    },
    {
     "name": "stderr",
     "output_type": "stream",
     "text": [
      "/Users/Shared/anaconda3/anaconda3/lib/python3.7/site-packages/ipykernel_launcher.py:689: SettingWithCopyWarning: \n",
      "A value is trying to be set on a copy of a slice from a DataFrame.\n",
      "Try using .loc[row_indexer,col_indexer] = value instead\n",
      "\n",
      "See the caveats in the documentation: http://pandas.pydata.org/pandas-docs/stable/indexing.html#indexing-view-versus-copy\n"
     ]
    },
    {
     "name": "stdout",
     "output_type": "stream",
     "text": [
      ">>>>>> buy list (1) : 2010-01-29 00:00:00\n",
      "유한양행(A000100) : 45\n",
      "\n",
      "\n",
      ">>>>>> enough profit (KR모터스 : A000040) - (1166 : 0.6) : 2010-02-23 00:00:00\n",
      ">>>>>> sell list (1) : 2010-02-23 00:00:00\n",
      "['A000040']\n",
      "\n",
      "\n"
     ]
    },
    {
     "name": "stderr",
     "output_type": "stream",
     "text": [
      "/Users/Shared/anaconda3/anaconda3/lib/python3.7/site-packages/ipykernel_launcher.py:689: SettingWithCopyWarning: \n",
      "A value is trying to be set on a copy of a slice from a DataFrame.\n",
      "Try using .loc[row_indexer,col_indexer] = value instead\n",
      "\n",
      "See the caveats in the documentation: http://pandas.pydata.org/pandas-docs/stable/indexing.html#indexing-view-versus-copy\n"
     ]
    },
    {
     "name": "stdout",
     "output_type": "stream",
     "text": [
      ">>>>>> buy list (1) : 2010-02-23 00:00:00\n",
      "CJ대한통운(A000120) : 155\n",
      "\n",
      "\n",
      ">>>>>> enough profit (대원강업 : A000430) - (2300 : 0.5) : 2010-03-05 00:00:00\n",
      ">>>>>> sell list (1) : 2010-03-05 00:00:00\n",
      "['A000430']\n",
      "\n",
      "\n"
     ]
    },
    {
     "name": "stderr",
     "output_type": "stream",
     "text": [
      "/Users/Shared/anaconda3/anaconda3/lib/python3.7/site-packages/ipykernel_launcher.py:689: SettingWithCopyWarning: \n",
      "A value is trying to be set on a copy of a slice from a DataFrame.\n",
      "Try using .loc[row_indexer,col_indexer] = value instead\n",
      "\n",
      "See the caveats in the documentation: http://pandas.pydata.org/pandas-docs/stable/indexing.html#indexing-view-versus-copy\n"
     ]
    },
    {
     "name": "stdout",
     "output_type": "stream",
     "text": [
      ">>>>>> buy list (1) : 2010-03-05 00:00:00\n",
      "KR모터스(A000040) : 4401\n",
      "\n",
      "\n",
      ">>>>>> enough profit (영풍 : A000670) - (695000 : 0.59) : 2010-03-12 00:00:00\n",
      ">>>>>> sell list (1) : 2010-03-12 00:00:00\n",
      "['A000670']\n",
      "\n",
      "\n"
     ]
    },
    {
     "name": "stderr",
     "output_type": "stream",
     "text": [
      "/Users/Shared/anaconda3/anaconda3/lib/python3.7/site-packages/ipykernel_launcher.py:689: SettingWithCopyWarning: \n",
      "A value is trying to be set on a copy of a slice from a DataFrame.\n",
      "Try using .loc[row_indexer,col_indexer] = value instead\n",
      "\n",
      "See the caveats in the documentation: http://pandas.pydata.org/pandas-docs/stable/indexing.html#indexing-view-versus-copy\n"
     ]
    },
    {
     "name": "stdout",
     "output_type": "stream",
     "text": [
      ">>>>>> buy list (1) : 2010-03-12 00:00:00\n",
      "하이트진로홀딩스(A000140) : 262\n",
      "\n",
      "\n",
      ">>>>>> enough profit (이화산업 : A000760) - (8650.0 : 0.55) : 2010-04-02 00:00:00\n",
      ">>>>>> sell list (1) : 2010-04-02 00:00:00\n",
      "['A000760']\n",
      "\n",
      "\n"
     ]
    },
    {
     "name": "stderr",
     "output_type": "stream",
     "text": [
      "/Users/Shared/anaconda3/anaconda3/lib/python3.7/site-packages/ipykernel_launcher.py:689: SettingWithCopyWarning: \n",
      "A value is trying to be set on a copy of a slice from a DataFrame.\n",
      "Try using .loc[row_indexer,col_indexer] = value instead\n",
      "\n",
      "See the caveats in the documentation: http://pandas.pydata.org/pandas-docs/stable/indexing.html#indexing-view-versus-copy\n"
     ]
    },
    {
     "name": "stdout",
     "output_type": "stream",
     "text": [
      ">>>>>> buy list (1) : 2010-04-02 00:00:00\n",
      "두산(A000150) : 59\n",
      "\n",
      "\n",
      ">>>>>> enough periods (중앙에너비스 : A000440) - (3424 : 0.19) : 366 days 00:00:002010-06-04 00:00:00\n",
      ">>>>>> enough periods (조선내화 : A000480) - (53100 : -0.04) : 366 days 00:00:002010-06-04 00:00:00\n",
      ">>>>>> enough periods (대동공업 : A000490) - (4530 : 0.01) : 366 days 00:00:002010-06-04 00:00:00\n",
      ">>>>>> enough periods (가온전선 : A000500) - (28633 : -0.03) : 366 days 00:00:002010-06-04 00:00:00\n",
      ">>>>>> enough periods (삼일제약 : A000520) - (5547 : -0.25) : 366 days 00:00:002010-06-04 00:00:00\n",
      ">>>>>> enough periods (흥국화재 : A000540) - (5750 : 0.14) : 366 days 00:00:002010-06-04 00:00:00\n",
      ">>>>>> enough periods (LS네트웍스 : A000680) - (6700 : 0.0) : 366 days 00:00:002010-06-04 00:00:00\n",
      ">>>>>> enough periods (유수홀딩스 : A000700) - (8734 : -0.13) : 366 days 00:00:002010-06-04 00:00:00\n",
      ">>>>>> enough periods (현대건설 : A000720) - (52800 : -0.18) : 366 days 00:00:002010-06-04 00:00:00\n",
      ">>>>>> enough periods (삼성화재해상보험 : A000810) - (180000 : -0.01) : 366 days 00:00:002010-06-04 00:00:00\n",
      ">>>>>> enough periods (화천기공 : A000850) - (40000 : 0.26) : 366 days 00:00:002010-06-04 00:00:00\n",
      ">>>>>> sell list (11) : 2010-06-04 00:00:00\n",
      "['A000440', 'A000480', 'A000490', 'A000500', 'A000520', 'A000540', 'A000680', 'A000700', 'A000720', 'A000810', 'A000850']\n",
      "\n",
      "\n"
     ]
    },
    {
     "name": "stderr",
     "output_type": "stream",
     "text": [
      "/Users/Shared/anaconda3/anaconda3/lib/python3.7/site-packages/ipykernel_launcher.py:689: SettingWithCopyWarning: \n",
      "A value is trying to be set on a copy of a slice from a DataFrame.\n",
      "Try using .loc[row_indexer,col_indexer] = value instead\n",
      "\n",
      "See the caveats in the documentation: http://pandas.pydata.org/pandas-docs/stable/indexing.html#indexing-view-versus-copy\n"
     ]
    },
    {
     "name": "stdout",
     "output_type": "stream",
     "text": [
      ">>>>>> buy list (11) : 2010-06-04 00:00:00\n",
      "성창기업지주(A000180) : 2402\n",
      "대림산업(A000210) : 68\n",
      "유유제약(A000220) : 575\n",
      "일동홀딩스(A000230) : 563\n",
      "한국테크놀로지그룹(A000240) : 311\n",
      "삼천당제약(A000250) : 1926\n",
      "기아자동차(A000270) : 121\n",
      "대유플러스(A000300) : 2252\n",
      "노루홀딩스(A000320) : 800\n",
      "한화손해보험(A000370) : 445\n",
      "삼화페인트공업(A000390) : 872\n",
      "\n",
      "\n",
      ">>>>>> enough periods (동화약품 : A000020) - (5480 : -0.43) : 366 days 00:00:002010-06-17 00:00:00\n",
      ">>>>>> sell list (1) : 2010-06-17 00:00:00\n",
      "['A000020']\n",
      "\n",
      "\n"
     ]
    },
    {
     "name": "stderr",
     "output_type": "stream",
     "text": [
      "/Users/Shared/anaconda3/anaconda3/lib/python3.7/site-packages/ipykernel_launcher.py:689: SettingWithCopyWarning: \n",
      "A value is trying to be set on a copy of a slice from a DataFrame.\n",
      "Try using .loc[row_indexer,col_indexer] = value instead\n",
      "\n",
      "See the caveats in the documentation: http://pandas.pydata.org/pandas-docs/stable/indexing.html#indexing-view-versus-copy\n"
     ]
    },
    {
     "name": "stdout",
     "output_type": "stream",
     "text": [
      ">>>>>> buy list (1) : 2010-06-17 00:00:00\n",
      "롯데손해보험(A000400) : 659\n",
      "\n",
      "\n",
      ">>>>>> enough periods (경방 : A000050) - (8135 : -0.3) : 368 days 00:00:002010-07-05 00:00:00\n",
      ">>>>>> sell list (1) : 2010-07-05 00:00:00\n",
      "['A000050']\n",
      "\n",
      "\n"
     ]
    },
    {
     "name": "stderr",
     "output_type": "stream",
     "text": [
      "/Users/Shared/anaconda3/anaconda3/lib/python3.7/site-packages/ipykernel_launcher.py:689: SettingWithCopyWarning: \n",
      "A value is trying to be set on a copy of a slice from a DataFrame.\n",
      "Try using .loc[row_indexer,col_indexer] = value instead\n",
      "\n",
      "See the caveats in the documentation: http://pandas.pydata.org/pandas-docs/stable/indexing.html#indexing-view-versus-copy\n"
     ]
    },
    {
     "name": "stdout",
     "output_type": "stream",
     "text": [
      ">>>>>> buy list (1) : 2010-07-05 00:00:00\n",
      "동화약품(A000020) : 870\n",
      "\n",
      "\n",
      ">>>>>> enough profit (삼양홀딩스 : A000070) - (62403 : 0.52) : 2010-07-12 00:00:00\n",
      ">>>>>> sell list (1) : 2010-07-12 00:00:00\n",
      "['A000070']\n",
      "\n",
      "\n"
     ]
    },
    {
     "name": "stderr",
     "output_type": "stream",
     "text": [
      "/Users/Shared/anaconda3/anaconda3/lib/python3.7/site-packages/ipykernel_launcher.py:689: SettingWithCopyWarning: \n",
      "A value is trying to be set on a copy of a slice from a DataFrame.\n",
      "Try using .loc[row_indexer,col_indexer] = value instead\n",
      "\n",
      "See the caveats in the documentation: http://pandas.pydata.org/pandas-docs/stable/indexing.html#indexing-view-versus-copy\n"
     ]
    },
    {
     "name": "stdout",
     "output_type": "stream",
     "text": [
      ">>>>>> buy list (1) : 2010-07-12 00:00:00\n",
      "경방(A000050) : 1115\n",
      "\n",
      "\n",
      ">>>>>> enough periods (메리츠화재 : A000060) - (8514 : -0.06) : 368 days 00:00:002010-08-23 00:00:00\n",
      ">>>>>> sell list (1) : 2010-08-23 00:00:00\n",
      "['A000060']\n",
      "\n",
      "\n"
     ]
    },
    {
     "name": "stderr",
     "output_type": "stream",
     "text": [
      "/Users/Shared/anaconda3/anaconda3/lib/python3.7/site-packages/ipykernel_launcher.py:689: SettingWithCopyWarning: \n",
      "A value is trying to be set on a copy of a slice from a DataFrame.\n",
      "Try using .loc[row_indexer,col_indexer] = value instead\n",
      "\n",
      "See the caveats in the documentation: http://pandas.pydata.org/pandas-docs/stable/indexing.html#indexing-view-versus-copy\n"
     ]
    },
    {
     "name": "stdout",
     "output_type": "stream",
     "text": [
      ">>>>>> buy list (1) : 2010-08-23 00:00:00\n",
      "삼양홀딩스(A000070) : 95\n",
      "\n",
      "\n",
      ">>>>>> enough profit (대림산업 : A000210) - (88400 : 0.53) : 2010-09-27 00:00:00\n",
      ">>>>>> sell list (1) : 2010-09-27 00:00:00\n",
      "['A000210']\n",
      "\n",
      "\n"
     ]
    },
    {
     "name": "stderr",
     "output_type": "stream",
     "text": [
      "/Users/Shared/anaconda3/anaconda3/lib/python3.7/site-packages/ipykernel_launcher.py:689: SettingWithCopyWarning: \n",
      "A value is trying to be set on a copy of a slice from a DataFrame.\n",
      "Try using .loc[row_indexer,col_indexer] = value instead\n",
      "\n",
      "See the caveats in the documentation: http://pandas.pydata.org/pandas-docs/stable/indexing.html#indexing-view-versus-copy\n"
     ]
    },
    {
     "name": "stdout",
     "output_type": "stream",
     "text": [
      ">>>>>> buy list (1) : 2010-09-27 00:00:00\n",
      "메리츠화재(A000060) : 679\n",
      "\n",
      "\n",
      ">>>>>> enough profit (기아자동차 : A000270) - (49500 : 0.51) : 2010-11-01 00:00:00\n",
      ">>>>>> sell list (1) : 2010-11-01 00:00:00\n",
      "['A000270']\n",
      "\n",
      "\n"
     ]
    },
    {
     "name": "stderr",
     "output_type": "stream",
     "text": [
      "/Users/Shared/anaconda3/anaconda3/lib/python3.7/site-packages/ipykernel_launcher.py:689: SettingWithCopyWarning: \n",
      "A value is trying to be set on a copy of a slice from a DataFrame.\n",
      "Try using .loc[row_indexer,col_indexer] = value instead\n",
      "\n",
      "See the caveats in the documentation: http://pandas.pydata.org/pandas-docs/stable/indexing.html#indexing-view-versus-copy\n"
     ]
    },
    {
     "name": "stdout",
     "output_type": "stream",
     "text": [
      ">>>>>> buy list (1) : 2010-11-01 00:00:00\n",
      "대림산업(A000210) : 62\n",
      "\n",
      "\n",
      ">>>>>> enough profit (노루홀딩스 : A000320) - (7490 : 0.51) : 2010-11-05 00:00:00\n",
      ">>>>>> sell list (1) : 2010-11-05 00:00:00\n",
      "['A000320']\n",
      "\n",
      "\n"
     ]
    },
    {
     "name": "stderr",
     "output_type": "stream",
     "text": [
      "/Users/Shared/anaconda3/anaconda3/lib/python3.7/site-packages/ipykernel_launcher.py:689: SettingWithCopyWarning: \n",
      "A value is trying to be set on a copy of a slice from a DataFrame.\n",
      "Try using .loc[row_indexer,col_indexer] = value instead\n",
      "\n",
      "See the caveats in the documentation: http://pandas.pydata.org/pandas-docs/stable/indexing.html#indexing-view-versus-copy\n"
     ]
    },
    {
     "name": "stdout",
     "output_type": "stream",
     "text": [
      ">>>>>> buy list (1) : 2010-11-05 00:00:00\n",
      "기아자동차(A000270) : 127\n",
      "\n",
      "\n",
      ">>>>>> enough profit (CJ대한통운 : A000120) - (87700 : 0.57) : 2010-12-06 00:00:00\n",
      ">>>>>> sell list (1) : 2010-12-06 00:00:00\n",
      "['A000120']\n",
      "\n",
      "\n"
     ]
    },
    {
     "name": "stderr",
     "output_type": "stream",
     "text": [
      "/Users/Shared/anaconda3/anaconda3/lib/python3.7/site-packages/ipykernel_launcher.py:689: SettingWithCopyWarning: \n",
      "A value is trying to be set on a copy of a slice from a DataFrame.\n",
      "Try using .loc[row_indexer,col_indexer] = value instead\n",
      "\n",
      "See the caveats in the documentation: http://pandas.pydata.org/pandas-docs/stable/indexing.html#indexing-view-versus-copy\n"
     ]
    },
    {
     "name": "stdout",
     "output_type": "stream",
     "text": [
      ">>>>>> buy list (1) : 2010-12-06 00:00:00\n",
      "노루홀딩스(A000320) : 2216\n",
      "\n",
      "\n",
      ">>>>>> enough periods (유한양행 : A000100) - (132185 : -0.07) : 367 days 00:00:002011-01-31 00:00:00\n",
      ">>>>>> sell list (1) : 2011-01-31 00:00:00\n",
      "['A000100']\n",
      "\n",
      "\n"
     ]
    },
    {
     "name": "stderr",
     "output_type": "stream",
     "text": [
      "/Users/Shared/anaconda3/anaconda3/lib/python3.7/site-packages/ipykernel_launcher.py:689: SettingWithCopyWarning: \n",
      "A value is trying to be set on a copy of a slice from a DataFrame.\n",
      "Try using .loc[row_indexer,col_indexer] = value instead\n",
      "\n",
      "See the caveats in the documentation: http://pandas.pydata.org/pandas-docs/stable/indexing.html#indexing-view-versus-copy\n"
     ]
    },
    {
     "name": "stdout",
     "output_type": "stream",
     "text": [
      ">>>>>> buy list (1) : 2011-01-31 00:00:00\n",
      "중앙오션(A054180) : 2208\n",
      "\n",
      "\n",
      ">>>>>> enough periods (KR모터스 : A000040) - (996 : -0.28) : 367 days 00:00:002011-03-07 00:00:00\n",
      ">>>>>> sell list (1) : 2011-03-07 00:00:00\n",
      "['A000040']\n",
      "\n",
      "\n"
     ]
    },
    {
     "name": "stderr",
     "output_type": "stream",
     "text": [
      "/Users/Shared/anaconda3/anaconda3/lib/python3.7/site-packages/ipykernel_launcher.py:689: SettingWithCopyWarning: \n",
      "A value is trying to be set on a copy of a slice from a DataFrame.\n",
      "Try using .loc[row_indexer,col_indexer] = value instead\n",
      "\n",
      "See the caveats in the documentation: http://pandas.pydata.org/pandas-docs/stable/indexing.html#indexing-view-versus-copy\n"
     ]
    },
    {
     "name": "stdout",
     "output_type": "stream",
     "text": [
      ">>>>>> buy list (1) : 2011-03-07 00:00:00\n",
      "티웨이홀딩스(A004870) : 5829\n",
      "\n",
      "\n",
      ">>>>>> enough periods (하이트진로홀딩스 : A000140) - (16500 : -0.31) : 367 days 00:00:002011-03-14 00:00:00\n",
      ">>>>>> sell list (1) : 2011-03-14 00:00:00\n",
      "['A000140']\n",
      "\n",
      "\n"
     ]
    },
    {
     "name": "stderr",
     "output_type": "stream",
     "text": [
      "/Users/Shared/anaconda3/anaconda3/lib/python3.7/site-packages/ipykernel_launcher.py:689: SettingWithCopyWarning: \n",
      "A value is trying to be set on a copy of a slice from a DataFrame.\n",
      "Try using .loc[row_indexer,col_indexer] = value instead\n",
      "\n",
      "See the caveats in the documentation: http://pandas.pydata.org/pandas-docs/stable/indexing.html#indexing-view-versus-copy\n"
     ]
    },
    {
     "name": "stdout",
     "output_type": "stream",
     "text": [
      ">>>>>> buy list (1) : 2011-03-14 00:00:00\n",
      "까뮤이앤씨(A013700) : 7917\n",
      "\n",
      "\n",
      ">>>>>> enough profit (티웨이홀딩스 : A004870) - (1151 : 0.53) : 2011-03-29 00:00:00\n",
      ">>>>>> sell list (1) : 2011-03-29 00:00:00\n",
      "['A004870']\n",
      "\n",
      "\n"
     ]
    },
    {
     "name": "stderr",
     "output_type": "stream",
     "text": [
      "/Users/Shared/anaconda3/anaconda3/lib/python3.7/site-packages/ipykernel_launcher.py:689: SettingWithCopyWarning: \n",
      "A value is trying to be set on a copy of a slice from a DataFrame.\n",
      "Try using .loc[row_indexer,col_indexer] = value instead\n",
      "\n",
      "See the caveats in the documentation: http://pandas.pydata.org/pandas-docs/stable/indexing.html#indexing-view-versus-copy\n"
     ]
    },
    {
     "name": "stdout",
     "output_type": "stream",
     "text": [
      ">>>>>> buy list (1) : 2011-03-29 00:00:00\n",
      "베뉴지(A019010) : 7624\n",
      "\n",
      "\n",
      ">>>>>> enough periods (두산 : A000150) - (116160 : 0.1) : 367 days 00:00:002011-04-04 00:00:00\n",
      ">>>>>> sell list (1) : 2011-04-04 00:00:00\n",
      "['A000150']\n",
      "\n",
      "\n"
     ]
    },
    {
     "name": "stderr",
     "output_type": "stream",
     "text": [
      "/Users/Shared/anaconda3/anaconda3/lib/python3.7/site-packages/ipykernel_launcher.py:689: SettingWithCopyWarning: \n",
      "A value is trying to be set on a copy of a slice from a DataFrame.\n",
      "Try using .loc[row_indexer,col_indexer] = value instead\n",
      "\n",
      "See the caveats in the documentation: http://pandas.pydata.org/pandas-docs/stable/indexing.html#indexing-view-versus-copy\n"
     ]
    },
    {
     "name": "stdout",
     "output_type": "stream",
     "text": [
      ">>>>>> buy list (1) : 2011-04-04 00:00:00\n",
      "티웨이홀딩스(A004870) : 6979\n",
      "\n",
      "\n",
      ">>>>>> enough profit (기아자동차 : A000270) - (72900 : 0.53) : 2011-04-06 00:00:00\n",
      ">>>>>> sell list (1) : 2011-04-06 00:00:00\n",
      "['A000270']\n",
      "\n",
      "\n"
     ]
    },
    {
     "name": "stderr",
     "output_type": "stream",
     "text": [
      "/Users/Shared/anaconda3/anaconda3/lib/python3.7/site-packages/ipykernel_launcher.py:689: SettingWithCopyWarning: \n",
      "A value is trying to be set on a copy of a slice from a DataFrame.\n",
      "Try using .loc[row_indexer,col_indexer] = value instead\n",
      "\n",
      "See the caveats in the documentation: http://pandas.pydata.org/pandas-docs/stable/indexing.html#indexing-view-versus-copy\n"
     ]
    },
    {
     "name": "stdout",
     "output_type": "stream",
     "text": [
      ">>>>>> buy list (1) : 2011-04-06 00:00:00\n",
      "하이스틸(A071090) : 371\n",
      "\n",
      "\n",
      ">>>>>> enough profit (한국테크놀로지그룹 : A000240) - (19313 : 0.52) : 2011-04-14 00:00:00\n",
      ">>>>>> sell list (1) : 2011-04-14 00:00:00\n",
      "['A000240']\n",
      "\n",
      "\n"
     ]
    },
    {
     "name": "stderr",
     "output_type": "stream",
     "text": [
      "/Users/Shared/anaconda3/anaconda3/lib/python3.7/site-packages/ipykernel_launcher.py:689: SettingWithCopyWarning: \n",
      "A value is trying to be set on a copy of a slice from a DataFrame.\n",
      "Try using .loc[row_indexer,col_indexer] = value instead\n",
      "\n",
      "See the caveats in the documentation: http://pandas.pydata.org/pandas-docs/stable/indexing.html#indexing-view-versus-copy\n"
     ]
    },
    {
     "name": "stdout",
     "output_type": "stream",
     "text": [
      ">>>>>> buy list (1) : 2011-04-14 00:00:00\n",
      "화성산업(A002460) : 1673\n",
      "\n",
      "\n",
      ">>>>>> enough profit (삼양홀딩스 : A000070) - (90230 : 0.52) : 2011-04-21 00:00:00\n",
      ">>>>>> sell list (1) : 2011-04-21 00:00:00\n",
      "['A000070']\n",
      "\n",
      "\n"
     ]
    },
    {
     "name": "stderr",
     "output_type": "stream",
     "text": [
      "/Users/Shared/anaconda3/anaconda3/lib/python3.7/site-packages/ipykernel_launcher.py:689: SettingWithCopyWarning: \n",
      "A value is trying to be set on a copy of a slice from a DataFrame.\n",
      "Try using .loc[row_indexer,col_indexer] = value instead\n",
      "\n",
      "See the caveats in the documentation: http://pandas.pydata.org/pandas-docs/stable/indexing.html#indexing-view-versus-copy\n"
     ]
    },
    {
     "name": "stdout",
     "output_type": "stream",
     "text": [
      ">>>>>> buy list (1) : 2011-04-21 00:00:00\n",
      "한일철강(A002220) : 5753\n",
      "\n",
      "\n",
      ">>>>>> enough profit (티웨이홀딩스 : A004870) - (1502 : 0.53) : 2011-06-03 00:00:00\n",
      ">>>>>> sell list (1) : 2011-06-03 00:00:00\n",
      "['A004870']\n",
      "\n",
      "\n"
     ]
    },
    {
     "name": "stderr",
     "output_type": "stream",
     "text": [
      "/Users/Shared/anaconda3/anaconda3/lib/python3.7/site-packages/ipykernel_launcher.py:689: SettingWithCopyWarning: \n",
      "A value is trying to be set on a copy of a slice from a DataFrame.\n",
      "Try using .loc[row_indexer,col_indexer] = value instead\n",
      "\n",
      "See the caveats in the documentation: http://pandas.pydata.org/pandas-docs/stable/indexing.html#indexing-view-versus-copy\n"
     ]
    },
    {
     "name": "stdout",
     "output_type": "stream",
     "text": [
      ">>>>>> buy list (1) : 2011-06-03 00:00:00\n",
      "브레인콘텐츠(A066980) : 12768\n",
      "\n",
      "\n",
      ">>>>>> enough periods (성창기업지주 : A000180) - (1249 : -0.24) : 368 days 00:00:002011-06-07 00:00:00\n",
      ">>>>>> enough periods (유유제약 : A000220) - (6370 : -0.08) : 368 days 00:00:002011-06-07 00:00:00\n",
      ">>>>>> enough periods (일동홀딩스 : A000230) - (8775 : 0.25) : 368 days 00:00:002011-06-07 00:00:00\n",
      ">>>>>> enough profit (삼천당제약 : A000250) - (3195 : 0.55) : 2011-06-07 00:00:00\n",
      ">>>>>> enough periods (삼천당제약 : A000250) - (3195 : 0.55) : 368 days 00:00:002011-06-07 00:00:00\n",
      ">>>>>> enough periods (대유플러스 : A000300) - (1553 : -0.12) : 368 days 00:00:002011-06-07 00:00:00\n",
      ">>>>>> enough periods (한화손해보험 : A000370) - (8533 : -0.04) : 368 days 00:00:002011-06-07 00:00:00\n",
      ">>>>>> enough periods (삼화페인트공업 : A000390) - (3990 : -0.12) : 368 days 00:00:002011-06-07 00:00:00\n",
      ">>>>>> sell list (7) : 2011-06-07 00:00:00\n",
      "['A000180', 'A000220', 'A000230', 'A000250', 'A000300', 'A000370', 'A000390']\n",
      "\n",
      "\n"
     ]
    },
    {
     "name": "stderr",
     "output_type": "stream",
     "text": [
      "/Users/Shared/anaconda3/anaconda3/lib/python3.7/site-packages/ipykernel_launcher.py:689: SettingWithCopyWarning: \n",
      "A value is trying to be set on a copy of a slice from a DataFrame.\n",
      "Try using .loc[row_indexer,col_indexer] = value instead\n",
      "\n",
      "See the caveats in the documentation: http://pandas.pydata.org/pandas-docs/stable/indexing.html#indexing-view-versus-copy\n"
     ]
    },
    {
     "name": "stdout",
     "output_type": "stream",
     "text": [
      ">>>>>> buy list (7) : 2011-06-07 00:00:00\n",
      "티웨이홀딩스(A004870) : 2962\n",
      "삼보판지(A023600) : 1955\n",
      "대림비앤코(A005750) : 2283\n",
      "에이치엘비(A028300) : 1506\n",
      "금강공업(A014280) : 1803\n",
      "성신양회(A004980) : 1543\n",
      "한일현대시멘트(A006390) : 154\n",
      "\n",
      "\n",
      ">>>>>> enough periods (롯데손해보험 : A000400) - (4962 : -0.11) : 368 days 00:00:002011-06-20 00:00:00\n",
      ">>>>>> sell list (1) : 2011-06-20 00:00:00\n",
      "['A000400']\n",
      "\n",
      "\n"
     ]
    },
    {
     "name": "stderr",
     "output_type": "stream",
     "text": [
      "/Users/Shared/anaconda3/anaconda3/lib/python3.7/site-packages/ipykernel_launcher.py:689: SettingWithCopyWarning: \n",
      "A value is trying to be set on a copy of a slice from a DataFrame.\n",
      "Try using .loc[row_indexer,col_indexer] = value instead\n",
      "\n",
      "See the caveats in the documentation: http://pandas.pydata.org/pandas-docs/stable/indexing.html#indexing-view-versus-copy\n"
     ]
    },
    {
     "name": "stdout",
     "output_type": "stream",
     "text": [
      ">>>>>> buy list (1) : 2011-06-20 00:00:00\n",
      "동성화학(A005190) : 1002\n",
      "\n",
      "\n",
      ">>>>>> enough periods (동화약품 : A000020) - (4895 : -0.03) : 366 days 00:00:002011-07-06 00:00:00\n",
      ">>>>>> enough profit (메리츠화재 : A000060) - (13300 : 0.5) : 2011-07-06 00:00:00\n",
      ">>>>>> sell list (2) : 2011-07-06 00:00:00\n",
      "['A000020', 'A000060']\n",
      "\n",
      "\n"
     ]
    },
    {
     "name": "stderr",
     "output_type": "stream",
     "text": [
      "/Users/Shared/anaconda3/anaconda3/lib/python3.7/site-packages/ipykernel_launcher.py:689: SettingWithCopyWarning: \n",
      "A value is trying to be set on a copy of a slice from a DataFrame.\n",
      "Try using .loc[row_indexer,col_indexer] = value instead\n",
      "\n",
      "See the caveats in the documentation: http://pandas.pydata.org/pandas-docs/stable/indexing.html#indexing-view-versus-copy\n"
     ]
    },
    {
     "name": "stdout",
     "output_type": "stream",
     "text": [
      ">>>>>> buy list (2) : 2011-07-06 00:00:00\n",
      "선창산업(A002820) : 1069\n",
      "한국전자홀딩스(A006200) : 6058\n",
      "\n",
      "\n",
      ">>>>>> enough periods (경방 : A000050) - (9959 : 0.22) : 366 days 00:00:002011-07-13 00:00:00\n",
      ">>>>>> sell list (1) : 2011-07-13 00:00:00\n",
      "['A000050']\n",
      "\n",
      "\n"
     ]
    },
    {
     "name": "stderr",
     "output_type": "stream",
     "text": [
      "/Users/Shared/anaconda3/anaconda3/lib/python3.7/site-packages/ipykernel_launcher.py:689: SettingWithCopyWarning: \n",
      "A value is trying to be set on a copy of a slice from a DataFrame.\n",
      "Try using .loc[row_indexer,col_indexer] = value instead\n",
      "\n",
      "See the caveats in the documentation: http://pandas.pydata.org/pandas-docs/stable/indexing.html#indexing-view-versus-copy\n"
     ]
    },
    {
     "name": "stdout",
     "output_type": "stream",
     "text": [
      ">>>>>> buy list (1) : 2011-07-13 00:00:00\n",
      "일성건설(A013360) : 20154\n",
      "\n",
      "\n",
      ">>>>>> enough profit (브레인콘텐츠 : A066980) - (1296 : 0.58) : 2011-07-28 00:00:00\n",
      ">>>>>> sell list (1) : 2011-07-28 00:00:00\n",
      "['A066980']\n",
      "\n",
      "\n"
     ]
    },
    {
     "name": "stderr",
     "output_type": "stream",
     "text": [
      "/Users/Shared/anaconda3/anaconda3/lib/python3.7/site-packages/ipykernel_launcher.py:689: SettingWithCopyWarning: \n",
      "A value is trying to be set on a copy of a slice from a DataFrame.\n",
      "Try using .loc[row_indexer,col_indexer] = value instead\n",
      "\n",
      "See the caveats in the documentation: http://pandas.pydata.org/pandas-docs/stable/indexing.html#indexing-view-versus-copy\n"
     ]
    },
    {
     "name": "stdout",
     "output_type": "stream",
     "text": [
      ">>>>>> buy list (1) : 2011-07-28 00:00:00\n",
      "윌비스(A008600) : 22421\n",
      "\n",
      "\n",
      ">>>>>> enough profit (하이스틸 : A071090) - (37388 : 0.5) : 2011-10-21 00:00:00\n",
      ">>>>>> sell list (1) : 2011-10-21 00:00:00\n",
      "['A071090']\n",
      "\n",
      "\n"
     ]
    },
    {
     "name": "stderr",
     "output_type": "stream",
     "text": [
      "/Users/Shared/anaconda3/anaconda3/lib/python3.7/site-packages/ipykernel_launcher.py:689: SettingWithCopyWarning: \n",
      "A value is trying to be set on a copy of a slice from a DataFrame.\n",
      "Try using .loc[row_indexer,col_indexer] = value instead\n",
      "\n",
      "See the caveats in the documentation: http://pandas.pydata.org/pandas-docs/stable/indexing.html#indexing-view-versus-copy\n"
     ]
    },
    {
     "name": "stdout",
     "output_type": "stream",
     "text": [
      ">>>>>> buy list (1) : 2011-10-21 00:00:00\n",
      "브레인콘텐츠(A066980) : 15871\n",
      "\n",
      "\n",
      ">>>>>> enough periods (대림산업 : A000210) - (93000 : -0.03) : 366 days 00:00:002011-11-02 00:00:00\n",
      ">>>>>> sell list (1) : 2011-11-02 00:00:00\n",
      "['A000210']\n",
      "\n",
      "\n"
     ]
    },
    {
     "name": "stderr",
     "output_type": "stream",
     "text": [
      "/Users/Shared/anaconda3/anaconda3/lib/python3.7/site-packages/ipykernel_launcher.py:689: SettingWithCopyWarning: \n",
      "A value is trying to be set on a copy of a slice from a DataFrame.\n",
      "Try using .loc[row_indexer,col_indexer] = value instead\n",
      "\n",
      "See the caveats in the documentation: http://pandas.pydata.org/pandas-docs/stable/indexing.html#indexing-view-versus-copy\n"
     ]
    },
    {
     "name": "stdout",
     "output_type": "stream",
     "text": [
      ">>>>>> buy list (1) : 2011-11-02 00:00:00\n",
      "하이스틸(A071090) : 142\n",
      "\n",
      "\n",
      ">>>>>> enough profit (윌비스 : A008600) - (1130 : 0.53) : 2011-11-03 00:00:00\n",
      ">>>>>> sell list (1) : 2011-11-03 00:00:00\n",
      "['A008600']\n",
      "\n",
      "\n"
     ]
    },
    {
     "name": "stderr",
     "output_type": "stream",
     "text": [
      "/Users/Shared/anaconda3/anaconda3/lib/python3.7/site-packages/ipykernel_launcher.py:689: SettingWithCopyWarning: \n",
      "A value is trying to be set on a copy of a slice from a DataFrame.\n",
      "Try using .loc[row_indexer,col_indexer] = value instead\n",
      "\n",
      "See the caveats in the documentation: http://pandas.pydata.org/pandas-docs/stable/indexing.html#indexing-view-versus-copy\n"
     ]
    },
    {
     "name": "stdout",
     "output_type": "stream",
     "text": [
      ">>>>>> buy list (1) : 2011-11-03 00:00:00\n",
      "아세아(A002030) : 695\n",
      "\n",
      "\n",
      ">>>>>> enough profit (동성화학 : A005190) - (5140 : 0.57) : 2011-11-21 00:00:00\n",
      ">>>>>> sell list (1) : 2011-11-21 00:00:00\n",
      "['A005190']\n",
      "\n",
      "\n"
     ]
    },
    {
     "name": "stderr",
     "output_type": "stream",
     "text": [
      "/Users/Shared/anaconda3/anaconda3/lib/python3.7/site-packages/ipykernel_launcher.py:689: SettingWithCopyWarning: \n",
      "A value is trying to be set on a copy of a slice from a DataFrame.\n",
      "Try using .loc[row_indexer,col_indexer] = value instead\n",
      "\n",
      "See the caveats in the documentation: http://pandas.pydata.org/pandas-docs/stable/indexing.html#indexing-view-versus-copy\n"
     ]
    },
    {
     "name": "stdout",
     "output_type": "stream",
     "text": [
      ">>>>>> buy list (1) : 2011-11-21 00:00:00\n",
      "윌비스(A008600) : 3078\n",
      "\n",
      "\n",
      ">>>>>> enough periods (노루홀딩스 : A000320) - (7160 : 0.16) : 366 days 00:00:002011-12-07 00:00:00\n",
      ">>>>>> sell list (1) : 2011-12-07 00:00:00\n",
      "['A000320']\n",
      "\n",
      "\n"
     ]
    },
    {
     "name": "stderr",
     "output_type": "stream",
     "text": [
      "/Users/Shared/anaconda3/anaconda3/lib/python3.7/site-packages/ipykernel_launcher.py:689: SettingWithCopyWarning: \n",
      "A value is trying to be set on a copy of a slice from a DataFrame.\n",
      "Try using .loc[row_indexer,col_indexer] = value instead\n",
      "\n",
      "See the caveats in the documentation: http://pandas.pydata.org/pandas-docs/stable/indexing.html#indexing-view-versus-copy\n"
     ]
    },
    {
     "name": "stdout",
     "output_type": "stream",
     "text": [
      ">>>>>> buy list (1) : 2011-12-07 00:00:00\n",
      "동성화학(A005190) : 613\n",
      "\n",
      "\n",
      ">>>>>> enough periods (중앙오션 : A054180) - (1020 : -0.62) : 366 days 00:00:002012-02-01 00:00:00\n",
      ">>>>>> sell list (1) : 2012-02-01 00:00:00\n",
      "['A054180']\n",
      "\n",
      "\n"
     ]
    },
    {
     "name": "stderr",
     "output_type": "stream",
     "text": [
      "/Users/Shared/anaconda3/anaconda3/lib/python3.7/site-packages/ipykernel_launcher.py:689: SettingWithCopyWarning: \n",
      "A value is trying to be set on a copy of a slice from a DataFrame.\n",
      "Try using .loc[row_indexer,col_indexer] = value instead\n",
      "\n",
      "See the caveats in the documentation: http://pandas.pydata.org/pandas-docs/stable/indexing.html#indexing-view-versus-copy\n"
     ]
    },
    {
     "name": "stdout",
     "output_type": "stream",
     "text": [
      ">>>>>> buy list (1) : 2012-02-01 00:00:00\n",
      "현대바이오(A048410) : 975\n",
      "\n",
      "\n",
      ">>>>>> enough profit (한국전자홀딩스 : A006200) - (1807 : 0.65) : 2012-02-09 00:00:00\n",
      ">>>>>> sell list (1) : 2012-02-09 00:00:00\n",
      "['A006200']\n",
      "\n",
      "\n"
     ]
    },
    {
     "name": "stderr",
     "output_type": "stream",
     "text": [
      "/Users/Shared/anaconda3/anaconda3/lib/python3.7/site-packages/ipykernel_launcher.py:689: SettingWithCopyWarning: \n",
      "A value is trying to be set on a copy of a slice from a DataFrame.\n",
      "Try using .loc[row_indexer,col_indexer] = value instead\n",
      "\n",
      "See the caveats in the documentation: http://pandas.pydata.org/pandas-docs/stable/indexing.html#indexing-view-versus-copy\n"
     ]
    },
    {
     "name": "stdout",
     "output_type": "stream",
     "text": [
      ">>>>>> buy list (1) : 2012-02-09 00:00:00\n",
      "한진중공업홀딩스(A003480) : 1255\n",
      "\n",
      "\n",
      ">>>>>> enough profit (윌비스 : A008600) - (2520 : 0.5) : 2012-02-16 00:00:00\n",
      ">>>>>> enough profit (현대바이오 : A048410) - (3881 : 0.66) : 2012-02-16 00:00:00\n",
      ">>>>>> sell list (2) : 2012-02-16 00:00:00\n",
      "['A008600', 'A048410']\n",
      "\n",
      "\n"
     ]
    },
    {
     "name": "stderr",
     "output_type": "stream",
     "text": [
      "/Users/Shared/anaconda3/anaconda3/lib/python3.7/site-packages/ipykernel_launcher.py:689: SettingWithCopyWarning: \n",
      "A value is trying to be set on a copy of a slice from a DataFrame.\n",
      "Try using .loc[row_indexer,col_indexer] = value instead\n",
      "\n",
      "See the caveats in the documentation: http://pandas.pydata.org/pandas-docs/stable/indexing.html#indexing-view-versus-copy\n"
     ]
    },
    {
     "name": "stdout",
     "output_type": "stream",
     "text": [
      ">>>>>> buy list (2) : 2012-02-16 00:00:00\n",
      "디아이동일(A001530) : 126\n",
      "KISCO홀딩스(A001940) : 810\n",
      "\n",
      "\n",
      ">>>>>> enough profit (한일현대시멘트 : A006390) - (43605 : 0.65) : 2012-02-20 00:00:00\n",
      ">>>>>> sell list (1) : 2012-02-20 00:00:00\n",
      "['A006390']\n",
      "\n",
      "\n"
     ]
    },
    {
     "name": "stderr",
     "output_type": "stream",
     "text": [
      "/Users/Shared/anaconda3/anaconda3/lib/python3.7/site-packages/ipykernel_launcher.py:689: SettingWithCopyWarning: \n",
      "A value is trying to be set on a copy of a slice from a DataFrame.\n",
      "Try using .loc[row_indexer,col_indexer] = value instead\n",
      "\n",
      "See the caveats in the documentation: http://pandas.pydata.org/pandas-docs/stable/indexing.html#indexing-view-versus-copy\n"
     ]
    },
    {
     "name": "stdout",
     "output_type": "stream",
     "text": [
      ">>>>>> buy list (1) : 2012-02-20 00:00:00\n",
      "현대바이오(A048410) : 1995\n",
      "\n",
      "\n",
      ">>>>>> enough profit (성신양회 : A004980) - (4000 : 0.52) : 2012-02-22 00:00:00\n",
      ">>>>>> sell list (1) : 2012-02-22 00:00:00\n",
      "['A004980']\n",
      "\n",
      "\n"
     ]
    },
    {
     "name": "stderr",
     "output_type": "stream",
     "text": [
      "/Users/Shared/anaconda3/anaconda3/lib/python3.7/site-packages/ipykernel_launcher.py:689: SettingWithCopyWarning: \n",
      "A value is trying to be set on a copy of a slice from a DataFrame.\n",
      "Try using .loc[row_indexer,col_indexer] = value instead\n",
      "\n",
      "See the caveats in the documentation: http://pandas.pydata.org/pandas-docs/stable/indexing.html#indexing-view-versus-copy\n"
     ]
    },
    {
     "name": "stdout",
     "output_type": "stream",
     "text": [
      ">>>>>> buy list (1) : 2012-02-22 00:00:00\n",
      "동화기업(A025900) : 1252\n",
      "\n",
      "\n",
      ">>>>>> enough profit (대림비앤코 : A005750) - (2785 : 0.56) : 2012-02-24 00:00:00\n",
      ">>>>>> sell list (1) : 2012-02-24 00:00:00\n",
      "['A005750']\n",
      "\n",
      "\n"
     ]
    },
    {
     "name": "stderr",
     "output_type": "stream",
     "text": [
      "/Users/Shared/anaconda3/anaconda3/lib/python3.7/site-packages/ipykernel_launcher.py:689: SettingWithCopyWarning: \n",
      "A value is trying to be set on a copy of a slice from a DataFrame.\n",
      "Try using .loc[row_indexer,col_indexer] = value instead\n",
      "\n",
      "See the caveats in the documentation: http://pandas.pydata.org/pandas-docs/stable/indexing.html#indexing-view-versus-copy\n"
     ]
    },
    {
     "name": "stdout",
     "output_type": "stream",
     "text": [
      ">>>>>> buy list (1) : 2012-02-24 00:00:00\n",
      "성신양회(A004980) : 1559\n",
      "\n",
      "\n",
      ">>>>>> enough periods (까뮤이앤씨 : A013700) - (285 : -0.48) : 366 days 00:00:002012-03-14 00:00:00\n",
      ">>>>>> enough profit (브레인콘텐츠 : A066980) - (1330 : 0.52) : 2012-03-14 00:00:00\n",
      ">>>>>> sell list (2) : 2012-03-14 00:00:00\n",
      "['A013700', 'A066980']\n",
      "\n",
      "\n"
     ]
    },
    {
     "name": "stderr",
     "output_type": "stream",
     "text": [
      "/Users/Shared/anaconda3/anaconda3/lib/python3.7/site-packages/ipykernel_launcher.py:689: SettingWithCopyWarning: \n",
      "A value is trying to be set on a copy of a slice from a DataFrame.\n",
      "Try using .loc[row_indexer,col_indexer] = value instead\n",
      "\n",
      "See the caveats in the documentation: http://pandas.pydata.org/pandas-docs/stable/indexing.html#indexing-view-versus-copy\n"
     ]
    },
    {
     "name": "stdout",
     "output_type": "stream",
     "text": [
      ">>>>>> buy list (2) : 2012-03-14 00:00:00\n",
      "대림비앤코(A005750) : 4950\n",
      "전방(A000950) : 390\n",
      "\n",
      "\n",
      ">>>>>> enough periods (베뉴지 : A019010) - (578 : -0.34) : 366 days 00:00:002012-03-29 00:00:00\n",
      ">>>>>> sell list (1) : 2012-03-29 00:00:00\n",
      "['A019010']\n",
      "\n",
      "\n"
     ]
    },
    {
     "name": "stderr",
     "output_type": "stream",
     "text": [
      "/Users/Shared/anaconda3/anaconda3/lib/python3.7/site-packages/ipykernel_launcher.py:689: SettingWithCopyWarning: \n",
      "A value is trying to be set on a copy of a slice from a DataFrame.\n",
      "Try using .loc[row_indexer,col_indexer] = value instead\n",
      "\n",
      "See the caveats in the documentation: http://pandas.pydata.org/pandas-docs/stable/indexing.html#indexing-view-versus-copy\n"
     ]
    },
    {
     "name": "stdout",
     "output_type": "stream",
     "text": [
      ">>>>>> buy list (1) : 2012-03-29 00:00:00\n",
      "동부제철(A016380) : 4\n",
      "\n",
      "\n",
      ">>>>>> enough profit (대림비앤코 : A005750) - (3750 : 0.59) : 2012-04-03 00:00:00\n",
      ">>>>>> sell list (1) : 2012-04-03 00:00:00\n",
      "['A005750']\n",
      "\n",
      "\n"
     ]
    },
    {
     "name": "stderr",
     "output_type": "stream",
     "text": [
      "/Users/Shared/anaconda3/anaconda3/lib/python3.7/site-packages/ipykernel_launcher.py:689: SettingWithCopyWarning: \n",
      "A value is trying to be set on a copy of a slice from a DataFrame.\n",
      "Try using .loc[row_indexer,col_indexer] = value instead\n",
      "\n",
      "See the caveats in the documentation: http://pandas.pydata.org/pandas-docs/stable/indexing.html#indexing-view-versus-copy\n"
     ]
    },
    {
     "name": "stdout",
     "output_type": "stream",
     "text": [
      ">>>>>> buy list (1) : 2012-04-03 00:00:00\n",
      "베뉴지(A019010) : 27779\n",
      "\n",
      "\n",
      ">>>>>> enough profit (아세아 : A002030) - (55698 : 0.53) : 2012-04-13 00:00:00\n",
      ">>>>>> sell list (1) : 2012-04-13 00:00:00\n",
      "['A002030']\n",
      "\n",
      "\n"
     ]
    },
    {
     "name": "stderr",
     "output_type": "stream",
     "text": [
      "/Users/Shared/anaconda3/anaconda3/lib/python3.7/site-packages/ipykernel_launcher.py:689: SettingWithCopyWarning: \n",
      "A value is trying to be set on a copy of a slice from a DataFrame.\n",
      "Try using .loc[row_indexer,col_indexer] = value instead\n",
      "\n",
      "See the caveats in the documentation: http://pandas.pydata.org/pandas-docs/stable/indexing.html#indexing-view-versus-copy\n"
     ]
    },
    {
     "name": "stdout",
     "output_type": "stream",
     "text": [
      ">>>>>> buy list (1) : 2012-04-13 00:00:00\n",
      "대림비앤코(A005750) : 15091\n",
      "\n",
      "\n",
      ">>>>>> enough periods (화성산업 : A002460) - (3160 : -0.12) : 368 days 00:00:002012-04-16 00:00:00\n",
      ">>>>>> sell list (1) : 2012-04-16 00:00:00\n",
      "['A002460']\n",
      "\n",
      "\n"
     ]
    },
    {
     "name": "stderr",
     "output_type": "stream",
     "text": [
      "/Users/Shared/anaconda3/anaconda3/lib/python3.7/site-packages/ipykernel_launcher.py:689: SettingWithCopyWarning: \n",
      "A value is trying to be set on a copy of a slice from a DataFrame.\n",
      "Try using .loc[row_indexer,col_indexer] = value instead\n",
      "\n",
      "See the caveats in the documentation: http://pandas.pydata.org/pandas-docs/stable/indexing.html#indexing-view-versus-copy\n"
     ]
    },
    {
     "name": "stdout",
     "output_type": "stream",
     "text": [
      ">>>>>> buy list (1) : 2012-04-16 00:00:00\n",
      "아세아(A002030) : 94\n",
      "\n",
      "\n",
      ">>>>>> enough periods (한일철강 : A002220) - (1575 : 0.06) : 368 days 00:00:002012-04-23 00:00:00\n",
      ">>>>>> sell list (1) : 2012-04-23 00:00:00\n",
      "['A002220']\n",
      "\n",
      "\n"
     ]
    },
    {
     "name": "stderr",
     "output_type": "stream",
     "text": [
      "/Users/Shared/anaconda3/anaconda3/lib/python3.7/site-packages/ipykernel_launcher.py:689: SettingWithCopyWarning: \n",
      "A value is trying to be set on a copy of a slice from a DataFrame.\n",
      "Try using .loc[row_indexer,col_indexer] = value instead\n",
      "\n",
      "See the caveats in the documentation: http://pandas.pydata.org/pandas-docs/stable/indexing.html#indexing-view-versus-copy\n"
     ]
    },
    {
     "name": "stdout",
     "output_type": "stream",
     "text": [
      ">>>>>> buy list (1) : 2012-04-23 00:00:00\n",
      "화성산업(A002460) : 2862\n",
      "\n",
      "\n",
      ">>>>>> enough periods (티웨이홀딩스 : A004870) - (543 : -0.61) : 366 days 00:00:002012-06-07 00:00:00\n",
      ">>>>>> enough periods (삼보판지 : A023600) - (2045 : -0.02) : 366 days 00:00:002012-06-07 00:00:00\n",
      ">>>>>> enough periods (에이치엘비 : A028300) - (2290 : -0.15) : 366 days 00:00:002012-06-07 00:00:00\n",
      ">>>>>> enough periods (금강공업 : A014280) - (2010 : -0.11) : 366 days 00:00:002012-06-07 00:00:00\n",
      ">>>>>> sell list (4) : 2012-06-07 00:00:00\n",
      "['A004870', 'A023600', 'A028300', 'A014280']\n",
      "\n",
      "\n"
     ]
    },
    {
     "name": "stderr",
     "output_type": "stream",
     "text": [
      "/Users/Shared/anaconda3/anaconda3/lib/python3.7/site-packages/ipykernel_launcher.py:689: SettingWithCopyWarning: \n",
      "A value is trying to be set on a copy of a slice from a DataFrame.\n",
      "Try using .loc[row_indexer,col_indexer] = value instead\n",
      "\n",
      "See the caveats in the documentation: http://pandas.pydata.org/pandas-docs/stable/indexing.html#indexing-view-versus-copy\n"
     ]
    },
    {
     "name": "stdout",
     "output_type": "stream",
     "text": [
      ">>>>>> buy list (4) : 2012-06-07 00:00:00\n",
      "한일철강(A002220) : 2339\n",
      "한국제지(A002300) : 171\n",
      "한국석유공업(A004090) : 105\n",
      "아세아제지(A002310) : 339\n",
      "\n",
      "\n",
      ">>>>>> enough profit (대림비앤코 : A005750) - (4100 : 0.6) : 2012-06-12 00:00:00\n",
      ">>>>>> sell list (1) : 2012-06-12 00:00:00\n",
      "['A005750']\n",
      "\n",
      "\n"
     ]
    },
    {
     "name": "stderr",
     "output_type": "stream",
     "text": [
      "/Users/Shared/anaconda3/anaconda3/lib/python3.7/site-packages/ipykernel_launcher.py:689: SettingWithCopyWarning: \n",
      "A value is trying to be set on a copy of a slice from a DataFrame.\n",
      "Try using .loc[row_indexer,col_indexer] = value instead\n",
      "\n",
      "See the caveats in the documentation: http://pandas.pydata.org/pandas-docs/stable/indexing.html#indexing-view-versus-copy\n"
     ]
    },
    {
     "name": "stdout",
     "output_type": "stream",
     "text": [
      ">>>>>> buy list (1) : 2012-06-12 00:00:00\n",
      "삼보판지(A023600) : 29451\n",
      "\n",
      "\n",
      ">>>>>> enough periods (선창산업 : A002820) - (7130 : 0.15) : 366 days 00:00:002012-07-06 00:00:00\n",
      ">>>>>> sell list (1) : 2012-07-06 00:00:00\n",
      "['A002820']\n",
      "\n",
      "\n"
     ]
    },
    {
     "name": "stderr",
     "output_type": "stream",
     "text": [
      "/Users/Shared/anaconda3/anaconda3/lib/python3.7/site-packages/ipykernel_launcher.py:689: SettingWithCopyWarning: \n",
      "A value is trying to be set on a copy of a slice from a DataFrame.\n",
      "Try using .loc[row_indexer,col_indexer] = value instead\n",
      "\n",
      "See the caveats in the documentation: http://pandas.pydata.org/pandas-docs/stable/indexing.html#indexing-view-versus-copy\n"
     ]
    },
    {
     "name": "stdout",
     "output_type": "stream",
     "text": [
      ">>>>>> buy list (1) : 2012-07-06 00:00:00\n",
      "대림비앤코(A005750) : 1861\n",
      "\n",
      "\n",
      ">>>>>> enough periods (일성건설 : A013360) - (476 : -0.14) : 366 days 00:00:002012-07-13 00:00:00\n",
      ">>>>>> sell list (1) : 2012-07-13 00:00:00\n",
      "['A013360']\n",
      "\n",
      "\n"
     ]
    },
    {
     "name": "stderr",
     "output_type": "stream",
     "text": [
      "/Users/Shared/anaconda3/anaconda3/lib/python3.7/site-packages/ipykernel_launcher.py:689: SettingWithCopyWarning: \n",
      "A value is trying to be set on a copy of a slice from a DataFrame.\n",
      "Try using .loc[row_indexer,col_indexer] = value instead\n",
      "\n",
      "See the caveats in the documentation: http://pandas.pydata.org/pandas-docs/stable/indexing.html#indexing-view-versus-copy\n"
     ]
    },
    {
     "name": "stdout",
     "output_type": "stream",
     "text": [
      ">>>>>> buy list (1) : 2012-07-13 00:00:00\n",
      "선창산업(A002820) : 1331\n",
      "\n",
      "\n",
      ">>>>>> enough periods (하이스틸 : A071090) - (26250 : -0.35) : 366 days 00:00:002012-11-02 00:00:00\n",
      ">>>>>> sell list (1) : 2012-11-02 00:00:00\n",
      "['A071090']\n",
      "\n",
      "\n"
     ]
    },
    {
     "name": "stderr",
     "output_type": "stream",
     "text": [
      "/Users/Shared/anaconda3/anaconda3/lib/python3.7/site-packages/ipykernel_launcher.py:689: SettingWithCopyWarning: \n",
      "A value is trying to be set on a copy of a slice from a DataFrame.\n",
      "Try using .loc[row_indexer,col_indexer] = value instead\n",
      "\n",
      "See the caveats in the documentation: http://pandas.pydata.org/pandas-docs/stable/indexing.html#indexing-view-versus-copy\n"
     ]
    },
    {
     "name": "stdout",
     "output_type": "stream",
     "text": [
      ">>>>>> buy list (1) : 2012-11-02 00:00:00\n",
      "일성건설(A013360) : 7272\n",
      "\n",
      "\n",
      ">>>>>> enough profit (아세아제지 : A002310) - (14100 : 0.51) : 2012-11-12 00:00:00\n",
      ">>>>>> sell list (1) : 2012-11-12 00:00:00\n",
      "['A002310']\n",
      "\n",
      "\n"
     ]
    },
    {
     "name": "stderr",
     "output_type": "stream",
     "text": [
      "/Users/Shared/anaconda3/anaconda3/lib/python3.7/site-packages/ipykernel_launcher.py:689: SettingWithCopyWarning: \n",
      "A value is trying to be set on a copy of a slice from a DataFrame.\n",
      "Try using .loc[row_indexer,col_indexer] = value instead\n",
      "\n",
      "See the caveats in the documentation: http://pandas.pydata.org/pandas-docs/stable/indexing.html#indexing-view-versus-copy\n"
     ]
    },
    {
     "name": "stdout",
     "output_type": "stream",
     "text": [
      ">>>>>> buy list (1) : 2012-11-12 00:00:00\n",
      "신풍제지(A002870) : 5916\n",
      "\n",
      "\n",
      ">>>>>> enough periods (동성화학 : A005190) - (23600 : -0.09) : 366 days 00:00:002012-12-07 00:00:00\n",
      ">>>>>> sell list (1) : 2012-12-07 00:00:00\n",
      "['A005190']\n",
      "\n",
      "\n"
     ]
    },
    {
     "name": "stderr",
     "output_type": "stream",
     "text": [
      "/Users/Shared/anaconda3/anaconda3/lib/python3.7/site-packages/ipykernel_launcher.py:689: SettingWithCopyWarning: \n",
      "A value is trying to be set on a copy of a slice from a DataFrame.\n",
      "Try using .loc[row_indexer,col_indexer] = value instead\n",
      "\n",
      "See the caveats in the documentation: http://pandas.pydata.org/pandas-docs/stable/indexing.html#indexing-view-versus-copy\n"
     ]
    },
    {
     "name": "stdout",
     "output_type": "stream",
     "text": [
      ">>>>>> buy list (1) : 2012-12-07 00:00:00\n",
      "아세아제지(A002310) : 967\n",
      "\n",
      "\n",
      ">>>>>> enough profit (성신양회 : A004980) - (6460 : 0.58) : 2013-01-21 00:00:00\n",
      ">>>>>> sell list (1) : 2013-01-21 00:00:00\n",
      "['A004980']\n",
      "\n",
      "\n"
     ]
    },
    {
     "name": "stderr",
     "output_type": "stream",
     "text": [
      "/Users/Shared/anaconda3/anaconda3/lib/python3.7/site-packages/ipykernel_launcher.py:689: SettingWithCopyWarning: \n",
      "A value is trying to be set on a copy of a slice from a DataFrame.\n",
      "Try using .loc[row_indexer,col_indexer] = value instead\n",
      "\n",
      "See the caveats in the documentation: http://pandas.pydata.org/pandas-docs/stable/indexing.html#indexing-view-versus-copy\n"
     ]
    },
    {
     "name": "stdout",
     "output_type": "stream",
     "text": [
      ">>>>>> buy list (1) : 2013-01-21 00:00:00\n",
      "바른테크놀로지(A029480) : 4722\n",
      "\n",
      "\n",
      ">>>>>> enough periods (한진중공업홀딩스 : A003480) - (6220 : -0.29) : 369 days 00:00:002013-02-12 00:00:00\n",
      ">>>>>> sell list (1) : 2013-02-12 00:00:00\n",
      "['A003480']\n",
      "\n",
      "\n"
     ]
    },
    {
     "name": "stderr",
     "output_type": "stream",
     "text": [
      "/Users/Shared/anaconda3/anaconda3/lib/python3.7/site-packages/ipykernel_launcher.py:689: SettingWithCopyWarning: \n",
      "A value is trying to be set on a copy of a slice from a DataFrame.\n",
      "Try using .loc[row_indexer,col_indexer] = value instead\n",
      "\n",
      "See the caveats in the documentation: http://pandas.pydata.org/pandas-docs/stable/indexing.html#indexing-view-versus-copy\n"
     ]
    },
    {
     "name": "stdout",
     "output_type": "stream",
     "text": [
      ">>>>>> buy list (1) : 2013-02-12 00:00:00\n",
      "계룡건설산업(A013580) : 861\n",
      "\n",
      "\n",
      ">>>>>> enough periods (디아이동일 : A001530) - (40453 : -0.11) : 368 days 00:00:002013-02-18 00:00:00\n",
      ">>>>>> enough periods (KISCO홀딩스 : A001940) - (6734 : -0.05) : 368 days 00:00:002013-02-18 00:00:00\n",
      ">>>>>> sell list (2) : 2013-02-18 00:00:00\n",
      "['A001530', 'A001940']\n",
      "\n",
      "\n"
     ]
    },
    {
     "name": "stderr",
     "output_type": "stream",
     "text": [
      "/Users/Shared/anaconda3/anaconda3/lib/python3.7/site-packages/ipykernel_launcher.py:689: SettingWithCopyWarning: \n",
      "A value is trying to be set on a copy of a slice from a DataFrame.\n",
      "Try using .loc[row_indexer,col_indexer] = value instead\n",
      "\n",
      "See the caveats in the documentation: http://pandas.pydata.org/pandas-docs/stable/indexing.html#indexing-view-versus-copy\n"
     ]
    },
    {
     "name": "stdout",
     "output_type": "stream",
     "text": [
      ">>>>>> buy list (2) : 2013-02-18 00:00:00\n",
      "삼부토건(A001470) : 237\n",
      "한진중공업홀딩스(A003480) : 814\n",
      "\n",
      "\n",
      ">>>>>> enough periods (현대바이오 : A048410) - (2559 : -0.24) : 366 days 00:00:002013-02-20 00:00:00\n",
      ">>>>>> sell list (1) : 2013-02-20 00:00:00\n",
      "['A048410']\n",
      "\n",
      "\n"
     ]
    },
    {
     "name": "stderr",
     "output_type": "stream",
     "text": [
      "/Users/Shared/anaconda3/anaconda3/lib/python3.7/site-packages/ipykernel_launcher.py:689: SettingWithCopyWarning: \n",
      "A value is trying to be set on a copy of a slice from a DataFrame.\n",
      "Try using .loc[row_indexer,col_indexer] = value instead\n",
      "\n",
      "See the caveats in the documentation: http://pandas.pydata.org/pandas-docs/stable/indexing.html#indexing-view-versus-copy\n"
     ]
    },
    {
     "name": "stdout",
     "output_type": "stream",
     "text": [
      ">>>>>> buy list (1) : 2013-02-20 00:00:00\n",
      "디아이동일(A001530) : 126\n",
      "\n",
      "\n",
      ">>>>>> enough periods (동화기업 : A025900) - (5370 : 0.09) : 366 days 00:00:002013-02-22 00:00:00\n",
      ">>>>>> enough profit (한국석유공업 : A004090) - (45300 : 0.51) : 2013-02-22 00:00:00\n",
      ">>>>>> sell list (2) : 2013-02-22 00:00:00\n",
      "['A025900', 'A004090']\n",
      "\n",
      "\n"
     ]
    },
    {
     "name": "stderr",
     "output_type": "stream",
     "text": [
      "/Users/Shared/anaconda3/anaconda3/lib/python3.7/site-packages/ipykernel_launcher.py:689: SettingWithCopyWarning: \n",
      "A value is trying to be set on a copy of a slice from a DataFrame.\n",
      "Try using .loc[row_indexer,col_indexer] = value instead\n",
      "\n",
      "See the caveats in the documentation: http://pandas.pydata.org/pandas-docs/stable/indexing.html#indexing-view-versus-copy\n"
     ]
    },
    {
     "name": "stdout",
     "output_type": "stream",
     "text": [
      ">>>>>> buy list (2) : 2013-02-22 00:00:00\n",
      "한신공영(A004960) : 649\n",
      "이화산업(A000760) : 775\n",
      "\n",
      "\n",
      ">>>>>> enough profit (삼보판지 : A023600) - (3376 : 0.61) : 2013-03-05 00:00:00\n",
      ">>>>>> sell list (1) : 2013-03-05 00:00:00\n",
      "['A023600']\n",
      "\n",
      "\n"
     ]
    },
    {
     "name": "stderr",
     "output_type": "stream",
     "text": [
      "/Users/Shared/anaconda3/anaconda3/lib/python3.7/site-packages/ipykernel_launcher.py:689: SettingWithCopyWarning: \n",
      "A value is trying to be set on a copy of a slice from a DataFrame.\n",
      "Try using .loc[row_indexer,col_indexer] = value instead\n",
      "\n",
      "See the caveats in the documentation: http://pandas.pydata.org/pandas-docs/stable/indexing.html#indexing-view-versus-copy\n"
     ]
    },
    {
     "name": "stdout",
     "output_type": "stream",
     "text": [
      ">>>>>> buy list (1) : 2013-03-05 00:00:00\n",
      "한국석유공업(A004090) : 2373\n",
      "\n",
      "\n",
      ">>>>>> enough periods (전방 : A000950) - (24900.0 : -0.17) : 366 days 00:00:002013-03-15 00:00:00\n",
      ">>>>>> sell list (1) : 2013-03-15 00:00:00\n",
      "['A000950']\n",
      "\n",
      "\n"
     ]
    },
    {
     "name": "stderr",
     "output_type": "stream",
     "text": [
      "/Users/Shared/anaconda3/anaconda3/lib/python3.7/site-packages/ipykernel_launcher.py:689: SettingWithCopyWarning: \n",
      "A value is trying to be set on a copy of a slice from a DataFrame.\n",
      "Try using .loc[row_indexer,col_indexer] = value instead\n",
      "\n",
      "See the caveats in the documentation: http://pandas.pydata.org/pandas-docs/stable/indexing.html#indexing-view-versus-copy\n"
     ]
    },
    {
     "name": "stdout",
     "output_type": "stream",
     "text": [
      ">>>>>> buy list (1) : 2013-03-15 00:00:00\n",
      "삼보판지(A023600) : 2390\n",
      "\n",
      "\n",
      ">>>>>> enough profit (한국제지 : A002300) - (28000 : 0.51) : 2013-03-28 00:00:00\n",
      ">>>>>> sell list (1) : 2013-03-28 00:00:00\n",
      "['A002300']\n",
      "\n",
      "\n"
     ]
    },
    {
     "name": "stderr",
     "output_type": "stream",
     "text": [
      "/Users/Shared/anaconda3/anaconda3/lib/python3.7/site-packages/ipykernel_launcher.py:689: SettingWithCopyWarning: \n",
      "A value is trying to be set on a copy of a slice from a DataFrame.\n",
      "Try using .loc[row_indexer,col_indexer] = value instead\n",
      "\n",
      "See the caveats in the documentation: http://pandas.pydata.org/pandas-docs/stable/indexing.html#indexing-view-versus-copy\n"
     ]
    },
    {
     "name": "stdout",
     "output_type": "stream",
     "text": [
      ">>>>>> buy list (1) : 2013-03-28 00:00:00\n",
      "전방(A000950) : 191\n",
      "\n",
      "\n",
      ">>>>>> enough periods (동부제철 : A016380) - (601563 : -0.45) : 368 days 00:00:002013-04-01 00:00:00\n",
      ">>>>>> sell list (1) : 2013-04-01 00:00:00\n",
      "['A016380']\n",
      "\n",
      "\n"
     ]
    },
    {
     "name": "stderr",
     "output_type": "stream",
     "text": [
      "/Users/Shared/anaconda3/anaconda3/lib/python3.7/site-packages/ipykernel_launcher.py:689: SettingWithCopyWarning: \n",
      "A value is trying to be set on a copy of a slice from a DataFrame.\n",
      "Try using .loc[row_indexer,col_indexer] = value instead\n",
      "\n",
      "See the caveats in the documentation: http://pandas.pydata.org/pandas-docs/stable/indexing.html#indexing-view-versus-copy\n"
     ]
    },
    {
     "name": "stdout",
     "output_type": "stream",
     "text": [
      ">>>>>> buy list (1) : 2013-04-01 00:00:00\n",
      "KISCO홀딩스(A001940) : 327\n",
      "\n",
      "\n",
      ">>>>>> enough profit (화성산업 : A002460) - (4790 : 0.51) : 2013-04-03 00:00:00\n",
      ">>>>>> sell list (1) : 2013-04-03 00:00:00\n",
      "['A002460']\n",
      "\n",
      "\n"
     ]
    },
    {
     "name": "stderr",
     "output_type": "stream",
     "text": [
      "/Users/Shared/anaconda3/anaconda3/lib/python3.7/site-packages/ipykernel_launcher.py:689: SettingWithCopyWarning: \n",
      "A value is trying to be set on a copy of a slice from a DataFrame.\n",
      "Try using .loc[row_indexer,col_indexer] = value instead\n",
      "\n",
      "See the caveats in the documentation: http://pandas.pydata.org/pandas-docs/stable/indexing.html#indexing-view-versus-copy\n"
     ]
    },
    {
     "name": "stdout",
     "output_type": "stream",
     "text": [
      ">>>>>> buy list (1) : 2013-04-03 00:00:00\n",
      "동부제철(A016380) : 23\n",
      "\n",
      "\n",
      ">>>>>> enough periods (베뉴지 : A019010) - (509 : -0.24) : 366 days 00:00:002013-04-04 00:00:00\n",
      ">>>>>> sell list (1) : 2013-04-04 00:00:00\n",
      "['A019010']\n",
      "\n",
      "\n"
     ]
    },
    {
     "name": "stderr",
     "output_type": "stream",
     "text": [
      "/Users/Shared/anaconda3/anaconda3/lib/python3.7/site-packages/ipykernel_launcher.py:689: SettingWithCopyWarning: \n",
      "A value is trying to be set on a copy of a slice from a DataFrame.\n",
      "Try using .loc[row_indexer,col_indexer] = value instead\n",
      "\n",
      "See the caveats in the documentation: http://pandas.pydata.org/pandas-docs/stable/indexing.html#indexing-view-versus-copy\n"
     ]
    },
    {
     "name": "stdout",
     "output_type": "stream",
     "text": [
      ">>>>>> buy list (1) : 2013-04-04 00:00:00\n",
      "까뮤이앤씨(A013700) : 63819\n",
      "\n",
      "\n",
      ">>>>>> enough periods (아세아 : A002030) - (78852 : 0.41) : 366 days 00:00:002013-04-17 00:00:00\n",
      ">>>>>> sell list (1) : 2013-04-17 00:00:00\n",
      "['A002030']\n",
      "\n",
      "\n"
     ]
    },
    {
     "name": "stderr",
     "output_type": "stream",
     "text": [
      "/Users/Shared/anaconda3/anaconda3/lib/python3.7/site-packages/ipykernel_launcher.py:689: SettingWithCopyWarning: \n",
      "A value is trying to be set on a copy of a slice from a DataFrame.\n",
      "Try using .loc[row_indexer,col_indexer] = value instead\n",
      "\n",
      "See the caveats in the documentation: http://pandas.pydata.org/pandas-docs/stable/indexing.html#indexing-view-versus-copy\n"
     ]
    },
    {
     "name": "stdout",
     "output_type": "stream",
     "text": [
      ">>>>>> buy list (1) : 2013-04-17 00:00:00\n",
      "베뉴지(A019010) : 14884\n",
      "\n",
      "\n",
      ">>>>>> enough profit (아세아제지 : A002310) - (22950 : 0.54) : 2013-04-23 00:00:00\n",
      ">>>>>> sell list (1) : 2013-04-23 00:00:00\n",
      "['A002310']\n",
      "\n",
      "\n"
     ]
    },
    {
     "name": "stderr",
     "output_type": "stream",
     "text": [
      "/Users/Shared/anaconda3/anaconda3/lib/python3.7/site-packages/ipykernel_launcher.py:689: SettingWithCopyWarning: \n",
      "A value is trying to be set on a copy of a slice from a DataFrame.\n",
      "Try using .loc[row_indexer,col_indexer] = value instead\n",
      "\n",
      "See the caveats in the documentation: http://pandas.pydata.org/pandas-docs/stable/indexing.html#indexing-view-versus-copy\n"
     ]
    },
    {
     "name": "stdout",
     "output_type": "stream",
     "text": [
      ">>>>>> buy list (1) : 2013-04-23 00:00:00\n",
      "한국제지(A002300) : 765\n",
      "\n",
      "\n",
      ">>>>>> enough profit (삼부토건 : A001470) - (35550 : 0.6) : 2013-05-02 00:00:00\n",
      ">>>>>> sell list (1) : 2013-05-02 00:00:00\n",
      "['A001470']\n",
      "\n",
      "\n"
     ]
    },
    {
     "name": "stderr",
     "output_type": "stream",
     "text": [
      "/Users/Shared/anaconda3/anaconda3/lib/python3.7/site-packages/ipykernel_launcher.py:689: SettingWithCopyWarning: \n",
      "A value is trying to be set on a copy of a slice from a DataFrame.\n",
      "Try using .loc[row_indexer,col_indexer] = value instead\n",
      "\n",
      "See the caveats in the documentation: http://pandas.pydata.org/pandas-docs/stable/indexing.html#indexing-view-versus-copy\n"
     ]
    },
    {
     "name": "stdout",
     "output_type": "stream",
     "text": [
      ">>>>>> buy list (1) : 2013-05-02 00:00:00\n",
      "대한화섬(A003830) : 127\n",
      "\n",
      "\n",
      ">>>>>> enough profit (한신공영 : A004960) - (13400 : 0.51) : 2013-05-28 00:00:00\n",
      ">>>>>> sell list (1) : 2013-05-28 00:00:00\n",
      "['A004960']\n",
      "\n",
      "\n"
     ]
    },
    {
     "name": "stderr",
     "output_type": "stream",
     "text": [
      "/Users/Shared/anaconda3/anaconda3/lib/python3.7/site-packages/ipykernel_launcher.py:689: SettingWithCopyWarning: \n",
      "A value is trying to be set on a copy of a slice from a DataFrame.\n",
      "Try using .loc[row_indexer,col_indexer] = value instead\n",
      "\n",
      "See the caveats in the documentation: http://pandas.pydata.org/pandas-docs/stable/indexing.html#indexing-view-versus-copy\n"
     ]
    },
    {
     "name": "stdout",
     "output_type": "stream",
     "text": [
      ">>>>>> buy list (1) : 2013-05-28 00:00:00\n",
      "삼부토건(A001470) : 221\n",
      "\n",
      "\n",
      ">>>>>> enough periods (한일철강 : A002220) - (1420 : 0.05) : 368 days 00:00:002013-06-10 00:00:00\n",
      ">>>>>> sell list (1) : 2013-06-10 00:00:00\n",
      "['A002220']\n",
      "\n",
      "\n"
     ]
    },
    {
     "name": "stderr",
     "output_type": "stream",
     "text": [
      "/Users/Shared/anaconda3/anaconda3/lib/python3.7/site-packages/ipykernel_launcher.py:689: SettingWithCopyWarning: \n",
      "A value is trying to be set on a copy of a slice from a DataFrame.\n",
      "Try using .loc[row_indexer,col_indexer] = value instead\n",
      "\n",
      "See the caveats in the documentation: http://pandas.pydata.org/pandas-docs/stable/indexing.html#indexing-view-versus-copy\n"
     ]
    },
    {
     "name": "stdout",
     "output_type": "stream",
     "text": [
      ">>>>>> buy list (1) : 2013-06-10 00:00:00\n",
      "한신공영(A004960) : 266\n",
      "\n",
      "\n",
      ">>>>>> enough periods (대림비앤코 : A005750) - (1710 : -0.58) : 367 days 00:00:002013-07-08 00:00:00\n",
      ">>>>>> sell list (1) : 2013-07-08 00:00:00\n",
      "['A005750']\n",
      "\n",
      "\n"
     ]
    },
    {
     "name": "stderr",
     "output_type": "stream",
     "text": [
      "/Users/Shared/anaconda3/anaconda3/lib/python3.7/site-packages/ipykernel_launcher.py:689: SettingWithCopyWarning: \n",
      "A value is trying to be set on a copy of a slice from a DataFrame.\n",
      "Try using .loc[row_indexer,col_indexer] = value instead\n",
      "\n",
      "See the caveats in the documentation: http://pandas.pydata.org/pandas-docs/stable/indexing.html#indexing-view-versus-copy\n"
     ]
    },
    {
     "name": "stdout",
     "output_type": "stream",
     "text": [
      ">>>>>> buy list (1) : 2013-07-08 00:00:00\n",
      "한일철강(A002220) : 2529\n",
      "\n",
      "\n",
      ">>>>>> enough periods (선창산업 : A002820) - (6011 : -0.17) : 367 days 00:00:002013-07-15 00:00:00\n",
      ">>>>>> sell list (1) : 2013-07-15 00:00:00\n",
      "['A002820']\n",
      "\n",
      "\n"
     ]
    },
    {
     "name": "stderr",
     "output_type": "stream",
     "text": [
      "/Users/Shared/anaconda3/anaconda3/lib/python3.7/site-packages/ipykernel_launcher.py:689: SettingWithCopyWarning: \n",
      "A value is trying to be set on a copy of a slice from a DataFrame.\n",
      "Try using .loc[row_indexer,col_indexer] = value instead\n",
      "\n",
      "See the caveats in the documentation: http://pandas.pydata.org/pandas-docs/stable/indexing.html#indexing-view-versus-copy\n"
     ]
    },
    {
     "name": "stdout",
     "output_type": "stream",
     "text": [
      ">>>>>> buy list (1) : 2013-07-15 00:00:00\n",
      "대림비앤코(A005750) : 4598\n",
      "\n",
      "\n",
      ">>>>>> enough profit (일성건설 : A013360) - (780 : 0.52) : 2013-08-19 00:00:00\n",
      ">>>>>> sell list (1) : 2013-08-19 00:00:00\n",
      "['A013360']\n",
      "\n",
      "\n"
     ]
    },
    {
     "name": "stderr",
     "output_type": "stream",
     "text": [
      "/Users/Shared/anaconda3/anaconda3/lib/python3.7/site-packages/ipykernel_launcher.py:689: SettingWithCopyWarning: \n",
      "A value is trying to be set on a copy of a slice from a DataFrame.\n",
      "Try using .loc[row_indexer,col_indexer] = value instead\n",
      "\n",
      "See the caveats in the documentation: http://pandas.pydata.org/pandas-docs/stable/indexing.html#indexing-view-versus-copy\n"
     ]
    },
    {
     "name": "stdout",
     "output_type": "stream",
     "text": [
      ">>>>>> buy list (1) : 2013-08-19 00:00:00\n",
      "한국전자홀딩스(A006200) : 5572\n",
      "\n",
      "\n",
      ">>>>>> enough periods (신풍제지 : A002870) - (845 : 0.05) : 366 days 00:00:002013-11-13 00:00:00\n",
      ">>>>>> sell list (1) : 2013-11-13 00:00:00\n",
      "['A002870']\n",
      "\n",
      "\n"
     ]
    },
    {
     "name": "stderr",
     "output_type": "stream",
     "text": [
      "/Users/Shared/anaconda3/anaconda3/lib/python3.7/site-packages/ipykernel_launcher.py:689: SettingWithCopyWarning: \n",
      "A value is trying to be set on a copy of a slice from a DataFrame.\n",
      "Try using .loc[row_indexer,col_indexer] = value instead\n",
      "\n",
      "See the caveats in the documentation: http://pandas.pydata.org/pandas-docs/stable/indexing.html#indexing-view-versus-copy\n"
     ]
    },
    {
     "name": "stdout",
     "output_type": "stream",
     "text": [
      ">>>>>> buy list (1) : 2013-11-13 00:00:00\n",
      "일성건설(A013360) : 8546\n",
      "\n",
      "\n",
      ">>>>>> enough profit (한진중공업홀딩스 : A003480) - (9980 : 0.54) : 2013-11-27 00:00:00\n",
      ">>>>>> sell list (1) : 2013-11-27 00:00:00\n",
      "['A003480']\n",
      "\n",
      "\n"
     ]
    },
    {
     "name": "stderr",
     "output_type": "stream",
     "text": [
      "/Users/Shared/anaconda3/anaconda3/lib/python3.7/site-packages/ipykernel_launcher.py:689: SettingWithCopyWarning: \n",
      "A value is trying to be set on a copy of a slice from a DataFrame.\n",
      "Try using .loc[row_indexer,col_indexer] = value instead\n",
      "\n",
      "See the caveats in the documentation: http://pandas.pydata.org/pandas-docs/stable/indexing.html#indexing-view-versus-copy\n"
     ]
    },
    {
     "name": "stdout",
     "output_type": "stream",
     "text": [
      ">>>>>> buy list (1) : 2013-11-27 00:00:00\n",
      "CS홀딩스(A000590) : 229\n",
      "\n",
      "\n",
      ">>>>>> enough profit (까뮤이앤씨 : A013700) - (345 : 0.5) : 2013-12-27 00:00:00\n",
      ">>>>>> sell list (1) : 2013-12-27 00:00:00\n",
      "['A013700']\n",
      "\n",
      "\n"
     ]
    },
    {
     "name": "stderr",
     "output_type": "stream",
     "text": [
      "/Users/Shared/anaconda3/anaconda3/lib/python3.7/site-packages/ipykernel_launcher.py:689: SettingWithCopyWarning: \n",
      "A value is trying to be set on a copy of a slice from a DataFrame.\n",
      "Try using .loc[row_indexer,col_indexer] = value instead\n",
      "\n",
      "See the caveats in the documentation: http://pandas.pydata.org/pandas-docs/stable/indexing.html#indexing-view-versus-copy\n"
     ]
    },
    {
     "name": "stdout",
     "output_type": "stream",
     "text": [
      ">>>>>> buy list (1) : 2013-12-27 00:00:00\n",
      "한진중공업홀딩스(A003480) : 2318\n",
      "\n",
      "\n",
      ">>>>>> enough profit (대림비앤코 : A005750) - (2625 : 0.51) : 2014-01-02 00:00:00\n",
      ">>>>>> sell list (1) : 2014-01-02 00:00:00\n",
      "['A005750']\n",
      "\n",
      "\n"
     ]
    },
    {
     "name": "stderr",
     "output_type": "stream",
     "text": [
      "/Users/Shared/anaconda3/anaconda3/lib/python3.7/site-packages/ipykernel_launcher.py:689: SettingWithCopyWarning: \n",
      "A value is trying to be set on a copy of a slice from a DataFrame.\n",
      "Try using .loc[row_indexer,col_indexer] = value instead\n",
      "\n",
      "See the caveats in the documentation: http://pandas.pydata.org/pandas-docs/stable/indexing.html#indexing-view-versus-copy\n"
     ]
    },
    {
     "name": "stdout",
     "output_type": "stream",
     "text": [
      ">>>>>> buy list (1) : 2014-01-02 00:00:00\n",
      "신한(A005450) : 5801\n",
      "\n",
      "\n",
      ">>>>>> enough periods (바른테크놀로지 : A029480) - (2200 : 0.03) : 366 days 00:00:002014-01-22 00:00:00\n",
      ">>>>>> enough profit (신한 : A005450) - (3132 : 0.51) : 2014-01-22 00:00:00\n",
      ">>>>>> sell list (2) : 2014-01-22 00:00:00\n",
      "['A029480', 'A005450']\n",
      "\n",
      "\n"
     ]
    },
    {
     "name": "stderr",
     "output_type": "stream",
     "text": [
      "/Users/Shared/anaconda3/anaconda3/lib/python3.7/site-packages/ipykernel_launcher.py:689: SettingWithCopyWarning: \n",
      "A value is trying to be set on a copy of a slice from a DataFrame.\n",
      "Try using .loc[row_indexer,col_indexer] = value instead\n",
      "\n",
      "See the caveats in the documentation: http://pandas.pydata.org/pandas-docs/stable/indexing.html#indexing-view-versus-copy\n"
     ]
    },
    {
     "name": "stdout",
     "output_type": "stream",
     "text": [
      ">>>>>> buy list (2) : 2014-01-22 00:00:00\n",
      "동화기업(A025900) : 3232\n",
      "유신(A054930) : 1974\n",
      "\n",
      "\n",
      ">>>>>> enough profit (삼보판지 : A023600) - (6361 : 0.56) : 2014-02-11 00:00:00\n",
      ">>>>>> sell list (1) : 2014-02-11 00:00:00\n",
      "['A023600']\n",
      "\n",
      "\n"
     ]
    },
    {
     "name": "stderr",
     "output_type": "stream",
     "text": [
      "/Users/Shared/anaconda3/anaconda3/lib/python3.7/site-packages/ipykernel_launcher.py:689: SettingWithCopyWarning: \n",
      "A value is trying to be set on a copy of a slice from a DataFrame.\n",
      "Try using .loc[row_indexer,col_indexer] = value instead\n",
      "\n",
      "See the caveats in the documentation: http://pandas.pydata.org/pandas-docs/stable/indexing.html#indexing-view-versus-copy\n"
     ]
    },
    {
     "name": "stdout",
     "output_type": "stream",
     "text": [
      ">>>>>> buy list (1) : 2014-02-11 00:00:00\n",
      "신한(A005450) : 3622\n",
      "\n",
      "\n",
      ">>>>>> enough periods (계룡건설산업 : A013580) - (8390 : -0.07) : 366 days 00:00:002014-02-13 00:00:00\n",
      ">>>>>> sell list (1) : 2014-02-13 00:00:00\n",
      "['A013580']\n",
      "\n",
      "\n"
     ]
    },
    {
     "name": "stderr",
     "output_type": "stream",
     "text": [
      "/Users/Shared/anaconda3/anaconda3/lib/python3.7/site-packages/ipykernel_launcher.py:689: SettingWithCopyWarning: \n",
      "A value is trying to be set on a copy of a slice from a DataFrame.\n",
      "Try using .loc[row_indexer,col_indexer] = value instead\n",
      "\n",
      "See the caveats in the documentation: http://pandas.pydata.org/pandas-docs/stable/indexing.html#indexing-view-versus-copy\n"
     ]
    },
    {
     "name": "stdout",
     "output_type": "stream",
     "text": [
      ">>>>>> buy list (1) : 2014-02-13 00:00:00\n",
      "선창산업(A002820) : 1056\n",
      "\n",
      "\n",
      ">>>>>> enough periods (디아이동일 : A001530) - (54887 : 0.36) : 366 days 00:00:002014-02-21 00:00:00\n",
      ">>>>>> sell list (1) : 2014-02-21 00:00:00\n",
      "['A001530']\n",
      "\n",
      "\n"
     ]
    },
    {
     "name": "stderr",
     "output_type": "stream",
     "text": [
      "/Users/Shared/anaconda3/anaconda3/lib/python3.7/site-packages/ipykernel_launcher.py:689: SettingWithCopyWarning: \n",
      "A value is trying to be set on a copy of a slice from a DataFrame.\n",
      "Try using .loc[row_indexer,col_indexer] = value instead\n",
      "\n",
      "See the caveats in the documentation: http://pandas.pydata.org/pandas-docs/stable/indexing.html#indexing-view-versus-copy\n"
     ]
    },
    {
     "name": "stdout",
     "output_type": "stream",
     "text": [
      ">>>>>> buy list (1) : 2014-02-21 00:00:00\n",
      "계룡건설산업(A013580) : 726\n",
      "\n",
      "\n",
      ">>>>>> enough periods (이화산업 : A000760) - (9690.0 : 0.31) : 367 days 00:00:002014-02-24 00:00:00\n",
      ">>>>>> sell list (1) : 2014-02-24 00:00:00\n",
      "['A000760']\n",
      "\n",
      "\n"
     ]
    },
    {
     "name": "stderr",
     "output_type": "stream",
     "text": [
      "/Users/Shared/anaconda3/anaconda3/lib/python3.7/site-packages/ipykernel_launcher.py:689: SettingWithCopyWarning: \n",
      "A value is trying to be set on a copy of a slice from a DataFrame.\n",
      "Try using .loc[row_indexer,col_indexer] = value instead\n",
      "\n",
      "See the caveats in the documentation: http://pandas.pydata.org/pandas-docs/stable/indexing.html#indexing-view-versus-copy\n"
     ]
    },
    {
     "name": "stdout",
     "output_type": "stream",
     "text": [
      ">>>>>> buy list (1) : 2014-02-24 00:00:00\n",
      "디아이동일(A001530) : 130\n",
      "\n",
      "\n",
      ">>>>>> enough profit (한국석유공업 : A004090) - (69000 : 0.65) : 2014-02-27 00:00:00\n",
      ">>>>>> sell list (1) : 2014-02-27 00:00:00\n",
      "['A004090']\n",
      "\n",
      "\n"
     ]
    },
    {
     "name": "stderr",
     "output_type": "stream",
     "text": [
      "/Users/Shared/anaconda3/anaconda3/lib/python3.7/site-packages/ipykernel_launcher.py:689: SettingWithCopyWarning: \n",
      "A value is trying to be set on a copy of a slice from a DataFrame.\n",
      "Try using .loc[row_indexer,col_indexer] = value instead\n",
      "\n",
      "See the caveats in the documentation: http://pandas.pydata.org/pandas-docs/stable/indexing.html#indexing-view-versus-copy\n"
     ]
    },
    {
     "name": "stdout",
     "output_type": "stream",
     "text": [
      ">>>>>> buy list (1) : 2014-02-27 00:00:00\n",
      "이화산업(A000760) : 17239\n",
      "\n",
      "\n",
      ">>>>>> enough profit (CS홀딩스 : A000590) - (58400 : 0.65) : 2014-02-28 00:00:00\n",
      ">>>>>> sell list (1) : 2014-02-28 00:00:00\n",
      "['A000590']\n",
      "\n",
      "\n"
     ]
    },
    {
     "name": "stderr",
     "output_type": "stream",
     "text": [
      "/Users/Shared/anaconda3/anaconda3/lib/python3.7/site-packages/ipykernel_launcher.py:689: SettingWithCopyWarning: \n",
      "A value is trying to be set on a copy of a slice from a DataFrame.\n",
      "Try using .loc[row_indexer,col_indexer] = value instead\n",
      "\n",
      "See the caveats in the documentation: http://pandas.pydata.org/pandas-docs/stable/indexing.html#indexing-view-versus-copy\n"
     ]
    },
    {
     "name": "stdout",
     "output_type": "stream",
     "text": [
      ">>>>>> buy list (1) : 2014-02-28 00:00:00\n",
      "세아홀딩스(A058650) : 134\n",
      "\n",
      "\n",
      ">>>>>> enough profit (계룡건설산업 : A013580) - (15150 : 0.59) : 2014-03-05 00:00:00\n",
      ">>>>>> sell list (1) : 2014-03-05 00:00:00\n",
      "['A013580']\n",
      "\n",
      "\n"
     ]
    },
    {
     "name": "stderr",
     "output_type": "stream",
     "text": [
      "/Users/Shared/anaconda3/anaconda3/lib/python3.7/site-packages/ipykernel_launcher.py:689: SettingWithCopyWarning: \n",
      "A value is trying to be set on a copy of a slice from a DataFrame.\n",
      "Try using .loc[row_indexer,col_indexer] = value instead\n",
      "\n",
      "See the caveats in the documentation: http://pandas.pydata.org/pandas-docs/stable/indexing.html#indexing-view-versus-copy\n"
     ]
    },
    {
     "name": "stdout",
     "output_type": "stream",
     "text": [
      ">>>>>> buy list (1) : 2014-03-05 00:00:00\n",
      "CS홀딩스(A000590) : 179\n",
      "\n",
      "\n",
      ">>>>>> enough periods (전방 : A000950) - (29250.0 : 0.17) : 368 days 00:00:002014-03-31 00:00:00\n",
      ">>>>>> sell list (1) : 2014-03-31 00:00:00\n",
      "['A000950']\n",
      "\n",
      "\n"
     ]
    },
    {
     "name": "stderr",
     "output_type": "stream",
     "text": [
      "/Users/Shared/anaconda3/anaconda3/lib/python3.7/site-packages/ipykernel_launcher.py:689: SettingWithCopyWarning: \n",
      "A value is trying to be set on a copy of a slice from a DataFrame.\n",
      "Try using .loc[row_indexer,col_indexer] = value instead\n",
      "\n",
      "See the caveats in the documentation: http://pandas.pydata.org/pandas-docs/stable/indexing.html#indexing-view-versus-copy\n"
     ]
    },
    {
     "name": "stdout",
     "output_type": "stream",
     "text": [
      ">>>>>> buy list (1) : 2014-03-31 00:00:00\n",
      "계룡건설산업(A013580) : 406\n",
      "\n",
      "\n",
      ">>>>>> enough periods (KISCO홀딩스 : A001940) - (9841 : 0.33) : 366 days 00:00:002014-04-02 00:00:00\n",
      ">>>>>> sell list (1) : 2014-04-02 00:00:00\n",
      "['A001940']\n",
      "\n",
      "\n"
     ]
    },
    {
     "name": "stderr",
     "output_type": "stream",
     "text": [
      "/Users/Shared/anaconda3/anaconda3/lib/python3.7/site-packages/ipykernel_launcher.py:689: SettingWithCopyWarning: \n",
      "A value is trying to be set on a copy of a slice from a DataFrame.\n",
      "Try using .loc[row_indexer,col_indexer] = value instead\n",
      "\n",
      "See the caveats in the documentation: http://pandas.pydata.org/pandas-docs/stable/indexing.html#indexing-view-versus-copy\n"
     ]
    },
    {
     "name": "stdout",
     "output_type": "stream",
     "text": [
      ">>>>>> buy list (1) : 2014-04-02 00:00:00\n",
      "전방(A000950) : 112\n",
      "\n",
      "\n",
      ">>>>>> enough periods (동부제철 : A016380) - (608322 : 0.06) : 366 days 00:00:002014-04-04 00:00:00\n",
      ">>>>>> sell list (1) : 2014-04-04 00:00:00\n",
      "['A016380']\n",
      "\n",
      "\n"
     ]
    },
    {
     "name": "stderr",
     "output_type": "stream",
     "text": [
      "/Users/Shared/anaconda3/anaconda3/lib/python3.7/site-packages/ipykernel_launcher.py:689: SettingWithCopyWarning: \n",
      "A value is trying to be set on a copy of a slice from a DataFrame.\n",
      "Try using .loc[row_indexer,col_indexer] = value instead\n",
      "\n",
      "See the caveats in the documentation: http://pandas.pydata.org/pandas-docs/stable/indexing.html#indexing-view-versus-copy\n"
     ]
    },
    {
     "name": "stdout",
     "output_type": "stream",
     "text": [
      ">>>>>> buy list (1) : 2014-04-04 00:00:00\n",
      "KISCO홀딩스(A001940) : 1471\n",
      "\n",
      "\n",
      ">>>>>> enough periods (베뉴지 : A019010) - (579 : 0.16) : 366 days 00:00:002014-04-18 00:00:00\n",
      ">>>>>> sell list (1) : 2014-04-18 00:00:00\n",
      "['A019010']\n",
      "\n",
      "\n"
     ]
    },
    {
     "name": "stderr",
     "output_type": "stream",
     "text": [
      "/Users/Shared/anaconda3/anaconda3/lib/python3.7/site-packages/ipykernel_launcher.py:689: SettingWithCopyWarning: \n",
      "A value is trying to be set on a copy of a slice from a DataFrame.\n",
      "Try using .loc[row_indexer,col_indexer] = value instead\n",
      "\n",
      "See the caveats in the documentation: http://pandas.pydata.org/pandas-docs/stable/indexing.html#indexing-view-versus-copy\n"
     ]
    },
    {
     "name": "stdout",
     "output_type": "stream",
     "text": [
      ">>>>>> buy list (1) : 2014-04-18 00:00:00\n",
      "동부제철(A016380) : 15\n",
      "\n",
      "\n",
      ">>>>>> enough profit (이화산업 : A000760) - (15700.0 : 0.65) : 2014-04-22 00:00:00\n",
      ">>>>>> sell list (1) : 2014-04-22 00:00:00\n",
      "['A000760']\n",
      "\n",
      "\n"
     ]
    },
    {
     "name": "stderr",
     "output_type": "stream",
     "text": [
      "/Users/Shared/anaconda3/anaconda3/lib/python3.7/site-packages/ipykernel_launcher.py:689: SettingWithCopyWarning: \n",
      "A value is trying to be set on a copy of a slice from a DataFrame.\n",
      "Try using .loc[row_indexer,col_indexer] = value instead\n",
      "\n",
      "See the caveats in the documentation: http://pandas.pydata.org/pandas-docs/stable/indexing.html#indexing-view-versus-copy\n"
     ]
    },
    {
     "name": "stdout",
     "output_type": "stream",
     "text": [
      ">>>>>> buy list (1) : 2014-04-22 00:00:00\n",
      "베뉴지(A019010) : 506368\n",
      "\n",
      "\n",
      ">>>>>> enough periods (한국제지 : A002300) - (25250 : -0.13) : 366 days 00:00:002014-04-24 00:00:00\n",
      ">>>>>> sell list (1) : 2014-04-24 00:00:00\n",
      "['A002300']\n",
      "\n",
      "\n"
     ]
    },
    {
     "name": "stderr",
     "output_type": "stream",
     "text": [
      "/Users/Shared/anaconda3/anaconda3/lib/python3.7/site-packages/ipykernel_launcher.py:689: SettingWithCopyWarning: \n",
      "A value is trying to be set on a copy of a slice from a DataFrame.\n",
      "Try using .loc[row_indexer,col_indexer] = value instead\n",
      "\n",
      "See the caveats in the documentation: http://pandas.pydata.org/pandas-docs/stable/indexing.html#indexing-view-versus-copy\n"
     ]
    },
    {
     "name": "stdout",
     "output_type": "stream",
     "text": [
      ">>>>>> buy list (1) : 2014-04-24 00:00:00\n",
      "이화산업(A000760) : 1070\n",
      "\n",
      "\n",
      ">>>>>> enough periods (대한화섬 : A003830) - (80200 : 0.22) : 370 days 00:00:002014-05-07 00:00:00\n",
      ">>>>>> sell list (1) : 2014-05-07 00:00:00\n",
      "['A003830']\n",
      "\n",
      "\n"
     ]
    },
    {
     "name": "stderr",
     "output_type": "stream",
     "text": [
      "/Users/Shared/anaconda3/anaconda3/lib/python3.7/site-packages/ipykernel_launcher.py:689: SettingWithCopyWarning: \n",
      "A value is trying to be set on a copy of a slice from a DataFrame.\n",
      "Try using .loc[row_indexer,col_indexer] = value instead\n",
      "\n",
      "See the caveats in the documentation: http://pandas.pydata.org/pandas-docs/stable/indexing.html#indexing-view-versus-copy\n"
     ]
    },
    {
     "name": "stdout",
     "output_type": "stream",
     "text": [
      ">>>>>> buy list (1) : 2014-05-07 00:00:00\n",
      "만호제강(A001080) : 642\n",
      "\n",
      "\n",
      ">>>>>> enough profit (동화기업 : A025900) - (7034 : 0.59) : 2014-05-14 00:00:00\n",
      ">>>>>> sell list (1) : 2014-05-14 00:00:00\n",
      "['A025900']\n",
      "\n",
      "\n"
     ]
    },
    {
     "name": "stderr",
     "output_type": "stream",
     "text": [
      "/Users/Shared/anaconda3/anaconda3/lib/python3.7/site-packages/ipykernel_launcher.py:689: SettingWithCopyWarning: \n",
      "A value is trying to be set on a copy of a slice from a DataFrame.\n",
      "Try using .loc[row_indexer,col_indexer] = value instead\n",
      "\n",
      "See the caveats in the documentation: http://pandas.pydata.org/pandas-docs/stable/indexing.html#indexing-view-versus-copy\n"
     ]
    },
    {
     "name": "stdout",
     "output_type": "stream",
     "text": [
      ">>>>>> buy list (1) : 2014-05-14 00:00:00\n",
      "대한화섬(A003830) : 293\n",
      "\n",
      "\n",
      ">>>>>> enough profit (선창산업 : A002820) - (10559 : 0.54) : 2014-05-15 00:00:00\n",
      ">>>>>> sell list (1) : 2014-05-15 00:00:00\n",
      "['A002820']\n",
      "\n",
      "\n"
     ]
    },
    {
     "name": "stderr",
     "output_type": "stream",
     "text": [
      "/Users/Shared/anaconda3/anaconda3/lib/python3.7/site-packages/ipykernel_launcher.py:689: SettingWithCopyWarning: \n",
      "A value is trying to be set on a copy of a slice from a DataFrame.\n",
      "Try using .loc[row_indexer,col_indexer] = value instead\n",
      "\n",
      "See the caveats in the documentation: http://pandas.pydata.org/pandas-docs/stable/indexing.html#indexing-view-versus-copy\n"
     ]
    },
    {
     "name": "stdout",
     "output_type": "stream",
     "text": [
      ">>>>>> buy list (1) : 2014-05-15 00:00:00\n",
      "동화기업(A025900) : 1386\n",
      "\n",
      "\n",
      ">>>>>> enough periods (삼부토건 : A001470) - (27100 : -0.32) : 366 days 00:00:002014-05-29 00:00:00\n",
      ">>>>>> sell list (1) : 2014-05-29 00:00:00\n",
      "['A001470']\n",
      "\n",
      "\n"
     ]
    },
    {
     "name": "stderr",
     "output_type": "stream",
     "text": [
      "/Users/Shared/anaconda3/anaconda3/lib/python3.7/site-packages/ipykernel_launcher.py:689: SettingWithCopyWarning: \n",
      "A value is trying to be set on a copy of a slice from a DataFrame.\n",
      "Try using .loc[row_indexer,col_indexer] = value instead\n",
      "\n",
      "See the caveats in the documentation: http://pandas.pydata.org/pandas-docs/stable/indexing.html#indexing-view-versus-copy\n"
     ]
    },
    {
     "name": "stdout",
     "output_type": "stream",
     "text": [
      ">>>>>> buy list (1) : 2014-05-29 00:00:00\n",
      "선창산업(A002820) : 542\n",
      "\n",
      "\n",
      ">>>>>> enough periods (한신공영 : A004960) - (12550 : 0.0) : 366 days 00:00:002014-06-11 00:00:00\n",
      ">>>>>> sell list (1) : 2014-06-11 00:00:00\n",
      "['A004960']\n",
      "\n",
      "\n"
     ]
    },
    {
     "name": "stderr",
     "output_type": "stream",
     "text": [
      "/Users/Shared/anaconda3/anaconda3/lib/python3.7/site-packages/ipykernel_launcher.py:689: SettingWithCopyWarning: \n",
      "A value is trying to be set on a copy of a slice from a DataFrame.\n",
      "Try using .loc[row_indexer,col_indexer] = value instead\n",
      "\n",
      "See the caveats in the documentation: http://pandas.pydata.org/pandas-docs/stable/indexing.html#indexing-view-versus-copy\n"
     ]
    },
    {
     "name": "stdout",
     "output_type": "stream",
     "text": [
      ">>>>>> buy list (1) : 2014-06-11 00:00:00\n",
      "삼부토건(A001470) : 124\n",
      "\n",
      "\n",
      ">>>>>> enough profit (세아홀딩스 : A058650) - (152000 : 0.52) : 2014-06-16 00:00:00\n",
      ">>>>>> sell list (1) : 2014-06-16 00:00:00\n",
      "['A058650']\n",
      "\n",
      "\n"
     ]
    },
    {
     "name": "stderr",
     "output_type": "stream",
     "text": [
      "/Users/Shared/anaconda3/anaconda3/lib/python3.7/site-packages/ipykernel_launcher.py:689: SettingWithCopyWarning: \n",
      "A value is trying to be set on a copy of a slice from a DataFrame.\n",
      "Try using .loc[row_indexer,col_indexer] = value instead\n",
      "\n",
      "See the caveats in the documentation: http://pandas.pydata.org/pandas-docs/stable/indexing.html#indexing-view-versus-copy\n"
     ]
    },
    {
     "name": "stdout",
     "output_type": "stream",
     "text": [
      ">>>>>> buy list (1) : 2014-06-16 00:00:00\n",
      "대한방직(A001070) : 4428\n",
      "\n",
      "\n",
      ">>>>>> enough profit (동화기업 : A025900) - (13477 : 0.67) : 2014-06-18 00:00:00\n",
      ">>>>>> sell list (1) : 2014-06-18 00:00:00\n",
      "['A025900']\n",
      "\n",
      "\n"
     ]
    },
    {
     "name": "stderr",
     "output_type": "stream",
     "text": [
      "/Users/Shared/anaconda3/anaconda3/lib/python3.7/site-packages/ipykernel_launcher.py:689: SettingWithCopyWarning: \n",
      "A value is trying to be set on a copy of a slice from a DataFrame.\n",
      "Try using .loc[row_indexer,col_indexer] = value instead\n",
      "\n",
      "See the caveats in the documentation: http://pandas.pydata.org/pandas-docs/stable/indexing.html#indexing-view-versus-copy\n"
     ]
    },
    {
     "name": "stdout",
     "output_type": "stream",
     "text": [
      ">>>>>> buy list (1) : 2014-06-18 00:00:00\n",
      "세아홀딩스(A058650) : 125\n",
      "\n",
      "\n",
      ">>>>>> enough periods (한일철강 : A002220) - (1690 : 0.34) : 366 days 00:00:002014-07-09 00:00:00\n",
      ">>>>>> sell list (1) : 2014-07-09 00:00:00\n",
      "['A002220']\n",
      "\n",
      "\n"
     ]
    },
    {
     "name": "stderr",
     "output_type": "stream",
     "text": [
      "/Users/Shared/anaconda3/anaconda3/lib/python3.7/site-packages/ipykernel_launcher.py:689: SettingWithCopyWarning: \n",
      "A value is trying to be set on a copy of a slice from a DataFrame.\n",
      "Try using .loc[row_indexer,col_indexer] = value instead\n",
      "\n",
      "See the caveats in the documentation: http://pandas.pydata.org/pandas-docs/stable/indexing.html#indexing-view-versus-copy\n"
     ]
    },
    {
     "name": "stdout",
     "output_type": "stream",
     "text": [
      ">>>>>> buy list (1) : 2014-07-09 00:00:00\n",
      "동화기업(A025900) : 255\n",
      "\n",
      "\n",
      ">>>>>> enough profit (전방 : A000950) - (44400.0 : 0.55) : 2014-08-06 00:00:00\n",
      ">>>>>> sell list (1) : 2014-08-06 00:00:00\n",
      "['A000950']\n",
      "\n",
      "\n"
     ]
    },
    {
     "name": "stderr",
     "output_type": "stream",
     "text": [
      "/Users/Shared/anaconda3/anaconda3/lib/python3.7/site-packages/ipykernel_launcher.py:689: SettingWithCopyWarning: \n",
      "A value is trying to be set on a copy of a slice from a DataFrame.\n",
      "Try using .loc[row_indexer,col_indexer] = value instead\n",
      "\n",
      "See the caveats in the documentation: http://pandas.pydata.org/pandas-docs/stable/indexing.html#indexing-view-versus-copy\n"
     ]
    },
    {
     "name": "stdout",
     "output_type": "stream",
     "text": [
      ">>>>>> buy list (1) : 2014-08-06 00:00:00\n",
      "한일철강(A002220) : 2523\n",
      "\n",
      "\n",
      ">>>>>> enough periods (한국전자홀딩스 : A006200) - (907 : -0.11) : 366 days 00:00:002014-08-20 00:00:00\n",
      ">>>>>> sell list (1) : 2014-08-20 00:00:00\n",
      "['A006200']\n",
      "\n",
      "\n"
     ]
    },
    {
     "name": "stderr",
     "output_type": "stream",
     "text": [
      "/Users/Shared/anaconda3/anaconda3/lib/python3.7/site-packages/ipykernel_launcher.py:689: SettingWithCopyWarning: \n",
      "A value is trying to be set on a copy of a slice from a DataFrame.\n",
      "Try using .loc[row_indexer,col_indexer] = value instead\n",
      "\n",
      "See the caveats in the documentation: http://pandas.pydata.org/pandas-docs/stable/indexing.html#indexing-view-versus-copy\n"
     ]
    },
    {
     "name": "stdout",
     "output_type": "stream",
     "text": [
      ">>>>>> buy list (1) : 2014-08-20 00:00:00\n",
      "전방(A000950) : 106\n",
      "\n",
      "\n",
      ">>>>>> enough profit (디아이동일 : A001530) - (87342 : 0.52) : 2014-10-23 00:00:00\n",
      ">>>>>> sell list (1) : 2014-10-23 00:00:00\n",
      "['A001530']\n",
      "\n",
      "\n"
     ]
    },
    {
     "name": "stderr",
     "output_type": "stream",
     "text": [
      "/Users/Shared/anaconda3/anaconda3/lib/python3.7/site-packages/ipykernel_launcher.py:689: SettingWithCopyWarning: \n",
      "A value is trying to be set on a copy of a slice from a DataFrame.\n",
      "Try using .loc[row_indexer,col_indexer] = value instead\n",
      "\n",
      "See the caveats in the documentation: http://pandas.pydata.org/pandas-docs/stable/indexing.html#indexing-view-versus-copy\n"
     ]
    },
    {
     "name": "stdout",
     "output_type": "stream",
     "text": [
      ">>>>>> buy list (1) : 2014-10-23 00:00:00\n",
      "한국전자홀딩스(A006200) : 9055\n",
      "\n",
      "\n",
      ">>>>>> enough periods (일성건설 : A013360) - (630 : 0.08) : 366 days 00:00:002014-11-14 00:00:00\n",
      ">>>>>> sell list (1) : 2014-11-14 00:00:00\n",
      "['A013360']\n",
      "\n",
      "\n"
     ]
    },
    {
     "name": "stderr",
     "output_type": "stream",
     "text": [
      "/Users/Shared/anaconda3/anaconda3/lib/python3.7/site-packages/ipykernel_launcher.py:689: SettingWithCopyWarning: \n",
      "A value is trying to be set on a copy of a slice from a DataFrame.\n",
      "Try using .loc[row_indexer,col_indexer] = value instead\n",
      "\n",
      "See the caveats in the documentation: http://pandas.pydata.org/pandas-docs/stable/indexing.html#indexing-view-versus-copy\n"
     ]
    },
    {
     "name": "stdout",
     "output_type": "stream",
     "text": [
      ">>>>>> buy list (1) : 2014-11-14 00:00:00\n",
      "디아이동일(A001530) : 69\n",
      "\n",
      "\n",
      ">>>>>> enough profit (대한방직 : A001070) - (7200 : 0.57) : 2014-11-17 00:00:00\n",
      ">>>>>> sell list (1) : 2014-11-17 00:00:00\n",
      "['A001070']\n",
      "\n",
      "\n"
     ]
    },
    {
     "name": "stderr",
     "output_type": "stream",
     "text": [
      "/Users/Shared/anaconda3/anaconda3/lib/python3.7/site-packages/ipykernel_launcher.py:689: SettingWithCopyWarning: \n",
      "A value is trying to be set on a copy of a slice from a DataFrame.\n",
      "Try using .loc[row_indexer,col_indexer] = value instead\n",
      "\n",
      "See the caveats in the documentation: http://pandas.pydata.org/pandas-docs/stable/indexing.html#indexing-view-versus-copy\n"
     ]
    },
    {
     "name": "stdout",
     "output_type": "stream",
     "text": [
      ">>>>>> buy list (1) : 2014-11-17 00:00:00\n",
      "일성건설(A013360) : 52701\n",
      "\n",
      "\n",
      ">>>>>> enough profit (베뉴지 : A019010) - (809 : 0.51) : 2014-12-08 00:00:00\n",
      ">>>>>> sell list (1) : 2014-12-08 00:00:00\n",
      "['A019010']\n",
      "\n",
      "\n"
     ]
    },
    {
     "name": "stderr",
     "output_type": "stream",
     "text": [
      "/Users/Shared/anaconda3/anaconda3/lib/python3.7/site-packages/ipykernel_launcher.py:689: SettingWithCopyWarning: \n",
      "A value is trying to be set on a copy of a slice from a DataFrame.\n",
      "Try using .loc[row_indexer,col_indexer] = value instead\n",
      "\n",
      "See the caveats in the documentation: http://pandas.pydata.org/pandas-docs/stable/indexing.html#indexing-view-versus-copy\n"
     ]
    },
    {
     "name": "stdout",
     "output_type": "stream",
     "text": [
      ">>>>>> buy list (1) : 2014-12-08 00:00:00\n",
      "대한방직(A001070) : 62830\n",
      "\n",
      "\n",
      ">>>>>> enough periods (한진중공업홀딩스 : A003480) - (8130 : -0.14) : 367 days 00:00:002014-12-29 00:00:00\n",
      ">>>>>> sell list (1) : 2014-12-29 00:00:00\n",
      "['A003480']\n",
      "\n",
      "\n"
     ]
    },
    {
     "name": "stderr",
     "output_type": "stream",
     "text": [
      "/Users/Shared/anaconda3/anaconda3/lib/python3.7/site-packages/ipykernel_launcher.py:689: SettingWithCopyWarning: \n",
      "A value is trying to be set on a copy of a slice from a DataFrame.\n",
      "Try using .loc[row_indexer,col_indexer] = value instead\n",
      "\n",
      "See the caveats in the documentation: http://pandas.pydata.org/pandas-docs/stable/indexing.html#indexing-view-versus-copy\n"
     ]
    },
    {
     "name": "stdout",
     "output_type": "stream",
     "text": [
      ">>>>>> buy list (1) : 2014-12-29 00:00:00\n",
      "베뉴지(A019010) : 20264\n",
      "\n",
      "\n",
      ">>>>>> enough periods (유신 : A054930) - (8120 : 0.12) : 366 days 00:00:002015-01-23 00:00:00\n",
      ">>>>>> sell list (1) : 2015-01-23 00:00:00\n",
      "['A054930']\n",
      "\n",
      "\n"
     ]
    },
    {
     "name": "stderr",
     "output_type": "stream",
     "text": [
      "/Users/Shared/anaconda3/anaconda3/lib/python3.7/site-packages/ipykernel_launcher.py:689: SettingWithCopyWarning: \n",
      "A value is trying to be set on a copy of a slice from a DataFrame.\n",
      "Try using .loc[row_indexer,col_indexer] = value instead\n",
      "\n",
      "See the caveats in the documentation: http://pandas.pydata.org/pandas-docs/stable/indexing.html#indexing-view-versus-copy\n"
     ]
    },
    {
     "name": "stdout",
     "output_type": "stream",
     "text": [
      ">>>>>> buy list (1) : 2015-01-23 00:00:00\n",
      "STX(A011810) : 285\n",
      "\n",
      "\n",
      ">>>>>> enough profit (대한방직 : A001070) - (10000 : 0.53) : 2015-02-05 00:00:00\n",
      ">>>>>> sell list (1) : 2015-02-05 00:00:00\n",
      "['A001070']\n",
      "\n",
      "\n"
     ]
    },
    {
     "name": "stderr",
     "output_type": "stream",
     "text": [
      "/Users/Shared/anaconda3/anaconda3/lib/python3.7/site-packages/ipykernel_launcher.py:689: SettingWithCopyWarning: \n",
      "A value is trying to be set on a copy of a slice from a DataFrame.\n",
      "Try using .loc[row_indexer,col_indexer] = value instead\n",
      "\n",
      "See the caveats in the documentation: http://pandas.pydata.org/pandas-docs/stable/indexing.html#indexing-view-versus-copy\n"
     ]
    },
    {
     "name": "stdout",
     "output_type": "stream",
     "text": [
      ">>>>>> buy list (1) : 2015-02-05 00:00:00\n",
      "동국제강(A001230) : 107779\n",
      "\n",
      "\n",
      ">>>>>> enough periods (신한 : A005450) - (3996 : -0.05) : 366 days 00:00:002015-02-12 00:00:00\n",
      ">>>>>> sell list (1) : 2015-02-12 00:00:00\n",
      "['A005450']\n",
      "\n",
      "\n"
     ]
    },
    {
     "name": "stderr",
     "output_type": "stream",
     "text": [
      "/Users/Shared/anaconda3/anaconda3/lib/python3.7/site-packages/ipykernel_launcher.py:689: SettingWithCopyWarning: \n",
      "A value is trying to be set on a copy of a slice from a DataFrame.\n",
      "Try using .loc[row_indexer,col_indexer] = value instead\n",
      "\n",
      "See the caveats in the documentation: http://pandas.pydata.org/pandas-docs/stable/indexing.html#indexing-view-versus-copy\n"
     ]
    },
    {
     "name": "stdout",
     "output_type": "stream",
     "text": [
      ">>>>>> buy list (1) : 2015-02-12 00:00:00\n",
      "대한방직(A001070) : 1391\n",
      "\n",
      "\n",
      ">>>>>> enough profit (이화산업 : A000760) - (29700.0 : 0.65) : 2015-03-05 00:00:00\n",
      ">>>>>> sell list (1) : 2015-03-05 00:00:00\n",
      "['A000760']\n",
      "\n",
      "\n"
     ]
    },
    {
     "name": "stderr",
     "output_type": "stream",
     "text": [
      "/Users/Shared/anaconda3/anaconda3/lib/python3.7/site-packages/ipykernel_launcher.py:689: SettingWithCopyWarning: \n",
      "A value is trying to be set on a copy of a slice from a DataFrame.\n",
      "Try using .loc[row_indexer,col_indexer] = value instead\n",
      "\n",
      "See the caveats in the documentation: http://pandas.pydata.org/pandas-docs/stable/indexing.html#indexing-view-versus-copy\n"
     ]
    },
    {
     "name": "stdout",
     "output_type": "stream",
     "text": [
      ">>>>>> buy list (1) : 2015-03-05 00:00:00\n",
      "무림페이퍼(A009200) : 12948\n",
      "\n",
      "\n",
      ">>>>>> enough periods (CS홀딩스 : A000590) - (85500 : 0.39) : 366 days 00:00:002015-03-06 00:00:00\n",
      ">>>>>> sell list (1) : 2015-03-06 00:00:00\n",
      "['A000590']\n",
      "\n",
      "\n"
     ]
    },
    {
     "name": "stderr",
     "output_type": "stream",
     "text": [
      "/Users/Shared/anaconda3/anaconda3/lib/python3.7/site-packages/ipykernel_launcher.py:689: SettingWithCopyWarning: \n",
      "A value is trying to be set on a copy of a slice from a DataFrame.\n",
      "Try using .loc[row_indexer,col_indexer] = value instead\n",
      "\n",
      "See the caveats in the documentation: http://pandas.pydata.org/pandas-docs/stable/indexing.html#indexing-view-versus-copy\n"
     ]
    },
    {
     "name": "stdout",
     "output_type": "stream",
     "text": [
      ">>>>>> buy list (1) : 2015-03-06 00:00:00\n",
      "하이스틸(A071090) : 720\n",
      "\n",
      "\n",
      ">>>>>> enough profit (삼부토건 : A001470) - (41750 : 0.55) : 2015-03-10 00:00:00\n",
      ">>>>>> sell list (1) : 2015-03-10 00:00:00\n",
      "['A001470']\n",
      "\n",
      "\n"
     ]
    },
    {
     "name": "stderr",
     "output_type": "stream",
     "text": [
      "/Users/Shared/anaconda3/anaconda3/lib/python3.7/site-packages/ipykernel_launcher.py:689: SettingWithCopyWarning: \n",
      "A value is trying to be set on a copy of a slice from a DataFrame.\n",
      "Try using .loc[row_indexer,col_indexer] = value instead\n",
      "\n",
      "See the caveats in the documentation: http://pandas.pydata.org/pandas-docs/stable/indexing.html#indexing-view-versus-copy\n"
     ]
    },
    {
     "name": "stdout",
     "output_type": "stream",
     "text": [
      ">>>>>> buy list (1) : 2015-03-10 00:00:00\n",
      "TCC스틸(A002710) : 1790\n",
      "\n",
      "\n",
      ">>>>>> enough profit (동화기업 : A025900) - (26315 : 0.55) : 2015-03-20 00:00:00\n",
      ">>>>>> sell list (1) : 2015-03-20 00:00:00\n",
      "['A025900']\n",
      "\n",
      "\n"
     ]
    },
    {
     "name": "stderr",
     "output_type": "stream",
     "text": [
      "/Users/Shared/anaconda3/anaconda3/lib/python3.7/site-packages/ipykernel_launcher.py:689: SettingWithCopyWarning: \n",
      "A value is trying to be set on a copy of a slice from a DataFrame.\n",
      "Try using .loc[row_indexer,col_indexer] = value instead\n",
      "\n",
      "See the caveats in the documentation: http://pandas.pydata.org/pandas-docs/stable/indexing.html#indexing-view-versus-copy\n"
     ]
    },
    {
     "name": "stdout",
     "output_type": "stream",
     "text": [
      ">>>>>> buy list (1) : 2015-03-20 00:00:00\n",
      "삼부토건(A001470) : 132\n",
      "\n",
      "\n",
      ">>>>>> enough profit (만호제강 : A001080) - (24750 : 0.56) : 2015-03-27 00:00:00\n",
      ">>>>>> sell list (1) : 2015-03-27 00:00:00\n",
      "['A001080']\n",
      "\n",
      "\n"
     ]
    },
    {
     "name": "stderr",
     "output_type": "stream",
     "text": [
      "/Users/Shared/anaconda3/anaconda3/lib/python3.7/site-packages/ipykernel_launcher.py:689: SettingWithCopyWarning: \n",
      "A value is trying to be set on a copy of a slice from a DataFrame.\n",
      "Try using .loc[row_indexer,col_indexer] = value instead\n",
      "\n",
      "See the caveats in the documentation: http://pandas.pydata.org/pandas-docs/stable/indexing.html#indexing-view-versus-copy\n"
     ]
    },
    {
     "name": "stdout",
     "output_type": "stream",
     "text": [
      ">>>>>> buy list (1) : 2015-03-27 00:00:00\n",
      "한진중공업홀딩스(A003480) : 2184\n",
      "\n",
      "\n",
      ">>>>>> enough profit (대한방직 : A001070) - (15880 : 0.53) : 2015-03-30 00:00:00\n",
      ">>>>>> sell list (1) : 2015-03-30 00:00:00\n",
      "['A001070']\n",
      "\n",
      "\n"
     ]
    },
    {
     "name": "stderr",
     "output_type": "stream",
     "text": [
      "/Users/Shared/anaconda3/anaconda3/lib/python3.7/site-packages/ipykernel_launcher.py:689: SettingWithCopyWarning: \n",
      "A value is trying to be set on a copy of a slice from a DataFrame.\n",
      "Try using .loc[row_indexer,col_indexer] = value instead\n",
      "\n",
      "See the caveats in the documentation: http://pandas.pydata.org/pandas-docs/stable/indexing.html#indexing-view-versus-copy\n"
     ]
    },
    {
     "name": "stdout",
     "output_type": "stream",
     "text": [
      ">>>>>> buy list (1) : 2015-03-30 00:00:00\n",
      "만호제강(A001080) : 924\n",
      "\n",
      "\n",
      ">>>>>> enough periods (계룡건설산업 : A013580) - (13700 : -0.01) : 366 days 00:00:002015-04-01 00:00:00\n",
      ">>>>>> sell list (1) : 2015-04-01 00:00:00\n",
      "['A013580']\n",
      "\n",
      "\n"
     ]
    },
    {
     "name": "stderr",
     "output_type": "stream",
     "text": [
      "/Users/Shared/anaconda3/anaconda3/lib/python3.7/site-packages/ipykernel_launcher.py:689: SettingWithCopyWarning: \n",
      "A value is trying to be set on a copy of a slice from a DataFrame.\n",
      "Try using .loc[row_indexer,col_indexer] = value instead\n",
      "\n",
      "See the caveats in the documentation: http://pandas.pydata.org/pandas-docs/stable/indexing.html#indexing-view-versus-copy\n"
     ]
    },
    {
     "name": "stdout",
     "output_type": "stream",
     "text": [
      ">>>>>> buy list (1) : 2015-04-01 00:00:00\n",
      "대한방직(A001070) : 353\n",
      "\n",
      "\n",
      ">>>>>> enough periods (KISCO홀딩스 : A001940) - (11424 : 0.2) : 367 days 00:00:002015-04-06 00:00:00\n",
      ">>>>>> sell list (1) : 2015-04-06 00:00:00\n",
      "['A001940']\n",
      "\n",
      "\n"
     ]
    },
    {
     "name": "stderr",
     "output_type": "stream",
     "text": [
      "/Users/Shared/anaconda3/anaconda3/lib/python3.7/site-packages/ipykernel_launcher.py:689: SettingWithCopyWarning: \n",
      "A value is trying to be set on a copy of a slice from a DataFrame.\n",
      "Try using .loc[row_indexer,col_indexer] = value instead\n",
      "\n",
      "See the caveats in the documentation: http://pandas.pydata.org/pandas-docs/stable/indexing.html#indexing-view-versus-copy\n"
     ]
    },
    {
     "name": "stdout",
     "output_type": "stream",
     "text": [
      ">>>>>> buy list (1) : 2015-04-06 00:00:00\n",
      "케이에스피(A073010) : 5306\n",
      "\n",
      "\n",
      ">>>>>> enough periods (동부제철 : A016380) - (212039 : -0.62) : 367 days 00:00:002015-04-20 00:00:00\n",
      ">>>>>> sell list (1) : 2015-04-20 00:00:00\n",
      "['A016380']\n",
      "\n",
      "\n"
     ]
    },
    {
     "name": "stderr",
     "output_type": "stream",
     "text": [
      "/Users/Shared/anaconda3/anaconda3/lib/python3.7/site-packages/ipykernel_launcher.py:689: SettingWithCopyWarning: \n",
      "A value is trying to be set on a copy of a slice from a DataFrame.\n",
      "Try using .loc[row_indexer,col_indexer] = value instead\n",
      "\n",
      "See the caveats in the documentation: http://pandas.pydata.org/pandas-docs/stable/indexing.html#indexing-view-versus-copy\n"
     ]
    },
    {
     "name": "stdout",
     "output_type": "stream",
     "text": [
      ">>>>>> buy list (1) : 2015-04-20 00:00:00\n",
      "KISCO홀딩스(A001940) : 279\n",
      "\n",
      "\n",
      ">>>>>> enough profit (무림페이퍼 : A009200) - (3695 : 0.51) : 2015-04-27 00:00:00\n",
      ">>>>>> sell list (1) : 2015-04-27 00:00:00\n",
      "['A009200']\n",
      "\n",
      "\n"
     ]
    },
    {
     "name": "stderr",
     "output_type": "stream",
     "text": [
      "/Users/Shared/anaconda3/anaconda3/lib/python3.7/site-packages/ipykernel_launcher.py:689: SettingWithCopyWarning: \n",
      "A value is trying to be set on a copy of a slice from a DataFrame.\n",
      "Try using .loc[row_indexer,col_indexer] = value instead\n",
      "\n",
      "See the caveats in the documentation: http://pandas.pydata.org/pandas-docs/stable/indexing.html#indexing-view-versus-copy\n"
     ]
    },
    {
     "name": "stdout",
     "output_type": "stream",
     "text": [
      ">>>>>> buy list (1) : 2015-04-27 00:00:00\n",
      "코스모화학(A005420) : 8468\n",
      "\n",
      "\n",
      ">>>>>> enough profit (베뉴지 : A019010) - (1420 : 0.53) : 2015-05-08 00:00:00\n",
      ">>>>>> sell list (1) : 2015-05-08 00:00:00\n",
      "['A019010']\n",
      "\n",
      "\n"
     ]
    },
    {
     "name": "stderr",
     "output_type": "stream",
     "text": [
      "/Users/Shared/anaconda3/anaconda3/lib/python3.7/site-packages/ipykernel_launcher.py:689: SettingWithCopyWarning: \n",
      "A value is trying to be set on a copy of a slice from a DataFrame.\n",
      "Try using .loc[row_indexer,col_indexer] = value instead\n",
      "\n",
      "See the caveats in the documentation: http://pandas.pydata.org/pandas-docs/stable/indexing.html#indexing-view-versus-copy\n"
     ]
    },
    {
     "name": "stdout",
     "output_type": "stream",
     "text": [
      ">>>>>> buy list (1) : 2015-05-08 00:00:00\n",
      "무림페이퍼(A009200) : 8352\n",
      "\n",
      "\n",
      ">>>>>> enough profit (대한화섬 : A003830) - (116500 : 0.5) : 2015-05-13 00:00:00\n",
      ">>>>>> sell list (1) : 2015-05-13 00:00:00\n",
      "['A003830']\n",
      "\n",
      "\n"
     ]
    },
    {
     "name": "stderr",
     "output_type": "stream",
     "text": [
      "/Users/Shared/anaconda3/anaconda3/lib/python3.7/site-packages/ipykernel_launcher.py:689: SettingWithCopyWarning: \n",
      "A value is trying to be set on a copy of a slice from a DataFrame.\n",
      "Try using .loc[row_indexer,col_indexer] = value instead\n",
      "\n",
      "See the caveats in the documentation: http://pandas.pydata.org/pandas-docs/stable/indexing.html#indexing-view-versus-copy\n"
     ]
    },
    {
     "name": "stdout",
     "output_type": "stream",
     "text": [
      ">>>>>> buy list (1) : 2015-05-13 00:00:00\n",
      "무림SP(A001810) : 6827\n",
      "\n",
      "\n",
      ">>>>>> enough periods (선창산업 : A002820) - (13921 : 0.26) : 368 days 00:00:002015-06-01 00:00:00\n",
      ">>>>>> sell list (1) : 2015-06-01 00:00:00\n",
      "['A002820']\n",
      "\n",
      "\n"
     ]
    },
    {
     "name": "stderr",
     "output_type": "stream",
     "text": [
      "/Users/Shared/anaconda3/anaconda3/lib/python3.7/site-packages/ipykernel_launcher.py:689: SettingWithCopyWarning: \n",
      "A value is trying to be set on a copy of a slice from a DataFrame.\n",
      "Try using .loc[row_indexer,col_indexer] = value instead\n",
      "\n",
      "See the caveats in the documentation: http://pandas.pydata.org/pandas-docs/stable/indexing.html#indexing-view-versus-copy\n"
     ]
    },
    {
     "name": "stdout",
     "output_type": "stream",
     "text": [
      ">>>>>> buy list (1) : 2015-06-01 00:00:00\n",
      "대한화섬(A003830) : 67\n",
      "\n",
      "\n",
      ">>>>>> enough periods (세아홀딩스 : A058650) - (195000 : 0.31) : 366 days 00:00:002015-06-19 00:00:00\n",
      ">>>>>> sell list (1) : 2015-06-19 00:00:00\n",
      "['A058650']\n",
      "\n",
      "\n"
     ]
    },
    {
     "name": "stderr",
     "output_type": "stream",
     "text": [
      "/Users/Shared/anaconda3/anaconda3/lib/python3.7/site-packages/ipykernel_launcher.py:689: SettingWithCopyWarning: \n",
      "A value is trying to be set on a copy of a slice from a DataFrame.\n",
      "Try using .loc[row_indexer,col_indexer] = value instead\n",
      "\n",
      "See the caveats in the documentation: http://pandas.pydata.org/pandas-docs/stable/indexing.html#indexing-view-versus-copy\n"
     ]
    },
    {
     "name": "stdout",
     "output_type": "stream",
     "text": [
      ">>>>>> buy list (1) : 2015-06-19 00:00:00\n",
      "코오롱글로벌(A003070) : 1146\n",
      "\n",
      "\n",
      ">>>>>> enough profit (대한방직 : A001070) - (23800 : 0.51) : 2015-07-01 00:00:00\n",
      ">>>>>> sell list (1) : 2015-07-01 00:00:00\n",
      "['A001070']\n",
      "\n",
      "\n"
     ]
    },
    {
     "name": "stderr",
     "output_type": "stream",
     "text": [
      "/Users/Shared/anaconda3/anaconda3/lib/python3.7/site-packages/ipykernel_launcher.py:689: SettingWithCopyWarning: \n",
      "A value is trying to be set on a copy of a slice from a DataFrame.\n",
      "Try using .loc[row_indexer,col_indexer] = value instead\n",
      "\n",
      "See the caveats in the documentation: http://pandas.pydata.org/pandas-docs/stable/indexing.html#indexing-view-versus-copy\n"
     ]
    },
    {
     "name": "stdout",
     "output_type": "stream",
     "text": [
      ">>>>>> buy list (1) : 2015-07-01 00:00:00\n",
      "베뉴지(A019010) : 5786\n",
      "\n",
      "\n",
      ">>>>>> enough profit (무림페이퍼 : A009200) - (5270 : 0.53) : 2015-07-22 00:00:00\n",
      ">>>>>> sell list (1) : 2015-07-22 00:00:00\n",
      "['A009200']\n",
      "\n",
      "\n"
     ]
    },
    {
     "name": "stderr",
     "output_type": "stream",
     "text": [
      "/Users/Shared/anaconda3/anaconda3/lib/python3.7/site-packages/ipykernel_launcher.py:689: SettingWithCopyWarning: \n",
      "A value is trying to be set on a copy of a slice from a DataFrame.\n",
      "Try using .loc[row_indexer,col_indexer] = value instead\n",
      "\n",
      "See the caveats in the documentation: http://pandas.pydata.org/pandas-docs/stable/indexing.html#indexing-view-versus-copy\n"
     ]
    },
    {
     "name": "stdout",
     "output_type": "stream",
     "text": [
      ">>>>>> buy list (1) : 2015-07-22 00:00:00\n",
      "대한방직(A001070) : 1667\n",
      "\n",
      "\n",
      ">>>>>> enough profit (일성건설 : A013360) - (1140 : 0.88) : 2015-07-29 00:00:00\n",
      ">>>>>> sell list (1) : 2015-07-29 00:00:00\n",
      "['A013360']\n",
      "\n",
      "\n"
     ]
    },
    {
     "name": "stderr",
     "output_type": "stream",
     "text": [
      "/Users/Shared/anaconda3/anaconda3/lib/python3.7/site-packages/ipykernel_launcher.py:689: SettingWithCopyWarning: \n",
      "A value is trying to be set on a copy of a slice from a DataFrame.\n",
      "Try using .loc[row_indexer,col_indexer] = value instead\n",
      "\n",
      "See the caveats in the documentation: http://pandas.pydata.org/pandas-docs/stable/indexing.html#indexing-view-versus-copy\n"
     ]
    },
    {
     "name": "stdout",
     "output_type": "stream",
     "text": [
      ">>>>>> buy list (1) : 2015-07-29 00:00:00\n",
      "무림페이퍼(A009200) : 13090\n",
      "\n",
      "\n",
      ">>>>>> enough periods (한일철강 : A002220) - (2375 : 0.2) : 366 days 00:00:002015-08-07 00:00:00\n",
      ">>>>>> sell list (1) : 2015-08-07 00:00:00\n",
      "['A002220']\n",
      "\n",
      "\n"
     ]
    },
    {
     "name": "stderr",
     "output_type": "stream",
     "text": [
      "/Users/Shared/anaconda3/anaconda3/lib/python3.7/site-packages/ipykernel_launcher.py:689: SettingWithCopyWarning: \n",
      "A value is trying to be set on a copy of a slice from a DataFrame.\n",
      "Try using .loc[row_indexer,col_indexer] = value instead\n",
      "\n",
      "See the caveats in the documentation: http://pandas.pydata.org/pandas-docs/stable/indexing.html#indexing-view-versus-copy\n"
     ]
    },
    {
     "name": "stdout",
     "output_type": "stream",
     "text": [
      ">>>>>> buy list (1) : 2015-08-07 00:00:00\n",
      "한진중공업(A097230) : 119\n",
      "\n",
      "\n",
      ">>>>>> enough periods (전방 : A000950) - (49600.0 : 0.04) : 366 days 00:00:002015-08-21 00:00:00\n",
      ">>>>>> sell list (1) : 2015-08-21 00:00:00\n",
      "['A000950']\n",
      "\n",
      "\n"
     ]
    },
    {
     "name": "stderr",
     "output_type": "stream",
     "text": [
      "/Users/Shared/anaconda3/anaconda3/lib/python3.7/site-packages/ipykernel_launcher.py:689: SettingWithCopyWarning: \n",
      "A value is trying to be set on a copy of a slice from a DataFrame.\n",
      "Try using .loc[row_indexer,col_indexer] = value instead\n",
      "\n",
      "See the caveats in the documentation: http://pandas.pydata.org/pandas-docs/stable/indexing.html#indexing-view-versus-copy\n"
     ]
    },
    {
     "name": "stdout",
     "output_type": "stream",
     "text": [
      ">>>>>> buy list (1) : 2015-08-21 00:00:00\n",
      "한일철강(A002220) : 2541\n",
      "\n",
      "\n",
      ">>>>>> enough periods (한국전자홀딩스 : A006200) - (1150 : -0.08) : 368 days 00:00:002015-10-26 00:00:00\n",
      ">>>>>> sell list (1) : 2015-10-26 00:00:00\n",
      "['A006200']\n",
      "\n",
      "\n"
     ]
    },
    {
     "name": "stderr",
     "output_type": "stream",
     "text": [
      "/Users/Shared/anaconda3/anaconda3/lib/python3.7/site-packages/ipykernel_launcher.py:689: SettingWithCopyWarning: \n",
      "A value is trying to be set on a copy of a slice from a DataFrame.\n",
      "Try using .loc[row_indexer,col_indexer] = value instead\n",
      "\n",
      "See the caveats in the documentation: http://pandas.pydata.org/pandas-docs/stable/indexing.html#indexing-view-versus-copy\n"
     ]
    },
    {
     "name": "stdout",
     "output_type": "stream",
     "text": [
      ">>>>>> buy list (1) : 2015-10-26 00:00:00\n",
      "현우산업(A092300) : 4900\n",
      "\n",
      "\n",
      ">>>>>> enough periods (디아이동일 : A001530) - (58838 : -0.24) : 367 days 00:00:002015-11-16 00:00:00\n",
      ">>>>>> sell list (1) : 2015-11-16 00:00:00\n",
      "['A001530']\n",
      "\n",
      "\n"
     ]
    },
    {
     "name": "stderr",
     "output_type": "stream",
     "text": [
      "/Users/Shared/anaconda3/anaconda3/lib/python3.7/site-packages/ipykernel_launcher.py:689: SettingWithCopyWarning: \n",
      "A value is trying to be set on a copy of a slice from a DataFrame.\n",
      "Try using .loc[row_indexer,col_indexer] = value instead\n",
      "\n",
      "See the caveats in the documentation: http://pandas.pydata.org/pandas-docs/stable/indexing.html#indexing-view-versus-copy\n"
     ]
    },
    {
     "name": "stdout",
     "output_type": "stream",
     "text": [
      ">>>>>> buy list (1) : 2015-11-16 00:00:00\n",
      "한국전자홀딩스(A006200) : 4143\n",
      "\n",
      "\n",
      ">>>>>> enough periods (STX : A011810) - (39457 : -0.3) : 367 days 00:00:002016-01-25 00:00:00\n",
      ">>>>>> sell list (1) : 2016-01-25 00:00:00\n",
      "['A011810']\n",
      "\n",
      "\n"
     ]
    },
    {
     "name": "stderr",
     "output_type": "stream",
     "text": [
      "/Users/Shared/anaconda3/anaconda3/lib/python3.7/site-packages/ipykernel_launcher.py:689: SettingWithCopyWarning: \n",
      "A value is trying to be set on a copy of a slice from a DataFrame.\n",
      "Try using .loc[row_indexer,col_indexer] = value instead\n",
      "\n",
      "See the caveats in the documentation: http://pandas.pydata.org/pandas-docs/stable/indexing.html#indexing-view-versus-copy\n"
     ]
    },
    {
     "name": "stdout",
     "output_type": "stream",
     "text": [
      ">>>>>> buy list (1) : 2016-01-25 00:00:00\n",
      "디아이동일(A001530) : 196\n",
      "\n",
      "\n",
      ">>>>>> enough periods (동국제강 : A001230) - (5250 : -0.1) : 371 days 00:00:002016-02-11 00:00:00\n",
      ">>>>>> sell list (1) : 2016-02-11 00:00:00\n",
      "['A001230']\n",
      "\n",
      "\n"
     ]
    },
    {
     "name": "stderr",
     "output_type": "stream",
     "text": [
      "/Users/Shared/anaconda3/anaconda3/lib/python3.7/site-packages/ipykernel_launcher.py:689: SettingWithCopyWarning: \n",
      "A value is trying to be set on a copy of a slice from a DataFrame.\n",
      "Try using .loc[row_indexer,col_indexer] = value instead\n",
      "\n",
      "See the caveats in the documentation: http://pandas.pydata.org/pandas-docs/stable/indexing.html#indexing-view-versus-copy\n"
     ]
    },
    {
     "name": "stdout",
     "output_type": "stream",
     "text": [
      ">>>>>> buy list (1) : 2016-02-11 00:00:00\n",
      "휴스틸(A005010) : 39991\n",
      "\n",
      "\n",
      ">>>>>> enough periods (하이스틸 : A071090) - (18900 : -0.11) : 367 days 00:00:002016-03-07 00:00:00\n",
      ">>>>>> sell list (1) : 2016-03-07 00:00:00\n",
      "['A071090']\n",
      "\n",
      "\n"
     ]
    },
    {
     "name": "stderr",
     "output_type": "stream",
     "text": [
      "/Users/Shared/anaconda3/anaconda3/lib/python3.7/site-packages/ipykernel_launcher.py:689: SettingWithCopyWarning: \n",
      "A value is trying to be set on a copy of a slice from a DataFrame.\n",
      "Try using .loc[row_indexer,col_indexer] = value instead\n",
      "\n",
      "See the caveats in the documentation: http://pandas.pydata.org/pandas-docs/stable/indexing.html#indexing-view-versus-copy\n"
     ]
    },
    {
     "name": "stdout",
     "output_type": "stream",
     "text": [
      ">>>>>> buy list (1) : 2016-03-07 00:00:00\n",
      "동국제강(A001230) : 2134\n",
      "\n",
      "\n",
      ">>>>>> enough periods (TCC스틸 : A002710) - (2190 : -0.24) : 366 days 00:00:002016-03-10 00:00:00\n",
      ">>>>>> sell list (1) : 2016-03-10 00:00:00\n",
      "['A002710']\n",
      "\n",
      "\n"
     ]
    },
    {
     "name": "stderr",
     "output_type": "stream",
     "text": [
      "/Users/Shared/anaconda3/anaconda3/lib/python3.7/site-packages/ipykernel_launcher.py:689: SettingWithCopyWarning: \n",
      "A value is trying to be set on a copy of a slice from a DataFrame.\n",
      "Try using .loc[row_indexer,col_indexer] = value instead\n",
      "\n",
      "See the caveats in the documentation: http://pandas.pydata.org/pandas-docs/stable/indexing.html#indexing-view-versus-copy\n"
     ]
    },
    {
     "name": "stdout",
     "output_type": "stream",
     "text": [
      ">>>>>> buy list (1) : 2016-03-10 00:00:00\n",
      "세아제강지주(A003030) : 69\n",
      "\n",
      "\n",
      ">>>>>> enough periods (삼부토건 : A001470) - (9050 : -0.82) : 367 days 00:00:002016-03-21 00:00:00\n",
      ">>>>>> sell list (1) : 2016-03-21 00:00:00\n",
      "['A001470']\n",
      "\n",
      "\n"
     ]
    },
    {
     "name": "stderr",
     "output_type": "stream",
     "text": [
      "/Users/Shared/anaconda3/anaconda3/lib/python3.7/site-packages/ipykernel_launcher.py:689: SettingWithCopyWarning: \n",
      "A value is trying to be set on a copy of a slice from a DataFrame.\n",
      "Try using .loc[row_indexer,col_indexer] = value instead\n",
      "\n",
      "See the caveats in the documentation: http://pandas.pydata.org/pandas-docs/stable/indexing.html#indexing-view-versus-copy\n"
     ]
    },
    {
     "name": "stdout",
     "output_type": "stream",
     "text": [
      ">>>>>> buy list (1) : 2016-03-21 00:00:00\n",
      "두산건설(A011160) : 318\n",
      "\n",
      "\n",
      ">>>>>> enough periods (한진중공업홀딩스 : A003480) - (5730 : -0.21) : 367 days 00:00:002016-03-28 00:00:00\n",
      ">>>>>> sell list (1) : 2016-03-28 00:00:00\n",
      "['A003480']\n",
      "\n",
      "\n"
     ]
    },
    {
     "name": "stderr",
     "output_type": "stream",
     "text": [
      "/Users/Shared/anaconda3/anaconda3/lib/python3.7/site-packages/ipykernel_launcher.py:689: SettingWithCopyWarning: \n",
      "A value is trying to be set on a copy of a slice from a DataFrame.\n",
      "Try using .loc[row_indexer,col_indexer] = value instead\n",
      "\n",
      "See the caveats in the documentation: http://pandas.pydata.org/pandas-docs/stable/indexing.html#indexing-view-versus-copy\n"
     ]
    },
    {
     "name": "stdout",
     "output_type": "stream",
     "text": [
      ">>>>>> buy list (1) : 2016-03-28 00:00:00\n",
      "대동기어(A008830) : 4986\n",
      "\n",
      "\n",
      ">>>>>> enough periods (만호제강 : A001080) - (18700 : -0.22) : 366 days 00:00:002016-03-30 00:00:00\n",
      ">>>>>> sell list (1) : 2016-03-30 00:00:00\n",
      "['A001080']\n",
      "\n",
      "\n"
     ]
    },
    {
     "name": "stderr",
     "output_type": "stream",
     "text": [
      "/Users/Shared/anaconda3/anaconda3/lib/python3.7/site-packages/ipykernel_launcher.py:689: SettingWithCopyWarning: \n",
      "A value is trying to be set on a copy of a slice from a DataFrame.\n",
      "Try using .loc[row_indexer,col_indexer] = value instead\n",
      "\n",
      "See the caveats in the documentation: http://pandas.pydata.org/pandas-docs/stable/indexing.html#indexing-view-versus-copy\n"
     ]
    },
    {
     "name": "stdout",
     "output_type": "stream",
     "text": [
      ">>>>>> buy list (1) : 2016-03-30 00:00:00\n",
      "한진중공업홀딩스(A003480) : 3015\n",
      "\n",
      "\n",
      ">>>>>> enough periods (케이에스피 : A073010) - (2873 : -0.09) : 366 days 00:00:002016-04-06 00:00:00\n",
      ">>>>>> sell list (1) : 2016-04-06 00:00:00\n",
      "['A073010']\n",
      "\n",
      "\n"
     ]
    },
    {
     "name": "stderr",
     "output_type": "stream",
     "text": [
      "/Users/Shared/anaconda3/anaconda3/lib/python3.7/site-packages/ipykernel_launcher.py:689: SettingWithCopyWarning: \n",
      "A value is trying to be set on a copy of a slice from a DataFrame.\n",
      "Try using .loc[row_indexer,col_indexer] = value instead\n",
      "\n",
      "See the caveats in the documentation: http://pandas.pydata.org/pandas-docs/stable/indexing.html#indexing-view-versus-copy\n"
     ]
    },
    {
     "name": "stdout",
     "output_type": "stream",
     "text": [
      ">>>>>> buy list (1) : 2016-04-06 00:00:00\n",
      "한국특수형강(A007280) : 7437\n",
      "\n",
      "\n",
      ">>>>>> enough periods (KISCO홀딩스 : A001940) - (13508 : 0.18) : 366 days 00:00:002016-04-20 00:00:00\n",
      ">>>>>> sell list (1) : 2016-04-20 00:00:00\n",
      "['A001940']\n",
      "\n",
      "\n"
     ]
    },
    {
     "name": "stderr",
     "output_type": "stream",
     "text": [
      "/Users/Shared/anaconda3/anaconda3/lib/python3.7/site-packages/ipykernel_launcher.py:689: SettingWithCopyWarning: \n",
      "A value is trying to be set on a copy of a slice from a DataFrame.\n",
      "Try using .loc[row_indexer,col_indexer] = value instead\n",
      "\n",
      "See the caveats in the documentation: http://pandas.pydata.org/pandas-docs/stable/indexing.html#indexing-view-versus-copy\n"
     ]
    },
    {
     "name": "stdout",
     "output_type": "stream",
     "text": [
      ">>>>>> buy list (1) : 2016-04-20 00:00:00\n",
      "하이스틸(A071090) : 183\n",
      "\n",
      "\n",
      ">>>>>> enough periods (코스모화학 : A005420) - (4730 : -0.16) : 366 days 00:00:002016-04-27 00:00:00\n",
      ">>>>>> sell list (1) : 2016-04-27 00:00:00\n",
      "['A005420']\n",
      "\n",
      "\n"
     ]
    },
    {
     "name": "stderr",
     "output_type": "stream",
     "text": [
      "/Users/Shared/anaconda3/anaconda3/lib/python3.7/site-packages/ipykernel_launcher.py:689: SettingWithCopyWarning: \n",
      "A value is trying to be set on a copy of a slice from a DataFrame.\n",
      "Try using .loc[row_indexer,col_indexer] = value instead\n",
      "\n",
      "See the caveats in the documentation: http://pandas.pydata.org/pandas-docs/stable/indexing.html#indexing-view-versus-copy\n"
     ]
    },
    {
     "name": "stdout",
     "output_type": "stream",
     "text": [
      ">>>>>> buy list (1) : 2016-04-27 00:00:00\n",
      "계룡건설산업(A013580) : 3058\n",
      "\n",
      "\n",
      ">>>>>> enough periods (무림SP : A001810) - (3385 : -0.32) : 366 days 00:00:002016-05-13 00:00:00\n",
      ">>>>>> sell list (1) : 2016-05-13 00:00:00\n",
      "['A001810']\n",
      "\n",
      "\n"
     ]
    },
    {
     "name": "stderr",
     "output_type": "stream",
     "text": [
      "/Users/Shared/anaconda3/anaconda3/lib/python3.7/site-packages/ipykernel_launcher.py:689: SettingWithCopyWarning: \n",
      "A value is trying to be set on a copy of a slice from a DataFrame.\n",
      "Try using .loc[row_indexer,col_indexer] = value instead\n",
      "\n",
      "See the caveats in the documentation: http://pandas.pydata.org/pandas-docs/stable/indexing.html#indexing-view-versus-copy\n"
     ]
    },
    {
     "name": "stdout",
     "output_type": "stream",
     "text": [
      ">>>>>> buy list (1) : 2016-05-13 00:00:00\n",
      "KISCO홀딩스(A001940) : 1744\n",
      "\n",
      "\n",
      ">>>>>> enough periods (대한화섬 : A003830) - (103500 : -0.07) : 366 days 00:00:002016-06-01 00:00:00\n",
      ">>>>>> sell list (1) : 2016-06-01 00:00:00\n",
      "['A003830']\n",
      "\n",
      "\n"
     ]
    },
    {
     "name": "stderr",
     "output_type": "stream",
     "text": [
      "/Users/Shared/anaconda3/anaconda3/lib/python3.7/site-packages/ipykernel_launcher.py:689: SettingWithCopyWarning: \n",
      "A value is trying to be set on a copy of a slice from a DataFrame.\n",
      "Try using .loc[row_indexer,col_indexer] = value instead\n",
      "\n",
      "See the caveats in the documentation: http://pandas.pydata.org/pandas-docs/stable/indexing.html#indexing-view-versus-copy\n"
     ]
    },
    {
     "name": "stdout",
     "output_type": "stream",
     "text": [
      ">>>>>> buy list (1) : 2016-06-01 00:00:00\n",
      "가온전선(A000500) : 305\n",
      "\n",
      "\n",
      ">>>>>> enough periods (코오롱글로벌 : A003070) - (14950 : -0.3) : 367 days 00:00:002016-06-20 00:00:00\n",
      ">>>>>> sell list (1) : 2016-06-20 00:00:00\n",
      "['A003070']\n",
      "\n",
      "\n"
     ]
    },
    {
     "name": "stderr",
     "output_type": "stream",
     "text": [
      "/Users/Shared/anaconda3/anaconda3/lib/python3.7/site-packages/ipykernel_launcher.py:689: SettingWithCopyWarning: \n",
      "A value is trying to be set on a copy of a slice from a DataFrame.\n",
      "Try using .loc[row_indexer,col_indexer] = value instead\n",
      "\n",
      "See the caveats in the documentation: http://pandas.pydata.org/pandas-docs/stable/indexing.html#indexing-view-versus-copy\n"
     ]
    },
    {
     "name": "stdout",
     "output_type": "stream",
     "text": [
      ">>>>>> buy list (1) : 2016-06-20 00:00:00\n",
      "대한화섬(A003830) : 155\n",
      "\n",
      "\n",
      ">>>>>> enough periods (베뉴지 : A019010) - (1190 : -0.18) : 366 days 00:00:002016-07-01 00:00:00\n",
      ">>>>>> sell list (1) : 2016-07-01 00:00:00\n",
      "['A019010']\n",
      "\n",
      "\n"
     ]
    },
    {
     "name": "stderr",
     "output_type": "stream",
     "text": [
      "/Users/Shared/anaconda3/anaconda3/lib/python3.7/site-packages/ipykernel_launcher.py:689: SettingWithCopyWarning: \n",
      "A value is trying to be set on a copy of a slice from a DataFrame.\n",
      "Try using .loc[row_indexer,col_indexer] = value instead\n",
      "\n",
      "See the caveats in the documentation: http://pandas.pydata.org/pandas-docs/stable/indexing.html#indexing-view-versus-copy\n"
     ]
    },
    {
     "name": "stdout",
     "output_type": "stream",
     "text": [
      ">>>>>> buy list (1) : 2016-07-01 00:00:00\n",
      "삼천리(A004690) : 65\n",
      "\n",
      "\n",
      ">>>>>> enough profit (동국제강 : A001230) - (10200 : 0.6) : 2016-07-13 00:00:00\n",
      ">>>>>> sell list (1) : 2016-07-13 00:00:00\n",
      "['A001230']\n",
      "\n",
      "\n"
     ]
    },
    {
     "name": "stderr",
     "output_type": "stream",
     "text": [
      "/Users/Shared/anaconda3/anaconda3/lib/python3.7/site-packages/ipykernel_launcher.py:689: SettingWithCopyWarning: \n",
      "A value is trying to be set on a copy of a slice from a DataFrame.\n",
      "Try using .loc[row_indexer,col_indexer] = value instead\n",
      "\n",
      "See the caveats in the documentation: http://pandas.pydata.org/pandas-docs/stable/indexing.html#indexing-view-versus-copy\n"
     ]
    },
    {
     "name": "stdout",
     "output_type": "stream",
     "text": [
      ">>>>>> buy list (1) : 2016-07-13 00:00:00\n",
      "베뉴지(A019010) : 18835\n",
      "\n",
      "\n",
      ">>>>>> enough periods (대한방직 : A001070) - (12360 : -0.53) : 366 days 00:00:002016-07-22 00:00:00\n",
      ">>>>>> sell list (1) : 2016-07-22 00:00:00\n",
      "['A001070']\n",
      "\n",
      "\n"
     ]
    },
    {
     "name": "stderr",
     "output_type": "stream",
     "text": [
      "/Users/Shared/anaconda3/anaconda3/lib/python3.7/site-packages/ipykernel_launcher.py:689: SettingWithCopyWarning: \n",
      "A value is trying to be set on a copy of a slice from a DataFrame.\n",
      "Try using .loc[row_indexer,col_indexer] = value instead\n",
      "\n",
      "See the caveats in the documentation: http://pandas.pydata.org/pandas-docs/stable/indexing.html#indexing-view-versus-copy\n"
     ]
    },
    {
     "name": "stdout",
     "output_type": "stream",
     "text": [
      ">>>>>> buy list (1) : 2016-07-22 00:00:00\n",
      "동국제강(A001230) : 2210\n",
      "\n",
      "\n",
      ">>>>>> enough periods (무림페이퍼 : A009200) - (3110 : -0.32) : 366 days 00:00:002016-07-29 00:00:00\n",
      ">>>>>> sell list (1) : 2016-07-29 00:00:00\n",
      "['A009200']\n",
      "\n",
      "\n"
     ]
    },
    {
     "name": "stderr",
     "output_type": "stream",
     "text": [
      "/Users/Shared/anaconda3/anaconda3/lib/python3.7/site-packages/ipykernel_launcher.py:689: SettingWithCopyWarning: \n",
      "A value is trying to be set on a copy of a slice from a DataFrame.\n",
      "Try using .loc[row_indexer,col_indexer] = value instead\n",
      "\n",
      "See the caveats in the documentation: http://pandas.pydata.org/pandas-docs/stable/indexing.html#indexing-view-versus-copy\n"
     ]
    },
    {
     "name": "stdout",
     "output_type": "stream",
     "text": [
      ">>>>>> buy list (1) : 2016-07-29 00:00:00\n",
      "한국가스공사(A036460) : 962\n",
      "\n",
      "\n",
      ">>>>>> enough periods (한진중공업 : A097230) - (51830.0 : 0.04) : 367 days 00:00:002016-08-08 00:00:00\n",
      ">>>>>> sell list (1) : 2016-08-08 00:00:00\n",
      "['A097230']\n",
      "\n",
      "\n"
     ]
    },
    {
     "name": "stderr",
     "output_type": "stream",
     "text": [
      "/Users/Shared/anaconda3/anaconda3/lib/python3.7/site-packages/ipykernel_launcher.py:689: SettingWithCopyWarning: \n",
      "A value is trying to be set on a copy of a slice from a DataFrame.\n",
      "Try using .loc[row_indexer,col_indexer] = value instead\n",
      "\n",
      "See the caveats in the documentation: http://pandas.pydata.org/pandas-docs/stable/indexing.html#indexing-view-versus-copy\n"
     ]
    },
    {
     "name": "stdout",
     "output_type": "stream",
     "text": [
      ">>>>>> buy list (1) : 2016-08-08 00:00:00\n",
      "무림페이퍼(A009200) : 2078\n",
      "\n",
      "\n",
      ">>>>>> enough periods (한일철강 : A002220) - (2370 : 0.14) : 367 days 00:00:002016-08-22 00:00:00\n",
      ">>>>>> sell list (1) : 2016-08-22 00:00:00\n",
      "['A002220']\n",
      "\n",
      "\n"
     ]
    },
    {
     "name": "stderr",
     "output_type": "stream",
     "text": [
      "/Users/Shared/anaconda3/anaconda3/lib/python3.7/site-packages/ipykernel_launcher.py:689: SettingWithCopyWarning: \n",
      "A value is trying to be set on a copy of a slice from a DataFrame.\n",
      "Try using .loc[row_indexer,col_indexer] = value instead\n",
      "\n",
      "See the caveats in the documentation: http://pandas.pydata.org/pandas-docs/stable/indexing.html#indexing-view-versus-copy\n"
     ]
    },
    {
     "name": "stdout",
     "output_type": "stream",
     "text": [
      ">>>>>> buy list (1) : 2016-08-22 00:00:00\n",
      "한진중공업(A097230) : 124\n",
      "\n",
      "\n",
      ">>>>>> enough profit (현우산업 : A092300) - (3590.0 : 0.69) : 2016-09-30 00:00:00\n",
      ">>>>>> sell list (1) : 2016-09-30 00:00:00\n",
      "['A092300']\n",
      "\n",
      "\n"
     ]
    },
    {
     "name": "stderr",
     "output_type": "stream",
     "text": [
      "/Users/Shared/anaconda3/anaconda3/lib/python3.7/site-packages/ipykernel_launcher.py:689: SettingWithCopyWarning: \n",
      "A value is trying to be set on a copy of a slice from a DataFrame.\n",
      "Try using .loc[row_indexer,col_indexer] = value instead\n",
      "\n",
      "See the caveats in the documentation: http://pandas.pydata.org/pandas-docs/stable/indexing.html#indexing-view-versus-copy\n"
     ]
    },
    {
     "name": "stdout",
     "output_type": "stream",
     "text": [
      ">>>>>> buy list (1) : 2016-09-30 00:00:00\n",
      "한일철강(A002220) : 7534\n",
      "\n",
      "\n",
      ">>>>>> enough periods (한국전자홀딩스 : A006200) - (944 : -0.04) : 366 days 00:00:002016-11-16 00:00:00\n",
      ">>>>>> sell list (1) : 2016-11-16 00:00:00\n",
      "['A006200']\n",
      "\n",
      "\n"
     ]
    },
    {
     "name": "stderr",
     "output_type": "stream",
     "text": [
      "/Users/Shared/anaconda3/anaconda3/lib/python3.7/site-packages/ipykernel_launcher.py:689: SettingWithCopyWarning: \n",
      "A value is trying to be set on a copy of a slice from a DataFrame.\n",
      "Try using .loc[row_indexer,col_indexer] = value instead\n",
      "\n",
      "See the caveats in the documentation: http://pandas.pydata.org/pandas-docs/stable/indexing.html#indexing-view-versus-copy\n"
     ]
    },
    {
     "name": "stdout",
     "output_type": "stream",
     "text": [
      ">>>>>> buy list (1) : 2016-11-16 00:00:00\n",
      "세아홀딩스(A058650) : 32\n",
      "\n",
      "\n",
      ">>>>>> enough profit (한국특수형강 : A007280) - (3165 : 0.54) : 2017-01-06 00:00:00\n",
      ">>>>>> sell list (1) : 2017-01-06 00:00:00\n",
      "['A007280']\n",
      "\n",
      "\n"
     ]
    },
    {
     "name": "stderr",
     "output_type": "stream",
     "text": [
      "/Users/Shared/anaconda3/anaconda3/lib/python3.7/site-packages/ipykernel_launcher.py:689: SettingWithCopyWarning: \n",
      "A value is trying to be set on a copy of a slice from a DataFrame.\n",
      "Try using .loc[row_indexer,col_indexer] = value instead\n",
      "\n",
      "See the caveats in the documentation: http://pandas.pydata.org/pandas-docs/stable/indexing.html#indexing-view-versus-copy\n"
     ]
    },
    {
     "name": "stdout",
     "output_type": "stream",
     "text": [
      ">>>>>> buy list (1) : 2017-01-06 00:00:00\n",
      "삼부토건(A001470) : 20090\n",
      "\n",
      "\n",
      ">>>>>> enough profit (세아제강지주 : A003030) - (87387 : 0.55) : 2017-01-11 00:00:00\n",
      ">>>>>> sell list (1) : 2017-01-11 00:00:00\n",
      "['A003030']\n",
      "\n",
      "\n"
     ]
    },
    {
     "name": "stderr",
     "output_type": "stream",
     "text": [
      "/Users/Shared/anaconda3/anaconda3/lib/python3.7/site-packages/ipykernel_launcher.py:689: SettingWithCopyWarning: \n",
      "A value is trying to be set on a copy of a slice from a DataFrame.\n",
      "Try using .loc[row_indexer,col_indexer] = value instead\n",
      "\n",
      "See the caveats in the documentation: http://pandas.pydata.org/pandas-docs/stable/indexing.html#indexing-view-versus-copy\n"
     ]
    },
    {
     "name": "stdout",
     "output_type": "stream",
     "text": [
      ">>>>>> buy list (1) : 2017-01-11 00:00:00\n",
      "전방(A000950) : 233\n",
      "\n",
      "\n",
      ">>>>>> enough periods (디아이동일 : A001530) - (57340 : 0.0) : 366 days 00:00:002017-01-25 00:00:00\n",
      ">>>>>> sell list (1) : 2017-01-25 00:00:00\n",
      "['A001530']\n",
      "\n",
      "\n"
     ]
    },
    {
     "name": "stderr",
     "output_type": "stream",
     "text": [
      "/Users/Shared/anaconda3/anaconda3/lib/python3.7/site-packages/ipykernel_launcher.py:689: SettingWithCopyWarning: \n",
      "A value is trying to be set on a copy of a slice from a DataFrame.\n",
      "Try using .loc[row_indexer,col_indexer] = value instead\n",
      "\n",
      "See the caveats in the documentation: http://pandas.pydata.org/pandas-docs/stable/indexing.html#indexing-view-versus-copy\n"
     ]
    },
    {
     "name": "stdout",
     "output_type": "stream",
     "text": [
      ">>>>>> buy list (1) : 2017-01-25 00:00:00\n",
      "대우조선해양(A042660) : 502\n",
      "\n",
      "\n",
      ">>>>>> enough periods (휴스틸 : A005010) - (15800 : 0.12) : 368 days 00:00:002017-02-13 00:00:00\n",
      ">>>>>> sell list (1) : 2017-02-13 00:00:00\n",
      "['A005010']\n",
      "\n",
      "\n"
     ]
    },
    {
     "name": "stderr",
     "output_type": "stream",
     "text": [
      "/Users/Shared/anaconda3/anaconda3/lib/python3.7/site-packages/ipykernel_launcher.py:689: SettingWithCopyWarning: \n",
      "A value is trying to be set on a copy of a slice from a DataFrame.\n",
      "Try using .loc[row_indexer,col_indexer] = value instead\n",
      "\n",
      "See the caveats in the documentation: http://pandas.pydata.org/pandas-docs/stable/indexing.html#indexing-view-versus-copy\n"
     ]
    },
    {
     "name": "stdout",
     "output_type": "stream",
     "text": [
      ">>>>>> buy list (1) : 2017-02-13 00:00:00\n",
      "디아이동일(A001530) : 11000\n",
      "\n",
      "\n",
      ">>>>>> enough periods (두산건설 : A011160) - (3144 : -0.19) : 366 days 00:00:002017-03-22 00:00:00\n",
      ">>>>>> sell list (1) : 2017-03-22 00:00:00\n",
      "['A011160']\n",
      "\n",
      "\n"
     ]
    },
    {
     "name": "stderr",
     "output_type": "stream",
     "text": [
      "/Users/Shared/anaconda3/anaconda3/lib/python3.7/site-packages/ipykernel_launcher.py:689: SettingWithCopyWarning: \n",
      "A value is trying to be set on a copy of a slice from a DataFrame.\n",
      "Try using .loc[row_indexer,col_indexer] = value instead\n",
      "\n",
      "See the caveats in the documentation: http://pandas.pydata.org/pandas-docs/stable/indexing.html#indexing-view-versus-copy\n"
     ]
    },
    {
     "name": "stdout",
     "output_type": "stream",
     "text": [
      ">>>>>> buy list (1) : 2017-03-22 00:00:00\n",
      "휴스틸(A005010) : 64\n",
      "\n",
      "\n",
      ">>>>>> enough periods (대동기어 : A008830) - (2550 : 0.02) : 366 days 00:00:002017-03-29 00:00:00\n",
      ">>>>>> sell list (1) : 2017-03-29 00:00:00\n",
      "['A008830']\n",
      "\n",
      "\n"
     ]
    },
    {
     "name": "stderr",
     "output_type": "stream",
     "text": [
      "/Users/Shared/anaconda3/anaconda3/lib/python3.7/site-packages/ipykernel_launcher.py:689: SettingWithCopyWarning: \n",
      "A value is trying to be set on a copy of a slice from a DataFrame.\n",
      "Try using .loc[row_indexer,col_indexer] = value instead\n",
      "\n",
      "See the caveats in the documentation: http://pandas.pydata.org/pandas-docs/stable/indexing.html#indexing-view-versus-copy\n"
     ]
    },
    {
     "name": "stdout",
     "output_type": "stream",
     "text": [
      ">>>>>> buy list (1) : 2017-03-29 00:00:00\n",
      "두산건설(A011160) : 3987\n",
      "\n",
      "\n",
      ">>>>>> enough periods (한진중공업홀딩스 : A003480) - (5690 : -0.01) : 366 days 00:00:002017-03-31 00:00:00\n",
      ">>>>>> sell list (1) : 2017-03-31 00:00:00\n",
      "['A003480']\n",
      "\n",
      "\n"
     ]
    },
    {
     "name": "stderr",
     "output_type": "stream",
     "text": [
      "/Users/Shared/anaconda3/anaconda3/lib/python3.7/site-packages/ipykernel_launcher.py:689: SettingWithCopyWarning: \n",
      "A value is trying to be set on a copy of a slice from a DataFrame.\n",
      "Try using .loc[row_indexer,col_indexer] = value instead\n",
      "\n",
      "See the caveats in the documentation: http://pandas.pydata.org/pandas-docs/stable/indexing.html#indexing-view-versus-copy\n"
     ]
    },
    {
     "name": "stdout",
     "output_type": "stream",
     "text": [
      ">>>>>> buy list (1) : 2017-03-31 00:00:00\n",
      "만호제강(A001080) : 882\n",
      "\n",
      "\n",
      ">>>>>> enough profit (삼부토건 : A001470) - (2000 : 0.71) : 2017-04-17 00:00:00\n",
      ">>>>>> sell list (1) : 2017-04-17 00:00:00\n",
      "['A001470']\n",
      "\n",
      "\n"
     ]
    },
    {
     "name": "stderr",
     "output_type": "stream",
     "text": [
      "/Users/Shared/anaconda3/anaconda3/lib/python3.7/site-packages/ipykernel_launcher.py:689: SettingWithCopyWarning: \n",
      "A value is trying to be set on a copy of a slice from a DataFrame.\n",
      "Try using .loc[row_indexer,col_indexer] = value instead\n",
      "\n",
      "See the caveats in the documentation: http://pandas.pydata.org/pandas-docs/stable/indexing.html#indexing-view-versus-copy\n"
     ]
    },
    {
     "name": "stdout",
     "output_type": "stream",
     "text": [
      ">>>>>> buy list (1) : 2017-04-17 00:00:00\n",
      "한진중공업홀딩스(A003480) : 7802\n",
      "\n",
      "\n",
      ">>>>>> enough periods (하이스틸 : A071090) - (23350 : 0.14) : 366 days 00:00:002017-04-21 00:00:00\n",
      ">>>>>> sell list (1) : 2017-04-21 00:00:00\n",
      "['A071090']\n",
      "\n",
      "\n"
     ]
    },
    {
     "name": "stderr",
     "output_type": "stream",
     "text": [
      "/Users/Shared/anaconda3/anaconda3/lib/python3.7/site-packages/ipykernel_launcher.py:689: SettingWithCopyWarning: \n",
      "A value is trying to be set on a copy of a slice from a DataFrame.\n",
      "Try using .loc[row_indexer,col_indexer] = value instead\n",
      "\n",
      "See the caveats in the documentation: http://pandas.pydata.org/pandas-docs/stable/indexing.html#indexing-view-versus-copy\n"
     ]
    },
    {
     "name": "stdout",
     "output_type": "stream",
     "text": [
      ">>>>>> buy list (1) : 2017-04-21 00:00:00\n",
      "삼부토건(A001470) : 1443\n",
      "\n",
      "\n",
      ">>>>>> enough periods (계룡건설산업 : A013580) - (17600 : 0.34) : 366 days 00:00:002017-04-28 00:00:00\n",
      ">>>>>> sell list (1) : 2017-04-28 00:00:00\n",
      "['A013580']\n",
      "\n",
      "\n"
     ]
    },
    {
     "name": "stderr",
     "output_type": "stream",
     "text": [
      "/Users/Shared/anaconda3/anaconda3/lib/python3.7/site-packages/ipykernel_launcher.py:689: SettingWithCopyWarning: \n",
      "A value is trying to be set on a copy of a slice from a DataFrame.\n",
      "Try using .loc[row_indexer,col_indexer] = value instead\n",
      "\n",
      "See the caveats in the documentation: http://pandas.pydata.org/pandas-docs/stable/indexing.html#indexing-view-versus-copy\n"
     ]
    },
    {
     "name": "stdout",
     "output_type": "stream",
     "text": [
      ">>>>>> buy list (1) : 2017-04-28 00:00:00\n",
      "포스링크(A056730) : 18779\n",
      "\n",
      "\n",
      ">>>>>> enough periods (KISCO홀딩스 : A001940) - (12887 : -0.03) : 367 days 00:00:002017-05-15 00:00:00\n",
      ">>>>>> sell list (1) : 2017-05-15 00:00:00\n",
      "['A001940']\n",
      "\n",
      "\n"
     ]
    },
    {
     "name": "stderr",
     "output_type": "stream",
     "text": [
      "/Users/Shared/anaconda3/anaconda3/lib/python3.7/site-packages/ipykernel_launcher.py:689: SettingWithCopyWarning: \n",
      "A value is trying to be set on a copy of a slice from a DataFrame.\n",
      "Try using .loc[row_indexer,col_indexer] = value instead\n",
      "\n",
      "See the caveats in the documentation: http://pandas.pydata.org/pandas-docs/stable/indexing.html#indexing-view-versus-copy\n"
     ]
    },
    {
     "name": "stdout",
     "output_type": "stream",
     "text": [
      ">>>>>> buy list (1) : 2017-05-15 00:00:00\n",
      "한국제지(A002300) : 779\n",
      "\n",
      "\n",
      ">>>>>> enough periods (가온전선 : A000500) - (24850 : 0.09) : 366 days 00:00:002017-06-02 00:00:00\n",
      ">>>>>> sell list (1) : 2017-06-02 00:00:00\n",
      "['A000500']\n",
      "\n",
      "\n"
     ]
    },
    {
     "name": "stderr",
     "output_type": "stream",
     "text": [
      "/Users/Shared/anaconda3/anaconda3/lib/python3.7/site-packages/ipykernel_launcher.py:689: SettingWithCopyWarning: \n",
      "A value is trying to be set on a copy of a slice from a DataFrame.\n",
      "Try using .loc[row_indexer,col_indexer] = value instead\n",
      "\n",
      "See the caveats in the documentation: http://pandas.pydata.org/pandas-docs/stable/indexing.html#indexing-view-versus-copy\n"
     ]
    },
    {
     "name": "stdout",
     "output_type": "stream",
     "text": [
      ">>>>>> buy list (1) : 2017-06-02 00:00:00\n",
      "KISCO홀딩스(A001940) : 535\n",
      "\n",
      "\n",
      ">>>>>> enough periods (대한화섬 : A003830) - (120000 : 0.09) : 366 days 00:00:002017-06-21 00:00:00\n",
      ">>>>>> sell list (1) : 2017-06-21 00:00:00\n",
      "['A003830']\n",
      "\n",
      "\n"
     ]
    },
    {
     "name": "stderr",
     "output_type": "stream",
     "text": [
      "/Users/Shared/anaconda3/anaconda3/lib/python3.7/site-packages/ipykernel_launcher.py:689: SettingWithCopyWarning: \n",
      "A value is trying to be set on a copy of a slice from a DataFrame.\n",
      "Try using .loc[row_indexer,col_indexer] = value instead\n",
      "\n",
      "See the caveats in the documentation: http://pandas.pydata.org/pandas-docs/stable/indexing.html#indexing-view-versus-copy\n"
     ]
    },
    {
     "name": "stdout",
     "output_type": "stream",
     "text": [
      ">>>>>> buy list (1) : 2017-06-21 00:00:00\n",
      "한국수출포장공업(A002200) : 1078\n",
      "\n",
      "\n",
      ">>>>>> enough profit (동국제강 : A001230) - (14650 : 0.57) : 2017-06-28 00:00:00\n",
      ">>>>>> sell list (1) : 2017-06-28 00:00:00\n",
      "['A001230']\n",
      "\n",
      "\n"
     ]
    },
    {
     "name": "stderr",
     "output_type": "stream",
     "text": [
      "/Users/Shared/anaconda3/anaconda3/lib/python3.7/site-packages/ipykernel_launcher.py:689: SettingWithCopyWarning: \n",
      "A value is trying to be set on a copy of a slice from a DataFrame.\n",
      "Try using .loc[row_indexer,col_indexer] = value instead\n",
      "\n",
      "See the caveats in the documentation: http://pandas.pydata.org/pandas-docs/stable/indexing.html#indexing-view-versus-copy\n"
     ]
    },
    {
     "name": "stdout",
     "output_type": "stream",
     "text": [
      ">>>>>> buy list (1) : 2017-06-28 00:00:00\n",
      "하이스틸(A071090) : 1338\n",
      "\n",
      "\n",
      ">>>>>> enough periods (삼천리 : A004690) - (121000 : 0.14) : 367 days 00:00:002017-07-03 00:00:00\n",
      ">>>>>> sell list (1) : 2017-07-03 00:00:00\n",
      "['A004690']\n",
      "\n",
      "\n"
     ]
    },
    {
     "name": "stderr",
     "output_type": "stream",
     "text": [
      "/Users/Shared/anaconda3/anaconda3/lib/python3.7/site-packages/ipykernel_launcher.py:689: SettingWithCopyWarning: \n",
      "A value is trying to be set on a copy of a slice from a DataFrame.\n",
      "Try using .loc[row_indexer,col_indexer] = value instead\n",
      "\n",
      "See the caveats in the documentation: http://pandas.pydata.org/pandas-docs/stable/indexing.html#indexing-view-versus-copy\n"
     ]
    },
    {
     "name": "stdout",
     "output_type": "stream",
     "text": [
      ">>>>>> buy list (1) : 2017-07-03 00:00:00\n",
      "KBI메탈(A024840) : 3159\n",
      "\n",
      "\n",
      ">>>>>> enough periods (베뉴지 : A019010) - (1385 : 0.19) : 366 days 00:00:002017-07-14 00:00:00\n",
      ">>>>>> sell list (1) : 2017-07-14 00:00:00\n",
      "['A019010']\n",
      "\n",
      "\n"
     ]
    },
    {
     "name": "stderr",
     "output_type": "stream",
     "text": [
      "/Users/Shared/anaconda3/anaconda3/lib/python3.7/site-packages/ipykernel_launcher.py:689: SettingWithCopyWarning: \n",
      "A value is trying to be set on a copy of a slice from a DataFrame.\n",
      "Try using .loc[row_indexer,col_indexer] = value instead\n",
      "\n",
      "See the caveats in the documentation: http://pandas.pydata.org/pandas-docs/stable/indexing.html#indexing-view-versus-copy\n"
     ]
    },
    {
     "name": "stdout",
     "output_type": "stream",
     "text": [
      ">>>>>> buy list (1) : 2017-07-14 00:00:00\n",
      "삼천리(A004690) : 226\n",
      "\n",
      "\n",
      ">>>>>> enough periods (한국가스공사 : A036460) - (50200 : 0.19) : 367 days 00:00:002017-07-31 00:00:00\n",
      ">>>>>> sell list (1) : 2017-07-31 00:00:00\n",
      "['A036460']\n",
      "\n",
      "\n"
     ]
    },
    {
     "name": "stderr",
     "output_type": "stream",
     "text": [
      "/Users/Shared/anaconda3/anaconda3/lib/python3.7/site-packages/ipykernel_launcher.py:689: SettingWithCopyWarning: \n",
      "A value is trying to be set on a copy of a slice from a DataFrame.\n",
      "Try using .loc[row_indexer,col_indexer] = value instead\n",
      "\n",
      "See the caveats in the documentation: http://pandas.pydata.org/pandas-docs/stable/indexing.html#indexing-view-versus-copy\n"
     ]
    },
    {
     "name": "stdout",
     "output_type": "stream",
     "text": [
      ">>>>>> buy list (1) : 2017-07-31 00:00:00\n",
      "베뉴지(A019010) : 36248\n",
      "\n",
      "\n",
      ">>>>>> enough periods (무림페이퍼 : A009200) - (2660 : -0.11) : 366 days 00:00:002017-08-09 00:00:00\n",
      ">>>>>> sell list (1) : 2017-08-09 00:00:00\n",
      "['A009200']\n",
      "\n",
      "\n"
     ]
    },
    {
     "name": "stderr",
     "output_type": "stream",
     "text": [
      "/Users/Shared/anaconda3/anaconda3/lib/python3.7/site-packages/ipykernel_launcher.py:689: SettingWithCopyWarning: \n",
      "A value is trying to be set on a copy of a slice from a DataFrame.\n",
      "Try using .loc[row_indexer,col_indexer] = value instead\n",
      "\n",
      "See the caveats in the documentation: http://pandas.pydata.org/pandas-docs/stable/indexing.html#indexing-view-versus-copy\n"
     ]
    },
    {
     "name": "stdout",
     "output_type": "stream",
     "text": [
      ">>>>>> buy list (1) : 2017-08-09 00:00:00\n",
      "아세아(A002030) : 48\n",
      "\n",
      "\n",
      ">>>>>> enough periods (한진중공업 : A097230) - (49929.0 : 0.03) : 366 days 00:00:002017-08-23 00:00:00\n",
      ">>>>>> sell list (1) : 2017-08-23 00:00:00\n",
      "['A097230']\n",
      "\n",
      "\n"
     ]
    },
    {
     "name": "stderr",
     "output_type": "stream",
     "text": [
      "/Users/Shared/anaconda3/anaconda3/lib/python3.7/site-packages/ipykernel_launcher.py:689: SettingWithCopyWarning: \n",
      "A value is trying to be set on a copy of a slice from a DataFrame.\n",
      "Try using .loc[row_indexer,col_indexer] = value instead\n",
      "\n",
      "See the caveats in the documentation: http://pandas.pydata.org/pandas-docs/stable/indexing.html#indexing-view-versus-copy\n"
     ]
    },
    {
     "name": "stdout",
     "output_type": "stream",
     "text": [
      ">>>>>> buy list (1) : 2017-08-23 00:00:00\n",
      "무림페이퍼(A009200) : 2421\n",
      "\n",
      "\n",
      ">>>>>> enough periods (한일철강 : A002220) - (2455 : 0.05) : 375 days 00:00:002017-10-10 00:00:00\n",
      ">>>>>> sell list (1) : 2017-10-10 00:00:00\n",
      "['A002220']\n",
      "\n",
      "\n"
     ]
    },
    {
     "name": "stderr",
     "output_type": "stream",
     "text": [
      "/Users/Shared/anaconda3/anaconda3/lib/python3.7/site-packages/ipykernel_launcher.py:689: SettingWithCopyWarning: \n",
      "A value is trying to be set on a copy of a slice from a DataFrame.\n",
      "Try using .loc[row_indexer,col_indexer] = value instead\n",
      "\n",
      "See the caveats in the documentation: http://pandas.pydata.org/pandas-docs/stable/indexing.html#indexing-view-versus-copy\n"
     ]
    },
    {
     "name": "stdout",
     "output_type": "stream",
     "text": [
      ">>>>>> buy list (1) : 2017-10-10 00:00:00\n",
      "대한화섬(A003830) : 162\n",
      "\n",
      "\n",
      ">>>>>> enough periods (세아홀딩스 : A058650) - (159000 : 0.3) : 366 days 00:00:002017-11-17 00:00:00\n",
      ">>>>>> sell list (1) : 2017-11-17 00:00:00\n",
      "['A058650']\n",
      "\n",
      "\n"
     ]
    },
    {
     "name": "stderr",
     "output_type": "stream",
     "text": [
      "/Users/Shared/anaconda3/anaconda3/lib/python3.7/site-packages/ipykernel_launcher.py:689: SettingWithCopyWarning: \n",
      "A value is trying to be set on a copy of a slice from a DataFrame.\n",
      "Try using .loc[row_indexer,col_indexer] = value instead\n",
      "\n",
      "See the caveats in the documentation: http://pandas.pydata.org/pandas-docs/stable/indexing.html#indexing-view-versus-copy\n"
     ]
    },
    {
     "name": "stdout",
     "output_type": "stream",
     "text": [
      ">>>>>> buy list (1) : 2017-11-17 00:00:00\n",
      "한일철강(A002220) : 1837\n",
      "\n",
      "\n",
      ">>>>>> enough periods (전방 : A000950) - (18900.0 : -0.27) : 366 days 00:00:002018-01-12 00:00:00\n",
      ">>>>>> sell list (1) : 2018-01-12 00:00:00\n",
      "['A000950']\n",
      "\n",
      "\n"
     ]
    },
    {
     "name": "stderr",
     "output_type": "stream",
     "text": [
      "/Users/Shared/anaconda3/anaconda3/lib/python3.7/site-packages/ipykernel_launcher.py:689: SettingWithCopyWarning: \n",
      "A value is trying to be set on a copy of a slice from a DataFrame.\n",
      "Try using .loc[row_indexer,col_indexer] = value instead\n",
      "\n",
      "See the caveats in the documentation: http://pandas.pydata.org/pandas-docs/stable/indexing.html#indexing-view-versus-copy\n"
     ]
    },
    {
     "name": "stdout",
     "output_type": "stream",
     "text": [
      ">>>>>> buy list (1) : 2018-01-12 00:00:00\n",
      "경동인베스트(A012320) : 107\n",
      "\n",
      "\n",
      ">>>>>> enough periods (대우조선해양 : A042660) - (21650 : -0.03) : 366 days 00:00:002018-01-26 00:00:00\n",
      ">>>>>> sell list (1) : 2018-01-26 00:00:00\n",
      "['A042660']\n",
      "\n",
      "\n"
     ]
    },
    {
     "name": "stderr",
     "output_type": "stream",
     "text": [
      "/Users/Shared/anaconda3/anaconda3/lib/python3.7/site-packages/ipykernel_launcher.py:689: SettingWithCopyWarning: \n",
      "A value is trying to be set on a copy of a slice from a DataFrame.\n",
      "Try using .loc[row_indexer,col_indexer] = value instead\n",
      "\n",
      "See the caveats in the documentation: http://pandas.pydata.org/pandas-docs/stable/indexing.html#indexing-view-versus-copy\n"
     ]
    },
    {
     "name": "stdout",
     "output_type": "stream",
     "text": [
      ">>>>>> buy list (1) : 2018-01-26 00:00:00\n",
      "전방(A000950) : 547\n",
      "\n",
      "\n",
      ">>>>>> enough periods (디아이동일 : A001530) - (51320 : -0.11) : 366 days 00:00:002018-02-14 00:00:00\n",
      ">>>>>> sell list (1) : 2018-02-14 00:00:00\n",
      "['A001530']\n",
      "\n",
      "\n"
     ]
    },
    {
     "name": "stderr",
     "output_type": "stream",
     "text": [
      "/Users/Shared/anaconda3/anaconda3/lib/python3.7/site-packages/ipykernel_launcher.py:689: SettingWithCopyWarning: \n",
      "A value is trying to be set on a copy of a slice from a DataFrame.\n",
      "Try using .loc[row_indexer,col_indexer] = value instead\n",
      "\n",
      "See the caveats in the documentation: http://pandas.pydata.org/pandas-docs/stable/indexing.html#indexing-view-versus-copy\n"
     ]
    },
    {
     "name": "stdout",
     "output_type": "stream",
     "text": [
      ">>>>>> buy list (1) : 2018-02-14 00:00:00\n",
      "한국프랜지공업(A010100) : 297748\n",
      "\n",
      "\n",
      ">>>>>> enough periods (휴스틸 : A005010) - (13100 : -0.2) : 366 days 00:00:002018-03-23 00:00:00\n",
      ">>>>>> sell list (1) : 2018-03-23 00:00:00\n",
      "['A005010']\n",
      "\n",
      "\n"
     ]
    },
    {
     "name": "stderr",
     "output_type": "stream",
     "text": [
      "/Users/Shared/anaconda3/anaconda3/lib/python3.7/site-packages/ipykernel_launcher.py:689: SettingWithCopyWarning: \n",
      "A value is trying to be set on a copy of a slice from a DataFrame.\n",
      "Try using .loc[row_indexer,col_indexer] = value instead\n",
      "\n",
      "See the caveats in the documentation: http://pandas.pydata.org/pandas-docs/stable/indexing.html#indexing-view-versus-copy\n"
     ]
    },
    {
     "name": "stdout",
     "output_type": "stream",
     "text": [
      ">>>>>> buy list (1) : 2018-03-23 00:00:00\n",
      "디아이동일(A001530) : 16\n",
      "\n",
      "\n",
      ">>>>>> enough periods (두산건설 : A011160) - (2805 : -0.12) : 366 days 00:00:002018-03-30 00:00:00\n",
      ">>>>>> sell list (1) : 2018-03-30 00:00:00\n",
      "['A011160']\n",
      "\n",
      "\n"
     ]
    },
    {
     "name": "stderr",
     "output_type": "stream",
     "text": [
      "/Users/Shared/anaconda3/anaconda3/lib/python3.7/site-packages/ipykernel_launcher.py:689: SettingWithCopyWarning: \n",
      "A value is trying to be set on a copy of a slice from a DataFrame.\n",
      "Try using .loc[row_indexer,col_indexer] = value instead\n",
      "\n",
      "See the caveats in the documentation: http://pandas.pydata.org/pandas-docs/stable/indexing.html#indexing-view-versus-copy\n"
     ]
    },
    {
     "name": "stdout",
     "output_type": "stream",
     "text": [
      ">>>>>> buy list (1) : 2018-03-30 00:00:00\n",
      "휴스틸(A005010) : 833\n",
      "\n",
      "\n",
      ">>>>>> enough periods (만호제강 : A001080) - (17900 : -0.08) : 367 days 00:00:002018-04-02 00:00:00\n",
      ">>>>>> sell list (1) : 2018-04-02 00:00:00\n",
      "['A001080']\n",
      "\n",
      "\n"
     ]
    },
    {
     "name": "stderr",
     "output_type": "stream",
     "text": [
      "/Users/Shared/anaconda3/anaconda3/lib/python3.7/site-packages/ipykernel_launcher.py:689: SettingWithCopyWarning: \n",
      "A value is trying to be set on a copy of a slice from a DataFrame.\n",
      "Try using .loc[row_indexer,col_indexer] = value instead\n",
      "\n",
      "See the caveats in the documentation: http://pandas.pydata.org/pandas-docs/stable/indexing.html#indexing-view-versus-copy\n"
     ]
    },
    {
     "name": "stdout",
     "output_type": "stream",
     "text": [
      ">>>>>> buy list (1) : 2018-04-02 00:00:00\n",
      "두산건설(A011160) : 5653\n",
      "\n",
      "\n",
      ">>>>>> enough periods (한진중공업홀딩스 : A003480) - (3525 : -0.32) : 366 days 00:00:002018-04-18 00:00:00\n",
      ">>>>>> sell list (1) : 2018-04-18 00:00:00\n",
      "['A003480']\n",
      "\n",
      "\n"
     ]
    },
    {
     "name": "stderr",
     "output_type": "stream",
     "text": [
      "/Users/Shared/anaconda3/anaconda3/lib/python3.7/site-packages/ipykernel_launcher.py:689: SettingWithCopyWarning: \n",
      "A value is trying to be set on a copy of a slice from a DataFrame.\n",
      "Try using .loc[row_indexer,col_indexer] = value instead\n",
      "\n",
      "See the caveats in the documentation: http://pandas.pydata.org/pandas-docs/stable/indexing.html#indexing-view-versus-copy\n"
     ]
    },
    {
     "name": "stdout",
     "output_type": "stream",
     "text": [
      ">>>>>> buy list (1) : 2018-04-18 00:00:00\n",
      "평화홀딩스(A010770) : 4237\n",
      "\n",
      "\n",
      ">>>>>> enough periods (삼부토건 : A001470) - (2150 : -0.27) : 367 days 00:00:002018-04-23 00:00:00\n",
      ">>>>>> sell list (1) : 2018-04-23 00:00:00\n",
      "['A001470']\n",
      "\n",
      "\n"
     ]
    },
    {
     "name": "stderr",
     "output_type": "stream",
     "text": [
      "/Users/Shared/anaconda3/anaconda3/lib/python3.7/site-packages/ipykernel_launcher.py:689: SettingWithCopyWarning: \n",
      "A value is trying to be set on a copy of a slice from a DataFrame.\n",
      "Try using .loc[row_indexer,col_indexer] = value instead\n",
      "\n",
      "See the caveats in the documentation: http://pandas.pydata.org/pandas-docs/stable/indexing.html#indexing-view-versus-copy\n"
     ]
    },
    {
     "name": "stdout",
     "output_type": "stream",
     "text": [
      ">>>>>> buy list (1) : 2018-04-23 00:00:00\n",
      "세원물산(A024830) : 433\n",
      "\n",
      "\n",
      ">>>>>> enough profit (한국수출포장공업 : A002200) - (26800 : 0.55) : 2018-04-27 00:00:00\n",
      ">>>>>> sell list (1) : 2018-04-27 00:00:00\n",
      "['A002200']\n",
      "\n",
      "\n"
     ]
    },
    {
     "name": "stderr",
     "output_type": "stream",
     "text": [
      "/Users/Shared/anaconda3/anaconda3/lib/python3.7/site-packages/ipykernel_launcher.py:689: SettingWithCopyWarning: \n",
      "A value is trying to be set on a copy of a slice from a DataFrame.\n",
      "Try using .loc[row_indexer,col_indexer] = value instead\n",
      "\n",
      "See the caveats in the documentation: http://pandas.pydata.org/pandas-docs/stable/indexing.html#indexing-view-versus-copy\n"
     ]
    },
    {
     "name": "stdout",
     "output_type": "stream",
     "text": [
      ">>>>>> buy list (1) : 2018-04-27 00:00:00\n",
      "한국전자홀딩스(A006200) : 31755\n",
      "\n",
      "\n",
      ">>>>>> enough profit (하이스틸 : A071090) - (39350 : 0.63) : 2018-04-30 00:00:00\n",
      ">>>>>> enough periods (포스링크 : A056730) - (2975 : 0.04) : 367 days 00:00:002018-04-30 00:00:00\n",
      ">>>>>> sell list (2) : 2018-04-30 00:00:00\n",
      "['A071090', 'A056730']\n",
      "\n",
      "\n"
     ]
    },
    {
     "name": "stderr",
     "output_type": "stream",
     "text": [
      "/Users/Shared/anaconda3/anaconda3/lib/python3.7/site-packages/ipykernel_launcher.py:689: SettingWithCopyWarning: \n",
      "A value is trying to be set on a copy of a slice from a DataFrame.\n",
      "Try using .loc[row_indexer,col_indexer] = value instead\n",
      "\n",
      "See the caveats in the documentation: http://pandas.pydata.org/pandas-docs/stable/indexing.html#indexing-view-versus-copy\n"
     ]
    },
    {
     "name": "stdout",
     "output_type": "stream",
     "text": [
      ">>>>>> buy list (2) : 2018-04-30 00:00:00\n",
      "한국수출포장공업(A002200) : 2127\n",
      "케이비아이동국실업(A001620) : 41898\n",
      "\n",
      "\n",
      ">>>>>> enough profit (무림페이퍼 : A009200) - (4090 : 0.59) : 2018-05-14 00:00:00\n",
      ">>>>>> sell list (1) : 2018-05-14 00:00:00\n",
      "['A009200']\n",
      "\n",
      "\n"
     ]
    },
    {
     "name": "stderr",
     "output_type": "stream",
     "text": [
      "/Users/Shared/anaconda3/anaconda3/lib/python3.7/site-packages/ipykernel_launcher.py:689: SettingWithCopyWarning: \n",
      "A value is trying to be set on a copy of a slice from a DataFrame.\n",
      "Try using .loc[row_indexer,col_indexer] = value instead\n",
      "\n",
      "See the caveats in the documentation: http://pandas.pydata.org/pandas-docs/stable/indexing.html#indexing-view-versus-copy\n"
     ]
    },
    {
     "name": "stdout",
     "output_type": "stream",
     "text": [
      ">>>>>> buy list (1) : 2018-05-14 00:00:00\n",
      "만호제강(A001080) : 451\n",
      "\n",
      "\n",
      ">>>>>> enough periods (한국제지 : A002300) - (25000 : -0.13) : 366 days 00:00:002018-05-16 00:00:00\n",
      ">>>>>> sell list (1) : 2018-05-16 00:00:00\n",
      "['A002300']\n",
      "\n",
      "\n"
     ]
    },
    {
     "name": "stderr",
     "output_type": "stream",
     "text": [
      "/Users/Shared/anaconda3/anaconda3/lib/python3.7/site-packages/ipykernel_launcher.py:689: SettingWithCopyWarning: \n",
      "A value is trying to be set on a copy of a slice from a DataFrame.\n",
      "Try using .loc[row_indexer,col_indexer] = value instead\n",
      "\n",
      "See the caveats in the documentation: http://pandas.pydata.org/pandas-docs/stable/indexing.html#indexing-view-versus-copy\n"
     ]
    },
    {
     "name": "stdout",
     "output_type": "stream",
     "text": [
      ">>>>>> buy list (1) : 2018-05-16 00:00:00\n",
      "무림페이퍼(A009200) : 5292\n",
      "\n",
      "\n",
      ">>>>>> enough profit (경동인베스트 : A012320) - (61400 : 0.5) : 2018-05-18 00:00:00\n",
      ">>>>>> sell list (1) : 2018-05-18 00:00:00\n",
      "['A012320']\n",
      "\n",
      "\n"
     ]
    },
    {
     "name": "stderr",
     "output_type": "stream",
     "text": [
      "/Users/Shared/anaconda3/anaconda3/lib/python3.7/site-packages/ipykernel_launcher.py:689: SettingWithCopyWarning: \n",
      "A value is trying to be set on a copy of a slice from a DataFrame.\n",
      "Try using .loc[row_indexer,col_indexer] = value instead\n",
      "\n",
      "See the caveats in the documentation: http://pandas.pydata.org/pandas-docs/stable/indexing.html#indexing-view-versus-copy\n"
     ]
    },
    {
     "name": "stdout",
     "output_type": "stream",
     "text": [
      ">>>>>> buy list (1) : 2018-05-18 00:00:00\n",
      "한국제지(A002300) : 269\n",
      "\n",
      "\n",
      ">>>>>> enough profit (아세아 : A002030) - (171000 : 0.5) : 2018-05-30 00:00:00\n",
      ">>>>>> sell list (1) : 2018-05-30 00:00:00\n",
      "['A002030']\n",
      "\n",
      "\n"
     ]
    },
    {
     "name": "stderr",
     "output_type": "stream",
     "text": [
      "/Users/Shared/anaconda3/anaconda3/lib/python3.7/site-packages/ipykernel_launcher.py:689: SettingWithCopyWarning: \n",
      "A value is trying to be set on a copy of a slice from a DataFrame.\n",
      "Try using .loc[row_indexer,col_indexer] = value instead\n",
      "\n",
      "See the caveats in the documentation: http://pandas.pydata.org/pandas-docs/stable/indexing.html#indexing-view-versus-copy\n"
     ]
    },
    {
     "name": "stdout",
     "output_type": "stream",
     "text": [
      ">>>>>> buy list (1) : 2018-05-30 00:00:00\n",
      "경동인베스트(A012320) : 116\n",
      "\n",
      "\n",
      ">>>>>> enough periods (KISCO홀딩스 : A001940) - (14200 : 0.0) : 367 days 00:00:002018-06-04 00:00:00\n",
      ">>>>>> sell list (1) : 2018-06-04 00:00:00\n",
      "['A001940']\n",
      "\n",
      "\n"
     ]
    },
    {
     "name": "stderr",
     "output_type": "stream",
     "text": [
      "/Users/Shared/anaconda3/anaconda3/lib/python3.7/site-packages/ipykernel_launcher.py:689: SettingWithCopyWarning: \n",
      "A value is trying to be set on a copy of a slice from a DataFrame.\n",
      "Try using .loc[row_indexer,col_indexer] = value instead\n",
      "\n",
      "See the caveats in the documentation: http://pandas.pydata.org/pandas-docs/stable/indexing.html#indexing-view-versus-copy\n"
     ]
    },
    {
     "name": "stdout",
     "output_type": "stream",
     "text": [
      ">>>>>> buy list (1) : 2018-06-04 00:00:00\n",
      "대성홀딩스(A016710) : 930\n",
      "\n",
      "\n",
      ">>>>>> enough profit (휴스틸 : A005010) - (23950 : 0.78) : 2018-06-18 00:00:00\n",
      ">>>>>> sell list (1) : 2018-06-18 00:00:00\n",
      "['A005010']\n",
      "\n",
      "\n"
     ]
    },
    {
     "name": "stderr",
     "output_type": "stream",
     "text": [
      "/Users/Shared/anaconda3/anaconda3/lib/python3.7/site-packages/ipykernel_launcher.py:689: SettingWithCopyWarning: \n",
      "A value is trying to be set on a copy of a slice from a DataFrame.\n",
      "Try using .loc[row_indexer,col_indexer] = value instead\n",
      "\n",
      "See the caveats in the documentation: http://pandas.pydata.org/pandas-docs/stable/indexing.html#indexing-view-versus-copy\n"
     ]
    },
    {
     "name": "stdout",
     "output_type": "stream",
     "text": [
      ">>>>>> buy list (1) : 2018-06-18 00:00:00\n",
      "휴맥스홀딩스(A028080) : 4043\n",
      "\n",
      "\n",
      ">>>>>> enough periods (KBI메탈 : A024840) - (2335 : -0.06) : 366 days 00:00:002018-07-04 00:00:00\n",
      ">>>>>> sell list (1) : 2018-07-04 00:00:00\n",
      "['A024840']\n",
      "\n",
      "\n"
     ]
    },
    {
     "name": "stderr",
     "output_type": "stream",
     "text": [
      "/Users/Shared/anaconda3/anaconda3/lib/python3.7/site-packages/ipykernel_launcher.py:689: SettingWithCopyWarning: \n",
      "A value is trying to be set on a copy of a slice from a DataFrame.\n",
      "Try using .loc[row_indexer,col_indexer] = value instead\n",
      "\n",
      "See the caveats in the documentation: http://pandas.pydata.org/pandas-docs/stable/indexing.html#indexing-view-versus-copy\n"
     ]
    },
    {
     "name": "stdout",
     "output_type": "stream",
     "text": [
      ">>>>>> buy list (1) : 2018-07-04 00:00:00\n",
      "휴스틸(A005010) : 501\n",
      "\n",
      "\n",
      ">>>>>> enough periods (삼천리 : A004690) - (108500 : -0.06) : 367 days 00:00:002018-07-16 00:00:00\n",
      ">>>>>> sell list (1) : 2018-07-16 00:00:00\n",
      "['A004690']\n",
      "\n",
      "\n"
     ]
    },
    {
     "name": "stderr",
     "output_type": "stream",
     "text": [
      "/Users/Shared/anaconda3/anaconda3/lib/python3.7/site-packages/ipykernel_launcher.py:689: SettingWithCopyWarning: \n",
      "A value is trying to be set on a copy of a slice from a DataFrame.\n",
      "Try using .loc[row_indexer,col_indexer] = value instead\n",
      "\n",
      "See the caveats in the documentation: http://pandas.pydata.org/pandas-docs/stable/indexing.html#indexing-view-versus-copy\n"
     ]
    },
    {
     "name": "stdout",
     "output_type": "stream",
     "text": [
      ">>>>>> buy list (1) : 2018-07-16 00:00:00\n",
      "대동기어(A008830) : 9258\n",
      "\n",
      "\n",
      ">>>>>> enough periods (베뉴지 : A019010) - (1385 : 0.04) : 366 days 00:00:002018-08-01 00:00:00\n",
      ">>>>>> sell list (1) : 2018-08-01 00:00:00\n",
      "['A019010']\n",
      "\n",
      "\n"
     ]
    },
    {
     "name": "stderr",
     "output_type": "stream",
     "text": [
      "/Users/Shared/anaconda3/anaconda3/lib/python3.7/site-packages/ipykernel_launcher.py:689: SettingWithCopyWarning: \n",
      "A value is trying to be set on a copy of a slice from a DataFrame.\n",
      "Try using .loc[row_indexer,col_indexer] = value instead\n",
      "\n",
      "See the caveats in the documentation: http://pandas.pydata.org/pandas-docs/stable/indexing.html#indexing-view-versus-copy\n"
     ]
    },
    {
     "name": "stdout",
     "output_type": "stream",
     "text": [
      ">>>>>> buy list (1) : 2018-08-01 00:00:00\n",
      "무림SP(A001810) : 17615\n",
      "\n",
      "\n",
      ">>>>>> enough profit (디아이동일 : A001530) - (76390 : 0.52) : 2018-08-29 00:00:00\n",
      ">>>>>> sell list (1) : 2018-08-29 00:00:00\n",
      "['A001530']\n",
      "\n",
      "\n"
     ]
    },
    {
     "name": "stderr",
     "output_type": "stream",
     "text": [
      "/Users/Shared/anaconda3/anaconda3/lib/python3.7/site-packages/ipykernel_launcher.py:689: SettingWithCopyWarning: \n",
      "A value is trying to be set on a copy of a slice from a DataFrame.\n",
      "Try using .loc[row_indexer,col_indexer] = value instead\n",
      "\n",
      "See the caveats in the documentation: http://pandas.pydata.org/pandas-docs/stable/indexing.html#indexing-view-versus-copy\n"
     ]
    },
    {
     "name": "stdout",
     "output_type": "stream",
     "text": [
      ">>>>>> buy list (1) : 2018-08-29 00:00:00\n",
      "베뉴지(A019010) : 853\n",
      "\n",
      "\n",
      ">>>>>> enough periods (대한화섬 : A003830) - (118000 : 0.04) : 366 days 00:00:002018-10-11 00:00:00\n",
      ">>>>>> sell list (1) : 2018-10-11 00:00:00\n",
      "['A003830']\n",
      "\n",
      "\n"
     ]
    },
    {
     "name": "stderr",
     "output_type": "stream",
     "text": [
      "/Users/Shared/anaconda3/anaconda3/lib/python3.7/site-packages/ipykernel_launcher.py:689: SettingWithCopyWarning: \n",
      "A value is trying to be set on a copy of a slice from a DataFrame.\n",
      "Try using .loc[row_indexer,col_indexer] = value instead\n",
      "\n",
      "See the caveats in the documentation: http://pandas.pydata.org/pandas-docs/stable/indexing.html#indexing-view-versus-copy\n"
     ]
    },
    {
     "name": "stdout",
     "output_type": "stream",
     "text": [
      ">>>>>> buy list (1) : 2018-10-11 00:00:00\n",
      "디아이동일(A001530) : 271\n",
      "\n",
      "\n",
      ">>>>>> enough periods (한일철강 : A002220) - (1915 : -0.31) : 367 days 00:00:002018-11-19 00:00:00\n",
      ">>>>>> sell list (1) : 2018-11-19 00:00:00\n",
      "['A002220']\n",
      "\n",
      "\n"
     ]
    },
    {
     "name": "stderr",
     "output_type": "stream",
     "text": [
      "/Users/Shared/anaconda3/anaconda3/lib/python3.7/site-packages/ipykernel_launcher.py:689: SettingWithCopyWarning: \n",
      "A value is trying to be set on a copy of a slice from a DataFrame.\n",
      "Try using .loc[row_indexer,col_indexer] = value instead\n",
      "\n",
      "See the caveats in the documentation: http://pandas.pydata.org/pandas-docs/stable/indexing.html#indexing-view-versus-copy\n"
     ]
    },
    {
     "name": "stdout",
     "output_type": "stream",
     "text": [
      ">>>>>> buy list (1) : 2018-11-19 00:00:00\n",
      "대한화섬(A003830) : 31\n",
      "\n",
      "\n",
      ">>>>>> enough periods (전방 : A000950) - (18400.0 : -0.08) : 367 days 00:00:002019-01-28 00:00:00\n",
      ">>>>>> sell list (1) : 2019-01-28 00:00:00\n",
      "['A000950']\n",
      "\n",
      "\n"
     ]
    },
    {
     "name": "stderr",
     "output_type": "stream",
     "text": [
      "/Users/Shared/anaconda3/anaconda3/lib/python3.7/site-packages/ipykernel_launcher.py:689: SettingWithCopyWarning: \n",
      "A value is trying to be set on a copy of a slice from a DataFrame.\n",
      "Try using .loc[row_indexer,col_indexer] = value instead\n",
      "\n",
      "See the caveats in the documentation: http://pandas.pydata.org/pandas-docs/stable/indexing.html#indexing-view-versus-copy\n"
     ]
    },
    {
     "name": "stdout",
     "output_type": "stream",
     "text": [
      ">>>>>> buy list (1) : 2019-01-28 00:00:00\n",
      "에스마크(A030270) : 7666\n",
      "\n",
      "\n",
      ">>>>>> enough profit (베뉴지 : A019010) - (2175 : 0.52) : 2019-02-12 00:00:00\n",
      ">>>>>> sell list (1) : 2019-02-12 00:00:00\n",
      "['A019010']\n",
      "\n",
      "\n"
     ]
    },
    {
     "name": "stderr",
     "output_type": "stream",
     "text": [
      "/Users/Shared/anaconda3/anaconda3/lib/python3.7/site-packages/ipykernel_launcher.py:689: SettingWithCopyWarning: \n",
      "A value is trying to be set on a copy of a slice from a DataFrame.\n",
      "Try using .loc[row_indexer,col_indexer] = value instead\n",
      "\n",
      "See the caveats in the documentation: http://pandas.pydata.org/pandas-docs/stable/indexing.html#indexing-view-versus-copy\n"
     ]
    },
    {
     "name": "stdout",
     "output_type": "stream",
     "text": [
      ">>>>>> buy list (1) : 2019-02-12 00:00:00\n",
      "서연(A007860) : 438\n",
      "\n",
      "\n",
      ">>>>>> enough periods (한국프랜지공업 : A010100) - (1730 : -0.09) : 366 days 00:00:002019-02-15 00:00:00\n",
      ">>>>>> sell list (1) : 2019-02-15 00:00:00\n",
      "['A010100']\n",
      "\n",
      "\n"
     ]
    },
    {
     "name": "stderr",
     "output_type": "stream",
     "text": [
      "/Users/Shared/anaconda3/anaconda3/lib/python3.7/site-packages/ipykernel_launcher.py:689: SettingWithCopyWarning: \n",
      "A value is trying to be set on a copy of a slice from a DataFrame.\n",
      "Try using .loc[row_indexer,col_indexer] = value instead\n",
      "\n",
      "See the caveats in the documentation: http://pandas.pydata.org/pandas-docs/stable/indexing.html#indexing-view-versus-copy\n"
     ]
    },
    {
     "name": "stdout",
     "output_type": "stream",
     "text": [
      ">>>>>> buy list (1) : 2019-02-15 00:00:00\n",
      "세아홀딩스(A058650) : 5354\n",
      "\n",
      "\n",
      ">>>>>> enough periods (두산건설 : A011160) - (1330 : -0.52) : 366 days 00:00:002019-04-03 00:00:00\n",
      ">>>>>> sell list (1) : 2019-04-03 00:00:00\n",
      "['A011160']\n",
      "\n",
      "\n"
     ]
    },
    {
     "name": "stderr",
     "output_type": "stream",
     "text": [
      "/Users/Shared/anaconda3/anaconda3/lib/python3.7/site-packages/ipykernel_launcher.py:689: SettingWithCopyWarning: \n",
      "A value is trying to be set on a copy of a slice from a DataFrame.\n",
      "Try using .loc[row_indexer,col_indexer] = value instead\n",
      "\n",
      "See the caveats in the documentation: http://pandas.pydata.org/pandas-docs/stable/indexing.html#indexing-view-versus-copy\n"
     ]
    },
    {
     "name": "stdout",
     "output_type": "stream",
     "text": [
      ">>>>>> buy list (1) : 2019-04-03 00:00:00\n",
      "전방(A000950) : 431\n",
      "\n",
      "\n",
      ">>>>>> enough periods (평화홀딩스 : A010770) - (5570 : -0.14) : 366 days 00:00:002019-04-19 00:00:00\n",
      ">>>>>> sell list (1) : 2019-04-19 00:00:00\n",
      "['A010770']\n",
      "\n",
      "\n"
     ]
    },
    {
     "name": "stderr",
     "output_type": "stream",
     "text": [
      "/Users/Shared/anaconda3/anaconda3/lib/python3.7/site-packages/ipykernel_launcher.py:689: SettingWithCopyWarning: \n",
      "A value is trying to be set on a copy of a slice from a DataFrame.\n",
      "Try using .loc[row_indexer,col_indexer] = value instead\n",
      "\n",
      "See the caveats in the documentation: http://pandas.pydata.org/pandas-docs/stable/indexing.html#indexing-view-versus-copy\n"
     ]
    },
    {
     "name": "stdout",
     "output_type": "stream",
     "text": [
      ">>>>>> buy list (1) : 2019-04-19 00:00:00\n",
      "한국프랜지공업(A010100) : 13488\n",
      "\n",
      "\n",
      ">>>>>> enough periods (세원물산 : A024830) - (5960 : -0.17) : 366 days 00:00:002019-04-24 00:00:00\n",
      ">>>>>> sell list (1) : 2019-04-24 00:00:00\n",
      "['A024830']\n",
      "\n",
      "\n"
     ]
    },
    {
     "name": "stderr",
     "output_type": "stream",
     "text": [
      "/Users/Shared/anaconda3/anaconda3/lib/python3.7/site-packages/ipykernel_launcher.py:689: SettingWithCopyWarning: \n",
      "A value is trying to be set on a copy of a slice from a DataFrame.\n",
      "Try using .loc[row_indexer,col_indexer] = value instead\n",
      "\n",
      "See the caveats in the documentation: http://pandas.pydata.org/pandas-docs/stable/indexing.html#indexing-view-versus-copy\n"
     ]
    },
    {
     "name": "stdout",
     "output_type": "stream",
     "text": [
      ">>>>>> buy list (1) : 2019-04-24 00:00:00\n",
      "세아제강지주(A003030) : 46\n",
      "\n",
      "\n",
      ">>>>>> enough periods (한국전자홀딩스 : A006200) - (815 : -0.1) : 367 days 00:00:002019-04-29 00:00:00\n",
      ">>>>>> sell list (1) : 2019-04-29 00:00:00\n",
      "['A006200']\n",
      "\n",
      "\n"
     ]
    },
    {
     "name": "stderr",
     "output_type": "stream",
     "text": [
      "/Users/Shared/anaconda3/anaconda3/lib/python3.7/site-packages/ipykernel_launcher.py:689: SettingWithCopyWarning: \n",
      "A value is trying to be set on a copy of a slice from a DataFrame.\n",
      "Try using .loc[row_indexer,col_indexer] = value instead\n",
      "\n",
      "See the caveats in the documentation: http://pandas.pydata.org/pandas-docs/stable/indexing.html#indexing-view-versus-copy\n"
     ]
    },
    {
     "name": "stdout",
     "output_type": "stream",
     "text": [
      ">>>>>> buy list (1) : 2019-04-29 00:00:00\n",
      "한진중공업홀딩스(A003480) : 7084\n",
      "\n",
      "\n",
      ">>>>>> enough periods (한국수출포장공업 : A002200) - (22850 : -0.1) : 367 days 00:00:002019-05-02 00:00:00\n",
      ">>>>>> enough periods (케이비아이동국실업 : A001620) - (931 : -0.28) : 367 days 00:00:002019-05-02 00:00:00\n",
      ">>>>>> sell list (2) : 2019-05-02 00:00:00\n",
      "['A002200', 'A001620']\n",
      "\n",
      "\n"
     ]
    },
    {
     "name": "stderr",
     "output_type": "stream",
     "text": [
      "/Users/Shared/anaconda3/anaconda3/lib/python3.7/site-packages/ipykernel_launcher.py:689: SettingWithCopyWarning: \n",
      "A value is trying to be set on a copy of a slice from a DataFrame.\n",
      "Try using .loc[row_indexer,col_indexer] = value instead\n",
      "\n",
      "See the caveats in the documentation: http://pandas.pydata.org/pandas-docs/stable/indexing.html#indexing-view-versus-copy\n"
     ]
    },
    {
     "name": "stdout",
     "output_type": "stream",
     "text": [
      ">>>>>> buy list (2) : 2019-05-02 00:00:00\n",
      "세원물산(A024830) : 7204\n",
      "일지테크(A019540) : 13115\n",
      "\n",
      "\n",
      ">>>>>> enough periods (만호제강 : A001080) - (18800 : -0.15) : 366 days 00:00:002019-05-15 00:00:00\n",
      ">>>>>> sell list (1) : 2019-05-15 00:00:00\n",
      "['A001080']\n",
      "\n",
      "\n"
     ]
    },
    {
     "name": "stderr",
     "output_type": "stream",
     "text": [
      "/Users/Shared/anaconda3/anaconda3/lib/python3.7/site-packages/ipykernel_launcher.py:689: SettingWithCopyWarning: \n",
      "A value is trying to be set on a copy of a slice from a DataFrame.\n",
      "Try using .loc[row_indexer,col_indexer] = value instead\n",
      "\n",
      "See the caveats in the documentation: http://pandas.pydata.org/pandas-docs/stable/indexing.html#indexing-view-versus-copy\n"
     ]
    },
    {
     "name": "stdout",
     "output_type": "stream",
     "text": [
      ">>>>>> buy list (1) : 2019-05-15 00:00:00\n",
      "케이비아이동국실업(A001620) : 9776\n",
      "\n",
      "\n",
      ">>>>>> enough periods (무림페이퍼 : A009200) - (3280 : -0.11) : 366 days 00:00:002019-05-17 00:00:00\n",
      ">>>>>> sell list (1) : 2019-05-17 00:00:00\n",
      "['A009200']\n",
      "\n",
      "\n"
     ]
    },
    {
     "name": "stderr",
     "output_type": "stream",
     "text": [
      "/Users/Shared/anaconda3/anaconda3/lib/python3.7/site-packages/ipykernel_launcher.py:689: SettingWithCopyWarning: \n",
      "A value is trying to be set on a copy of a slice from a DataFrame.\n",
      "Try using .loc[row_indexer,col_indexer] = value instead\n",
      "\n",
      "See the caveats in the documentation: http://pandas.pydata.org/pandas-docs/stable/indexing.html#indexing-view-versus-copy\n"
     ]
    },
    {
     "name": "stdout",
     "output_type": "stream",
     "text": [
      ">>>>>> buy list (1) : 2019-05-17 00:00:00\n",
      "평화정공(A043370) : 2032\n",
      "\n",
      "\n",
      ">>>>>> enough periods (한국제지 : A002300) - (18350 : -0.25) : 367 days 00:00:002019-05-20 00:00:00\n",
      ">>>>>> sell list (1) : 2019-05-20 00:00:00\n",
      "['A002300']\n",
      "\n",
      "\n"
     ]
    },
    {
     "name": "stderr",
     "output_type": "stream",
     "text": [
      "/Users/Shared/anaconda3/anaconda3/lib/python3.7/site-packages/ipykernel_launcher.py:689: SettingWithCopyWarning: \n",
      "A value is trying to be set on a copy of a slice from a DataFrame.\n",
      "Try using .loc[row_indexer,col_indexer] = value instead\n",
      "\n",
      "See the caveats in the documentation: http://pandas.pydata.org/pandas-docs/stable/indexing.html#indexing-view-versus-copy\n"
     ]
    },
    {
     "name": "stdout",
     "output_type": "stream",
     "text": [
      ">>>>>> buy list (1) : 2019-05-20 00:00:00\n",
      "한일철강(A002220) : 2422\n",
      "\n",
      "\n",
      ">>>>>> enough periods (경동인베스트 : A012320) - (38100 : -0.46) : 366 days 00:00:002019-05-31 00:00:00\n",
      ">>>>>> sell list (1) : 2019-05-31 00:00:00\n",
      "['A012320']\n",
      "\n",
      "\n"
     ]
    },
    {
     "name": "stderr",
     "output_type": "stream",
     "text": [
      "/Users/Shared/anaconda3/anaconda3/lib/python3.7/site-packages/ipykernel_launcher.py:689: SettingWithCopyWarning: \n",
      "A value is trying to be set on a copy of a slice from a DataFrame.\n",
      "Try using .loc[row_indexer,col_indexer] = value instead\n",
      "\n",
      "See the caveats in the documentation: http://pandas.pydata.org/pandas-docs/stable/indexing.html#indexing-view-versus-copy\n"
     ]
    },
    {
     "name": "stdout",
     "output_type": "stream",
     "text": [
      ">>>>>> buy list (1) : 2019-05-31 00:00:00\n",
      "한국제지(A002300) : 247\n",
      "\n",
      "\n",
      ">>>>>> enough periods (대성홀딩스 : A016710) - (8000 : -0.03) : 366 days 00:00:002019-06-05 00:00:00\n",
      ">>>>>> sell list (1) : 2019-06-05 00:00:00\n",
      "['A016710']\n",
      "\n",
      "\n"
     ]
    },
    {
     "name": "stderr",
     "output_type": "stream",
     "text": [
      "/Users/Shared/anaconda3/anaconda3/lib/python3.7/site-packages/ipykernel_launcher.py:689: SettingWithCopyWarning: \n",
      "A value is trying to be set on a copy of a slice from a DataFrame.\n",
      "Try using .loc[row_indexer,col_indexer] = value instead\n",
      "\n",
      "See the caveats in the documentation: http://pandas.pydata.org/pandas-docs/stable/indexing.html#indexing-view-versus-copy\n"
     ]
    },
    {
     "name": "stdout",
     "output_type": "stream",
     "text": [
      ">>>>>> buy list (1) : 2019-06-05 00:00:00\n",
      "경동인베스트(A012320) : 191\n",
      "\n",
      "\n",
      ">>>>>> enough periods (휴맥스홀딩스 : A028080) - (3660 : -0.26) : 366 days 00:00:002019-06-19 00:00:00\n",
      ">>>>>> sell list (1) : 2019-06-19 00:00:00\n",
      "['A028080']\n",
      "\n",
      "\n"
     ]
    },
    {
     "name": "stderr",
     "output_type": "stream",
     "text": [
      "/Users/Shared/anaconda3/anaconda3/lib/python3.7/site-packages/ipykernel_launcher.py:689: SettingWithCopyWarning: \n",
      "A value is trying to be set on a copy of a slice from a DataFrame.\n",
      "Try using .loc[row_indexer,col_indexer] = value instead\n",
      "\n",
      "See the caveats in the documentation: http://pandas.pydata.org/pandas-docs/stable/indexing.html#indexing-view-versus-copy\n"
     ]
    },
    {
     "name": "stdout",
     "output_type": "stream",
     "text": [
      ">>>>>> buy list (1) : 2019-06-19 00:00:00\n",
      "대성홀딩스(A016710) : 1825\n",
      "\n",
      "\n",
      ">>>>>> enough periods (휴스틸 : A005010) - (12400 : -0.16) : 366 days 00:00:002019-07-05 00:00:00\n",
      ">>>>>> sell list (1) : 2019-07-05 00:00:00\n",
      "['A005010']\n",
      "\n",
      "\n"
     ]
    },
    {
     "name": "stderr",
     "output_type": "stream",
     "text": [
      "/Users/Shared/anaconda3/anaconda3/lib/python3.7/site-packages/ipykernel_launcher.py:689: SettingWithCopyWarning: \n",
      "A value is trying to be set on a copy of a slice from a DataFrame.\n",
      "Try using .loc[row_indexer,col_indexer] = value instead\n",
      "\n",
      "See the caveats in the documentation: http://pandas.pydata.org/pandas-docs/stable/indexing.html#indexing-view-versus-copy\n"
     ]
    },
    {
     "name": "stdout",
     "output_type": "stream",
     "text": [
      ">>>>>> buy list (1) : 2019-07-05 00:00:00\n",
      "휴맥스홀딩스(A028080) : 1652\n",
      "\n",
      "\n",
      ">>>>>> enough periods (대동기어 : A008830) - (3400 : 0.28) : 366 days 00:00:002019-07-17 00:00:00\n",
      ">>>>>> sell list (1) : 2019-07-17 00:00:00\n",
      "['A008830']\n",
      "\n",
      "\n"
     ]
    },
    {
     "name": "stderr",
     "output_type": "stream",
     "text": [
      "/Users/Shared/anaconda3/anaconda3/lib/python3.7/site-packages/ipykernel_launcher.py:689: SettingWithCopyWarning: \n",
      "A value is trying to be set on a copy of a slice from a DataFrame.\n",
      "Try using .loc[row_indexer,col_indexer] = value instead\n",
      "\n",
      "See the caveats in the documentation: http://pandas.pydata.org/pandas-docs/stable/indexing.html#indexing-view-versus-copy\n"
     ]
    },
    {
     "name": "stdout",
     "output_type": "stream",
     "text": [
      ">>>>>> buy list (1) : 2019-07-17 00:00:00\n",
      "휴스틸(A005010) : 2737\n",
      "\n",
      "\n",
      ">>>>>> enough periods (무림SP : A001810) - (2350 : -0.18) : 366 days 00:00:002019-08-02 00:00:00\n",
      ">>>>>> sell list (1) : 2019-08-02 00:00:00\n",
      "['A001810']\n",
      "\n",
      "\n"
     ]
    },
    {
     "name": "stderr",
     "output_type": "stream",
     "text": [
      "/Users/Shared/anaconda3/anaconda3/lib/python3.7/site-packages/ipykernel_launcher.py:689: SettingWithCopyWarning: \n",
      "A value is trying to be set on a copy of a slice from a DataFrame.\n",
      "Try using .loc[row_indexer,col_indexer] = value instead\n",
      "\n",
      "See the caveats in the documentation: http://pandas.pydata.org/pandas-docs/stable/indexing.html#indexing-view-versus-copy\n"
     ]
    },
    {
     "name": "stdout",
     "output_type": "stream",
     "text": [
      ">>>>>> buy list (1) : 2019-08-02 00:00:00\n",
      "세원정공(A021820) : 5117\n",
      "\n",
      "\n",
      ">>>>>> enough profit (일지테크 : A019540) - (5080 : 0.52) : 2019-08-08 00:00:00\n",
      ">>>>>> sell list (1) : 2019-08-08 00:00:00\n",
      "['A019540']\n",
      "\n",
      "\n"
     ]
    },
    {
     "name": "stderr",
     "output_type": "stream",
     "text": [
      "/Users/Shared/anaconda3/anaconda3/lib/python3.7/site-packages/ipykernel_launcher.py:689: SettingWithCopyWarning: \n",
      "A value is trying to be set on a copy of a slice from a DataFrame.\n",
      "Try using .loc[row_indexer,col_indexer] = value instead\n",
      "\n",
      "See the caveats in the documentation: http://pandas.pydata.org/pandas-docs/stable/indexing.html#indexing-view-versus-copy\n"
     ]
    },
    {
     "name": "stdout",
     "output_type": "stream",
     "text": [
      ">>>>>> buy list (1) : 2019-08-08 00:00:00\n",
      "선창산업(A002820) : 14327\n",
      "\n",
      "\n",
      ">>>>>> enough profit (한국프랜지공업 : A010100) - (2725 : 0.56) : 2019-09-09 00:00:00\n",
      ">>>>>> sell list (1) : 2019-09-09 00:00:00\n",
      "['A010100']\n",
      "\n",
      "\n"
     ]
    },
    {
     "name": "stderr",
     "output_type": "stream",
     "text": [
      "/Users/Shared/anaconda3/anaconda3/lib/python3.7/site-packages/ipykernel_launcher.py:689: SettingWithCopyWarning: \n",
      "A value is trying to be set on a copy of a slice from a DataFrame.\n",
      "Try using .loc[row_indexer,col_indexer] = value instead\n",
      "\n",
      "See the caveats in the documentation: http://pandas.pydata.org/pandas-docs/stable/indexing.html#indexing-view-versus-copy\n"
     ]
    },
    {
     "name": "stdout",
     "output_type": "stream",
     "text": [
      ">>>>>> buy list (1) : 2019-09-09 00:00:00\n",
      "일지테크(A019540) : 6858\n",
      "\n",
      "\n",
      ">>>>>> enough periods (디아이동일 : A001530) - (76600 : 0.09) : 368 days 00:00:002019-10-14 00:00:00\n",
      ">>>>>> sell list (1) : 2019-10-14 00:00:00\n",
      "['A001530']\n",
      "\n",
      "\n"
     ]
    },
    {
     "name": "stderr",
     "output_type": "stream",
     "text": [
      "/Users/Shared/anaconda3/anaconda3/lib/python3.7/site-packages/ipykernel_launcher.py:689: SettingWithCopyWarning: \n",
      "A value is trying to be set on a copy of a slice from a DataFrame.\n",
      "Try using .loc[row_indexer,col_indexer] = value instead\n",
      "\n",
      "See the caveats in the documentation: http://pandas.pydata.org/pandas-docs/stable/indexing.html#indexing-view-versus-copy\n"
     ]
    },
    {
     "name": "stdout",
     "output_type": "stream",
     "text": [
      ">>>>>> buy list (1) : 2019-10-14 00:00:00\n",
      "한국프랜지공업(A010100) : 9226\n",
      "\n",
      "\n"
     ]
    }
   ],
   "source": [
    "max_profit = 0.5\n",
    "max_holding_days=365\n",
    "total_pf_df = get_portfolio_backtest_df(get_qp_portfolio, start_date, price_df, 20, initial_money, max_profit, max_holding_days)\n",
    "bt1 = get_backtest_result_from_pf(total_pf_df, price_df)\n",
    "\n",
    "# max_profit = 10\n",
    "# max_holding_days=365\n",
    "# total_pf_df = get_portfolio_backtest_df(get_qp_portfolio, start_date, price_df, 20, initial_money, max_profit, max_holding_days)\n",
    "# bt2 = get_backtest_result_from_pf(total_pf_df, price_df)\n",
    "\n",
    "# max_profit = 0.5\n",
    "# max_holding_days=365*2\n",
    "# total_pf_df = get_portfolio_backtest_df(get_high_roa_portfolio, start_date, price_df, 20, initial_money, max_profit, max_holding_days)\n",
    "# bt3 = get_backtest_result_from_pf(total_pf_df, price_df)\n",
    "\n"
   ]
  },
  {
   "cell_type": "code",
   "execution_count": 108,
   "metadata": {},
   "outputs": [],
   "source": [
    "my = backtest_with_code_list(my_portfolio_code_list, start_date, None)\n",
    "# samsung = backtest_with_code_list([get_company_code('삼성전자')], start_date, None)"
   ]
  },
  {
   "cell_type": "code",
   "execution_count": 109,
   "metadata": {},
   "outputs": [],
   "source": [
    "kospi_df = prices[['KOSPI']][start_date:]\n",
    "kospi_df = kospi_df.fillna(method='bfill')\n",
    "kospi_df['total_change_rate'] = kospi_df/kospi_df.iloc[0]-1\n",
    "\n",
    "kosdaq_df = prices[['KOSDAQ']][start_date:]\n",
    "kosdaq_df = kosdaq_df.fillna(method='bfill')\n",
    "kosdaq_df['total_change_rate'] = kosdaq_df/kosdaq_df.iloc[0]-1"
   ]
  },
  {
   "cell_type": "code",
   "execution_count": 110,
   "metadata": {},
   "outputs": [
    {
     "data": {
      "image/png": "[encoded data removed]",
      "text/plain": [
       "<Figure size 1440x864 with 1 Axes>"
      ]
     },
     "metadata": {
      "needs_background": "light"
     },
     "output_type": "display_data"
    }
   ],
   "source": [
    "plt.rc('font', size=10)\n",
    "plt.figure(figsize=(20, 12))\n",
    "plt.plot(bt1.index, bt1['total_change_rate'], label='bt1')\n",
    "# plt.plot(bt2.index, bt2['total_change_rate'], label='bt2')\n",
    "# plt.plot(bt3.index, bt3['total_change_rate'], label='bt3')\n",
    "# plt.plot(bt4.index, bt4['total_change_rate'], label='bt4')\n",
    "# plt.plot(bt5.index, bt5['total_change_rate'], label='bt5')\n",
    "plt.plot(my.index, my['total_change_rate'], label='my portfolio')\n",
    "# plt.plot(samsung.index, samsung['total_change_rate'], label='samsung')\n",
    "plt.plot(kospi_df.index, kospi_df['total_change_rate'], label='kospi', color='red',linewidth=0.5, linestyle='dashed')\n",
    "plt.plot(kosdaq_df.index, kosdaq_df['total_change_rate'], label='kosdaq', color='blue',linewidth=0.5, linestyle='dashed')\n",
    "plt.title('backtest')\n",
    "plt.xlabel(\"duration\")\n",
    "plt.ylabel(\"profit\")\n",
    "plt.legend(loc='upper right')\n",
    "plt.grid()\n",
    "plt.show()"
   ]
  }
 ],
 "metadata": {
  "kernelspec": {
   "display_name": "Python 3",
   "language": "python",
   "name": "python3"
  },
  "language_info": {
   "codemirror_mode": {
    "name": "ipython",
    "version": 3
   },
   "file_extension": ".py",
   "mimetype": "text/x-python",
   "name": "python",
   "nbconvert_exporter": "python",
   "pygments_lexer": "ipython3",
   "version": "3.7.3"
  }
 },
 "nbformat": 4,
 "nbformat_minor": 2
}
