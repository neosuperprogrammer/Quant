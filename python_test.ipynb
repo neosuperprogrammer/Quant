{
 "cells": [
  {
   "cell_type": "code",
   "execution_count": null,
   "metadata": {},
   "outputs": [],
   "source": [
    "!open ."
   ]
  },
  {
   "cell_type": "code",
   "execution_count": null,
   "metadata": {},
   "outputs": [],
   "source": [
    "import pandas as pd\n",
    "import requests\n",
    "import csv"
   ]
  },
  {
   "cell_type": "code",
   "execution_count": null,
   "metadata": {},
   "outputs": [],
   "source": [
    "def get_company_data(min_price=0):\n",
    "    kospi = pd.read_excel('data/kospi.xls')\n",
    "    kosdaq = pd.read_excel('data/kosdaq.xls')\n",
    "    kospi['구분'] = '코스피'\n",
    "    kosdaq['구분'] = '코스닥'\n",
    "    companies = pd.concat([kospi, kosdaq], sort=False)\n",
    "    companies = companies[['종목코드','기업명','구분','업종코드','업종','액면가(원)','상장주식수(주)', '자본금(원)']]\n",
    "    companies['상장주식수(주)'] = companies['상장주식수(주)'].str.replace(',','').astype(int)\n",
    "    companies['자본금(원)'] = companies['자본금(원)'].str.replace(',','').astype(int)\n",
    "    companies['액면가(원)'] = companies['액면가(원)'].str.replace(',','').astype(float)\n",
    "    companies = companies[companies['액면가(원)'] >= min_price]\n",
    "    companies['액면가(원)'] = companies['액면가(원)'].astype(int)\n",
    "    companies = companies.set_index('종목코드')\n",
    "    companies = company_apply_a_prefix(companies)\n",
    "    return companies\n"
   ]
  },
  {
   "cell_type": "code",
   "execution_count": null,
   "metadata": {},
   "outputs": [],
   "source": [
    "res = pd.read_html(r.text)\n",
    "print(res)"
   ]
  },
  {
   "cell_type": "code",
   "execution_count": null,
   "metadata": {},
   "outputs": [],
   "source": [
    "import pandas as pd\n",
    "import csv\n",
    "\n",
    "#open web-xls\n",
    "# url = 'http://kind.krx.co.kr/corpgeneral/corpList.do?method=download&searchType=13&marketType=kosdaqMkt'\n",
    "url = 'http://kind.krx.co.kr/corpgeneral/corpList.do?method=download&searchType=13&marketType=stockMkt'\n",
    "krx = pd.read_html(url, header=0)[0] #dataFrame으로 받는다.\n",
    "\n",
    "krx = krx[['종목코드', '회사명', '업종', '주요제품','상장일', '결산월', '대표자명', '홈페이지', '지역']]\n",
    "krx = krx.rename(columns={\n",
    "    '종목코드': 'code'\n",
    "    , '회사명': 'company'\n",
    "    , '업종': 'Industry'  \n",
    "    # , '주요제품': 'Product'\n",
    "    , '상장일': 'listing_date'\n",
    "    , '결산월': 'Settlement_month'\n",
    "    , '대표자명': 'ceo'\n",
    "    , '홈페이지': 'homepage'\n",
    "    , '지역': 'area'})\n",
    "\n",
    "krx = krx.sort_values(by='code')\n",
    "krx.code = krx.code.map('{:06d}'.format)#6자리숫자 형식\n",
    "krxList = krx[['code', 'company']]\n",
    " \n",
    "print(len(krxList))\n",
    "#write CSV\n",
    "with open(file='company.csv',mode='w', encoding='utf-8-sig', newline='') as f:\n",
    "    csv_f = csv.writer(f)\n",
    "    for i in range(len(krxList)):\n",
    "        value = [krxList.code.values[i], krxList.company.values[i], krxList.Industry.values[i]]\n",
    "        print(value)\n",
    "        csv_f.writerow(value)\n"
   ]
  },
  {
   "cell_type": "code",
   "execution_count": null,
   "metadata": {},
   "outputs": [],
   "source": [
    "krx"
   ]
  },
  {
   "cell_type": "code",
   "execution_count": null,
   "metadata": {},
   "outputs": [],
   "source": [
    "kospi = pd.read_excel('data/kospi.xls')"
   ]
  },
  {
   "cell_type": "code",
   "execution_count": null,
   "metadata": {},
   "outputs": [],
   "source": [
    "kospi"
   ]
  },
  {
   "cell_type": "code",
   "execution_count": null,
   "metadata": {},
   "outputs": [],
   "source": [
    "def make_fs_dataframe(firm_code):\n",
    "    fs_url = 'https://comp.fnguide.com/SVO2/asp/SVD_Finance.asp?pGB=1&cID=&MenuYn=Y&ReportGB=D&NewMenuID=103&stkGb=701&gicode=' + firm_code\n",
    "    fs_page = requests.get(fs_url)\n",
    "    fs_tables = pd.read_html(fs_page.text)\n",
    "    \n",
    "    temp_df = fs_tables[0]\n",
    "    temp_df = temp_df.set_index(temp_df.columns[0])\n",
    "    temp_df = temp_df[temp_df.columns[:4]]\n",
    "    temp_df = temp_df.loc[['매출액', '매출원가', '영업이익', '당기순이익', '매출총이익']]\n",
    "\n",
    "    temp_df2 = fs_tables[2]\n",
    "    temp_df2 = temp_df2.set_index(temp_df2.columns[0])\n",
    "    temp_df2 = temp_df2.loc[['자산', '부채', '자본']]\n",
    "\n",
    "    temp_df3 = fs_tables[4]\n",
    "    temp_df3 = temp_df3.set_index(temp_df3.columns[0])\n",
    "    temp_df3 = temp_df3.loc[['영업활동으로인한현금흐름']]\n",
    "\n",
    "    fs_df = pd.concat([temp_df, temp_df2, temp_df3], sort=False)\n",
    "    \n",
    "\n",
    "    return fs_df"
   ]
  },
  {
   "cell_type": "code",
   "execution_count": null,
   "metadata": {},
   "outputs": [],
   "source": [
    "firm_code = 'A005490'\n",
    "fs_url = 'https://comp.fnguide.com/SVO2/asp/SVD_Finance.asp?pGB=1&cID=&MenuYn=Y&ReportGB=D&NewMenuID=103&stkGb=701&gicode=' + firm_code\n",
    "fs_page = requests.get(fs_url)\n",
    "fs_tables = pd.read_html(fs_page.text)\n"
   ]
  },
  {
   "cell_type": "code",
   "execution_count": null,
   "metadata": {},
   "outputs": [],
   "source": [
    "firm_code = 'A039490'\n",
    "fs_url = 'http://comp.fnguide.com/SVO2/ASP/SVD_Main.asp?pGB=1&cID=&MenuYn=Y&ReportGB=&NewMenuID=11&stkGb=701&gicode=' + firm_code\n",
    "fs_page = requests.get(fs_url)\n",
    "fs_tables = pd.read_html(fs_page.text)\n"
   ]
  },
  {
   "cell_type": "code",
   "execution_count": null,
   "metadata": {},
   "outputs": [],
   "source": [
    "fs_tables[0]\n",
    "\n",
    "info1 = fs_tables[0]\n",
    "\n",
    "info1.set_index(info1.columns[0])\n",
    "\n",
    "info1.loc[6][1]\n",
    "\n",
    "fs_tables[4]\n",
    "\n",
    "\n",
    "fs_tables[11]\n"
   ]
  }
 ],
 "metadata": {
  "kernelspec": {
   "display_name": "Python 3",
   "language": "python",
   "name": "python3"
  },
  "language_info": {
   "codemirror_mode": {
    "name": "ipython",
    "version": 3
   },
   "file_extension": ".py",
   "mimetype": "text/x-python",
   "name": "python",
   "nbconvert_exporter": "python",
   "pygments_lexer": "ipython3",
   "version": "3.7.3"
  }
 },
 "nbformat": 4,
 "nbformat_minor": 2
}
