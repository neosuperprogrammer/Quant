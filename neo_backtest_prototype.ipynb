{
 "cells": [
  {
   "cell_type": "code",
   "execution_count": null,
   "metadata": {},
   "outputs": [],
   "source": [
    "# !open ."
   ]
  },
  {
   "cell_type": "code",
   "execution_count": null,
   "metadata": {},
   "outputs": [],
   "source": [
    "%load py_neo_quant_backbone.py"
   ]
  },
  {
   "cell_type": "code",
   "execution_count": null,
   "metadata": {},
   "outputs": [],
   "source": [
    "%load py_neo_quant_basic.py"
   ]
  },
  {
   "cell_type": "code",
   "execution_count": null,
   "metadata": {},
   "outputs": [],
   "source": [
    "%load py_neo_quant_fnguide.py"
   ]
  },
  {
   "cell_type": "code",
   "execution_count": null,
   "metadata": {},
   "outputs": [],
   "source": [
    "%load py_neo_quant_backtest.py"
   ]
  },
  {
   "cell_type": "code",
   "execution_count": null,
   "metadata": {},
   "outputs": [],
   "source": [
    "pd.options.display.max_rows = 60\n",
    "pd.options.display.max_columns = 20"
   ]
  },
  {
   "cell_type": "code",
   "execution_count": null,
   "metadata": {},
   "outputs": [],
   "source": [
    "prices = get_price_data_for_backtest()"
   ]
  },
  {
   "cell_type": "code",
   "execution_count": null,
   "metadata": {},
   "outputs": [],
   "source": [
    "price_df = prices\n",
    "start_date = '2008-6'\n",
    "strategy_date = get_strategy_date(start_date)\n",
    "initial_money = 100000000"
   ]
  },
  {
   "cell_type": "code",
   "execution_count": null,
   "metadata": {},
   "outputs": [],
   "source": [
    "fs_df = make_total_fs_df()\n",
    "fr_df = make_total_fr_df()\n",
    "iv_df = make_total_iv_df()\n",
    "companies = get_company_data()\n",
    "companies, fs_df, fr_df, iv_df, prices = get_normalize_data(companies, fs_df, fr_df, iv_df, prices)"
   ]
  },
  {
   "cell_type": "code",
   "execution_count": null,
   "metadata": {},
   "outputs": [],
   "source": [
    "print(len(fs_df))\n",
    "print(len(fr_df))\n",
    "print(len(iv_df))\n",
    "print(len(companies))\n",
    "print(len(prices.columns))"
   ]
  },
  {
   "cell_type": "code",
   "execution_count": null,
   "metadata": {
    "scrolled": true
   },
   "outputs": [],
   "source": [
    "companies = get_company_df_from_total_capital(companies, 0.6, start_date)\n",
    "fs_df = fs_df.loc[companies.index]\n",
    "fr_df = fr_df.loc[companies.index]\n",
    "iv_df = iv_df.loc[companies.index]"
   ]
  },
  {
   "cell_type": "code",
   "execution_count": null,
   "metadata": {
    "scrolled": true
   },
   "outputs": [],
   "source": [
    "print(len(fs_df))\n",
    "print(len(fr_df))\n",
    "print(len(iv_df))\n",
    "print(len(companies))\n",
    "print(len(prices.columns))"
   ]
  },
  {
   "cell_type": "code",
   "execution_count": null,
   "metadata": {},
   "outputs": [],
   "source": [
    "ebit_df = make_account_df('EV_EBIT', '재무비율')\n",
    "ebit_df = ebit_df.loc[companies.index]"
   ]
  },
  {
   "cell_type": "code",
   "execution_count": null,
   "metadata": {},
   "outputs": [],
   "source": [
    "my = backtest_with_code_list(my_portfolio_code_list, start_date, None)\n",
    "# samsung = backtest_with_code_list([get_company_code('삼성전자')], start_date, None)"
   ]
  },
  {
   "cell_type": "code",
   "execution_count": null,
   "metadata": {},
   "outputs": [],
   "source": [
    "kospi_df = prices[['KOSPI']][start_date:]\n",
    "kospi_df = kospi_df.fillna(method='bfill')\n",
    "kospi_df['total_change_rate'] = kospi_df/kospi_df.iloc[0]-1\n",
    "\n",
    "kosdaq_df = prices[['KOSDAQ']][start_date:]\n",
    "kosdaq_df = kosdaq_df.fillna(method='bfill')\n",
    "kosdaq_df['total_change_rate'] = kosdaq_df/kosdaq_df.iloc[0]-1"
   ]
  },
  {
   "cell_type": "code",
   "execution_count": null,
   "metadata": {},
   "outputs": [],
   "source": [
    "firm_count = 20\n",
    "max_profit = 0.5\n",
    "max_holding_days=365\n",
    "maximum_rebuy_interval_days = 1\n",
    "total_pf_df, cache_df, profit_df, not_profit_df = get_portfolio_backtest_df(get_qp_portfolio, start_date, price_df, firm_count, initial_money, max_profit, max_holding_days, maximum_rebuy_interval_days)\n",
    "bt1 = get_backtest_result_from_pf(total_pf_df, price_df)\n",
    "\n",
    "# firm_count = 20\n",
    "# max_profit = 0.5\n",
    "# max_holding_days=365\n",
    "# maximum_rebuy_interval_days = 1\n",
    "# total_pf_df, cache_df, profit_df, not_profit_df = get_portfolio_backtest_df(get_low_per_portfolio, start_date, price_df, firm_count, initial_money, max_profit, max_holding_days, maximum_rebuy_interval_days)\n",
    "# bt2 = get_backtest_result_from_pf(total_pf_df, price_df)\n",
    "\n",
    "# firm_count = 20\n",
    "# max_profit = 0.5\n",
    "# max_holding_days=365\n",
    "# maximum_rebuy_interval_days = 1\n",
    "# total_pf_df, cache_df, profit_df, not_profit_df = get_portfolio_backtest_df(get_low_pbr_portfolio, start_date, price_df, firm_count, initial_money, max_profit, max_holding_days, maximum_rebuy_interval_days)\n",
    "# bt3 = get_backtest_result_from_pf(total_pf_df, price_df)\n",
    "\n"
   ]
  },
  {
   "cell_type": "code",
   "execution_count": null,
   "metadata": {},
   "outputs": [],
   "source": [
    "# show_count = 20\n",
    "# iterations = int(len(profit_df)/show_count)\n",
    "# if len(profit_df) % show_count > 0:\n",
    "#     iterations = iterations + 1\n",
    "\n",
    "# for iteration in range(iterations):\n",
    "#     start = iteration * show_count\n",
    "#     end = start + show_count\n",
    "#     if end > len(profit_df):\n",
    "#         end = len(profit_df)\n",
    "#     for index in range(start, end):\n",
    "#         company_code = profit_df.iloc[index].name\n",
    "#         buy_date = profit_df.iloc[index].buy_date\n",
    "#         sell_date = profit_df.iloc[index].sell_date\n",
    "#         show_buy_sell_date_chart(company_code, buy_date, sell_date, prices)\n",
    "#         time.sleep(0.1)"
   ]
  },
  {
   "cell_type": "code",
   "execution_count": null,
   "metadata": {},
   "outputs": [],
   "source": [
    "# show_count = 20\n",
    "# iterations = int(len(profit_df)/show_count)\n",
    "# if len(profit_df) % show_count > 0:\n",
    "#     iterations = iterations + 1\n",
    "\n",
    "# for iteration in range(iterations):\n",
    "#     start = iteration * show_count\n",
    "#     end = start + show_count\n",
    "#     if end > len(profit_df):\n",
    "#         end = len(profit_df)\n",
    "#     for index in range(start, end):\n",
    "#         company_code = not_profit_df.iloc[index].name\n",
    "#         buy_date = not_profit_df.iloc[index].buy_date\n",
    "#         sell_date = not_profit_df.iloc[index].sell_date\n",
    "#         show_buy_sell_date_chart(company_code, buy_date, sell_date, prices)\n",
    "#         time.sleep(0.1)"
   ]
  },
  {
   "cell_type": "code",
   "execution_count": null,
   "metadata": {},
   "outputs": [],
   "source": [
    "plt.rc('font', size=10)\n",
    "plt.figure(figsize=(20, 12))\n",
    "plt.plot(bt1.index, bt1['total_change_rate'], label='bt1')\n",
    "# plt.plot(bt2.index, bt2['total_change_rate'], label='bt2')\n",
    "# plt.plot(bt3.index, bt3['total_change_rate'], label='bt3')\n",
    "plt.plot(my.index, my['total_change_rate'], label='my portfolio')\n",
    "# plt.plot(samsung.index, samsung['total_change_rate'], label='samsung')\n",
    "plt.plot(kospi_df.index, kospi_df['total_change_rate'], label='kospi', color='red',linewidth=0.5, linestyle='dashed')\n",
    "plt.plot(kosdaq_df.index, kosdaq_df['total_change_rate'], label='kosdaq', color='blue',linewidth=0.5, linestyle='dashed')\n",
    "plt.title('backtest')\n",
    "plt.xlabel(\"duration\")\n",
    "plt.ylabel(\"profit\")\n",
    "plt.legend(loc='upper right')\n",
    "plt.grid()\n",
    "plt.show()"
   ]
  }
 ],
 "metadata": {
  "kernelspec": {
   "display_name": "Python 3",
   "language": "python",
   "name": "python3"
  },
  "language_info": {
   "codemirror_mode": {
    "name": "ipython",
    "version": 3
   },
   "file_extension": ".py",
   "mimetype": "text/x-python",
   "name": "python",
   "nbconvert_exporter": "python",
   "pygments_lexer": "ipython3",
   "version": "3.7.3"
  }
 },
 "nbformat": 4,
 "nbformat_minor": 2
}
