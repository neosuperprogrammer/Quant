{
 "cells": [
  {
   "cell_type": "code",
   "execution_count": null,
   "metadata": {},
   "outputs": [],
   "source": [
    "!open ."
   ]
  },
  {
   "cell_type": "code",
   "execution_count": null,
   "metadata": {},
   "outputs": [],
   "source": [
    "import pandas as pd\n",
    "import requests\n",
    "import bs4\n",
    "import math\n",
    "import time\n",
    "import NeoQuant as nq\n",
    "import matplotlib.pyplot as plt\n",
    "from matplotlib import font_manager, rc\n",
    "pd.set_option('display.max_colwidth', -1)\n",
    "rc('font', family='AppleGothic')\n",
    "plt.rcParams['axes.unicode_minus'] = False\n",
    "\n",
    "\n",
    "pd.set_option('display.max_columns', None)\n",
    "# pd.set_option('display.max_rows', 500)"
   ]
  },
  {
   "cell_type": "markdown",
   "metadata": {},
   "source": [
    "## get all company list"
   ]
  },
  {
   "cell_type": "code",
   "execution_count": null,
   "metadata": {},
   "outputs": [],
   "source": [
    "companies = nq.get_all_company_list()\n",
    "companies.index = 'A' + companies.index"
   ]
  },
  {
   "cell_type": "markdown",
   "metadata": {},
   "source": [
    "## make company code list"
   ]
  },
  {
   "cell_type": "code",
   "execution_count": null,
   "metadata": {},
   "outputs": [],
   "source": [
    "company_code_list = companies.index"
   ]
  },
  {
   "cell_type": "markdown",
   "metadata": {},
   "source": [
    "## if not all company"
   ]
  },
  {
   "cell_type": "code",
   "execution_count": null,
   "metadata": {},
   "outputs": [],
   "source": [
    "# company_name_list = ['에스씨엠생명과학', '박셀바이오', '셀레믹스']\n",
    "# 'JTC' // 2월 결산\n",
    "# '한국주철관' // 3월 결산\n",
    "# '만호제강' // 6월 결산\n",
    "# 'SNK' // 7월 결산\n",
    "# '풍강' // 8월 결산\n",
    "# '인터엠' // 9월 결산\n",
    "# '현대약품' // 11월 결산\n",
    "\n",
    "# company_name_list = ['삼성전자', '박셀바이오', 'JTC', '한국주철관공업', '만호제강', 'SNK', '풍강', '인터엠', '현대약품']\n",
    "# company_name_list = ['이리츠코크렙', '에이리츠', '케이탑리츠', '하이골드3호', '바다로19호', '하이골드12호', '모두투어리츠', '신한알파리츠']\n",
    "# company_name_list = ['이리츠코크렙', '에이리츠', '케이탑리츠', '하이골드3호', '바다로19호', '하이골드12호', '모두투어리츠', '신한알파리츠']\n",
    "company_name_list = ['대덕전자']\n",
    "company_code_list = nq.get_company_code_list(company_name_list, companies)\n",
    "company_code_list"
   ]
  },
  {
   "cell_type": "markdown",
   "metadata": {},
   "source": [
    "## get fnguide info and make base, fr data_frame"
   ]
  },
  {
   "cell_type": "code",
   "execution_count": null,
   "metadata": {
    "scrolled": false
   },
   "outputs": [],
   "source": [
    "\n",
    "total = len(company_code_list)\n",
    "\n",
    "for num, company_code in enumerate(company_code_list):\n",
    "    try:\n",
    "        company_name = nq.get_company_name(company_code, companies)\n",
    "#         print(num, company_code, company_name)\n",
    "        print(str(num + 1) + ' / ' + str(total) + \" : \" + company_name + ' (' + str(company_code) + ')')\n",
    "\n",
    "        time.sleep(1)\n",
    "\n",
    "        try:\n",
    "            snapshot_tables = nq.request_fnguide_snapshot(company_code)\n",
    "        except requests.exceptions.Timeout:\n",
    "            time.sleep(60)\n",
    "            snapshot_tables = fs_df = nq.request_fnguide_snapshot(company_code)\n",
    "\n",
    "        if len(snapshot_tables) < 12:\n",
    "            print('>>>> not much data')\n",
    "            continue\n",
    "            \n",
    "        data_df = snapshot_tables[10]\n",
    "        if len(data_df) < 20:\n",
    "            data_df = snapshot_tables[11]\n",
    "        if len(data_df) < 20:\n",
    "            print('>>>> not much data 2')\n",
    "            continue\n",
    "   \n",
    "        temp_df = nq.make_basic_df(company_code, company_name, snapshot_tables)\n",
    "        if num == 0:\n",
    "            basic_df = temp_df\n",
    "        else:\n",
    "            basic_df = pd.concat([basic_df, temp_df], sort=False)\n",
    "\n",
    "        \n",
    "        temp_df = nq.make_fr_df(company_code, snapshot_tables)\n",
    "        if num == 0:\n",
    "            fr_df = temp_df\n",
    "        else:\n",
    "            fr_df = pd.concat([fr_df, temp_df], sort=False)\n",
    "    except ValueError:\n",
    "        print('>>>> ValueError')\n",
    "        continue\n",
    "    except TypeError:\n",
    "        print('>>>> TypeError')\n",
    "        continue\n",
    "    except KeyError:\n",
    "        print('>>>> KeyError')\n",
    "        continue\n",
    "    \n",
    "        \n",
    "#     if num == 10:\n",
    "#         break\n"
   ]
  },
  {
   "cell_type": "markdown",
   "metadata": {},
   "source": [
    "## save basic dataframe to excel"
   ]
  },
  {
   "cell_type": "code",
   "execution_count": null,
   "metadata": {},
   "outputs": [],
   "source": [
    "basic_df.to_excel(r'data/basic_data.xlsx')"
   ]
  },
  {
   "cell_type": "markdown",
   "metadata": {},
   "source": [
    "## load basic dataframe from excel"
   ]
  },
  {
   "cell_type": "code",
   "execution_count": null,
   "metadata": {},
   "outputs": [],
   "source": [
    "basic_df = pd.read_excel(r'data/basic_data.xlsx')\n",
    "basic_df.index = basic_df[basic_df.columns[0]]\n",
    "basic_df.index.name = ''\n",
    "basic_df.drop(basic_df.columns[0], axis = 1, inplace = True)"
   ]
  },
  {
   "cell_type": "markdown",
   "metadata": {},
   "source": [
    "## save fr dataframe to excel"
   ]
  },
  {
   "cell_type": "code",
   "execution_count": null,
   "metadata": {},
   "outputs": [],
   "source": [
    "fr_df.to_excel(r'data/fr_data.xlsx')"
   ]
  },
  {
   "cell_type": "markdown",
   "metadata": {},
   "source": [
    "## load fr dataframe from excel"
   ]
  },
  {
   "cell_type": "code",
   "execution_count": null,
   "metadata": {},
   "outputs": [],
   "source": [
    "fr_df = pd.read_excel(r'data/fr_data.xlsx')\n",
    "fr_df.index = fr_df[fr_df.columns[0]]\n",
    "fr_df.index.name = ''\n",
    "fr_df.drop(fr_df.columns[0], axis = 1, inplace = True)\n",
    "big_col = list(fr_df.columns)\n",
    "small_col = list(fr_df.iloc[0])\n",
    "\n",
    "new_big_col = []\n",
    "for num, col in enumerate(big_col):\n",
    "    if 'Unnamed' in col:\n",
    "        new_big_col.append(new_big_col[num-1])\n",
    "    else:\n",
    "        new_big_col.append(big_col[num])\n",
    "\n",
    "fr_df.columns = [new_big_col, small_col]\n",
    "fr_df = fr_df.loc[ fr_df.index.dropna() ]"
   ]
  },
  {
   "cell_type": "code",
   "execution_count": null,
   "metadata": {},
   "outputs": [],
   "source": [
    "fr_df"
   ]
  }
 ],
 "metadata": {
  "kernelspec": {
   "display_name": "Python 3",
   "language": "python",
   "name": "python3"
  },
  "language_info": {
   "codemirror_mode": {
    "name": "ipython",
    "version": 3
   },
   "file_extension": ".py",
   "mimetype": "text/x-python",
   "name": "python",
   "nbconvert_exporter": "python",
   "pygments_lexer": "ipython3",
   "version": "3.7.3"
  }
 },
 "nbformat": 4,
 "nbformat_minor": 2
}
