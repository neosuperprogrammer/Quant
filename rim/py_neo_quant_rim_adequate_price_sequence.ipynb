{
 "cells": [
  {
   "cell_type": "code",
   "execution_count": null,
   "metadata": {},
   "outputs": [],
   "source": [
    "# !open ."
   ]
  },
  {
   "cell_type": "code",
   "execution_count": null,
   "metadata": {},
   "outputs": [],
   "source": [
    "import pandas as pd\n",
    "import requests\n",
    "import bs4\n",
    "import math\n",
    "import time\n",
    "from datetime import date, timedelta\n",
    "import NeoQuant as nq\n",
    "import matplotlib.pyplot as plt\n",
    "from matplotlib import font_manager, rc\n",
    "pd.set_option('display.max_colwidth', -1)\n",
    "rc('font', family='AppleGothic')\n",
    "plt.rcParams['axes.unicode_minus'] = False\n",
    "\n",
    "# pd.set_option('display.max_columns', None)\n",
    "# pd.set_option('display.max_rows', 1000)"
   ]
  },
  {
   "cell_type": "markdown",
   "metadata": {},
   "source": [
    "## get all company list"
   ]
  },
  {
   "cell_type": "code",
   "execution_count": null,
   "metadata": {},
   "outputs": [],
   "source": [
    "companies = nq.get_all_company_list()"
   ]
  },
  {
   "cell_type": "markdown",
   "metadata": {},
   "source": [
    "## set company name"
   ]
  },
  {
   "cell_type": "code",
   "execution_count": null,
   "metadata": {},
   "outputs": [],
   "source": [
    "# company_name = '현대건설'\n",
    "company_name = '효성티앤씨'\n",
    "company_code = nq.get_company_code(company_name, companies)\n",
    "print('company name : ' + company_name)\n",
    "print('company code : ' + company_code)"
   ]
  },
  {
   "cell_type": "markdown",
   "metadata": {},
   "source": [
    "## get base profit ratio"
   ]
  },
  {
   "cell_type": "code",
   "execution_count": null,
   "metadata": {},
   "outputs": [],
   "source": [
    "base_profit_ratio = nq.get_base_profit_ratio()\n",
    "base_profit_ratio"
   ]
  },
  {
   "cell_type": "markdown",
   "metadata": {},
   "source": [
    "## get fnguide snapshot"
   ]
  },
  {
   "cell_type": "code",
   "execution_count": null,
   "metadata": {},
   "outputs": [],
   "source": [
    "if not company_code.startswith('A'):\n",
    "    company_code = 'A' + company_code\n",
    "\n",
    "snapshot_url = 'http://comp.fnguide.com/SVO2/ASP/SVD_Main.asp?pGB=1&cID=&MenuYn=Y&ReportGB=&NewMenuID=11&stkGb=701&gicode=' + company_code\n",
    "snapshot_page = requests.get(snapshot_url)\n",
    "snapshot_tables = pd.read_html(snapshot_page.text)"
   ]
  },
  {
   "cell_type": "markdown",
   "metadata": {},
   "source": [
    "## get stock count"
   ]
  },
  {
   "cell_type": "code",
   "execution_count": null,
   "metadata": {},
   "outputs": [],
   "source": [
    "import math\n",
    "\n",
    "def get_total_stock_count(snapshot_tables):\n",
    "    stock_count = 0\n",
    "\n",
    "    info = snapshot_tables[0]\n",
    "    info = info.set_index(info.columns[0])\n",
    "    stock_count_info = info.loc['발행주식수(보통주/ 우선주)'][1]\n",
    "    stock_counts = stock_count_info.split('/')\n",
    "    for count in stock_counts:\n",
    "#         print(count)\n",
    "        stock_count = stock_count + int(count.replace(',',''))\n",
    "\n",
    "    return stock_count\n",
    "\n",
    "def get_self_stock_count(snapshot_tables):\n",
    "    self_stock_count = 0\n",
    "    info = snapshot_tables[4]\n",
    "    info = info.set_index(info.columns[0])\n",
    "    count = info.loc[['자기주식\\xa0(자사주+자사주신탁)']]['보통주'][0]\n",
    "#     print(count)\n",
    "    if not math.isnan(count):\n",
    "        self_stock_count = int(count)\n",
    "    return self_stock_count\n",
    "\n",
    "stock_count = get_total_stock_count(snapshot_tables) - get_self_stock_count(snapshot_tables)\n",
    "print('stock count : ' + str(stock_count))"
   ]
  },
  {
   "cell_type": "markdown",
   "metadata": {},
   "source": [
    "## get asset, roe"
   ]
  },
  {
   "cell_type": "code",
   "execution_count": null,
   "metadata": {},
   "outputs": [],
   "source": [
    "def get_fr_df_index(snapshot_tables):\n",
    "    fr_df_index = -1\n",
    "    for num, snapshot in enumerate(snapshot_tables):\n",
    "        if 'Annual' in snapshot.columns:\n",
    "            if len(snapshot['Annual'].columns) > 4:\n",
    "#                 print('bingo ' + str(num))\n",
    "                fr_df_index = num\n",
    "                break\n",
    "    return fr_df_index\n",
    "\n",
    "def get_base_year_name(fr_df):\n",
    "    big_col_name = 'Annual'\n",
    "    roe_index_name = 'ROE'\n",
    "    asset_index_name = '지배주주지분'\n",
    "    \n",
    "    info = fr_df\n",
    "    info = info.set_index(info.columns[0])\n",
    "\n",
    "    stadard_col_name = ''\n",
    "    roes = info.loc[roe_index_name][big_col_name]\n",
    "    assets = info.loc[asset_index_name][big_col_name]\n",
    "    for index in reversed(assets.index):\n",
    "        if index.endswith(('(E)')):\n",
    "            continue\n",
    "        if not math.isnan(assets[index]) and not math.isnan(roes[index]):\n",
    "            stadard_col_name = index\n",
    "            break\n",
    "    return stadard_col_name\n",
    "\n",
    "def get_year_name_list(fr_df, until_this_year = True):\n",
    "    big_col_name = 'Annual'\n",
    "    roe_index_name = 'ROE'\n",
    "    asset_index_name = '지배주주지분'\n",
    "    \n",
    "    info = fr_df\n",
    "    info = info.set_index(info.columns[0])\n",
    "\n",
    "    year_name_list = []\n",
    "    \n",
    "    year_name = ''\n",
    "    roes = info.loc[roe_index_name][big_col_name]\n",
    "    assets = info.loc[asset_index_name][big_col_name]\n",
    "    today_year = datetime.date.today().year\n",
    "    for index in assets.index:\n",
    "#         if index.endswith(('(E)')):\n",
    "#             continue\n",
    "        if until_this_year:\n",
    "            year = int(index[:4])\n",
    "            if year > today_year:\n",
    "                continue\n",
    "        if not math.isnan(assets[index]) and not math.isnan(roes[index]):\n",
    "            year_name = index\n",
    "#             year_name = str(pd.to_datetime(year_name).year)\n",
    "            year_name_list.append(year_name)\n",
    "    return year_name_list\n",
    "\n",
    "def get_roe(fr_df, base_year_name):\n",
    "    big_col_name = 'Annual'\n",
    "    roe_index_name = 'ROE'\n",
    "    \n",
    "    info = fr_df\n",
    "    info = info.set_index(info.columns[0])\n",
    "\n",
    "    roe = info.loc[roe_index_name][big_col_name, base_year_name]\n",
    "    return roe\n",
    "\n",
    "def get_per(fr_df, base_year_name):\n",
    "    big_col_name = 'Annual'\n",
    "    per_index_name = 'PER'\n",
    "    \n",
    "    info = fr_df\n",
    "    info = info.set_index(info.columns[0])\n",
    "\n",
    "    per = info.loc[per_index_name][big_col_name, base_year_name]\n",
    "    return per\n",
    "\n",
    "def get_net_income(fr_df, base_year_name):\n",
    "    big_col_name = 'Annual'\n",
    "    index_name = '당기순이익'\n",
    "    \n",
    "    info = fr_df\n",
    "    info = info.set_index(info.columns[0])\n",
    "\n",
    "    income = info.loc[index_name][big_col_name, base_year_name]\n",
    "    income = income * 100000000\n",
    "    return income\n",
    "\n",
    "def get_net_profit(fr_df, base_year_name):\n",
    "    big_col_name = 'Annual'\n",
    "    profit_index_name = '지배주주지분'\n",
    "    \n",
    "    info = fr_df\n",
    "    info = info.set_index(info.columns[0])\n",
    "\n",
    "    profit = info.loc[profit_index_name][big_col_name, base_year_name]\n",
    "    profit = profit * 100000000\n",
    "    return profit\n",
    "\n",
    "def get_op_profit(fr_df, base_year_name):\n",
    "    big_col_name = 'Annual'\n",
    "    profit_index_name = '영업이익'\n",
    "    \n",
    "    info = fr_df\n",
    "    info = info.set_index(info.columns[0])\n",
    "\n",
    "    profit = info.loc[profit_index_name][big_col_name, base_year_name]\n",
    "    profit = profit * 100000000\n",
    "    return profit\n",
    "\n",
    "def get_asset(fr_df, base_year_name):\n",
    "    big_col_name = 'Annual'\n",
    "    asset_index_name = '자산총계'\n",
    "    \n",
    "    info = fr_df\n",
    "    info = info.set_index(info.columns[0])\n",
    "\n",
    "    asset = info.loc[asset_index_name][big_col_name, base_year_name]\n",
    "    asset = asset * 100000000\n",
    "    return asset"
   ]
  },
  {
   "cell_type": "code",
   "execution_count": null,
   "metadata": {},
   "outputs": [],
   "source": [
    "price_df_tmp = nq.request_price_list(company_code, 'day', 1500)"
   ]
  },
  {
   "cell_type": "code",
   "execution_count": null,
   "metadata": {},
   "outputs": [],
   "source": [
    "price_df = price_df_tmp\n",
    "price_df['price_very_low'] = 0\n",
    "price_df['price_low'] = 0\n",
    "price_df['price_middle'] = 0\n",
    "price_df['price_high'] = 0"
   ]
  },
  {
   "cell_type": "code",
   "execution_count": null,
   "metadata": {},
   "outputs": [],
   "source": [
    "fr_df_index = get_fr_df_index(snapshot_tables)\n",
    "print('fr_df_index : ' + str(fr_df_index))\n",
    "fr_df = snapshot_tables[fr_df_index]"
   ]
  },
  {
   "cell_type": "code",
   "execution_count": null,
   "metadata": {},
   "outputs": [],
   "source": [
    "until_this_year = False\n",
    "year_name_list = get_year_name_list(fr_df, until_this_year)"
   ]
  },
  {
   "cell_type": "code",
   "execution_count": null,
   "metadata": {},
   "outputs": [],
   "source": [
    "final_year = price_df.iloc[-1].name.year\n",
    "\n",
    "for year_name in year_name_list:\n",
    "#     print(year_name)\n",
    "    roe =  get_roe(fr_df, year_name)\n",
    "    net_profit = get_net_profit(fr_df, year_name)\n",
    "    per = get_per(fr_df, year_name)\n",
    "    \n",
    "    price_high = nq.get_more_adequate_price(net_profit, roe, base_profit_ratio, stock_count, 1)\n",
    "    price_middle = nq.get_more_adequate_price(net_profit, roe, base_profit_ratio, stock_count, 0.9)\n",
    "    price_low = nq.get_more_adequate_price(net_profit, roe, base_profit_ratio, stock_count, 0.8)\n",
    "    price_very_low = nq.get_more_adequate_price(net_profit, roe, base_profit_ratio, stock_count, 0.5)\n",
    "    \n",
    "\n",
    "    print('=====================================')\n",
    "    print('base year : ' + year_name)\n",
    "    print('net profit : ' + str(net_profit))\n",
    "    print('roe : ' + str(roe))\n",
    "    print('per : ' + str(per))\n",
    "    print('very low : ' + str(price_very_low))\n",
    "    print('buy : below ' + str(price_low))\n",
    "    print('sell 1/3 : ' + str(price_middle))\n",
    "    print('sell 1/3 : ' + str(price_high))\n",
    "\n",
    "    \n",
    "#     if (price_very_low >= price_low):\n",
    "#         price_low = int(price_very_low * 1.05)\n",
    "#         price_middle = int(price_low * 1.05)\n",
    "#         price_high = int(price_middle * 1.05)\n",
    "        \n",
    "#         print('======= modify ===============')\n",
    "#         print('very low : ' + str(price_very_low))\n",
    "#         print('buy : below ' + str(price_low))\n",
    "#         print('sell 1/3 : ' + str(price_middle))\n",
    "#         print('sell 1/3 : ' + str(price_high))\n",
    "        \n",
    "    if (year_name.endswith('(E)')):\n",
    "#         continue\n",
    "        year_name = year_name.replace('(E)', '')\n",
    "    \n",
    "    base_year = pd.to_datetime(year_name).year\n",
    "\n",
    "    if (base_year == final_year):\n",
    "        start_date = price_df.iloc[-1].name + timedelta(days=1)\n",
    "        end_date = pd.to_datetime(str(final_year) + '-12-31')\n",
    "        year_list = pd.date_range(start_date, end_date, freq='d')\n",
    "        year_df = pd.DataFrame(0, index=year_list, columns=price_df.columns)\n",
    "        price_df = price_df.append(year_df)\n",
    "    \n",
    "    if (base_year > final_year):\n",
    "#         print(base_year)\n",
    "        start_year = pd.to_datetime(str(base_year))\n",
    "        year_list = pd.date_range(start_year, freq=pd.DateOffset(days=1), periods=365)\n",
    "        year_df = pd.DataFrame(0, index=year_list, columns=price_df.columns)\n",
    "        price_df = price_df.append(year_df)\n",
    "        \n",
    "    base_year = str(base_year)\n",
    "    try:\n",
    "        price_df.loc[base_year]['price_very_low'] = [price_very_low] * len(price_df.loc[base_year])\n",
    "        price_df.loc[base_year]['price_low'] = [price_low] * len(price_df.loc[base_year])\n",
    "        price_df.loc[base_year]['price_middle'] = [price_middle] * len(price_df.loc[base_year])\n",
    "        price_df.loc[base_year]['price_high'] = [price_high] * len(price_df.loc[base_year])\n",
    "    except KeyError:\n",
    "        print('key error')"
   ]
  },
  {
   "cell_type": "markdown",
   "metadata": {},
   "source": [
    "## show chart"
   ]
  },
  {
   "cell_type": "code",
   "execution_count": null,
   "metadata": {},
   "outputs": [],
   "source": [
    "nq.show_price_chart(company_code, company_name, price_df)"
   ]
  }
 ],
 "metadata": {
  "kernelspec": {
   "display_name": "Python 3",
   "language": "python",
   "name": "python3"
  },
  "language_info": {
   "codemirror_mode": {
    "name": "ipython",
    "version": 3
   },
   "file_extension": ".py",
   "mimetype": "text/x-python",
   "name": "python",
   "nbconvert_exporter": "python",
   "pygments_lexer": "ipython3",
   "version": "3.7.3"
  }
 },
 "nbformat": 4,
 "nbformat_minor": 2
}
