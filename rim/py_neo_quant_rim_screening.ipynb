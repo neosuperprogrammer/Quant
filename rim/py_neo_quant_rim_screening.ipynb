{
 "cells": [
  {
   "cell_type": "code",
   "execution_count": 73,
   "metadata": {},
   "outputs": [],
   "source": [
    "!open ."
   ]
  },
  {
   "cell_type": "code",
   "execution_count": null,
   "metadata": {},
   "outputs": [],
   "source": [
    "import pandas as pd\n",
    "import NeoQuant as nq\n",
    "import requests\n",
    "import math"
   ]
  },
  {
   "cell_type": "markdown",
   "metadata": {},
   "source": [
    "## get all company list"
   ]
  },
  {
   "cell_type": "code",
   "execution_count": null,
   "metadata": {},
   "outputs": [],
   "source": [
    "companies = nq.get_all_company_list()\n",
    "companies.index = 'A' + companies.index"
   ]
  },
  {
   "cell_type": "markdown",
   "metadata": {},
   "source": [
    "## bond spread"
   ]
  },
  {
   "cell_type": "code",
   "execution_count": null,
   "metadata": {},
   "outputs": [],
   "source": [
    "# https://www.kisrating.co.kr/ratingsStatistics/statics_spread.do\n",
    "expected_ratio = 7.91"
   ]
  },
  {
   "cell_type": "markdown",
   "metadata": {},
   "source": [
    "## get stock count"
   ]
  },
  {
   "cell_type": "code",
   "execution_count": null,
   "metadata": {},
   "outputs": [],
   "source": [
    "company_name_list = ['이리츠코크렙', 'DL이앤씨', '맵스리얼티1']\n",
    "# company_name_list = ['맵스리얼티1']\n",
    "\n",
    "company_code_list = []\n",
    "for company_name in company_name_list:\n",
    "    company_code = nq.get_company_code(company_name, companies)\n",
    "    if len(company_code) > 0:\n",
    "        company_code_list.append(company_code)\n",
    "    else:\n",
    "        print('no company code with ' + company_name)\n",
    "company_code_list"
   ]
  },
  {
   "cell_type": "code",
   "execution_count": null,
   "metadata": {},
   "outputs": [],
   "source": [
    "company_code_list = companies.index"
   ]
  },
  {
   "cell_type": "markdown",
   "metadata": {},
   "source": [
    "## get fnguide info"
   ]
  },
  {
   "cell_type": "code",
   "execution_count": null,
   "metadata": {
    "scrolled": false
   },
   "outputs": [],
   "source": [
    "import time\n",
    "\n",
    "total = len(company_code_list)\n",
    "\n",
    "for num, company_code in enumerate(company_code_list):\n",
    "    try:\n",
    "        company_name = nq.get_company_name(company_code, companies)\n",
    "#         print(num, company_code, company_name)\n",
    "        print(str(num + 1) + ' / ' + str(total) + \" : \" + company_name + ' (' + str(company_code) + ')')\n",
    "\n",
    "        time.sleep(1)\n",
    "\n",
    "        try:\n",
    "            snapshot_tables = nq.request_fnguide_snapshot(company_code)\n",
    "        except requests.exceptions.Timeout:\n",
    "            time.sleep(60)\n",
    "            snapshot_tables = fs_df = nq.request_fnguide_snapshot(company_code)\n",
    "\n",
    "        if len(snapshot_tables) < 10:\n",
    "            print('>>>> not much data')\n",
    "            continue\n",
    "        temp_df = nq.make_basic_df(company_code, snapshot_tables)\n",
    "        temp_df['name'] = company_name\n",
    "        if num == 0:\n",
    "            basic_df = temp_df\n",
    "        else:\n",
    "            basic_df = pd.concat([basic_df, temp_df], sort=False)\n",
    "\n",
    "        temp_df = nq.make_fr_df(company_code, snapshot_tables)\n",
    "        if num == 0:\n",
    "            fr_df = temp_df\n",
    "        else:\n",
    "            fr_df = pd.concat([fr_df, temp_df], sort=False)\n",
    "    except ValueError:\n",
    "        print('>>>> ValueError')\n",
    "        continue\n",
    "    except TypeError:\n",
    "        print('>>>> TypeError')\n",
    "        continue\n",
    "    except KeyError:\n",
    "        print('>>>> KeyError')\n",
    "        continue\n",
    "    \n",
    "        \n",
    "    if num == 20:\n",
    "        break\n"
   ]
  },
  {
   "cell_type": "markdown",
   "metadata": {},
   "source": [
    "## save basic dataframe to excel"
   ]
  },
  {
   "cell_type": "code",
   "execution_count": null,
   "metadata": {},
   "outputs": [],
   "source": [
    "basic_df.to_excel(r'data/basic_data.xlsx')"
   ]
  },
  {
   "cell_type": "markdown",
   "metadata": {},
   "source": [
    "## load basic dataframe from excel"
   ]
  },
  {
   "cell_type": "code",
   "execution_count": null,
   "metadata": {},
   "outputs": [],
   "source": [
    "basic_df = pd.read_excel(r'data/basic_data.xlsx')\n",
    "basic_df.index = basic_df[basic_df.columns[0]]\n",
    "basic_df.index.name = ''\n",
    "basic_df.drop(basic_df.columns[0], axis = 1, inplace = True)"
   ]
  },
  {
   "cell_type": "markdown",
   "metadata": {},
   "source": [
    "## save fr dataframe to excel"
   ]
  },
  {
   "cell_type": "code",
   "execution_count": null,
   "metadata": {},
   "outputs": [],
   "source": [
    "fr_df.to_excel(r'data/fr_data.xlsx')"
   ]
  },
  {
   "cell_type": "markdown",
   "metadata": {},
   "source": [
    "## load fr dataframe from excel"
   ]
  },
  {
   "cell_type": "code",
   "execution_count": null,
   "metadata": {},
   "outputs": [],
   "source": [
    "fr_df = pd.read_excel(r'data/fr_data.xlsx')\n",
    "fr_df.index = fr_df[fr_df.columns[0]]\n",
    "fr_df.index.name = ''\n",
    "fr_df.drop(fr_df.columns[0], axis = 1, inplace = True)\n",
    "big_col = list(fr_df.columns)\n",
    "small_col = list(fr_df.iloc[0])\n",
    "\n",
    "new_big_col = []\n",
    "for num, col in enumerate(big_col):\n",
    "    if 'Unnamed' in col:\n",
    "        new_big_col.append(new_big_col[num-1])\n",
    "    else:\n",
    "        new_big_col.append(big_col[num])\n",
    "\n",
    "fr_df.columns = [new_big_col, small_col]\n",
    "fr_df = fr_df.loc[ fr_df.index.dropna() ]"
   ]
  },
  {
   "cell_type": "markdown",
   "metadata": {},
   "source": [
    "## spread"
   ]
  },
  {
   "cell_type": "code",
   "execution_count": null,
   "metadata": {},
   "outputs": [],
   "source": [
    "expected_ratio = 7.91"
   ]
  },
  {
   "cell_type": "markdown",
   "metadata": {},
   "source": [
    "## calculate adequate price"
   ]
  },
  {
   "cell_type": "code",
   "execution_count": null,
   "metadata": {
    "scrolled": false
   },
   "outputs": [],
   "source": [
    "total = len(fr_df)\n",
    "\n",
    "for num, code in enumerate(fr_df.index):\n",
    "    company_name = nq.get_company_name(code, companies)\n",
    "    print(str(num + 1) + ' / ' + str(total) + \" : \" + company_name + ' (' + str(code) + ')')\n",
    "\n",
    "#     print(num, code, company_name)\n",
    "    for col in reversed(fr_df.columns.levels[0]):\n",
    "#         print(fr_df[col]['ROE'])\n",
    "        try:\n",
    "            roe = pd.to_numeric(fr_df.loc[code][col]['ROE'])\n",
    "            per = pd.to_numeric(fr_df.loc[code][col]['PER'])\n",
    "            pbr = pd.to_numeric(fr_df.loc[code][col]['PBR'])\n",
    "            asset = pd.to_numeric(fr_df.loc[code][col]['지배주주지분']) * 100000000\n",
    "            debt_rate = pd.to_numeric(fr_df.loc[code][col]['부채비율'])\n",
    "            keep_rate = pd.to_numeric(fr_df.loc[code][col]['유보율'])\n",
    "            interest_rate = pd.to_numeric(fr_df.loc[code][col]['배당수익률'])\n",
    "\n",
    "                \n",
    "            if not math.isnan(roe) and not math.isnan(asset):\n",
    "                print('standard date : ' + col)\n",
    "                stock_count = basic_df.loc[code]['주식수']\n",
    "                basic_df.at[code, '기준일'] = col\n",
    "                basic_df.at[code, 'roe'] = roe\n",
    "                basic_df.at[code, 'per'] = per\n",
    "                basic_df.at[code, 'pbr'] = pbr\n",
    "                basic_df.at[code, '부채비율'] = debt_rate\n",
    "                basic_df.at[code, '유보율'] = keep_rate\n",
    "                basic_df.at[code, '배당수익률'] = interest_rate\n",
    "                \n",
    "                basic_df.at[code, 'expectation'] = expected_ratio\n",
    "    #             print('stock_count : ' + str(stock_count))\n",
    "                high = nq.get_more_adequate_price(asset, roe, expected_ratio, stock_count, 1)\n",
    "    #             print('high : ' + str(high))\n",
    "                basic_df.at[code, 'high'] = high\n",
    "                middle = nq.get_more_adequate_price(asset, roe, expected_ratio, stock_count, 0.9)\n",
    "                basic_df.at[code, 'middle'] = middle\n",
    "                low = nq.get_more_adequate_price(asset, roe, expected_ratio, stock_count, 0.8)\n",
    "                basic_df.at[code, 'low'] = low\n",
    "                break\n",
    "        except ValueError:\n",
    "            print('>>> ValueError')\n",
    "            continue\n",
    "\n",
    "\n",
    "basic_df['dis_rate'] = basic_df['price'] / basic_df['low']\n",
    "basic_df = basic_df.sort_values(by='dis_rate', ascending=True)"
   ]
  },
  {
   "cell_type": "markdown",
   "metadata": {},
   "source": [
    "## make report"
   ]
  },
  {
   "cell_type": "code",
   "execution_count": null,
   "metadata": {},
   "outputs": [],
   "source": [
    "final_df = basic_df\n",
    "final_df = final_df.loc[~final_df.index.str.startswith('A9')]\n",
    "final_df['dis_rate'] = final_df['price'] / final_df['low']\n",
    "final_df = final_df.sort_values(by='dis_rate', ascending=True)"
   ]
  },
  {
   "cell_type": "code",
   "execution_count": null,
   "metadata": {},
   "outputs": [],
   "source": [
    "final_df['rank'] = final_df['dis_rate'].rank()"
   ]
  },
  {
   "cell_type": "code",
   "execution_count": null,
   "metadata": {},
   "outputs": [],
   "source": [
    "final_df = final_df.loc[final_df['dis_rate'] > 0.1]\n",
    "final_df = final_df.loc[final_df['dis_rate'] < 1]\n",
    "final_df = final_df.loc[final_df['roe'] > final_df['expectation']]"
   ]
  },
  {
   "cell_type": "code",
   "execution_count": null,
   "metadata": {},
   "outputs": [],
   "source": [
    "final_df = final_df.loc[final_df['roe'] > 10]\n",
    "final_df = final_df.loc[final_df['roe'] < 100]\n",
    "final_df = final_df.loc[final_df['시가총액'] > 1000 * 100000000]"
   ]
  },
  {
   "cell_type": "code",
   "execution_count": null,
   "metadata": {},
   "outputs": [],
   "source": [
    "final_df = final_df.loc[final_df['배당수익률'] > 1]"
   ]
  },
  {
   "cell_type": "code",
   "execution_count": null,
   "metadata": {},
   "outputs": [],
   "source": [
    "final_df = final_df.loc[~final_df['name'].str.contains('홀딩스')]"
   ]
  },
  {
   "cell_type": "code",
   "execution_count": null,
   "metadata": {},
   "outputs": [],
   "source": [
    "final_df = final_df.loc[final_df['roe'] > 10]"
   ]
  },
  {
   "cell_type": "code",
   "execution_count": null,
   "metadata": {},
   "outputs": [],
   "source": [
    "len(final_df)"
   ]
  },
  {
   "cell_type": "markdown",
   "metadata": {},
   "source": [
    "## save port"
   ]
  },
  {
   "cell_type": "code",
   "execution_count": null,
   "metadata": {},
   "outputs": [],
   "source": [
    "final_df.to_excel(r'data/port_data.xlsx')"
   ]
  },
  {
   "cell_type": "markdown",
   "metadata": {},
   "source": [
    "## load port"
   ]
  },
  {
   "cell_type": "code",
   "execution_count": null,
   "metadata": {},
   "outputs": [],
   "source": [
    "# port_df = pd.read_excel(r'data/port_data.xlsx')\n",
    "port_df = pd.read_excel(r'data/test_port_1.xlsx')\n",
    "port_df.index = port_df[port_df.columns[0]]\n",
    "port_df.index.name = ''\n",
    "port_df.drop(port_df.columns[0], axis = 1, inplace = True)"
   ]
  },
  {
   "cell_type": "markdown",
   "metadata": {},
   "source": [
    "## get recent price and update"
   ]
  },
  {
   "cell_type": "code",
   "execution_count": null,
   "metadata": {},
   "outputs": [],
   "source": [
    "import time\n",
    "\n",
    "port_list = port_df.index\n",
    "total = len(port_list)\n",
    "for num, company_code in enumerate(port_list):\n",
    "    company_name = get_company_name(company_code, companies)\n",
    "    print(str(num + 1) + ' / ' + str(total) + \" : \" + company_name + ' (' + str(company_code) + ')')\n",
    "    time.sleep(1)\n",
    "    try:\n",
    "        price_df = nq.request_price_list(company_code, 'day', 100)\n",
    "    except requests.exceptions.Timeout:\n",
    "        time.sleep(60)\n",
    "        price_df = nq.request_price_list(company_code, 'day', 100)\n",
    "        \n",
    "    current = price_df[price_df.columns[0]][-1]\n",
    "    port_df.at[company_code, 'current'] = int(current)\n"
   ]
  },
  {
   "cell_type": "markdown",
   "metadata": {},
   "source": [
    "## 수익률 업데이트"
   ]
  },
  {
   "cell_type": "code",
   "execution_count": null,
   "metadata": {},
   "outputs": [],
   "source": [
    "profit_rate = (port_df['current'] - port_df['price']) / port_df['price']\n",
    "profit_rate = profit_rate.dropna()\n",
    "profit_rate = profit_rate.map(lambda rate: str(\"%.2f\" % round(float(rate * 100), 2)) + '%')\n",
    "port_df['수익률'] = profit_rate"
   ]
  },
  {
   "cell_type": "markdown",
   "metadata": {},
   "source": [
    "## 평균 수익률"
   ]
  },
  {
   "cell_type": "code",
   "execution_count": null,
   "metadata": {},
   "outputs": [],
   "source": [
    "profit_rate = port_df['수익률'].map(lambda rate: float(rate[:-1]))\n",
    "average_profit = profit_rate.sum() / len(port_df)\n",
    "print('average profit : ' + \"%.2f\" % average_profit + '%')"
   ]
  },
  {
   "cell_type": "markdown",
   "metadata": {},
   "source": [
    "## show chart"
   ]
  },
  {
   "cell_type": "code",
   "execution_count": null,
   "metadata": {},
   "outputs": [],
   "source": [
    "company_name = '대원산업'\n",
    "company_code = nq.get_company_code(company_name, companies)\n",
    "\n",
    "\n",
    "price_df = nq.request_price_list(company_code, 'day', 1000)\n",
    "\n",
    "price_high = basic_df.loc[company_code]['high']\n",
    "price_middle = basic_df.loc[company_code]['middle']\n",
    "price_low = basic_df.loc[company_code]['low']\n",
    "\n",
    "price_df['price_low'] = [price_low] * len(price_df)\n",
    "price_df['price_middle'] = [price_middle] * len(price_df)\n",
    "price_df['price_high'] = [price_high] * len(price_df)\n",
    "\n",
    "nq.show_price_chart(company_code, company_name, price_df)"
   ]
  }
 ],
 "metadata": {
  "kernelspec": {
   "display_name": "Python 3",
   "language": "python",
   "name": "python3"
  },
  "language_info": {
   "codemirror_mode": {
    "name": "ipython",
    "version": 3
   },
   "file_extension": ".py",
   "mimetype": "text/x-python",
   "name": "python",
   "nbconvert_exporter": "python",
   "pygments_lexer": "ipython3",
   "version": "3.7.3"
  }
 },
 "nbformat": 4,
 "nbformat_minor": 2
}
