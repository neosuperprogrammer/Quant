{
 "cells": [
  {
   "cell_type": "code",
   "execution_count": null,
   "metadata": {},
   "outputs": [],
   "source": [
    "# !open ."
   ]
  },
  {
   "cell_type": "code",
   "execution_count": null,
   "metadata": {},
   "outputs": [],
   "source": [
    "import pandas as pd\n",
    "import NeoQuant as nq\n",
    "import requests"
   ]
  },
  {
   "cell_type": "markdown",
   "metadata": {},
   "source": [
    "## get all company list"
   ]
  },
  {
   "cell_type": "code",
   "execution_count": null,
   "metadata": {},
   "outputs": [],
   "source": [
    "companies = nq.get_all_company_list()\n",
    "companies.index = 'A' + companies.index"
   ]
  },
  {
   "cell_type": "markdown",
   "metadata": {},
   "source": [
    "## bond spread"
   ]
  },
  {
   "cell_type": "code",
   "execution_count": null,
   "metadata": {},
   "outputs": [],
   "source": [
    "# https://www.kisrating.co.kr/ratingsStatistics/statics_spread.do\n",
    "expected_ratio = 7.91"
   ]
  },
  {
   "cell_type": "markdown",
   "metadata": {},
   "source": [
    "## get stock count"
   ]
  },
  {
   "cell_type": "code",
   "execution_count": null,
   "metadata": {},
   "outputs": [],
   "source": [
    "import math\n",
    "\n",
    "def get_total_stock_count(snapshot_tables):\n",
    "    stock_count = 0\n",
    "\n",
    "    info = snapshot_tables[0]\n",
    "    info = info.set_index(info.columns[0])\n",
    "    stock_count_info = info.loc['발행주식수(보통주/ 우선주)'][1]\n",
    "    stock_counts = stock_count_info.split('/')\n",
    "    for count in stock_counts:\n",
    "#         print(count)\n",
    "        stock_count = stock_count + int(count.replace(',',''))\n",
    "\n",
    "    return stock_count\n",
    "\n",
    "def get_self_stock_count(snapshot_tables):\n",
    "    self_stock_count = 0\n",
    "    info = snapshot_tables[4]\n",
    "    info = info.set_index(info.columns[0])\n",
    "    try:\n",
    "        count = info.loc[['자기주식\\xa0(자사주+자사주신탁)']]['보통주'][0] \n",
    "    except KeyError:\n",
    "        count = 0\n",
    "#     print(count)\n",
    "    if not math.isnan(count):\n",
    "        self_stock_count = int(count)\n",
    "    return self_stock_count\n",
    "\n",
    "# stock_count = get_total_stock_count(snapshot_tables) - get_self_stock_count(snapshot_tables)\n",
    "# print('stock count : ' + str(stock_count))\n",
    "\n",
    "def make_basic_df(snapshot_tables):\n",
    "    average_stock_count = get_total_stock_count(snapshot_tables)\n",
    "    self_stock_count = get_self_stock_count(snapshot_tables)\n",
    "\n",
    "    basic_df = pd.DataFrame({'총주식수': average_stock_count, '자사주': self_stock_count}, index = [company_code])\n",
    "    basic_df['주식수'] = basic_df['총주식수'] - basic_df['자사주']\n",
    "\n",
    "    info = snapshot_tables[0]\n",
    "    info = info.set_index(info.columns[0])\n",
    "\n",
    "    price = int(info.loc['종가/ 전일대비'].iloc[0].split('/')[0].replace(',', ''))\n",
    "    foreigner = float(info.loc['수익률(1M/ 3M/ 6M/ 1Y)'].iloc[2])\n",
    "    total_asset = int(info.loc['시가총액(보통주,억원)'].iloc[0]) * 100000000\n",
    "    basic_df['price'] = price\n",
    "    basic_df['외국인'] = foreigner\n",
    "    basic_df['시가총액'] = total_asset\n",
    "    return basic_df\n",
    "\n",
    "def make_fr_df(snapshot_tables):\n",
    "    data_df = snapshot_tables[10]\n",
    "    data_df.index = data_df[data_df.columns[0]]\n",
    "    data_df.index.name = ''\n",
    "    data_df.drop(data_df.columns[0], axis = 1, inplace = True)\n",
    "    \n",
    "#     data_df = data_df.set_index(data_df.columns[0])\n",
    "    data_df = data_df['Annual']\n",
    "\n",
    "    for num, name in enumerate(data_df.columns):\n",
    "        temp_df = pd.DataFrame({company_code: data_df[name]})\n",
    "        temp_df = temp_df.loc[['영업이익', '부채비율', '유보율', '지배주주지분', 'ROE', 'PER', 'PBR', '배당수익률']]\n",
    "        temp_df = temp_df.T\n",
    "        temp_df.columns = [[name] * len(temp_df.columns), temp_df.columns]\n",
    "        if num == 0:\n",
    "            total_df = temp_df\n",
    "        else:\n",
    "            total_df = pd.merge(total_df, temp_df, how='outer', left_index=True, right_index=True)    \n",
    "    return total_df\n",
    "\n",
    "\n",
    "def request_fnguide_snapshot(company_code):\n",
    "    if not company_code.startswith('A'):\n",
    "        company_code = 'A' + company_code\n",
    "    \n",
    "    snapshot_url = 'http://comp.fnguide.com/SVO2/ASP/SVD_Main.asp?pGB=1&cID=&MenuYn=Y&ReportGB=&NewMenuID=11&stkGb=701&gicode=' + company_code\n",
    "    snapshot_page = requests.get(snapshot_url)\n",
    "    snapshot_tables = pd.read_html(snapshot_page.text)\n",
    "    return snapshot_tables\n",
    "\n",
    "def get_ex_profits(asset, expected_ratio, roe, persist_factor, iteration = 10):\n",
    "    next_asset = asset\n",
    "    ex_profits = []\n",
    "    ex_profit_ratio = roe - expected_ratio\n",
    "    next_roe = roe\n",
    "    for _ in range(iteration):\n",
    "        ex_profit_ratio = ex_profit_ratio * persist_factor\n",
    "        next_roe = expected_ratio + ex_profit_ratio\n",
    "        profit = next_asset * (next_roe / 100)\n",
    "        ex_profit = next_asset * ex_profit_ratio / 100\n",
    "        ex_profits.append(ex_profit)\n",
    "        next_asset = next_asset + profit\n",
    "    return ex_profits\n",
    "def get_npv_profit(ex_profits, expected_ratio):\n",
    "    npv_value = 0\n",
    "    for num, ex_profit in enumerate(ex_profits):\n",
    "        ex_profit = ex_profit *  1 / (1 + expected_ratio / 100) ** (num + 1)\n",
    "#         print(ex_profit)\n",
    "        npv_value = npv_value + ex_profit\n",
    "\n",
    "    return npv_value\n",
    "\n",
    "def get_sum_of_profit(asset, expected_ratio, roe, persist_factor, iteration = 10):\n",
    "    ex_profits = get_ex_profits(asset, expected_ratio, roe, persist_factor, iteration)\n",
    "    sum_of_profit = get_npv_profit(ex_profits, expected_ratio)\n",
    "    return sum_of_profit\n",
    "\n",
    "def get_more_adequate_price(asset, roe, expected_ratio, stock_count, persist_factor = 1, iteration = 10):\n",
    "    accumulate_profit = get_sum_of_profit(asset, expected_ratio, roe, persist_factor, iteration)\n",
    "#     print(accumulate_profit)\n",
    "    adequate_stock_price = asset + accumulate_profit\n",
    "#     print(adequate_stock_price)\n",
    "    price = (asset + accumulate_profit) / stock_count\n",
    "    price = int(round(price))\n",
    "    return price\n",
    "\n",
    "def get_company_name(code, company_df):\n",
    "    name = companies.loc[code]['company']\n",
    "    if len(name) > 0:\n",
    "        return name\n",
    "    else:\n",
    "        return ''\n"
   ]
  },
  {
   "cell_type": "code",
   "execution_count": null,
   "metadata": {},
   "outputs": [],
   "source": [
    "company_name_list = ['이리츠코크렙', 'DL이앤씨', '맵스리얼티1']\n",
    "# company_name_list = ['맵스리얼티1']\n",
    "\n",
    "company_code_list = []\n",
    "for company_name in company_name_list:\n",
    "    company_code = nq.get_company_code(company_name, companies)\n",
    "    if len(company_code) > 0:\n",
    "        company_code_list.append(company_code)\n",
    "    else:\n",
    "        print('no company code with ' + company_name)\n",
    "company_code_list"
   ]
  },
  {
   "cell_type": "code",
   "execution_count": null,
   "metadata": {},
   "outputs": [],
   "source": [
    "company_code_list = companies.index"
   ]
  },
  {
   "cell_type": "markdown",
   "metadata": {},
   "source": [
    "## get fnguide info"
   ]
  },
  {
   "cell_type": "code",
   "execution_count": null,
   "metadata": {
    "scrolled": false
   },
   "outputs": [],
   "source": [
    "import time\n",
    "for num, company_code in enumerate(company_code_list):\n",
    "    try:\n",
    "        company_name = get_company_name(company_code, companies)\n",
    "        print(num, company_code, company_name)\n",
    "\n",
    "        time.sleep(1)\n",
    "\n",
    "        try:\n",
    "            snapshot_tables = request_fnguide_snapshot(company_code)\n",
    "        except requests.exceptions.Timeout:\n",
    "            time.sleep(60)\n",
    "            snapshot_tables = fs_df = request_fnguide_snapshot(company_code)\n",
    "\n",
    "        if len(snapshot_tables) < 10:\n",
    "            print('>>>> not much data')\n",
    "            continue\n",
    "        temp_df = make_basic_df(snapshot_tables)\n",
    "        temp_df['name'] = company_name\n",
    "        if num == 0:\n",
    "            basic_df = temp_df\n",
    "        else:\n",
    "            basic_df = pd.concat([basic_df, temp_df], sort=False)\n",
    "\n",
    "        temp_df = make_fr_df(snapshot_tables)\n",
    "        if num == 0:\n",
    "            fr_df = temp_df\n",
    "        else:\n",
    "            fr_df = pd.concat([fr_df, temp_df], sort=False)\n",
    "    except ValueError:\n",
    "        print('>>>> ValueError')\n",
    "        continue\n",
    "    except TypeError:\n",
    "        print('>>>> TypeError')\n",
    "        continue\n",
    "    except KeyError:\n",
    "        print('>>>> KeyError')\n",
    "        continue\n",
    "    \n",
    "        \n",
    "#     if num == 20:\n",
    "#         break\n"
   ]
  },
  {
   "cell_type": "markdown",
   "metadata": {},
   "source": [
    "## save basic dataframe to excel"
   ]
  },
  {
   "cell_type": "code",
   "execution_count": null,
   "metadata": {},
   "outputs": [],
   "source": [
    "basic_df.to_excel(r'data/basic_data.xlsx')"
   ]
  },
  {
   "cell_type": "markdown",
   "metadata": {},
   "source": [
    "## load basic dataframe from excel"
   ]
  },
  {
   "cell_type": "code",
   "execution_count": null,
   "metadata": {},
   "outputs": [],
   "source": [
    "basic_df = pd.read_excel(r'data/basic_data.xlsx')\n",
    "basic_df.index = basic_df[basic_df.columns[0]]\n",
    "basic_df.index.name = ''\n",
    "basic_df.drop(basic_df.columns[0], axis = 1, inplace = True)"
   ]
  },
  {
   "cell_type": "markdown",
   "metadata": {},
   "source": [
    "## save fr dataframe to excel"
   ]
  },
  {
   "cell_type": "code",
   "execution_count": null,
   "metadata": {},
   "outputs": [],
   "source": [
    "fr_df.to_excel(r'data/fr_data.xlsx')"
   ]
  },
  {
   "cell_type": "markdown",
   "metadata": {},
   "source": [
    "## load fr dataframe from excel"
   ]
  },
  {
   "cell_type": "code",
   "execution_count": null,
   "metadata": {},
   "outputs": [],
   "source": [
    "fr_df = pd.read_excel(r'data/fr_data.xlsx')\n",
    "fr_df.index = fr_df[fr_df.columns[0]]\n",
    "fr_df.index.name = ''\n",
    "fr_df.drop(fr_df.columns[0], axis = 1, inplace = True)\n",
    "big_col = list(fr_df.columns)\n",
    "small_col = list(fr_df.iloc[0])\n",
    "\n",
    "new_big_col = []\n",
    "for num, col in enumerate(big_col):\n",
    "    if 'Unnamed' in col:\n",
    "        new_big_col.append(new_big_col[num-1])\n",
    "    else:\n",
    "        new_big_col.append(big_col[num])\n",
    "\n",
    "fr_df.columns = [new_big_col, small_col]\n",
    "fr_df = fr_df.loc[ fr_df.index.dropna() ]"
   ]
  },
  {
   "cell_type": "code",
   "execution_count": null,
   "metadata": {},
   "outputs": [],
   "source": [
    "expected_ratio = 7.91"
   ]
  },
  {
   "cell_type": "markdown",
   "metadata": {},
   "source": [
    "## calculate adequate price"
   ]
  },
  {
   "cell_type": "code",
   "execution_count": null,
   "metadata": {
    "scrolled": false
   },
   "outputs": [],
   "source": [
    "for num, code in enumerate(fr_df.index):\n",
    "    company_name = get_company_name(code, companies)\n",
    "    print(num, code, company_name)\n",
    "    for col in reversed(fr_df.columns.levels[0]):\n",
    "#         print(fr_df[col]['ROE'])\n",
    "        try:\n",
    "            roe = pd.to_numeric(fr_df.loc[code][col]['ROE'])\n",
    "            per = pd.to_numeric(fr_df.loc[code][col]['PER'])\n",
    "            pbr = pd.to_numeric(fr_df.loc[code][col]['PBR'])\n",
    "            asset = pd.to_numeric(fr_df.loc[code][col]['지배주주지분']) * 100000000\n",
    "            debt_rate = pd.to_numeric(fr_df.loc[code][col]['부채비율'])\n",
    "            keep_rate = pd.to_numeric(fr_df.loc[code][col]['유보율'])\n",
    "            interest_rate = pd.to_numeric(fr_df.loc[code][col]['배당수익률'])\n",
    "\n",
    "                \n",
    "            if not math.isnan(roe) and not math.isnan(asset):\n",
    "                print('standard date : ' + col)\n",
    "                stock_count = basic_df.loc[code]['주식수']\n",
    "                basic_df.at[code, '기준일'] = col\n",
    "                basic_df.at[code, 'roe'] = roe\n",
    "                basic_df.at[code, 'per'] = per\n",
    "                basic_df.at[code, 'pbr'] = pbr\n",
    "                basic_df.at[code, '부채비율'] = debt_rate\n",
    "                basic_df.at[code, '유보율'] = keep_rate\n",
    "                basic_df.at[code, '배당수익률'] = interest_rate\n",
    "                \n",
    "                basic_df.at[code, 'expectation'] = expected_ratio\n",
    "    #             print('stock_count : ' + str(stock_count))\n",
    "                high = get_more_adequate_price(asset, roe, expected_ratio, stock_count, 1)\n",
    "    #             print('high : ' + str(high))\n",
    "                basic_df.at[code, 'high'] = high\n",
    "                middle = get_more_adequate_price(asset, roe, expected_ratio, stock_count, 0.9)\n",
    "                basic_df.at[code, 'middle'] = middle\n",
    "                low = get_more_adequate_price(asset, roe, expected_ratio, stock_count, 0.8)\n",
    "                basic_df.at[code, 'low'] = low\n",
    "                break\n",
    "        except ValueError:\n",
    "            print('>>> ValueError')\n",
    "            continue\n",
    "\n",
    "\n",
    "basic_df['dis_rate'] = basic_df['price'] / basic_df['low']\n",
    "basic_df = basic_df.sort_values(by='dis_rate', ascending=True)"
   ]
  },
  {
   "cell_type": "markdown",
   "metadata": {},
   "source": [
    "## make report"
   ]
  },
  {
   "cell_type": "code",
   "execution_count": null,
   "metadata": {},
   "outputs": [],
   "source": [
    "final_df = basic_df\n",
    "final_df = final_df.loc[~final_df.index.str.startswith('A9')]\n",
    "final_df['dis_rate'] = final_df['price'] / final_df['low']\n",
    "final_df = final_df.sort_values(by='dis_rate', ascending=True)"
   ]
  },
  {
   "cell_type": "code",
   "execution_count": null,
   "metadata": {},
   "outputs": [],
   "source": [
    "final_df = final_df.loc[final_df['dis_rate'] > 0.1]\n",
    "\n",
    "final_df = final_df.loc[final_df['dis_rate'] < 1]\n",
    "\n",
    "final_df = final_df.loc[final_df['roe'] > final_df['expectation']]\n",
    "# final_df = final_df.loc[final_df['roe'] > 10]\n",
    "\n",
    "final_df = final_df.loc[final_df['roe'] < 50]\n",
    "\n",
    "final_df = final_df.loc[final_df['시가총액'] > 1000 * 100000000]"
   ]
  },
  {
   "cell_type": "code",
   "execution_count": null,
   "metadata": {},
   "outputs": [],
   "source": [
    "final_df = final_df.loc[final_df['배당수익률'] > 1]"
   ]
  },
  {
   "cell_type": "code",
   "execution_count": null,
   "metadata": {},
   "outputs": [],
   "source": [
    "final_df = final_df.loc[~final_df['name'].str.contains('홀딩스')]"
   ]
  },
  {
   "cell_type": "code",
   "execution_count": null,
   "metadata": {},
   "outputs": [],
   "source": [
    "final_df = final_df.loc[final_df['roe'] > 10]"
   ]
  },
  {
   "cell_type": "code",
   "execution_count": null,
   "metadata": {},
   "outputs": [],
   "source": [
    "len(final_df)"
   ]
  },
  {
   "cell_type": "code",
   "execution_count": null,
   "metadata": {},
   "outputs": [],
   "source": [
    "final_df.to_excel(r'data/port_data.xlsx')"
   ]
  },
  {
   "cell_type": "markdown",
   "metadata": {},
   "source": [
    "## show chart"
   ]
  },
  {
   "cell_type": "code",
   "execution_count": 54,
   "metadata": {},
   "outputs": [
    {
     "name": "stderr",
     "output_type": "stream",
     "text": [
      "/Users/neox/anaconda/anaconda3/lib/python3.7/site-packages/pandas/plotting/_converter.py:129: FutureWarning: Using an implicitly registered datetime converter for a matplotlib plotting method. The converter was registered by pandas on import. Future versions of pandas will require you to explicitly register matplotlib converters.\n",
      "\n",
      "To register the converters:\n",
      "\t>>> from pandas.plotting import register_matplotlib_converters\n",
      "\t>>> register_matplotlib_converters()\n",
      "  warnings.warn(msg, FutureWarning)\n"
     ]
    },
    {
     "data": {
      "image/png": "[encoded data removed]",
      "text/plain": [
       "<Figure size 1440x864 with 1 Axes>"
      ]
     },
     "metadata": {
      "needs_background": "light"
     },
     "output_type": "display_data"
    }
   ],
   "source": [
    "company_name = '대원산업'\n",
    "company_code = nq.get_company_code(company_name, companies)\n",
    "\n",
    "\n",
    "price_df = nq.request_price_list(company_code, 'day', 1000)\n",
    "\n",
    "price_high = basic_df.loc[company_code]['high']\n",
    "price_middle = basic_df.loc[company_code]['middle']\n",
    "price_low = basic_df.loc[company_code]['low']\n",
    "\n",
    "price_df['price_low'] = [price_low] * len(price_df)\n",
    "price_df['price_middle'] = [price_middle] * len(price_df)\n",
    "price_df['price_high'] = [price_high] * len(price_df)\n",
    "\n",
    "nq.show_price_chart(company_code, company_name, price_df)"
   ]
  }
 ],
 "metadata": {
  "kernelspec": {
   "display_name": "Python 3",
   "language": "python",
   "name": "python3"
  },
  "language_info": {
   "codemirror_mode": {
    "name": "ipython",
    "version": 3
   },
   "file_extension": ".py",
   "mimetype": "text/x-python",
   "name": "python",
   "nbconvert_exporter": "python",
   "pygments_lexer": "ipython3",
   "version": "3.7.3"
  }
 },
 "nbformat": 4,
 "nbformat_minor": 2
}
