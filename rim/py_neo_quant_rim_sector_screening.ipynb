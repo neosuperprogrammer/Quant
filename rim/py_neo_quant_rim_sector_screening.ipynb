{
 "cells": [
  {
   "cell_type": "code",
   "execution_count": 1,
   "metadata": {},
   "outputs": [],
   "source": [
    "!open ."
   ]
  },
  {
   "cell_type": "code",
   "execution_count": 19,
   "metadata": {},
   "outputs": [],
   "source": [
    "import pandas as pd\n",
    "import requests\n",
    "import bs4\n",
    "import math\n",
    "import time\n",
    "import matplotlib.pyplot as plt\n",
    "import NeoQuant as nq\n",
    "from matplotlib import font_manager, rc\n",
    "pd.set_option('display.max_colwidth', -1)\n",
    "rc('font', family='AppleGothic')\n",
    "plt.rcParams['axes.unicode_minus'] = False\n",
    "\n",
    "pd.set_option('display.max_columns', None)\n",
    "# pd.set_option('display.max_rows', 500)"
   ]
  },
  {
   "cell_type": "markdown",
   "metadata": {},
   "source": [
    "## get all company list"
   ]
  },
  {
   "cell_type": "code",
   "execution_count": 3,
   "metadata": {},
   "outputs": [],
   "source": [
    "companies = nq.get_all_company_list()\n",
    "companies.index = 'A' + companies.index"
   ]
  },
  {
   "cell_type": "markdown",
   "metadata": {},
   "source": [
    "## bond spread"
   ]
  },
  {
   "cell_type": "code",
   "execution_count": 4,
   "metadata": {},
   "outputs": [
    {
     "data": {
      "text/plain": [
       "8.02"
      ]
     },
     "execution_count": 4,
     "metadata": {},
     "output_type": "execute_result"
    }
   ],
   "source": [
    "base_profit_ratio = nq.get_base_profit_ratio()\n",
    "base_profit_ratio"
   ]
  },
  {
   "cell_type": "markdown",
   "metadata": {},
   "source": [
    "## load basic dataframe from excel"
   ]
  },
  {
   "cell_type": "code",
   "execution_count": 6,
   "metadata": {},
   "outputs": [],
   "source": [
    "basic_df = pd.read_excel(r'data/basic_data.xlsx')\n",
    "basic_df.index = basic_df[basic_df.columns[0]]\n",
    "basic_df.index.name = ''\n",
    "basic_df.drop(basic_df.columns[0], axis = 1, inplace = True)"
   ]
  },
  {
   "cell_type": "markdown",
   "metadata": {},
   "source": [
    "## load fr dataframe from excel"
   ]
  },
  {
   "cell_type": "code",
   "execution_count": 7,
   "metadata": {},
   "outputs": [],
   "source": [
    "fr_df = pd.read_excel(r'data/fr_data.xlsx')\n",
    "fr_df.index = fr_df[fr_df.columns[0]]\n",
    "fr_df.index.name = ''\n",
    "fr_df.drop(fr_df.columns[0], axis = 1, inplace = True)\n",
    "big_col = list(fr_df.columns)\n",
    "small_col = list(fr_df.iloc[0])\n",
    "\n",
    "new_big_col = []\n",
    "for num, col in enumerate(big_col):\n",
    "    if 'Unnamed' in col:\n",
    "        new_big_col.append(new_big_col[num-1])\n",
    "    else:\n",
    "        new_big_col.append(big_col[num])\n",
    "\n",
    "fr_df.columns = [new_big_col, small_col]\n",
    "fr_df = fr_df.loc[ fr_df.index.dropna() ]"
   ]
  },
  {
   "cell_type": "code",
   "execution_count": 11,
   "metadata": {},
   "outputs": [],
   "source": [
    "# company_name_list = ['DB금융투자', 'KTB투자증권', '대신증권', '한화투자증권', '신영증권', '한양증권',\n",
    "#                     '유안타증권', '코리아에셋투자증권', '교보증권', '현대차증권', '삼성증권', '유화증권', \n",
    "#                     '상상인증권', 'NH투자증권', '한국금융지주', '이베스트투자증권', '부국증권', 'SK증권',\n",
    "#                     '유진증권', '메리츠증권', '다우데이타', '키움증권', '미래에셋대우']\n",
    "company_name_list = ['유니슨']"
   ]
  },
  {
   "cell_type": "code",
   "execution_count": 12,
   "metadata": {},
   "outputs": [
    {
     "data": {
      "text/plain": [
       "['A018000']"
      ]
     },
     "execution_count": 12,
     "metadata": {},
     "output_type": "execute_result"
    }
   ],
   "source": [
    "company_code_list = nq.get_company_code_list(company_name_list, companies)\n",
    "company_code_list"
   ]
  },
  {
   "cell_type": "code",
   "execution_count": 13,
   "metadata": {},
   "outputs": [],
   "source": [
    "sector_df = basic_df.loc[company_code_list]"
   ]
  },
  {
   "cell_type": "markdown",
   "metadata": {},
   "source": [
    "## calculate adequate price"
   ]
  },
  {
   "cell_type": "code",
   "execution_count": 16,
   "metadata": {
    "scrolled": false
   },
   "outputs": [
    {
     "name": "stdout",
     "output_type": "stream",
     "text": [
      "1 / 1 : 유니슨 (A018000)\n",
      "standard date : 2019/12\n"
     ]
    }
   ],
   "source": [
    "total = len(sector_df)\n",
    "\n",
    "for num, code in enumerate(sector_df.index):\n",
    "    company_name = nq.get_company_name(code, companies)\n",
    "    print(str(num + 1) + ' / ' + str(total) + \" : \" + company_name + ' (' + str(code) + ')')\n",
    "\n",
    "#     print(num, code, company_name)\n",
    "    for col in reversed(fr_df.columns.levels[0]):\n",
    "#         print(fr_df[col]['ROE'])\n",
    "        try:\n",
    "            roe = pd.to_numeric(fr_df.loc[code][col]['ROE'])\n",
    "            per = pd.to_numeric(fr_df.loc[code][col]['PER'])\n",
    "            pbr = pd.to_numeric(fr_df.loc[code][col]['PBR'])\n",
    "            asset = pd.to_numeric(fr_df.loc[code][col]['지배주주지분']) * 100000000\n",
    "            debt_rate = pd.to_numeric(fr_df.loc[code][col]['부채비율'])\n",
    "            keep_rate = pd.to_numeric(fr_df.loc[code][col]['유보율'])\n",
    "            interest_rate = pd.to_numeric(fr_df.loc[code][col]['배당수익률'])\n",
    "\n",
    "                \n",
    "            if not math.isnan(roe) and not math.isnan(asset):\n",
    "                print('standard date : ' + col)\n",
    "                stock_count = sector_df.loc[code]['주식수']\n",
    "                sector_df.at[code, '기준일'] = col\n",
    "                sector_df.at[code, 'roe'] = roe\n",
    "                sector_df.at[code, 'per'] = per\n",
    "                sector_df.at[code, 'pbr'] = pbr\n",
    "                sector_df.at[code, '부채비율'] = debt_rate\n",
    "                sector_df.at[code, '유보율'] = keep_rate\n",
    "                sector_df.at[code, '배당수익률'] = interest_rate\n",
    "                \n",
    "                sector_df.at[code, 'expectation'] = base_profit_ratio\n",
    "    #             print('stock_count : ' + str(stock_count))\n",
    "                high = nq.get_more_adequate_price(asset, roe, base_profit_ratio, stock_count, 1)\n",
    "    #             print('high : ' + str(high))\n",
    "                sector_df.at[code, 'high'] = high\n",
    "                middle = nq.get_more_adequate_price(asset, roe, base_profit_ratio, stock_count, 0.9)\n",
    "                sector_df.at[code, 'middle'] = middle\n",
    "                low = nq.get_more_adequate_price(asset, roe, base_profit_ratio, stock_count, 0.8)\n",
    "                sector_df.at[code, 'low'] = low\n",
    "                very_low = nq.get_more_adequate_price(asset, roe, base_profit_ratio, stock_count, 0.5)\n",
    "                sector_df.at[code, 'very_low'] = very_low\n",
    "                break\n",
    "        except ValueError:\n",
    "            print('>>> ValueError')\n",
    "            continue\n",
    "\n",
    "\n",
    "sector_df['dis_rate'] = sector_df['price'] / sector_df['low']\n",
    "sector_df = sector_df.sort_values(by='dis_rate', ascending=True)\n",
    "sector_df['rank'] = sector_df['dis_rate'].rank()"
   ]
  },
  {
   "cell_type": "code",
   "execution_count": 20,
   "metadata": {},
   "outputs": [
    {
     "data": {
      "text/html": [
       "<div>\n",
       "<style scoped>\n",
       "    .dataframe tbody tr th:only-of-type {\n",
       "        vertical-align: middle;\n",
       "    }\n",
       "\n",
       "    .dataframe tbody tr th {\n",
       "        vertical-align: top;\n",
       "    }\n",
       "\n",
       "    .dataframe thead th {\n",
       "        text-align: right;\n",
       "    }\n",
       "</style>\n",
       "<table border=\"1\" class=\"dataframe\">\n",
       "  <thead>\n",
       "    <tr style=\"text-align: right;\">\n",
       "      <th></th>\n",
       "      <th>name</th>\n",
       "      <th>price</th>\n",
       "      <th>총주식수</th>\n",
       "      <th>자사주</th>\n",
       "      <th>주식수</th>\n",
       "      <th>외국인</th>\n",
       "      <th>시가총액</th>\n",
       "      <th>기준일</th>\n",
       "      <th>roe</th>\n",
       "      <th>per</th>\n",
       "      <th>pbr</th>\n",
       "      <th>부채비율</th>\n",
       "      <th>유보율</th>\n",
       "      <th>배당수익률</th>\n",
       "      <th>expectation</th>\n",
       "      <th>high</th>\n",
       "      <th>middle</th>\n",
       "      <th>low</th>\n",
       "      <th>very_low</th>\n",
       "      <th>dis_rate</th>\n",
       "      <th>rank</th>\n",
       "    </tr>\n",
       "    <tr>\n",
       "      <th></th>\n",
       "      <th></th>\n",
       "      <th></th>\n",
       "      <th></th>\n",
       "      <th></th>\n",
       "      <th></th>\n",
       "      <th></th>\n",
       "      <th></th>\n",
       "      <th></th>\n",
       "      <th></th>\n",
       "      <th></th>\n",
       "      <th></th>\n",
       "      <th></th>\n",
       "      <th></th>\n",
       "      <th></th>\n",
       "      <th></th>\n",
       "      <th></th>\n",
       "      <th></th>\n",
       "      <th></th>\n",
       "      <th></th>\n",
       "      <th></th>\n",
       "      <th></th>\n",
       "    </tr>\n",
       "  </thead>\n",
       "  <tbody>\n",
       "    <tr>\n",
       "      <th>A018000</th>\n",
       "      <td>유니슨</td>\n",
       "      <td>3960</td>\n",
       "      <td>121516969</td>\n",
       "      <td>0</td>\n",
       "      <td>121516969</td>\n",
       "      <td>3.78</td>\n",
       "      <td>480600000000</td>\n",
       "      <td>2019/12</td>\n",
       "      <td>-5.71</td>\n",
       "      <td>NaN</td>\n",
       "      <td>1.37</td>\n",
       "      <td>231.98</td>\n",
       "      <td>46.25</td>\n",
       "      <td>NaN</td>\n",
       "      <td>8.02</td>\n",
       "      <td>150.0</td>\n",
       "      <td>269.0</td>\n",
       "      <td>367.0</td>\n",
       "      <td>515.0</td>\n",
       "      <td>10.790191</td>\n",
       "      <td>1.0</td>\n",
       "    </tr>\n",
       "  </tbody>\n",
       "</table>\n",
       "</div>"
      ],
      "text/plain": [
       "        name  price       총주식수  자사주        주식수   외국인          시가총액      기준일  \\\n",
       "                                                                              \n",
       "A018000  유니슨  3960   121516969  0    121516969  3.78  480600000000  2019/12   \n",
       "\n",
       "          roe  per   pbr    부채비율    유보율  배당수익률  expectation   high  middle  \\\n",
       "                                                                             \n",
       "A018000 -5.71 NaN   1.37  231.98  46.25 NaN     8.02         150.0  269.0    \n",
       "\n",
       "           low  very_low   dis_rate  rank  \n",
       "                                           \n",
       "A018000  367.0  515.0     10.790191  1.0   "
      ]
     },
     "execution_count": 20,
     "metadata": {},
     "output_type": "execute_result"
    }
   ],
   "source": [
    "sector_df"
   ]
  },
  {
   "cell_type": "code",
   "execution_count": 84,
   "metadata": {},
   "outputs": [],
   "source": [
    "sector_df.to_excel(r'data/stock_sector.xlsx')"
   ]
  },
  {
   "cell_type": "code",
   "execution_count": 85,
   "metadata": {},
   "outputs": [],
   "source": [
    "sector_df = pd.read_excel(r'data/stock_sector.xlsx')\n",
    "sector_df.index = sector_df[sector_df.columns[0]]\n",
    "sector_df.index.name = ''\n",
    "sector_df.drop(sector_df.columns[0], axis = 1, inplace = True)"
   ]
  },
  {
   "cell_type": "code",
   "execution_count": 17,
   "metadata": {},
   "outputs": [
    {
     "name": "stderr",
     "output_type": "stream",
     "text": [
      "/Users/Shared/anaconda3/anaconda3/lib/python3.7/site-packages/pandas/plotting/_converter.py:129: FutureWarning: Using an implicitly registered datetime converter for a matplotlib plotting method. The converter was registered by pandas on import. Future versions of pandas will require you to explicitly register matplotlib converters.\n",
      "\n",
      "To register the converters:\n",
      "\t>>> from pandas.plotting import register_matplotlib_converters\n",
      "\t>>> register_matplotlib_converters()\n",
      "  warnings.warn(msg, FutureWarning)\n"
     ]
    },
    {
     "data": {
      "image/png": "[encoded data removed]",
      "text/plain": [
       "<Figure size 1440x864 with 1 Axes>"
      ]
     },
     "metadata": {
      "needs_background": "light"
     },
     "output_type": "display_data"
    }
   ],
   "source": [
    "for company_code in company_code_list:\n",
    "    company_name = nq.get_company_name(company_code, companies)\n",
    "\n",
    "    price_df = nq.request_price_list(company_code, 'day', 1000)\n",
    "\n",
    "    price_high = sector_df.loc[company_code]['high']\n",
    "    price_middle = sector_df.loc[company_code]['middle']\n",
    "    price_low = sector_df.loc[company_code]['low']\n",
    "    price_very_low = sector_df.loc[company_code]['very_low']\n",
    "\n",
    "    price_df['price_very_low'] = [price_very_low] * len(price_df)\n",
    "    price_df['price_low'] = [price_low] * len(price_df)\n",
    "    price_df['price_middle'] = [price_middle] * len(price_df)\n",
    "    price_df['price_high'] = [price_high] * len(price_df)\n",
    "\n",
    "    nq.show_price_chart(company_code, company_name, price_df)"
   ]
  }
 ],
 "metadata": {
  "kernelspec": {
   "display_name": "Python 3",
   "language": "python",
   "name": "python3"
  },
  "language_info": {
   "codemirror_mode": {
    "name": "ipython",
    "version": 3
   },
   "file_extension": ".py",
   "mimetype": "text/x-python",
   "name": "python",
   "nbconvert_exporter": "python",
   "pygments_lexer": "ipython3",
   "version": "3.7.3"
  }
 },
 "nbformat": 4,
 "nbformat_minor": 2
}
