{
 "cells": [
  {
   "cell_type": "code",
   "execution_count": 4,
   "metadata": {},
   "outputs": [],
   "source": [
    "!open ."
   ]
  },
  {
   "cell_type": "markdown",
   "metadata": {},
   "source": [
    "## get company list"
   ]
  },
  {
   "cell_type": "code",
   "execution_count": 63,
   "metadata": {},
   "outputs": [],
   "source": [
    "import pandas as pd\n",
    "import requests\n",
    "import bs4\n",
    "\n",
    "def request_price_list(company_code, timeframe, count):\n",
    "    request_code = company_code\n",
    "    if request_code.startswith('A'):\n",
    "        request_code = request_code.replace('A','')\n",
    "    url = 'https://fchart.stock.naver.com/sise.nhn?requestType=0'\n",
    "    price_url = url + '&symbol=' + request_code + '&timeframe=' + timeframe + '&count=' + str(count)\n",
    "    price_data = requests.get(price_url)\n",
    "    price_data_bs = bs4.BeautifulSoup(price_data.text, 'lxml')\n",
    "    item_list = price_data_bs.find_all('item')\n",
    "    \n",
    "    date_list = []\n",
    "    price_list = []\n",
    "    for item in item_list:\n",
    "        temp_data = item['data']\n",
    "        datas = temp_data.split('|')\n",
    "        date_list.append(datas[0])\n",
    "        price_list.append(datas[4])\n",
    "\n",
    "    price_list = pd.to_numeric(price_list)\n",
    "    price_df = pd.DataFrame({company_code:price_list}, index=date_list)\n",
    "    price_df.index = pd.to_datetime(price_df.index)\n",
    "    \n",
    "    return price_df\n",
    "\n",
    "def get_company_list(kospi = True):\n",
    "    if kospi == True: \n",
    "        file_loc = 'data/kospi.xlsx'\n",
    "    else:\n",
    "        file_loc = 'data/kosdaq.xlsx'\n",
    "\n",
    "    company = pd.read_excel(file_loc)\n",
    "    company.code = company.code.map('{:06d}'.format)\n",
    "    company = company.set_index(company.columns[0])\n",
    "    return company\n",
    "\n",
    "def get_all_company_list():\n",
    "    kospi = get_company_list(True)\n",
    "    kosdaq = get_company_list(False)\n",
    "    kospi['type'] = 'kospi'\n",
    "    kosdaq['type'] = 'kosdaq'\n",
    "    companies = pd.concat([kospi, kosdaq], sort=False)\n",
    "    return companies\n",
    "\n",
    "def get_company_code(name, company_df):\n",
    "    return company_df[company_df['company'] == name].index[0]\n",
    "\n",
    "companies = get_all_company_list()"
   ]
  },
  {
   "cell_type": "markdown",
   "metadata": {},
   "source": [
    "## get company code"
   ]
  },
  {
   "cell_type": "code",
   "execution_count": 75,
   "metadata": {},
   "outputs": [
    {
     "name": "stdout",
     "output_type": "stream",
     "text": [
      "039490\n"
     ]
    }
   ],
   "source": [
    "firm_name = '키움증권'\n",
    "firm_code = get_company_code(firm_name, companies)\n",
    "print(firm_code)"
   ]
  },
  {
   "cell_type": "code",
   "execution_count": 76,
   "metadata": {},
   "outputs": [],
   "source": [
    "price_df = request_price_list(firm_code, 'day', 1000)\n",
    "\n",
    "import matplotlib.pyplot as plt\n",
    "from matplotlib import font_manager, rc\n",
    "# pd.set_option('display.max_colwidth', -1)\n",
    "rc('font', family='AppleGothic')\n",
    "# plt.rcParams['axes.unicode_minus'] = False\n",
    "\n",
    "plt.figure(figsize=(20, 12))\n",
    "plt.plot(price_df.index, price_df[firm_code], color='darkblue',linewidth=3.0)\n",
    "plt.title(firm_name)\n",
    "plt.xlabel(\"duration\")\n",
    "plt.ylabel(\"price\")\n",
    "# plt.legend(loc='upper right')\n",
    "# plt.grid()\n",
    "plt.show() "
   ]
  }
 ],
 "metadata": {
  "kernelspec": {
   "display_name": "Python 3",
   "language": "python",
   "name": "python3"
  },
  "language_info": {
   "codemirror_mode": {
    "name": "ipython",
    "version": 3
   },
   "file_extension": ".py",
   "mimetype": "text/x-python",
   "name": "python",
   "nbconvert_exporter": "python",
   "pygments_lexer": "ipython3",
   "version": "3.7.3"
  }
 },
 "nbformat": 4,
 "nbformat_minor": 2
}
