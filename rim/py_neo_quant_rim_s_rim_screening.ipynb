{
 "cells": [
  {
   "cell_type": "code",
   "execution_count": null,
   "metadata": {},
   "outputs": [],
   "source": [
    "# !open ."
   ]
  },
  {
   "cell_type": "code",
   "execution_count": null,
   "metadata": {},
   "outputs": [],
   "source": [
    "import pandas as pd\n",
    "import requests\n",
    "import bs4\n",
    "import math\n",
    "import time\n",
    "import matplotlib.pyplot as plt\n",
    "from matplotlib import font_manager, rc\n",
    "pd.set_option('display.max_colwidth', -1)\n",
    "rc('font', family='AppleGothic')\n",
    "plt.rcParams['axes.unicode_minus'] = False\n",
    "import NeoQuant as nq"
   ]
  },
  {
   "cell_type": "markdown",
   "metadata": {},
   "source": [
    "## get all company list"
   ]
  },
  {
   "cell_type": "code",
   "execution_count": null,
   "metadata": {},
   "outputs": [],
   "source": [
    "companies = nq.get_all_company_list()\n",
    "companies.index = 'A' + companies.index"
   ]
  },
  {
   "cell_type": "code",
   "execution_count": null,
   "metadata": {},
   "outputs": [],
   "source": [
    "sector_df = pd.read_excel(r'data/s_rim_sector.xlsx')\n",
    "sector_df.index = sector_df[sector_df.columns[0]]\n",
    "sector_df.index.name = ''\n",
    "sector_df.drop(sector_df.columns[0], axis = 1, inplace = True)"
   ]
  },
  {
   "cell_type": "markdown",
   "metadata": {},
   "source": [
    "## 수익률 계산"
   ]
  },
  {
   "cell_type": "code",
   "execution_count": null,
   "metadata": {},
   "outputs": [],
   "source": [
    "port_df = sector_df"
   ]
  },
  {
   "cell_type": "code",
   "execution_count": null,
   "metadata": {},
   "outputs": [],
   "source": [
    "import time\n",
    "\n",
    "port_list = port_df.index\n",
    "total = len(port_list)\n",
    "for num, company_code in enumerate(port_list):\n",
    "    company_name = nq.get_company_name(company_code, companies)\n",
    "    print(str(num + 1) + ' / ' + str(total) + \" : \" + company_name + ' (' + str(company_code) + ')')\n",
    "    time.sleep(1)\n",
    "    try:\n",
    "        price_df = nq.request_price_list(company_code, 'day', 100)\n",
    "    except requests.exceptions.Timeout:\n",
    "        time.sleep(60)\n",
    "        price_df = nq.request_price_list(company_code, 'day', 100)\n",
    "        \n",
    "    current = price_df[price_df.columns[0]][-1]\n",
    "    port_df.at[company_code, 'current'] = int(current)"
   ]
  },
  {
   "cell_type": "code",
   "execution_count": null,
   "metadata": {},
   "outputs": [],
   "source": [
    "profit_rate = (port_df['current'] - port_df['price']) / port_df['price']\n",
    "profit_rate = profit_rate.dropna()\n",
    "profit_rate = profit_rate.map(lambda rate: str(\"%.2f\" % round(float(rate * 100), 2)) + '%')\n",
    "port_df['수익률'] = profit_rate"
   ]
  },
  {
   "cell_type": "code",
   "execution_count": null,
   "metadata": {},
   "outputs": [],
   "source": [
    "profit_rate = port_df['수익률'].map(lambda rate: float(rate[:-1]))\n",
    "average_profit = profit_rate.sum() / len(port_df)\n",
    "print('average profit : ' + \"%.2f\" % average_profit + '%')"
   ]
  },
  {
   "cell_type": "code",
   "execution_count": null,
   "metadata": {},
   "outputs": [],
   "source": [
    "port_df.to_excel(r'data/s_rim_sector.xlsx')"
   ]
  },
  {
   "cell_type": "markdown",
   "metadata": {},
   "source": [
    "## show chart"
   ]
  },
  {
   "cell_type": "code",
   "execution_count": null,
   "metadata": {},
   "outputs": [],
   "source": [
    "company_code_list = port_df.index"
   ]
  },
  {
   "cell_type": "code",
   "execution_count": null,
   "metadata": {
    "scrolled": false
   },
   "outputs": [],
   "source": [
    "for company_code in company_code_list:\n",
    "    company_name = nq.get_company_name(company_code, companies)\n",
    "\n",
    "    price_df = nq.request_price_list(company_code, 'day', 1000)\n",
    "\n",
    "    price_high = sector_df.loc[company_code]['high']\n",
    "    price_middle = sector_df.loc[company_code]['middle']\n",
    "    price_low = sector_df.loc[company_code]['low']\n",
    "    price_very_low = sector_df.loc[company_code]['very_low']\n",
    "\n",
    "    price_df['price_very_low'] = [price_very_low] * len(price_df)\n",
    "    price_df['price_low'] = [price_low] * len(price_df)\n",
    "    price_df['price_middle'] = [price_middle] * len(price_df)\n",
    "    price_df['price_high'] = [price_high] * len(price_df)\n",
    "\n",
    "    nq.show_price_chart(company_code, company_name, price_df)"
   ]
  }
 ],
 "metadata": {
  "kernelspec": {
   "display_name": "Python 3",
   "language": "python",
   "name": "python3"
  },
  "language_info": {
   "codemirror_mode": {
    "name": "ipython",
    "version": 3
   },
   "file_extension": ".py",
   "mimetype": "text/x-python",
   "name": "python",
   "nbconvert_exporter": "python",
   "pygments_lexer": "ipython3",
   "version": "3.7.3"
  }
 },
 "nbformat": 4,
 "nbformat_minor": 2
}
