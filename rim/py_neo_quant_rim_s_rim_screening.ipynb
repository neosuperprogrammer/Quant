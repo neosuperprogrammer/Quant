{
 "cells": [
  {
   "cell_type": "code",
   "execution_count": 1,
   "metadata": {},
   "outputs": [],
   "source": [
    "# !open ."
   ]
  },
  {
   "cell_type": "code",
   "execution_count": 2,
   "metadata": {},
   "outputs": [],
   "source": [
    "import pandas as pd\n",
    "import requests\n",
    "import bs4\n",
    "import math\n",
    "import time\n",
    "import matplotlib.pyplot as plt\n",
    "from matplotlib import font_manager, rc\n",
    "pd.set_option('display.max_colwidth', -1)\n",
    "rc('font', family='AppleGothic')\n",
    "plt.rcParams['axes.unicode_minus'] = False\n",
    "import NeoQuant as nq"
   ]
  },
  {
   "cell_type": "markdown",
   "metadata": {},
   "source": [
    "## get all company list"
   ]
  },
  {
   "cell_type": "code",
   "execution_count": 3,
   "metadata": {},
   "outputs": [],
   "source": [
    "companies = nq.get_all_company_list()\n",
    "companies.index = 'A' + companies.index"
   ]
  },
  {
   "cell_type": "code",
   "execution_count": 4,
   "metadata": {},
   "outputs": [],
   "source": [
    "sector_df = pd.read_excel(r'data/s_rim_sector.xlsx')\n",
    "sector_df.index = sector_df[sector_df.columns[0]]\n",
    "sector_df.index.name = ''\n",
    "sector_df.drop(sector_df.columns[0], axis = 1, inplace = True)"
   ]
  },
  {
   "cell_type": "markdown",
   "metadata": {},
   "source": [
    "## 수익률 계산"
   ]
  },
  {
   "cell_type": "code",
   "execution_count": 5,
   "metadata": {},
   "outputs": [],
   "source": [
    "port_df = sector_df"
   ]
  },
  {
   "cell_type": "code",
   "execution_count": 6,
   "metadata": {},
   "outputs": [
    {
     "name": "stdout",
     "output_type": "stream",
     "text": [
      "1 / 63 : DL (A000210)\n",
      "2 / 63 : KG ETS (A151860)\n",
      "3 / 63 : HDC (A012630)\n",
      "4 / 63 : JB금융지주 (A175330)\n",
      "5 / 63 : 대원산업 (A005710)\n",
      "6 / 63 : 디티알오토모티브 (A007340)\n",
      "7 / 63 : 한신공영 (A004960)\n",
      "8 / 63 : 두산 (A000150)\n",
      "9 / 63 : 상상인 (A038540)\n",
      "10 / 63 : 리드코프 (A012700)\n",
      "11 / 63 : 코텍 (A052330)\n",
      "12 / 63 : 메리츠금융지주 (A138040)\n",
      "13 / 63 : KG케미칼 (A001390)\n",
      "14 / 63 : 계룡건설산업 (A013580)\n",
      "15 / 63 : 삼양통상 (A002170)\n",
      "16 / 63 : AJ네트웍스 (A095570)\n",
      "17 / 63 : 한국토지신탁 (A034830)\n",
      "18 / 63 : 신대양제지 (A016590)\n",
      "19 / 63 : 삼호개발 (A010960)\n",
      "20 / 63 : 토비스 (A051360)\n",
      "21 / 63 : 디씨엠 (A024090)\n",
      "22 / 63 : 동원개발 (A013120)\n",
      "23 / 63 : 한미글로벌 (A053690)\n",
      "24 / 63 : 메리츠증권 (A008560)\n",
      "25 / 63 : 대상홀딩스 (A084690)\n",
      "26 / 63 : 창해에탄올 (A004650)\n",
      "27 / 63 : HDC현대산업개발 (A294870)\n",
      "28 / 63 : 한국자산신탁 (A123890)\n",
      "29 / 63 : 금화피에스시 (A036190)\n",
      "30 / 63 : 메리츠화재 (A000060)\n",
      "31 / 63 : 우리금융캐피탈 (A033660)\n",
      "32 / 63 : 삼영무역 (A002810)\n",
      "33 / 63 : 아세아제지 (A002310)\n",
      "34 / 63 : 동양이엔피 (A079960)\n",
      "35 / 63 : 서희건설 (A035890)\n",
      "36 / 63 : 다우기술 (A023590)\n",
      "37 / 63 : 케이씨 (A029460)\n",
      "38 / 63 : 다우데이타 (A032190)\n",
      "39 / 63 : CNH (A023460)\n",
      "40 / 63 : SK디스커버리 (A006120)\n",
      "41 / 63 : 바이오스마트 (A038460)\n",
      "42 / 63 : GS건설 (A006360)\n",
      "43 / 63 : 한국금융지주 (A071050)\n",
      "44 / 63 : 디와이파워 (A210540)\n",
      "45 / 63 : 시공테크 (A020710)\n",
      "46 / 63 : 크라운제과 (A264900)\n",
      "47 / 63 : 한국알콜 (A017890)\n",
      "48 / 63 : 이베스트투자증권 (A078020)\n",
      "49 / 63 : 대한약품 (A023910)\n",
      "50 / 63 : 에스에이엠티 (A031330)\n",
      "51 / 63 : 롯데정밀화학 (A004000)\n",
      "52 / 63 : 서호전기 (A065710)\n",
      "53 / 63 : 대상 (A001680)\n",
      "54 / 63 : 참좋은여행 (A094850)\n",
      "55 / 63 : 조선선재 (A120030)\n",
      "56 / 63 : 레드캡투어 (A038390)\n",
      "57 / 63 : 솔브레인홀딩스 (A036830)\n",
      "58 / 63 : 한국경제TV (A039340)\n",
      "59 / 63 : 쿠쿠홀딩스 (A192400)\n",
      "60 / 63 : 한전KPS (A051600)\n",
      "61 / 63 : 삼양패키징 (A272550)\n",
      "62 / 63 : 디에이치피코리아 (A131030)\n",
      "63 / 63 : 케이티앤지 (A033780)\n"
     ]
    }
   ],
   "source": [
    "import time\n",
    "\n",
    "port_list = port_df.index\n",
    "total = len(port_list)\n",
    "for num, company_code in enumerate(port_list):\n",
    "    company_name = nq.get_company_name(company_code, companies)\n",
    "    print(str(num + 1) + ' / ' + str(total) + \" : \" + company_name + ' (' + str(company_code) + ')')\n",
    "    time.sleep(1)\n",
    "    try:\n",
    "        price_df = nq.request_price_list(company_code, 'day', 100)\n",
    "    except requests.exceptions.Timeout:\n",
    "        time.sleep(60)\n",
    "        price_df = nq.request_price_list(company_code, 'day', 100)\n",
    "        \n",
    "    current = price_df[price_df.columns[0]][-1]\n",
    "    port_df.at[company_code, 'current'] = int(current)"
   ]
  },
  {
   "cell_type": "code",
   "execution_count": 7,
   "metadata": {},
   "outputs": [],
   "source": [
    "profit_rate = (port_df['current'] - port_df['price']) / port_df['price']\n",
    "profit_rate = profit_rate.dropna()\n",
    "profit_rate = profit_rate.map(lambda rate: str(\"%.2f\" % round(float(rate * 100), 2)) + '%')\n",
    "port_df['수익률'] = profit_rate"
   ]
  },
  {
   "cell_type": "code",
   "execution_count": 8,
   "metadata": {
    "scrolled": true
   },
   "outputs": [
    {
     "name": "stdout",
     "output_type": "stream",
     "text": [
      "average profit : 0.81%\n"
     ]
    }
   ],
   "source": [
    "profit_rate = port_df['수익률'].map(lambda rate: float(rate[:-1]))\n",
    "average_profit = profit_rate.sum() / len(port_df)\n",
    "print('average profit : ' + \"%.2f\" % average_profit + '%')"
   ]
  },
  {
   "cell_type": "code",
   "execution_count": 16,
   "metadata": {},
   "outputs": [],
   "source": [
    "port_df['profite_rate'] = profit_rate\n",
    "port_df.sort_values(by='profite_rate', ascending=False)"
   ]
  },
  {
   "cell_type": "code",
   "execution_count": null,
   "metadata": {},
   "outputs": [],
   "source": [
    "port_df.to_excel(r'data/s_rim_sector_profit.xlsx')"
   ]
  },
  {
   "cell_type": "markdown",
   "metadata": {},
   "source": [
    "## show chart"
   ]
  },
  {
   "cell_type": "code",
   "execution_count": null,
   "metadata": {},
   "outputs": [],
   "source": [
    "company_code_list = port_df.index"
   ]
  },
  {
   "cell_type": "code",
   "execution_count": null,
   "metadata": {
    "scrolled": false
   },
   "outputs": [],
   "source": [
    "for company_code in company_code_list:\n",
    "    company_name = nq.get_company_name(company_code, companies)\n",
    "\n",
    "    price_df = nq.request_price_list(company_code, 'day', 1000)\n",
    "\n",
    "    price_high = sector_df.loc[company_code]['high']\n",
    "    price_middle = sector_df.loc[company_code]['middle']\n",
    "    price_low = sector_df.loc[company_code]['low']\n",
    "    price_very_low = sector_df.loc[company_code]['very_low']\n",
    "\n",
    "    price_df['price_very_low'] = [price_very_low] * len(price_df)\n",
    "    price_df['price_low'] = [price_low] * len(price_df)\n",
    "    price_df['price_middle'] = [price_middle] * len(price_df)\n",
    "    price_df['price_high'] = [price_high] * len(price_df)\n",
    "\n",
    "    nq.show_price_chart(company_code, company_name, price_df)"
   ]
  }
 ],
 "metadata": {
  "kernelspec": {
   "display_name": "Python 3",
   "language": "python",
   "name": "python3"
  },
  "language_info": {
   "codemirror_mode": {
    "name": "ipython",
    "version": 3
   },
   "file_extension": ".py",
   "mimetype": "text/x-python",
   "name": "python",
   "nbconvert_exporter": "python",
   "pygments_lexer": "ipython3",
   "version": "3.7.3"
  }
 },
 "nbformat": 4,
 "nbformat_minor": 2
}
