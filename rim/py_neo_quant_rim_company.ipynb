{
 "cells": [
  {
   "cell_type": "code",
   "execution_count": 3,
   "metadata": {},
   "outputs": [],
   "source": [
    "!open ."
   ]
  },
  {
   "cell_type": "code",
   "execution_count": 4,
   "metadata": {},
   "outputs": [],
   "source": [
    "import pandas as pd\n",
    "import requests\n",
    "import bs4"
   ]
  },
  {
   "cell_type": "markdown",
   "metadata": {},
   "source": [
    "## get company list"
   ]
  },
  {
   "cell_type": "code",
   "execution_count": 2,
   "metadata": {},
   "outputs": [],
   "source": [
    "def get_company_list(kospi = True):\n",
    "    if kospi == True: \n",
    "        file_loc = 'data/kospi.xlsx'\n",
    "    else:\n",
    "        file_loc = 'data/kosdaq.xlsx'\n",
    "\n",
    "    company = pd.read_excel(file_loc)\n",
    "    company.code = company.code.map('{:06d}'.format)\n",
    "    company = company.set_index(company.columns[0])\n",
    "    return company\n",
    "\n",
    "def get_all_company_list():\n",
    "    kospi = get_company_list(True)\n",
    "    kosdaq = get_company_list(False)\n",
    "    kospi['type'] = 'kospi'\n",
    "    kosdaq['type'] = 'kosdaq'\n",
    "    companies = pd.concat([kospi, kosdaq], sort=False)\n",
    "    return companies\n",
    "\n",
    "def get_company_code(name, company_df):\n",
    "    return company_df[company_df['company'] == name].index[0]\n",
    "\n",
    "companies = get_all_company_list()"
   ]
  },
  {
   "cell_type": "code",
   "execution_count": 42,
   "metadata": {},
   "outputs": [],
   "source": [
    "firm_name = '삼성전자'"
   ]
  },
  {
   "cell_type": "code",
   "execution_count": 43,
   "metadata": {
    "scrolled": true
   },
   "outputs": [
    {
     "name": "stdout",
     "output_type": "stream",
     "text": [
      "005930\n"
     ]
    }
   ],
   "source": [
    "firm_code = get_company_code(firm_name, companies)\n",
    "print(firm_code)"
   ]
  },
  {
   "cell_type": "code",
   "execution_count": null,
   "metadata": {},
   "outputs": [],
   "source": []
  }
 ],
 "metadata": {
  "kernelspec": {
   "display_name": "Python 3",
   "language": "python",
   "name": "python3"
  },
  "language_info": {
   "codemirror_mode": {
    "name": "ipython",
    "version": 3
   },
   "file_extension": ".py",
   "mimetype": "text/x-python",
   "name": "python",
   "nbconvert_exporter": "python",
   "pygments_lexer": "ipython3",
   "version": "3.7.3"
  }
 },
 "nbformat": 4,
 "nbformat_minor": 2
}
