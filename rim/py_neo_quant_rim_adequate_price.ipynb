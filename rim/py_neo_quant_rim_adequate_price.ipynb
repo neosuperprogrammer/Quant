{
 "cells": [
  {
   "cell_type": "code",
   "execution_count": null,
   "metadata": {},
   "outputs": [],
   "source": [
    "# !open ."
   ]
  },
  {
   "cell_type": "code",
   "execution_count": null,
   "metadata": {},
   "outputs": [],
   "source": [
    "import pandas as pd\n",
    "import requests\n",
    "import bs4\n",
    "import math\n",
    "import time\n",
    "import NeoQuant as nq\n",
    "import matplotlib.pyplot as plt\n",
    "from matplotlib import font_manager, rc\n",
    "pd.set_option('display.max_colwidth', -1)\n",
    "rc('font', family='AppleGothic')\n",
    "plt.rcParams['axes.unicode_minus'] = False\n",
    "\n",
    "# pd.set_option('display.max_columns', None)\n",
    "# pd.set_option('display.max_rows', 500)"
   ]
  },
  {
   "cell_type": "markdown",
   "metadata": {},
   "source": [
    "## get all company list"
   ]
  },
  {
   "cell_type": "code",
   "execution_count": null,
   "metadata": {},
   "outputs": [],
   "source": [
    "companies = nq.get_all_company_list()"
   ]
  },
  {
   "cell_type": "markdown",
   "metadata": {},
   "source": [
    "## set company name"
   ]
  },
  {
   "cell_type": "code",
   "execution_count": null,
   "metadata": {},
   "outputs": [],
   "source": [
    "# company_name = '현대건설'\n",
    "company_name = '메리츠화재'\n",
    "company_code = nq.get_company_code(company_name, companies)\n",
    "print('company name : ' + company_name)\n",
    "print('company code : ' + company_code)"
   ]
  },
  {
   "cell_type": "markdown",
   "metadata": {},
   "source": [
    "## get base profit ratio"
   ]
  },
  {
   "cell_type": "code",
   "execution_count": null,
   "metadata": {},
   "outputs": [],
   "source": [
    "base_profit_ratio = nq.get_base_profit_ratio()\n",
    "base_profit_ratio"
   ]
  },
  {
   "cell_type": "markdown",
   "metadata": {},
   "source": [
    "## get fnguide snapshot"
   ]
  },
  {
   "cell_type": "code",
   "execution_count": null,
   "metadata": {},
   "outputs": [],
   "source": [
    "if not company_code.startswith('A'):\n",
    "    company_code = 'A' + company_code\n",
    "\n",
    "snapshot_url = 'http://comp.fnguide.com/SVO2/ASP/SVD_Main.asp?pGB=1&cID=&MenuYn=Y&ReportGB=&NewMenuID=11&stkGb=701&gicode=' + company_code\n",
    "snapshot_page = requests.get(snapshot_url)\n",
    "snapshot_tables = pd.read_html(snapshot_page.text)"
   ]
  },
  {
   "cell_type": "markdown",
   "metadata": {},
   "source": [
    "## get stock count"
   ]
  },
  {
   "cell_type": "code",
   "execution_count": null,
   "metadata": {},
   "outputs": [],
   "source": [
    "import math\n",
    "\n",
    "def get_total_stock_count(snapshot_tables):\n",
    "    stock_count = 0\n",
    "\n",
    "    info = snapshot_tables[0]\n",
    "    info = info.set_index(info.columns[0])\n",
    "    stock_count_info = info.loc['발행주식수(보통주/ 우선주)'][1]\n",
    "    stock_counts = stock_count_info.split('/')\n",
    "    for count in stock_counts:\n",
    "#         print(count)\n",
    "        stock_count = stock_count + int(count.replace(',',''))\n",
    "\n",
    "    return stock_count\n",
    "\n",
    "def get_self_stock_count(snapshot_tables):\n",
    "    self_stock_count = 0\n",
    "    info = snapshot_tables[4]\n",
    "    info = info.set_index(info.columns[0])\n",
    "    count = info.loc[['자기주식\\xa0(자사주+자사주신탁)']]['보통주'][0]\n",
    "#     print(count)\n",
    "    if not math.isnan(count):\n",
    "        self_stock_count = int(count)\n",
    "    return self_stock_count\n",
    "\n",
    "stock_count = get_total_stock_count(snapshot_tables) - get_self_stock_count(snapshot_tables)\n",
    "print('stock count : ' + str(stock_count))"
   ]
  },
  {
   "cell_type": "markdown",
   "metadata": {},
   "source": [
    "## get asset, roe"
   ]
  },
  {
   "cell_type": "code",
   "execution_count": null,
   "metadata": {},
   "outputs": [],
   "source": [
    "snapshot_tables[10]"
   ]
  },
  {
   "cell_type": "code",
   "execution_count": null,
   "metadata": {},
   "outputs": [],
   "source": [
    "import math\n",
    "\n",
    "def get_standard_col_name(snapshot_tables):\n",
    "    big_col_name = 'Annual'\n",
    "    roe_index_name = 'ROE'\n",
    "    asset_index_name = '지배주주지분'\n",
    "    \n",
    "    info = snapshot_tables[10]\n",
    "    info = info.set_index(info.columns[0])\n",
    "\n",
    "    stadard_col_name = ''\n",
    "    roes = info.loc[roe_index_name][big_col_name]\n",
    "    assets = info.loc[asset_index_name][big_col_name]\n",
    "    for index in reversed(assets.index):\n",
    "        if not math.isnan(assets[index]) and not math.isnan(roes[index]):\n",
    "            stadard_col_name = index\n",
    "            break\n",
    "    return stadard_col_name\n",
    "\n",
    "def get_roe(snapshot_tables, stadard_col_name):\n",
    "    big_col_name = 'Annual'\n",
    "    roe_index_name = 'ROE'\n",
    "    \n",
    "    info = snapshot_tables[10]\n",
    "    info = info.set_index(info.columns[0])\n",
    "\n",
    "    roe = info.loc[roe_index_name][big_col_name, stadard_col_name]\n",
    "    return roe\n",
    "\n",
    "def get_net_profit(snapshot_tables, stadard_col_name):\n",
    "    big_col_name = 'Annual'\n",
    "    profit_index_name = '지배주주지분'\n",
    "    \n",
    "    info = snapshot_tables[10]\n",
    "    info = info.set_index(info.columns[0])\n",
    "\n",
    "    profit = info.loc[profit_index_name][big_col_name, stadard_col_name]\n",
    "    profit = profit * 100000000\n",
    "    return profit\n",
    "\n",
    "def get_op_profit(snapshot_tables, stadard_col_name):\n",
    "    big_col_name = 'Annual'\n",
    "    profit_index_name = '영업이익'\n",
    "    \n",
    "    info = snapshot_tables[10]\n",
    "    info = info.set_index(info.columns[0])\n",
    "\n",
    "    profit = info.loc[profit_index_name][big_col_name, stadard_col_name]\n",
    "    profit = profit * 100000000\n",
    "    return profit\n",
    "\n",
    "def get_asset(snapshot_tables, stadard_col_name):\n",
    "    big_col_name = 'Annual'\n",
    "    asset_index_name = '자산총계'\n",
    "    \n",
    "    info = snapshot_tables[10]\n",
    "    info = info.set_index(info.columns[0])\n",
    "\n",
    "    asset = info.loc[asset_index_name][big_col_name, stadard_col_name]\n",
    "    asset = asset * 100000000\n",
    "    return asset\n",
    "\n",
    "\n",
    "stadard_col_name = get_standard_col_name(snapshot_tables)\n",
    "roe =  get_roe(snapshot_tables, stadard_col_name)\n",
    "net_profit = get_net_profit(snapshot_tables, stadard_col_name)\n",
    "op_profit = get_op_profit(snapshot_tables, stadard_col_name)\n",
    "asset = get_asset(snapshot_tables, stadard_col_name)\n",
    "roa = round(op_profit / asset * 100, 2)\n",
    "# round(float(rate * 100), 2)\n",
    "print('standard date : ' + stadard_col_name)\n",
    "print('net profit : ' + str(net_profit))\n",
    "print('op profit : ' + str(op_profit))\n",
    "print('asset : ' + str(asset))\n",
    "print('roe : ' + str(roe))\n",
    "print('roa : ' + str(roa))"
   ]
  },
  {
   "cell_type": "markdown",
   "metadata": {},
   "source": [
    "## set roe manually"
   ]
  },
  {
   "cell_type": "code",
   "execution_count": null,
   "metadata": {},
   "outputs": [],
   "source": [
    "# roe = 20"
   ]
  },
  {
   "cell_type": "markdown",
   "metadata": {},
   "source": [
    "## get adequate price"
   ]
  },
  {
   "cell_type": "code",
   "execution_count": null,
   "metadata": {
    "scrolled": false
   },
   "outputs": [],
   "source": [
    "price_high = nq.get_more_adequate_price(net_profit, roe, base_profit_ratio, stock_count, 1)\n",
    "price_middel = nq.get_more_adequate_price(net_profit, roe, base_profit_ratio, stock_count, 0.9)\n",
    "price_low = nq.get_more_adequate_price(net_profit, roe, base_profit_ratio, stock_count, 0.8)\n",
    "price_very_low = nq.get_more_adequate_price(net_profit, roe, base_profit_ratio, stock_count, 0.5)\n",
    "\n",
    "print('very low : ' + str(price_very_low))\n",
    "print('buy : below ' + str(price_low))\n",
    "print('sell 1/3 : ' + str(price_middel))\n",
    "print('sell 1/3 : ' + str(price_high))"
   ]
  },
  {
   "cell_type": "code",
   "execution_count": null,
   "metadata": {},
   "outputs": [],
   "source": [
    "price_df = nq.request_price_list(company_code, 'day', 1000)"
   ]
  },
  {
   "cell_type": "code",
   "execution_count": null,
   "metadata": {},
   "outputs": [],
   "source": [
    "price_df['price_very_low'] = [price_very_low] * len(price_df)\n",
    "price_df['price_low'] = [price_low] * len(price_df)\n",
    "price_df['price_middle'] = [price_middel] * len(price_df)\n",
    "price_df['price_high'] = [price_high] * len(price_df)"
   ]
  },
  {
   "cell_type": "markdown",
   "metadata": {},
   "source": [
    "## calc disparate rate"
   ]
  },
  {
   "cell_type": "code",
   "execution_count": null,
   "metadata": {},
   "outputs": [],
   "source": [
    "price_df['dis_rate'] = price_df[company_code] / price_df['price_low']"
   ]
  },
  {
   "cell_type": "code",
   "execution_count": null,
   "metadata": {},
   "outputs": [],
   "source": [
    "print('disrate : ' + str(price_df['dis_rate'][-1]))"
   ]
  },
  {
   "cell_type": "markdown",
   "metadata": {},
   "source": [
    "## show chart"
   ]
  },
  {
   "cell_type": "code",
   "execution_count": null,
   "metadata": {},
   "outputs": [],
   "source": [
    "nq.show_price_chart(company_code, company_name, price_df)"
   ]
  }
 ],
 "metadata": {
  "kernelspec": {
   "display_name": "Python 3",
   "language": "python",
   "name": "python3"
  },
  "language_info": {
   "codemirror_mode": {
    "name": "ipython",
    "version": 3
   },
   "file_extension": ".py",
   "mimetype": "text/x-python",
   "name": "python",
   "nbconvert_exporter": "python",
   "pygments_lexer": "ipython3",
   "version": "3.7.3"
  }
 },
 "nbformat": 4,
 "nbformat_minor": 2
}
