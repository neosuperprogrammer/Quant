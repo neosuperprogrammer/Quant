{
 "cells": [
  {
   "cell_type": "code",
   "execution_count": null,
   "metadata": {},
   "outputs": [],
   "source": [
    "# !open ."
   ]
  },
  {
   "cell_type": "code",
   "execution_count": null,
   "metadata": {},
   "outputs": [],
   "source": [
    "import pandas as pd\n",
    "import requests\n",
    "import bs4\n",
    "import math\n",
    "import time\n",
    "import NeoQuant as nq\n",
    "import matplotlib.pyplot as plt\n",
    "from matplotlib import font_manager, rc\n",
    "pd.set_option('display.max_colwidth', -1)\n",
    "rc('font', family='AppleGothic')\n",
    "plt.rcParams['axes.unicode_minus'] = False"
   ]
  },
  {
   "cell_type": "markdown",
   "metadata": {},
   "source": [
    "## get all company list"
   ]
  },
  {
   "cell_type": "code",
   "execution_count": null,
   "metadata": {},
   "outputs": [],
   "source": [
    "companies = nq.get_all_company_list()"
   ]
  },
  {
   "cell_type": "markdown",
   "metadata": {},
   "source": [
    "## get fnguide snapshot"
   ]
  },
  {
   "cell_type": "code",
   "execution_count": null,
   "metadata": {},
   "outputs": [],
   "source": [
    "company_name = '포스코'"
   ]
  },
  {
   "cell_type": "code",
   "execution_count": null,
   "metadata": {},
   "outputs": [],
   "source": [
    "company_code = nq.get_company_code(company_name, companies)\n",
    "print('company name : ' + company_name)\n",
    "print('company code : ' + company_code)\n",
    "\n",
    "if not company_code.startswith('A'):\n",
    "    company_code = 'A' + company_code\n",
    "\n",
    "snapshot_url = 'http://comp.fnguide.com/SVO2/ASP/SVD_Main.asp?pGB=1&cID=&MenuYn=Y&ReportGB=&NewMenuID=11&stkGb=701&gicode=' + company_code\n",
    "snapshot_page = requests.get(snapshot_url)\n",
    "snapshot_tables = pd.read_html(snapshot_page.text)"
   ]
  },
  {
   "cell_type": "markdown",
   "metadata": {},
   "source": [
    "## bond spread"
   ]
  },
  {
   "cell_type": "code",
   "execution_count": null,
   "metadata": {},
   "outputs": [],
   "source": [
    "# https://www.kisrating.co.kr/ratingsStatistics/statics_spread.do\n",
    "expected_ratio = 7.91"
   ]
  },
  {
   "cell_type": "markdown",
   "metadata": {},
   "source": [
    "## get stock count"
   ]
  },
  {
   "cell_type": "code",
   "execution_count": null,
   "metadata": {},
   "outputs": [],
   "source": [
    "import math\n",
    "\n",
    "def get_total_stock_count(snapshot_tables):\n",
    "    stock_count = 0\n",
    "\n",
    "    info = snapshot_tables[0]\n",
    "    info = info.set_index(info.columns[0])\n",
    "    stock_count_info = info.loc['발행주식수(보통주/ 우선주)'][1]\n",
    "    stock_counts = stock_count_info.split('/')\n",
    "    for count in stock_counts:\n",
    "#         print(count)\n",
    "        stock_count = stock_count + int(count.replace(',',''))\n",
    "\n",
    "    return stock_count\n",
    "\n",
    "def get_self_stock_count(snapshot_tables):\n",
    "    self_stock_count = 0\n",
    "    info = snapshot_tables[4]\n",
    "    info = info.set_index(info.columns[0])\n",
    "    count = info.loc[['자기주식\\xa0(자사주+자사주신탁)']]['보통주'][0]\n",
    "#     print(count)\n",
    "    if not math.isnan(count):\n",
    "        self_stock_count = int(count)\n",
    "    return self_stock_count\n",
    "\n",
    "stock_count = get_total_stock_count(snapshot_tables) - get_self_stock_count(snapshot_tables)\n",
    "print('stock count : ' + str(stock_count))"
   ]
  },
  {
   "cell_type": "code",
   "execution_count": null,
   "metadata": {},
   "outputs": [],
   "source": [
    "snapshot_tables[10]"
   ]
  },
  {
   "cell_type": "code",
   "execution_count": null,
   "metadata": {},
   "outputs": [],
   "source": [
    "big_col_name = 'Annual'\n",
    "roe_index_name = 'ROE'\n",
    "asset_index_name = '지배주주지분'\n",
    "\n",
    "info = snapshot_tables[10]\n",
    "info = info.set_index(info.columns[0])"
   ]
  },
  {
   "cell_type": "code",
   "execution_count": null,
   "metadata": {
    "scrolled": false
   },
   "outputs": [],
   "source": [
    "annual_index = info['Annual'].columns[:3]"
   ]
  },
  {
   "cell_type": "code",
   "execution_count": null,
   "metadata": {
    "scrolled": false
   },
   "outputs": [],
   "source": [
    "','.join(annual_index)"
   ]
  },
  {
   "cell_type": "markdown",
   "metadata": {},
   "source": [
    "## get asset, roe"
   ]
  },
  {
   "cell_type": "code",
   "execution_count": null,
   "metadata": {},
   "outputs": [],
   "source": [
    "import math\n",
    "\n",
    "def get_standard_col_name(snapshot_tables):\n",
    "    big_col_name = 'Annual'\n",
    "    roe_index_name = 'ROE'\n",
    "    asset_index_name = '지배주주지분'\n",
    "    \n",
    "    info = snapshot_tables[10]\n",
    "    info = info.set_index(info.columns[0])\n",
    "\n",
    "    stadard_col_name = ''\n",
    "    roes = info.loc[roe_index_name][big_col_name]\n",
    "    assets = info.loc[asset_index_name][big_col_name]\n",
    "    for index in reversed(assets.index):\n",
    "        if not math.isnan(assets[index]) and not math.isnan(roes[index]):\n",
    "            stadard_col_name = index\n",
    "            break\n",
    "    return stadard_col_name\n",
    "\n",
    "def get_roe(snapshot_tables, stadard_col_name):\n",
    "    big_col_name = 'Annual'\n",
    "    roe_index_name = 'ROE'\n",
    "    \n",
    "    info = snapshot_tables[10]\n",
    "    info = info.set_index(info.columns[0])\n",
    "\n",
    "    roe = info.loc[roe_index_name][big_col_name, stadard_col_name]\n",
    "    return roe\n",
    "\n",
    "def get_net_profit(snapshot_tables, stadard_col_name):\n",
    "    big_col_name = 'Annual'\n",
    "    profit_index_name = '지배주주지분'\n",
    "    \n",
    "    info = snapshot_tables[10]\n",
    "    info = info.set_index(info.columns[0])\n",
    "\n",
    "    profit = info.loc[profit_index_name][big_col_name, stadard_col_name]\n",
    "    profit = profit * 100000000\n",
    "    return profit\n",
    "\n",
    "def get_op_profit(snapshot_tables, stadard_col_name):\n",
    "    big_col_name = 'Annual'\n",
    "    profit_index_name = '영업이익'\n",
    "    \n",
    "    info = snapshot_tables[10]\n",
    "    info = info.set_index(info.columns[0])\n",
    "\n",
    "    profit = info.loc[profit_index_name][big_col_name, stadard_col_name]\n",
    "    profit = profit * 100000000\n",
    "    return profit\n",
    "\n",
    "def get_asset(snapshot_tables, stadard_col_name):\n",
    "    big_col_name = 'Annual'\n",
    "    asset_index_name = '자산총계'\n",
    "    \n",
    "    info = snapshot_tables[10]\n",
    "    info = info.set_index(info.columns[0])\n",
    "\n",
    "    asset = info.loc[asset_index_name][big_col_name, stadard_col_name]\n",
    "    asset = asset * 100000000\n",
    "    return asset\n",
    "\n",
    "\n",
    "stadard_col_name = get_standard_col_name(snapshot_tables)\n",
    "roe =  get_roe(snapshot_tables, stadard_col_name)\n",
    "net_profit = get_net_profit(snapshot_tables, stadard_col_name)\n",
    "op_profit = get_op_profit(snapshot_tables, stadard_col_name)\n",
    "asset = get_asset(snapshot_tables, stadard_col_name)\n",
    "roa = round(op_profit / asset * 100, 2)\n",
    "# round(float(rate * 100), 2)\n",
    "print('standard date : ' + stadard_col_name)\n",
    "print('net profit : ' + str(net_profit))\n",
    "print('op profit : ' + str(op_profit))\n",
    "print('asset : ' + str(asset))\n",
    "print('roe : ' + str(roe))\n",
    "print('roa : ' + str(roa))"
   ]
  },
  {
   "cell_type": "markdown",
   "metadata": {},
   "source": [
    "## set roe manually"
   ]
  },
  {
   "cell_type": "code",
   "execution_count": null,
   "metadata": {},
   "outputs": [],
   "source": [
    "# roe = 20"
   ]
  },
  {
   "cell_type": "markdown",
   "metadata": {},
   "source": [
    "## get adequate price"
   ]
  },
  {
   "cell_type": "code",
   "execution_count": null,
   "metadata": {
    "scrolled": true
   },
   "outputs": [],
   "source": [
    "def get_adequate_price(asset, roe, expected_ratio, stock_count, persist_factor = 1):\n",
    "    excess_profit = (roe - expected_ratio) * asset / 100\n",
    "#     print(excess_profit)\n",
    "    accumulate_profit = (persist_factor * excess_profit) / (1 + expected_ratio / 100 - persist_factor)\n",
    "    adequate_stock_price = asset + accumulate_profit\n",
    "#     print(adequate_stock_price)\n",
    "    price = (asset + accumulate_profit) / stock_count\n",
    "    price = int(round(price))\n",
    "    return price\n",
    "\n",
    "price_high = get_adequate_price(asset, roe, expected_ratio, stock_count, 1)\n",
    "price_middel = get_adequate_price(asset, roe, expected_ratio, stock_count, 0.9)\n",
    "price_low = get_adequate_price(asset, roe, expected_ratio, stock_count, 0.8)\n",
    "\n",
    "print('buy : below ' + str(price_low))\n",
    "print('sell 1/3 : ' + str(price_middel))\n",
    "print('sell 1/3 : ' + str(price_high))"
   ]
  },
  {
   "cell_type": "code",
   "execution_count": null,
   "metadata": {},
   "outputs": [],
   "source": [
    "price_df = request_price_list(firm_code, 'day', 1000)"
   ]
  },
  {
   "cell_type": "code",
   "execution_count": null,
   "metadata": {},
   "outputs": [],
   "source": [
    "price_df['price_low'] = [price_low] * len(price_df)\n",
    "price_df['price_middle'] = [price_middel] * len(price_df)\n",
    "price_df['price_high'] = [price_high] * len(price_df)"
   ]
  },
  {
   "cell_type": "code",
   "execution_count": null,
   "metadata": {},
   "outputs": [],
   "source": [
    "show_price_chart(firm_name, firm_code, price_df)"
   ]
  },
  {
   "cell_type": "code",
   "execution_count": null,
   "metadata": {},
   "outputs": [],
   "source": [
    "def get_ex_profits(asset, expected_ratio, roe, persist_factor, iteration = 10):\n",
    "    next_asset = asset\n",
    "    ex_profits = []\n",
    "    ex_profit_ratio = roe - expected_ratio\n",
    "    next_roe = roe\n",
    "    for _ in range(iteration):\n",
    "        ex_profit_ratio = ex_profit_ratio * persist_factor\n",
    "        next_roe = expected_ratio + ex_profit_ratio\n",
    "        profit = next_asset * (next_roe / 100)\n",
    "        ex_profit = next_asset * ex_profit_ratio / 100\n",
    "        ex_profits.append(ex_profit)\n",
    "        next_asset = next_asset + profit\n",
    "    return ex_profits\n",
    "def get_npv_profit(ex_profits, expected_ratio):\n",
    "    npv_value = 0\n",
    "    for num, ex_profit in enumerate(ex_profits):\n",
    "        ex_profit = ex_profit *  1 / (1 + expected_ratio / 100) ** (num + 1)\n",
    "#         print(ex_profit)\n",
    "        npv_value = npv_value + ex_profit\n",
    "\n",
    "    return npv_value\n",
    "\n",
    "def get_sum_of_profit(asset, expected_ratio, roe, persist_factor, iteration = 10):\n",
    "    ex_profits = get_ex_profits(asset, expected_ratio, roe, persist_factor, iteration)\n",
    "    sum_of_profit = get_npv_profit(ex_profits, expected_ratio)\n",
    "    return sum_of_profit\n",
    "\n",
    "def get_more_adequate_price(asset, roe, expected_ratio, stock_count, persist_factor = 1, iteration = 10):\n",
    "    accumulate_profit = get_sum_of_profit(asset, expected_ratio, roe, persist_factor, iteration)\n",
    "    adequate_stock_price = asset + accumulate_profit\n",
    "    price = (asset + accumulate_profit) / stock_count\n",
    "    price = int(round(price))\n",
    "    return price"
   ]
  },
  {
   "cell_type": "code",
   "execution_count": null,
   "metadata": {},
   "outputs": [],
   "source": [
    "get_sum_of_profit(asset, expected_ratio, roe, 1, 10)"
   ]
  },
  {
   "cell_type": "code",
   "execution_count": null,
   "metadata": {
    "scrolled": false
   },
   "outputs": [],
   "source": [
    "price_high = get_more_adequate_price(asset, roe, expected_ratio, stock_count, 1)\n",
    "price_middel = get_more_adequate_price(asset, roe, expected_ratio, stock_count, 0.9)\n",
    "price_low = get_more_adequate_price(asset, roe, expected_ratio, stock_count, 0.8)\n",
    "\n",
    "print('buy : below ' + str(price_low))\n",
    "print('sell 1/3 : ' + str(price_middel))\n",
    "print('sell 1/3 : ' + str(price_high))"
   ]
  },
  {
   "cell_type": "code",
   "execution_count": null,
   "metadata": {},
   "outputs": [],
   "source": [
    "price_df = request_price_list(firm_code, 'day', 1000)"
   ]
  },
  {
   "cell_type": "code",
   "execution_count": null,
   "metadata": {},
   "outputs": [],
   "source": [
    "price_df['price_low'] = [price_low] * len(price_df)\n",
    "price_df['price_middle'] = [price_middel] * len(price_df)\n",
    "price_df['price_high'] = [price_high] * len(price_df)"
   ]
  },
  {
   "cell_type": "code",
   "execution_count": null,
   "metadata": {},
   "outputs": [],
   "source": [
    "show_price_chart(firm_name, firm_code, price_df)"
   ]
  }
 ],
 "metadata": {
  "kernelspec": {
   "display_name": "Python 3",
   "language": "python",
   "name": "python3"
  },
  "language_info": {
   "codemirror_mode": {
    "name": "ipython",
    "version": 3
   },
   "file_extension": ".py",
   "mimetype": "text/x-python",
   "name": "python",
   "nbconvert_exporter": "python",
   "pygments_lexer": "ipython3",
   "version": "3.7.3"
  }
 },
 "nbformat": 4,
 "nbformat_minor": 2
}
