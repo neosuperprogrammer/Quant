{
 "cells": [
  {
   "cell_type": "code",
   "execution_count": null,
   "metadata": {},
   "outputs": [],
   "source": [
    "# !open ."
   ]
  },
  {
   "cell_type": "code",
   "execution_count": null,
   "metadata": {},
   "outputs": [],
   "source": [
    "import pandas as pd\n",
    "import requests\n",
    "import bs4\n",
    "import math\n",
    "import time\n",
    "import NeoQuant as nq\n",
    "import matplotlib.pyplot as plt\n",
    "from matplotlib import font_manager, rc\n",
    "pd.set_option('display.max_colwidth', -1)\n",
    "rc('font', family='AppleGothic')\n",
    "plt.rcParams['axes.unicode_minus'] = False"
   ]
  },
  {
   "cell_type": "code",
   "execution_count": null,
   "metadata": {},
   "outputs": [],
   "source": [
    "my_port = pd.DataFrame([\n",
    "                {'amount': 10900253, 'type': '증권'}, \n",
    "                {'amount': 8123500, 'type': '건설'}, \n",
    "                {'amount': 7731485, 'type': '여행'}, \n",
    "                {'amount': 5685226, 'type': '건설'},\n",
    "                {'amount': 5460000, 'type': '건설'},\n",
    "                {'amount': 5294142, 'type': '증권'},\n",
    "                {'amount': 5013800, 'type': '건설'},\n",
    "                {'amount': 4797969, 'type': '철강'},\n",
    "                {'amount': 4438054, 'type': '증권'},\n",
    "                {'amount': 4276000, 'type': '증권'},\n",
    "                {'amount': 4067813, 'type': '철강'},\n",
    "                {'amount': 3728500, 'type': '건설'},\n",
    "                {'amount': 3210000, 'type': '태양광'},\n",
    "                {'amount': 2966080, 'type': 'ETF'},\n",
    "                {'amount': 2331850, 'type': '항공'},\n",
    "                {'amount': 1662500, 'type': '보험'},\n",
    "                {'amount': 1574375, 'type': '밧데리'},\n",
    "                {'amount': 1420025, 'type': '철도'},\n",
    "                {'amount': 1101667, 'type': '전력'},\n",
    "                {'amount': 559333, 'type': '중공업'},\n",
    "                {'amount': 420500, 'type': '금속'},\n",
    "], \n",
    "    index=[\n",
    "        '키움증권', \n",
    "        'HDC현대산업개발', \n",
    "        '하나투어',\n",
    "        'GS건설',\n",
    "        'DL이앤씨',\n",
    "        '메리츠증권',\n",
    "        '서희건설',\n",
    "        '동국제강',\n",
    "        '유진투자증권',\n",
    "        'KODEX증권',\n",
    "        'POSCO',\n",
    "        'KODEX건설',\n",
    "        'OCI',\n",
    "        'KODEX 200 선물인버스2x',\n",
    "        '대한항공',\n",
    "        '메리츠화재',\n",
    "        'LG화학',\n",
    "        '현대로템',\n",
    "        '한국전력',\n",
    "        '현대중공업지주',\n",
    "        '고려아연',\n",
    "    ])\n",
    "my_port"
   ]
  },
  {
   "cell_type": "code",
   "execution_count": null,
   "metadata": {
    "scrolled": true
   },
   "outputs": [],
   "source": [
    "amount_total = my_port['amount'].sum()\n",
    "print('amount total : ' + str(amount_total))\n",
    "types = my_port['type'].unique()\n",
    "sum_of_percentage = 0\n",
    "for type_ in types:\n",
    "    total = my_port[my_port['type'] == type_]['amount'].sum()\n",
    "    percentage = int(round(total / amount_total * 100))\n",
    "    print(type_ + ' : ' + str(percentage) + '%')\n",
    "    sum_of_percentage = sum_of_percentage + percentage\n",
    "    \n",
    "print('sum of percentage : ' + str(sum_of_percentage))"
   ]
  },
  {
   "cell_type": "markdown",
   "metadata": {},
   "source": [
    "## get all company list"
   ]
  },
  {
   "cell_type": "code",
   "execution_count": null,
   "metadata": {},
   "outputs": [],
   "source": [
    "companies = nq.get_all_company_list()"
   ]
  },
  {
   "cell_type": "markdown",
   "metadata": {},
   "source": [
    "## bond spread"
   ]
  },
  {
   "cell_type": "code",
   "execution_count": null,
   "metadata": {},
   "outputs": [],
   "source": [
    "# https://www.kisrating.co.kr/ratingsStatistics/statics_spread.do\n",
    "base_profit_ratio = nq.get_base_profit_ratio()\n",
    "base_profit_ratio"
   ]
  },
  {
   "cell_type": "code",
   "execution_count": null,
   "metadata": {},
   "outputs": [],
   "source": [
    "company_list = my_port.index\n",
    "for company_name in company_list:\n",
    "    nq.show_more_adequate_price_chart(company_name, companies, base_profit_ratio)\n",
    "    time.sleep(1)\n",
    "    print('=================================================')\n",
    "    print(' ')"
   ]
  },
  {
   "cell_type": "code",
   "execution_count": null,
   "metadata": {
    "scrolled": true
   },
   "outputs": [],
   "source": [
    "nq.show_more_adequate_price_chart('티에스이', companies, base_profit_ratio)"
   ]
  }
 ],
 "metadata": {
  "kernelspec": {
   "display_name": "Python 3",
   "language": "python",
   "name": "python3"
  },
  "language_info": {
   "codemirror_mode": {
    "name": "ipython",
    "version": 3
   },
   "file_extension": ".py",
   "mimetype": "text/x-python",
   "name": "python",
   "nbconvert_exporter": "python",
   "pygments_lexer": "ipython3",
   "version": "3.7.3"
  }
 },
 "nbformat": 4,
 "nbformat_minor": 2
}
