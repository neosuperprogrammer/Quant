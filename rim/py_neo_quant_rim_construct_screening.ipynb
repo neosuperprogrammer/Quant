{
 "cells": [
  {
   "cell_type": "code",
   "execution_count": null,
   "metadata": {},
   "outputs": [],
   "source": [
    "# !open ."
   ]
  },
  {
   "cell_type": "code",
   "execution_count": null,
   "metadata": {},
   "outputs": [],
   "source": [
    "import pandas as pd\n",
    "import requests\n",
    "import bs4\n",
    "import math\n",
    "import time\n",
    "import matplotlib.pyplot as plt\n",
    "from matplotlib import font_manager, rc\n",
    "pd.set_option('display.max_colwidth', -1)\n",
    "rc('font', family='AppleGothic')\n",
    "plt.rcParams['axes.unicode_minus'] = False\n",
    "import NeoQuant as nq"
   ]
  },
  {
   "cell_type": "markdown",
   "metadata": {},
   "source": [
    "## get all company list"
   ]
  },
  {
   "cell_type": "code",
   "execution_count": null,
   "metadata": {},
   "outputs": [],
   "source": [
    "companies = nq.get_all_company_list()\n",
    "companies.index = 'A' + companies.index"
   ]
  },
  {
   "cell_type": "markdown",
   "metadata": {},
   "source": [
    "## bond spread"
   ]
  },
  {
   "cell_type": "code",
   "execution_count": null,
   "metadata": {},
   "outputs": [],
   "source": [
    "# https://www.kisrating.co.kr/ratingsStatistics/statics_spread.do\n",
    "expected_ratio = 7.91"
   ]
  },
  {
   "cell_type": "markdown",
   "metadata": {},
   "source": [
    "## load basic dataframe from excel"
   ]
  },
  {
   "cell_type": "code",
   "execution_count": null,
   "metadata": {},
   "outputs": [],
   "source": [
    "basic_df = pd.read_excel(r'data/basic_data.xlsx')\n",
    "basic_df.index = basic_df[basic_df.columns[0]]\n",
    "basic_df.index.name = ''\n",
    "basic_df.drop(basic_df.columns[0], axis = 1, inplace = True)"
   ]
  },
  {
   "cell_type": "markdown",
   "metadata": {},
   "source": [
    "## load fr dataframe from excel"
   ]
  },
  {
   "cell_type": "code",
   "execution_count": null,
   "metadata": {},
   "outputs": [],
   "source": [
    "fr_df = pd.read_excel(r'data/fr_data.xlsx')\n",
    "fr_df.index = fr_df[fr_df.columns[0]]\n",
    "fr_df.index.name = ''\n",
    "fr_df.drop(fr_df.columns[0], axis = 1, inplace = True)\n",
    "big_col = list(fr_df.columns)\n",
    "small_col = list(fr_df.iloc[0])\n",
    "\n",
    "new_big_col = []\n",
    "for num, col in enumerate(big_col):\n",
    "    if 'Unnamed' in col:\n",
    "        new_big_col.append(new_big_col[num-1])\n",
    "    else:\n",
    "        new_big_col.append(big_col[num])\n",
    "\n",
    "fr_df.columns = [new_big_col, small_col]\n",
    "fr_df = fr_df.loc[ fr_df.index.dropna() ]"
   ]
  },
  {
   "cell_type": "code",
   "execution_count": null,
   "metadata": {},
   "outputs": [],
   "source": [
    "company_name_list = ['동신건설', '신세계건설', '서희건설', '삼성엔지니어링', 'GS건설', '남화토건',\n",
    "                    '삼부토건', '대림건설', '한신공영', 'HDC현대산업개발', 'DL', '대우건설', \n",
    "                    '동원개발', '우진아이엔에스', '삼호개발', '계룡건설산업', '화성산업', '남광토건',\n",
    "                    '일성건설', '자이에스앤디', 'KCC건설', '우원개발', '현대건설',\n",
    "                    '아이에스동서', '동부건설', 'HDC', '서한', '한라',\n",
    "                    '금호산업', '태영건설', 'DL이앤씨', '웰크론', '한양이엔지',\n",
    "                    '진흥기업', '티와이홀딩스', '이화공영', '신원종합개발', 'KD'\n",
    "                    \n",
    "                    ]"
   ]
  },
  {
   "cell_type": "code",
   "execution_count": null,
   "metadata": {},
   "outputs": [],
   "source": [
    "company_code_list = []\n",
    "for name in company_name_list:\n",
    "    company_code = nq.get_company_code(name, companies)\n",
    "    if len(company_code) == 0:\n",
    "        print('no company code with ' + name)\n",
    "    company_code_list.append(company_code)\n",
    "company_code_list"
   ]
  },
  {
   "cell_type": "code",
   "execution_count": null,
   "metadata": {},
   "outputs": [],
   "source": [
    "sector_df = basic_df.loc[company_code_list]"
   ]
  },
  {
   "cell_type": "markdown",
   "metadata": {},
   "source": [
    "## calculate adequate price"
   ]
  },
  {
   "cell_type": "code",
   "execution_count": null,
   "metadata": {
    "scrolled": false
   },
   "outputs": [],
   "source": [
    "total = len(sector_df)\n",
    "\n",
    "for num, code in enumerate(sector_df.index):\n",
    "    company_name = nq.get_company_name(code, companies)\n",
    "    print(str(num + 1) + ' / ' + str(total) + \" : \" + company_name + ' (' + str(code) + ')')\n",
    "\n",
    "#     print(num, code, company_name)\n",
    "    for col in reversed(fr_df.columns.levels[0]):\n",
    "#         print(fr_df[col]['ROE'])\n",
    "        try:\n",
    "            roe = pd.to_numeric(fr_df.loc[code][col]['ROE'])\n",
    "            per = pd.to_numeric(fr_df.loc[code][col]['PER'])\n",
    "            pbr = pd.to_numeric(fr_df.loc[code][col]['PBR'])\n",
    "            asset = pd.to_numeric(fr_df.loc[code][col]['지배주주지분']) * 100000000\n",
    "            debt_rate = pd.to_numeric(fr_df.loc[code][col]['부채비율'])\n",
    "            keep_rate = pd.to_numeric(fr_df.loc[code][col]['유보율'])\n",
    "            interest_rate = pd.to_numeric(fr_df.loc[code][col]['배당수익률'])\n",
    "\n",
    "                \n",
    "            if not math.isnan(roe) and not math.isnan(asset):\n",
    "                print('standard date : ' + col)\n",
    "                stock_count = sector_df.loc[code]['주식수']\n",
    "                sector_df.at[code, '기준일'] = col\n",
    "                sector_df.at[code, 'roe'] = roe\n",
    "                sector_df.at[code, 'per'] = per\n",
    "                sector_df.at[code, 'pbr'] = pbr\n",
    "                sector_df.at[code, '부채비율'] = debt_rate\n",
    "                sector_df.at[code, '유보율'] = keep_rate\n",
    "                sector_df.at[code, '배당수익률'] = interest_rate\n",
    "                \n",
    "                sector_df.at[code, 'expectation'] = expected_ratio\n",
    "    #             print('stock_count : ' + str(stock_count))\n",
    "                high = nq.get_more_adequate_price(asset, roe, expected_ratio, stock_count, 1)\n",
    "    #             print('high : ' + str(high))\n",
    "                sector_df.at[code, 'high'] = high\n",
    "                middle = nq.get_more_adequate_price(asset, roe, expected_ratio, stock_count, 0.9)\n",
    "                sector_df.at[code, 'middle'] = middle\n",
    "                low = nq.get_more_adequate_price(asset, roe, expected_ratio, stock_count, 0.8)\n",
    "                sector_df.at[code, 'low'] = low\n",
    "                very_low = nq.get_more_adequate_price(asset, roe, expected_ratio, stock_count, 0.5)\n",
    "                sector_df.at[code, 'very_low'] = very_low\n",
    "                break\n",
    "        except ValueError:\n",
    "            print('>>> ValueError')\n",
    "            continue\n",
    "        except KeyError:\n",
    "            print('>>> KeyError')\n",
    "            continue\n",
    "\n",
    "\n",
    "sector_df['dis_rate'] = sector_df['price'] / sector_df['low']\n",
    "sector_df = sector_df.sort_values(by='dis_rate', ascending=True)\n",
    "sector_df['rank'] = sector_df['dis_rate'].rank()"
   ]
  },
  {
   "cell_type": "code",
   "execution_count": null,
   "metadata": {},
   "outputs": [],
   "source": [
    "sector_df.to_excel(r'data/construct_sector.xlsx')"
   ]
  },
  {
   "cell_type": "code",
   "execution_count": null,
   "metadata": {},
   "outputs": [],
   "source": []
  },
  {
   "cell_type": "code",
   "execution_count": null,
   "metadata": {},
   "outputs": [],
   "source": []
  },
  {
   "cell_type": "markdown",
   "metadata": {},
   "source": [
    "## 수익률 계산 시"
   ]
  },
  {
   "cell_type": "code",
   "execution_count": 26,
   "metadata": {},
   "outputs": [],
   "source": [
    "import pandas as pd\n",
    "import requests\n",
    "import bs4\n",
    "import math\n",
    "import time\n",
    "import matplotlib.pyplot as plt\n",
    "from matplotlib import font_manager, rc\n",
    "pd.set_option('display.max_colwidth', -1)\n",
    "rc('font', family='AppleGothic')\n",
    "plt.rcParams['axes.unicode_minus'] = False\n",
    "import NeoQuant as nq"
   ]
  },
  {
   "cell_type": "markdown",
   "metadata": {},
   "source": [
    "## get all company list"
   ]
  },
  {
   "cell_type": "code",
   "execution_count": 27,
   "metadata": {},
   "outputs": [],
   "source": [
    "companies = nq.get_all_company_list()\n",
    "companies.index = 'A' + companies.index"
   ]
  },
  {
   "cell_type": "code",
   "execution_count": 28,
   "metadata": {},
   "outputs": [],
   "source": [
    "sector_df = pd.read_excel(r'data/construct_sector.xlsx')\n",
    "sector_df.index = sector_df[sector_df.columns[0]]\n",
    "sector_df.index.name = ''\n",
    "sector_df.drop(sector_df.columns[0], axis = 1, inplace = True)"
   ]
  },
  {
   "cell_type": "markdown",
   "metadata": {},
   "source": [
    "## 수익률 계산"
   ]
  },
  {
   "cell_type": "code",
   "execution_count": 29,
   "metadata": {},
   "outputs": [],
   "source": [
    "port_df = sector_df"
   ]
  },
  {
   "cell_type": "code",
   "execution_count": null,
   "metadata": {},
   "outputs": [
    {
     "name": "stdout",
     "output_type": "stream",
     "text": [
      "1 / 38 : KD (A044180)\n",
      "2 / 38 : DL (A000210)\n",
      "3 / 38 : HDC (A012630)\n",
      "4 / 38 : 한신공영 (A004960)\n",
      "5 / 38 : 태영건설 (A009410)\n",
      "6 / 38 : 계룡건설산업 (A013580)\n",
      "7 / 38 : 화성산업 (A002460)\n",
      "8 / 38 : KCC건설 (A021320)\n",
      "9 / 38 : 삼호개발 (A010960)\n",
      "10 / 38 : 신원종합개발 (A017000)\n",
      "11 / 38 : 동원개발 (A013120)\n",
      "12 / 38 : 동부건설 (A005960)\n",
      "13 / 38 : HDC현대산업개발 (A294870)\n",
      "14 / 38 : 서한 (A011370)\n"
     ]
    }
   ],
   "source": [
    "import time\n",
    "\n",
    "port_list = port_df.index\n",
    "total = len(port_list)\n",
    "for num, company_code in enumerate(port_list):\n",
    "    company_name = nq.get_company_name(company_code, companies)\n",
    "    print(str(num + 1) + ' / ' + str(total) + \" : \" + company_name + ' (' + str(company_code) + ')')\n",
    "    time.sleep(1)\n",
    "    try:\n",
    "        price_df = nq.request_price_list(company_code, 'day', 100)\n",
    "    except requests.exceptions.Timeout:\n",
    "        time.sleep(60)\n",
    "        price_df = nq.request_price_list(company_code, 'day', 100)\n",
    "        \n",
    "    current = price_df[price_df.columns[0]][-1]\n",
    "    port_df.at[company_code, 'current'] = int(current)"
   ]
  },
  {
   "cell_type": "code",
   "execution_count": null,
   "metadata": {},
   "outputs": [],
   "source": [
    "profit_rate = (port_df['current'] - port_df['price']) / port_df['price']\n",
    "profit_rate = profit_rate.dropna()\n",
    "profit_rate = profit_rate.map(lambda rate: str(\"%.2f\" % round(float(rate * 100), 2)) + '%')\n",
    "port_df['수익률'] = profit_rate"
   ]
  },
  {
   "cell_type": "code",
   "execution_count": null,
   "metadata": {},
   "outputs": [],
   "source": [
    "profit_rate = port_df['수익률'].map(lambda rate: float(rate[:-1]))\n",
    "average_profit = profit_rate.sum() / len(port_df)\n",
    "print('average profit : ' + \"%.2f\" % average_profit + '%')"
   ]
  },
  {
   "cell_type": "code",
   "execution_count": null,
   "metadata": {},
   "outputs": [],
   "source": [
    "port_df['profite_rate'] = profit_rate\n",
    "port_df.sort_values(by='profite_rate', ascending=False)"
   ]
  },
  {
   "cell_type": "code",
   "execution_count": null,
   "metadata": {},
   "outputs": [],
   "source": [
    "port_df.to_excel(r'data/construct_sector_profit.xlsx')"
   ]
  },
  {
   "cell_type": "markdown",
   "metadata": {},
   "source": [
    "## show chart"
   ]
  },
  {
   "cell_type": "code",
   "execution_count": null,
   "metadata": {},
   "outputs": [],
   "source": [
    "company_code_list = port_df.index"
   ]
  },
  {
   "cell_type": "code",
   "execution_count": null,
   "metadata": {
    "scrolled": false
   },
   "outputs": [],
   "source": [
    "for company_code in company_code_list:\n",
    "    company_name = nq.get_company_name(company_code, companies)\n",
    "\n",
    "    price_df = nq.request_price_list(company_code, 'day', 1000)\n",
    "\n",
    "    price_high = sector_df.loc[company_code]['high']\n",
    "    price_middle = sector_df.loc[company_code]['middle']\n",
    "    price_low = sector_df.loc[company_code]['low']\n",
    "    price_very_low = sector_df.loc[company_code]['very_low']\n",
    "\n",
    "    price_df['price_very_low'] = [price_very_low] * len(price_df)\n",
    "    price_df['price_low'] = [price_low] * len(price_df)\n",
    "    price_df['price_middle'] = [price_middle] * len(price_df)\n",
    "    price_df['price_high'] = [price_high] * len(price_df)\n",
    "\n",
    "    nq.show_price_chart(company_code, company_name, price_df)"
   ]
  }
 ],
 "metadata": {
  "kernelspec": {
   "display_name": "Python 3",
   "language": "python",
   "name": "python3"
  },
  "language_info": {
   "codemirror_mode": {
    "name": "ipython",
    "version": 3
   },
   "file_extension": ".py",
   "mimetype": "text/x-python",
   "name": "python",
   "nbconvert_exporter": "python",
   "pygments_lexer": "ipython3",
   "version": "3.7.3"
  }
 },
 "nbformat": 4,
 "nbformat_minor": 2
}
