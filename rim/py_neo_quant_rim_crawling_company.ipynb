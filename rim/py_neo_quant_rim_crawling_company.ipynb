{
 "cells": [
  {
   "cell_type": "code",
   "execution_count": null,
   "metadata": {},
   "outputs": [],
   "source": [
    "!open ."
   ]
  },
  {
   "cell_type": "code",
   "execution_count": null,
   "metadata": {},
   "outputs": [],
   "source": [
    "import pandas as pd\n",
    "import requests\n",
    "import csv\n",
    "\n",
    "def request_company_list(kospi = True):\n",
    "    if kospi == True: \n",
    "        marketType = 'stockMkt'\n",
    "    else:\n",
    "        marketType = 'kosdaqMkt'\n",
    "    url = 'http://kind.krx.co.kr/corpgeneral/corpList.do?method=download&searchType=13&marketType=' + marketType\n",
    "    company = pd.read_html(url, header=0)[0]\n",
    "\n",
    "    company = company[['종목코드', '회사명']]\n",
    "    company = company.rename(columns={\n",
    "        '종목코드': 'code'\n",
    "        , '회사명': 'company'\n",
    "    })\n",
    "    company = company.sort_values(by='code')\n",
    "    company.code = company.code.map('{:06d}'.format)\n",
    "    company = company.set_index(company.columns[0])\n",
    "    return company"
   ]
  },
  {
   "cell_type": "code",
   "execution_count": null,
   "metadata": {},
   "outputs": [],
   "source": [
    "kospi = request_company_list(True)\n",
    "print('kospi count : ' + str(len(kospi)))\n",
    "kospi.to_excel(r'data/kospi.xlsx')"
   ]
  },
  {
   "cell_type": "code",
   "execution_count": null,
   "metadata": {},
   "outputs": [],
   "source": [
    "kosdaq = request_company_list(False)\n",
    "print('kosdaq count : ' + str(len(kosdaq)))\n",
    "kosdaq.to_excel(r'data/kosdaq.xlsx')"
   ]
  },
  {
   "cell_type": "code",
   "execution_count": null,
   "metadata": {},
   "outputs": [],
   "source": [
    "def get_company_list(kospi = True):\n",
    "    if kospi == True: \n",
    "        file_loc = 'data/kospi.xlsx'\n",
    "    else:\n",
    "        file_loc = 'data/kosdaq.xlsx'\n",
    "\n",
    "    company = pd.read_excel(file_loc)\n",
    "    company.code = company.code.map('{:06d}'.format)\n",
    "    company = company.set_index(company.columns[0])\n",
    "    return company\n",
    "\n",
    "def get_all_company_list():\n",
    "    kospi = get_company_list(True)\n",
    "    kosdaq = get_company_list(False)\n",
    "    kospi['type'] = 'kospi'\n",
    "    kosdaq['type'] = 'kosdaq'\n",
    "    companies = pd.concat([kospi, kosdaq], sort=False)\n",
    "    return companies"
   ]
  },
  {
   "cell_type": "code",
   "execution_count": null,
   "metadata": {},
   "outputs": [],
   "source": [
    "get_all_company_list()"
   ]
  }
 ],
 "metadata": {
  "kernelspec": {
   "display_name": "Python 3",
   "language": "python",
   "name": "python3"
  },
  "language_info": {
   "codemirror_mode": {
    "name": "ipython",
    "version": 3
   },
   "file_extension": ".py",
   "mimetype": "text/x-python",
   "name": "python",
   "nbconvert_exporter": "python",
   "pygments_lexer": "ipython3",
   "version": "3.7.3"
  }
 },
 "nbformat": 4,
 "nbformat_minor": 2
}
