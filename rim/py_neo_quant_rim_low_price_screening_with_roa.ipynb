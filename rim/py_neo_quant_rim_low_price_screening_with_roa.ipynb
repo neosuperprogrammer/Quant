{
 "cells": [
  {
   "cell_type": "code",
   "execution_count": null,
   "metadata": {},
   "outputs": [],
   "source": [
    "!open ."
   ]
  },
  {
   "cell_type": "code",
   "execution_count": null,
   "metadata": {},
   "outputs": [],
   "source": [
    "import pandas as pd\n",
    "import requests\n",
    "import bs4\n",
    "import math\n",
    "import time\n",
    "import NeoQuant as nq\n",
    "import matplotlib.pyplot as plt\n",
    "from matplotlib import font_manager, rc\n",
    "pd.set_option('display.max_colwidth', -1)\n",
    "rc('font', family='AppleGothic')\n",
    "plt.rcParams['axes.unicode_minus'] = False\n",
    "\n",
    "pd.set_option('display.max_columns', None)\n",
    "# pd.set_option('display.max_rows', 500)"
   ]
  },
  {
   "cell_type": "markdown",
   "metadata": {},
   "source": [
    "## get all company list"
   ]
  },
  {
   "cell_type": "code",
   "execution_count": null,
   "metadata": {},
   "outputs": [],
   "source": [
    "companies = nq.get_all_company_list()\n",
    "companies.index = 'A' + companies.index"
   ]
  },
  {
   "cell_type": "markdown",
   "metadata": {},
   "source": [
    "## load basic dataframe from excel"
   ]
  },
  {
   "cell_type": "code",
   "execution_count": null,
   "metadata": {},
   "outputs": [],
   "source": [
    "basic_df = pd.read_excel(r'data/basic_data.xlsx')\n",
    "basic_df.index = basic_df[basic_df.columns[0]]\n",
    "basic_df.index.name = ''\n",
    "basic_df.drop(basic_df.columns[0], axis = 1, inplace = True)"
   ]
  },
  {
   "cell_type": "markdown",
   "metadata": {},
   "source": [
    "## load fr dataframe from excel"
   ]
  },
  {
   "cell_type": "code",
   "execution_count": null,
   "metadata": {},
   "outputs": [],
   "source": [
    "fr_df = pd.read_excel(r'data/fr_data.xlsx')\n",
    "fr_df.index = fr_df[fr_df.columns[0]]\n",
    "fr_df.index.name = ''\n",
    "fr_df.drop(fr_df.columns[0], axis = 1, inplace = True)\n",
    "big_col = list(fr_df.columns)\n",
    "small_col = list(fr_df.iloc[0])\n",
    "\n",
    "new_big_col = []\n",
    "for num, col in enumerate(big_col):\n",
    "    if 'Unnamed' in col:\n",
    "        new_big_col.append(new_big_col[num-1])\n",
    "    else:\n",
    "        new_big_col.append(big_col[num])\n",
    "\n",
    "fr_df.columns = [new_big_col, small_col]\n",
    "fr_df = fr_df.loc[ fr_df.index.dropna() ]"
   ]
  },
  {
   "cell_type": "markdown",
   "metadata": {},
   "source": [
    "## get base profit ratio"
   ]
  },
  {
   "cell_type": "code",
   "execution_count": null,
   "metadata": {},
   "outputs": [],
   "source": [
    "base_profit_ratio = nq.get_base_profit_ratio()\n",
    "base_profit_ratio"
   ]
  },
  {
   "cell_type": "markdown",
   "metadata": {},
   "source": [
    "## if not all company"
   ]
  },
  {
   "cell_type": "code",
   "execution_count": null,
   "metadata": {},
   "outputs": [],
   "source": [
    "# company_name_list = ['에스씨엠생명과학', '박셀바이오', '셀레믹스']\n",
    "company_name_list = ['박셀바이오']"
   ]
  },
  {
   "cell_type": "code",
   "execution_count": null,
   "metadata": {},
   "outputs": [],
   "source": [
    "company_code_list = nq.get_company_code_list(company_name_list, companies)\n",
    "company_code_list"
   ]
  },
  {
   "cell_type": "code",
   "execution_count": null,
   "metadata": {},
   "outputs": [],
   "source": [
    "fr_df = fr_df.loc[company_code_list]"
   ]
  },
  {
   "cell_type": "markdown",
   "metadata": {},
   "source": [
    "## calculate adequate price"
   ]
  },
  {
   "cell_type": "code",
   "execution_count": null,
   "metadata": {},
   "outputs": [],
   "source": [
    "fr_df = fr_df.replace('완전잠식', -1)\n",
    "fr_df = fr_df.replace('N/A', -1)\n",
    "fr_df = fr_df.replace('N/A(IFRS)', -1)\n",
    "\n",
    "\n",
    "\n",
    "result_df = basic_df\n",
    "\n",
    "\n",
    "total = len(fr_df)\n",
    "\n",
    "for num, code in enumerate(fr_df.index):\n",
    "    company_name = nq.get_company_name(code, companies)\n",
    "    print(str(num + 1) + ' / ' + str(total) + \" : \" + company_name + ' (' + str(code) + ')')\n",
    "\n",
    "    company_df = fr_df.loc[[code]]\n",
    "    \n",
    "    # get valid year list\n",
    "    valid_year_list = []\n",
    "    for col in reversed(company_df.columns.levels[0]):\n",
    "        roe = pd.to_numeric(company_df.loc[code][col]['ROE'])\n",
    "        net_profit = pd.to_numeric(company_df.loc[code][col]['지배주주지분']) * 100000000\n",
    "        if not pd.isna(roe) and not pd.isna(net_profit):\n",
    "            valid_year_list.append(col)\n",
    "    \n",
    "    if len(valid_year_list) == 0:\n",
    "        print('>>> no valid year')\n",
    "        continue\n",
    "\n",
    "    # get roa list    \n",
    "    rim_roa_list = []\n",
    "    for year in valid_year_list:\n",
    "        rim_roa = pd.to_numeric(company_df.loc[code][year]['RIM_ROA'])\n",
    "        rim_roa_list.append(str(rim_roa))\n",
    "        \n",
    "    roe_list = []\n",
    "    for year in valid_year_list:\n",
    "        roe = pd.to_numeric(company_df.loc[code][year]['ROE'])\n",
    "        roe_list.append(str(roe))\n",
    "    \n",
    "    recent_year = valid_year_list[0]\n",
    "    roe = pd.to_numeric(company_df.loc[code][recent_year]['ROE'])\n",
    "    roa = pd.to_numeric(company_df.loc[code][recent_year]['ROA'])\n",
    "    net_profit = pd.to_numeric(company_df.loc[code][recent_year]['지배주주지분']) * 100000000\n",
    "    per = pd.to_numeric(company_df.loc[code][recent_year]['PER'])\n",
    "    pbr = pd.to_numeric(company_df.loc[code][recent_year]['PBR'])\n",
    "    debt_rate = pd.to_numeric(company_df.loc[code][recent_year]['부채비율'])\n",
    "    keep_rate = pd.to_numeric(company_df.loc[code][recent_year]['유보율'])\n",
    "    interest_rate = pd.to_numeric(company_df.loc[code][recent_year]['배당수익률'])\n",
    "\n",
    "    result_df.at[code, '기준일'] = recent_year\n",
    "    result_df.at[code, 'valid_year_list'] = ','.join(valid_year_list)\n",
    "    result_df.at[code, 'roe'] = roe\n",
    "    result_df.at[code, 'roa'] = roa\n",
    "    result_df.at[code, 'rim_roa_list'] = ','.join(rim_roa_list)\n",
    "    result_df.at[code, 'roe_list'] = ','.join(roe_list)\n",
    "    result_df.at[code, 'per'] = per\n",
    "    result_df.at[code, 'pbr'] = pbr\n",
    "    result_df.at[code, '부채비율'] = debt_rate\n",
    "    result_df.at[code, '유보율'] = keep_rate\n",
    "    result_df.at[code, '배당수익률'] = interest_rate\n",
    "\n",
    "    result_df.at[code, 'base profit'] = base_profit_ratio\n",
    "    \n",
    "    stock_count = result_df.loc[code]['주식수']\n",
    "\n",
    "#             print('stock_count : ' + str(stock_count))\n",
    "    high = nq.get_more_adequate_price(net_profit, roe, base_profit_ratio, stock_count, 1)\n",
    "    result_df.at[code, 'high'] = high\n",
    "    middle = nq.get_more_adequate_price(net_profit, roe, base_profit_ratio, stock_count, 0.9)\n",
    "    result_df.at[code, 'middle'] = middle\n",
    "    low = nq.get_more_adequate_price(net_profit, roe, base_profit_ratio, stock_count, 0.8)\n",
    "    result_df.at[code, 'low'] = low\n",
    "    very_low = nq.get_more_adequate_price(net_profit, roe, base_profit_ratio, stock_count, 0.5)\n",
    "    result_df.at[code, 'very_low'] = very_low\n",
    "\n",
    "\n",
    "try:\n",
    "    result_df['dis_rate'] = result_df['price'] / result_df['low']\n",
    "    result_df = result_df.sort_values(by='dis_rate', ascending=True)\n",
    "except KeyError:\n",
    "    print('>>>>> KeyError')\n"
   ]
  },
  {
   "cell_type": "markdown",
   "metadata": {},
   "source": [
    "## 3년 동안 ROA 10 이상, 배당 수익률 1 이상  필터링"
   ]
  },
  {
   "cell_type": "code",
   "execution_count": null,
   "metadata": {},
   "outputs": [],
   "source": [
    "filtered_list = []\n",
    "for code in result_df.index:\n",
    "#     print(code)\n",
    "    company_df = result_df.loc[code]\n",
    "    if type(company_df['rim_roa_list']) != str:\n",
    "#         print(code + 'no roa list')\n",
    "        continue\n",
    "    roa_list = company_df['rim_roa_list'].split(',')\n",
    "    if len(roa_list) < 3:\n",
    "        continue\n",
    "        \n",
    "    bingo = True\n",
    "    for roa in roa_list:\n",
    "        if float(roa) < 10:\n",
    "            bingo = False\n",
    "            break\n",
    "    if bingo:\n",
    "        filtered_list.append(code)\n",
    "    \n",
    "# print(filtered_list)\n",
    "\n",
    "filtered_df = result_df.loc[filtered_list]\n",
    "filtered_df = filtered_df.loc[filtered_df['배당수익률'] >= 1]"
   ]
  },
  {
   "cell_type": "markdown",
   "metadata": {},
   "source": [
    "## 3년 동안 ROE 가 상향 중"
   ]
  },
  {
   "cell_type": "code",
   "execution_count": null,
   "metadata": {},
   "outputs": [],
   "source": [
    "filtered_list = []\n",
    "for code in filtered_df.index:\n",
    "#     print(code)\n",
    "    company_df = filtered_df.loc[code]\n",
    "    if type(company_df['roe_list']) != str:\n",
    "        print(code + 'no roe list')\n",
    "        continue\n",
    "    roe_list = company_df['roe_list'].split(',')\n",
    "    if len(roe_list) < 3:\n",
    "        continue\n",
    "        \n",
    "    new_roe_list = []\n",
    "    for roe in reversed(roe_list):\n",
    "        new_roe_list.append(float(roe))\n",
    "\n",
    "    if nq.generally_increasing(new_roe_list, 2):\n",
    "        filtered_list.append(code)\n",
    "    \n",
    "# print(filtered_list)\n",
    "\n",
    "filtered_df = filtered_df.loc[filtered_list]"
   ]
  },
  {
   "cell_type": "code",
   "execution_count": null,
   "metadata": {},
   "outputs": [],
   "source": [
    "filtered_df"
   ]
  },
  {
   "cell_type": "markdown",
   "metadata": {},
   "source": [
    "## make report"
   ]
  },
  {
   "cell_type": "code",
   "execution_count": null,
   "metadata": {},
   "outputs": [],
   "source": [
    "final_df = filtered_df\n",
    "final_df = final_df.loc[~final_df.index.str.startswith('A9')]\n",
    "final_df['dis_rate'] = final_df['price'] / final_df['low']\n",
    "final_df = final_df.sort_values(by='dis_rate', ascending=True)"
   ]
  },
  {
   "cell_type": "code",
   "execution_count": null,
   "metadata": {},
   "outputs": [],
   "source": [
    "final_df['rank'] = final_df['dis_rate'].rank()"
   ]
  },
  {
   "cell_type": "code",
   "execution_count": null,
   "metadata": {},
   "outputs": [],
   "source": [
    "final_df = final_df.loc[final_df['roe'] > 0]"
   ]
  },
  {
   "cell_type": "code",
   "execution_count": null,
   "metadata": {},
   "outputs": [],
   "source": [
    "final_df"
   ]
  },
  {
   "cell_type": "markdown",
   "metadata": {},
   "source": [
    "## save all data"
   ]
  },
  {
   "cell_type": "code",
   "execution_count": null,
   "metadata": {},
   "outputs": [],
   "source": [
    "final_df.to_excel(r'data/s_rim_roa_filtered.xlsx')"
   ]
  },
  {
   "cell_type": "markdown",
   "metadata": {},
   "source": [
    "## filtering"
   ]
  },
  {
   "cell_type": "code",
   "execution_count": null,
   "metadata": {},
   "outputs": [],
   "source": [
    "final_df = final_df.loc[final_df['dis_rate'] > 0.1]\n",
    "final_df = final_df.loc[final_df['dis_rate'] < 1]\n",
    "final_df = final_df.loc[final_df['roe'] > final_df['expectation']]"
   ]
  },
  {
   "cell_type": "code",
   "execution_count": null,
   "metadata": {},
   "outputs": [],
   "source": [
    "final_df = final_df.loc[final_df['roe'] > 10]\n",
    "final_df = final_df.loc[final_df['roe'] < 100]\n",
    "final_df = final_df.loc[final_df['시가총액'] > 1000 * 100000000]"
   ]
  },
  {
   "cell_type": "code",
   "execution_count": null,
   "metadata": {},
   "outputs": [],
   "source": [
    "final_df = final_df.loc[final_df['배당수익률'] > 1]"
   ]
  },
  {
   "cell_type": "code",
   "execution_count": null,
   "metadata": {},
   "outputs": [],
   "source": [
    "final_df = final_df.loc[~final_df['name'].str.contains('홀딩스')]"
   ]
  },
  {
   "cell_type": "code",
   "execution_count": null,
   "metadata": {},
   "outputs": [],
   "source": [
    "final_df = final_df.loc[final_df['roe'] > 10]"
   ]
  },
  {
   "cell_type": "code",
   "execution_count": null,
   "metadata": {},
   "outputs": [],
   "source": [
    "len(final_df)"
   ]
  },
  {
   "cell_type": "markdown",
   "metadata": {},
   "source": [
    "## save port"
   ]
  },
  {
   "cell_type": "code",
   "execution_count": null,
   "metadata": {},
   "outputs": [],
   "source": [
    "final_df.to_excel(r'data/s_rim_roa_filtered.xlsx')"
   ]
  },
  {
   "cell_type": "markdown",
   "metadata": {},
   "source": [
    "## load port"
   ]
  },
  {
   "cell_type": "code",
   "execution_count": null,
   "metadata": {},
   "outputs": [],
   "source": [
    "# port_df = pd.read_excel(r'data/port_data.xlsx')\n",
    "port_df = pd.read_excel(r'data/s_rim_roa_filtered.xlsx')\n",
    "port_df.index = port_df[port_df.columns[0]]\n",
    "port_df.index.name = ''\n",
    "port_df.drop(port_df.columns[0], axis = 1, inplace = True)"
   ]
  }
 ],
 "metadata": {
  "kernelspec": {
   "display_name": "Python 3",
   "language": "python",
   "name": "python3"
  },
  "language_info": {
   "codemirror_mode": {
    "name": "ipython",
    "version": 3
   },
   "file_extension": ".py",
   "mimetype": "text/x-python",
   "name": "python",
   "nbconvert_exporter": "python",
   "pygments_lexer": "ipython3",
   "version": "3.7.3"
  }
 },
 "nbformat": 4,
 "nbformat_minor": 2
}
